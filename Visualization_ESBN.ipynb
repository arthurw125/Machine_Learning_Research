{
 "cells": [
  {
   "cell_type": "code",
   "execution_count": 12,
   "id": "1374901f-32ad-457b-afc4-26d8a298951b",
   "metadata": {},
   "outputs": [],
   "source": [
    "from dist3 import create_task\n",
    "import numpy as np\n",
    "import pandas as pd\n",
    "import matplotlib.pyplot as plt\n",
    "from PIL import Image\n",
    "%matplotlib inline\n",
    "from IPython.display import display"
   ]
  },
  {
   "cell_type": "code",
   "execution_count": 5,
   "id": "ac4a3498-a270-4afe-a557-1e98a54b6cfa",
   "metadata": {},
   "outputs": [],
   "source": [
    "def dist3_ESBN_task():\n",
    "    training_set,test_set = create_task()\n",
    "    # Load images\n",
    "    all_imgs = []\n",
    "    n_shapes = 100\n",
    "    for i in range(n_shapes):\n",
    "        img_fname = '/home/asw3x/emergent_symbols/imgs/' + str(i) + '.png'\n",
    "        #img = torch.Tensor(np.array(Image.open(img_fname))) / 255.\n",
    "        img = np.array(Image.open(img_fname)) #/ 255.\n",
    "        all_imgs.append(img)\n",
    "    #all_imgs = torch.stack(all_imgs, 0)\n",
    "    all_imgs = np.stack(all_imgs,axis=0)\n",
    "    # Create training and test sets\n",
    "    train = training_set['seq_ind']\n",
    "    test = test_set['seq_ind']\n",
    "    X_train = all_imgs[train,:,:]\n",
    "    X_test = all_imgs[test,:,:]\n",
    "    Y_train = training_set['y']\n",
    "    Y_test = test_set['y']\n",
    "    \n",
    "    train_set = {'img_seq': X_train, 'y': Y_train}\n",
    "    test_set = {'img_seq': X_test, 'y': Y_test}\n",
    "    return train_set, test_set"
   ]
  },
  {
   "cell_type": "code",
   "execution_count": 6,
   "id": "df2faf46-f5a1-47ac-90c6-b72fbfa8d6d0",
   "metadata": {},
   "outputs": [
    {
     "name": "stderr",
     "output_type": "stream",
     "text": [
      "\u001b[37m\u001b[01m[2021-05-20 17:26:29,351] n_shapes = 100...\u001b[0m\n",
      "\u001b[37m\u001b[01m[2021-05-20 17:26:29,352] m_holdout = 0...\u001b[0m\n",
      "\u001b[37m\u001b[01m[2021-05-20 17:26:29,352] Total possible trials = 5821200...\u001b[0m\n",
      "\u001b[37m\u001b[01m[2021-05-20 17:26:29,353] Training set size = 10000...\u001b[0m\n",
      "\u001b[37m\u001b[01m[2021-05-20 17:26:29,353] Test set size = 10000...\u001b[0m\n"
     ]
    }
   ],
   "source": [
    "training_set,test_set = dist3_ESBN_task()"
   ]
  },
  {
   "cell_type": "code",
   "execution_count": 7,
   "id": "acb2d0a1-04d1-4eb6-b659-ad2d1af20331",
   "metadata": {},
   "outputs": [
    {
     "data": {
      "text/plain": [
       "(10000, 9, 32, 32)"
      ]
     },
     "execution_count": 7,
     "metadata": {},
     "output_type": "execute_result"
    }
   ],
   "source": [
    "training_set['img_seq'].shape"
   ]
  },
  {
   "cell_type": "code",
   "execution_count": 8,
   "id": "05bd5855-f263-45c3-949b-f1c0bd64b539",
   "metadata": {},
   "outputs": [
    {
     "data": {
      "text/plain": [
       "(10000,)"
      ]
     },
     "execution_count": 8,
     "metadata": {},
     "output_type": "execute_result"
    }
   ],
   "source": [
    "training_set['y'].shape"
   ]
  },
  {
   "cell_type": "code",
   "execution_count": 10,
   "id": "6c8b147f-ea8e-46af-8c5f-7b517de777a8",
   "metadata": {},
   "outputs": [],
   "source": [
    "X, y = training_set['img_seq'],training_set['y']"
   ]
  },
  {
   "cell_type": "code",
   "execution_count": 15,
   "id": "3ae15ba1-ce60-488d-b61e-392495b28e20",
   "metadata": {},
   "outputs": [],
   "source": [
    "square_img = np.zeros((32,32))\n",
    "for a in range(32):\n",
    "    for b in range(32):\n",
    "        if a == 0 or a == 31 or b == 0 or b == 31:\n",
    "            square_img[a,b] = 1"
   ]
  },
  {
   "cell_type": "code",
   "execution_count": 16,
   "id": "d409e7ae-068e-4385-b1fa-ca0e3e66a113",
   "metadata": {},
   "outputs": [
    {
     "data": {
      "text/plain": [
       "(32, 32)"
      ]
     },
     "execution_count": 16,
     "metadata": {},
     "output_type": "execute_result"
    }
   ],
   "source": [
    "square_img.shape"
   ]
  },
  {
   "cell_type": "code",
   "execution_count": 17,
   "id": "f0a9affa-6660-4409-80f6-8a1883b4eb60",
   "metadata": {},
   "outputs": [
    {
     "data": {
      "text/plain": [
       "array([[1., 1., 1., ..., 1., 1., 1.],\n",
       "       [1., 0., 0., ..., 0., 0., 1.],\n",
       "       [1., 0., 0., ..., 0., 0., 1.],\n",
       "       ...,\n",
       "       [1., 0., 0., ..., 0., 0., 1.],\n",
       "       [1., 0., 0., ..., 0., 0., 1.],\n",
       "       [1., 1., 1., ..., 1., 1., 1.]])"
      ]
     },
     "execution_count": 17,
     "metadata": {},
     "output_type": "execute_result"
    }
   ],
   "source": [
    "square_img"
   ]
  },
  {
   "cell_type": "code",
   "execution_count": 40,
   "id": "f423686a-1931-4d57-80c5-24099d395f94",
   "metadata": {},
   "outputs": [
    {
     "data": {
      "image/png": "[encoded data removed]",
      "text/plain": [
       "<Figure size 720x720 with 4 Axes>"
      ]
     },
     "metadata": {
      "needs_background": "light"
     },
     "output_type": "display_data"
    }
   ],
   "source": [
    "plt.figure(figsize=(10, 10))\n",
    "\n",
    "for i in range(5):\n",
    "    ax = plt.subplot(3, 3, i + 1)\n",
    "    #plt.imshow(image.array_to_img(X[i,:,:,:]))\n",
    "    if i == 5:\n",
    "        plt.imshow(square_img)\n",
    "        continue\n",
    "    plt.imshow(X[0,i,:,:])\n",
    "    #plt.title(\"Male, \"+img_ids[i] if int(my_labels[i]) == 1 else \"Female, \"+img_ids[i])\n",
    "    plt.axis(\"off\")\n",
    "\n",
    "for i,i2 in zip(range(5,9),range(4)):\n",
    "    ax1 = plt.subplot(1, 4, i2 + 1)\n",
    "    #plt.imshow(image.array_to_img(X[i,:,:,:]))\n",
    "    \n",
    "    plt.imshow(X[0,i,:,:])\n",
    "    #plt.title(\"Male, \"+img_ids[i] if int(my_labels[i]) == 1 else \"Female, \"+img_ids[i])\n",
    "    plt.axis(\"off\")\n",
    "\n",
    "plt.savefig(\"dist3_v1\")"
   ]
  },
  {
   "cell_type": "code",
   "execution_count": 66,
   "id": "2846e11e-bdfa-49a1-b2ef-77ba6ba0287b",
   "metadata": {},
   "outputs": [
    {
     "data": {
      "image/png": "[encoded data removed]",
      "text/plain": [
       "<Figure size 432x288 with 12 Axes>"
      ]
     },
     "metadata": {
      "needs_background": "light"
     },
     "output_type": "display_data"
    }
   ],
   "source": [
    "fig3 = plt.figure(constrained_layout=True)\n",
    "gs = fig3.add_gridspec(nrows=3, ncols=4)\n",
    "k = 0\n",
    "for i in range(2):\n",
    "    for j in range(3):\n",
    "        f3_ax1 = fig3.add_subplot(gs[i, j])\n",
    "        if i == 1 and j == 2:\n",
    "            f3_ax1.imshow(square_img)\n",
    "        else:\n",
    "            f3_ax1.imshow(X[2,k,:,:])\n",
    "        #plt.title(\"Male, \"+img_ids[i] if int(my_labels[i]) == 1 else \"Female, \"+img_ids[i])\n",
    "        plt.axis(\"off\")\n",
    "        k += 1\n",
    "k -= 1\n",
    "for i in range(4):\n",
    "    f3_ax1 = fig3.add_subplot(gs[2, i])\n",
    "    f3_ax1.imshow(X[2,k,:,:])\n",
    "    if i == y[2]:\n",
    "        f3_ax1.annotate(\"answer\", (0.3, 0.1), xycoords='axes fraction', va='center')\n",
    "    plt.axis(\"off\")\n",
    "    k += 1\n",
    "plt.savefig(\"dist3_v2\")"
   ]
  },
  {
   "cell_type": "code",
   "execution_count": 55,
   "id": "8706b8b0-9b78-4d7e-8232-1e8ba65d5be0",
   "metadata": {},
   "outputs": [
    {
     "data": {
      "text/plain": [
       "3"
      ]
     },
     "execution_count": 55,
     "metadata": {},
     "output_type": "execute_result"
    }
   ],
   "source": [
    "y[0]"
   ]
  },
  {
   "cell_type": "code",
   "execution_count": null,
   "id": "b0dc9fc0-77b8-4e8b-a679-f70a3f4a22dd",
   "metadata": {},
   "outputs": [],
   "source": []
  }
 ],
 "metadata": {
  "kernelspec": {
   "display_name": "Python 3 (λ)",
   "language": "python",
   "name": "lambda-stack"
  },
  "language_info": {
   "codemirror_mode": {
    "name": "ipython",
    "version": 3
   },
   "file_extension": ".py",
   "mimetype": "text/x-python",
   "name": "python",
   "nbconvert_exporter": "python",
   "pygments_lexer": "ipython3",
   "version": "3.8.5"
  }
 },
 "nbformat": 4,
 "nbformat_minor": 5
}
