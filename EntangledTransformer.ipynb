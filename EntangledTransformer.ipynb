{
 "cells": [
  {
   "cell_type": "markdown",
   "metadata": {},
   "source": [
    "# Open Lab 8\n",
    "## CSCI 4850-5850 - Neural Networks\n",
    "### Due: Apr. 16 @ 11:00pm"
   ]
  },
  {
   "cell_type": "markdown",
   "metadata": {},
   "source": [
    "# General Sequence-to-Sequence Mappings\n",
    "\n",
    "Many times, we want to map an *arbitrary length* sequence to another *arbitrary length* sequence for a machine learning task. The most common example would probably be machine translation where the number of characters/words used to encode a sentence in one language rarely matches with the number of characters/works used to encode a sentence with the same meaning in another language. Thus, the many-to-many mapping used by the simple recurrent network used previously in lecture would not be approprite.\n",
    "\n",
    "In order to accomplish this task, the most common architecture used at this time is the *encoder-decoder* framework. First, we build an *encoder* network which takes an arbitrary length input sequence, and **encodes a distributed representation** of that input sequence using the hidden layer of a recurrent network. This is similar to a standard many-to-many recurrent network, except there is *no output layer for the encoder*. Instead, the input sequence information is simply folded into the *recurrent* hidden layer activation pattern at each time step. Once the encoder finishes generating this *gestalt* representation (created using the the entire input sequence), it is fed into a *decoder* network which translates the *gestalt* representation into the corresponding output sequence using another recurrent hidden layer and time-distributed output layer. Special *start* and *stop* patterns are used to encode for the starting and ending points of target sequences during training. Therefore, the *decoder* network learns to indicate when it is ready to start and finish a particular output sequence. Using its two subnetworks, the encoder-decoder framework forms a general sequence-to-sequence learning framework.\n",
    "\n",
    "In order to illustrate how to build and train an encoder-decoder network, we will utilize the parity task from the simple recurrent network example. Even though the sequence lengths are the same for both the input and output for this task, we can still utilize it to illustrate the core concepts involved. Also, we will be using long short-term memory for the recurrent layers of these networks to show their effectiveness at learning these kinds of tasks."
   ]
  },
  {
   "cell_type": "code",
   "execution_count": 1,
   "metadata": {},
   "outputs": [],
   "source": [
    "# Import what we need for the job...\n",
    "import tensorflow as tf\n",
    "import tensorflow_addons as tfa\n",
    "import tensorflow.keras as keras\n",
    "\n",
    "import numpy as np\n",
    "\n",
    "import matplotlib.pyplot as plt\n",
    "%matplotlib inline\n",
    "\n",
    "# Visualization\n",
    "from IPython.display import display"
   ]
  },
  {
   "cell_type": "code",
   "execution_count": 2,
   "metadata": {},
   "outputs": [],
   "source": [
    "strategy = tf.distribute.OneDeviceStrategy('gpu:0')\n",
    "# strategy = tf.distribute.MirroredStrategy()"
   ]
  },
  {
   "cell_type": "markdown",
   "metadata": {},
   "source": [
    "Let's create the parity problem again, but we need to encode the input and target sequences a bit more generically this time to show how the process might be generalized to other types of sequence processing domains.\n",
    "\n",
    "One key idea is that we need to map our possible sequence elements into a **one-hot encoded dictionary** which will be useful for arbitray sequence specification for both the encoder and decoder parts of the network. We will use the following mapping:\n",
    "\n",
    "Input Sequences:\n",
    "\n",
    "| Symbol | One-hot Encoding |\n",
    "| --- | --- |\n",
    "| `0` | `10` |\n",
    "| `1` | `01` |\n",
    "\n",
    "Ouput Sequences:\n",
    "\n",
    "| Symbol | One-hot Encoding |\n",
    "| --- | --- |\n",
    "| `0` | `1000` |\n",
    "| `1` | `0100` |\n",
    "| start | `0010` |\n",
    "| stop  | `0001` |\n",
    "\n",
    "This encoding will necessarily make the problem easier to solve (0 is now mapped to a meaningful orthogonal dimension to the other symbols), but more importantly, it shows how each symbol in the input/output sequences needs an orthogonal dimension in the encoded form. Other distributed codes may also work, but high dot product similarity between vectors in a chosen encoding scheme may affect the network's learning capabilities in unpredictable ways (more than likely negative). Also, it should be clear here that we don't even need to have the same *symbols* in the encoder and decoder networks. They can be arbitrary mappings in both time and space, which makes this a powerful, flexible approach.\n",
    "\n",
    "OK, so let's generate a large set of training and testing sequences for the network to experience on this task..."
   ]
  },
  {
   "cell_type": "code",
   "execution_count": 3,
   "metadata": {},
   "outputs": [],
   "source": [
    "# Length of sequences to model\n",
    "length = 10\n",
    "padded_length = 20\n",
    "\n",
    "# Note we are making these the same, but they don't -have- to be!\n",
    "input_length = padded_length\n",
    "output_length = padded_length\n",
    "\n",
    "# Vocabulary sizes...\n",
    "encoder_vocab_size = 3 # blank, 0, 1\n",
    "decoder_vocab_size = 5 # blank, 0, 1, start, stop"
   ]
  },
  {
   "cell_type": "markdown",
   "metadata": {},
   "source": [
    "As a good rule of thumb, we just want to **create a network and train it to learn just a single example first**. After that, we can extend it to a larger data set."
   ]
  },
  {
   "cell_type": "code",
   "execution_count": 4,
   "metadata": {},
   "outputs": [
    {
     "data": {
      "text/plain": [
       "array([[0., 1., 0., 0., 1., 1., 0., 0., 1., 0.]])"
      ]
     },
     "execution_count": 4,
     "metadata": {},
     "output_type": "execute_result"
    }
   ],
   "source": [
    "# Generate a random string of 0s and 1s\n",
    "x_train = np.round(np.random.uniform(0,1,[length])).reshape([1,length])\n",
    "x_train"
   ]
  },
  {
   "cell_type": "code",
   "execution_count": 5,
   "metadata": {},
   "outputs": [],
   "source": [
    "# Calculate parity (note this is the same algorithmic approach\n",
    "# that we are trying to encourage our net to learn!)\n",
    "def parity(x):\n",
    "    temp = np.zeros(x.shape)\n",
    "    mem = temp[:,0] > 0.5 # Initially even\n",
    "    # Iterate over the sequence\n",
    "    for i in range(x.shape[1]):\n",
    "        mem = np.logical_xor(mem,x[:,i] > 0.5)\n",
    "        temp[:,i] = mem\n",
    "    return temp"
   ]
  },
  {
   "cell_type": "code",
   "execution_count": 6,
   "metadata": {},
   "outputs": [
    {
     "data": {
      "text/plain": [
       "array([[0., 1., 1., 1., 0., 1., 1., 1., 0., 0.]])"
      ]
     },
     "execution_count": 6,
     "metadata": {},
     "output_type": "execute_result"
    }
   ],
   "source": [
    "y_train = parity(x_train)\n",
    "y_train"
   ]
  },
  {
   "cell_type": "markdown",
   "metadata": {},
   "source": [
    "Let's turn these into a set of encoded input-output vectors using the transformation above."
   ]
  },
  {
   "cell_type": "code",
   "execution_count": 7,
   "metadata": {},
   "outputs": [
    {
     "data": {
      "text/plain": [
       "array([[0., 1., 0., 0., 1., 1., 0., 0., 1., 0.]])"
      ]
     },
     "execution_count": 7,
     "metadata": {},
     "output_type": "execute_result"
    }
   ],
   "source": [
    "X = x_train # No modification\n",
    "X"
   ]
  },
  {
   "cell_type": "code",
   "execution_count": 8,
   "metadata": {},
   "outputs": [
    {
     "data": {
      "text/plain": [
       "array([[2., 0., 1., 1., 1., 0., 1., 1., 1., 0., 0., 3.]])"
      ]
     },
     "execution_count": 8,
     "metadata": {},
     "output_type": "execute_result"
    }
   ],
   "source": [
    "Y = np.vstack([np.hstack([[2],y,[3]]) for y in y_train])\n",
    "Y"
   ]
  },
  {
   "cell_type": "markdown",
   "metadata": {},
   "source": [
    "Also, note the shapes of the sequences..."
   ]
  },
  {
   "cell_type": "code",
   "execution_count": 9,
   "metadata": {},
   "outputs": [
    {
     "data": {
      "text/plain": [
       "(1, 10)"
      ]
     },
     "execution_count": 9,
     "metadata": {},
     "output_type": "execute_result"
    }
   ],
   "source": [
    "X.shape"
   ]
  },
  {
   "cell_type": "code",
   "execution_count": 10,
   "metadata": {},
   "outputs": [
    {
     "data": {
      "text/plain": [
       "(1, 12)"
      ]
     },
     "execution_count": 10,
     "metadata": {},
     "output_type": "execute_result"
    }
   ],
   "source": [
    "Y.shape"
   ]
  },
  {
   "cell_type": "markdown",
   "metadata": {},
   "source": [
    "We will need to divide the target data into two groups which correspond to the input-target pairs for the *decoder* network. In essence, the decoder network is really just a many-to-many recurrent network, and will be trying to predict the next part of the target sequence (`postY`) given *both* the encoder output representation *and* the previous target sequence entry (`preY`). This previous target sequence entry is not strictly necessary, but using it represents a training strategy called *teacher forcing* which makes it easier to learn some sequences."
   ]
  },
  {
   "cell_type": "code",
   "execution_count": 11,
   "metadata": {},
   "outputs": [],
   "source": [
    "# 12 time steps total (10 + start + stop)\n",
    "# Divide into two groups of 11\n",
    "# First from 0 ... 10\n",
    "preY = Y[:,0:length+1]\n",
    "# Second from 1 ... 11\n",
    "postY = Y[:,1:length+2]"
   ]
  },
  {
   "cell_type": "code",
   "execution_count": 12,
   "metadata": {},
   "outputs": [
    {
     "data": {
      "text/plain": [
       "(1, 11)"
      ]
     },
     "execution_count": 12,
     "metadata": {},
     "output_type": "execute_result"
    }
   ],
   "source": [
    "preY.shape"
   ]
  },
  {
   "cell_type": "code",
   "execution_count": 13,
   "metadata": {},
   "outputs": [
    {
     "data": {
      "text/plain": [
       "(1, 11)"
      ]
     },
     "execution_count": 13,
     "metadata": {},
     "output_type": "execute_result"
    }
   ],
   "source": [
    "postY.shape"
   ]
  },
  {
   "cell_type": "code",
   "execution_count": 14,
   "metadata": {},
   "outputs": [],
   "source": [
    "def add_padding(x,length):\n",
    "    temp = np.zeros([x.shape[0],length])\n",
    "    temp[:,0:x.shape[1]] = x+1\n",
    "    return temp"
   ]
  },
  {
   "cell_type": "code",
   "execution_count": 15,
   "metadata": {},
   "outputs": [
    {
     "name": "stdout",
     "output_type": "stream",
     "text": [
      "[[1. 2. 1. 1. 2. 2. 1. 1. 2. 1. 0. 0. 0. 0. 0. 0. 0. 0. 0. 0.]]\n",
      "[[3. 1. 2. 2. 2. 1. 2. 2. 2. 1. 1. 0. 0. 0. 0. 0. 0. 0. 0. 0.]]\n",
      "[[1. 2. 2. 2. 1. 2. 2. 2. 1. 1. 4. 0. 0. 0. 0. 0. 0. 0. 0. 0.]]\n"
     ]
    }
   ],
   "source": [
    "X = add_padding(X,input_length)\n",
    "preY = add_padding(preY,output_length)\n",
    "postY = add_padding(postY,output_length)\n",
    "print(X)\n",
    "print(preY)\n",
    "print(postY)"
   ]
  },
  {
   "cell_type": "markdown",
   "metadata": {},
   "source": [
    "OK, let's make an encoder-decoder framework for learning this sequence. We need to use the Keras *functional* API for building this network as well. To create networks of this kind, we first create `layer` objects and then call their `()` functions to make them take inputs from the provided layers' outputs. This allows for networks to receieve input from more than one layer at a time, or pass their outputs to more than one layer at a time. Once all of the layers have been connected in the desired ways, then we create a `Model` object used to specify the input and output layers for the overall model. This allows for more general network topologies to be constructed than can be achieved with the *sequential* API.\n",
    "\n",
    "Generally, the process looks like the following pseudocode:\n",
    "1. mylayer = Layer(...)\n",
    "2. mylayer_output(s) = mylayer(input_layer(s))\n",
    "3. Provide mylayer_output(s) as the input_layer(s) to another layer (going back to step 1 as many times as needed)\n",
    "4. model = Model(input_layer(s), output_layers())\n",
    "5. Compile and run the new model...\n",
    "\n",
    "In this way, outputs from a layer may be passed as inputs to other layers for chaining layers together. The final model is specified by giving it only the input and output layers since all intervening layers were connected together at the previous stage (they are implicitly incorporated into the model)."
   ]
  },
  {
   "cell_type": "code",
   "execution_count": 16,
   "metadata": {},
   "outputs": [],
   "source": [
    "class TransformerBlock(keras.layers.Layer):\n",
    "    def __init__(self, embed_dim, num_heads, ff_dim, rate=0.1):\n",
    "        super(TransformerBlock, self).__init__()\n",
    "        self.att = keras.layers.MultiHeadAttention(num_heads=num_heads,\n",
    "                                                   key_dim=embed_dim)\n",
    "        self.ffn = keras.Sequential(\n",
    "            [keras.layers.Dense(ff_dim, activation=\"gelu\"),\n",
    "             keras.layers.Dense(embed_dim),]\n",
    "        )\n",
    "        self.layernorm1 = keras.layers.LayerNormalization(epsilon=1e-6)\n",
    "        self.layernorm2 = keras.layers.LayerNormalization(epsilon=1e-6)\n",
    "        self.dropout1 = keras.layers.Dropout(rate)\n",
    "        self.dropout2 = keras.layers.Dropout(rate)\n",
    "\n",
    "    def call(self, inputs, training):\n",
    "        attn_output = self.att(inputs, inputs)\n",
    "        attn_output = self.dropout1(attn_output, training=training)\n",
    "        out1 = self.layernorm1(inputs + attn_output)\n",
    "        ffn_output = self.ffn(out1)\n",
    "        ffn_output = self.dropout2(ffn_output, training=training)\n",
    "        return self.layernorm2(out1 + ffn_output)\n"
   ]
  },
  {
   "cell_type": "code",
   "execution_count": 17,
   "metadata": {},
   "outputs": [],
   "source": [
    "class EntangledTransformerBlock(keras.layers.Layer):\n",
    "    def __init__(self, embed_dim, num_heads, ff_dim, rate=0.1):\n",
    "        super(TransformerBlock, self).__init__()\n",
    "        self.att1 = keras.layers.MultiHeadAttention(num_heads=num_heads,\n",
    "                                                    key_dim=embed_dim)\n",
    "        self.att2 = keras.layers.MultiHeadAttention(num_heads=num_heads,\n",
    "                                                    key_dim=embed_dim)\n",
    "        self.ffn = keras.Sequential(\n",
    "            [keras.layers.Dense(ff_dim, activation=\"gelu\"),\n",
    "             keras.layers.Dense(embed_dim),]\n",
    "        )\n",
    "        self.layernorm1 = keras.layers.LayerNormalization(epsilon=1e-6)\n",
    "        self.layernorm2 = keras.layers.LayerNormalization(epsilon=1e-6)\n",
    "        self.dropout1 = keras.layers.Dropout(rate)\n",
    "        self.dropout2 = keras.layers.Dropout(rate)\n",
    "\n",
    "    def call(self, inputs, training):\n",
    "        attn_output = self.att(inputs, inputs)\n",
    "        attn_output = self.dropout1(attn_output, training=training)\n",
    "        out1 = self.layernorm1(inputs + attn_output)\n",
    "        ffn_output = self.ffn(out1)\n",
    "        ffn_output = self.dropout2(ffn_output, training=training)\n",
    "        return self.layernorm2(out1 + ffn_output)\n"
   ]
  },
  {
   "cell_type": "code",
   "execution_count": 18,
   "metadata": {},
   "outputs": [],
   "source": [
    "class MaskedTransformerBlock(keras.layers.Layer):\n",
    "    def __init__(self, embed_dim, num_heads, ff_dim, rate=0.1):\n",
    "        super(MaskedTransformerBlock, self).__init__()\n",
    "        self.att1 = keras.layers.MultiHeadAttention(num_heads=num_heads,\n",
    "                                                    key_dim=embed_dim)\n",
    "        self.att2 = keras.layers.MultiHeadAttention(num_heads=num_heads,\n",
    "                                                    key_dim=embed_dim)\n",
    "        self.ffn = keras.Sequential(\n",
    "            [keras.layers.Dense(ff_dim, activation=\"gelu\"),\n",
    "             keras.layers.Dense(embed_dim),]\n",
    "        )\n",
    "        self.layernorm1 = keras.layers.LayerNormalization(epsilon=1e-6)\n",
    "        self.layernorm2 = keras.layers.LayerNormalization(epsilon=1e-6)\n",
    "        self.layernorm3 = keras.layers.LayerNormalization(epsilon=1e-6)\n",
    "        self.dropout1 = keras.layers.Dropout(rate)\n",
    "        self.dropout2 = keras.layers.Dropout(rate)\n",
    "        self.dropout3 = keras.layers.Dropout(rate)\n",
    "        \n",
    "    def causal_attention_mask(self, batch_size, n_dest, n_src, dtype):\n",
    "        \"\"\"Masks the upper half of the dot product matrix in self attention.\n",
    "        This prevents flow of information from future tokens to current token.\n",
    "        1's in the lower triangle, counting from the lower right corner.\n",
    "        \"\"\"\n",
    "        i = tf.range(n_dest)[:, None]\n",
    "        j = tf.range(n_src)\n",
    "        m = i >= j - n_src + n_dest\n",
    "        mask = tf.cast(m, dtype)\n",
    "        mask = tf.reshape(mask, [1, n_dest, n_src])\n",
    "        mult = tf.concat(\n",
    "            [tf.expand_dims(batch_size, -1), tf.constant([1, 1], dtype=tf.int32)], 0\n",
    "        )\n",
    "        return tf.tile(mask, mult)\n",
    "\n",
    "    def call(self, inputs, training):\n",
    "        input_shape = tf.shape(inputs[0])\n",
    "        batch_size = input_shape[0]\n",
    "        seq_len = input_shape[1]\n",
    "        mask = self.causal_attention_mask(batch_size,\n",
    "                                         seq_len, seq_len,\n",
    "                                         tf.bool)\n",
    "        # mask = tf.linalg.band_part(tf.ones((seq_len, seq_len)), -1, 0)\n",
    "        attn_output1 = self.att1(inputs[0], inputs[0],\n",
    "                                 attention_mask = mask)\n",
    "        attn_output1 = self.dropout1(attn_output1, training=training)\n",
    "        out1 = self.layernorm1(inputs[0] + attn_output1)\n",
    "        attn_output2 = self.att2(out1, inputs[1])\n",
    "        attn_output2 = self.dropout2(attn_output2, training=training)\n",
    "        out2 = self.layernorm1(out1 + attn_output2)\n",
    "        ffn_output = self.ffn(out2)\n",
    "        ffn_output = self.dropout3(ffn_output, training=training)\n",
    "        return self.layernorm2(out2 + ffn_output)\n"
   ]
  },
  {
   "cell_type": "code",
   "execution_count": 19,
   "metadata": {},
   "outputs": [],
   "source": [
    "class MaskedTokenAndPositionEmbedding(keras.layers.Layer):\n",
    "    def __init__(self, maxlen, vocab_size, embed_dim):\n",
    "        super(MaskedTokenAndPositionEmbedding, self).__init__()\n",
    "        self.token_emb = keras.layers.Embedding(input_dim=vocab_size,\n",
    "                                                output_dim=embed_dim,\n",
    "                                                mask_zero=True)\n",
    "        self.pos_emb = keras.layers.Embedding(input_dim=maxlen+1,\n",
    "                                              output_dim=embed_dim,\n",
    "                                              mask_zero=True)\n",
    "\n",
    "    def call(self, x):\n",
    "        maxlen = tf.shape(x)[-1]\n",
    "        positions = tf.range(start=1, limit=maxlen+1, delta=1)\n",
    "        positions = positions * tf.cast(tf.sign(x),tf.int32)\n",
    "        positions = self.pos_emb(positions)\n",
    "        x = self.token_emb(x)\n",
    "        return x + positions\n"
   ]
  },
  {
   "cell_type": "code",
   "execution_count": 20,
   "metadata": {},
   "outputs": [],
   "source": [
    "loss_object = tf.keras.losses.SparseCategoricalCrossentropy(\n",
    "    from_logits=True, reduction='none')\n",
    "\n",
    "def MaskedSparseCategoricalCrossentropy(real, pred):\n",
    "    mask = tf.math.logical_not(tf.math.equal(real, 0))\n",
    "    loss_ = loss_object(real, pred)\n",
    "    mask = tf.cast(mask, dtype=loss_.dtype)\n",
    "    loss_ *= mask\n",
    "    return tf.reduce_sum(loss_)/tf.reduce_sum(mask)\n",
    "\n",
    "def MaskedSparseCategoricalAccuracy(real, pred):\n",
    "    accuracies = tf.equal(tf.cast(real,tf.int64), tf.argmax(pred, axis=2))\n",
    "    mask = tf.math.logical_not(tf.math.equal(real, 0))\n",
    "    accuracies = tf.math.logical_and(mask, accuracies)\n",
    "    accuracies = tf.cast(accuracies, dtype=tf.float32)\n",
    "    mask = tf.cast(mask, dtype=tf.float32)\n",
    "    return tf.reduce_sum(accuracies)/tf.reduce_sum(mask)\n"
   ]
  },
  {
   "cell_type": "code",
   "execution_count": 21,
   "metadata": {},
   "outputs": [
    {
     "name": "stdout",
     "output_type": "stream",
     "text": [
      "Model: \"model\"\n",
      "__________________________________________________________________________________________________\n",
      "Layer (type)                    Output Shape         Param #     Connected to                     \n",
      "==================================================================================================\n",
      "input_1 (InputLayer)            [(None, None)]       0                                            \n",
      "__________________________________________________________________________________________________\n",
      "input_2 (InputLayer)            [(None, None)]       0                                            \n",
      "__________________________________________________________________________________________________\n",
      "masked_token_and_position_embed (None, None, 32)     768         input_1[0][0]                    \n",
      "__________________________________________________________________________________________________\n",
      "masked_token_and_position_embed (None, None, 32)     832         input_2[0][0]                    \n",
      "__________________________________________________________________________________________________\n",
      "transformer_block (TransformerB (None, None, 32)     19040       masked_token_and_position_embeddi\n",
      "__________________________________________________________________________________________________\n",
      "masked_transformer_block (Maske (None, None, 32)     35840       masked_token_and_position_embeddi\n",
      "                                                                 transformer_block[0][0]          \n",
      "__________________________________________________________________________________________________\n",
      "dense_4 (Dense)                 (None, None, 5)      165         masked_transformer_block[0][0]   \n",
      "==================================================================================================\n",
      "Total params: 56,645\n",
      "Trainable params: 56,645\n",
      "Non-trainable params: 0\n",
      "__________________________________________________________________________________________________\n"
     ]
    }
   ],
   "source": [
    "# Size of the gestalt, context representations...\n",
    "embed_dim = 32  # Embedding size for each token\n",
    "num_heads = 4  # Number of attention heads\n",
    "ff_dim = 32  # Hidden layer size in feed forward network inside transformer\n",
    "stack = 1\n",
    "wd = 0.01\n",
    "\n",
    "## Encoder Construction\n",
    "with strategy.scope():\n",
    "    # Make the layers\n",
    "    encoder_input = keras.layers.Input(shape=(None,))\n",
    "    encoder_embedding = MaskedTokenAndPositionEmbedding(\n",
    "        maxlen=input_length,\n",
    "        vocab_size=encoder_vocab_size,\n",
    "        embed_dim=embed_dim)(encoder_input)\n",
    "\n",
    "    x = encoder_embedding\n",
    "    for _ in range(stack):\n",
    "        x = TransformerBlock(embed_dim=embed_dim,\n",
    "                             num_heads=num_heads,\n",
    "                             ff_dim=ff_dim)(x)\n",
    "    encoder_state = x\n",
    "    \n",
    "    ## Decoder Construction\n",
    "    # Set up the decoder blocks, using `encoder_state` as initial state.\n",
    "    decoder_input = keras.layers.Input(shape=(None,))\n",
    "    decoder_embedding = MaskedTokenAndPositionEmbedding(\n",
    "        maxlen=output_length,\n",
    "        vocab_size=decoder_vocab_size,\n",
    "        embed_dim=embed_dim)(decoder_input)\n",
    "    \n",
    "    x = decoder_embedding\n",
    "    decoder_blocks = []\n",
    "    for _ in range(stack):\n",
    "        decoder_blocks += [MaskedTransformerBlock(embed_dim=embed_dim,\n",
    "                                                  num_heads=num_heads,\n",
    "                                                  ff_dim=ff_dim)]\n",
    "        x = decoder_blocks[-1]([x,encoder_state])\n",
    "\n",
    "    decoder_dense = keras.layers.Dense(decoder_vocab_size,\n",
    "                                       activation='softmax')\n",
    "    decoder_output = decoder_dense(x)\n",
    "\n",
    "    model = keras.Model([encoder_input, decoder_input],\n",
    "                         decoder_output)\n",
    "\n",
    "    # Compile it...\n",
    "    model.compile(loss=MaskedSparseCategoricalCrossentropy,\n",
    "                  optimizer=tfa.optimizers.AdamW(weight_decay=wd),\n",
    "                  metrics=[MaskedSparseCategoricalAccuracy])\n",
    "    model.summary()"
   ]
  },
  {
   "cell_type": "code",
   "execution_count": 22,
   "metadata": {},
   "outputs": [
    {
     "name": "stdout",
     "output_type": "stream",
     "text": [
      "('Failed to import pydot. You must `pip install pydot` and install graphviz (https://graphviz.gitlab.io/download/), ', 'for `pydotprint` to work.')\n"
     ]
    }
   ],
   "source": [
    "# Visualization - wish we could see the recurrent weights!\n",
    "keras.utils.plot_model(model,to_file='encdec.png',\n",
    "                       show_shapes=True,expand_nested=True)"
   ]
  },
  {
   "cell_type": "markdown",
   "metadata": {},
   "source": [
    "So, these visualizations are a little helpful now, maybe? Layer input_1 will accept the input sequence information, which will be folded up into a gestalt representation by the lstm_1 layer. As a second phase, we will initially provide input_2 the **start** token which allows lstm_2 to use both this token and the gestalt representation from lstm_1 as input for beginning to decode the sequence. This final output layer (dense_1) will output the desired token, which will then also (eventually) be copied back into input_2. However, during training we need to provide this information directly as a data matrix, so it is clear how the *teacher forcing* that layer provides a little more support to the learning. This is because, during training, we will ouput provide input_2 with what dense_1 **should** be producing instead of its actual output. Later, we will see how to manually feed the output from the final dense layer back into this layer when performing prediction once it has learned the sequence properly. In this way, we will turn off the teacher forcing component when testing the performance of the network."
   ]
  },
  {
   "cell_type": "code",
   "execution_count": 23,
   "metadata": {},
   "outputs": [
    {
     "name": "stdout",
     "output_type": "stream",
     "text": [
      "1/1 [==============================] - 0s 353ms/step - loss: 0.6143 - MaskedSparseCategoricalAccuracy: 1.0000\n",
      "Accuracy: 100.0 %\n"
     ]
    }
   ],
   "source": [
    "batch_size = 1   # only one pattern...\n",
    "epochs = 200\n",
    "with strategy.scope():\n",
    "    history = model.fit([X,preY], postY,\n",
    "              batch_size=batch_size,\n",
    "              epochs=epochs,\n",
    "              verbose=0)\n",
    "    print('Accuracy:',model.evaluate([X,preY],postY)[1]*100.0,'%')"
   ]
  },
  {
   "cell_type": "code",
   "execution_count": 24,
   "metadata": {},
   "outputs": [
    {
     "data": {
      "image/png": "[encoded data removed]",
      "text/plain": [
       "<Figure size 432x288 with 2 Axes>"
      ]
     },
     "metadata": {
      "needs_background": "light"
     },
     "output_type": "display_data"
    }
   ],
   "source": [
    "plt.figure(1)  \n",
    "# summarize history for accuracy \n",
    "plt.subplot(211)  \n",
    "plt.plot(history.history['MaskedSparseCategoricalAccuracy'])  \n",
    "plt.title('model accuracy')  \n",
    "plt.ylabel('accuracy')  \n",
    "plt.xlabel('epoch')  \n",
    "# summarize history for loss  \n",
    "plt.subplot(212)  \n",
    "plt.plot(history.history['loss'])  \n",
    "plt.title('model loss')  \n",
    "plt.ylabel('loss')  \n",
    "plt.xlabel('epoch')  \n",
    "plt.tight_layout()\n",
    "plt.show()  "
   ]
  },
  {
   "cell_type": "markdown",
   "metadata": {},
   "source": [
    "The network appears to have learned the sequence, but there is one thing wrong with the final evaluation: the *teacher forcing* inputs are still being provided on each time step. Instead, we should be feeding the *output* from the decoder back into this input layer, so that it can use *it's own predictions* to forecast the next step. If we had left off the teacher forcing inputs entirely, this would not have been necessary, but let's make a more proper test of the network now.\n",
    "\n",
    "In order to accomplish this part of the job, we will construct *another* model, but just **reuse the layers** already defined and trained before. This will allow us to connect the layers together to create a model which accomplishes the feedback loop for us ..."
   ]
  },
  {
   "cell_type": "code",
   "execution_count": 25,
   "metadata": {},
   "outputs": [],
   "source": [
    "# Part 1 - make the encoder\n",
    "\n",
    "with strategy.scope():\n",
    "    # Make just a model out of the encoder\n",
    "    # input = encoder_input (Input layer)\n",
    "    # output = encoder_states (enc Hidden layer * 2)\n",
    "    encoder_model = keras.Model(encoder_input, encoder_state)\n",
    "\n",
    "    # Part 2 - make the decoder\n",
    "\n",
    "    # Make just a model out of the decoder\n",
    "    x = decoder_embedding\n",
    "    encoder_state_input = keras.layers.Input(shape=(None,embed_dim))\n",
    "    for i in range(stack):\n",
    "        x = decoder_blocks[i]([x,encoder_state_input])\n",
    "    decoder_output = decoder_dense(x)\n",
    "    decoder_model = keras.Model([decoder_input, encoder_state_input],\n",
    "                                 decoder_output)"
   ]
  },
  {
   "cell_type": "code",
   "execution_count": 26,
   "metadata": {},
   "outputs": [
    {
     "data": {
      "image/png": "[encoded data removed]",
      "text/plain": [
       "<IPython.core.display.Image object>"
      ]
     },
     "execution_count": 26,
     "metadata": {},
     "output_type": "execute_result"
    }
   ],
   "source": [
    "# Separated Encoder Model\n",
    "keras.utils.plot_model(encoder_model,to_file='enc.png',\n",
    "                       show_shapes=True,expand_nested=True)"
   ]
  },
  {
   "cell_type": "code",
   "execution_count": 27,
   "metadata": {},
   "outputs": [
    {
     "data": {
      "image/png": "[encoded data removed]",
      "text/plain": [
       "<IPython.core.display.Image object>"
      ]
     },
     "execution_count": 27,
     "metadata": {},
     "output_type": "execute_result"
    }
   ],
   "source": [
    "# Separated Decoder Model\n",
    "keras.utils.plot_model(decoder_model,to_file='dec.png',\n",
    "                       show_shapes=True,expand_nested=True)"
   ]
  },
  {
   "cell_type": "markdown",
   "metadata": {},
   "source": [
    "OK, at this point, it's important that we slow down and think about what we have just constructed here. This network (now a **pair** of models) is not going to be *trained* in any way, and it (mostly) just reuses layers that have already created (*and* trained) in the earlier part of this example. Therefore, we are just going to rearrange some of the layers into *two* new models to make it easier to probe the network. These parts will naturally be the encoder and the decoder. However, these new models will just be used for *prediction* instead of training.\n",
    "\n",
    "The basic idea is that we need to *first* encode the input sequence into its *gestalt* context representation. This is the job of the encoder, and this part is rather straight-forward because the encoder network architecture remains practically unchanged: we just didn't give the encoder it's own, independent model before. Therefore, we could *not* just extract a hidden layer representation without also feeding it into the input layer of the decoder. The new `encoder_model` now just takes our input sequence and provides us with the output \"states\" or *activations* of the LSTM units. We can use the `predict()` method now to easily obtain those representations.\n",
    "\n",
    "The second part of the decoding process involves making a new set of inputs for the decoder which will accept the state information from the encoder outputs (in addition to the sequence starting token). This uses two layers which are just standard input layers set to the corresponding size of the LSTM outputs from the encoder. This just allows us to transfer that information over to the decoder *manually* by copying the output values from the encoder into these input layers. The hidden layer of the decoder then takes the encoder's hidden layer information and an input token vector (decoder_input, just like before).\n",
    "\n",
    "Instead of using teacher forcing to make the sequence input equal to a prescribed target token (like we did during training), here we will only provide the *start* token along with the encoder's gestalt context. After that, we will let the decoder produce an output value. This output value will then be rounded to the nearest value (it's a graded prediction, so we clean it up a little in this obvious way), and then we will feed it *back* into the decoder for the next time step (along with the updated decoder hidden layer activations as well which take the place of the encoder network's initial context information). So long as we provide the encoder's activations and the *start* token on the first step. The decoder network is then asked to step through this series of steps repeatedly until it reaches the *stop* token (or a maximum number of steps is reached). In our case, all sequences are of the same length, so we will expect it will reach the stop token by the 11th output.\n",
    "\n",
    "Let's walk through these steps by calculating the context from the encoder using our input sequence, `X`, then providing the *start* token (`0010`) to the encoder output as the first inputs to the decoder. Then we will recycle the decoder's output and hidden representations back into the network, just predicting one time step at a time until the sequence terminates."
   ]
  },
  {
   "cell_type": "code",
   "execution_count": 28,
   "metadata": {},
   "outputs": [
    {
     "name": "stdout",
     "output_type": "stream",
     "text": [
      "[[1 1 1 0 1 0 1 1 0 0 3 1 1 1 1 1 1 1 1 1]]\n"
     ]
    }
   ],
   "source": [
    "# Teacher forcing\n",
    "with strategy.scope():\n",
    "    result = np.argmax(model.predict([X,preY]),-1)\n",
    "print(result-1)"
   ]
  },
  {
   "cell_type": "code",
   "execution_count": 29,
   "metadata": {},
   "outputs": [
    {
     "name": "stdout",
     "output_type": "stream",
     "text": [
      "[[ 1.  1.  1.  0.  1.  0.  1.  1.  0.  0.  3. -1. -1. -1. -1. -1. -1. -1.\n",
      "  -1. -1.]]\n"
     ]
    }
   ],
   "source": [
    "print(postY-1)"
   ]
  },
  {
   "cell_type": "code",
   "execution_count": 30,
   "metadata": {},
   "outputs": [
    {
     "name": "stdout",
     "output_type": "stream",
     "text": [
      "[[1. 1. 1. 0. 1. 0. 1. 1. 0. 0. 3.]]\n"
     ]
    }
   ],
   "source": [
    "# Without teacher forcing\n",
    "with strategy.scope():\n",
    "    result = preY[:,0:1] # Start only...\n",
    "    for i in range(output_length):\n",
    "        tokens = np.argmax(model.predict([X,result]),-1)\n",
    "        result = np.hstack([result,tokens[:,-1:]])\n",
    "        # Stop at the stop token... padding ignored\n",
    "        if result[:,-1] == 4:\n",
    "            break\n",
    "    result = result[:,1:] # Remove start token \n",
    "print(result-1)"
   ]
  },
  {
   "cell_type": "code",
   "execution_count": 31,
   "metadata": {},
   "outputs": [
    {
     "name": "stdout",
     "output_type": "stream",
     "text": [
      "[[ 1.  1.  1.  0.  1.  0.  1.  1.  0.  0.  3. -1. -1. -1. -1. -1. -1. -1.\n",
      "  -1. -1.]]\n"
     ]
    }
   ],
   "source": [
    "print(postY-1)"
   ]
  },
  {
   "cell_type": "code",
   "execution_count": 32,
   "metadata": {},
   "outputs": [
    {
     "data": {
      "text/plain": [
       "<tf.Tensor: shape=(), dtype=float32, numpy=1.0>"
      ]
     },
     "execution_count": 32,
     "metadata": {},
     "output_type": "execute_result"
    }
   ],
   "source": [
    "MaskedSparseCategoricalAccuracy(postY[0:1,0:result.shape[1]],keras.utils.to_categorical(result[0:1],5))"
   ]
  },
  {
   "cell_type": "markdown",
   "metadata": {},
   "source": [
    "And we have a match! Looks like the encoder-decoder had no trouble learning the sequence. Note that we could wait for the *stop* token instead of counting the number of steps above and we would have come to the same result since that token was encountered on the last iteration. That is, the network learns to generate the correctly sized sequence when required.\n",
    "\n",
    "OK, so now, let's take the same approach as we used above to learn a **larger number of sequences** ..."
   ]
  },
  {
   "cell_type": "code",
   "execution_count": 64,
   "metadata": {},
   "outputs": [],
   "source": [
    "# Length of sequences to model\n",
    "# Going to mix it up!!\n",
    "length = 17\n",
    "padded_length = 20\n",
    "\n",
    "# Note we are making these the same, but they don't -have- to be!\n",
    "input_length = padded_length\n",
    "output_length = padded_length\n",
    "\n",
    "# Vocabulary sizes...\n",
    "encoder_vocab_size = 3 # blank, 0, 1\n",
    "decoder_vocab_size = 5 # blank, 0, 1, start, stop\n",
    "\n",
    "# Set number of patterns here\n",
    "n_seq = 100\n",
    "\n",
    "# Generate the Xs\n",
    "x_train = np.concatenate([np.round(np.random.uniform(0,1,[1,length]))\n",
    "                          for x in range(n_seq)])\n",
    "y_train = parity(x_train)\n",
    "\n",
    "# Reformat - add start/stop\n",
    "X = x_train\n",
    "Y = np.vstack([np.hstack([[2],y,[3]]) for y in y_train])\n",
    "preY = Y[:,0:length+1]\n",
    "postY = Y[:,1:length+2]\n",
    "\n",
    "# Finalize with padding\n",
    "X = add_padding(X,input_length)\n",
    "preY = add_padding(preY,output_length)\n",
    "postY = add_padding(postY,output_length)"
   ]
  },
  {
   "cell_type": "code",
   "execution_count": 65,
   "metadata": {},
   "outputs": [
    {
     "name": "stdout",
     "output_type": "stream",
     "text": [
      "[[ 0.  1.  0.  1.  0.  0.  0.  1.  1.  1.  0.  1.  1.  0.  1.  1.  0. -1.\n",
      "  -1. -1.]]\n",
      "[[ 2.  0.  1.  1.  0.  0.  0.  0.  1.  0.  1.  1.  0.  1.  1.  0.  1.  1.\n",
      "  -1. -1.]]\n",
      "[[ 0.  1.  1.  0.  0.  0.  0.  1.  0.  1.  1.  0.  1.  1.  0.  1.  1.  3.\n",
      "  -1. -1.]]\n"
     ]
    }
   ],
   "source": [
    "print(X[0:1]-1)\n",
    "print(preY[0:1]-1)\n",
    "print(postY[0:1]-1)"
   ]
  },
  {
   "cell_type": "code",
   "execution_count": 66,
   "metadata": {},
   "outputs": [
    {
     "name": "stdout",
     "output_type": "stream",
     "text": [
      "(100, 20)\n",
      "(100, 20)\n",
      "(100, 20)\n"
     ]
    }
   ],
   "source": [
    "print(X.shape)\n",
    "print(preY.shape)\n",
    "print(postY.shape)"
   ]
  },
  {
   "cell_type": "code",
   "execution_count": 67,
   "metadata": {},
   "outputs": [
    {
     "name": "stdout",
     "output_type": "stream",
     "text": [
      "Model: \"model_8\"\n",
      "__________________________________________________________________________________________________\n",
      "Layer (type)                    Output Shape         Param #     Connected to                     \n",
      "==================================================================================================\n",
      "input_14 (InputLayer)           [(None, None)]       0                                            \n",
      "__________________________________________________________________________________________________\n",
      "masked_token_and_position_embed (None, None, 64)     1536        input_14[0][0]                   \n",
      "__________________________________________________________________________________________________\n",
      "transformer_block_17 (Transform (None, None, 64)     74944       masked_token_and_position_embeddi\n",
      "__________________________________________________________________________________________________\n",
      "input_15 (InputLayer)           [(None, None)]       0                                            \n",
      "__________________________________________________________________________________________________\n",
      "transformer_block_18 (Transform (None, None, 64)     74944       transformer_block_17[0][0]       \n",
      "__________________________________________________________________________________________________\n",
      "masked_token_and_position_embed (None, None, 64)     1664        input_15[0][0]                   \n",
      "__________________________________________________________________________________________________\n",
      "transformer_block_19 (Transform (None, None, 64)     74944       transformer_block_18[0][0]       \n",
      "__________________________________________________________________________________________________\n",
      "masked_transformer_block_17 (Ma (None, None, 64)     141312      masked_token_and_position_embeddi\n",
      "                                                                 transformer_block_19[0][0]       \n",
      "__________________________________________________________________________________________________\n",
      "masked_transformer_block_18 (Ma (None, None, 64)     141312      masked_transformer_block_17[0][0]\n",
      "                                                                 transformer_block_19[0][0]       \n",
      "__________________________________________________________________________________________________\n",
      "masked_transformer_block_19 (Ma (None, None, 64)     141312      masked_transformer_block_18[0][0]\n",
      "                                                                 transformer_block_19[0][0]       \n",
      "__________________________________________________________________________________________________\n",
      "dense_86 (Dense)                (None, None, 5)      325         masked_transformer_block_19[0][0]\n",
      "==================================================================================================\n",
      "Total params: 652,293\n",
      "Trainable params: 652,293\n",
      "Non-trainable params: 0\n",
      "__________________________________________________________________________________________________\n"
     ]
    }
   ],
   "source": [
    "# Size of the gestalt, context representations...\n",
    "embed_dim = 64  # Embedding size for each token\n",
    "num_heads = 4  # Number of attention heads\n",
    "ff_dim = 64  # Hidden layer size in feed forward network inside transformer\n",
    "stack = 3\n",
    "wd = 0.001\n",
    "\n",
    "## Encoder Construction\n",
    "with strategy.scope():\n",
    "    # Make the layers\n",
    "    encoder_input = keras.layers.Input(shape=(None,))\n",
    "    encoder_embedding = MaskedTokenAndPositionEmbedding(\n",
    "        maxlen=input_length,\n",
    "        vocab_size=encoder_vocab_size,\n",
    "        embed_dim=embed_dim)(encoder_input)\n",
    "\n",
    "    x = encoder_embedding\n",
    "    for _ in range(stack):\n",
    "        x = TransformerBlock(embed_dim=embed_dim,\n",
    "                             num_heads=num_heads,\n",
    "                             ff_dim=ff_dim)(x)\n",
    "    encoder_state = x\n",
    "    \n",
    "    ## Decoder Construction\n",
    "    # Set up the decoder blocks, using `encoder_state` as initial state.\n",
    "    decoder_input = keras.layers.Input(shape=(None,))\n",
    "    decoder_embedding = MaskedTokenAndPositionEmbedding(\n",
    "        maxlen=output_length,\n",
    "        vocab_size=decoder_vocab_size,\n",
    "        embed_dim=embed_dim)(decoder_input)\n",
    "    \n",
    "    x = decoder_embedding\n",
    "    decoder_blocks = []\n",
    "    for _ in range(stack):\n",
    "        decoder_blocks += [MaskedTransformerBlock(embed_dim=embed_dim,\n",
    "                                                  num_heads=num_heads,\n",
    "                                                  ff_dim=ff_dim)]\n",
    "        x = decoder_blocks[-1]([x,encoder_state])\n",
    "\n",
    "    decoder_dense = keras.layers.Dense(decoder_vocab_size,\n",
    "                                       activation='softmax')\n",
    "    decoder_output = decoder_dense(x)\n",
    "\n",
    "    model = keras.Model([encoder_input, decoder_input],\n",
    "                         decoder_output)\n",
    "\n",
    "    # Compile it...\n",
    "    model.compile(loss=MaskedSparseCategoricalCrossentropy,\n",
    "                  optimizer=tfa.optimizers.AdamW(weight_decay=wd),\n",
    "                  metrics=[MaskedSparseCategoricalAccuracy])\n",
    "    model.summary()"
   ]
  },
  {
   "cell_type": "code",
   "execution_count": 68,
   "metadata": {},
   "outputs": [
    {
     "data": {
      "image/png": "[encoded data removed]",
      "text/plain": [
       "<IPython.core.display.Image object>"
      ]
     },
     "execution_count": 68,
     "metadata": {},
     "output_type": "execute_result"
    }
   ],
   "source": [
    "# Visualization - same as before...\n",
    "keras.utils.plot_model(model,to_file='encdec2.png',\n",
    "                       show_shapes=True,expand_nested=True)"
   ]
  },
  {
   "cell_type": "code",
   "execution_count": 69,
   "metadata": {},
   "outputs": [
    {
     "name": "stdout",
     "output_type": "stream",
     "text": [
      "4/4 [==============================] - 1s 9ms/step - loss: 0.0043 - MaskedSparseCategoricalAccuracy: 1.0000\n",
      "Accuracy: 100.0 %\n"
     ]
    }
   ],
   "source": [
    "batch_size = 20   # many patterns...\n",
    "epochs = 100\n",
    "history = model.fit([X,preY], postY,\n",
    "          batch_size=batch_size,\n",
    "          epochs=epochs,\n",
    "          verbose=0,              # Turning off output due to many epochs...\n",
    "          validation_split = 0.2)\n",
    "# Remember, teacher forced, but a little informative...\n",
    "print('Accuracy:',model.evaluate([X,preY],postY)[1]*100.0,'%')"
   ]
  },
  {
   "cell_type": "code",
   "execution_count": 70,
   "metadata": {},
   "outputs": [
    {
     "data": {
      "image/png": "[encoded data removed]",
      "text/plain": [
       "<Figure size 432x288 with 2 Axes>"
      ]
     },
     "metadata": {
      "needs_background": "light"
     },
     "output_type": "display_data"
    }
   ],
   "source": [
    "plt.figure(1)\n",
    "# summarize history for accuracy  \n",
    "plt.subplot(211)  \n",
    "plt.plot(history.history['MaskedSparseCategoricalAccuracy'])  \n",
    "plt.plot(history.history['val_MaskedSparseCategoricalAccuracy'])  \n",
    "plt.title('model accuracy')  \n",
    "plt.ylabel('accuracy')  \n",
    "plt.xlabel('epoch')  \n",
    "plt.legend(['train', 'validation'], loc='upper left')  \n",
    "# summarize history for loss  \n",
    "plt.subplot(212)  \n",
    "plt.plot(history.history['loss'])  \n",
    "plt.plot(history.history['val_loss'])  \n",
    "plt.title('model loss')  \n",
    "plt.ylabel('loss')  \n",
    "plt.xlabel('epoch')  \n",
    "plt.legend(['train', 'validation'], loc='upper left')\n",
    "plt.tight_layout()\n",
    "plt.show()  "
   ]
  },
  {
   "cell_type": "code",
   "execution_count": 73,
   "metadata": {},
   "outputs": [],
   "source": [
    "# Part 1 - make the encoder\n",
    "\n",
    "with strategy.scope():\n",
    "    # Make just a model out of the encoder\n",
    "    # input = encoder_input (Input layer)\n",
    "    # output = encoder_states (enc Hidden layer * 2)\n",
    "    encoder_model = keras.Model(encoder_input, encoder_state)\n",
    "\n",
    "    # Part 2 - make the decoder\n",
    "\n",
    "    # Make just a model out of the decoder\n",
    "    x = decoder_embedding\n",
    "    encoder_state_input = keras.layers.Input(shape=(None,embed_dim))\n",
    "    for i in range(stack):\n",
    "        x = decoder_blocks[i]([x,encoder_state_input])\n",
    "    decoder_output = decoder_dense(x)\n",
    "    decoder_model = keras.Model([decoder_input, encoder_state_input],\n",
    "                                 decoder_output)"
   ]
  },
  {
   "cell_type": "code",
   "execution_count": 74,
   "metadata": {},
   "outputs": [
    {
     "name": "stdout",
     "output_type": "stream",
     "text": [
      "[[1 0 0 1 1 1 1 1 1 1 0 1 1 1 0 1 1 3 1 1]\n",
      " [0 0 0 1 1 1 0 0 0 0 0 0 1 0 1 1 1 3 1 1]\n",
      " [1 0 0 0 0 0 1 1 1 1 0 0 0 1 0 1 0 3 1 1]\n",
      " [0 0 1 0 0 0 0 0 1 1 1 0 0 1 1 0 1 3 1 1]\n",
      " [0 1 0 1 1 0 1 0 0 1 1 0 1 0 0 1 0 3 1 1]\n",
      " [0 0 1 0 0 0 1 0 1 1 1 0 1 1 1 1 0 3 1 1]\n",
      " [1 0 0 1 0 0 1 0 0 0 0 0 1 0 1 1 0 3 1 1]\n",
      " [1 1 0 1 0 1 1 0 0 1 1 0 1 0 1 1 0 3 1 1]\n",
      " [0 1 0 0 0 0 1 0 0 0 1 0 0 0 1 1 0 3 1 1]\n",
      " [1 1 1 0 1 1 0 1 0 1 0 0 1 0 1 0 0 3 1 1]\n",
      " [0 1 1 0 0 0 0 1 0 1 0 0 1 1 1 0 0 3 1 1]\n",
      " [0 0 0 1 1 1 0 0 0 0 1 0 1 1 1 1 0 3 1 1]\n",
      " [1 1 1 0 1 1 0 0 1 1 1 1 1 1 0 0 1 3 1 1]\n",
      " [1 0 0 1 1 0 1 0 1 0 0 0 0 0 1 1 0 3 1 1]\n",
      " [1 0 1 0 1 1 1 1 0 1 1 1 0 0 1 0 0 3 1 1]\n",
      " [1 0 1 0 0 1 1 0 1 0 0 0 0 0 0 1 1 3 1 1]\n",
      " [1 1 0 0 0 1 1 1 0 0 0 0 1 0 0 0 0 3 1 1]\n",
      " [0 1 1 1 1 0 1 1 0 0 0 0 0 0 1 0 1 3 1 1]\n",
      " [0 1 0 1 0 1 0 0 1 1 0 1 0 1 0 1 1 3 1 1]\n",
      " [0 0 0 0 0 0 0 1 1 0 0 1 0 0 0 0 0 3 1 1]]\n"
     ]
    }
   ],
   "source": [
    "with strategy.scope():\n",
    "    result = np.argmax(model.predict([X,preY]),-1)\n",
    "print(result[80:100]-1)"
   ]
  },
  {
   "cell_type": "code",
   "execution_count": 75,
   "metadata": {},
   "outputs": [
    {
     "name": "stdout",
     "output_type": "stream",
     "text": [
      "[[ 1  0  0  1  1  1  1  1  1  1  0  1  1  1  0  1  1  3 -1 -1]\n",
      " [ 0  0  0  1  1  1  0  0  0  0  0  0  1  0  1  1  1  3 -1 -1]\n",
      " [ 1  0  0  0  0  0  1  1  1  1  0  0  0  1  0  1  0  3 -1 -1]\n",
      " [ 0  0  1  0  0  0  0  0  1  1  1  0  0  1  1  0  1  3 -1 -1]\n",
      " [ 0  1  0  1  1  0  1  0  0  1  1  0  1  0  0  1  0  3 -1 -1]\n",
      " [ 0  0  1  0  0  0  1  0  1  1  1  0  1  1  1  1  0  3 -1 -1]\n",
      " [ 1  0  0  1  0  0  1  0  0  0  0  0  1  0  1  1  0  3 -1 -1]\n",
      " [ 1  1  0  1  0  1  1  0  0  1  1  0  1  0  1  1  0  3 -1 -1]\n",
      " [ 0  1  0  0  0  0  1  0  0  0  1  0  0  0  1  1  0  3 -1 -1]\n",
      " [ 1  1  1  0  1  1  0  1  0  1  0  0  1  0  1  0  0  3 -1 -1]\n",
      " [ 0  1  1  0  0  0  0  1  0  1  0  0  1  1  1  0  0  3 -1 -1]\n",
      " [ 0  0  0  1  1  1  0  0  0  0  1  0  1  1  1  1  0  3 -1 -1]\n",
      " [ 1  1  1  0  1  1  0  0  1  1  1  1  1  1  0  0  1  3 -1 -1]\n",
      " [ 1  0  0  1  1  0  1  0  1  0  0  0  0  0  1  1  0  3 -1 -1]\n",
      " [ 1  0  1  0  1  1  1  1  0  1  1  1  0  0  1  0  0  3 -1 -1]\n",
      " [ 1  0  1  0  0  1  1  0  1  0  0  0  0  0  0  1  1  3 -1 -1]\n",
      " [ 1  1  0  0  0  1  1  1  0  0  0  0  1  0  0  0  0  3 -1 -1]\n",
      " [ 0  1  1  1  1  0  1  1  0  0  0  0  0  0  1  0  1  3 -1 -1]\n",
      " [ 0  1  0  1  0  1  0  0  1  1  0  1  0  1  0  1  1  3 -1 -1]\n",
      " [ 0  0  0  0  0  0  0  1  1  0  0  1  0  0  0  0  0  3 -1 -1]]\n"
     ]
    }
   ],
   "source": [
    "print(np.int32(postY[80:100]-1))"
   ]
  },
  {
   "cell_type": "code",
   "execution_count": 76,
   "metadata": {},
   "outputs": [
    {
     "name": "stdout",
     "output_type": "stream",
     "text": [
      "[[1 0 1 0 1 1 1 1 1 1 0 0 1 1 0 0 1 3 0 1]\n",
      " [0 1 1 0 1 1 0 1 1 1 1 1 0 0 0 1 1 3 0 1]\n",
      " [1 0 1 1 1 1 0 1 1 1 0 1 1 0 0 0 0 3 0 1]\n",
      " [0 1 0 0 1 1 1 1 0 1 1 0 1 0 1 0 0 3 0 1]\n",
      " [0 0 0 0 1 0 0 0 1 0 1 0 0 0 1 0 0 3 0 1]\n",
      " [0 1 0 0 1 1 0 0 0 1 1 0 0 1 1 1 0 3 0 1]\n",
      " [1 0 1 0 0 1 0 0 1 1 1 1 0 0 0 1 0 3 0 1]\n",
      " [1 1 0 0 0 0 1 0 1 0 1 0 0 0 0 1 0 3 0 1]\n",
      " [0 0 0 1 1 1 0 0 1 1 0 0 1 1 0 1 0 3 0 1]\n",
      " [1 1 1 0 0 1 0 0 0 0 0 1 0 0 0 0 1 3 0 1]\n",
      " [0 0 1 0 1 1 1 0 0 0 0 1 0 1 1 0 1 3 0 1]\n",
      " [0 1 1 0 1 1 0 1 1 1 0 0 0 1 1 1 0 3 0 1]\n",
      " [1 1 1 0 0 1 0 1 0 1 1 1 1 1 0 1 0 3 0 1]\n",
      " [1 0 1 0 1 0 0 0 0 0 1 1 1 1 0 1 0 3 0 1]\n",
      " [1 0 0 0 0 1 1 1 0 0 1 1 0 1 0 0 1 3 0 1]\n",
      " [1 0 0 0 1 0 1 0 0 0 1 1 1 1 1 0 1 3 0 1]\n",
      " [1 1 0 1 1 0 1 1 0 1 1 1 0 0 1 1 1 3 0 1]\n",
      " [0 1 0 0 0 1 1 0 0 1 1 1 1 1 0 0 0 3 1 1]\n",
      " [0 0 0 0 0 0 0 1 0 1 0 0 0 0 0 0 1 3 0 1]\n",
      " [0 1 1 1 1 1 1 0 1 0 1 0 0 1 1 1 1 3 0 1]]\n"
     ]
    }
   ],
   "source": [
    "tokens = np.zeros(preY.shape)\n",
    "tokens[:,0:1] = preY[:,0:1] # Start only...\n",
    "with strategy.scope():\n",
    "    for i in range(1,output_length):\n",
    "        result = np.argmax(model.predict([X,tokens]),-1)\n",
    "        tokens[:,i] = result[:,-1]\n",
    "print(result[80:100]-1)"
   ]
  },
  {
   "cell_type": "code",
   "execution_count": 77,
   "metadata": {},
   "outputs": [],
   "source": [
    "temp = keras.utils.to_categorical(result[80:100],decoder_vocab_size)"
   ]
  },
  {
   "cell_type": "code",
   "execution_count": 79,
   "metadata": {},
   "outputs": [
    {
     "data": {
      "text/plain": [
       "<tf.Tensor: shape=(), dtype=float32, numpy=0.5222222>"
      ]
     },
     "execution_count": 79,
     "metadata": {},
     "output_type": "execute_result"
    }
   ],
   "source": [
    "MaskedSparseCategoricalAccuracy(postY[80:100],temp)"
   ]
  },
  {
   "cell_type": "code",
   "execution_count": 30,
   "metadata": {},
   "outputs": [],
   "source": [
    "# Testing time...\n",
    "error = 0\n",
    "for p in range(n_seq):\n",
    "    # Get the gestalt context for the input sequence(s)\n",
    "    context = encoder_model.predict(X[p:p+1,:,:])\n",
    "\n",
    "    # Prep a starting token [[[0,0,1,0]]]..\n",
    "    token = np.zeros([1,1,Y.shape[2]])\n",
    "    token[0,0,2] = 1\n",
    "    token\n",
    "\n",
    "    # Complete 11 cycles with the decoder\n",
    "    result = np.zeros(postY.shape)\n",
    "    for x in range(output_length+1):\n",
    "        out,h,c = decoder_model.predict([token]+context)\n",
    "        token = np.round(out)\n",
    "        context = [h,c]\n",
    "        result[:,x,:] = token\n",
    "    error += np.sum(np.abs(result-postY[p:p+1,:,:]))/2.0"
   ]
  },
  {
   "cell_type": "code",
   "execution_count": 31,
   "metadata": {},
   "outputs": [
    {
     "name": "stdout",
     "output_type": "stream",
     "text": [
      "Overall accuracy: 85.950000%\n"
     ]
    }
   ],
   "source": [
    "print(\"Overall accuracy: %f%%\"%(100.0 - (error / (n_seq*output_length))))"
   ]
  },
  {
   "cell_type": "markdown",
   "metadata": {},
   "source": [
    "For the final accuracy calculation, we loop through all of the training patterns and count up all of the missed tokens. This can be expressed as the absolute difference between the predicted output sequence, and the one from the `postY` pattern set (divided by two). The accuracy therefore isn't really how many sequences were correctly classified, but how many tokens the network missed. At this point, then encoder-decoder has made it to about 90% accuracy on all tokens, so with a little more training (or tweaks to the architecture), we might get even further. For example, we could change the activation function from `tanh` (the default for LSTM) to `relu`, try adding more units to the hidden layers, or just stack some additional LSTM layers onto the encoder or decoder networks. "
   ]
  },
  {
   "cell_type": "markdown",
   "metadata": {},
   "source": [
    "## Learning to Write Like Jane Austen\n",
    "\n",
    "Jane Austen's *Pride and Prejudice* is the number one requested e-book on Project Gutenberg. As a result, let's see if we can train a recurrent network to write like a genius! We will be parsing the raw text line-by-line and then asking our network to learn, given one line, what the next line should be = literal genius?, literally genius? no, no: literary genius. :-)\n",
    "\n",
    "The basic text is split into lines already, and extra new lines are placed between paragraphs. We will end up parsing the entire text, but only learning on a small part of it for this example. I will ask you to emulate the process in the assignment below and learn a little more of the text...\n",
    "\n",
    "First, let's read in the text and do some preprocessing on it... (Note that the !head command just lets us preview the first few lines of the file, and isn't a piece of python code! It's cell right after that actually loads the data.)\n",
    "\n",
    "**Be careful not cut off this link below!!**\n",
    "\n",
    "`!wget https://www.cs.mtsu.edu/~jphillips/courses/CSCI4850-5850/public/PandP_Jane_Austen.txt`"
   ]
  },
  {
   "cell_type": "code",
   "execution_count": 1,
   "metadata": {},
   "outputs": [
    {
     "name": "stdout",
     "output_type": "stream",
     "text": [
      "--2021-04-13 14:18:37--  https://www.cs.mtsu.edu/~jphillips/courses/CSCI4850-5850/public/PandP_Jane_Austen.txt\n",
      "Resolving www.cs.mtsu.edu (www.cs.mtsu.edu)... 161.45.162.100\n",
      "Connecting to www.cs.mtsu.edu (www.cs.mtsu.edu)|161.45.162.100|:443... connected.\n",
      "HTTP request sent, awaiting response... 200 OK\n",
      "Length: 683838 (668K) [text/plain]\n",
      "Saving to: ‘PandP_Jane_Austen.txt’\n",
      "\n",
      "PandP_Jane_Austen.t 100%[===================>] 667.81K  --.-KB/s    in 0.06s   \n",
      "\n",
      "2021-04-13 14:18:37 (11.2 MB/s) - ‘PandP_Jane_Austen.txt’ saved [683838/683838]\n",
      "\n"
     ]
    }
   ],
   "source": [
    "!wget https://www.cs.mtsu.edu/~jphillips/courses/CSCI4850-5850/public/PandP_Jane_Austen.txt"
   ]
  },
  {
   "cell_type": "code",
   "execution_count": 42,
   "metadata": {},
   "outputs": [
    {
     "name": "stdout",
     "output_type": "stream",
     "text": [
      "It is a truth universally acknowledged, that a single man in possession\n",
      "of a good fortune, must be in want of a wife.\n",
      "\n",
      "However little known the feelings or views of such a man may be on his\n",
      "first entering a neighbourhood, this truth is so well fixed in the minds\n",
      "of the surrounding families, that he is considered the rightful property\n",
      "of some one or other of their daughters.\n",
      "\n",
      "\"My dear Mr. Bennet,\" said his lady to him one day, \"have you heard that\n",
      "Netherfield Park is let at last?\"\n"
     ]
    }
   ],
   "source": [
    "!head PandP_Jane_Austen.txt"
   ]
  },
  {
   "cell_type": "code",
   "execution_count": 7,
   "metadata": {},
   "outputs": [
    {
     "data": {
      "text/plain": [
       "['It is a truth universally acknowledged, that a single man in possession',\n",
       " 'of a good fortune, must be in want of a wife.',\n",
       " 'However little known the feelings or views of such a man may be on his',\n",
       " 'first entering a neighbourhood, this truth is so well fixed in the minds',\n",
       " 'of the surrounding families, that he is considered the rightful property',\n",
       " 'of some one or other of their daughters.',\n",
       " '\"My dear Mr. Bennet,\" said his lady to him one day, \"have you heard that',\n",
       " 'Netherfield Park is let at last?\"']"
      ]
     },
     "execution_count": 7,
     "metadata": {},
     "output_type": "execute_result"
    }
   ],
   "source": [
    "# Preprocessing - grab lines from the file\n",
    "with open('PandP_Jane_Austen.txt', 'r', encoding='utf-8') as f:\n",
    "    lines = f.read().split('\\n')\n",
    "# Paragraphs are separated by blank\n",
    "# lines -> just drop those lines...\n",
    "text = []\n",
    "for i in range(len(lines)):\n",
    "    if lines[i] != '':\n",
    "        text = text + [lines[i]]\n",
    "min_length = max([len(i) for i in text])\n",
    "\n",
    "# Visual Confirmation that we have loaded the text in...\n",
    "text[0:8]"
   ]
  },
  {
   "cell_type": "markdown",
   "metadata": {},
   "source": [
    "The reading process reads in the text, but then drops the blank lines between paragraphs. After that, we determine the length of the longest string in the text. I call it `min_length` because it's the minimum size of sequence that our network will read (and for other reasons below), so don't be confused by the name. We will only use it on special occasions anyway...\n",
    "\n",
    "We will also read in the list of unique characters used in this text. I've already pre-processed this information from the file above using a piece of C++ code that I had laying around, but it wouldn't be difficult to do the same using a `set` in Python. I'll leave that as an exercise for your own amusement at some other time."
   ]
  },
  {
   "cell_type": "markdown",
   "metadata": {},
   "source": [
    "Here's the list of unique characters, one-per-line...\n",
    "\n",
    "**Be careful not cut off this link below!!**\n",
    "\n",
    "`!wget https://www.cs.mtsu.edu/~jphillips/courses/CSCI4850-5850/public/unique_chars.txt`"
   ]
  },
  {
   "cell_type": "code",
   "execution_count": 45,
   "metadata": {},
   "outputs": [
    {
     "name": "stdout",
     "output_type": "stream",
     "text": [
      "--2021-04-21 02:00:59--  https://www.cs.mtsu.edu/~jphillips/courses/CSCI4850-5850/public/unique_chars.txt\n",
      "Resolving www.cs.mtsu.edu (www.cs.mtsu.edu)... 161.45.162.100\n",
      "Connecting to www.cs.mtsu.edu (www.cs.mtsu.edu)|161.45.162.100|:443... connected.\n",
      "HTTP request sent, awaiting response... 200 OK\n",
      "Length: 136 [text/plain]\n",
      "Saving to: ‘unique_chars.txt’\n",
      "\n",
      "unique_chars.txt    100%[===================>]     136  --.-KB/s    in 0s      \n",
      "\n",
      "2021-04-21 02:00:59 (16.6 MB/s) - ‘unique_chars.txt’ saved [136/136]\n",
      "\n"
     ]
    }
   ],
   "source": [
    "!wget https://www.cs.mtsu.edu/~jphillips/courses/CSCI4850-5850/public/unique_chars.txt"
   ]
  },
  {
   "cell_type": "code",
   "execution_count": 46,
   "metadata": {},
   "outputs": [
    {
     "name": "stdout",
     "output_type": "stream",
     "text": [
      "!\n",
      "\"\n",
      "'\n",
      "(\n",
      ")\n",
      "*\n",
      ",\n",
      "-\n",
      ".\n",
      "1\n"
     ]
    }
   ],
   "source": [
    "!head unique_chars.txt"
   ]
  },
  {
   "cell_type": "code",
   "execution_count": 8,
   "metadata": {},
   "outputs": [],
   "source": [
    "# Unique characters - precalculated\n",
    "with open('unique_chars.txt', 'r', encoding='utf-8') as f:\n",
    "    lines = f.read().split('\\n')\n",
    "lines = [line for line in lines if line != '']\n",
    "\n",
    "# Integer code to symbol\n",
    "itos = ['','','',' ']\n",
    "for i in lines:\n",
    "    itos = itos + [i]\n",
    "# Symbol to integer code\n",
    "stoi = dict()\n",
    "stoi[''] = 0\n",
    "stoi['START'] = 1\n",
    "stoi['STOP'] = 2\n",
    "for i in range(3,len(itos)):\n",
    "    stoi[itos[i]] = i"
   ]
  },
  {
   "cell_type": "markdown",
   "metadata": {},
   "source": [
    "Note that I have added a couple of *extra* tokens to the list ('START','STOP', and a space - wasn't counted as a character by my C++ implementation) and have created data structures for mapping from a character to an integer code (`stoi`) and from an integer code to a character (`itos`). We can use these structures later to map back and forth between human-readable and network-readable encodings.\n",
    "\n",
    "Let's see what size the text corpus is now..."
   ]
  },
  {
   "cell_type": "code",
   "execution_count": 9,
   "metadata": {},
   "outputs": [
    {
     "data": {
      "text/plain": [
       "10658"
      ]
     },
     "execution_count": 9,
     "metadata": {},
     "output_type": "execute_result"
    }
   ],
   "source": [
    "# Total number of sentences\n",
    "len(text)"
   ]
  },
  {
   "cell_type": "code",
   "execution_count": 10,
   "metadata": {},
   "outputs": [
    {
     "data": {
      "text/plain": [
       "76"
      ]
     },
     "execution_count": 10,
     "metadata": {},
     "output_type": "execute_result"
    }
   ],
   "source": [
    "# Longest sentence - plus start/stop\n",
    "max(len(i) for i in text)+2"
   ]
  },
  {
   "cell_type": "code",
   "execution_count": 11,
   "metadata": {},
   "outputs": [
    {
     "data": {
      "text/plain": [
       "72"
      ]
     },
     "execution_count": 11,
     "metadata": {},
     "output_type": "execute_result"
    }
   ],
   "source": [
    "# Number of tokens (each will be one-hot encoded)\n",
    "len(itos)"
   ]
  },
  {
   "cell_type": "markdown",
   "metadata": {},
   "source": [
    "OK, so we have 10,658 lines of text and the *longest* line we have in the text is 76 tokens (we add 2 for the start and stop tokens that we will add to these sentences). You can also see that there are 71 unique tokens identified for this text, which will be the input layer size for our network.\n",
    "\n",
    "Let's prepare functions which will map a sentence to a one-hot vector (encoding) and also reverse this process when needed (decoding)."
   ]
  },
  {
   "cell_type": "code",
   "execution_count": 12,
   "metadata": {},
   "outputs": [],
   "source": [
    "def encode_seq(x,mapping,min_length=0):\n",
    "    # String to one-hot\n",
    "    y = [mapping['START']]\n",
    "    for i in list(x):\n",
    "        y = y + [mapping[i]]\n",
    "    y = y + [mapping['STOP']]\n",
    "    # Stop-padding - handled elsewhere...\n",
    "    while len(y) < min_length:\n",
    "        y = y + [mapping['STOP']]\n",
    "    return y\n",
    "\n",
    "def decode_seq(x,mapping):\n",
    "    # One-hot to string\n",
    "    y = []\n",
    "    for i in x:\n",
    "        if i == 2:\n",
    "            break\n",
    "        y = y + [mapping[i]]\n",
    "    return ''.join(y)"
   ]
  },
  {
   "cell_type": "code",
   "execution_count": 13,
   "metadata": {},
   "outputs": [
    {
     "name": "stdout",
     "output_type": "stream",
     "text": [
      "[1, 29, 65, 3, 54, 64, 3, 46, 3, 65, 63, 66, 65, 53, 3, 66, 59, 54, 67, 50, 63, 64, 46, 57, 57, 70, 3, 46, 48, 56, 59, 60, 68, 57, 50, 49, 52, 50, 49, 10, 3, 65, 53, 46, 65, 3, 46, 3, 64, 54, 59, 52, 57, 50, 3, 58, 46, 59, 3, 54, 59, 3, 61, 60, 64, 64, 50, 64, 64, 54, 60, 59, 2]\n"
     ]
    },
    {
     "data": {
      "text/plain": [
       "'It is a truth universally acknowledged, that a single man in possession'"
      ]
     },
     "execution_count": 13,
     "metadata": {},
     "output_type": "execute_result"
    }
   ],
   "source": [
    "# An encoding-decoding cycle on the first line...\n",
    "temp = encode_seq(text[0],stoi)\n",
    "print(temp)\n",
    "temp = decode_seq(temp,itos)\n",
    "temp"
   ]
  },
  {
   "cell_type": "code",
   "execution_count": 14,
   "metadata": {},
   "outputs": [
    {
     "data": {
      "text/plain": [
       "'It is a truth universally acknowledged, that a single man in possession'"
      ]
     },
     "execution_count": 14,
     "metadata": {},
     "output_type": "execute_result"
    }
   ],
   "source": [
    "# What was the first line in its original form?\n",
    "text[0]"
   ]
  },
  {
   "cell_type": "markdown",
   "metadata": {},
   "source": [
    "I will leave it to you to see what the encoded form likes like if you are curious, but we can clearly both encode and decode these vectors properly.\n",
    "\n",
    "Now, we process all of the data in the text corpus with this information...\n",
    "\n",
    "You will notice one strange thing here. I will first create a matrix specifying an equal probability of observing any token (1/71). This is because softmax can't produce an output vector of all zeros and some of the encoded strings are not 76 elements long. So, the remaining time steps must be completed with something that the softmax function can potentially match. Softmax will *never* be able to match a *flat* (all-zero) distribution, and I don't want to skew our final results by asking the network to interpret and adjust to values which are literally *impossible* for the network to utilize. This is because we will use the final output from the network as input again to predict the next sentence later on. Therefore, the input and output encodings should be consistent to match this expectation..."
   ]
  },
  {
   "cell_type": "code",
   "execution_count": 15,
   "metadata": {},
   "outputs": [],
   "source": [
    "# Encode that data\n",
    "dataX = np.zeros([len(text),max([len(i) for i in text])+2])\n",
    "for i in range(len(text)):\n",
    "    temp = encode_seq(text[i],stoi)\n",
    "    dataX[i,0:len(temp)] = temp\n",
    "# Not strictly necessary, but I was trying some alternative strategies\n",
    "# earlier and this is worth keeping around...\n",
    "# This will be the same as dataX using this implementation...\n",
    "dataY = np.zeros([len(text),max([len(i) for i in text])+2])\n",
    "for i in range(len(text)):\n",
    "    temp = encode_seq(text[i],stoi)\n",
    "    dataY[i,0:len(temp)] = temp"
   ]
  },
  {
   "cell_type": "markdown",
   "metadata": {},
   "source": [
    "Now we split this into input (`X`) and pre- and post-step decoder inputs (`preY` and `postY`)..."
   ]
  },
  {
   "cell_type": "markdown",
   "metadata": {},
   "source": [
    "Let's decide on how much P&P we really want to learn about. For this example I will just show you how work with 5 sentences, but more could be used..."
   ]
  },
  {
   "cell_type": "code",
   "execution_count": 16,
   "metadata": {},
   "outputs": [
    {
     "name": "stdout",
     "output_type": "stream",
     "text": [
      "(10657, 76)\n",
      "(10657, 76)\n",
      "(10657, 75)\n",
      "(10657, 75)\n"
     ]
    }
   ],
   "source": [
    "nlines = dataX.shape[0]-1\n",
    "\n",
    "X = dataX[0:dataX.shape[0]-1,:]\n",
    "Y = dataY[1:dataY.shape[0],:]\n",
    "preY = Y[:,0:Y.shape[1]-1]\n",
    "postY = Y[:,1:Y.shape[1]]\n",
    "\n",
    "X = np.int32(X[0:nlines,:])\n",
    "Y = np.int32(Y[0:nlines,:])\n",
    "preY = np.int32(preY[0:nlines,:])\n",
    "postY = np.int32(postY[0:nlines,:])\n",
    "\n",
    "print(X.shape)\n",
    "print(Y.shape)\n",
    "print(preY.shape)\n",
    "print(postY.shape)"
   ]
  },
  {
   "cell_type": "markdown",
   "metadata": {},
   "source": [
    "We will not be using the entire text here. In essence, we are asking it to memorize what comes next in sequence from start to finish, and the first 5 sentence pairs will be used as a benchmark to see if anything useful is learned from this training regime. We will see if it can encode and recall these sentences after training, both *with* and *without* teacher forcing.\n",
    "\n",
    "It's now time to define the network needed to solve this problem... this will be part of the assignment as outlined below, so use the example above on learning the parity problem to construct a network appropriate for the \"Jane Austen\" problem. Remember, a large hidden layer may be needed to encode *many* sentence structures, but I just used 3\\*76 for the examples below. You may need a larger network when encoding longer parts of the text. I've kept the `summary()` output for my model below to provide some additional hints. "
   ]
  },
  {
   "cell_type": "code",
   "execution_count": 17,
   "metadata": {},
   "outputs": [],
   "source": [
    "# Your model here!"
   ]
  },
  {
   "cell_type": "code",
   "execution_count": 18,
   "metadata": {},
   "outputs": [],
   "source": [
    "# Lengths of input and output strings\n",
    "input_length = X.shape[1]\n",
    "output_length = postY.shape[1]\n",
    "\n",
    "# Vocabulary size...\n",
    "# Use the same vocabulary here for simplicity...\n",
    "encoder_vocab_size = len(itos)\n",
    "decoder_vocab_size = len(itos)"
   ]
  },
  {
   "cell_type": "code",
   "execution_count": 73,
   "metadata": {},
   "outputs": [
    {
     "name": "stdout",
     "output_type": "stream",
     "text": [
      "Model: \"model_12\"\n",
      "__________________________________________________________________________________________________\n",
      "Layer (type)                    Output Shape         Param #     Connected to                     \n",
      "==================================================================================================\n",
      "input_22 (InputLayer)           [(None, None)]       0                                            \n",
      "__________________________________________________________________________________________________\n",
      "masked_token_and_position_embed (None, None, 256)    38144       input_22[0][0]                   \n",
      "__________________________________________________________________________________________________\n",
      "transformer_block_60 (Transform (None, None, 256)    2103808     masked_token_and_position_embeddi\n",
      "__________________________________________________________________________________________________\n",
      "input_23 (InputLayer)           [(None, None)]       0                                            \n",
      "__________________________________________________________________________________________________\n",
      "transformer_block_61 (Transform (None, None, 256)    2103808     transformer_block_60[0][0]       \n",
      "__________________________________________________________________________________________________\n",
      "masked_token_and_position_embed (None, None, 256)    37888       input_23[0][0]                   \n",
      "__________________________________________________________________________________________________\n",
      "transformer_block_62 (Transform (None, None, 256)    2103808     transformer_block_61[0][0]       \n",
      "__________________________________________________________________________________________________\n",
      "masked_transformer_block_60 (Ma (None, None, 256)    3155712     masked_token_and_position_embeddi\n",
      "                                                                 transformer_block_62[0][0]       \n",
      "__________________________________________________________________________________________________\n",
      "masked_transformer_block_61 (Ma (None, None, 256)    3155712     masked_transformer_block_60[0][0]\n",
      "                                                                 transformer_block_62[0][0]       \n",
      "__________________________________________________________________________________________________\n",
      "masked_transformer_block_62 (Ma (None, None, 256)    3155712     masked_transformer_block_61[0][0]\n",
      "                                                                 transformer_block_62[0][0]       \n",
      "__________________________________________________________________________________________________\n",
      "dense_262 (Dense)               (None, None, 72)     18504       masked_transformer_block_62[0][0]\n",
      "==================================================================================================\n",
      "Total params: 15,873,096\n",
      "Trainable params: 15,873,096\n",
      "Non-trainable params: 0\n",
      "__________________________________________________________________________________________________\n"
     ]
    }
   ],
   "source": [
    "# Size of the gestalt, context representations...\n",
    "embed_dim = 256  # Embedding size for each token\n",
    "num_heads = 4  # Number of attention heads\n",
    "ff_dim = 2048  # Hidden layer size in feed forward network inside transformer\n",
    "stack = 3\n",
    "wd = 0.0001\n",
    "\n",
    "## Encoder Construction\n",
    "with strategy.scope():\n",
    "    # Make the layers\n",
    "    encoder_input = keras.layers.Input(shape=(None,))\n",
    "    encoder_embedding = MaskedTokenAndPositionEmbedding(\n",
    "        maxlen=input_length,\n",
    "        vocab_size=encoder_vocab_size,\n",
    "        embed_dim=embed_dim)(encoder_input)\n",
    "\n",
    "    x = encoder_embedding\n",
    "    for _ in range(stack):\n",
    "        x = TransformerBlock(embed_dim=embed_dim,\n",
    "                             num_heads=num_heads,\n",
    "                             ff_dim=ff_dim)(x)\n",
    "    encoder_state = x\n",
    "    \n",
    "    ## Decoder Construction\n",
    "    # Set up the decoder blocks, using `encoder_state` as initial state.\n",
    "    decoder_input = keras.layers.Input(shape=(None,))\n",
    "    decoder_embedding = MaskedTokenAndPositionEmbedding(\n",
    "        maxlen=output_length,\n",
    "        vocab_size=decoder_vocab_size,\n",
    "        embed_dim=embed_dim)(decoder_input)\n",
    "    \n",
    "    x = decoder_embedding\n",
    "    decoder_blocks = []\n",
    "    for _ in range(stack):\n",
    "        decoder_blocks += [MaskedTransformerBlock(embed_dim=embed_dim,\n",
    "                                                  num_heads=num_heads,\n",
    "                                                  ff_dim=ff_dim)]\n",
    "        x = decoder_blocks[-1]([x,encoder_state])\n",
    "\n",
    "    decoder_dense = keras.layers.Dense(decoder_vocab_size,\n",
    "                                       activation='softmax')\n",
    "    decoder_output = decoder_dense(x)\n",
    "\n",
    "    model = keras.Model([encoder_input, decoder_input],\n",
    "                         decoder_output)\n",
    "\n",
    "    # Compile it...\n",
    "    model.compile(loss=MaskedSparseCategoricalCrossentropy,\n",
    "                  optimizer=tfa.optimizers.AdamW(lr=0.0003,weight_decay=wd),\n",
    "                  metrics=[MaskedSparseCategoricalAccuracy])"
   ]
  },
  {
   "cell_type": "code",
   "execution_count": 77,
   "metadata": {},
   "outputs": [
    {
     "name": "stdout",
     "output_type": "stream",
     "text": [
      "Model: \"model_12\"\n",
      "__________________________________________________________________________________________________\n",
      "Layer (type)                    Output Shape         Param #     Connected to                     \n",
      "==================================================================================================\n",
      "input_22 (InputLayer)           [(None, None)]       0                                            \n",
      "__________________________________________________________________________________________________\n",
      "masked_token_and_position_embed (None, None, 256)    38144       input_22[0][0]                   \n",
      "__________________________________________________________________________________________________\n",
      "transformer_block_60 (Transform (None, None, 256)    2103808     masked_token_and_position_embeddi\n",
      "__________________________________________________________________________________________________\n",
      "input_23 (InputLayer)           [(None, None)]       0                                            \n",
      "__________________________________________________________________________________________________\n",
      "transformer_block_61 (Transform (None, None, 256)    2103808     transformer_block_60[0][0]       \n",
      "__________________________________________________________________________________________________\n",
      "masked_token_and_position_embed (None, None, 256)    37888       input_23[0][0]                   \n",
      "__________________________________________________________________________________________________\n",
      "transformer_block_62 (Transform (None, None, 256)    2103808     transformer_block_61[0][0]       \n",
      "__________________________________________________________________________________________________\n",
      "masked_transformer_block_60 (Ma (None, None, 256)    3155712     masked_token_and_position_embeddi\n",
      "                                                                 transformer_block_62[0][0]       \n",
      "__________________________________________________________________________________________________\n",
      "masked_transformer_block_61 (Ma (None, None, 256)    3155712     masked_transformer_block_60[0][0]\n",
      "                                                                 transformer_block_62[0][0]       \n",
      "__________________________________________________________________________________________________\n",
      "masked_transformer_block_62 (Ma (None, None, 256)    3155712     masked_transformer_block_61[0][0]\n",
      "                                                                 transformer_block_62[0][0]       \n",
      "__________________________________________________________________________________________________\n",
      "dense_262 (Dense)               (None, None, 72)     18504       masked_transformer_block_62[0][0]\n",
      "==================================================================================================\n",
      "Total params: 15,873,096\n",
      "Trainable params: 15,873,096\n",
      "Non-trainable params: 0\n",
      "__________________________________________________________________________________________________\n"
     ]
    }
   ],
   "source": [
    "model.summary()"
   ]
  },
  {
   "cell_type": "markdown",
   "metadata": {},
   "source": [
    "nlines = 50\n",
    "Training consists of running through the sequence set many times. We will train a *reasonable* amount here for this problem. If you wanted to increase the number of epochs or use a batch size to encourage faster convergence when you train, that may be helpful..."
   ]
  },
  {
   "cell_type": "code",
   "execution_count": 74,
   "metadata": {},
   "outputs": [
    {
     "name": "stdout",
     "output_type": "stream",
     "text": [
      "Epoch 1/300\n",
      "84/84 - 13s - loss: 2.5554 - MaskedSparseCategoricalAccuracy: 0.2638\n",
      "Epoch 2/300\n",
      "84/84 - 9s - loss: 2.2533 - MaskedSparseCategoricalAccuracy: 0.3270\n",
      "Epoch 3/300\n",
      "84/84 - 9s - loss: 1.9717 - MaskedSparseCategoricalAccuracy: 0.4110\n",
      "Epoch 4/300\n",
      "84/84 - 9s - loss: 1.8091 - MaskedSparseCategoricalAccuracy: 0.4547\n",
      "Epoch 5/300\n",
      "84/84 - 9s - loss: 1.7018 - MaskedSparseCategoricalAccuracy: 0.4825\n",
      "Epoch 6/300\n",
      "84/84 - 9s - loss: 1.6244 - MaskedSparseCategoricalAccuracy: 0.5038\n",
      "Epoch 7/300\n",
      "84/84 - 9s - loss: 1.5637 - MaskedSparseCategoricalAccuracy: 0.5207\n",
      "Epoch 8/300\n",
      "84/84 - 9s - loss: 1.5109 - MaskedSparseCategoricalAccuracy: 0.5363\n",
      "Epoch 9/300\n",
      "84/84 - 9s - loss: 1.4674 - MaskedSparseCategoricalAccuracy: 0.5476\n",
      "Epoch 10/300\n",
      "84/84 - 9s - loss: 1.4312 - MaskedSparseCategoricalAccuracy: 0.5572\n",
      "Epoch 11/300\n",
      "84/84 - 9s - loss: 1.3983 - MaskedSparseCategoricalAccuracy: 0.5670\n",
      "Epoch 12/300\n",
      "84/84 - 9s - loss: 1.3702 - MaskedSparseCategoricalAccuracy: 0.5740\n",
      "Epoch 13/300\n",
      "84/84 - 9s - loss: 1.3429 - MaskedSparseCategoricalAccuracy: 0.5819\n",
      "Epoch 14/300\n",
      "84/84 - 9s - loss: 1.3207 - MaskedSparseCategoricalAccuracy: 0.5873\n",
      "Epoch 15/300\n",
      "84/84 - 9s - loss: 1.2997 - MaskedSparseCategoricalAccuracy: 0.5937\n",
      "Epoch 16/300\n",
      "84/84 - 9s - loss: 1.2804 - MaskedSparseCategoricalAccuracy: 0.5984\n",
      "Epoch 17/300\n",
      "84/84 - 9s - loss: 1.2623 - MaskedSparseCategoricalAccuracy: 0.6036\n",
      "Epoch 18/300\n",
      "84/84 - 9s - loss: 1.2457 - MaskedSparseCategoricalAccuracy: 0.6078\n",
      "Epoch 19/300\n",
      "84/84 - 9s - loss: 1.2296 - MaskedSparseCategoricalAccuracy: 0.6118\n",
      "Epoch 20/300\n",
      "84/84 - 9s - loss: 1.2150 - MaskedSparseCategoricalAccuracy: 0.6164\n",
      "Epoch 21/300\n",
      "84/84 - 9s - loss: 1.1997 - MaskedSparseCategoricalAccuracy: 0.6209\n",
      "Epoch 22/300\n",
      "84/84 - 9s - loss: 1.1841 - MaskedSparseCategoricalAccuracy: 0.6256\n",
      "Epoch 23/300\n",
      "84/84 - 9s - loss: 1.1713 - MaskedSparseCategoricalAccuracy: 0.6291\n",
      "Epoch 24/300\n",
      "84/84 - 9s - loss: 1.1570 - MaskedSparseCategoricalAccuracy: 0.6329\n",
      "Epoch 25/300\n",
      "84/84 - 9s - loss: 1.1438 - MaskedSparseCategoricalAccuracy: 0.6369\n",
      "Epoch 26/300\n",
      "84/84 - 9s - loss: 1.1311 - MaskedSparseCategoricalAccuracy: 0.6404\n",
      "Epoch 27/300\n",
      "84/84 - 9s - loss: 1.1163 - MaskedSparseCategoricalAccuracy: 0.6445\n",
      "Epoch 28/300\n",
      "84/84 - 9s - loss: 1.1034 - MaskedSparseCategoricalAccuracy: 0.6484\n",
      "Epoch 29/300\n",
      "84/84 - 9s - loss: 1.0903 - MaskedSparseCategoricalAccuracy: 0.6516\n",
      "Epoch 30/300\n",
      "84/84 - 9s - loss: 1.0754 - MaskedSparseCategoricalAccuracy: 0.6564\n",
      "Epoch 31/300\n",
      "84/84 - 9s - loss: 1.0620 - MaskedSparseCategoricalAccuracy: 0.6607\n",
      "Epoch 32/300\n",
      "84/84 - 9s - loss: 1.0475 - MaskedSparseCategoricalAccuracy: 0.6642\n",
      "Epoch 33/300\n",
      "84/84 - 9s - loss: 1.0341 - MaskedSparseCategoricalAccuracy: 0.6690\n",
      "Epoch 34/300\n",
      "84/84 - 9s - loss: 1.0201 - MaskedSparseCategoricalAccuracy: 0.6732\n",
      "Epoch 35/300\n",
      "84/84 - 9s - loss: 1.0042 - MaskedSparseCategoricalAccuracy: 0.6773\n",
      "Epoch 36/300\n",
      "84/84 - 9s - loss: 0.9918 - MaskedSparseCategoricalAccuracy: 0.6806\n",
      "Epoch 37/300\n",
      "84/84 - 9s - loss: 0.9770 - MaskedSparseCategoricalAccuracy: 0.6853\n",
      "Epoch 38/300\n",
      "84/84 - 9s - loss: 0.9598 - MaskedSparseCategoricalAccuracy: 0.6912\n",
      "Epoch 39/300\n",
      "84/84 - 9s - loss: 0.9469 - MaskedSparseCategoricalAccuracy: 0.6952\n",
      "Epoch 40/300\n",
      "84/84 - 9s - loss: 0.9297 - MaskedSparseCategoricalAccuracy: 0.7003\n",
      "Epoch 41/300\n",
      "84/84 - 9s - loss: 0.9141 - MaskedSparseCategoricalAccuracy: 0.7043\n",
      "Epoch 42/300\n",
      "84/84 - 9s - loss: 0.8989 - MaskedSparseCategoricalAccuracy: 0.7096\n",
      "Epoch 43/300\n",
      "84/84 - 9s - loss: 0.8834 - MaskedSparseCategoricalAccuracy: 0.7146\n",
      "Epoch 44/300\n",
      "84/84 - 9s - loss: 0.8659 - MaskedSparseCategoricalAccuracy: 0.7196\n",
      "Epoch 45/300\n",
      "84/84 - 9s - loss: 0.8503 - MaskedSparseCategoricalAccuracy: 0.7243\n",
      "Epoch 46/300\n",
      "84/84 - 9s - loss: 0.8359 - MaskedSparseCategoricalAccuracy: 0.7287\n",
      "Epoch 47/300\n",
      "84/84 - 9s - loss: 0.8196 - MaskedSparseCategoricalAccuracy: 0.7340\n",
      "Epoch 48/300\n",
      "84/84 - 9s - loss: 0.8005 - MaskedSparseCategoricalAccuracy: 0.7398\n",
      "Epoch 49/300\n",
      "84/84 - 9s - loss: 0.7832 - MaskedSparseCategoricalAccuracy: 0.7450\n",
      "Epoch 50/300\n",
      "84/84 - 9s - loss: 0.7696 - MaskedSparseCategoricalAccuracy: 0.7497\n",
      "Epoch 51/300\n",
      "84/84 - 9s - loss: 0.7522 - MaskedSparseCategoricalAccuracy: 0.7541\n",
      "Epoch 52/300\n",
      "84/84 - 9s - loss: 0.7358 - MaskedSparseCategoricalAccuracy: 0.7594\n",
      "Epoch 53/300\n",
      "84/84 - 9s - loss: 0.7211 - MaskedSparseCategoricalAccuracy: 0.7646\n",
      "Epoch 54/300\n",
      "84/84 - 9s - loss: 0.7025 - MaskedSparseCategoricalAccuracy: 0.7700\n",
      "Epoch 55/300\n",
      "84/84 - 9s - loss: 0.6901 - MaskedSparseCategoricalAccuracy: 0.7735\n",
      "Epoch 56/300\n",
      "84/84 - 9s - loss: 0.6737 - MaskedSparseCategoricalAccuracy: 0.7786\n",
      "Epoch 57/300\n",
      "84/84 - 9s - loss: 0.6578 - MaskedSparseCategoricalAccuracy: 0.7837\n",
      "Epoch 58/300\n",
      "84/84 - 9s - loss: 0.6450 - MaskedSparseCategoricalAccuracy: 0.7874\n",
      "Epoch 59/300\n",
      "84/84 - 9s - loss: 0.6282 - MaskedSparseCategoricalAccuracy: 0.7932\n",
      "Epoch 60/300\n",
      "84/84 - 9s - loss: 0.6120 - MaskedSparseCategoricalAccuracy: 0.7982\n",
      "Epoch 61/300\n",
      "84/84 - 9s - loss: 0.5973 - MaskedSparseCategoricalAccuracy: 0.8026\n",
      "Epoch 62/300\n",
      "84/84 - 9s - loss: 0.5837 - MaskedSparseCategoricalAccuracy: 0.8066\n",
      "Epoch 63/300\n",
      "84/84 - 9s - loss: 0.5712 - MaskedSparseCategoricalAccuracy: 0.8100\n",
      "Epoch 64/300\n",
      "84/84 - 9s - loss: 0.5578 - MaskedSparseCategoricalAccuracy: 0.8147\n",
      "Epoch 65/300\n",
      "84/84 - 9s - loss: 0.5443 - MaskedSparseCategoricalAccuracy: 0.8189\n",
      "Epoch 66/300\n",
      "84/84 - 9s - loss: 0.5299 - MaskedSparseCategoricalAccuracy: 0.8235\n",
      "Epoch 67/300\n",
      "84/84 - 9s - loss: 0.5167 - MaskedSparseCategoricalAccuracy: 0.8275\n",
      "Epoch 68/300\n",
      "84/84 - 9s - loss: 0.5066 - MaskedSparseCategoricalAccuracy: 0.8306\n",
      "Epoch 69/300\n",
      "84/84 - 9s - loss: 0.4939 - MaskedSparseCategoricalAccuracy: 0.8355\n",
      "Epoch 70/300\n",
      "84/84 - 9s - loss: 0.4812 - MaskedSparseCategoricalAccuracy: 0.8385\n",
      "Epoch 71/300\n",
      "84/84 - 9s - loss: 0.4721 - MaskedSparseCategoricalAccuracy: 0.8417\n",
      "Epoch 72/300\n",
      "84/84 - 9s - loss: 0.4587 - MaskedSparseCategoricalAccuracy: 0.8462\n",
      "Epoch 73/300\n",
      "84/84 - 9s - loss: 0.4473 - MaskedSparseCategoricalAccuracy: 0.8488\n",
      "Epoch 74/300\n",
      "84/84 - 9s - loss: 0.4414 - MaskedSparseCategoricalAccuracy: 0.8513\n",
      "Epoch 75/300\n",
      "84/84 - 9s - loss: 0.4304 - MaskedSparseCategoricalAccuracy: 0.8549\n",
      "Epoch 76/300\n",
      "84/84 - 9s - loss: 0.4200 - MaskedSparseCategoricalAccuracy: 0.8581\n",
      "Epoch 77/300\n",
      "84/84 - 9s - loss: 0.4140 - MaskedSparseCategoricalAccuracy: 0.8603\n",
      "Epoch 78/300\n",
      "84/84 - 9s - loss: 0.4020 - MaskedSparseCategoricalAccuracy: 0.8641\n",
      "Epoch 79/300\n",
      "84/84 - 9s - loss: 0.3945 - MaskedSparseCategoricalAccuracy: 0.8670\n",
      "Epoch 80/300\n",
      "84/84 - 9s - loss: 0.3850 - MaskedSparseCategoricalAccuracy: 0.8690\n",
      "Epoch 81/300\n",
      "84/84 - 9s - loss: 0.3830 - MaskedSparseCategoricalAccuracy: 0.8700\n",
      "Epoch 82/300\n",
      "84/84 - 9s - loss: 0.3714 - MaskedSparseCategoricalAccuracy: 0.8743\n",
      "Epoch 83/300\n",
      "84/84 - 9s - loss: 0.3625 - MaskedSparseCategoricalAccuracy: 0.8772\n",
      "Epoch 84/300\n",
      "84/84 - 9s - loss: 0.3586 - MaskedSparseCategoricalAccuracy: 0.8780\n",
      "Epoch 85/300\n",
      "84/84 - 9s - loss: 0.3504 - MaskedSparseCategoricalAccuracy: 0.8807\n",
      "Epoch 86/300\n",
      "84/84 - 9s - loss: 0.3467 - MaskedSparseCategoricalAccuracy: 0.8818\n",
      "Epoch 87/300\n",
      "84/84 - 9s - loss: 0.3359 - MaskedSparseCategoricalAccuracy: 0.8856\n",
      "Epoch 88/300\n",
      "84/84 - 9s - loss: 0.3304 - MaskedSparseCategoricalAccuracy: 0.8873\n",
      "Epoch 89/300\n",
      "84/84 - 9s - loss: 0.3296 - MaskedSparseCategoricalAccuracy: 0.8871\n",
      "Epoch 90/300\n",
      "84/84 - 9s - loss: 0.3222 - MaskedSparseCategoricalAccuracy: 0.8901\n",
      "Epoch 91/300\n",
      "84/84 - 9s - loss: 0.3170 - MaskedSparseCategoricalAccuracy: 0.8915\n",
      "Epoch 92/300\n",
      "84/84 - 9s - loss: 0.3132 - MaskedSparseCategoricalAccuracy: 0.8932\n",
      "Epoch 93/300\n",
      "84/84 - 9s - loss: 0.3091 - MaskedSparseCategoricalAccuracy: 0.8946\n",
      "Epoch 94/300\n",
      "84/84 - 9s - loss: 0.3026 - MaskedSparseCategoricalAccuracy: 0.8964\n",
      "Epoch 95/300\n",
      "84/84 - 9s - loss: 0.2970 - MaskedSparseCategoricalAccuracy: 0.8987\n",
      "Epoch 96/300\n",
      "84/84 - 9s - loss: 0.2941 - MaskedSparseCategoricalAccuracy: 0.8996\n",
      "Epoch 97/300\n",
      "84/84 - 9s - loss: 0.2911 - MaskedSparseCategoricalAccuracy: 0.9006\n",
      "Epoch 98/300\n",
      "84/84 - 9s - loss: 0.2887 - MaskedSparseCategoricalAccuracy: 0.9011\n",
      "Epoch 99/300\n",
      "84/84 - 9s - loss: 0.2812 - MaskedSparseCategoricalAccuracy: 0.9041\n",
      "Epoch 100/300\n",
      "84/84 - 9s - loss: 0.2810 - MaskedSparseCategoricalAccuracy: 0.9037\n",
      "Epoch 101/300\n",
      "84/84 - 9s - loss: 0.2775 - MaskedSparseCategoricalAccuracy: 0.9049\n",
      "Epoch 102/300\n",
      "84/84 - 9s - loss: 0.2701 - MaskedSparseCategoricalAccuracy: 0.9078\n",
      "Epoch 103/300\n",
      "84/84 - 9s - loss: 0.2693 - MaskedSparseCategoricalAccuracy: 0.9079\n",
      "Epoch 104/300\n",
      "84/84 - 9s - loss: 0.2660 - MaskedSparseCategoricalAccuracy: 0.9088\n",
      "Epoch 105/300\n",
      "84/84 - 9s - loss: 0.2684 - MaskedSparseCategoricalAccuracy: 0.9079\n",
      "Epoch 106/300\n",
      "84/84 - 9s - loss: 0.2630 - MaskedSparseCategoricalAccuracy: 0.9098\n",
      "Epoch 107/300\n",
      "84/84 - 9s - loss: 0.2600 - MaskedSparseCategoricalAccuracy: 0.9112\n",
      "Epoch 108/300\n",
      "84/84 - 9s - loss: 0.2588 - MaskedSparseCategoricalAccuracy: 0.9111\n",
      "Epoch 109/300\n",
      "84/84 - 9s - loss: 0.2544 - MaskedSparseCategoricalAccuracy: 0.9129\n",
      "Epoch 110/300\n",
      "84/84 - 9s - loss: 0.2559 - MaskedSparseCategoricalAccuracy: 0.9117\n",
      "Epoch 111/300\n",
      "84/84 - 9s - loss: 0.2490 - MaskedSparseCategoricalAccuracy: 0.9149\n",
      "Epoch 112/300\n",
      "84/84 - 9s - loss: 0.2489 - MaskedSparseCategoricalAccuracy: 0.9150\n",
      "Epoch 113/300\n",
      "84/84 - 9s - loss: 0.2439 - MaskedSparseCategoricalAccuracy: 0.9166\n",
      "Epoch 114/300\n",
      "84/84 - 9s - loss: 0.2458 - MaskedSparseCategoricalAccuracy: 0.9158\n",
      "Epoch 115/300\n",
      "84/84 - 9s - loss: 0.2435 - MaskedSparseCategoricalAccuracy: 0.9166\n",
      "Epoch 116/300\n",
      "84/84 - 9s - loss: 0.2438 - MaskedSparseCategoricalAccuracy: 0.9164\n",
      "Epoch 117/300\n",
      "84/84 - 9s - loss: 0.2394 - MaskedSparseCategoricalAccuracy: 0.9183\n",
      "Epoch 118/300\n",
      "84/84 - 9s - loss: 0.2390 - MaskedSparseCategoricalAccuracy: 0.9187\n",
      "Epoch 119/300\n",
      "84/84 - 9s - loss: 0.2319 - MaskedSparseCategoricalAccuracy: 0.9211\n",
      "Epoch 120/300\n",
      "84/84 - 9s - loss: 0.2341 - MaskedSparseCategoricalAccuracy: 0.9201\n",
      "Epoch 121/300\n",
      "84/84 - 9s - loss: 0.2315 - MaskedSparseCategoricalAccuracy: 0.9206\n",
      "Epoch 122/300\n",
      "84/84 - 9s - loss: 0.2382 - MaskedSparseCategoricalAccuracy: 0.9188\n",
      "Epoch 123/300\n",
      "84/84 - 9s - loss: 0.2260 - MaskedSparseCategoricalAccuracy: 0.9230\n",
      "Epoch 124/300\n",
      "84/84 - 9s - loss: 0.2273 - MaskedSparseCategoricalAccuracy: 0.9224\n",
      "Epoch 125/300\n",
      "84/84 - 9s - loss: 0.2253 - MaskedSparseCategoricalAccuracy: 0.9230\n",
      "Epoch 126/300\n",
      "84/84 - 9s - loss: 0.2284 - MaskedSparseCategoricalAccuracy: 0.9222\n",
      "Epoch 127/300\n",
      "84/84 - 9s - loss: 0.2225 - MaskedSparseCategoricalAccuracy: 0.9239\n",
      "Epoch 128/300\n",
      "84/84 - 9s - loss: 0.2216 - MaskedSparseCategoricalAccuracy: 0.9244\n",
      "Epoch 129/300\n",
      "84/84 - 9s - loss: 0.2229 - MaskedSparseCategoricalAccuracy: 0.9237\n",
      "Epoch 130/300\n",
      "84/84 - 9s - loss: 0.2210 - MaskedSparseCategoricalAccuracy: 0.9247\n",
      "Epoch 131/300\n",
      "84/84 - 9s - loss: 0.2195 - MaskedSparseCategoricalAccuracy: 0.9251\n",
      "Epoch 132/300\n",
      "84/84 - 9s - loss: 0.2190 - MaskedSparseCategoricalAccuracy: 0.9251\n",
      "Epoch 133/300\n",
      "84/84 - 9s - loss: 0.2160 - MaskedSparseCategoricalAccuracy: 0.9265\n",
      "Epoch 134/300\n",
      "84/84 - 9s - loss: 0.2141 - MaskedSparseCategoricalAccuracy: 0.9267\n",
      "Epoch 135/300\n",
      "84/84 - 9s - loss: 0.2217 - MaskedSparseCategoricalAccuracy: 0.9240\n",
      "Epoch 136/300\n",
      "84/84 - 9s - loss: 0.2182 - MaskedSparseCategoricalAccuracy: 0.9256\n",
      "Epoch 137/300\n",
      "84/84 - 9s - loss: 0.2155 - MaskedSparseCategoricalAccuracy: 0.9264\n",
      "Epoch 138/300\n",
      "84/84 - 9s - loss: 0.2150 - MaskedSparseCategoricalAccuracy: 0.9271\n",
      "Epoch 139/300\n",
      "84/84 - 9s - loss: 0.2095 - MaskedSparseCategoricalAccuracy: 0.9285\n",
      "Epoch 140/300\n",
      "84/84 - 9s - loss: 0.2097 - MaskedSparseCategoricalAccuracy: 0.9286\n",
      "Epoch 141/300\n",
      "84/84 - 9s - loss: 0.2087 - MaskedSparseCategoricalAccuracy: 0.9291\n",
      "Epoch 142/300\n",
      "84/84 - 9s - loss: 0.2096 - MaskedSparseCategoricalAccuracy: 0.9285\n",
      "Epoch 143/300\n",
      "84/84 - 9s - loss: 0.2071 - MaskedSparseCategoricalAccuracy: 0.9295\n",
      "Epoch 144/300\n",
      "84/84 - 9s - loss: 0.2120 - MaskedSparseCategoricalAccuracy: 0.9274\n",
      "Epoch 145/300\n",
      "84/84 - 9s - loss: 0.2082 - MaskedSparseCategoricalAccuracy: 0.9292\n",
      "Epoch 146/300\n",
      "84/84 - 9s - loss: 0.2085 - MaskedSparseCategoricalAccuracy: 0.9288\n",
      "Epoch 147/300\n",
      "84/84 - 9s - loss: 0.2066 - MaskedSparseCategoricalAccuracy: 0.9296\n",
      "Epoch 148/300\n",
      "84/84 - 9s - loss: 0.2085 - MaskedSparseCategoricalAccuracy: 0.9290\n",
      "Epoch 149/300\n",
      "84/84 - 9s - loss: 0.2053 - MaskedSparseCategoricalAccuracy: 0.9299\n",
      "Epoch 150/300\n",
      "84/84 - 9s - loss: 0.2053 - MaskedSparseCategoricalAccuracy: 0.9297\n",
      "Epoch 151/300\n",
      "84/84 - 9s - loss: 0.2022 - MaskedSparseCategoricalAccuracy: 0.9309\n",
      "Epoch 152/300\n",
      "84/84 - 9s - loss: 0.2022 - MaskedSparseCategoricalAccuracy: 0.9313\n",
      "Epoch 153/300\n",
      "84/84 - 9s - loss: 0.2003 - MaskedSparseCategoricalAccuracy: 0.9316\n",
      "Epoch 154/300\n",
      "84/84 - 9s - loss: 0.2009 - MaskedSparseCategoricalAccuracy: 0.9315\n",
      "Epoch 155/300\n",
      "84/84 - 9s - loss: 0.1989 - MaskedSparseCategoricalAccuracy: 0.9320\n",
      "Epoch 156/300\n",
      "84/84 - 9s - loss: 0.1993 - MaskedSparseCategoricalAccuracy: 0.9322\n",
      "Epoch 157/300\n",
      "84/84 - 9s - loss: 0.2004 - MaskedSparseCategoricalAccuracy: 0.9316\n",
      "Epoch 158/300\n",
      "84/84 - 9s - loss: 0.1959 - MaskedSparseCategoricalAccuracy: 0.9332\n",
      "Epoch 159/300\n",
      "84/84 - 9s - loss: 0.1982 - MaskedSparseCategoricalAccuracy: 0.9322\n",
      "Epoch 160/300\n",
      "84/84 - 9s - loss: 0.2017 - MaskedSparseCategoricalAccuracy: 0.9316\n",
      "Epoch 161/300\n",
      "84/84 - 9s - loss: 0.1980 - MaskedSparseCategoricalAccuracy: 0.9327\n",
      "Epoch 162/300\n",
      "84/84 - 9s - loss: 0.1940 - MaskedSparseCategoricalAccuracy: 0.9340\n",
      "Epoch 163/300\n",
      "84/84 - 9s - loss: 0.1968 - MaskedSparseCategoricalAccuracy: 0.9335\n",
      "Epoch 164/300\n",
      "84/84 - 9s - loss: 0.1969 - MaskedSparseCategoricalAccuracy: 0.9329\n",
      "Epoch 165/300\n",
      "84/84 - 9s - loss: 0.1948 - MaskedSparseCategoricalAccuracy: 0.9337\n",
      "Epoch 166/300\n",
      "84/84 - 9s - loss: 0.1955 - MaskedSparseCategoricalAccuracy: 0.9336\n",
      "Epoch 167/300\n",
      "84/84 - 9s - loss: 0.1948 - MaskedSparseCategoricalAccuracy: 0.9335\n",
      "Epoch 168/300\n",
      "84/84 - 9s - loss: 0.1935 - MaskedSparseCategoricalAccuracy: 0.9342\n",
      "Epoch 169/300\n",
      "84/84 - 9s - loss: 0.1920 - MaskedSparseCategoricalAccuracy: 0.9345\n",
      "Epoch 170/300\n",
      "84/84 - 9s - loss: 0.1926 - MaskedSparseCategoricalAccuracy: 0.9346\n",
      "Epoch 171/300\n",
      "84/84 - 9s - loss: 0.1935 - MaskedSparseCategoricalAccuracy: 0.9342\n",
      "Epoch 172/300\n",
      "84/84 - 9s - loss: 0.1942 - MaskedSparseCategoricalAccuracy: 0.9340\n",
      "Epoch 173/300\n",
      "84/84 - 9s - loss: 0.1933 - MaskedSparseCategoricalAccuracy: 0.9342\n",
      "Epoch 174/300\n",
      "84/84 - 9s - loss: 0.1884 - MaskedSparseCategoricalAccuracy: 0.9360\n",
      "Epoch 175/300\n",
      "84/84 - 9s - loss: 0.1896 - MaskedSparseCategoricalAccuracy: 0.9357\n",
      "Epoch 176/300\n",
      "84/84 - 9s - loss: 0.1923 - MaskedSparseCategoricalAccuracy: 0.9349\n",
      "Epoch 177/300\n",
      "84/84 - 9s - loss: 0.1912 - MaskedSparseCategoricalAccuracy: 0.9349\n",
      "Epoch 178/300\n",
      "84/84 - 9s - loss: 0.1885 - MaskedSparseCategoricalAccuracy: 0.9358\n",
      "Epoch 179/300\n",
      "84/84 - 9s - loss: 0.1906 - MaskedSparseCategoricalAccuracy: 0.9353\n",
      "Epoch 180/300\n",
      "84/84 - 9s - loss: 0.1888 - MaskedSparseCategoricalAccuracy: 0.9360\n",
      "Epoch 181/300\n",
      "84/84 - 9s - loss: 0.1907 - MaskedSparseCategoricalAccuracy: 0.9351\n",
      "Epoch 182/300\n",
      "84/84 - 9s - loss: 0.1883 - MaskedSparseCategoricalAccuracy: 0.9360\n",
      "Epoch 183/300\n",
      "84/84 - 9s - loss: 0.1877 - MaskedSparseCategoricalAccuracy: 0.9362\n",
      "Epoch 184/300\n",
      "84/84 - 9s - loss: 0.1885 - MaskedSparseCategoricalAccuracy: 0.9360\n",
      "Epoch 185/300\n",
      "84/84 - 9s - loss: 0.1859 - MaskedSparseCategoricalAccuracy: 0.9371\n",
      "Epoch 186/300\n",
      "84/84 - 9s - loss: 0.1875 - MaskedSparseCategoricalAccuracy: 0.9365\n",
      "Epoch 187/300\n",
      "84/84 - 9s - loss: 0.1862 - MaskedSparseCategoricalAccuracy: 0.9371\n",
      "Epoch 188/300\n",
      "84/84 - 9s - loss: 0.1836 - MaskedSparseCategoricalAccuracy: 0.9379\n",
      "Epoch 189/300\n",
      "84/84 - 9s - loss: 0.1877 - MaskedSparseCategoricalAccuracy: 0.9361\n",
      "Epoch 190/300\n",
      "84/84 - 9s - loss: 0.1854 - MaskedSparseCategoricalAccuracy: 0.9372\n",
      "Epoch 191/300\n",
      "84/84 - 9s - loss: 0.1824 - MaskedSparseCategoricalAccuracy: 0.9384\n",
      "Epoch 192/300\n",
      "84/84 - 9s - loss: 0.1828 - MaskedSparseCategoricalAccuracy: 0.9379\n",
      "Epoch 193/300\n",
      "84/84 - 9s - loss: 0.1835 - MaskedSparseCategoricalAccuracy: 0.9377\n",
      "Epoch 194/300\n",
      "84/84 - 9s - loss: 0.1878 - MaskedSparseCategoricalAccuracy: 0.9364\n",
      "Epoch 195/300\n",
      "84/84 - 9s - loss: 0.1873 - MaskedSparseCategoricalAccuracy: 0.9363\n",
      "Epoch 196/300\n",
      "84/84 - 9s - loss: 0.1822 - MaskedSparseCategoricalAccuracy: 0.9383\n",
      "Epoch 197/300\n",
      "84/84 - 9s - loss: 0.1856 - MaskedSparseCategoricalAccuracy: 0.9370\n",
      "Epoch 198/300\n",
      "84/84 - 9s - loss: 0.1795 - MaskedSparseCategoricalAccuracy: 0.9393\n",
      "Epoch 199/300\n",
      "84/84 - 9s - loss: 0.1805 - MaskedSparseCategoricalAccuracy: 0.9389\n",
      "Epoch 200/300\n",
      "84/84 - 9s - loss: 0.1810 - MaskedSparseCategoricalAccuracy: 0.9387\n",
      "Epoch 201/300\n",
      "84/84 - 9s - loss: 0.1825 - MaskedSparseCategoricalAccuracy: 0.9381\n",
      "Epoch 202/300\n",
      "84/84 - 9s - loss: 0.1824 - MaskedSparseCategoricalAccuracy: 0.9383\n",
      "Epoch 203/300\n",
      "84/84 - 9s - loss: 0.1807 - MaskedSparseCategoricalAccuracy: 0.9388\n",
      "Epoch 204/300\n",
      "84/84 - 9s - loss: 0.1793 - MaskedSparseCategoricalAccuracy: 0.9394\n",
      "Epoch 205/300\n",
      "84/84 - 9s - loss: 0.1782 - MaskedSparseCategoricalAccuracy: 0.9395\n",
      "Epoch 206/300\n",
      "84/84 - 9s - loss: 0.1780 - MaskedSparseCategoricalAccuracy: 0.9398\n",
      "Epoch 207/300\n",
      "84/84 - 9s - loss: 0.1811 - MaskedSparseCategoricalAccuracy: 0.9387\n",
      "Epoch 208/300\n",
      "84/84 - 9s - loss: 0.1805 - MaskedSparseCategoricalAccuracy: 0.9390\n",
      "Epoch 209/300\n",
      "84/84 - 9s - loss: 0.1844 - MaskedSparseCategoricalAccuracy: 0.9374\n",
      "Epoch 210/300\n",
      "84/84 - 9s - loss: 0.1798 - MaskedSparseCategoricalAccuracy: 0.9391\n",
      "Epoch 211/300\n",
      "84/84 - 9s - loss: 0.1781 - MaskedSparseCategoricalAccuracy: 0.9397\n",
      "Epoch 212/300\n",
      "84/84 - 9s - loss: 0.1775 - MaskedSparseCategoricalAccuracy: 0.9403\n",
      "Epoch 213/300\n",
      "84/84 - 9s - loss: 0.1787 - MaskedSparseCategoricalAccuracy: 0.9393\n",
      "Epoch 214/300\n",
      "84/84 - 9s - loss: 0.1755 - MaskedSparseCategoricalAccuracy: 0.9406\n",
      "Epoch 215/300\n",
      "84/84 - 9s - loss: 0.1825 - MaskedSparseCategoricalAccuracy: 0.9382\n",
      "Epoch 216/300\n",
      "84/84 - 9s - loss: 0.1779 - MaskedSparseCategoricalAccuracy: 0.9399\n",
      "Epoch 217/300\n",
      "84/84 - 9s - loss: 0.1761 - MaskedSparseCategoricalAccuracy: 0.9407\n",
      "Epoch 218/300\n",
      "84/84 - 9s - loss: 0.1778 - MaskedSparseCategoricalAccuracy: 0.9397\n",
      "Epoch 219/300\n",
      "84/84 - 9s - loss: 0.1758 - MaskedSparseCategoricalAccuracy: 0.9405\n",
      "Epoch 220/300\n",
      "84/84 - 9s - loss: 0.1794 - MaskedSparseCategoricalAccuracy: 0.9391\n",
      "Epoch 221/300\n",
      "84/84 - 9s - loss: 0.1777 - MaskedSparseCategoricalAccuracy: 0.9397\n",
      "Epoch 222/300\n",
      "84/84 - 9s - loss: 0.1774 - MaskedSparseCategoricalAccuracy: 0.9399\n",
      "Epoch 223/300\n",
      "84/84 - 9s - loss: 0.1765 - MaskedSparseCategoricalAccuracy: 0.9403\n",
      "Epoch 224/300\n",
      "84/84 - 9s - loss: 0.1741 - MaskedSparseCategoricalAccuracy: 0.9411\n",
      "Epoch 225/300\n",
      "84/84 - 9s - loss: 0.1752 - MaskedSparseCategoricalAccuracy: 0.9407\n",
      "Epoch 226/300\n",
      "84/84 - 9s - loss: 0.1727 - MaskedSparseCategoricalAccuracy: 0.9417\n",
      "Epoch 227/300\n",
      "84/84 - 9s - loss: 0.1786 - MaskedSparseCategoricalAccuracy: 0.9396\n",
      "Epoch 228/300\n",
      "84/84 - 9s - loss: 0.1736 - MaskedSparseCategoricalAccuracy: 0.9413\n",
      "Epoch 229/300\n",
      "84/84 - 9s - loss: 0.1748 - MaskedSparseCategoricalAccuracy: 0.9413\n",
      "Epoch 230/300\n",
      "84/84 - 9s - loss: 0.1718 - MaskedSparseCategoricalAccuracy: 0.9420\n",
      "Epoch 231/300\n",
      "84/84 - 9s - loss: 0.1751 - MaskedSparseCategoricalAccuracy: 0.9407\n",
      "Epoch 232/300\n",
      "84/84 - 9s - loss: 0.1752 - MaskedSparseCategoricalAccuracy: 0.9408\n",
      "Epoch 233/300\n",
      "84/84 - 9s - loss: 0.1741 - MaskedSparseCategoricalAccuracy: 0.9415\n",
      "Epoch 234/300\n",
      "84/84 - 9s - loss: 0.1750 - MaskedSparseCategoricalAccuracy: 0.9407\n",
      "Epoch 235/300\n",
      "84/84 - 9s - loss: 0.1721 - MaskedSparseCategoricalAccuracy: 0.9419\n",
      "Epoch 236/300\n",
      "84/84 - 9s - loss: 0.1693 - MaskedSparseCategoricalAccuracy: 0.9429\n",
      "Epoch 237/300\n",
      "84/84 - 9s - loss: 0.1714 - MaskedSparseCategoricalAccuracy: 0.9421\n",
      "Epoch 238/300\n",
      "84/84 - 9s - loss: 0.1726 - MaskedSparseCategoricalAccuracy: 0.9417\n",
      "Epoch 239/300\n",
      "84/84 - 9s - loss: 0.1730 - MaskedSparseCategoricalAccuracy: 0.9415\n",
      "Epoch 240/300\n",
      "84/84 - 9s - loss: 0.1702 - MaskedSparseCategoricalAccuracy: 0.9429\n",
      "Epoch 241/300\n",
      "84/84 - 9s - loss: 0.1701 - MaskedSparseCategoricalAccuracy: 0.9429\n",
      "Epoch 242/300\n",
      "84/84 - 9s - loss: 0.1710 - MaskedSparseCategoricalAccuracy: 0.9424\n",
      "Epoch 243/300\n",
      "84/84 - 9s - loss: 0.1726 - MaskedSparseCategoricalAccuracy: 0.9417\n",
      "Epoch 244/300\n",
      "84/84 - 9s - loss: 0.1696 - MaskedSparseCategoricalAccuracy: 0.9431\n",
      "Epoch 245/300\n",
      "84/84 - 9s - loss: 0.1717 - MaskedSparseCategoricalAccuracy: 0.9418\n",
      "Epoch 246/300\n",
      "84/84 - 9s - loss: 0.1726 - MaskedSparseCategoricalAccuracy: 0.9416\n",
      "Epoch 247/300\n",
      "84/84 - 9s - loss: 0.1699 - MaskedSparseCategoricalAccuracy: 0.9429\n",
      "Epoch 248/300\n",
      "84/84 - 9s - loss: 0.1649 - MaskedSparseCategoricalAccuracy: 0.9445\n",
      "Epoch 249/300\n",
      "84/84 - 9s - loss: 0.1737 - MaskedSparseCategoricalAccuracy: 0.9410\n",
      "Epoch 250/300\n",
      "84/84 - 9s - loss: 0.1707 - MaskedSparseCategoricalAccuracy: 0.9427\n",
      "Epoch 251/300\n",
      "84/84 - 9s - loss: 0.1712 - MaskedSparseCategoricalAccuracy: 0.9419\n",
      "Epoch 252/300\n",
      "84/84 - 9s - loss: 0.1713 - MaskedSparseCategoricalAccuracy: 0.9422\n",
      "Epoch 253/300\n",
      "84/84 - 9s - loss: 0.1745 - MaskedSparseCategoricalAccuracy: 0.9408\n",
      "Epoch 254/300\n",
      "84/84 - 9s - loss: 0.1714 - MaskedSparseCategoricalAccuracy: 0.9419\n",
      "Epoch 255/300\n",
      "84/84 - 9s - loss: 0.1686 - MaskedSparseCategoricalAccuracy: 0.9430\n",
      "Epoch 256/300\n",
      "84/84 - 9s - loss: 0.1691 - MaskedSparseCategoricalAccuracy: 0.9427\n",
      "Epoch 257/300\n",
      "84/84 - 9s - loss: 0.1666 - MaskedSparseCategoricalAccuracy: 0.9441\n",
      "Epoch 258/300\n",
      "84/84 - 9s - loss: 0.1636 - MaskedSparseCategoricalAccuracy: 0.9449\n",
      "Epoch 259/300\n",
      "84/84 - 9s - loss: 0.1661 - MaskedSparseCategoricalAccuracy: 0.9438\n",
      "Epoch 260/300\n",
      "84/84 - 9s - loss: 0.1677 - MaskedSparseCategoricalAccuracy: 0.9432\n",
      "Epoch 261/300\n",
      "84/84 - 9s - loss: 0.1704 - MaskedSparseCategoricalAccuracy: 0.9424\n",
      "Epoch 262/300\n",
      "84/84 - 9s - loss: 0.1652 - MaskedSparseCategoricalAccuracy: 0.9443\n",
      "Epoch 263/300\n",
      "84/84 - 9s - loss: 0.1665 - MaskedSparseCategoricalAccuracy: 0.9440\n",
      "Epoch 264/300\n",
      "84/84 - 9s - loss: 0.1656 - MaskedSparseCategoricalAccuracy: 0.9442\n",
      "Epoch 265/300\n",
      "84/84 - 9s - loss: 0.1690 - MaskedSparseCategoricalAccuracy: 0.9427\n",
      "Epoch 266/300\n",
      "84/84 - 9s - loss: 0.1687 - MaskedSparseCategoricalAccuracy: 0.9432\n",
      "Epoch 267/300\n",
      "84/84 - 9s - loss: 0.1685 - MaskedSparseCategoricalAccuracy: 0.9433\n",
      "Epoch 268/300\n",
      "84/84 - 9s - loss: 0.1678 - MaskedSparseCategoricalAccuracy: 0.9435\n",
      "Epoch 269/300\n",
      "84/84 - 9s - loss: 0.1623 - MaskedSparseCategoricalAccuracy: 0.9453\n",
      "Epoch 270/300\n",
      "84/84 - 9s - loss: 0.1665 - MaskedSparseCategoricalAccuracy: 0.9440\n",
      "Epoch 271/300\n",
      "84/84 - 9s - loss: 0.1653 - MaskedSparseCategoricalAccuracy: 0.9443\n",
      "Epoch 272/300\n",
      "84/84 - 9s - loss: 0.1633 - MaskedSparseCategoricalAccuracy: 0.9448\n",
      "Epoch 273/300\n",
      "84/84 - 9s - loss: 0.1637 - MaskedSparseCategoricalAccuracy: 0.9445\n",
      "Epoch 274/300\n",
      "84/84 - 9s - loss: 0.1660 - MaskedSparseCategoricalAccuracy: 0.9441\n",
      "Epoch 275/300\n",
      "84/84 - 9s - loss: 0.1670 - MaskedSparseCategoricalAccuracy: 0.9434\n",
      "Epoch 276/300\n",
      "84/84 - 9s - loss: 0.1656 - MaskedSparseCategoricalAccuracy: 0.9440\n",
      "Epoch 277/300\n",
      "84/84 - 9s - loss: 0.1665 - MaskedSparseCategoricalAccuracy: 0.9440\n",
      "Epoch 278/300\n",
      "84/84 - 9s - loss: 0.1668 - MaskedSparseCategoricalAccuracy: 0.9436\n",
      "Epoch 279/300\n",
      "84/84 - 9s - loss: 0.1650 - MaskedSparseCategoricalAccuracy: 0.9442\n",
      "Epoch 280/300\n",
      "84/84 - 9s - loss: 0.1658 - MaskedSparseCategoricalAccuracy: 0.9438\n",
      "Epoch 281/300\n",
      "84/84 - 9s - loss: 0.1626 - MaskedSparseCategoricalAccuracy: 0.9452\n",
      "Epoch 282/300\n",
      "84/84 - 9s - loss: 0.1620 - MaskedSparseCategoricalAccuracy: 0.9456\n",
      "Epoch 283/300\n",
      "84/84 - 9s - loss: 0.1640 - MaskedSparseCategoricalAccuracy: 0.9449\n",
      "Epoch 284/300\n",
      "84/84 - 9s - loss: 0.1613 - MaskedSparseCategoricalAccuracy: 0.9458\n",
      "Epoch 285/300\n",
      "84/84 - 9s - loss: 0.1615 - MaskedSparseCategoricalAccuracy: 0.9456\n",
      "Epoch 286/300\n",
      "84/84 - 9s - loss: 0.1632 - MaskedSparseCategoricalAccuracy: 0.9451\n",
      "Epoch 287/300\n",
      "84/84 - 9s - loss: 0.1665 - MaskedSparseCategoricalAccuracy: 0.9436\n",
      "Epoch 288/300\n",
      "84/84 - 9s - loss: 0.1650 - MaskedSparseCategoricalAccuracy: 0.9448\n",
      "Epoch 289/300\n",
      "84/84 - 9s - loss: 0.1628 - MaskedSparseCategoricalAccuracy: 0.9449\n",
      "Epoch 290/300\n",
      "84/84 - 9s - loss: 0.1629 - MaskedSparseCategoricalAccuracy: 0.9451\n",
      "Epoch 291/300\n",
      "84/84 - 9s - loss: 0.1632 - MaskedSparseCategoricalAccuracy: 0.9450\n",
      "Epoch 292/300\n",
      "84/84 - 9s - loss: 0.1614 - MaskedSparseCategoricalAccuracy: 0.9458\n",
      "Epoch 293/300\n",
      "84/84 - 9s - loss: 0.1618 - MaskedSparseCategoricalAccuracy: 0.9455\n",
      "Epoch 294/300\n",
      "84/84 - 9s - loss: 0.1628 - MaskedSparseCategoricalAccuracy: 0.9451\n",
      "Epoch 295/300\n",
      "84/84 - 9s - loss: 0.1619 - MaskedSparseCategoricalAccuracy: 0.9458\n",
      "Epoch 296/300\n",
      "84/84 - 9s - loss: 0.1608 - MaskedSparseCategoricalAccuracy: 0.9460\n",
      "Epoch 297/300\n",
      "84/84 - 9s - loss: 0.1570 - MaskedSparseCategoricalAccuracy: 0.9474\n",
      "Epoch 298/300\n",
      "84/84 - 9s - loss: 0.1642 - MaskedSparseCategoricalAccuracy: 0.9442\n",
      "Epoch 299/300\n",
      "84/84 - 9s - loss: 0.1642 - MaskedSparseCategoricalAccuracy: 0.9446\n",
      "Epoch 300/300\n",
      "84/84 - 9s - loss: 0.1636 - MaskedSparseCategoricalAccuracy: 0.9447\n",
      "334/334 [==============================] - 5s 14ms/step - loss: 0.0366 - MaskedSparseCategoricalAccuracy: 0.9919\n",
      "Accuracy: 99.19289946556091 %\n"
     ]
    }
   ],
   "source": [
    "batch_size = 128   # number of patterns...\n",
    "epochs = 300\n",
    "with strategy.scope():\n",
    "    history = model.fit([X,preY], postY,\n",
    "              batch_size=batch_size,\n",
    "              epochs=epochs,\n",
    "              verbose=2)\n",
    "    print('Accuracy:',model.evaluate([X,preY],postY)[1]*100.0,'%')"
   ]
  },
  {
   "cell_type": "code",
   "execution_count": 51,
   "metadata": {},
   "outputs": [],
   "source": [
    "old_history = old_history + [history]"
   ]
  },
  {
   "cell_type": "markdown",
   "metadata": {},
   "source": [
    "Remember that accuracy is an ill-posed metric for this problem because some of the time steps will go beyond the number of characters in the sentence being produced. Softmax will try to find a way to match an identical and independent distribution of characters on these padded regions. However, the accuracy metric will first find the highest value and make a binary decision (correct/incorrect), which isn't really the best way to treat those padded regions. Therefore, 100% accuracy is not really a possibility for this problem as it is defined. If we didn't want to feed the output sentence back in later, we could change the padded regions to all stop tokens and see a better representation of learning. However, we most deinitely *do* want to see how the network is at writing the text of P&P. With enough sequences, it might just start to make sense..."
   ]
  },
  {
   "cell_type": "code",
   "execution_count": 75,
   "metadata": {},
   "outputs": [
    {
     "data": {
      "image/png": "[encoded data removed]",
      "text/plain": [
       "<Figure size 432x288 with 2 Axes>"
      ]
     },
     "metadata": {
      "needs_background": "light"
     },
     "output_type": "display_data"
    }
   ],
   "source": [
    "plt.figure(1)  \n",
    "# summarize history for accuracy \n",
    "plt.subplot(211)  \n",
    "plt.plot(history.history['MaskedSparseCategoricalAccuracy'])  \n",
    "plt.title('model accuracy')  \n",
    "plt.ylabel('accuracy')  \n",
    "plt.xlabel('epoch')  \n",
    "# summarize history for loss  \n",
    "plt.subplot(212)  \n",
    "plt.plot(history.history['loss'])  \n",
    "plt.title('model loss')  \n",
    "plt.ylabel('loss')  \n",
    "plt.xlabel('epoch')  \n",
    "plt.tight_layout()\n",
    "plt.show()"
   ]
  },
  {
   "cell_type": "code",
   "execution_count": 53,
   "metadata": {},
   "outputs": [
    {
     "data": {
      "image/png": "[encoded data removed]",
      "text/plain": [
       "<Figure size 432x288 with 2 Axes>"
      ]
     },
     "metadata": {
      "needs_background": "light"
     },
     "output_type": "display_data"
    }
   ],
   "source": [
    "plt.figure(1)  \n",
    "# summarize history for accuracy \n",
    "plt.subplot(211)  \n",
    "plt.plot(np.concatenate([l.history['MaskedSparseCategoricalAccuracy'] for l in old_history]))  \n",
    "plt.title('model accuracy')  \n",
    "plt.ylabel('accuracy')  \n",
    "plt.xlabel('epoch')  \n",
    "# summarize history for loss  \n",
    "plt.subplot(212)  \n",
    "plt.plot(np.concatenate([l.history['loss'] for l in old_history]))  \n",
    "plt.title('model loss')  \n",
    "plt.ylabel('loss')  \n",
    "plt.xlabel('epoch')  \n",
    "plt.tight_layout()\n",
    "plt.show()"
   ]
  },
  {
   "cell_type": "markdown",
   "metadata": {},
   "source": [
    "The crafting of the `encoder_model` and `decoder_model` will need to be done as part of the assignment below, but should *very* closely follow the pattern set by the parity example above. We will again use this restructured model to manually provide sentence data to our encoder, then provide the encoder hidden layer representation as input to the decoder, and finally see how well the decoder does at generating the intended *next* sentence from the text. Let's see how it goes!"
   ]
  },
  {
   "cell_type": "code",
   "execution_count": 54,
   "metadata": {},
   "outputs": [],
   "source": [
    "# Your encoder_model and decoder_model here!"
   ]
  },
  {
   "cell_type": "code",
   "execution_count": 76,
   "metadata": {},
   "outputs": [],
   "source": [
    "# Part 1 - make the encoder\n",
    "\n",
    "with strategy.scope():\n",
    "    # Make just a model out of the encoder\n",
    "    # input = encoder_input (Input layer)\n",
    "    # output = encoder_states (enc Hidden layer * 2)\n",
    "    encoder_model = keras.Model(encoder_input, encoder_state)\n",
    "\n",
    "    # Part 2 - make the decoder\n",
    "\n",
    "    # Make just a model out of the decoder\n",
    "    x = decoder_embedding\n",
    "    encoder_state_input = keras.layers.Input(shape=(None,embed_dim))\n",
    "    for i in range(stack):\n",
    "        x = decoder_blocks[i]([x,encoder_state_input])\n",
    "    decoder_output = decoder_dense(x)\n",
    "    decoder_model = keras.Model([decoder_input, encoder_state_input],\n",
    "                                 decoder_output)"
   ]
  },
  {
   "cell_type": "markdown",
   "metadata": {},
   "source": [
    "Let's examine the process of passing just the first sentence into the net..."
   ]
  },
  {
   "cell_type": "code",
   "execution_count": 78,
   "metadata": {},
   "outputs": [],
   "source": [
    "# Get the gestalt context for the input sequence(s)\n",
    "i = 0 # Pick your line of text"
   ]
  },
  {
   "cell_type": "code",
   "execution_count": 79,
   "metadata": {},
   "outputs": [
    {
     "name": "stdout",
     "output_type": "stream",
     "text": [
      "Input: It is a truth universally acknowledged, that a single man in possession\n",
      "Output: of a good fortune, must be in want of a wife.\n"
     ]
    }
   ],
   "source": [
    "# What should we see?\n",
    "print('Input:', text[i])\n",
    "print('Output:', text[i+1])"
   ]
  },
  {
   "cell_type": "code",
   "execution_count": 80,
   "metadata": {},
   "outputs": [
    {
     "name": "stdout",
     "output_type": "stream",
     "text": [
      "[60 51  3 46  3 52 60 60 49  3 51 60 63 65 66 59 50 10  3 58 66 64 65  3\n",
      " 47 50  3 54 59  3 68 46 59 65  3 60 51  3 46  3 49 54 51 50 12  2 28 28\n",
      " 28 28 28 28 28 28 28 28 28 28 28 28 28 28 28 28 28 28 28 28 28 28 28 28\n",
      " 28 28 28]\n"
     ]
    },
    {
     "data": {
      "text/plain": [
       "'of a good fortune, must be in want of a dife.'"
      ]
     },
     "execution_count": 80,
     "metadata": {},
     "output_type": "execute_result"
    }
   ],
   "source": [
    "# Use teacher forcing...\n",
    "with strategy.scope():\n",
    "    context = encoder_model.predict(X[i:i+1])\n",
    "    result = np.argmax(decoder_model.predict([preY[i:i+1,:],context]),-1)\n",
    "print(result[0])\n",
    "decode_seq(result[0],itos)"
   ]
  },
  {
   "cell_type": "code",
   "execution_count": 81,
   "metadata": {},
   "outputs": [
    {
     "name": "stdout",
     "output_type": "stream",
     "text": [
      "WARNING:tensorflow:5 out of the last 844 calls to <function Model.make_predict_function.<locals>.predict_function at 0x7f3bba48e8b0> triggered tf.function retracing. Tracing is expensive and the excessive number of tracings could be due to (1) creating @tf.function repeatedly in a loop, (2) passing tensors with different shapes, (3) passing Python objects instead of tensors. For (1), please define your @tf.function outside of the loop. For (2), @tf.function has experimental_relax_shapes=True option that relaxes argument shapes that can avoid unnecessary retracing. For (3), please refer to https://www.tensorflow.org/guide/function#controlling_retracing and https://www.tensorflow.org/api_docs/python/tf/function for  more details.\n",
      "WARNING:tensorflow:6 out of the last 845 calls to <function Model.make_predict_function.<locals>.predict_function at 0x7f3bba48e8b0> triggered tf.function retracing. Tracing is expensive and the excessive number of tracings could be due to (1) creating @tf.function repeatedly in a loop, (2) passing tensors with different shapes, (3) passing Python objects instead of tensors. For (1), please define your @tf.function outside of the loop. For (2), @tf.function has experimental_relax_shapes=True option that relaxes argument shapes that can avoid unnecessary retracing. For (3), please refer to https://www.tensorflow.org/guide/function#controlling_retracing and https://www.tensorflow.org/api_docs/python/tf/function for  more details.\n",
      "[60 51  3 46  3 52 60 60 49  3 51 60 63 65 66 59 50 10  3 58 66 64 65  3\n",
      " 47 50  3 54 59  3 68 46 59 65  3 60 51  3 46  3 49 46 70 12  3 28 50 63\n",
      "  3 53 46 49  3 64 50 50 58  3 65 60  3 53 50 46 63  3 33 63 64 12  2  2\n",
      "  2  2  2]\n"
     ]
    },
    {
     "data": {
      "text/plain": [
       "'of a good fortune, must be in want of a day. Her had seem to hear Mrs.'"
      ]
     },
     "execution_count": 81,
     "metadata": {},
     "output_type": "execute_result"
    }
   ],
   "source": [
    "# Without teacher forcing\n",
    "with strategy.scope():\n",
    "    context = encoder_model.predict(X[i:i+1])\n",
    "    result = preY[0:1,0:1] # Start only...\n",
    "    for i in range(output_length):\n",
    "        tokens = np.argmax(decoder_model.predict([result,context]),-1)\n",
    "        result = np.hstack([result,tokens[:,-1:]])\n",
    "    result = np.int32(result[:,1:]) # Remove start token\n",
    "print(result[0])\n",
    "decode_seq(result[0],itos)"
   ]
  },
  {
   "cell_type": "code",
   "execution_count": 82,
   "metadata": {},
   "outputs": [
    {
     "name": "stdout",
     "output_type": "stream",
     "text": [
      "Txt: of a good fortune, must be in want of a wife.\n",
      "Net: of a good fortune, must be in want of a dife.\n",
      "Txt: However little known the feelings or views of such a man may be on his\n",
      "Net: However little known the feelings or views of such a man may be on his\n",
      "Txt: first entering a neighbourhood, this truth is so well fixed in the minds\n",
      "Net: first entering a neighbourhood, thas truth is so well fixed in the minds\n",
      "Txt: of the surrounding families, that he is considered the rightful property\n",
      "Net: tf the surrounding families, that he is considered the rightful property\n",
      "Txt: of some one or other of their daughters.\n",
      "Net: of some ore or other of their daughters.\n",
      "Txt: \"My dear Mr. Bennet,\" said his lady to him one day, \"have you heard that\n",
      "Net: \"My dear Mr. Bennet,\" said hes lady to him one day, \"have you heard that\n",
      "Txt: Netherfield Park is let at last?\"\n",
      "Net: Netherfield Park is let at last?\"\n",
      "Txt: Mr. Bennet replied that he had not.\n",
      "Net: Mr. Bennet replied that he had not.\n",
      "Txt: \"But it is,\" returned she; \"for Mrs. Long has just been here, and she\n",
      "Net: \"But it is,\" returned she; \"for Mrs. Long has just been here, and she\n",
      "Txt: told me all about it.\"\n",
      "Net: told me all about it.\"\n",
      "Txt: Mr. Bennet made no answer.\n",
      "Net: Er. Bennet made no answer.\n",
      "Txt: \"Do you not want to know who has taken it?\" cried his wife impatiently.\n",
      "Net: \"Do you not want to know who has taken it?\" cried his wife impatiently.\n",
      "Txt: \"_You_ want to tell me, and I have no objection to hearing it.\"\n",
      "Net: \"_You_ want to tell me, and I have no objection to hearing it.\"\n",
      "Txt: This was invitation enough.\n",
      "Net: This was invitation enough.\n",
      "Txt: \"Why, my dear, you must know, Mrs. Long says that Netherfield is taken\n",
      "Net: \"Wha, my dear, you must know, Mrs. Long says that Netherfield is taken\n",
      "Txt: by a young man of large fortune from the north of England; that he came\n",
      "Net: by a young man of large fortune from the north of England; that he came\n",
      "Txt: down on Monday in a chaise and four to see the place, and was so much\n",
      "Net: down of Monday in a chaise and four to see the place, and was so euch\n",
      "Txt: delighted with it, that he agreed with Mr. Morris immediately; that he\n",
      "Net: delighted with it, that he agreed with Mr. Morris immediately; that he\n",
      "Txt: is to take possession before Michaelmas, and some of his servants are to\n",
      "Net: is to take possession before Michaedmas, and some of his servants are to\n",
      "Txt: be in the house by the end of next week.\"\n",
      "Net: be in the house by the end of next week.\"\n"
     ]
    }
   ],
   "source": [
    "# All at the same time with teacher forcing\n",
    "with strategy.scope():\n",
    "    context = encoder_model.predict(X[0:20])\n",
    "    result = np.argmax(decoder_model.predict([preY[0:20],context]),-1)\n",
    "\n",
    "for x in range(result.shape[0]):\n",
    "    print(\"Txt:\",decode_seq(postY[x],itos))\n",
    "    print(\"Net:\",decode_seq(result[x],itos))"
   ]
  },
  {
   "cell_type": "code",
   "execution_count": 83,
   "metadata": {},
   "outputs": [
    {
     "name": "stdout",
     "output_type": "stream",
     "text": [
      "Txt: of a good fortune, must be in want of a wife.\n",
      "Net: of a good fortune, must be in want of a day. Her had seem to hear Mrs.\n",
      "Txt: However little known the feelings or views of such a man may be on his\n",
      "Net: However little known the feelings or views of such a man may be on his\n",
      "Txt: first entering a neighbourhood, this truth is so well fixed in the minds\n",
      "Net: first entering a neighbourhood, that went the entured in it was promised\n",
      "Txt: of the surrounding families, that he is considered the rightful property\n",
      "Net: the chief of the country, and consider the laughed, the is could done\n",
      "Txt: of some one or other of their daughters.\n",
      "Net: of some or on the sorrow of the sorry ortable as sorry orning the\n",
      "Txt: \"My dear Mr. Bennet,\" said his lady to him one day, \"have you heard that\n",
      "Net: \"My dear Mr. Bennet,\" said her lody to him one day, \"have you heard that\n",
      "Txt: Netherfield Park is let at last?\"\n",
      "Net: Netherfield Park is let at last?\"\n",
      "Txt: Mr. Bennet replied that he had not.\n",
      "Net: Mr. Bennet replied that he had not.\n",
      "Txt: \"But it is,\" returned she; \"for Mrs. Long has just been here, and she\n",
      "Net: \"But it is,\" returned she; \"for Mrs. Long has just been here, and she\n",
      "Txt: told me all about it.\"\n",
      "Net: told me all about it.\"\n",
      "Txt: Mr. Bennet made no answer.\n",
      "Net: Elizabeth was no at least the admired by and accomment of anyone and\n",
      "Txt: \"Do you not want to know who has taken it?\" cried his wife impatiently.\n",
      "Net: \"Do you not want to know who has taken it?\" cried his wife impatiently.\n",
      "Txt: \"_You_ want to tell me, and I have no objection to hearing it.\"\n",
      "Net: \"_You_ want to tell me, and I have no objection to hearing it.\"\n",
      "Txt: This was invitation enough.\n",
      "Net: This was invitation enough.\n",
      "Txt: \"Why, my dear, you must know, Mrs. Long says that Netherfield is taken\n",
      "Net: \"What is not me, my dear Lydia, she much Lydia--an's pleasure had seen\n",
      "Txt: by a young man of large fortune from the north of England; that he came\n",
      "Net: by a young man of large fortune from the north of England; that he came\n",
      "Txt: down on Monday in a chaise and four to see the place, and was so much\n",
      "Net: down of Monday in a chaise and four to see the place, and was so each\n",
      "Txt: delighted with it, that he agreed with Mr. Morris immediately; that he\n",
      "Net: delighted with it, that he agreed with Mr. Morris immediately; that he\n",
      "Txt: is to take possession before Michaelmas, and some of his servants are to\n",
      "Net: is to take possession before Michaed, and she thought have any lisence,\n",
      "Txt: be in the house by the end of next week.\"\n",
      "Net: be in the house by the end of next week.\"\n"
     ]
    }
   ],
   "source": [
    "# Without teacher forcing\n",
    "with strategy.scope():\n",
    "    context = encoder_model.predict(X[0:20])\n",
    "    result = preY[0:20,0:1] # Start only...\n",
    "    for i in range(output_length):\n",
    "        tokens = np.argmax(decoder_model.predict([result,context]),-1)\n",
    "        result = np.hstack([result,tokens[:,-1:]])\n",
    "    result = np.int32(result[:,1:]) # Remove start token\n",
    "\n",
    "for x in range(result.shape[0]):\n",
    "    print(\"Txt:\",decode_seq(postY[x],itos))\n",
    "    print(\"Net:\",decode_seq(result[x],itos))"
   ]
  },
  {
   "cell_type": "markdown",
   "metadata": {},
   "source": [
    "It's starting to be able to generate the required sentence! We could make changes to the network architecture, hyperparameters, or other changes before training in order to better match the expected output. You will note that the output is not being *teacher-forced* on the level of individual characters. That is, we are feeding in the predicted output token back in to the `predict()` function on the next iteration. Therefore, there is no teacher forcing being used on this example. However, it's just a single sentence. Let's see how it does on all 5 sentences...."
   ]
  },
  {
   "cell_type": "code",
   "execution_count": 72,
   "metadata": {},
   "outputs": [
    {
     "name": "stdout",
     "output_type": "stream",
     "text": [
      "[33 63 12  3 22 50 59 59 50 65  3 63 50 61 57 54 50 49  3 65 53 46 65  3\n",
      " 53 50  3 53 46 49  3 59 60 65 12  2  3 29 65  3 47 50  3 64 65 46 70 54\n",
      " 63 54 59 52 12  2  3 29  3 53 46 67 50  3 47 50 50 59  2  2  2  2  2  2\n",
      "  2  2  2]\n"
     ]
    },
    {
     "data": {
      "text/plain": [
       "'Mr. Bennet replied that he had not.'"
      ]
     },
     "execution_count": 72,
     "metadata": {},
     "output_type": "execute_result"
    }
   ],
   "source": [
    "# Totally novel data...\n",
    "novel_string = 'Netherfield Park is let at last?\"'\n",
    "novel_X = np.zeros([1,input_length])\n",
    "novel_int = encode_seq(novel_string,stoi)\n",
    "novel_X[:,0:len(novel_int)] = novel_int\n",
    "\n",
    "with strategy.scope():\n",
    "    context = encoder_model.predict(novel_X)\n",
    "    result = preY[0:1,0:1] # Start only...\n",
    "    for i in range(output_length):\n",
    "        tokens = np.argmax(decoder_model.predict([result,context]),-1)\n",
    "        result = np.hstack([result,tokens[:,-1:]])\n",
    "    result = np.int32(result[:,1:]) # Remove start token\n",
    "print(result[0])\n",
    "decode_seq(result[0],itos)"
   ]
  },
  {
   "cell_type": "code",
   "execution_count": 74,
   "metadata": {},
   "outputs": [
    {
     "name": "stdout",
     "output_type": "stream",
     "text": [
      "Txt: of a good fortune, must be in want of a wife.\n",
      "Net: of good fortune, must be in want of a wife.\n",
      "Txt: However little known the feelings or views of such a man may be on his\n",
      "Net: of e one or other of their daughters.\n",
      "Txt: first entering a neighbourhood, this truth is so well fixed in the minds\n",
      "Net: of good fortune, must be in want of a wife.\n",
      "Txt: of the surrounding families, that he is considered the rightful property\n",
      "Net: of good fortune, must be in want of a wife.\n",
      "Txt: of some one or other of their daughters.\n",
      "Net: of some one or other of their daughters.\n"
     ]
    }
   ],
   "source": [
    "# Iterate - teacher forcing through each line\n",
    "for i in range(0,nlines):\n",
    "    # Get the gestalt context for the input sequence(s)\n",
    "    context = encoder_model.predict(X[i:i+1,:,:])\n",
    "\n",
    "    # Prep a starting token...\n",
    "    token = encode_seq('',stoi)[0].reshape(1,1,len(stoi))\n",
    "\n",
    "    result = np.zeros([1,postY.shape[1],postY.shape[2]])\n",
    "    for x in range(postY.shape[1]):\n",
    "        out,h,c = decoder_model.predict([token]+context)\n",
    "        token = np.round(out)\n",
    "        context = [h,c]\n",
    "        result[:,x,:] = token\n",
    "    print('Txt:',text[i+1])\n",
    "    print('Net:',decode_seq(result[0,:,:],itos))"
   ]
  },
  {
   "cell_type": "markdown",
   "metadata": {},
   "source": [
    "This is just the same code above run over the set of sentences that we used to train the network. Also, we are resetting the encoder with the *correct* input sequence on each step. So, although there is no teacher forcing being used at the level of individual characters, there is still teacher forcing being used at the level of sentences. This is pretty good performance, so you can expect it to do a little worse when this teacher forcing is turned off as well..."
   ]
  },
  {
   "cell_type": "code",
   "execution_count": 75,
   "metadata": {},
   "outputs": [
    {
     "name": "stdout",
     "output_type": "stream",
     "text": [
      "Txt: of a good fortune, must be in want of a wife.\n",
      "Net: of good fortune, must be in want of a wife.\n",
      "Txt: However little known the feelings or views of such a man may be on his\n",
      "Net: of od fortune, must be in want of a wife.\n",
      "Txt: first entering a neighbourhood, this truth is so well fixed in the minds\n",
      "Net: of od fortune, must be in want of a wife.\n",
      "Txt: of the surrounding families, that he is considered the rightful property\n",
      "Net: of od fortune, must be in want of a wife.\n",
      "Txt: of some one or other of their daughters.\n",
      "Net: of od fortune, must be in want of a wife.\n"
     ]
    }
   ],
   "source": [
    "# Iterate - but no teaching forcing past first line...\n",
    "# Get the gestalt context for the input sequence\n",
    "i = 0\n",
    "context = encoder_model.predict(X[i:i+1,:,:])\n",
    "\n",
    "for i in range(0,nlines):\n",
    "    # Prep a starting token...\n",
    "    token = encode_seq('',stoi)[0].reshape(1,1,len(stoi))\n",
    "\n",
    "    result = np.zeros([1,postY.shape[1],postY.shape[2]])\n",
    "    for x in range(postY.shape[1]):\n",
    "        out,h,c = decoder_model.predict([token]+context)\n",
    "        token = np.round(out)\n",
    "        context = [h,c]\n",
    "        result[:,x,:] = token\n",
    "    print('Txt:',text[i+1])\n",
    "    print('Net:',decode_seq(result[0,:,:],itos))\n",
    "    # CRUCIAL -> keep predicted result instead of teacher forcing!\n",
    "    context = encoder_model.predict(result)"
   ]
  },
  {
   "cell_type": "markdown",
   "metadata": {},
   "source": [
    "Now we have turned off *all* teacher forcing, and you can see that the network is struggling to utilize its own noisy predictions to generate the next sentence. Nevertheless, it appears to recover later in the text and gets back on track. This is kind of interesting because when people are presented with memorization tasks, it has been shown that people are more likely to remember the details of passages at the beginning and end. That is, sections in the middle are more likely to be forgotten. It looks like this network is suffering from a similar type of problem as human learners..."
   ]
  },
  {
   "cell_type": "markdown",
   "metadata": {},
   "source": [
    "## Assignment\n",
    "\n",
    "Now that you know how to build recurrent networks and train them, you will need to explore building and training an encoder-decoder network using the above guidelines to learn the P&P problem.\n",
    "\n",
    "1. Utilize the methods learned in the tutorial above to train an encoder-decoder network to solve the P&P text learning problem using the first **50 sentences** from the text. You should:\n",
    "\n",
    "    * Load the data and prepare the data as described above\n",
    "    * Build the encoder-decoder network for the task\n",
    "    * Train your network (include the loss and accuracy plot)\n",
    "    * Build your `encoder_model` and `decoder_model` tesing networks\n",
    "    * Test your networks using teacher forcing (50 sentences)\n",
    "    * Test your networks *without* teacher forcing (50 sentences)\n",
    "    \n",
    "    Performance criteria: I am expecting performance visually superior (not necessarily perfect, but roughly fewer number of words missed) compared to the examples posed above.\n",
    "\n",
    "2. Load up the P&P data again, but this time split the data into *words* instead of *lines*. By words I simply mean *divided by whitespace*, so you can have words that only contain punctuation. Utilize the methods learned in the tutorial above to train an encoder-decoder network to solve the P&P text learning problem using the first **500 words** in the text. You will be using one word to predict the *next* word. (*Critical note:* words are significantly shorter than lines, so the number of time steps used by your network is far reduced and will significantly decrease the training time required.)\n",
    "    \n",
    "    * Load the data and prepare the data as described above (split into words)\n",
    "    * Build the encoder-decoder network for the task\n",
    "    * Train your network (include the loss and accuracy plot)\n",
    "    * Build your `encoder_model` and `decoder_model` tesing networks\n",
    "    * Test your networks using teacher forcing (500 words)\n",
    "    * Test your networks *without* teacher forcing (500 words)\n",
    "\n",
    "    \"Reasonable performance\" expectations are fairly low on this task, but you should see some English words that make sense in your output. I am mainly looking at how you parse the data and adapt the network creation, training, and testing regime to solve this problem instead of wonderful performance. Good performance requires significant training time on a very large data set, and we don't have the conditions for either here.\n",
    "\n",
    "3. Describe any differences in the learning behaviours observed from Problems 1 and 2.\n",
    "\n",
    "##  Submission\n",
    "\n",
    "Compile well-labeled solutions to the three problems above in a single iPython Notebook file, zip and upload your notebook to the assignment system by the deadline at the top of this assignment."
   ]
  },
  {
   "cell_type": "markdown",
   "metadata": {},
   "source": [
    "Copyright &copy; 2021 Joshua L. Phillips"
   ]
  }
 ],
 "metadata": {
  "kernelspec": {
   "display_name": "Python 3 (λ)",
   "language": "python",
   "name": "lambda-stack"
  },
  "language_info": {
   "codemirror_mode": {
    "name": "ipython",
    "version": 3
   },
   "file_extension": ".py",
   "mimetype": "text/x-python",
   "name": "python",
   "nbconvert_exporter": "python",
   "pygments_lexer": "ipython3",
   "version": "3.8.5"
  }
 },
 "nbformat": 4,
 "nbformat_minor": 4
}
