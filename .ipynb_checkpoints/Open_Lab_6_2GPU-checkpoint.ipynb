{
 "cells": [
  {
   "cell_type": "markdown",
   "metadata": {},
   "source": [
    "# Open Lab 6 - Convolution Neural Networks\n",
    "## CSCI 4850-5850 - Neural Networks\n",
    "### Due: Feb. 28 @ 11:00pm"
   ]
  },
  {
   "cell_type": "markdown",
   "metadata": {},
   "source": [
    "Let's begin by loading some of the tools we will need to this job. We will utilize Keras for building/training our neural network and matplotlib for plotting and visualization, and numpy for *everything* (period)."
   ]
  },
  {
   "cell_type": "code",
   "execution_count": 1,
   "metadata": {},
   "outputs": [],
   "source": [
    "import tensorflow.keras as keras\n",
    "from tensorflow.keras import backend as K\n",
    "import tensorflow as tf\n",
    "import numpy as np\n",
    "import matplotlib.pyplot as plt\n",
    "from mpl_toolkits.mplot3d import axes3d\n",
    "%matplotlib inline\n",
    "from IPython.display import display"
   ]
  },
  {
   "cell_type": "markdown",
   "metadata": {},
   "source": [
    "## The Data\n",
    "\n",
    "Let's use one of the most common image data sets used to benchmark convolution network implementations: MNIST. We explored it some in other introductions, so I'll let it speak for itself this time around. Please see the Single- and Multi-layer tutorials before attempting this assignment if needed: [Link](https://github.com/CSCI4850/notebook-examples)"
   ]
  },
  {
   "cell_type": "code",
   "execution_count": 2,
   "metadata": {},
   "outputs": [
    {
     "data": {
      "text/plain": [
       "(60000, 28, 28)"
      ]
     },
     "metadata": {},
     "output_type": "display_data"
    },
    {
     "data": {
      "text/plain": [
       "(60000,)"
      ]
     },
     "metadata": {},
     "output_type": "display_data"
    },
    {
     "data": {
      "text/plain": [
       "(10000, 28, 28)"
      ]
     },
     "metadata": {},
     "output_type": "display_data"
    },
    {
     "data": {
      "text/plain": [
       "(10000,)"
      ]
     },
     "metadata": {},
     "output_type": "display_data"
    }
   ],
   "source": [
    "(x_train, y_train), (x_test, y_test) = keras.datasets.mnist.load_data()\n",
    "display(x_train.shape)\n",
    "display(y_train.shape)\n",
    "display(x_test.shape)\n",
    "display(y_test.shape)"
   ]
  },
  {
   "cell_type": "code",
   "execution_count": 3,
   "metadata": {},
   "outputs": [
    {
     "data": {
      "text/plain": [
       "(60000, 28, 28, 1)"
      ]
     },
     "metadata": {},
     "output_type": "display_data"
    },
    {
     "data": {
      "text/plain": [
       "(60000, 10)"
      ]
     },
     "metadata": {},
     "output_type": "display_data"
    },
    {
     "data": {
      "text/plain": [
       "(10000, 28, 28, 1)"
      ]
     },
     "metadata": {},
     "output_type": "display_data"
    },
    {
     "data": {
      "text/plain": [
       "(10000, 10)"
      ]
     },
     "metadata": {},
     "output_type": "display_data"
    }
   ],
   "source": [
    "## Standardize the -input- data between 0.0-1.0 (real)\n",
    "## instead of the default 0-255 (integer)\n",
    "x_train = x_train.astype('float32').reshape(x_train.shape+(1,))\n",
    "x_test = x_test.astype('float32').reshape(x_test.shape+(1,))\n",
    "x_train /= 255\n",
    "x_test /= 255\n",
    "\n",
    "# Convert class vector [0-9] to categorical assignments (one-hot)\n",
    "y_train = keras.utils.to_categorical(y_train, len(np.unique(y_train)))\n",
    "y_test = keras.utils.to_categorical(y_test, len(np.unique(y_test)))\n",
    "\n",
    "display(x_train.shape)\n",
    "display(y_train.shape)\n",
    "display(x_test.shape)\n",
    "display(y_test.shape)"
   ]
  },
  {
   "cell_type": "markdown",
   "metadata": {},
   "source": [
    "Remember that these are greyscale images, so there is just a single intensity value for each pixel. Full color images would need to have _3_ channels (red, green, blue) for processing. Even though this is the case, Keras `Conv2D` layers expect that images have *three* dimensions (3D tensors) and so you must explicitly set this third dimension to 1 for it to accept each image as input. This is why the shapes above for the *input* patterns, $\\boldsymbol{X}$, are (n, 28, 28, 1) where each of the patterns is a 28x28x1 image. The `reshape()` function was used to add this extra dimension (wich a size of 1) to the data tensors.\n",
    "\n",
    "Let's create a convolution neural network for solving the MNIST problem. Remember, in the last lab we used a standard deep-learning or multi-layer neural network approach. We improved the performance by changing from Tanh to ReLU, and deeper networks instead of wider networks. In this way, we tried to tune the *inductive bias* of the network to form a nested solution to the problem (which isn't as easy to do with just one hidden layer). This approach performed quite well, but we are hoping to make the network even better by tuning the inductive bias even more by using the convolution approach.\n",
    "\n",
    "The convolution network will consist mostly of **filters** or **kernels** (small neural networks which will each learn to detect a single feature in the image) which can be used to *scan* the entire image to find where such features are present. We can apply additional filtering downstream in a similar way to construct groups of features, and finally a *pooling* method to detect those features in a reliable way regardless of where they are in the image. This means that we are adding an inductive bias to eliminate variance in the translation of such features from image to image. In other words, we want to create an inductive bias to develop translation-invariant representations in our network."
   ]
  },
  {
   "cell_type": "code",
   "execution_count": 4,
   "metadata": {},
   "outputs": [
    {
     "name": "stdout",
     "output_type": "stream",
     "text": [
      "INFO:tensorflow:Using MirroredStrategy with devices ('/job:localhost/replica:0/task:0/device:GPU:0', '/job:localhost/replica:0/task:0/device:GPU:1')\n",
      "Model: \"sequential\"\n",
      "_________________________________________________________________\n",
      "Layer (type)                 Output Shape              Param #   \n",
      "=================================================================\n",
      "conv2d (Conv2D)              (None, 21, 21, 64)        4160      \n",
      "_________________________________________________________________\n",
      "conv2d_1 (Conv2D)            (None, 14, 14, 128)       524416    \n",
      "_________________________________________________________________\n",
      "max_pooling2d (MaxPooling2D) (None, 7, 7, 128)         0         \n",
      "_________________________________________________________________\n",
      "dropout (Dropout)            (None, 7, 7, 128)         0         \n",
      "_________________________________________________________________\n",
      "flatten (Flatten)            (None, 6272)              0         \n",
      "_________________________________________________________________\n",
      "dense (Dense)                (None, 128)               802944    \n",
      "_________________________________________________________________\n",
      "dropout_1 (Dropout)          (None, 128)               0         \n",
      "_________________________________________________________________\n",
      "dense_1 (Dense)              (None, 10)                1290      \n",
      "=================================================================\n",
      "Total params: 1,332,810\n",
      "Trainable params: 1,332,810\n",
      "Non-trainable params: 0\n",
      "_________________________________________________________________\n"
     ]
    }
   ],
   "source": [
    "# tf.debugging.set_log_device_placement(True)\n",
    "\n",
    "strategy = tf.distribute.MirroredStrategy()\n",
    "\n",
    "with strategy.scope():\n",
    "    model = keras.models.Sequential()\n",
    "    # Note the input size (there is only one channel - intensity)\n",
    "    # these images... if you are using color images, your would\n",
    "    # need to set the last dimension of the input_shape to -3-\n",
    "    # above and this would carry over into this cell...\n",
    "    model.add(keras.layers.Conv2D(64, kernel_size=(8, 8),\n",
    "              activation='relu',\n",
    "              input_shape=[x_train.shape[1],\n",
    "                           x_train.shape[2],\n",
    "                           x_train.shape[3]]))\n",
    "    model.add(keras.layers.Conv2D(128, (8, 8), activation='relu'))\n",
    "    model.add(keras.layers.MaxPooling2D(pool_size=(2, 2)))\n",
    "    model.add(keras.layers.Dropout(0.25))\n",
    "    model.add(keras.layers.Flatten())\n",
    "    model.add(keras.layers.Dense(128, activation='relu'))\n",
    "    model.add(keras.layers.Dropout(0.5))\n",
    "    model.add(keras.layers.Dense(y_train.shape[1], activation='softmax'))\n",
    "\n",
    "    model.compile(loss=keras.losses.categorical_crossentropy,\n",
    "        optimizer=keras.optimizers.Adam(),\n",
    "        metrics=['accuracy'])\n",
    "    model.summary()"
   ]
  },
  {
   "cell_type": "markdown",
   "metadata": {},
   "source": [
    "This is a pretty big network, no? Over 1 million connection weights! The convolution layers are applied twice over over the image before applying a pooling step, so the number of units *even after pooling* is quite large. Once flattened, this creates a large set of weights to the immediate dense layer which follows. The result is funneled into a smaller layer before using a softmax layer to categorize the image. "
   ]
  },
  {
   "cell_type": "markdown",
   "metadata": {},
   "source": [
    "## Counting Connection Weights...\n",
    "Before moving on, let's unpack some of the output from the `summary()` function to understand what has happened here. There are *a lot of weights*, so it's worth **thinking about what they are doing and where they came from**.\n",
    "\n",
    "First, the initial `Conv2D` layer has 4160 parameters (connection weights). We selected a layer size of `64` when making the layer, so we are creating 64 different *feature detector* units which we will slide around (convolve with) the image in order to detect this feature anywhere in the image. Each unit gets its own bias weight (64 bias weights total), so there are 4096 weights left unaccounted for. For those weights, each feature detector was requested to make a `kernel_size` of 8 x 8 pixels (that's 64 weights for each unit) and so 64 x 64 = 4096. All weights for this layer are now accounted for. The same weights are used at each 8 x 8 patch in the image (overlapping and crossing) because we want each unit to become a dedicated *feature detector* during the learning process. The keras framework will automatically set up the layer to slide each of the feature detectors across all 8 x 8 pixel regions in the image as I just described.\n",
    "\n",
    "There is an additional hyper-parameter, *stride*, which could be adjusted as well to make the detector skip over a certain number of pixels each time the filter is applied. This would speed up the computation, but may miss features in the image if it is set too large. The default value is one, which is what we want, so I didn't specify *stride* at all when creating the layer. Think about this a little more, we can see that this means there are 21 x 21 unique 8 x 8 patches within this image, so that each unit calculates an activation value for each of the 441 (21 x 21) locations, but these activation patterns stay arranged in a 21 x 21 grid just like a 2D image. This means that the output for this layer is 21 x 21 x 64 in size... getting big, right? Preserving this 2D topology is important so that subsequent (downstream) layers can utilize this arrangement as well (for example, to find groups of features which are close to one another in the image).\n",
    "\n",
    "Now, for the second `Conv2D` layer, there are 524416 weights (WOW!). So, how do we account for all of those weights? Well, first we again start with the number of units requested, in this case 128. Each has a single bias weight, which leaves us with 524288 weights unaccounted for so far. There is again an 8 x 8 kernel requested at this layer, so each unit has a set of 64 weights assigned to it, but only within *one* of the 21 x 21 grids from the previous layer (and there are 64 of those 2D grids since each filter/detector was used in this way). So, 64 (kernel weights) x 128 (units) x 64 (prev units) = 524288, and all weights are now accounted for. Finally, each of these 128 units is being slid across the 21 x 21 grid from the previous layer using the 8 x 8 kernel, and there are 14 x 14 = 196 unique patches. Again, the 14 x 14 arrangement of the activation outputs is maintained for each of the 128 units to retain 2D structure. However, we have now created a double convolution (complex features detected as convolutions of simpler features).\n",
    "\n",
    "We follow up with a `MaxPooling2D` layer with a kernel size of 2 x 2. This means that we downsample the 14 x 14 grids from the previous layer with *nonoverlapping* patches of 2 x 2, and retain the maximum in this region (because it's most likely that only *one* complex feature will be detected in any of these distinct patches). This also helps with reducing the size of the activations from the previous layer by half from 14 x 14 x 128 down to 7 x 7 x 128. An additional `Dropout()` layer is also added here to encourage the network to be robust to missing features (maybe forcing different units in the convolutional layers to be somewhat redundant and tuning the inductive bias to make the network hopefully generalize a little better to new images it has yet to see).\n",
    "\n",
    "The `Flatten()` layer is designed to remove the tensorial structure of the activation (layer output) vectors at this point. Since we have 7 x 7 x 128 = 6272, it just reshapes the output from the previous layer into the flattened 1D vector of activations (1 x 6272). This allows us to stack standard `Dense` (and `Dropout`) layers from now on in the network, but the calculating the number of connection weights is now much easier. For example, after the `Flatten` layer, we have a layer of 128 units (`Dense`), so the weight matrix contains 6272 x 128 + 128 (bias weights) = 802944 connection weights total. After an additional `Dropout` layer, we have a `Dense` layer of 10 units (the output layer), so 128 x 10 + 10 (bias weights) = 1290 connection weights. Therefore, all parameters can be accounted for in the convolution and flattening process.\n",
    "\n",
    "**It's important to think through this exercise to understand how the network is wired up if you plan to use convolution nets on your particular problem...**"
   ]
  },
  {
   "cell_type": "markdown",
   "metadata": {},
   "source": [
    "## Training Time\n",
    "\n",
    "OK, hold up just one second. One thing you need to understand is that this is a *big* network and there is *a lot* of data moving through it. It's not large compared to what some research groups train these days, but working on a powerful desktop (even Biosim) will still require a *several* minutes to train it up. If you complete this cycle of training, you can expect > 98% accuracy on the testing data at the end of the day."
   ]
  },
  {
   "cell_type": "code",
   "execution_count": 5,
   "metadata": {},
   "outputs": [
    {
     "name": "stdout",
     "output_type": "stream",
     "text": [
      "Epoch 1/50\n",
      "WARNING:tensorflow:From /usr/lib/python3/dist-packages/tensorflow/python/data/ops/multi_device_iterator_ops.py:601: get_next_as_optional (from tensorflow.python.data.ops.iterator_ops) is deprecated and will be removed in a future version.\n",
      "Instructions for updating:\n",
      "Use `tf.data.Iterator.get_next_as_optional()` instead.\n",
      "INFO:tensorflow:batch_all_reduce: 8 all-reduces with algorithm = nccl, num_packs = 1\n",
      "INFO:tensorflow:Reduce to /job:localhost/replica:0/task:0/device:CPU:0 then broadcast to ('/job:localhost/replica:0/task:0/device:CPU:0',).\n",
      "INFO:tensorflow:Reduce to /job:localhost/replica:0/task:0/device:CPU:0 then broadcast to ('/job:localhost/replica:0/task:0/device:CPU:0',).\n",
      "INFO:tensorflow:Reduce to /job:localhost/replica:0/task:0/device:CPU:0 then broadcast to ('/job:localhost/replica:0/task:0/device:CPU:0',).\n",
      "INFO:tensorflow:Reduce to /job:localhost/replica:0/task:0/device:CPU:0 then broadcast to ('/job:localhost/replica:0/task:0/device:CPU:0',).\n",
      "INFO:tensorflow:batch_all_reduce: 8 all-reduces with algorithm = nccl, num_packs = 1\n",
      "INFO:tensorflow:Reduce to /job:localhost/replica:0/task:0/device:CPU:0 then broadcast to ('/job:localhost/replica:0/task:0/device:CPU:0',).\n",
      "INFO:tensorflow:Reduce to /job:localhost/replica:0/task:0/device:CPU:0 then broadcast to ('/job:localhost/replica:0/task:0/device:CPU:0',).\n",
      "INFO:tensorflow:Reduce to /job:localhost/replica:0/task:0/device:CPU:0 then broadcast to ('/job:localhost/replica:0/task:0/device:CPU:0',).\n",
      "INFO:tensorflow:Reduce to /job:localhost/replica:0/task:0/device:CPU:0 then broadcast to ('/job:localhost/replica:0/task:0/device:CPU:0',).\n",
      "94/94 [==============================] - ETA: 0s - loss: 0.3624 - accuracy: 0.8856INFO:tensorflow:Reduce to /job:localhost/replica:0/task:0/device:CPU:0 then broadcast to ('/job:localhost/replica:0/task:0/device:CPU:0',).\n",
      "INFO:tensorflow:Reduce to /job:localhost/replica:0/task:0/device:CPU:0 then broadcast to ('/job:localhost/replica:0/task:0/device:CPU:0',).\n",
      "94/94 [==============================] - 2s 23ms/step - loss: 0.3624 - accuracy: 0.8856 - val_loss: 0.0774 - val_accuracy: 0.9764\n",
      "Epoch 2/50\n",
      "94/94 [==============================] - 1s 8ms/step - loss: 0.0975 - accuracy: 0.9711 - val_loss: 0.0474 - val_accuracy: 0.9856\n",
      "Epoch 3/50\n",
      "94/94 [==============================] - 1s 8ms/step - loss: 0.0688 - accuracy: 0.9798 - val_loss: 0.0444 - val_accuracy: 0.9853\n",
      "Epoch 4/50\n",
      "94/94 [==============================] - 1s 8ms/step - loss: 0.0532 - accuracy: 0.9840 - val_loss: 0.0422 - val_accuracy: 0.9874\n",
      "Epoch 5/50\n",
      "94/94 [==============================] - 1s 8ms/step - loss: 0.0419 - accuracy: 0.9873 - val_loss: 0.0404 - val_accuracy: 0.9893\n",
      "Epoch 6/50\n",
      "94/94 [==============================] - 1s 8ms/step - loss: 0.0367 - accuracy: 0.9889 - val_loss: 0.0362 - val_accuracy: 0.9898\n",
      "Epoch 7/50\n",
      "94/94 [==============================] - 1s 8ms/step - loss: 0.0303 - accuracy: 0.9909 - val_loss: 0.0306 - val_accuracy: 0.9916\n",
      "Epoch 8/50\n",
      "94/94 [==============================] - 1s 8ms/step - loss: 0.0288 - accuracy: 0.9910 - val_loss: 0.0290 - val_accuracy: 0.9923\n",
      "Epoch 9/50\n",
      "94/94 [==============================] - 1s 8ms/step - loss: 0.0250 - accuracy: 0.9924 - val_loss: 0.0330 - val_accuracy: 0.9917\n",
      "Epoch 10/50\n",
      "94/94 [==============================] - 1s 8ms/step - loss: 0.0221 - accuracy: 0.9929 - val_loss: 0.0316 - val_accuracy: 0.9918\n",
      "Epoch 11/50\n",
      "94/94 [==============================] - 1s 8ms/step - loss: 0.0212 - accuracy: 0.9934 - val_loss: 0.0309 - val_accuracy: 0.9919\n",
      "Epoch 12/50\n",
      "94/94 [==============================] - 1s 8ms/step - loss: 0.0193 - accuracy: 0.9939 - val_loss: 0.0340 - val_accuracy: 0.9920\n",
      "Epoch 13/50\n",
      "94/94 [==============================] - 1s 8ms/step - loss: 0.0144 - accuracy: 0.9957 - val_loss: 0.0289 - val_accuracy: 0.9927\n",
      "Epoch 14/50\n",
      "94/94 [==============================] - 1s 8ms/step - loss: 0.0147 - accuracy: 0.9950 - val_loss: 0.0336 - val_accuracy: 0.9915\n",
      "Epoch 15/50\n",
      "94/94 [==============================] - 1s 8ms/step - loss: 0.0144 - accuracy: 0.9953 - val_loss: 0.0316 - val_accuracy: 0.9912\n",
      "Epoch 16/50\n",
      "94/94 [==============================] - 1s 8ms/step - loss: 0.0151 - accuracy: 0.9952 - val_loss: 0.0336 - val_accuracy: 0.9926\n",
      "Epoch 17/50\n",
      "94/94 [==============================] - 1s 8ms/step - loss: 0.0123 - accuracy: 0.9961 - val_loss: 0.0347 - val_accuracy: 0.9923\n",
      "Epoch 18/50\n",
      "94/94 [==============================] - 1s 8ms/step - loss: 0.0114 - accuracy: 0.9959 - val_loss: 0.0334 - val_accuracy: 0.9926\n",
      "Epoch 19/50\n",
      "94/94 [==============================] - 1s 8ms/step - loss: 0.0136 - accuracy: 0.9952 - val_loss: 0.0354 - val_accuracy: 0.9923\n",
      "Epoch 20/50\n",
      "94/94 [==============================] - 1s 8ms/step - loss: 0.0093 - accuracy: 0.9967 - val_loss: 0.0317 - val_accuracy: 0.9930\n",
      "Epoch 21/50\n",
      "94/94 [==============================] - 1s 8ms/step - loss: 0.0091 - accuracy: 0.9971 - val_loss: 0.0366 - val_accuracy: 0.9920\n",
      "Epoch 22/50\n",
      "94/94 [==============================] - 1s 8ms/step - loss: 0.0104 - accuracy: 0.9964 - val_loss: 0.0360 - val_accuracy: 0.9926\n",
      "Epoch 23/50\n",
      "94/94 [==============================] - 1s 8ms/step - loss: 0.0094 - accuracy: 0.9970 - val_loss: 0.0320 - val_accuracy: 0.9933\n",
      "Epoch 24/50\n",
      "94/94 [==============================] - 1s 8ms/step - loss: 0.0080 - accuracy: 0.9972 - val_loss: 0.0326 - val_accuracy: 0.9929\n",
      "Epoch 25/50\n",
      "94/94 [==============================] - 1s 8ms/step - loss: 0.0094 - accuracy: 0.9968 - val_loss: 0.0320 - val_accuracy: 0.9929\n",
      "Epoch 26/50\n",
      "94/94 [==============================] - 1s 8ms/step - loss: 0.0079 - accuracy: 0.9974 - val_loss: 0.0330 - val_accuracy: 0.9924\n",
      "Epoch 27/50\n",
      "94/94 [==============================] - 1s 8ms/step - loss: 0.0073 - accuracy: 0.9975 - val_loss: 0.0332 - val_accuracy: 0.9937\n",
      "Epoch 28/50\n",
      "94/94 [==============================] - 1s 8ms/step - loss: 0.0075 - accuracy: 0.9974 - val_loss: 0.0422 - val_accuracy: 0.9912\n",
      "Epoch 29/50\n",
      "94/94 [==============================] - 1s 8ms/step - loss: 0.0080 - accuracy: 0.9973 - val_loss: 0.0350 - val_accuracy: 0.9923\n",
      "Epoch 30/50\n",
      "94/94 [==============================] - 1s 8ms/step - loss: 0.0063 - accuracy: 0.9977 - val_loss: 0.0410 - val_accuracy: 0.9925\n",
      "Epoch 31/50\n",
      "94/94 [==============================] - 1s 8ms/step - loss: 0.0078 - accuracy: 0.9975 - val_loss: 0.0333 - val_accuracy: 0.9927\n",
      "Epoch 32/50\n",
      "94/94 [==============================] - 1s 8ms/step - loss: 0.0069 - accuracy: 0.9977 - val_loss: 0.0357 - val_accuracy: 0.9929\n",
      "Epoch 33/50\n",
      "94/94 [==============================] - 1s 8ms/step - loss: 0.0087 - accuracy: 0.9970 - val_loss: 0.0383 - val_accuracy: 0.9925\n",
      "Epoch 34/50\n",
      "94/94 [==============================] - 1s 8ms/step - loss: 0.0076 - accuracy: 0.9975 - val_loss: 0.0342 - val_accuracy: 0.9929\n",
      "Epoch 35/50\n",
      "94/94 [==============================] - 1s 8ms/step - loss: 0.0077 - accuracy: 0.9973 - val_loss: 0.0367 - val_accuracy: 0.9932\n",
      "Epoch 36/50\n",
      "94/94 [==============================] - 1s 8ms/step - loss: 0.0063 - accuracy: 0.9979 - val_loss: 0.0393 - val_accuracy: 0.9928\n",
      "Epoch 37/50\n",
      "94/94 [==============================] - 1s 8ms/step - loss: 0.0062 - accuracy: 0.9981 - val_loss: 0.0385 - val_accuracy: 0.9933\n",
      "Epoch 38/50\n",
      "94/94 [==============================] - 1s 8ms/step - loss: 0.0069 - accuracy: 0.9976 - val_loss: 0.0319 - val_accuracy: 0.9940\n",
      "Epoch 39/50\n",
      "94/94 [==============================] - 1s 8ms/step - loss: 0.0057 - accuracy: 0.9980 - val_loss: 0.0389 - val_accuracy: 0.9931\n",
      "Epoch 40/50\n",
      "94/94 [==============================] - 1s 8ms/step - loss: 0.0055 - accuracy: 0.9981 - val_loss: 0.0400 - val_accuracy: 0.9927\n",
      "Epoch 41/50\n",
      "94/94 [==============================] - 1s 8ms/step - loss: 0.0053 - accuracy: 0.9980 - val_loss: 0.0400 - val_accuracy: 0.9928\n",
      "Epoch 42/50\n",
      "94/94 [==============================] - 1s 8ms/step - loss: 0.0050 - accuracy: 0.9981 - val_loss: 0.0397 - val_accuracy: 0.9926\n",
      "Epoch 43/50\n",
      "94/94 [==============================] - 1s 8ms/step - loss: 0.0064 - accuracy: 0.9980 - val_loss: 0.0414 - val_accuracy: 0.9927\n",
      "Epoch 44/50\n",
      "94/94 [==============================] - 1s 8ms/step - loss: 0.0050 - accuracy: 0.9984 - val_loss: 0.0435 - val_accuracy: 0.9927\n",
      "Epoch 45/50\n",
      "94/94 [==============================] - 1s 8ms/step - loss: 0.0048 - accuracy: 0.9987 - val_loss: 0.0441 - val_accuracy: 0.9927\n",
      "Epoch 46/50\n",
      "94/94 [==============================] - 1s 8ms/step - loss: 0.0056 - accuracy: 0.9982 - val_loss: 0.0410 - val_accuracy: 0.9933\n",
      "Epoch 47/50\n",
      "94/94 [==============================] - 1s 8ms/step - loss: 0.0062 - accuracy: 0.9979 - val_loss: 0.0437 - val_accuracy: 0.9925\n",
      "Epoch 48/50\n",
      "94/94 [==============================] - 1s 8ms/step - loss: 0.0056 - accuracy: 0.9981 - val_loss: 0.0370 - val_accuracy: 0.9923\n",
      "Epoch 49/50\n",
      "94/94 [==============================] - 1s 8ms/step - loss: 0.0049 - accuracy: 0.9982 - val_loss: 0.0432 - val_accuracy: 0.9933\n",
      "Epoch 50/50\n",
      "94/94 [==============================] - 1s 8ms/step - loss: 0.0052 - accuracy: 0.9980 - val_loss: 0.0432 - val_accuracy: 0.9933\n"
     ]
    }
   ],
   "source": [
    "batch_size = 512\n",
    "epochs = 50\n",
    "history = model.fit(x_train, y_train,\n",
    "          batch_size=batch_size,\n",
    "          epochs=epochs,\n",
    "          verbose=1,\n",
    "          validation_split = 0.2)"
   ]
  },
  {
   "cell_type": "code",
   "execution_count": 20,
   "metadata": {},
   "outputs": [
    {
     "name": "stdout",
     "output_type": "stream",
     "text": [
      "313/313 [==============================] - 1s 2ms/step - loss: 0.0327 - accuracy: 0.9938\n",
      "Test loss: 0.03266390413045883\n",
      "Test accuracy: 0.9937999844551086\n"
     ]
    }
   ],
   "source": [
    "# Final Result - Generalization!\n",
    "score = model.evaluate(x_test, y_test, verbose=1)\n",
    "print('Test loss:', score[0])\n",
    "print('Test accuracy:', score[1])"
   ]
  },
  {
   "cell_type": "code",
   "execution_count": 21,
   "metadata": {},
   "outputs": [
    {
     "data": {
      "image/png": "[encoded data removed]",
      "text/plain": [
       "<Figure size 432x288 with 2 Axes>"
      ]
     },
     "metadata": {
      "needs_background": "light"
     },
     "output_type": "display_data"
    }
   ],
   "source": [
    "plt.figure(1)  \n",
    "  \n",
    "# summarize history for accuracy  \n",
    "   \n",
    "plt.subplot(211)  \n",
    "plt.plot(history.history['accuracy'])  \n",
    "plt.plot(history.history['val_accuracy'])  \n",
    "plt.title('model accuracy')  \n",
    "plt.ylabel('accuracy')  \n",
    "plt.xlabel('epoch')  \n",
    "plt.legend(['train', 'test'], loc='upper left')  \n",
    "   \n",
    "# summarize history for loss  \n",
    "   \n",
    "plt.subplot(212)  \n",
    "plt.plot(history.history['loss'])  \n",
    "plt.plot(history.history['val_loss'])  \n",
    "plt.title('model loss')  \n",
    "plt.ylabel('loss')  \n",
    "plt.xlabel('epoch')  \n",
    "plt.legend(['train', 'test'], loc='upper left') \n",
    "\n",
    "plt.tight_layout()\n",
    "plt.show()  "
   ]
  },
  {
   "cell_type": "markdown",
   "metadata": {},
   "source": [
    "## Examining the Weights\n",
    "\n",
    "Let's see if we can get a glimpse into what the network has learned by unpacking some of the weights in the network and plotting them. Since the kernel patches have a 2D structure to them, we would expect the network to start learning interesting 2D features which capture edges and common shapes in these small patches that can be stitched together to form composite digits. These features are what a convolution network is all about: changing the inductive bias of the network to better capture the kinds of features useful for classifying 2D/image data.\n",
    "\n",
    "OK, so we can use the `get_weights()` function to grab them, and we expect 8 sets of them. This is because 4 layers in the network construction introduced connection weights (only four rows in the summary have a non-zero entry in #Params). Also, connection weights and bias weights for each layer are divided into two separate tensors each (4 x 2 = 8). The connection weights will not be matrices since the addition of 2D structure rearranges them based on the selected kernel size.\n",
    "\n",
    "Let's grab one set, and then many more..."
   ]
  },
  {
   "cell_type": "code",
   "execution_count": null,
   "metadata": {},
   "outputs": [],
   "source": [
    "# This is everything!\n",
    "weights = model.get_weights()"
   ]
  },
  {
   "cell_type": "code",
   "execution_count": null,
   "metadata": {},
   "outputs": [],
   "source": [
    "# How many tensors?\n",
    "len(weights)"
   ]
  },
  {
   "cell_type": "code",
   "execution_count": null,
   "metadata": {},
   "outputs": [],
   "source": [
    "# What's the shape of the tensor\n",
    "# for the connection weights at\n",
    "# the -first- Conv2D layer?\n",
    "weights[0].shape"
   ]
  },
  {
   "cell_type": "markdown",
   "metadata": {},
   "source": [
    "Notice how the filters are 8 x 8 x 1 (64 filters total since there are 64 units in that layer). We can slice off the dimension of size 1 by just grabbing index 0 along that dimension. Slicing along the dimension of size 64 will get an individual filter: for now, lets just look at the first one and see what we find."
   ]
  },
  {
   "cell_type": "code",
   "execution_count": null,
   "metadata": {},
   "outputs": [],
   "source": [
    "# We can plot the kernel weight matrix\n",
    "# for just the first unit (out of 64)\n",
    "# as an example...\n",
    "plt.imshow(weights[0][:,:,0,0])\n",
    "plt.show()"
   ]
  },
  {
   "cell_type": "markdown",
   "metadata": {},
   "source": [
    "The light values indicate high weights, and the dark regions indicate low weights. In general, high weights cause a unit to turn on when pixel intensities are high and low weights cause a unit to turn off when pixel intensities are high. Therefore regions which transition from high to low weights are finding edges. Different units will detect different shape and orienations of these edge features, which form the basic building blocks for object detection and recognition. We can look at all 64 of the units by creating a plot with 64 small 8 x 8 subplots."
   ]
  },
  {
   "cell_type": "code",
   "execution_count": null,
   "metadata": {},
   "outputs": [],
   "source": [
    "fig,axes = plt.subplots(8,8)\n",
    "fig.set_figwidth(12)\n",
    "fig.set_figheight(12)\n",
    "for x in range(8):\n",
    "    for y in range(8):\n",
    "        data = weights[0][:,:,:,(x*8)+y].reshape(8,8)\n",
    "        \n",
    "        axes[x,y].imshow(data)\n",
    "plt.show()"
   ]
  },
  {
   "cell_type": "markdown",
   "metadata": {},
   "source": [
    "These edge features are  then combined at the next `Conv2D` layer to form more complex features, so they are detecting changes in observed features."
   ]
  },
  {
   "cell_type": "code",
   "execution_count": null,
   "metadata": {},
   "outputs": [],
   "source": [
    "fig,axes = plt.subplots(8,8)\n",
    "fig.set_figwidth(12)\n",
    "fig.set_figheight(12)\n",
    "for x in range(8):\n",
    "    for y in range(8):\n",
    "        axes[x,y].imshow(weights[2][:,:,(x*8)+y,0].reshape(8,8))\n",
    "plt.show()"
   ]
  },
  {
   "cell_type": "markdown",
   "metadata": {},
   "source": [
    "## Exploring the Network Activations\n",
    "\n",
    "While looking at the weights can provide some insights into the function of these filters/kernels/\"feature detectors\", it doesn't show how the weights are used for any *particular* image. Therefore, it can be hard to see how these weights are *used* by the network when classifying a digit. In order to gather additional insight on what the network might have learned, we can instead send a pattern through the network and look at the *activation values* produced by the units at each layer. We would expect the feature detectors to turn on in different ways based on the different digits which are presented, essentially based on the features which are present or not present in a given image.\n",
    "\n",
    "Too start with, let's pass a single image (the first one in the x_train data set) through the network and extract the activations of the neurons for all layers..."
   ]
  },
  {
   "cell_type": "code",
   "execution_count": null,
   "metadata": {},
   "outputs": [],
   "source": [
    "# Extract the input layer/tensor of the model\n",
    "inp = model.input\n",
    "\n",
    "# Extract the output layer/tensors of the model\n",
    "# Note: there is one output tensor for each layer\n",
    "#       which contains the activation values\n",
    "#       for the layer in question...\n",
    "outputs = [layer.output for layer in model.layers]\n",
    "\n",
    "# Create a function to obtain the outputs given\n",
    "# an input tensor...\n",
    "functor = K.function(inp, outputs)"
   ]
  },
  {
   "cell_type": "code",
   "execution_count": null,
   "metadata": {},
   "outputs": [],
   "source": [
    "# Get the layer outputs for the -first- image...\n",
    "layer_outputs = functor([x_train[0:1,:,:,:],1.])\n",
    "len(layer_outputs)"
   ]
  },
  {
   "cell_type": "markdown",
   "metadata": {},
   "source": [
    "We have passed the first image through the network, and have extracted the activations for the 8 layers. Now we can visualize those activations to see what these feature detectors might be finding.\n",
    "\n",
    "First, we look at the initial convolutional layer of the network..."
   ]
  },
  {
   "cell_type": "code",
   "execution_count": null,
   "metadata": {},
   "outputs": [],
   "source": [
    "layer_outputs[0].shape"
   ]
  },
  {
   "cell_type": "markdown",
   "metadata": {},
   "source": [
    "Looking at the dimensions of the output tensor for the first layer, we can observe that there are 64 units each with a 1 x 21 x 21 output tensor. The 1 is due to the fact that we only have one channel (intensity). The 21 x 21 corresponds to the sliding of the 8 x 8 filters across the 28 x 28 pixel input images. Let's plot each of those 21 x 21 activation patterns to see if there is anything interesting there..."
   ]
  },
  {
   "cell_type": "code",
   "execution_count": null,
   "metadata": {},
   "outputs": [],
   "source": [
    "fig,axes = plt.subplots(8,8)\n",
    "fig.set_figwidth(12)\n",
    "fig.set_figheight(12)\n",
    "for x in range(8):\n",
    "    for y in range(8):\n",
    "        axes[x,y].imshow(layer_outputs[0][0,:,:,(x*8)+y])\n",
    "plt.show()"
   ]
  },
  {
   "cell_type": "markdown",
   "metadata": {},
   "source": [
    "It should be pretty clear that these units are detecting simple features for the number 5, which is indeed the first image in the x_train set. You might notice that some of the neural units seem to be finding edges or boundaries. Some units find edges or other features on just one side, some on both sides, and others seem to detect empty or surrounding regions which *lack* pixels.\n",
    "\n",
    "What would we find in the second layer? This one is a little more complicated since it's composites of features and there are 128 units. Still, we can try the same approach..."
   ]
  },
  {
   "cell_type": "code",
   "execution_count": null,
   "metadata": {},
   "outputs": [],
   "source": [
    "layer_outputs[1].shape"
   ]
  },
  {
   "cell_type": "code",
   "execution_count": null,
   "metadata": {},
   "outputs": [],
   "source": [
    "fig,axes = plt.subplots(12,11)\n",
    "fig.set_figwidth(12)\n",
    "fig.set_figheight(12)\n",
    "for x in range(128):\n",
    "    axes[int(x/11),int(x%11)].imshow(layer_outputs[1][0,:,:,x])\n",
    "plt.show()"
   ]
  },
  {
   "cell_type": "markdown",
   "metadata": {},
   "source": [
    "Such composite features are somewhat difficult to understand without sampling from a wide range of images, but these are basically combinations of features that are somewhat unique to the number 5. Of course some of them will be active for numbers that look similar in certain ways, but the key *differences* will also be observed in these activation patterns.\n",
    "\n",
    "Given that the downstream layers should start to look less like composite features, but unique vectors for describing each image, we can now try to visualize those vectors using PCA..."
   ]
  },
  {
   "cell_type": "code",
   "execution_count": null,
   "metadata": {},
   "outputs": [],
   "source": [
    "# How many of the training images to use?\n",
    "n_train = 1000\n",
    "\n",
    "# Extract the outputs for -all- requested patterns\n",
    "layer_outputs = [functor([test[np.newaxis,...],1.]) for test in x_train[0:n_train,:,:,:]]\n",
    "\n",
    "# Extract just the activations of the -sixth- layer in the network.\n",
    "# Remember, this is a -dense- layer with 128 neural units.\n",
    "# We can think of this as a 128-dimensional space in which each \n",
    "# of the patterns has now been embedded by the neural network...\n",
    "A = np.vstack([out[5].flatten() for out in layer_outputs])\n",
    "\n",
    "A.shape"
   ]
  },
  {
   "cell_type": "markdown",
   "metadata": {},
   "source": [
    "The matrix, $\\boldsymbol{A}$, now contains the activations of the 6th layer of the network (dense, 128 units) for the first 1000 training patterns. Of course, we can't visualize a 128-dimensional space, but using PCA we can project this down to a smaller number of dimensions and see if we can observe any trends."
   ]
  },
  {
   "cell_type": "code",
   "execution_count": null,
   "metadata": {},
   "outputs": [],
   "source": [
    "# Mean center a vector\n",
    "def mean_center(x):\n",
    "    return x - np.mean(x)\n",
    "\n",
    "# Call this function for each column in the data (move along axis 0 or the rows)\n",
    "Acentered = np.apply_along_axis(mean_center,0,A)\n",
    "\n",
    "U,S,V = np.linalg.svd(Acentered,full_matrices=True)\n",
    "\n",
    "# Percent variance accounted for\n",
    "plt.plot(100.0*S/np.sum(S))\n",
    "plt.ylabel('% Var')\n",
    "plt.xlabel('Singular Value')\n",
    "plt.show()"
   ]
  },
  {
   "cell_type": "markdown",
   "metadata": {},
   "source": [
    "The scree plot above shows that it still takes a large number of dimensions to embed the data. However, maybe a 3D projection will show a decent amount of information."
   ]
  },
  {
   "cell_type": "code",
   "execution_count": null,
   "metadata": {},
   "outputs": [],
   "source": [
    "100.0*np.sum(S[0:3])/np.sum(S)"
   ]
  },
  {
   "cell_type": "markdown",
   "metadata": {},
   "source": [
    "The first 3 principal components will only capture about 19% of the variance in the data, but let's color the plot by the various classes and see if it looks better than the PCA of the original data which we saw back in Open Lab 4."
   ]
  },
  {
   "cell_type": "code",
   "execution_count": null,
   "metadata": {},
   "outputs": [],
   "source": [
    "D = np.zeros([A.shape[0],A.shape[1]])\n",
    "np.fill_diagonal(D,S)\n",
    "Arotated = np.dot(U,D)\n",
    "\n",
    "# First three principal components!\n",
    "PCs = Arotated[:,0:3]\n",
    "PCs.shape"
   ]
  },
  {
   "cell_type": "code",
   "execution_count": null,
   "metadata": {},
   "outputs": [],
   "source": [
    "# Need a lot of colors again (10 - one for each class)\n",
    "# PCs 1 and 2\n",
    "plt.scatter(PCs[:,0],PCs[:,1],\n",
    "            color=[['red','green','blue','cyan','magenta','yellow','black','brown','grey','purple'][i] for i in np.apply_along_axis(np.argmax,1,y_train[0:n_train,:])])\n",
    "plt.xlabel(\"PC1\")\n",
    "plt.ylabel(\"PC2\")\n",
    "plt.show()"
   ]
  },
  {
   "cell_type": "code",
   "execution_count": null,
   "metadata": {},
   "outputs": [],
   "source": [
    "# PCs 2 and 3\n",
    "plt.scatter(PCs[:,2],PCs[:,1],\n",
    "            color=[['red','green','blue','cyan','magenta','yellow','black','brown','grey','purple'][i] for i in np.apply_along_axis(np.argmax,1,y_train[0:n_train,:])])\n",
    "plt.xlabel(\"PC3\")\n",
    "plt.ylabel(\"PC2\")\n",
    "plt.show()"
   ]
  },
  {
   "cell_type": "markdown",
   "metadata": {},
   "source": [
    "The two plots above utilize 2 separate 2D plots to attempt to visualize the first 3 principal components. The first shows PCs 1 and 2 while the second shows PCs 2 and 3. Therefore, they share PC 2 which can help show where one plot corresponds to the other. Also, if some groups are overlapping in one plot, they are usually not in the other (or they do not overlap in either plot). Therefore, it looks like the 128-dimensional embedding created at the downstream dense layer is providing a good space in which decision boundaries (hyper-planes) between the different classes might easily be drawn.\n",
    "\n",
    "Using a 3D plot can make this a little clearer, but it's difficult to render just the right angle for viewing all of the point clouds. Let's render at a couple of different angles to see if that helps..."
   ]
  },
  {
   "cell_type": "code",
   "execution_count": null,
   "metadata": {},
   "outputs": [],
   "source": [
    "# 3D Plot\n",
    "fig = plt.figure()\n",
    "ax = fig.gca(projection='3d')\n",
    "fig.set_figwidth(10)\n",
    "fig.set_figheight(8)\n",
    "ax.scatter(PCs[:,0],PCs[:,1],PCs[:,2],\n",
    "           color=[['red','green','blue','cyan','magenta','yellow','black','brown','grey','purple'][i] for i in np.apply_along_axis(np.argmax,1,y_train[0:n_train,:])])\n",
    "ax.set_xlabel(\"PC1\")\n",
    "ax.set_ylabel(\"PC2\")\n",
    "ax.set_zlabel(\"PC3\")\n",
    "ax.view_init(45,45)"
   ]
  },
  {
   "cell_type": "code",
   "execution_count": null,
   "metadata": {},
   "outputs": [],
   "source": [
    "# 3D Plot\n",
    "fig = plt.figure()\n",
    "ax = fig.gca(projection='3d')\n",
    "fig.set_figwidth(10)\n",
    "fig.set_figheight(8)\n",
    "ax.scatter(PCs[:,0],PCs[:,1],PCs[:,2],\n",
    "           color=[['red','green','blue','cyan','magenta','yellow','black','brown','grey','purple'][i] for i in np.apply_along_axis(np.argmax,1,y_train[0:n_train,:])])\n",
    "ax.set_xlabel(\"PC1\")\n",
    "ax.set_ylabel(\"PC2\")\n",
    "ax.set_zlabel(\"PC3\")\n",
    "ax.view_init(45,225)"
   ]
  },
  {
   "cell_type": "markdown",
   "metadata": {},
   "source": [
    "This PCA projection shows that the 10 classes are fairly well separated, and that's using a projection which only accounts for 19% of the total variance in the data. Even still, it is clear that the network has learned to separate the different images into unique regions of the neural activations space. This allows the final output layer to form a clear decision boundary between the different image classes and achieve *very good* (almost state-of-the-art) performance with just a handful of training epochs. That's a pretty helpful inductive bias, no?\n",
    "\n",
    "In the end, the general approach to plotting weights may help us to understand what's happening for *all* patterns, but analyzing activations can provide additional insights since they change and vary with the input data itself. Still, this often requires some additional post-processing which may be prohibitively expensive. For example, we could have tried the same approach with the activations of the convolution layers, but the size of the activations matrices is much larger than the later downstream layers. This would make the PCA prohibitively expensive to perform. Later in the semester, we will look at a way to train a neural network to solve PCA which will require epochs of training but is much more memory efficient than the SVD approach used above.\n",
    "\n",
    "We've now built and trained a basic convolution neural network, but there's more on this to come soon!"
   ]
  },
  {
   "cell_type": "markdown",
   "metadata": {},
   "source": [
    "## Using a Pre-trained Model (Transfer Learning)\n",
    "\n",
    "Now that we have explored building a ConvNet from scratch using MNIST, let's explore two more potentially useful techniques:\n",
    "1. 3-channel (R,G,B) images\n",
    "2. Pre-trained ConvNet for early stages of processing\n",
    "\n",
    "We will utilize full-color images (increasing the third dimension of our input tensors to 3). Images will be of a different size now as well since we will build the convolution layers of our network using a *pretrained* set of layers and connection weights which have already been trained on an extensive set of images. This is useful since we don't necessary have the time and memory resources to burn on training up the low-level features useful for generalized classification. Instead, we will exploit the pre-trained network topology and then stack some additional layers on top of these pre-trained layers to perform our *particular* categorization task. This should also allow for faster training of the network since updating the connection weights on the earlier layers of the network should be minimal. This reduction in training epochs for training those deep weights in the network will significantly reduce our training time on our image classification task of interest.\n",
    "\n",
    "First though, we need to load up an image data set to use. This example will consist of 100 images borrowed from [ImageNet](http://www.image-net.org). I've already prepared the data set on the JupyterLab systems for this course in the shared directory `/nfshome/sandbox/xception_example/`. You can also download the data set from the JupyterLab systems (just use the terminal to create a link to the sandbox while in your home directory: `ln -s /nfshome/sandbox` on any of the systems, browse into the newly created `sandbox` folder link and right click-download `exception-example.zip`). You will need to adjust some of the paths below if you decide to download the data yourself. Due to copyright restrictions, I am not going to post this data set on the course website, and some of the image processing tools that can read images from URLs directly were also performing some additional processing of the images that might not be compatible with this tutorial, so we won't use them until that gets fixed.\n",
    "\n",
    "OK, let's load up some images and see what we have..."
   ]
  },
  {
   "cell_type": "code",
   "execution_count": null,
   "metadata": {},
   "outputs": [],
   "source": [
    "# First a few tools for this -particular- example...\n",
    "from keras.applications.xception import Xception\n",
    "from keras.preprocessing import image\n",
    "from keras.applications.xception import preprocess_input, decode_predictions"
   ]
  },
  {
   "cell_type": "code",
   "execution_count": null,
   "metadata": {},
   "outputs": [],
   "source": [
    "def grab_image(img_path):\n",
    "    img = image.load_img(img_path, target_size=(299, 299))\n",
    "    x = image.img_to_array(img)\n",
    "    x = np.expand_dims(x, axis=0)\n",
    "    x = preprocess_input(x)\n",
    "    return x\n",
    "\n",
    "X = np.concatenate([grab_image('/nfshome/sandbox/xception_example/images/image_%d.JPEG'%(i)) for i in range(100)])\n",
    "X.shape"
   ]
  },
  {
   "cell_type": "markdown",
   "metadata": {},
   "source": [
    "You will note that this is a *4D tensor* of input data for the network. The first dimension is 100 since there are 100 images, each image is 299 x 299 pixels (dims 2 and 3), and the last dimension is of size 3 for the three color channels of the image (red, green, blue). After the above code has been run, each image has already been preprocessed for input into the pre-trained network that we will be using: Googles's Xception net.\n",
    "\n",
    "If you want to verify any of the images though, you can reconvert the preprocessed arrays *back* into an image format accepted by matplotlib, and use `imshow()` to display it.\n",
    "\n",
    "For example:"
   ]
  },
  {
   "cell_type": "code",
   "execution_count": null,
   "metadata": {},
   "outputs": [],
   "source": [
    "plt.imshow(image.array_to_img(X[0,:,:,:]))\n",
    "plt.show()"
   ]
  },
  {
   "cell_type": "markdown",
   "metadata": {},
   "source": [
    "That's a parakeet, and the next is a dog hanging out with some sheep!"
   ]
  },
  {
   "cell_type": "code",
   "execution_count": null,
   "metadata": {},
   "outputs": [],
   "source": [
    "plt.imshow(image.array_to_img(X[1,:,:,:]))\n",
    "plt.show()"
   ]
  },
  {
   "cell_type": "markdown",
   "metadata": {},
   "source": [
    "Now we will load up a pre-trained model (Google's Xception) which classifies any provided image (scaled to 299 x 299 pixels) into one of 1000 different categories (the output layer has 1000 units and a softmax activation function). This network is pretty large (but still small compared to some convnets) so get ready..."
   ]
  },
  {
   "cell_type": "code",
   "execution_count": null,
   "metadata": {},
   "outputs": [],
   "source": [
    "# Let's load up the model\n",
    "# This will load up the architecture\n",
    "# and then the pre-trained weights from the\n",
    "# internet...\n",
    "model = Xception(weights='imagenet')\n",
    "model.summary()"
   ]
  },
  {
   "cell_type": "markdown",
   "metadata": {},
   "source": [
    "That's a big network, no? Even though the network is very deep, the total number of parameters is only about 23 million, which is actually *very* compact and this is still an excellent network for image classification. Let's just use the default architecture and see what it says about the first image in our data set using the `predict()` method."
   ]
  },
  {
   "cell_type": "code",
   "execution_count": null,
   "metadata": {},
   "outputs": [],
   "source": [
    "# Just the first image that we say above...\n",
    "preds = model.predict(X[0:1,:,:,:])\n",
    "\n",
    "# Decode the results into a list of tuples (class, description, probability)\n",
    "# (one such list for each sample in the batch)\n",
    "print('Predicted:', decode_predictions(preds, top=5)[0])"
   ]
  },
  {
   "cell_type": "markdown",
   "metadata": {},
   "source": [
    "That's pretty good. There are 1000 different categories used here, so lot's of different images will be categorized pretty will with at least one of the top 5 or so results. Here, the first hit at 44.8% is a very good fit even though it's not *really* an African Grey. Even the next 4 highest probabilities are all pretty close as well (never trained on this specific class anyway).\n",
    "\n",
    "OK, so now we can use the model to make a class prediction, but let's see if we can use the pretrained network and build our own classifier on *top* of this model. In order to do this, we will need some different class labels for our data. For these 100 images, 37 have pictures of cats. Therefore, we are going to make a simple two-class predictor (cat vs. no-cat), but use Xception as the first part of our network. Let's load the class labels, and build a net with an Xception front-end."
   ]
  },
  {
   "cell_type": "code",
   "execution_count": null,
   "metadata": {},
   "outputs": [],
   "source": [
    "# 37 cats in there (label 1, and all else 0)\n",
    "Y = np.loadtxt('/nfshome/sandbox/xception_example/class_labels.csv')\n",
    "Y = keras.utils.to_categorical(Y)\n",
    "\n",
    "# Take a look at the first 10...\n",
    "Y[0:10,:]"
   ]
  },
  {
   "cell_type": "markdown",
   "metadata": {},
   "source": [
    "Oh, so number 5 must be a cat picture, right?"
   ]
  },
  {
   "cell_type": "code",
   "execution_count": null,
   "metadata": {},
   "outputs": [],
   "source": [
    "plt.imshow(image.array_to_img(X[4,:,:,:]))\n",
    "plt.show()"
   ]
  },
  {
   "cell_type": "markdown",
   "metadata": {},
   "source": [
    "OK, now the idea here is make a cat predictor, but **reuse** the pre-trained Xception network instead of starting from scratch. The basic intuition is that the low-level features extracted by Xception are very general since it was trained with a wide range of images (from 1000 different classes!). Most of those basic feature detectors should be useful for discriminating between cats and other things then as well, right?\n",
    "\n",
    "Well, let's see..."
   ]
  },
  {
   "cell_type": "code",
   "execution_count": null,
   "metadata": {},
   "outputs": [],
   "source": [
    "# Build an Xception-based network\n",
    "\n",
    "# Base Model\n",
    "base_model = keras.applications.Xception(weights='imagenet',include_top=False)\n",
    "# This model uses the trained weights, but critically,\n",
    "# the include_top=False flag is provided to allow us to\n",
    "# add our own layers at the top...\n",
    "\n",
    "# New model that we are adding at the end...\n",
    "# We will start by setting the -start- of the model\n",
    "# to the -end- (output) of the pretrained model...\n",
    "new_model = base_model.output\n",
    "\n",
    "# Now, we can start adding our own layers to the model...\n",
    "# Here, I am using the -functional- network model for\n",
    "# Keras instead of the -sequential- model. This means we\n",
    "# need to \"manually\" tie our layers together by creating\n",
    "# them and then providing the upstream layer as an argument\n",
    "# to the object's functional interface:\n",
    "new_model = keras.layers.GlobalAveragePooling2D()(new_model)\n",
    "# We are using an average pooling layer to select the most\n",
    "# likely among the features provided by the base_network...\n",
    "\n",
    "# Now, let's continue to stack layers into the model...\n",
    "new_model = keras.layers.Dense(30,activation='relu')(new_model)\n",
    "\n",
    "# Add the final output layer (just 2 classes)\n",
    "new_model = keras.layers.Dense(2,activation='softmax')(new_model)\n",
    "\n",
    "# For the functional model, we first build up a set of layers\n",
    "# and network componenets, and then specify which of those\n",
    "# layers and components function as the input and output for\n",
    "# our model.\n",
    "model = keras.Model(inputs=base_model.input,outputs=new_model)\n",
    "# It's possible to have -multiple- input or output components\n",
    "# for a model as well, but here we just use the Xception model's\n",
    "# input layer and the output layer from our added layers as\n",
    "# the output layer for the mode...\n",
    "\n",
    "# Compile the model\n",
    "model.compile(loss=keras.losses.categorical_crossentropy,\n",
    "              optimizer=keras.optimizers.Adam(),\n",
    "              metrics=['accuracy'])\n",
    "\n",
    "# Take a quick look at it...\n",
    "model.summary()"
   ]
  },
  {
   "cell_type": "markdown",
   "metadata": {},
   "source": [
    "We can see the extra layers stacked at the end that we made! Now we are ready to try to train this model up. Remember, this is another *big* model, so the training time is great, but it should still be better than starting from scratch."
   ]
  },
  {
   "cell_type": "code",
   "execution_count": null,
   "metadata": {},
   "outputs": [],
   "source": [
    "batch_size = 20\n",
    "epochs = 10\n",
    "history = model.fit(X, Y,\n",
    "          batch_size=batch_size,\n",
    "          epochs=epochs,\n",
    "          verbose=1,\n",
    "          validation_split = 0.4)\n",
    "# 0.4 split size provides 25 cats in the training set,\n",
    "# and 12 in the validation set..."
   ]
  },
  {
   "cell_type": "code",
   "execution_count": null,
   "metadata": {},
   "outputs": [],
   "source": [
    "plt.figure(1)  \n",
    "  \n",
    "# summarize history for accuracy  \n",
    "   \n",
    "plt.subplot(211)  \n",
    "plt.plot(history.history['acc'])  \n",
    "plt.plot(history.history['val_acc'])  \n",
    "plt.title('model accuracy')  \n",
    "plt.ylabel('accuracy')  \n",
    "plt.xlabel('epoch')  \n",
    "plt.legend(['train', 'test'], loc='upper left')  \n",
    "   \n",
    "# summarize history for loss  \n",
    "   \n",
    "plt.subplot(212)  \n",
    "plt.plot(history.history['loss'])  \n",
    "plt.plot(history.history['val_loss'])  \n",
    "plt.title('model loss')  \n",
    "plt.ylabel('loss')  \n",
    "plt.xlabel('epoch')  \n",
    "plt.legend(['train', 'test'], loc='upper left') \n",
    "\n",
    "plt.tight_layout()\n",
    "plt.show()  "
   ]
  },
  {
   "cell_type": "markdown",
   "metadata": {},
   "source": [
    "Well, we ended up with a *horrible* case of overfitting since the performance on the test cases is so bad, but we can at least get it to learn the training data (100%). We could, of course, add *dropout* or some other regularization method to try to cope with this, but we know for a fact that 60 images is a little **data starved** for this kind of task. So instead, let's just train up a conv net from scratch for 10 epochs for comparison, and see what it can do in that same amount of effort."
   ]
  },
  {
   "cell_type": "code",
   "execution_count": null,
   "metadata": {},
   "outputs": [],
   "source": [
    "# A convolution net for the cat problem!\n",
    "model = keras.Sequential()\n",
    "# Three input channels this time!\n",
    "model.add(keras.layers.Conv2D(64, kernel_size=(8, 8),\n",
    "                              activation='relu',\n",
    "                              input_shape=[X.shape[1],\n",
    "                                           X.shape[2],\n",
    "                                           X.shape[3]]))\n",
    "model.add(keras.layers.Conv2D(128, (8, 8), activation='relu'))\n",
    "model.add(keras.layers.MaxPooling2D(pool_size=(8, 8)))\n",
    "model.add(keras.layers.Dropout(0.25))\n",
    "model.add(keras.layers.Flatten())\n",
    "model.add(keras.layers.Dense(128, activation='relu'))\n",
    "model.add(keras.layers.Dropout(0.5))\n",
    "model.add(keras.layers.Dense(Y.shape[1], activation='softmax'))\n",
    "\n",
    "model.compile(loss=keras.losses.categorical_crossentropy,\n",
    "              optimizer=keras.optimizers.Adam(),\n",
    "              metrics=['accuracy'])\n",
    "\n",
    "# Roughly the same number of parameters!\n",
    "model.summary()"
   ]
  },
  {
   "cell_type": "code",
   "execution_count": null,
   "metadata": {},
   "outputs": [],
   "source": [
    "batch_size = 20\n",
    "epochs = 10\n",
    "history = model.fit(X, Y,\n",
    "          batch_size=batch_size,\n",
    "          epochs=epochs,\n",
    "          verbose=1,\n",
    "          validation_split = 0.4)"
   ]
  },
  {
   "cell_type": "code",
   "execution_count": null,
   "metadata": {},
   "outputs": [],
   "source": [
    "plt.figure(1)  \n",
    "  \n",
    "# summarize history for accuracy  \n",
    "   \n",
    "plt.subplot(211)  \n",
    "plt.plot(history.history['acc'])  \n",
    "plt.plot(history.history['val_acc'])  \n",
    "plt.title('model accuracy')  \n",
    "plt.ylabel('accuracy')  \n",
    "plt.xlabel('epoch')  \n",
    "plt.legend(['train', 'test'], loc='upper left')  \n",
    "   \n",
    "# summarize history for loss  \n",
    "   \n",
    "plt.subplot(212)  \n",
    "plt.plot(history.history['loss'])  \n",
    "plt.plot(history.history['val_loss'])  \n",
    "plt.title('model loss')  \n",
    "plt.ylabel('loss')  \n",
    "plt.xlabel('epoch')  \n",
    "plt.legend(['train', 'test'], loc='upper left') \n",
    "\n",
    "plt.tight_layout()\n",
    "plt.show()  "
   ]
  },
  {
   "cell_type": "markdown",
   "metadata": {},
   "source": [
    "It may take a while to train these large networks, so starting from the pre-trained network is a *huge* advantage in most cases. Don't let the 70% test accuracy fool you on the \"*from scratch*\" network just above: we haven't even begun to decrease in loss for the training data, so it's not an indication of future performance. Pre-trained networks (transfer learning) will likely become more and more common in future applications due to the large computational resources and careful tuning required for large-scale performance when training networks from scratch."
   ]
  },
  {
   "cell_type": "markdown",
   "metadata": {},
   "source": [
    "## Assignment\n",
    "\n",
    "1. Build a convolution neural network that solves the *cat identification* problem for the 100 image set explored above with *100% accuracy* on the training data.\n",
    "    * You should read the images in and *resize* them down to just 100 x 100 pixels for this problem.\n",
    "    * Your neural network should use a convolution neural network topology similar to the one used to solve the MNIST problem above.\n",
    "    * Feel free to change the kernel sizes and such to limit the size of the network for feasibility of training.\n",
    "    * You should *not* need a network with more than 10 million parameters.\n",
    "    * You should *not* use a validation set at all for this problem/assignment.\n",
    "2. Provide a plot of the learning history of the network from initial creation to 100% performance showing both *loss* and *accuracy* statistics.\n",
    "3. Create an Xception network and classify all 100 of the images from the *cat indentification* problem using the default  Xception categories.\n",
    "    * You should reload the image data as 299 x 299 pixel images for this problem.\n",
    "    * You should only print the top *one* class label for each image as decided by Xception.\n",
    "\n",
    "Compile your answers in a single IPython notebook file, zip it, and upload it to the course assignment submission system by the due date at the top of this assignment.\n",
    "\n",
    "Assignment Submission System: [LINK](https://4850.cs.mtsu.edu/)"
   ]
  },
  {
   "cell_type": "markdown",
   "metadata": {},
   "source": [
    "Copyright &copy; 2019 Joshua L. Phillips"
   ]
  },
  {
   "cell_type": "code",
   "execution_count": null,
   "metadata": {},
   "outputs": [],
   "source": []
  }
 ],
 "metadata": {
  "kernelspec": {
   "display_name": "Python 3",
   "language": "python",
   "name": "python3"
  },
  "language_info": {
   "codemirror_mode": {
    "name": "ipython",
    "version": 3
   },
   "file_extension": ".py",
   "mimetype": "text/x-python",
   "name": "python",
   "nbconvert_exporter": "python",
   "pygments_lexer": "ipython3",
   "version": "3.8.5"
  }
 },
 "nbformat": 4,
 "nbformat_minor": 4
}
