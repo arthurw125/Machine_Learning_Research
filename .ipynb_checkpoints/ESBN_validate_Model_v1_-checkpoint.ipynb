{
 "cells": [
  {
   "cell_type": "code",
   "execution_count": 1,
   "id": "written-mattress",
   "metadata": {},
   "outputs": [],
   "source": [
    "import torch\n",
    "from torch import nn\n",
    "from torch.utils.data import Dataset\n",
    "from torch.utils.data import DataLoader\n",
    "from torchvision import datasets\n",
    "from torchvision.transforms import ToTensor, Lambda\n",
    "import numpy as np\n",
    "import matplotlib.pyplot as plt\n",
    "import os\n",
    "import time\n",
    "from dist3 import create_task\n",
    "import skimage.transform as st\n",
    "#from esbn_pytorch import ESBN"
   ]
  },
  {
   "cell_type": "code",
   "execution_count": 2,
   "id": "36e8bfd5-9f55-4891-9eb6-b4bdbb342cff",
   "metadata": {},
   "outputs": [],
   "source": [
    "from util import log\n",
    "from modules import *"
   ]
  },
  {
   "cell_type": "code",
   "execution_count": 3,
   "id": "64341df8-307a-4b22-a0cb-ec9f08153381",
   "metadata": {},
   "outputs": [],
   "source": [
    "class Encoder_conv(nn.Module):\n",
    "\t#def __init__(self, args):\n",
    "\tdef __init__(self):\n",
    "\t\tsuper(Encoder_conv, self).__init__()\n",
    "\t\tlog.info('Building convolutional encoder...')\n",
    "\t\t# Convolutional layers\n",
    "\t\tlog.info('Conv layers...')\n",
    "\t\t\n",
    "\t\tself.conv1 = nn.Conv2d(1, 32, 4, stride=2, padding=1)\n",
    "\t\tself.conv2 = nn.Conv2d(32, 32, 4, stride=2, padding=1)\n",
    "\t\tself.conv3 = nn.Conv2d(32, 32, 4, stride=2, padding=1)\n",
    "\t\t'''\n",
    "\t\tself.conv1 = nn.Conv2d(1, 160, 4, stride=2, padding=1)\n",
    "\t\tself.conv2 = nn.Conv2d(160, 160, 4, stride=2, padding=1)\n",
    "\t\tself.conv3 = nn.Conv2d(160, 160, 4, stride=2, padding=1)\n",
    "\t\t'''   \n",
    "\t\t# Fully-connected layers\n",
    "\t\tlog.info('FC layers...')\n",
    "\t\tself.fc1 = nn.Linear(4*4*32, 256)\n",
    "\t\tself.fc2 = nn.Linear(256, 128)\n",
    "\t\t#self.fc1 = nn.Linear(64000, 256)\n",
    "\t\t#self.fc2 = nn.Linear(256, 128)\n",
    "\t\t# Nonlinearities\n",
    "\t\tself.relu = nn.ReLU()\n",
    "\t\t# Initialize parameters\n",
    "\t\tfor name, param in self.named_parameters():\n",
    "\t\t\t# Initialize all biases to 0\n",
    "\t\t\tif 'bias' in name:\n",
    "\t\t\t\tnn.init.constant_(param, 0.0)\n",
    "\t\t\t# Initialize all pre-ReLU weights using Kaiming normal distribution\n",
    "\t\t\telif 'weight' in name:\n",
    "\t\t\t\tnn.init.kaiming_normal_(param, nonlinearity='relu')\n",
    "\tdef forward(self, x):\n",
    "\t\t# Convolutional layers\n",
    "\t\tconv1_out = self.relu(self.conv1(x))\n",
    "\t\tconv2_out = self.relu(self.conv2(conv1_out))\n",
    "\t\tconv3_out = self.relu(self.conv3(conv2_out))\n",
    "\t\t# Flatten output of conv. net\n",
    "\t\tconv3_out_flat = torch.flatten(conv3_out, 1)\n",
    "\t\t# Fully-connected layers\n",
    "\t\t#print(\"conv3_out_flat.size() =\",conv3_out_flat.size())\n",
    "\t\t#time.sleep(120)\n",
    "\t\tfc1_out = self.relu(self.fc1(conv3_out_flat))\n",
    "\t\tfc2_out = self.relu(self.fc2(fc1_out))\n",
    "\t\t# Output\n",
    "\t\tz = fc2_out\n",
    "\t\treturn z"
   ]
  },
  {
   "cell_type": "code",
   "execution_count": 4,
   "id": "brutal-rebel",
   "metadata": {},
   "outputs": [],
   "source": [
    "class Model(nn.Module):\n",
    "\t#def __init__(self, task_gen, args):\n",
    "\tdef __init__(self):\n",
    "\t\tsuper(Model, self).__init__()\n",
    "\t\t# Encoder\n",
    "\t\tlog.info('Building encoder...')\n",
    "\t\t'''\n",
    "\t\tif args.encoder == 'conv':\n",
    "\t\t\tself.encoder = Encoder_conv(args)\n",
    "\t\telif args.encoder == 'mlp':\n",
    "\t\t\tself.encoder = Encoder_mlp(args)\n",
    "\t\telif args.encoder == 'rand':\n",
    "\t\t\tself.encoder = Encoder_rand(args)\n",
    "\t\t'''\n",
    "\t\tself.encoder = Encoder_conv()# removed \"args\" argument\n",
    "\t\t# LSTM and output layers\n",
    "\t\tlog.info('Building LSTM and output layers...')\n",
    "\t\tself.z_size = 128\n",
    "\t\tself.key_size = 256\n",
    "\t\tself.hidden_size = 512\n",
    "\t\tself.lstm = nn.LSTM(self.key_size + 1, self.hidden_size, batch_first=True)\n",
    "\t\tself.key_w_out = nn.Linear(self.hidden_size, self.key_size)\n",
    "\t\tself.g_out = nn.Linear(self.hidden_size, 1)\n",
    "\t\tself.confidence_gain = nn.Parameter(torch.ones(1))\n",
    "\t\tself.confidence_bias = nn.Parameter(torch.zeros(1))\n",
    "\t\t#self.y_out = nn.Linear(self.hidden_size, task_gen.y_dim)\n",
    "\t\ty_out = 8 # number of outputs/ ESBN = 4\n",
    "\t\tself.y_out = nn.Linear(self.hidden_size, y_out)\n",
    "\t\t# Context normalization\n",
    "\t\t#if args.norm_type == 'contextnorm' or args.norm_type == 'tasksegmented_contextnorm':\n",
    "\t\tif True: # assumes \"contextnorm or tasksegmented_contextnorm\"\n",
    "\t\t\tself.contextnorm = True\n",
    "\t\t\tself.gamma = nn.Parameter(torch.ones(self.z_size))\n",
    "\t\t\tself.beta = nn.Parameter(torch.zeros(self.z_size))\n",
    "\t\telse:\n",
    "\t\t\tself.contextnorm = False\n",
    "\t\t'''\n",
    "\t\tif args.norm_type == 'tasksegmented_contextnorm':\n",
    "\t\t\tself.task_seg = task_gen.task_seg\n",
    "\t\telse:\n",
    "\t\t\tself.task_seg = [np.arange(task_gen.seq_len)]\n",
    "\t\t'''\n",
    "\t\tseq_len = 16 # number of images per Raven problem / ESBN = 9        \n",
    "\t\tself.task_seg = [np.arange(seq_len)]\n",
    "\t\t# Nonlinearities\n",
    "\t\tself.relu = nn.ReLU()\n",
    "\t\tself.sigmoid = nn.Sigmoid()\n",
    "\t\tself.softmax = nn.Softmax(dim=1)\n",
    "\t\t# Initialize parameters\n",
    "\t\tfor name, param in self.named_parameters():\n",
    "\t\t\t# Encoder parameters have already been initialized\n",
    "\t\t\tif not ('encoder' in name) and not ('confidence' in name):\n",
    "\t\t\t\t# Initialize all biases to 0\n",
    "\t\t\t\tif 'bias' in name:\n",
    "\t\t\t\t\tnn.init.constant_(param, 0.0)\n",
    "\t\t\t\telse:\n",
    "\t\t\t\t\tif 'lstm' in name:\n",
    "\t\t\t\t\t\t# Initialize gate weights (followed by sigmoid) using Xavier normal distribution\n",
    "\t\t\t\t\t\tnn.init.xavier_normal_(param[:self.hidden_size*2,:])\n",
    "\t\t\t\t\t\tnn.init.xavier_normal_(param[self.hidden_size*3:,:])\n",
    "\t\t\t\t\t\t# Initialize input->hidden and hidden->hidden weights (followed by tanh) using Xavier normal distribution with gain = \n",
    "\t\t\t\t\t\tnn.init.xavier_normal_(param[self.hidden_size*2:self.hidden_size*3,:], gain=5.0/3.0)\n",
    "\t\t\t\t\telif 'key_w' in name:\n",
    "\t\t\t\t\t\t# Initialize weights for key output layer (followed by ReLU) using Kaiming normal distribution\n",
    "\t\t\t\t\t\tnn.init.kaiming_normal_(param, nonlinearity='relu')\n",
    "\t\t\t\t\telif 'g_out' in name:\n",
    "\t\t\t\t\t\t# Initialize weights for gate output layer (followed by sigmoid) using Xavier normal distribution\n",
    "\t\t\t\t\t\tnn.init.xavier_normal_(param)\n",
    "\t\t\t\t\telif 'y_out' in name:\n",
    "\t\t\t\t\t\t# Initialize weights for multiple-choice output layer (followed by softmax) using Xavier normal distribution\n",
    "\t\t\t\t\t\tnn.init.xavier_normal_(param)\n",
    "\tdef forward(self, x_seq, device):\n",
    "\t\t# Encode all images in sequence\n",
    "\t\tz_seq = []\n",
    "\t\tfor t in range(x_seq.shape[1]):\n",
    "\t\t\tx_t = x_seq[:,t,:,:].unsqueeze(1)\n",
    "\t\t\tz_t = self.encoder(x_t)\n",
    "\t\t\tz_seq.append(z_t)\n",
    "\t\tz_seq = torch.stack(z_seq, dim=1)\n",
    "\t\tif self.contextnorm:\n",
    "\t\t\tz_seq_all_seg = []\n",
    "\t\t\tfor seg in range(len(self.task_seg)):\n",
    "\t\t\t\tz_seq_all_seg.append(self.apply_context_norm(z_seq[:,self.task_seg[seg],:]))\n",
    "\t\t\tz_seq = torch.cat(z_seq_all_seg, dim=1)\n",
    "\t\t# Initialize hidden state\n",
    "\t\thidden = torch.zeros(1, x_seq.shape[0], self.hidden_size).to(device)\n",
    "\t\tcell_state = torch.zeros(1, x_seq.shape[0], self.hidden_size).to(device)\n",
    "\t\t# Initialize retrieved key vector\n",
    "\t\tkey_r = torch.zeros(x_seq.shape[0], 1, self.key_size + 1).to(device)\n",
    "\t\t# Memory model (extra time step to process key retrieved on final time step)\n",
    "\t\tfor t in range(x_seq.shape[1] + 1):\n",
    "\t\t\t# Image embedding\n",
    "\t\t\tif t == x_seq.shape[1]:\n",
    "\t\t\t\tz_t = torch.zeros(x_seq.shape[0], 1, self.z_size).to(device)\n",
    "\t\t\telse:\n",
    "\t\t\t\tz_t = z_seq[:,t,:].unsqueeze(1)\n",
    "\t\t\t# Controller\n",
    "\t\t\t# LSTM\n",
    "\t\t\tlstm_out, (hidden, cell_state) = self.lstm(key_r, (hidden, cell_state))\n",
    "\t\t\t# Key output layers\n",
    "\t\t\tkey_w = self.relu(self.key_w_out(lstm_out))\n",
    "\t\t\t# Gates\n",
    "\t\t\tg = self.sigmoid(self.g_out(lstm_out))\n",
    "\t\t\t# Task output layer\n",
    "\t\t\ty_pred_linear = self.y_out(lstm_out).squeeze()\n",
    "\t\t\ty_pred = y_pred_linear.argmax(1)\n",
    "\t\t\t# Read from memory\n",
    "\t\t\tif t == 0:\n",
    "\t\t\t\tkey_r = torch.zeros(x_seq.shape[0], 1, self.key_size + 1).to(device)\n",
    "\t\t\telse:\n",
    "\t\t\t\t# Read key\n",
    "\t\t\t\tw_k = self.softmax((z_t * M_v).sum(dim=2))\n",
    "\t\t\t\tc_k = self.sigmoid(((z_t * M_v).sum(dim=2) * self.confidence_gain) + self.confidence_bias)\n",
    "\t\t\t\tkey_r = g * (torch.cat([M_k, c_k.unsqueeze(2)], dim=2) * w_k.unsqueeze(2)).sum(1).unsqueeze(1)\n",
    "\t\t\t# Write to memory\n",
    "\t\t\tif t == 0:\n",
    "\t\t\t\tM_k = key_w\n",
    "\t\t\t\tM_v = z_t\n",
    "\t\t\telse:\n",
    "\t\t\t\tM_k = torch.cat([M_k, key_w], dim=1)\n",
    "\t\t\t\tM_v = torch.cat([M_v, z_t], dim=1)\n",
    "\t\treturn y_pred_linear, y_pred\n",
    "\tdef apply_context_norm(self, z_seq):\n",
    "\t\teps = 1e-8\n",
    "\t\tz_mu = z_seq.mean(1)\n",
    "\t\tz_sigma = (z_seq.var(1) + eps).sqrt()\n",
    "\t\tz_seq = (z_seq - z_mu.unsqueeze(1)) / z_sigma.unsqueeze(1)\n",
    "\t\tz_seq = (z_seq * self.gamma) + self.beta\n",
    "\t\treturn z_seq"
   ]
  },
  {
   "cell_type": "code",
   "execution_count": 5,
   "id": "piano-inspection",
   "metadata": {},
   "outputs": [],
   "source": [
    "def grab_npz_img(img_path):\n",
    "    data = np.load(img_path)\n",
    "    img = data['image']\n",
    "    target = data['target']\n",
    "    x = img[:,:,:]\n",
    "    x = st.resize(x, (16, 32, 32))\n",
    "    #x = np.expand_dims(x, axis=0)\n",
    "    #x = x.reshape((x.shape[0],x.shape[1],x.shape[2],x.shape[3],1))\n",
    "    return x"
   ]
  },
  {
   "cell_type": "code",
   "execution_count": 6,
   "id": "standing-arthur",
   "metadata": {},
   "outputs": [],
   "source": [
    "def grab_npz_target(target_path):\n",
    "    data = np.load(target_path)\n",
    "    target = data['target']\n",
    "    y = int(target)\n",
    "    return y"
   ]
  },
  {
   "cell_type": "code",
   "execution_count": 7,
   "id": "motivated-dream",
   "metadata": {},
   "outputs": [],
   "source": [
    "def create_dataset(folder,num_imgs,config):\n",
    "    X = []\n",
    "    #X = np.array(X)\n",
    "    Y =[]\n",
    "    #for i in range(num_imgs):\n",
    "    name = ''\n",
    "    if config=='train':\n",
    "        name = 'train'\n",
    "    elif config=='validate':\n",
    "        name = 'val'\n",
    "    else:\n",
    "        name = 'test'\n",
    "        \n",
    "    count = 0\n",
    "    i = 0\n",
    "    while count < num_imgs:\n",
    "        try:\n",
    "            x = grab_npz_img('/home/asw3x/RAVEN-10000/'+folder+'/RAVEN_%d_%s.npz'%(i,name))\n",
    "            y = grab_npz_target('/home/asw3x/RAVEN-10000/'+folder+'/RAVEN_%d_%s.npz'%(i,name))\n",
    "            i += 1\n",
    "        except:\n",
    "            i += 1\n",
    "            continue\n",
    "        X.append(x)\n",
    "        #X = np.concatenate(x)\n",
    "        Y.append(y)\n",
    "        count += 1\n",
    "    X = np.array(X)\n",
    "    X = np.squeeze(X)\n",
    "    #X = np.expand_dims(X, axis=4)\n",
    "    #X = X.reshape((X.shape[0],X.shape[2],X.shape[3],X.shape[1]))\n",
    "    #X = np.moveaxis(X, 1, -1)\n",
    "    return X,np.array(Y)"
   ]
  },
  {
   "cell_type": "code",
   "execution_count": 25,
   "id": "stainless-impact",
   "metadata": {},
   "outputs": [],
   "source": [
    "def create_task(size=1000, task=\"center_single\"):\n",
    "    folder = task\n",
    "    train_size = size\n",
    "    test_size = train_size*0.4\n",
    "    \n",
    "    X_train, Y_train = create_dataset(folder,train_size,\"train\")\n",
    "    X_test, Y_test = create_dataset(folder,test_size,\"test\")\n",
    "    \n",
    "    # Create training and test sets\n",
    "    train_set = {'img_seq': X_train, 'y': Y_train}\n",
    "    test_set = {'img_seq': X_test, 'y': Y_test}\n",
    "    return train_set, test_set"
   ]
  },
  {
   "cell_type": "code",
   "execution_count": 39,
   "id": "surrounded-cooperation",
   "metadata": {},
   "outputs": [],
   "source": [
    "training_set,test_set = create_task(size=5000)"
   ]
  },
  {
   "cell_type": "code",
   "execution_count": 40,
   "id": "entertaining-acceptance",
   "metadata": {},
   "outputs": [
    {
     "data": {
      "text/plain": [
       "(5000, 16, 32, 32)"
      ]
     },
     "execution_count": 40,
     "metadata": {},
     "output_type": "execute_result"
    }
   ],
   "source": [
    "training_set['img_seq'].shape"
   ]
  },
  {
   "cell_type": "code",
   "execution_count": 41,
   "id": "photographic-actress",
   "metadata": {},
   "outputs": [
    {
     "data": {
      "text/plain": [
       "(5000,)"
      ]
     },
     "execution_count": 41,
     "metadata": {},
     "output_type": "execute_result"
    }
   ],
   "source": [
    "training_set['y'].shape"
   ]
  },
  {
   "cell_type": "code",
   "execution_count": null,
   "id": "5ac478d0-80fd-48de-bf2c-ed81d333c813",
   "metadata": {},
   "outputs": [],
   "source": []
  },
  {
   "cell_type": "code",
   "execution_count": 42,
   "id": "structural-response",
   "metadata": {},
   "outputs": [],
   "source": [
    "class CustomImageDataset(Dataset):\n",
    "    def __init__(self, dataset, transform=None, target_transform=None):\n",
    "        '''\n",
    "        self.img_labels = pd.read_csv(annotations_file)\n",
    "        self.img_dir = img_dir\n",
    "        self.transform = transform\n",
    "        self.target_transform = target_transform\n",
    "        '''\n",
    "        self.img_seq = dataset['img_seq']\n",
    "        self.y = dataset['y']\n",
    "\n",
    "    def __len__(self):\n",
    "        return len(self.y)\n",
    "\n",
    "    def __getitem__(self, idx):\n",
    "        '''\n",
    "        img_path = os.path.join(self.img_dir, self.img_labels.iloc[idx, 0])\n",
    "        image = read_image(img_path)\n",
    "        label = self.img_labels.iloc[idx, 1]\n",
    "        if self.transform:\n",
    "            image = self.transform(image)\n",
    "        if self.target_transform:\n",
    "            label = self.target_transform(label)\n",
    "        sample = {\"image\": image, \"label\": label}\n",
    "        '''\n",
    "        img_seq = self.img_seq[idx,:,:,:]\n",
    "        y = self.y[idx]\n",
    "        \n",
    "        return img_seq, y"
   ]
  },
  {
   "cell_type": "code",
   "execution_count": 43,
   "id": "moving-purpose",
   "metadata": {},
   "outputs": [],
   "source": [
    "training_set = CustomImageDataset(training_set)\n",
    "train_dataloader = DataLoader(training_set, batch_size=32, shuffle=True)\n",
    "test_set = CustomImageDataset(test_set)\n",
    "test_dataloader = DataLoader(test_set, batch_size=32, shuffle=True)"
   ]
  },
  {
   "cell_type": "code",
   "execution_count": 44,
   "id": "obvious-robinson",
   "metadata": {},
   "outputs": [
    {
     "name": "stdout",
     "output_type": "stream",
     "text": [
      "Feature batch shape: torch.Size([32, 16, 32, 32])\n",
      "Labels batch shape: torch.Size([32])\n"
     ]
    },
    {
     "data": {
      "image/png": "[encoded data removed]",
      "text/plain": [
       "<Figure size 432x288 with 1 Axes>"
      ]
     },
     "metadata": {
      "needs_background": "light"
     },
     "output_type": "display_data"
    },
    {
     "name": "stdout",
     "output_type": "stream",
     "text": [
      "Label: 6\n"
     ]
    }
   ],
   "source": [
    "train_features, train_labels = next(iter(train_dataloader))\n",
    "print(f\"Feature batch shape: {train_features.size()}\")\n",
    "print(f\"Labels batch shape: {train_labels.size()}\")\n",
    "img = train_features[0,0,:,:].squeeze()\n",
    "label = train_labels[0]\n",
    "plt.imshow(img, cmap=\"gray\")\n",
    "plt.show()\n",
    "print(f\"Label: {label}\")"
   ]
  },
  {
   "cell_type": "code",
   "execution_count": 45,
   "id": "excessive-loading",
   "metadata": {},
   "outputs": [
    {
     "name": "stdout",
     "output_type": "stream",
     "text": [
      "Feature batch shape: torch.Size([32, 16, 32, 32])\n",
      "Labels batch shape: torch.Size([32])\n"
     ]
    },
    {
     "data": {
      "image/png": "[encoded data removed]",
      "text/plain": [
       "<Figure size 432x288 with 1 Axes>"
      ]
     },
     "metadata": {
      "needs_background": "light"
     },
     "output_type": "display_data"
    },
    {
     "name": "stdout",
     "output_type": "stream",
     "text": [
      "Label: 5\n"
     ]
    }
   ],
   "source": [
    "train_features, train_labels = next(iter(train_dataloader))\n",
    "print(f\"Feature batch shape: {train_features.size()}\")\n",
    "print(f\"Labels batch shape: {train_labels.size()}\")\n",
    "img = train_features[0,0,:,:].squeeze()\n",
    "label = train_labels[0]\n",
    "plt.imshow(img, cmap=\"gray\")\n",
    "plt.show()\n",
    "print(f\"Label: {label}\")"
   ]
  },
  {
   "cell_type": "code",
   "execution_count": 46,
   "id": "romantic-feelings",
   "metadata": {},
   "outputs": [
    {
     "data": {
      "text/plain": [
       "'\\ndef train_loop(train_dataloader, model, loss_fn, optimizer):\\n    size = len(dataloader.dataset)\\n    for batch, (X, y) in enumerate(dataloader):\\n        # Compute prediction and loss\\n        pred = model(X)\\n        loss = loss_fn(pred, y)\\n\\n        # Backpropagation\\n        optimizer.zero_grad()\\n        loss.backward()\\n        optimizer.step()\\n\\n        if batch % 128 == 0:\\n            loss, current = loss.item(), batch * len(X)\\n            print(f\"loss: {loss:>7f}  [{current:>5d}/{size:>5d}]\")\\n'"
      ]
     },
     "execution_count": 46,
     "metadata": {},
     "output_type": "execute_result"
    }
   ],
   "source": [
    "'''\n",
    "def train_loop(train_dataloader, model, loss_fn, optimizer):\n",
    "    size = len(dataloader.dataset)\n",
    "    for batch, (X, y) in enumerate(dataloader):\n",
    "        # Compute prediction and loss\n",
    "        pred = model(X)\n",
    "        loss = loss_fn(pred, y)\n",
    "\n",
    "        # Backpropagation\n",
    "        optimizer.zero_grad()\n",
    "        loss.backward()\n",
    "        optimizer.step()\n",
    "\n",
    "        if batch % 128 == 0:\n",
    "            loss, current = loss.item(), batch * len(X)\n",
    "            print(f\"loss: {loss:>7f}  [{current:>5d}/{size:>5d}]\")\n",
    "'''"
   ]
  },
  {
   "cell_type": "code",
   "execution_count": 47,
   "id": "9c779a5f-ebda-4176-bfe5-8ec303bd230a",
   "metadata": {},
   "outputs": [],
   "source": [
    "def train_loop(device, epoch, train_loader, model, optimizer):\n",
    "\tmodel.train()\n",
    "\t# Iterate over batches\n",
    "\tfor batch_idx, (X, y) in enumerate(train_loader):\n",
    "\t\t# Batch start time\n",
    "\t\tstart_time = time.time()\n",
    "\t\t# Use sequence indices to slice corresponding images\n",
    "\t\t#x_seq = all_imgs[seq_ind,:,:]\n",
    "\t\tx_seq = X.float()       \n",
    "\t\t# Load data to device\n",
    "\t\tx_seq = x_seq.to(device)\n",
    "\t\t#y = torch.nn.functional.one_hot(y,num_classes=8)\n",
    "\t\t#print(\"y =\",y)\n",
    "\t\ty = y.to(device)\n",
    "\t\t# Zero out gradients for optimizer \n",
    "\t\toptimizer.zero_grad()\n",
    "\t\t# Run model \n",
    "\t\t'''\n",
    "\t\tif 'MNM' in args.model_name:\n",
    "\t\t\ty_pred_linear, y_pred, const_loss = model(x_seq, device)\n",
    "\t\telse:\n",
    "\t\t\ty_pred_linear, y_pred = model(x_seq, device)\n",
    "\t\t'''\n",
    "\t\ty_pred_linear, y_pred = model(x_seq, device)\n",
    "\t\t# Loss\n",
    "\t\tloss_fn = nn.CrossEntropyLoss()\n",
    "\t\tloss = loss_fn(y_pred_linear, y)\n",
    "\t\t'''\n",
    "\t\tif 'MNM' in args.model_name:\n",
    "\t\t\tloss += const_loss\n",
    "\t\t'''\n",
    "\t\t# Update model\n",
    "\t\tloss.backward()\n",
    "\t\toptimizer.step()\n",
    "\t\t# Batch duration\n",
    "\t\tend_time = time.time()\n",
    "\t\tbatch_dur = end_time - start_time\n",
    "\t\t# Report prgoress\n",
    "\t\t#if batch_idx % args.log_interval == 0:\n",
    "\t\tif batch_idx % 10 == 0:\n",
    "\t\t\t# Accuracy\n",
    "\t\t\tacc = torch.eq(y_pred, y).float().mean().item() * 100.0\n",
    "\t\t\t# Report \t\n",
    "\t\t\tlog.info('[Epoch: ' + str(epoch) + '] ' + \\\n",
    "\t\t\t\t\t '[Batch: ' + str(batch_idx) + ' of ' + str(len(train_loader)) + '] ' + \\\n",
    "\t\t\t\t\t '[Loss = ' + '{:.4f}'.format(loss.item()) + '] ' + \\\n",
    "\t\t\t\t\t '[Accuracy = ' + '{:.2f}'.format(acc) + '] ' + \\\n",
    "\t\t\t\t\t '[' + '{:.3f}'.format(batch_dur) + ' sec/batch]')\n",
    "\t\t\t# Save progress to file\n",
    "\t\t\t'''\n",
    "\t\t\ttrain_prog_f.write(str(batch_idx) + ' ' +\\\n",
    "\t\t\t\t\t\t\t   '{:.4f}'.format(loss.item()) + ' ' + \\\n",
    "\t\t\t\t\t\t\t   '{:.2f}'.format(acc) + '\\n')\n",
    "\t\t\t'''"
   ]
  },
  {
   "cell_type": "code",
   "execution_count": 48,
   "id": "4f6fc11e-c887-4e72-aa6f-aaf84b96a1c5",
   "metadata": {},
   "outputs": [],
   "source": [
    "def test_loop_v2(device, epoch, test_loader, model):\n",
    "\tmodel.eval()\n",
    "\t# Iterate over batches\n",
    "\tfor batch_idx, (X, y) in enumerate(test_loader):\n",
    "\t\t# Batch start time\n",
    "\t\tstart_time = time.time()\n",
    "\t\t# Use sequence indices to slice corresponding images\n",
    "\t\t#x_seq = all_imgs[seq_ind,:,:]\n",
    "\t\tx_seq = X.float()       \n",
    "\t\t# Load data to device\n",
    "\t\tx_seq = x_seq.to(device)\n",
    "\t\ty = y.to(device)\n",
    "\t\t# Zero out gradients for optimizer \n",
    "\t\toptimizer.zero_grad()\n",
    "\t\t# Run model \n",
    "\t\t'''\n",
    "\t\tif 'MNM' in args.model_name:\n",
    "\t\t\ty_pred_linear, y_pred, const_loss = model(x_seq, device)\n",
    "\t\telse:\n",
    "\t\t\ty_pred_linear, y_pred = model(x_seq, device)\n",
    "\t\t'''\n",
    "\t\ty_pred_linear, y_pred = model(x_seq, device)\n",
    "\t\t# Loss\n",
    "\t\tloss_fn = nn.CrossEntropyLoss()\n",
    "\t\tloss = loss_fn(y_pred_linear, y)\n",
    "\t\t'''\n",
    "\t\tif 'MNM' in args.model_name:\n",
    "\t\t\tloss += const_loss\n",
    "\t\t'''\n",
    "\t\t# Update model\n",
    "\t\tloss.backward()\n",
    "\t\toptimizer.step()\n",
    "\t\t# Batch duration\n",
    "\t\tend_time = time.time()\n",
    "\t\tbatch_dur = end_time - start_time\n",
    "\t\t# Report prgoress\n",
    "\t\t#if batch_idx % args.log_interval == 0:\n",
    "\t\tif batch_idx % 10 == 0:\n",
    "\t\t\t# Accuracy\n",
    "\t\t\tacc = torch.eq(y_pred, y).float().mean().item() * 100.0\n",
    "\t\t\t# Report \t\n",
    "\t\t\tlog.info('[Epoch: ' + str(epoch) + '] ' + \\\n",
    "\t\t\t\t\t '[Batch: ' + str(batch_idx) + ' of ' + str(len(train_loader)) + '] ' + \\\n",
    "\t\t\t\t\t '[Loss = ' + '{:.4f}'.format(loss.item()) + '] ' + \\\n",
    "\t\t\t\t\t '[Accuracy = ' + '{:.2f}'.format(acc) + '] ' + \\\n",
    "\t\t\t\t\t '[' + '{:.3f}'.format(batch_dur) + ' sec/batch]')\n",
    "\t\t\t# Save progress to file\n",
    "\t\t\t'''\n",
    "\t\t\ttrain_prog_f.write(str(batch_idx) + ' ' +\\\n",
    "\t\t\t\t\t\t\t   '{:.4f}'.format(loss.item()) + ' ' + \\\n",
    "\t\t\t\t\t\t\t   '{:.2f}'.format(acc) + '\\n')\n",
    "\t\t\t'''"
   ]
  },
  {
   "cell_type": "code",
   "execution_count": 49,
   "id": "b8f79142-cf26-4f4c-a99e-ad2fff8817fa",
   "metadata": {},
   "outputs": [],
   "source": [
    "def test_loop(device, epoch, test_loader, model):\n",
    "\tlog.info('Evaluating on test set...')\n",
    "\t# Set to eval mode\n",
    "\tmodel.eval()\n",
    "\t# Iterate over batches\n",
    "\tall_acc = []\n",
    "\tall_loss = []\n",
    "\tfor batch_idx, (X, y) in enumerate(test_loader):\n",
    "\t\t# Use sequence indices to slice corresponding images\n",
    "\t\tx_seq = X.float()\n",
    "\t\t# Load data to device\n",
    "\t\tx_seq = x_seq.to(device)\n",
    "\t\ty = y.to(device)\n",
    "\t\t# Run model \n",
    "\t\t'''\n",
    "\t\tif 'MNM' in args.model_name:\n",
    "\t\t\ty_pred_linear, y_pred, const_loss = model(x_seq, device)\n",
    "\t\telse:\n",
    "\t\t\ty_pred_linear, y_pred = model(x_seq, device)\n",
    "\t\t'''\n",
    "\t\ty_pred_linear, y_pred = model(x_seq, device)\n",
    "\t\t# Loss\n",
    "\t\tloss_fn = nn.CrossEntropyLoss()\n",
    "\t\tloss = loss_fn(y_pred_linear, y)\n",
    "\t\t'''\n",
    "\t\tif 'MNM' in args.model_name:\n",
    "\t\t\tloss += const_loss\n",
    "\t\t'''\n",
    "\t\tall_loss.append(loss.item())\n",
    "\t\t# Accuracy\n",
    "\t\tacc = torch.eq(y_pred, y).float().mean().item() * 100.0\n",
    "\t\tall_acc.append(acc)\n",
    "\t\t# Report progress\n",
    "\t\tlog.info('[Batch: ' + str(batch_idx) + ' of ' + str(len(test_loader)) + ']')\n",
    "\t# Report overall test performance\n",
    "\tavg_loss = np.mean(all_loss)\n",
    "\tavg_acc = np.mean(all_acc)\n",
    "\tlog.info('[Summary] ' + \\\n",
    "\t\t\t '[Loss = ' + '{:.4f}'.format(avg_loss) + '] ' + \\\n",
    "\t\t\t '[Accuracy = ' + '{:.2f}'.format(avg_acc) + ']')"
   ]
  },
  {
   "cell_type": "code",
   "execution_count": 50,
   "id": "exempt-input",
   "metadata": {},
   "outputs": [
    {
     "name": "stderr",
     "output_type": "stream",
     "text": [
      "\u001b[37m\u001b[01m[2021-05-18 18:39:23,661] Building encoder...\u001b[0m\n",
      "\u001b[37m\u001b[01m[2021-05-18 18:39:23,661] Building convolutional encoder...\u001b[0m\n",
      "\u001b[37m\u001b[01m[2021-05-18 18:39:23,662] Conv layers...\u001b[0m\n",
      "\u001b[37m\u001b[01m[2021-05-18 18:39:23,663] FC layers...\u001b[0m\n",
      "\u001b[37m\u001b[01m[2021-05-18 18:39:23,665] Building LSTM and output layers...\u001b[0m\n",
      "\u001b[37m\u001b[01m[2021-05-18 18:39:23,750] [Epoch: 1] [Batch: 0 of 157] [Loss = 2.0784] [Accuracy = 21.88] [0.036 sec/batch]\u001b[0m\n"
     ]
    },
    {
     "name": "stdout",
     "output_type": "stream",
     "text": [
      "Epoch 1\n",
      "-------------------------------\n"
     ]
    },
    {
     "name": "stderr",
     "output_type": "stream",
     "text": [
      "\u001b[37m\u001b[01m[2021-05-18 18:39:24,165] [Epoch: 1] [Batch: 10 of 157] [Loss = 2.0773] [Accuracy = 6.25] [0.039 sec/batch]\u001b[0m\n",
      "\u001b[37m\u001b[01m[2021-05-18 18:39:24,578] [Epoch: 1] [Batch: 20 of 157] [Loss = 2.0852] [Accuracy = 6.25] [0.040 sec/batch]\u001b[0m\n",
      "\u001b[37m\u001b[01m[2021-05-18 18:39:24,994] [Epoch: 1] [Batch: 30 of 157] [Loss = 2.0838] [Accuracy = 6.25] [0.040 sec/batch]\u001b[0m\n",
      "\u001b[37m\u001b[01m[2021-05-18 18:39:25,404] [Epoch: 1] [Batch: 40 of 157] [Loss = 2.0802] [Accuracy = 28.12] [0.039 sec/batch]\u001b[0m\n",
      "\u001b[37m\u001b[01m[2021-05-18 18:39:25,817] [Epoch: 1] [Batch: 50 of 157] [Loss = 2.0829] [Accuracy = 12.50] [0.042 sec/batch]\u001b[0m\n",
      "\u001b[37m\u001b[01m[2021-05-18 18:39:26,230] [Epoch: 1] [Batch: 60 of 157] [Loss = 2.0724] [Accuracy = 18.75] [0.039 sec/batch]\u001b[0m\n",
      "\u001b[37m\u001b[01m[2021-05-18 18:39:26,648] [Epoch: 1] [Batch: 70 of 157] [Loss = 2.0839] [Accuracy = 15.62] [0.039 sec/batch]\u001b[0m\n",
      "\u001b[37m\u001b[01m[2021-05-18 18:39:27,054] [Epoch: 1] [Batch: 80 of 157] [Loss = 2.0821] [Accuracy = 9.38] [0.041 sec/batch]\u001b[0m\n",
      "\u001b[37m\u001b[01m[2021-05-18 18:39:27,468] [Epoch: 1] [Batch: 90 of 157] [Loss = 2.0843] [Accuracy = 3.12] [0.040 sec/batch]\u001b[0m\n",
      "\u001b[37m\u001b[01m[2021-05-18 18:39:27,882] [Epoch: 1] [Batch: 100 of 157] [Loss = 2.0837] [Accuracy = 25.00] [0.043 sec/batch]\u001b[0m\n",
      "\u001b[37m\u001b[01m[2021-05-18 18:39:28,285] [Epoch: 1] [Batch: 110 of 157] [Loss = 2.0773] [Accuracy = 12.50] [0.039 sec/batch]\u001b[0m\n",
      "\u001b[37m\u001b[01m[2021-05-18 18:39:28,694] [Epoch: 1] [Batch: 120 of 157] [Loss = 2.0748] [Accuracy = 12.50] [0.040 sec/batch]\u001b[0m\n",
      "\u001b[37m\u001b[01m[2021-05-18 18:39:29,111] [Epoch: 1] [Batch: 130 of 157] [Loss = 2.0851] [Accuracy = 9.38] [0.039 sec/batch]\u001b[0m\n",
      "\u001b[37m\u001b[01m[2021-05-18 18:39:29,542] [Epoch: 1] [Batch: 140 of 157] [Loss = 2.0812] [Accuracy = 18.75] [0.041 sec/batch]\u001b[0m\n",
      "\u001b[37m\u001b[01m[2021-05-18 18:39:29,950] [Epoch: 1] [Batch: 150 of 157] [Loss = 2.0859] [Accuracy = 9.38] [0.042 sec/batch]\u001b[0m\n",
      "\u001b[37m\u001b[01m[2021-05-18 18:39:30,242] [Epoch: 2] [Batch: 0 of 157] [Loss = 2.0731] [Accuracy = 18.75] [0.039 sec/batch]\u001b[0m\n"
     ]
    },
    {
     "name": "stdout",
     "output_type": "stream",
     "text": [
      "Epoch 2\n",
      "-------------------------------\n"
     ]
    },
    {
     "name": "stderr",
     "output_type": "stream",
     "text": [
      "\u001b[37m\u001b[01m[2021-05-18 18:39:30,650] [Epoch: 2] [Batch: 10 of 157] [Loss = 2.0793] [Accuracy = 15.62] [0.041 sec/batch]\u001b[0m\n",
      "\u001b[37m\u001b[01m[2021-05-18 18:39:31,056] [Epoch: 2] [Batch: 20 of 157] [Loss = 2.0826] [Accuracy = 15.62] [0.041 sec/batch]\u001b[0m\n",
      "\u001b[37m\u001b[01m[2021-05-18 18:39:31,480] [Epoch: 2] [Batch: 30 of 157] [Loss = 2.0866] [Accuracy = 12.50] [0.043 sec/batch]\u001b[0m\n",
      "\u001b[37m\u001b[01m[2021-05-18 18:39:31,893] [Epoch: 2] [Batch: 40 of 157] [Loss = 2.0800] [Accuracy = 18.75] [0.042 sec/batch]\u001b[0m\n",
      "\u001b[37m\u001b[01m[2021-05-18 18:39:32,314] [Epoch: 2] [Batch: 50 of 157] [Loss = 2.0751] [Accuracy = 15.62] [0.041 sec/batch]\u001b[0m\n",
      "\u001b[37m\u001b[01m[2021-05-18 18:39:32,732] [Epoch: 2] [Batch: 60 of 157] [Loss = 2.0849] [Accuracy = 9.38] [0.043 sec/batch]\u001b[0m\n",
      "\u001b[37m\u001b[01m[2021-05-18 18:39:33,146] [Epoch: 2] [Batch: 70 of 157] [Loss = 2.0791] [Accuracy = 12.50] [0.042 sec/batch]\u001b[0m\n",
      "\u001b[37m\u001b[01m[2021-05-18 18:39:33,553] [Epoch: 2] [Batch: 80 of 157] [Loss = 2.0773] [Accuracy = 15.62] [0.036 sec/batch]\u001b[0m\n",
      "\u001b[37m\u001b[01m[2021-05-18 18:39:33,949] [Epoch: 2] [Batch: 90 of 157] [Loss = 2.0913] [Accuracy = 6.25] [0.041 sec/batch]\u001b[0m\n",
      "\u001b[37m\u001b[01m[2021-05-18 18:39:34,366] [Epoch: 2] [Batch: 100 of 157] [Loss = 2.0776] [Accuracy = 15.62] [0.038 sec/batch]\u001b[0m\n",
      "\u001b[37m\u001b[01m[2021-05-18 18:39:34,768] [Epoch: 2] [Batch: 110 of 157] [Loss = 2.0837] [Accuracy = 15.62] [0.042 sec/batch]\u001b[0m\n",
      "\u001b[37m\u001b[01m[2021-05-18 18:39:35,168] [Epoch: 2] [Batch: 120 of 157] [Loss = 2.0857] [Accuracy = 9.38] [0.040 sec/batch]\u001b[0m\n",
      "\u001b[37m\u001b[01m[2021-05-18 18:39:35,591] [Epoch: 2] [Batch: 130 of 157] [Loss = 2.0800] [Accuracy = 12.50] [0.043 sec/batch]\u001b[0m\n",
      "\u001b[37m\u001b[01m[2021-05-18 18:39:36,018] [Epoch: 2] [Batch: 140 of 157] [Loss = 2.0830] [Accuracy = 18.75] [0.042 sec/batch]\u001b[0m\n",
      "\u001b[37m\u001b[01m[2021-05-18 18:39:36,456] [Epoch: 2] [Batch: 150 of 157] [Loss = 2.0850] [Accuracy = 12.50] [0.040 sec/batch]\u001b[0m\n",
      "\u001b[37m\u001b[01m[2021-05-18 18:39:36,755] [Epoch: 3] [Batch: 0 of 157] [Loss = 2.0719] [Accuracy = 18.75] [0.041 sec/batch]\u001b[0m\n"
     ]
    },
    {
     "name": "stdout",
     "output_type": "stream",
     "text": [
      "Epoch 3\n",
      "-------------------------------\n"
     ]
    },
    {
     "name": "stderr",
     "output_type": "stream",
     "text": [
      "\u001b[37m\u001b[01m[2021-05-18 18:39:37,186] [Epoch: 3] [Batch: 10 of 157] [Loss = 2.0729] [Accuracy = 21.88] [0.045 sec/batch]\u001b[0m\n",
      "\u001b[37m\u001b[01m[2021-05-18 18:39:37,614] [Epoch: 3] [Batch: 20 of 157] [Loss = 2.0765] [Accuracy = 21.88] [0.042 sec/batch]\u001b[0m\n",
      "\u001b[37m\u001b[01m[2021-05-18 18:39:38,047] [Epoch: 3] [Batch: 30 of 157] [Loss = 2.0845] [Accuracy = 6.25] [0.043 sec/batch]\u001b[0m\n",
      "\u001b[37m\u001b[01m[2021-05-18 18:39:38,471] [Epoch: 3] [Batch: 40 of 157] [Loss = 2.0848] [Accuracy = 12.50] [0.039 sec/batch]\u001b[0m\n",
      "\u001b[37m\u001b[01m[2021-05-18 18:39:38,891] [Epoch: 3] [Batch: 50 of 157] [Loss = 2.0789] [Accuracy = 12.50] [0.041 sec/batch]\u001b[0m\n",
      "\u001b[37m\u001b[01m[2021-05-18 18:39:39,315] [Epoch: 3] [Batch: 60 of 157] [Loss = 2.0753] [Accuracy = 12.50] [0.043 sec/batch]\u001b[0m\n",
      "\u001b[37m\u001b[01m[2021-05-18 18:39:39,746] [Epoch: 3] [Batch: 70 of 157] [Loss = 2.0746] [Accuracy = 15.62] [0.042 sec/batch]\u001b[0m\n",
      "\u001b[37m\u001b[01m[2021-05-18 18:39:40,175] [Epoch: 3] [Batch: 80 of 157] [Loss = 2.0835] [Accuracy = 12.50] [0.039 sec/batch]\u001b[0m\n",
      "\u001b[37m\u001b[01m[2021-05-18 18:39:40,607] [Epoch: 3] [Batch: 90 of 157] [Loss = 2.0836] [Accuracy = 12.50] [0.042 sec/batch]\u001b[0m\n",
      "\u001b[37m\u001b[01m[2021-05-18 18:39:41,035] [Epoch: 3] [Batch: 100 of 157] [Loss = 2.0894] [Accuracy = 6.25] [0.041 sec/batch]\u001b[0m\n",
      "\u001b[37m\u001b[01m[2021-05-18 18:39:41,459] [Epoch: 3] [Batch: 110 of 157] [Loss = 2.0867] [Accuracy = 9.38] [0.043 sec/batch]\u001b[0m\n",
      "\u001b[37m\u001b[01m[2021-05-18 18:39:41,871] [Epoch: 3] [Batch: 120 of 157] [Loss = 2.0899] [Accuracy = 0.00] [0.039 sec/batch]\u001b[0m\n",
      "\u001b[37m\u001b[01m[2021-05-18 18:39:42,295] [Epoch: 3] [Batch: 130 of 157] [Loss = 2.0823] [Accuracy = 6.25] [0.043 sec/batch]\u001b[0m\n",
      "\u001b[37m\u001b[01m[2021-05-18 18:39:42,719] [Epoch: 3] [Batch: 140 of 157] [Loss = 2.0766] [Accuracy = 18.75] [0.044 sec/batch]\u001b[0m\n",
      "\u001b[37m\u001b[01m[2021-05-18 18:39:43,140] [Epoch: 3] [Batch: 150 of 157] [Loss = 2.0825] [Accuracy = 12.50] [0.040 sec/batch]\u001b[0m\n",
      "\u001b[37m\u001b[01m[2021-05-18 18:39:43,426] [Epoch: 4] [Batch: 0 of 157] [Loss = 2.0774] [Accuracy = 18.75] [0.039 sec/batch]\u001b[0m\n"
     ]
    },
    {
     "name": "stdout",
     "output_type": "stream",
     "text": [
      "Epoch 4\n",
      "-------------------------------\n"
     ]
    },
    {
     "name": "stderr",
     "output_type": "stream",
     "text": [
      "\u001b[37m\u001b[01m[2021-05-18 18:39:43,848] [Epoch: 4] [Batch: 10 of 157] [Loss = 2.0918] [Accuracy = 6.25] [0.044 sec/batch]\u001b[0m\n",
      "\u001b[37m\u001b[01m[2021-05-18 18:39:44,278] [Epoch: 4] [Batch: 20 of 157] [Loss = 2.0782] [Accuracy = 12.50] [0.042 sec/batch]\u001b[0m\n",
      "\u001b[37m\u001b[01m[2021-05-18 18:39:44,698] [Epoch: 4] [Batch: 30 of 157] [Loss = 2.0747] [Accuracy = 18.75] [0.042 sec/batch]\u001b[0m\n",
      "\u001b[37m\u001b[01m[2021-05-18 18:39:45,126] [Epoch: 4] [Batch: 40 of 157] [Loss = 2.0777] [Accuracy = 3.12] [0.042 sec/batch]\u001b[0m\n",
      "\u001b[37m\u001b[01m[2021-05-18 18:39:45,538] [Epoch: 4] [Batch: 50 of 157] [Loss = 2.0811] [Accuracy = 15.62] [0.038 sec/batch]\u001b[0m\n",
      "\u001b[37m\u001b[01m[2021-05-18 18:39:45,963] [Epoch: 4] [Batch: 60 of 157] [Loss = 2.0829] [Accuracy = 15.62] [0.039 sec/batch]\u001b[0m\n",
      "\u001b[37m\u001b[01m[2021-05-18 18:39:46,370] [Epoch: 4] [Batch: 70 of 157] [Loss = 2.0714] [Accuracy = 18.75] [0.038 sec/batch]\u001b[0m\n",
      "\u001b[37m\u001b[01m[2021-05-18 18:39:46,799] [Epoch: 4] [Batch: 80 of 157] [Loss = 2.0811] [Accuracy = 6.25] [0.043 sec/batch]\u001b[0m\n",
      "\u001b[37m\u001b[01m[2021-05-18 18:39:47,214] [Epoch: 4] [Batch: 90 of 157] [Loss = 2.0776] [Accuracy = 15.62] [0.041 sec/batch]\u001b[0m\n",
      "\u001b[37m\u001b[01m[2021-05-18 18:39:47,614] [Epoch: 4] [Batch: 100 of 157] [Loss = 2.0774] [Accuracy = 15.62] [0.040 sec/batch]\u001b[0m\n",
      "\u001b[37m\u001b[01m[2021-05-18 18:39:48,014] [Epoch: 4] [Batch: 110 of 157] [Loss = 2.0870] [Accuracy = 6.25] [0.041 sec/batch]\u001b[0m\n",
      "\u001b[37m\u001b[01m[2021-05-18 18:39:48,404] [Epoch: 4] [Batch: 120 of 157] [Loss = 2.0820] [Accuracy = 9.38] [0.035 sec/batch]\u001b[0m\n",
      "\u001b[37m\u001b[01m[2021-05-18 18:39:48,797] [Epoch: 4] [Batch: 130 of 157] [Loss = 2.0755] [Accuracy = 15.62] [0.040 sec/batch]\u001b[0m\n",
      "\u001b[37m\u001b[01m[2021-05-18 18:39:49,200] [Epoch: 4] [Batch: 140 of 157] [Loss = 2.0747] [Accuracy = 18.75] [0.042 sec/batch]\u001b[0m\n",
      "\u001b[37m\u001b[01m[2021-05-18 18:39:49,599] [Epoch: 4] [Batch: 150 of 157] [Loss = 2.0752] [Accuracy = 15.62] [0.042 sec/batch]\u001b[0m\n",
      "\u001b[37m\u001b[01m[2021-05-18 18:39:49,879] [Epoch: 5] [Batch: 0 of 157] [Loss = 2.0761] [Accuracy = 9.38] [0.039 sec/batch]\u001b[0m\n"
     ]
    },
    {
     "name": "stdout",
     "output_type": "stream",
     "text": [
      "Epoch 5\n",
      "-------------------------------\n"
     ]
    },
    {
     "name": "stderr",
     "output_type": "stream",
     "text": [
      "\u001b[37m\u001b[01m[2021-05-18 18:39:50,275] [Epoch: 5] [Batch: 10 of 157] [Loss = 2.0839] [Accuracy = 3.12] [0.037 sec/batch]\u001b[0m\n",
      "\u001b[37m\u001b[01m[2021-05-18 18:39:50,673] [Epoch: 5] [Batch: 20 of 157] [Loss = 2.0808] [Accuracy = 9.38] [0.038 sec/batch]\u001b[0m\n",
      "\u001b[37m\u001b[01m[2021-05-18 18:39:51,061] [Epoch: 5] [Batch: 30 of 157] [Loss = 2.0703] [Accuracy = 37.50] [0.038 sec/batch]\u001b[0m\n",
      "\u001b[37m\u001b[01m[2021-05-18 18:39:51,437] [Epoch: 5] [Batch: 40 of 157] [Loss = 2.0780] [Accuracy = 15.62] [0.035 sec/batch]\u001b[0m\n",
      "\u001b[37m\u001b[01m[2021-05-18 18:39:51,827] [Epoch: 5] [Batch: 50 of 157] [Loss = 2.0811] [Accuracy = 15.62] [0.037 sec/batch]\u001b[0m\n",
      "\u001b[37m\u001b[01m[2021-05-18 18:39:52,209] [Epoch: 5] [Batch: 60 of 157] [Loss = 2.0794] [Accuracy = 15.62] [0.039 sec/batch]\u001b[0m\n",
      "\u001b[37m\u001b[01m[2021-05-18 18:39:52,625] [Epoch: 5] [Batch: 70 of 157] [Loss = 2.0816] [Accuracy = 12.50] [0.042 sec/batch]\u001b[0m\n",
      "\u001b[37m\u001b[01m[2021-05-18 18:39:53,026] [Epoch: 5] [Batch: 80 of 157] [Loss = 2.0746] [Accuracy = 21.88] [0.039 sec/batch]\u001b[0m\n",
      "\u001b[37m\u001b[01m[2021-05-18 18:39:53,429] [Epoch: 5] [Batch: 90 of 157] [Loss = 2.0780] [Accuracy = 9.38] [0.039 sec/batch]\u001b[0m\n",
      "\u001b[37m\u001b[01m[2021-05-18 18:39:53,854] [Epoch: 5] [Batch: 100 of 157] [Loss = 2.0803] [Accuracy = 9.38] [0.043 sec/batch]\u001b[0m\n",
      "\u001b[37m\u001b[01m[2021-05-18 18:39:54,268] [Epoch: 5] [Batch: 110 of 157] [Loss = 2.0768] [Accuracy = 15.62] [0.045 sec/batch]\u001b[0m\n",
      "\u001b[37m\u001b[01m[2021-05-18 18:39:54,691] [Epoch: 5] [Batch: 120 of 157] [Loss = 2.0804] [Accuracy = 12.50] [0.039 sec/batch]\u001b[0m\n",
      "\u001b[37m\u001b[01m[2021-05-18 18:39:55,118] [Epoch: 5] [Batch: 130 of 157] [Loss = 2.0762] [Accuracy = 6.25] [0.039 sec/batch]\u001b[0m\n",
      "\u001b[37m\u001b[01m[2021-05-18 18:39:55,529] [Epoch: 5] [Batch: 140 of 157] [Loss = 2.0824] [Accuracy = 18.75] [0.039 sec/batch]\u001b[0m\n",
      "\u001b[37m\u001b[01m[2021-05-18 18:39:55,952] [Epoch: 5] [Batch: 150 of 157] [Loss = 2.0779] [Accuracy = 21.88] [0.046 sec/batch]\u001b[0m\n",
      "\u001b[37m\u001b[01m[2021-05-18 18:39:56,232] [Epoch: 6] [Batch: 0 of 157] [Loss = 2.0771] [Accuracy = 12.50] [0.038 sec/batch]\u001b[0m\n"
     ]
    },
    {
     "name": "stdout",
     "output_type": "stream",
     "text": [
      "Epoch 6\n",
      "-------------------------------\n"
     ]
    },
    {
     "name": "stderr",
     "output_type": "stream",
     "text": [
      "\u001b[37m\u001b[01m[2021-05-18 18:39:56,626] [Epoch: 6] [Batch: 10 of 157] [Loss = 2.0857] [Accuracy = 12.50] [0.034 sec/batch]\u001b[0m\n",
      "\u001b[37m\u001b[01m[2021-05-18 18:39:57,034] [Epoch: 6] [Batch: 20 of 157] [Loss = 2.0749] [Accuracy = 25.00] [0.039 sec/batch]\u001b[0m\n",
      "\u001b[37m\u001b[01m[2021-05-18 18:39:57,446] [Epoch: 6] [Batch: 30 of 157] [Loss = 2.0836] [Accuracy = 12.50] [0.041 sec/batch]\u001b[0m\n",
      "\u001b[37m\u001b[01m[2021-05-18 18:39:57,857] [Epoch: 6] [Batch: 40 of 157] [Loss = 2.0770] [Accuracy = 25.00] [0.039 sec/batch]\u001b[0m\n",
      "\u001b[37m\u001b[01m[2021-05-18 18:39:58,277] [Epoch: 6] [Batch: 50 of 157] [Loss = 2.0862] [Accuracy = 9.38] [0.039 sec/batch]\u001b[0m\n",
      "\u001b[37m\u001b[01m[2021-05-18 18:39:58,688] [Epoch: 6] [Batch: 60 of 157] [Loss = 2.0832] [Accuracy = 6.25] [0.041 sec/batch]\u001b[0m\n",
      "\u001b[37m\u001b[01m[2021-05-18 18:39:59,110] [Epoch: 6] [Batch: 70 of 157] [Loss = 2.0762] [Accuracy = 18.75] [0.040 sec/batch]\u001b[0m\n",
      "\u001b[37m\u001b[01m[2021-05-18 18:39:59,523] [Epoch: 6] [Batch: 80 of 157] [Loss = 2.0785] [Accuracy = 12.50] [0.042 sec/batch]\u001b[0m\n",
      "\u001b[37m\u001b[01m[2021-05-18 18:39:59,934] [Epoch: 6] [Batch: 90 of 157] [Loss = 2.0825] [Accuracy = 3.12] [0.037 sec/batch]\u001b[0m\n",
      "\u001b[37m\u001b[01m[2021-05-18 18:40:00,299] [Epoch: 6] [Batch: 100 of 157] [Loss = 2.0788] [Accuracy = 12.50] [0.036 sec/batch]\u001b[0m\n",
      "\u001b[37m\u001b[01m[2021-05-18 18:40:00,668] [Epoch: 6] [Batch: 110 of 157] [Loss = 2.0789] [Accuracy = 9.38] [0.036 sec/batch]\u001b[0m\n",
      "\u001b[37m\u001b[01m[2021-05-18 18:40:01,053] [Epoch: 6] [Batch: 120 of 157] [Loss = 2.0877] [Accuracy = 3.12] [0.040 sec/batch]\u001b[0m\n",
      "\u001b[37m\u001b[01m[2021-05-18 18:40:01,443] [Epoch: 6] [Batch: 130 of 157] [Loss = 2.0860] [Accuracy = 6.25] [0.040 sec/batch]\u001b[0m\n",
      "\u001b[37m\u001b[01m[2021-05-18 18:40:01,834] [Epoch: 6] [Batch: 140 of 157] [Loss = 2.0795] [Accuracy = 18.75] [0.038 sec/batch]\u001b[0m\n",
      "\u001b[37m\u001b[01m[2021-05-18 18:40:02,231] [Epoch: 6] [Batch: 150 of 157] [Loss = 2.0768] [Accuracy = 25.00] [0.044 sec/batch]\u001b[0m\n",
      "\u001b[37m\u001b[01m[2021-05-18 18:40:02,530] [Epoch: 7] [Batch: 0 of 157] [Loss = 2.0823] [Accuracy = 15.62] [0.038 sec/batch]\u001b[0m\n"
     ]
    },
    {
     "name": "stdout",
     "output_type": "stream",
     "text": [
      "Epoch 7\n",
      "-------------------------------\n"
     ]
    },
    {
     "name": "stderr",
     "output_type": "stream",
     "text": [
      "\u001b[37m\u001b[01m[2021-05-18 18:40:02,933] [Epoch: 7] [Batch: 10 of 157] [Loss = 2.0777] [Accuracy = 18.75] [0.038 sec/batch]\u001b[0m\n",
      "\u001b[37m\u001b[01m[2021-05-18 18:40:03,356] [Epoch: 7] [Batch: 20 of 157] [Loss = 2.0804] [Accuracy = 9.38] [0.042 sec/batch]\u001b[0m\n",
      "\u001b[37m\u001b[01m[2021-05-18 18:40:03,763] [Epoch: 7] [Batch: 30 of 157] [Loss = 2.0809] [Accuracy = 6.25] [0.042 sec/batch]\u001b[0m\n",
      "\u001b[37m\u001b[01m[2021-05-18 18:40:04,169] [Epoch: 7] [Batch: 40 of 157] [Loss = 2.0821] [Accuracy = 6.25] [0.038 sec/batch]\u001b[0m\n",
      "\u001b[37m\u001b[01m[2021-05-18 18:40:04,576] [Epoch: 7] [Batch: 50 of 157] [Loss = 2.0750] [Accuracy = 18.75] [0.038 sec/batch]\u001b[0m\n",
      "\u001b[37m\u001b[01m[2021-05-18 18:40:04,993] [Epoch: 7] [Batch: 60 of 157] [Loss = 2.0787] [Accuracy = 18.75] [0.037 sec/batch]\u001b[0m\n",
      "\u001b[37m\u001b[01m[2021-05-18 18:40:05,412] [Epoch: 7] [Batch: 70 of 157] [Loss = 2.0737] [Accuracy = 15.62] [0.042 sec/batch]\u001b[0m\n",
      "\u001b[37m\u001b[01m[2021-05-18 18:40:05,832] [Epoch: 7] [Batch: 80 of 157] [Loss = 2.0760] [Accuracy = 9.38] [0.044 sec/batch]\u001b[0m\n",
      "\u001b[37m\u001b[01m[2021-05-18 18:40:06,264] [Epoch: 7] [Batch: 90 of 157] [Loss = 2.0726] [Accuracy = 28.12] [0.044 sec/batch]\u001b[0m\n",
      "\u001b[37m\u001b[01m[2021-05-18 18:40:06,688] [Epoch: 7] [Batch: 100 of 157] [Loss = 2.0758] [Accuracy = 15.62] [0.041 sec/batch]\u001b[0m\n",
      "\u001b[37m\u001b[01m[2021-05-18 18:40:07,090] [Epoch: 7] [Batch: 110 of 157] [Loss = 2.0734] [Accuracy = 18.75] [0.041 sec/batch]\u001b[0m\n",
      "\u001b[37m\u001b[01m[2021-05-18 18:40:07,510] [Epoch: 7] [Batch: 120 of 157] [Loss = 2.0819] [Accuracy = 6.25] [0.038 sec/batch]\u001b[0m\n",
      "\u001b[37m\u001b[01m[2021-05-18 18:40:07,927] [Epoch: 7] [Batch: 130 of 157] [Loss = 2.0766] [Accuracy = 15.62] [0.041 sec/batch]\u001b[0m\n",
      "\u001b[37m\u001b[01m[2021-05-18 18:40:08,339] [Epoch: 7] [Batch: 140 of 157] [Loss = 2.0841] [Accuracy = 9.38] [0.036 sec/batch]\u001b[0m\n",
      "\u001b[37m\u001b[01m[2021-05-18 18:40:08,750] [Epoch: 7] [Batch: 150 of 157] [Loss = 2.0790] [Accuracy = 12.50] [0.040 sec/batch]\u001b[0m\n",
      "\u001b[37m\u001b[01m[2021-05-18 18:40:09,039] [Epoch: 8] [Batch: 0 of 157] [Loss = 2.0778] [Accuracy = 9.38] [0.040 sec/batch]\u001b[0m\n"
     ]
    },
    {
     "name": "stdout",
     "output_type": "stream",
     "text": [
      "Epoch 8\n",
      "-------------------------------\n"
     ]
    },
    {
     "name": "stderr",
     "output_type": "stream",
     "text": [
      "\u001b[37m\u001b[01m[2021-05-18 18:40:09,444] [Epoch: 8] [Batch: 10 of 157] [Loss = 2.0831] [Accuracy = 6.25] [0.037 sec/batch]\u001b[0m\n",
      "\u001b[37m\u001b[01m[2021-05-18 18:40:09,846] [Epoch: 8] [Batch: 20 of 157] [Loss = 2.0789] [Accuracy = 12.50] [0.039 sec/batch]\u001b[0m\n",
      "\u001b[37m\u001b[01m[2021-05-18 18:40:10,262] [Epoch: 8] [Batch: 30 of 157] [Loss = 2.0778] [Accuracy = 15.62] [0.043 sec/batch]\u001b[0m\n",
      "\u001b[37m\u001b[01m[2021-05-18 18:40:10,679] [Epoch: 8] [Batch: 40 of 157] [Loss = 2.0771] [Accuracy = 18.75] [0.040 sec/batch]\u001b[0m\n",
      "\u001b[37m\u001b[01m[2021-05-18 18:40:11,085] [Epoch: 8] [Batch: 50 of 157] [Loss = 2.0820] [Accuracy = 15.62] [0.040 sec/batch]\u001b[0m\n",
      "\u001b[37m\u001b[01m[2021-05-18 18:40:11,494] [Epoch: 8] [Batch: 60 of 157] [Loss = 2.0831] [Accuracy = 3.12] [0.043 sec/batch]\u001b[0m\n",
      "\u001b[37m\u001b[01m[2021-05-18 18:40:11,902] [Epoch: 8] [Batch: 70 of 157] [Loss = 2.0759] [Accuracy = 18.75] [0.039 sec/batch]\u001b[0m\n",
      "\u001b[37m\u001b[01m[2021-05-18 18:40:12,309] [Epoch: 8] [Batch: 80 of 157] [Loss = 2.0843] [Accuracy = 6.25] [0.038 sec/batch]\u001b[0m\n",
      "\u001b[37m\u001b[01m[2021-05-18 18:40:12,723] [Epoch: 8] [Batch: 90 of 157] [Loss = 2.0836] [Accuracy = 9.38] [0.036 sec/batch]\u001b[0m\n",
      "\u001b[37m\u001b[01m[2021-05-18 18:40:13,134] [Epoch: 8] [Batch: 100 of 157] [Loss = 2.0797] [Accuracy = 9.38] [0.041 sec/batch]\u001b[0m\n",
      "\u001b[37m\u001b[01m[2021-05-18 18:40:13,542] [Epoch: 8] [Batch: 110 of 157] [Loss = 2.0761] [Accuracy = 12.50] [0.041 sec/batch]\u001b[0m\n",
      "\u001b[37m\u001b[01m[2021-05-18 18:40:13,947] [Epoch: 8] [Batch: 120 of 157] [Loss = 2.0807] [Accuracy = 15.62] [0.040 sec/batch]\u001b[0m\n",
      "\u001b[37m\u001b[01m[2021-05-18 18:40:14,361] [Epoch: 8] [Batch: 130 of 157] [Loss = 2.0775] [Accuracy = 15.62] [0.039 sec/batch]\u001b[0m\n",
      "\u001b[37m\u001b[01m[2021-05-18 18:40:14,761] [Epoch: 8] [Batch: 140 of 157] [Loss = 2.0776] [Accuracy = 18.75] [0.039 sec/batch]\u001b[0m\n",
      "\u001b[37m\u001b[01m[2021-05-18 18:40:15,178] [Epoch: 8] [Batch: 150 of 157] [Loss = 2.0793] [Accuracy = 15.62] [0.037 sec/batch]\u001b[0m\n",
      "\u001b[37m\u001b[01m[2021-05-18 18:40:15,459] [Epoch: 9] [Batch: 0 of 157] [Loss = 2.0758] [Accuracy = 12.50] [0.037 sec/batch]\u001b[0m\n"
     ]
    },
    {
     "name": "stdout",
     "output_type": "stream",
     "text": [
      "Epoch 9\n",
      "-------------------------------\n"
     ]
    },
    {
     "name": "stderr",
     "output_type": "stream",
     "text": [
      "\u001b[37m\u001b[01m[2021-05-18 18:40:15,866] [Epoch: 9] [Batch: 10 of 157] [Loss = 2.0792] [Accuracy = 12.50] [0.040 sec/batch]\u001b[0m\n",
      "\u001b[37m\u001b[01m[2021-05-18 18:40:16,281] [Epoch: 9] [Batch: 20 of 157] [Loss = 2.0798] [Accuracy = 12.50] [0.039 sec/batch]\u001b[0m\n",
      "\u001b[37m\u001b[01m[2021-05-18 18:40:16,697] [Epoch: 9] [Batch: 30 of 157] [Loss = 2.0818] [Accuracy = 15.62] [0.043 sec/batch]\u001b[0m\n",
      "\u001b[37m\u001b[01m[2021-05-18 18:40:17,105] [Epoch: 9] [Batch: 40 of 157] [Loss = 2.0758] [Accuracy = 12.50] [0.040 sec/batch]\u001b[0m\n",
      "\u001b[37m\u001b[01m[2021-05-18 18:40:17,508] [Epoch: 9] [Batch: 50 of 157] [Loss = 2.0817] [Accuracy = 9.38] [0.039 sec/batch]\u001b[0m\n",
      "\u001b[37m\u001b[01m[2021-05-18 18:40:17,909] [Epoch: 9] [Batch: 60 of 157] [Loss = 2.0742] [Accuracy = 15.62] [0.042 sec/batch]\u001b[0m\n",
      "\u001b[37m\u001b[01m[2021-05-18 18:40:18,324] [Epoch: 9] [Batch: 70 of 157] [Loss = 2.0750] [Accuracy = 12.50] [0.041 sec/batch]\u001b[0m\n",
      "\u001b[37m\u001b[01m[2021-05-18 18:40:18,735] [Epoch: 9] [Batch: 80 of 157] [Loss = 2.0773] [Accuracy = 15.62] [0.040 sec/batch]\u001b[0m\n",
      "\u001b[37m\u001b[01m[2021-05-18 18:40:19,146] [Epoch: 9] [Batch: 90 of 157] [Loss = 2.0809] [Accuracy = 12.50] [0.041 sec/batch]\u001b[0m\n",
      "\u001b[37m\u001b[01m[2021-05-18 18:40:19,561] [Epoch: 9] [Batch: 100 of 157] [Loss = 2.0790] [Accuracy = 15.62] [0.039 sec/batch]\u001b[0m\n",
      "\u001b[37m\u001b[01m[2021-05-18 18:40:19,949] [Epoch: 9] [Batch: 110 of 157] [Loss = 2.0791] [Accuracy = 18.75] [0.038 sec/batch]\u001b[0m\n",
      "\u001b[37m\u001b[01m[2021-05-18 18:40:20,367] [Epoch: 9] [Batch: 120 of 157] [Loss = 2.0812] [Accuracy = 12.50] [0.040 sec/batch]\u001b[0m\n",
      "\u001b[37m\u001b[01m[2021-05-18 18:40:20,785] [Epoch: 9] [Batch: 130 of 157] [Loss = 2.0772] [Accuracy = 9.38] [0.042 sec/batch]\u001b[0m\n",
      "\u001b[37m\u001b[01m[2021-05-18 18:40:21,193] [Epoch: 9] [Batch: 140 of 157] [Loss = 2.0811] [Accuracy = 21.88] [0.039 sec/batch]\u001b[0m\n",
      "\u001b[37m\u001b[01m[2021-05-18 18:40:21,606] [Epoch: 9] [Batch: 150 of 157] [Loss = 2.0834] [Accuracy = 9.38] [0.038 sec/batch]\u001b[0m\n",
      "\u001b[37m\u001b[01m[2021-05-18 18:40:21,913] [Epoch: 10] [Batch: 0 of 157] [Loss = 2.0745] [Accuracy = 18.75] [0.044 sec/batch]\u001b[0m\n"
     ]
    },
    {
     "name": "stdout",
     "output_type": "stream",
     "text": [
      "Epoch 10\n",
      "-------------------------------\n"
     ]
    },
    {
     "name": "stderr",
     "output_type": "stream",
     "text": [
      "\u001b[37m\u001b[01m[2021-05-18 18:40:22,323] [Epoch: 10] [Batch: 10 of 157] [Loss = 2.0807] [Accuracy = 3.12] [0.039 sec/batch]\u001b[0m\n",
      "\u001b[37m\u001b[01m[2021-05-18 18:40:22,749] [Epoch: 10] [Batch: 20 of 157] [Loss = 2.0760] [Accuracy = 18.75] [0.042 sec/batch]\u001b[0m\n",
      "\u001b[37m\u001b[01m[2021-05-18 18:40:23,162] [Epoch: 10] [Batch: 30 of 157] [Loss = 2.0806] [Accuracy = 9.38] [0.039 sec/batch]\u001b[0m\n",
      "\u001b[37m\u001b[01m[2021-05-18 18:40:23,574] [Epoch: 10] [Batch: 40 of 157] [Loss = 2.0809] [Accuracy = 18.75] [0.038 sec/batch]\u001b[0m\n",
      "\u001b[37m\u001b[01m[2021-05-18 18:40:23,991] [Epoch: 10] [Batch: 50 of 157] [Loss = 2.0808] [Accuracy = 9.38] [0.038 sec/batch]\u001b[0m\n",
      "\u001b[37m\u001b[01m[2021-05-18 18:40:24,434] [Epoch: 10] [Batch: 60 of 157] [Loss = 2.0852] [Accuracy = 6.25] [0.042 sec/batch]\u001b[0m\n",
      "\u001b[37m\u001b[01m[2021-05-18 18:40:24,867] [Epoch: 10] [Batch: 70 of 157] [Loss = 2.0816] [Accuracy = 18.75] [0.043 sec/batch]\u001b[0m\n",
      "\u001b[37m\u001b[01m[2021-05-18 18:40:25,292] [Epoch: 10] [Batch: 80 of 157] [Loss = 2.0850] [Accuracy = 6.25] [0.041 sec/batch]\u001b[0m\n",
      "\u001b[37m\u001b[01m[2021-05-18 18:40:25,701] [Epoch: 10] [Batch: 90 of 157] [Loss = 2.0856] [Accuracy = 3.12] [0.042 sec/batch]\u001b[0m\n",
      "\u001b[37m\u001b[01m[2021-05-18 18:40:26,118] [Epoch: 10] [Batch: 100 of 157] [Loss = 2.0816] [Accuracy = 3.12] [0.040 sec/batch]\u001b[0m\n",
      "\u001b[37m\u001b[01m[2021-05-18 18:40:26,530] [Epoch: 10] [Batch: 110 of 157] [Loss = 2.0840] [Accuracy = 9.38] [0.041 sec/batch]\u001b[0m\n",
      "\u001b[37m\u001b[01m[2021-05-18 18:40:26,936] [Epoch: 10] [Batch: 120 of 157] [Loss = 2.0770] [Accuracy = 12.50] [0.039 sec/batch]\u001b[0m\n",
      "\u001b[37m\u001b[01m[2021-05-18 18:40:27,345] [Epoch: 10] [Batch: 130 of 157] [Loss = 2.0820] [Accuracy = 12.50] [0.040 sec/batch]\u001b[0m\n",
      "\u001b[37m\u001b[01m[2021-05-18 18:40:27,763] [Epoch: 10] [Batch: 140 of 157] [Loss = 2.0750] [Accuracy = 25.00] [0.042 sec/batch]\u001b[0m\n",
      "\u001b[37m\u001b[01m[2021-05-18 18:40:28,175] [Epoch: 10] [Batch: 150 of 157] [Loss = 2.0791] [Accuracy = 18.75] [0.039 sec/batch]\u001b[0m\n",
      "\u001b[37m\u001b[01m[2021-05-18 18:40:28,467] [Epoch: 11] [Batch: 0 of 157] [Loss = 2.0773] [Accuracy = 12.50] [0.040 sec/batch]\u001b[0m\n"
     ]
    },
    {
     "name": "stdout",
     "output_type": "stream",
     "text": [
      "Epoch 11\n",
      "-------------------------------\n"
     ]
    },
    {
     "name": "stderr",
     "output_type": "stream",
     "text": [
      "\u001b[37m\u001b[01m[2021-05-18 18:40:28,899] [Epoch: 11] [Batch: 10 of 157] [Loss = 2.0793] [Accuracy = 18.75] [0.039 sec/batch]\u001b[0m\n",
      "\u001b[37m\u001b[01m[2021-05-18 18:40:29,341] [Epoch: 11] [Batch: 20 of 157] [Loss = 2.0869] [Accuracy = 3.12] [0.045 sec/batch]\u001b[0m\n",
      "\u001b[37m\u001b[01m[2021-05-18 18:40:29,766] [Epoch: 11] [Batch: 30 of 157] [Loss = 2.0751] [Accuracy = 15.62] [0.042 sec/batch]\u001b[0m\n",
      "\u001b[37m\u001b[01m[2021-05-18 18:40:30,192] [Epoch: 11] [Batch: 40 of 157] [Loss = 2.0847] [Accuracy = 9.38] [0.040 sec/batch]\u001b[0m\n",
      "\u001b[37m\u001b[01m[2021-05-18 18:40:30,610] [Epoch: 11] [Batch: 50 of 157] [Loss = 2.0830] [Accuracy = 12.50] [0.041 sec/batch]\u001b[0m\n",
      "\u001b[37m\u001b[01m[2021-05-18 18:40:31,034] [Epoch: 11] [Batch: 60 of 157] [Loss = 2.0801] [Accuracy = 9.38] [0.039 sec/batch]\u001b[0m\n",
      "\u001b[37m\u001b[01m[2021-05-18 18:40:31,446] [Epoch: 11] [Batch: 70 of 157] [Loss = 2.0822] [Accuracy = 12.50] [0.039 sec/batch]\u001b[0m\n",
      "\u001b[37m\u001b[01m[2021-05-18 18:40:31,861] [Epoch: 11] [Batch: 80 of 157] [Loss = 2.0788] [Accuracy = 6.25] [0.040 sec/batch]\u001b[0m\n",
      "\u001b[37m\u001b[01m[2021-05-18 18:40:32,265] [Epoch: 11] [Batch: 90 of 157] [Loss = 2.0746] [Accuracy = 31.25] [0.041 sec/batch]\u001b[0m\n",
      "\u001b[37m\u001b[01m[2021-05-18 18:40:32,695] [Epoch: 11] [Batch: 100 of 157] [Loss = 2.0796] [Accuracy = 12.50] [0.043 sec/batch]\u001b[0m\n",
      "\u001b[37m\u001b[01m[2021-05-18 18:40:33,112] [Epoch: 11] [Batch: 110 of 157] [Loss = 2.0820] [Accuracy = 12.50] [0.037 sec/batch]\u001b[0m\n",
      "\u001b[37m\u001b[01m[2021-05-18 18:40:33,517] [Epoch: 11] [Batch: 120 of 157] [Loss = 2.0756] [Accuracy = 15.62] [0.039 sec/batch]\u001b[0m\n",
      "\u001b[37m\u001b[01m[2021-05-18 18:40:33,931] [Epoch: 11] [Batch: 130 of 157] [Loss = 2.0809] [Accuracy = 9.38] [0.040 sec/batch]\u001b[0m\n",
      "\u001b[37m\u001b[01m[2021-05-18 18:40:34,344] [Epoch: 11] [Batch: 140 of 157] [Loss = 2.0818] [Accuracy = 3.12] [0.039 sec/batch]\u001b[0m\n",
      "\u001b[37m\u001b[01m[2021-05-18 18:40:34,751] [Epoch: 11] [Batch: 150 of 157] [Loss = 2.0830] [Accuracy = 12.50] [0.038 sec/batch]\u001b[0m\n",
      "\u001b[37m\u001b[01m[2021-05-18 18:40:35,033] [Epoch: 12] [Batch: 0 of 157] [Loss = 2.0788] [Accuracy = 3.12] [0.039 sec/batch]\u001b[0m\n"
     ]
    },
    {
     "name": "stdout",
     "output_type": "stream",
     "text": [
      "Epoch 12\n",
      "-------------------------------\n"
     ]
    },
    {
     "name": "stderr",
     "output_type": "stream",
     "text": [
      "\u001b[37m\u001b[01m[2021-05-18 18:40:35,444] [Epoch: 12] [Batch: 10 of 157] [Loss = 2.0785] [Accuracy = 15.62] [0.040 sec/batch]\u001b[0m\n",
      "\u001b[37m\u001b[01m[2021-05-18 18:40:35,850] [Epoch: 12] [Batch: 20 of 157] [Loss = 2.0793] [Accuracy = 12.50] [0.040 sec/batch]\u001b[0m\n",
      "\u001b[37m\u001b[01m[2021-05-18 18:40:36,257] [Epoch: 12] [Batch: 30 of 157] [Loss = 2.0804] [Accuracy = 12.50] [0.041 sec/batch]\u001b[0m\n",
      "\u001b[37m\u001b[01m[2021-05-18 18:40:36,658] [Epoch: 12] [Batch: 40 of 157] [Loss = 2.0788] [Accuracy = 12.50] [0.040 sec/batch]\u001b[0m\n",
      "\u001b[37m\u001b[01m[2021-05-18 18:40:37,070] [Epoch: 12] [Batch: 50 of 157] [Loss = 2.0775] [Accuracy = 21.88] [0.045 sec/batch]\u001b[0m\n",
      "\u001b[37m\u001b[01m[2021-05-18 18:40:37,472] [Epoch: 12] [Batch: 60 of 157] [Loss = 2.0829] [Accuracy = 6.25] [0.039 sec/batch]\u001b[0m\n",
      "\u001b[37m\u001b[01m[2021-05-18 18:40:37,884] [Epoch: 12] [Batch: 70 of 157] [Loss = 2.0754] [Accuracy = 15.62] [0.040 sec/batch]\u001b[0m\n",
      "\u001b[37m\u001b[01m[2021-05-18 18:40:38,308] [Epoch: 12] [Batch: 80 of 157] [Loss = 2.0803] [Accuracy = 12.50] [0.043 sec/batch]\u001b[0m\n",
      "\u001b[37m\u001b[01m[2021-05-18 18:40:38,718] [Epoch: 12] [Batch: 90 of 157] [Loss = 2.0813] [Accuracy = 3.12] [0.039 sec/batch]\u001b[0m\n",
      "\u001b[37m\u001b[01m[2021-05-18 18:40:39,118] [Epoch: 12] [Batch: 100 of 157] [Loss = 2.0789] [Accuracy = 9.38] [0.039 sec/batch]\u001b[0m\n",
      "\u001b[37m\u001b[01m[2021-05-18 18:40:39,526] [Epoch: 12] [Batch: 110 of 157] [Loss = 2.0753] [Accuracy = 15.62] [0.042 sec/batch]\u001b[0m\n",
      "\u001b[37m\u001b[01m[2021-05-18 18:40:39,933] [Epoch: 12] [Batch: 120 of 157] [Loss = 2.0818] [Accuracy = 6.25] [0.043 sec/batch]\u001b[0m\n",
      "\u001b[37m\u001b[01m[2021-05-18 18:40:40,326] [Epoch: 12] [Batch: 130 of 157] [Loss = 2.0739] [Accuracy = 15.62] [0.039 sec/batch]\u001b[0m\n",
      "\u001b[37m\u001b[01m[2021-05-18 18:40:40,727] [Epoch: 12] [Batch: 140 of 157] [Loss = 2.0786] [Accuracy = 6.25] [0.041 sec/batch]\u001b[0m\n",
      "\u001b[37m\u001b[01m[2021-05-18 18:40:41,116] [Epoch: 12] [Batch: 150 of 157] [Loss = 2.0770] [Accuracy = 15.62] [0.037 sec/batch]\u001b[0m\n",
      "\u001b[37m\u001b[01m[2021-05-18 18:40:41,391] [Epoch: 13] [Batch: 0 of 157] [Loss = 2.0796] [Accuracy = 9.38] [0.037 sec/batch]\u001b[0m\n"
     ]
    },
    {
     "name": "stdout",
     "output_type": "stream",
     "text": [
      "Epoch 13\n",
      "-------------------------------\n"
     ]
    },
    {
     "name": "stderr",
     "output_type": "stream",
     "text": [
      "\u001b[37m\u001b[01m[2021-05-18 18:40:41,782] [Epoch: 13] [Batch: 10 of 157] [Loss = 2.0783] [Accuracy = 12.50] [0.033 sec/batch]\u001b[0m\n",
      "\u001b[37m\u001b[01m[2021-05-18 18:40:42,170] [Epoch: 13] [Batch: 20 of 157] [Loss = 2.0842] [Accuracy = 6.25] [0.037 sec/batch]\u001b[0m\n",
      "\u001b[37m\u001b[01m[2021-05-18 18:40:42,567] [Epoch: 13] [Batch: 30 of 157] [Loss = 2.0768] [Accuracy = 18.75] [0.042 sec/batch]\u001b[0m\n",
      "\u001b[37m\u001b[01m[2021-05-18 18:40:42,956] [Epoch: 13] [Batch: 40 of 157] [Loss = 2.0798] [Accuracy = 12.50] [0.039 sec/batch]\u001b[0m\n",
      "\u001b[37m\u001b[01m[2021-05-18 18:40:43,340] [Epoch: 13] [Batch: 50 of 157] [Loss = 2.0788] [Accuracy = 15.62] [0.039 sec/batch]\u001b[0m\n",
      "\u001b[37m\u001b[01m[2021-05-18 18:40:43,720] [Epoch: 13] [Batch: 60 of 157] [Loss = 2.0824] [Accuracy = 12.50] [0.039 sec/batch]\u001b[0m\n",
      "\u001b[37m\u001b[01m[2021-05-18 18:40:44,106] [Epoch: 13] [Batch: 70 of 157] [Loss = 2.0775] [Accuracy = 12.50] [0.040 sec/batch]\u001b[0m\n",
      "\u001b[37m\u001b[01m[2021-05-18 18:40:44,503] [Epoch: 13] [Batch: 80 of 157] [Loss = 2.0789] [Accuracy = 9.38] [0.039 sec/batch]\u001b[0m\n",
      "\u001b[37m\u001b[01m[2021-05-18 18:40:44,888] [Epoch: 13] [Batch: 90 of 157] [Loss = 2.0783] [Accuracy = 18.75] [0.035 sec/batch]\u001b[0m\n",
      "\u001b[37m\u001b[01m[2021-05-18 18:40:45,286] [Epoch: 13] [Batch: 100 of 157] [Loss = 2.0814] [Accuracy = 9.38] [0.038 sec/batch]\u001b[0m\n",
      "\u001b[37m\u001b[01m[2021-05-18 18:40:45,685] [Epoch: 13] [Batch: 110 of 157] [Loss = 2.0802] [Accuracy = 15.62] [0.038 sec/batch]\u001b[0m\n",
      "\u001b[37m\u001b[01m[2021-05-18 18:40:46,092] [Epoch: 13] [Batch: 120 of 157] [Loss = 2.0763] [Accuracy = 9.38] [0.041 sec/batch]\u001b[0m\n",
      "\u001b[37m\u001b[01m[2021-05-18 18:40:46,480] [Epoch: 13] [Batch: 130 of 157] [Loss = 2.0773] [Accuracy = 12.50] [0.039 sec/batch]\u001b[0m\n",
      "\u001b[37m\u001b[01m[2021-05-18 18:40:46,881] [Epoch: 13] [Batch: 140 of 157] [Loss = 2.0819] [Accuracy = 9.38] [0.038 sec/batch]\u001b[0m\n",
      "\u001b[37m\u001b[01m[2021-05-18 18:40:47,257] [Epoch: 13] [Batch: 150 of 157] [Loss = 2.0750] [Accuracy = 18.75] [0.037 sec/batch]\u001b[0m\n",
      "\u001b[37m\u001b[01m[2021-05-18 18:40:47,530] [Epoch: 14] [Batch: 0 of 157] [Loss = 2.0733] [Accuracy = 18.75] [0.042 sec/batch]\u001b[0m\n"
     ]
    },
    {
     "name": "stdout",
     "output_type": "stream",
     "text": [
      "Epoch 14\n",
      "-------------------------------\n"
     ]
    },
    {
     "name": "stderr",
     "output_type": "stream",
     "text": [
      "\u001b[37m\u001b[01m[2021-05-18 18:40:47,923] [Epoch: 14] [Batch: 10 of 157] [Loss = 2.0708] [Accuracy = 21.88] [0.037 sec/batch]\u001b[0m\n",
      "\u001b[37m\u001b[01m[2021-05-18 18:40:48,318] [Epoch: 14] [Batch: 20 of 157] [Loss = 2.0778] [Accuracy = 6.25] [0.034 sec/batch]\u001b[0m\n",
      "\u001b[37m\u001b[01m[2021-05-18 18:40:48,711] [Epoch: 14] [Batch: 30 of 157] [Loss = 2.0761] [Accuracy = 12.50] [0.040 sec/batch]\u001b[0m\n",
      "\u001b[37m\u001b[01m[2021-05-18 18:40:49,103] [Epoch: 14] [Batch: 40 of 157] [Loss = 2.0752] [Accuracy = 21.88] [0.036 sec/batch]\u001b[0m\n",
      "\u001b[37m\u001b[01m[2021-05-18 18:40:49,498] [Epoch: 14] [Batch: 50 of 157] [Loss = 2.0801] [Accuracy = 12.50] [0.036 sec/batch]\u001b[0m\n",
      "\u001b[37m\u001b[01m[2021-05-18 18:40:49,914] [Epoch: 14] [Batch: 60 of 157] [Loss = 2.0771] [Accuracy = 15.62] [0.041 sec/batch]\u001b[0m\n",
      "\u001b[37m\u001b[01m[2021-05-18 18:40:50,349] [Epoch: 14] [Batch: 70 of 157] [Loss = 2.0785] [Accuracy = 12.50] [0.042 sec/batch]\u001b[0m\n",
      "\u001b[37m\u001b[01m[2021-05-18 18:40:50,758] [Epoch: 14] [Batch: 80 of 157] [Loss = 2.0818] [Accuracy = 6.25] [0.042 sec/batch]\u001b[0m\n",
      "\u001b[37m\u001b[01m[2021-05-18 18:40:51,154] [Epoch: 14] [Batch: 90 of 157] [Loss = 2.0807] [Accuracy = 18.75] [0.043 sec/batch]\u001b[0m\n",
      "\u001b[37m\u001b[01m[2021-05-18 18:40:51,566] [Epoch: 14] [Batch: 100 of 157] [Loss = 2.0807] [Accuracy = 9.38] [0.039 sec/batch]\u001b[0m\n",
      "\u001b[37m\u001b[01m[2021-05-18 18:40:51,987] [Epoch: 14] [Batch: 110 of 157] [Loss = 2.0744] [Accuracy = 9.38] [0.044 sec/batch]\u001b[0m\n",
      "\u001b[37m\u001b[01m[2021-05-18 18:40:52,398] [Epoch: 14] [Batch: 120 of 157] [Loss = 2.0756] [Accuracy = 18.75] [0.042 sec/batch]\u001b[0m\n",
      "\u001b[37m\u001b[01m[2021-05-18 18:40:52,823] [Epoch: 14] [Batch: 130 of 157] [Loss = 2.0751] [Accuracy = 15.62] [0.039 sec/batch]\u001b[0m\n",
      "\u001b[37m\u001b[01m[2021-05-18 18:40:53,237] [Epoch: 14] [Batch: 140 of 157] [Loss = 2.0803] [Accuracy = 9.38] [0.045 sec/batch]\u001b[0m\n",
      "\u001b[37m\u001b[01m[2021-05-18 18:40:53,676] [Epoch: 14] [Batch: 150 of 157] [Loss = 2.0794] [Accuracy = 6.25] [0.044 sec/batch]\u001b[0m\n",
      "\u001b[37m\u001b[01m[2021-05-18 18:40:53,977] [Epoch: 15] [Batch: 0 of 157] [Loss = 2.0790] [Accuracy = 15.62] [0.043 sec/batch]\u001b[0m\n"
     ]
    },
    {
     "name": "stdout",
     "output_type": "stream",
     "text": [
      "Epoch 15\n",
      "-------------------------------\n"
     ]
    },
    {
     "name": "stderr",
     "output_type": "stream",
     "text": [
      "\u001b[37m\u001b[01m[2021-05-18 18:40:54,407] [Epoch: 15] [Batch: 10 of 157] [Loss = 2.0820] [Accuracy = 9.38] [0.043 sec/batch]\u001b[0m\n",
      "\u001b[37m\u001b[01m[2021-05-18 18:40:54,825] [Epoch: 15] [Batch: 20 of 157] [Loss = 2.0808] [Accuracy = 21.88] [0.042 sec/batch]\u001b[0m\n",
      "\u001b[37m\u001b[01m[2021-05-18 18:40:55,211] [Epoch: 15] [Batch: 30 of 157] [Loss = 2.0789] [Accuracy = 18.75] [0.039 sec/batch]\u001b[0m\n",
      "\u001b[37m\u001b[01m[2021-05-18 18:40:55,608] [Epoch: 15] [Batch: 40 of 157] [Loss = 2.0813] [Accuracy = 12.50] [0.037 sec/batch]\u001b[0m\n",
      "\u001b[37m\u001b[01m[2021-05-18 18:40:56,006] [Epoch: 15] [Batch: 50 of 157] [Loss = 2.0819] [Accuracy = 15.62] [0.041 sec/batch]\u001b[0m\n",
      "\u001b[37m\u001b[01m[2021-05-18 18:40:56,406] [Epoch: 15] [Batch: 60 of 157] [Loss = 2.0827] [Accuracy = 3.12] [0.039 sec/batch]\u001b[0m\n",
      "\u001b[37m\u001b[01m[2021-05-18 18:40:56,804] [Epoch: 15] [Batch: 70 of 157] [Loss = 2.0803] [Accuracy = 12.50] [0.042 sec/batch]\u001b[0m\n",
      "\u001b[37m\u001b[01m[2021-05-18 18:40:57,192] [Epoch: 15] [Batch: 80 of 157] [Loss = 2.0815] [Accuracy = 9.38] [0.037 sec/batch]\u001b[0m\n",
      "\u001b[37m\u001b[01m[2021-05-18 18:40:57,588] [Epoch: 15] [Batch: 90 of 157] [Loss = 2.0830] [Accuracy = 12.50] [0.040 sec/batch]\u001b[0m\n",
      "\u001b[37m\u001b[01m[2021-05-18 18:40:58,013] [Epoch: 15] [Batch: 100 of 157] [Loss = 2.0780] [Accuracy = 12.50] [0.043 sec/batch]\u001b[0m\n",
      "\u001b[37m\u001b[01m[2021-05-18 18:40:58,429] [Epoch: 15] [Batch: 110 of 157] [Loss = 2.0800] [Accuracy = 12.50] [0.042 sec/batch]\u001b[0m\n",
      "\u001b[37m\u001b[01m[2021-05-18 18:40:58,841] [Epoch: 15] [Batch: 120 of 157] [Loss = 2.0748] [Accuracy = 12.50] [0.038 sec/batch]\u001b[0m\n",
      "\u001b[37m\u001b[01m[2021-05-18 18:40:59,259] [Epoch: 15] [Batch: 130 of 157] [Loss = 2.0841] [Accuracy = 12.50] [0.040 sec/batch]\u001b[0m\n",
      "\u001b[37m\u001b[01m[2021-05-18 18:40:59,673] [Epoch: 15] [Batch: 140 of 157] [Loss = 2.0771] [Accuracy = 18.75] [0.042 sec/batch]\u001b[0m\n",
      "\u001b[37m\u001b[01m[2021-05-18 18:41:00,072] [Epoch: 15] [Batch: 150 of 157] [Loss = 2.0755] [Accuracy = 18.75] [0.039 sec/batch]\u001b[0m\n",
      "\u001b[37m\u001b[01m[2021-05-18 18:41:00,354] [Epoch: 16] [Batch: 0 of 157] [Loss = 2.0715] [Accuracy = 25.00] [0.040 sec/batch]\u001b[0m\n"
     ]
    },
    {
     "name": "stdout",
     "output_type": "stream",
     "text": [
      "Epoch 16\n",
      "-------------------------------\n"
     ]
    },
    {
     "name": "stderr",
     "output_type": "stream",
     "text": [
      "\u001b[37m\u001b[01m[2021-05-18 18:41:00,760] [Epoch: 16] [Batch: 10 of 157] [Loss = 2.0815] [Accuracy = 6.25] [0.041 sec/batch]\u001b[0m\n",
      "\u001b[37m\u001b[01m[2021-05-18 18:41:01,171] [Epoch: 16] [Batch: 20 of 157] [Loss = 2.0775] [Accuracy = 15.62] [0.037 sec/batch]\u001b[0m\n",
      "\u001b[37m\u001b[01m[2021-05-18 18:41:01,601] [Epoch: 16] [Batch: 30 of 157] [Loss = 2.0814] [Accuracy = 6.25] [0.044 sec/batch]\u001b[0m\n",
      "\u001b[37m\u001b[01m[2021-05-18 18:41:02,001] [Epoch: 16] [Batch: 40 of 157] [Loss = 2.0708] [Accuracy = 28.12] [0.038 sec/batch]\u001b[0m\n",
      "\u001b[37m\u001b[01m[2021-05-18 18:41:02,406] [Epoch: 16] [Batch: 50 of 157] [Loss = 2.0778] [Accuracy = 18.75] [0.038 sec/batch]\u001b[0m\n",
      "\u001b[37m\u001b[01m[2021-05-18 18:41:02,809] [Epoch: 16] [Batch: 60 of 157] [Loss = 2.0856] [Accuracy = 3.12] [0.040 sec/batch]\u001b[0m\n",
      "\u001b[37m\u001b[01m[2021-05-18 18:41:03,214] [Epoch: 16] [Batch: 70 of 157] [Loss = 2.0805] [Accuracy = 12.50] [0.040 sec/batch]\u001b[0m\n",
      "\u001b[37m\u001b[01m[2021-05-18 18:41:03,606] [Epoch: 16] [Batch: 80 of 157] [Loss = 2.0769] [Accuracy = 21.88] [0.040 sec/batch]\u001b[0m\n",
      "\u001b[37m\u001b[01m[2021-05-18 18:41:04,005] [Epoch: 16] [Batch: 90 of 157] [Loss = 2.0849] [Accuracy = 9.38] [0.039 sec/batch]\u001b[0m\n",
      "\u001b[37m\u001b[01m[2021-05-18 18:41:04,391] [Epoch: 16] [Batch: 100 of 157] [Loss = 2.0795] [Accuracy = 12.50] [0.037 sec/batch]\u001b[0m\n",
      "\u001b[37m\u001b[01m[2021-05-18 18:41:04,772] [Epoch: 16] [Batch: 110 of 157] [Loss = 2.0767] [Accuracy = 15.62] [0.041 sec/batch]\u001b[0m\n",
      "\u001b[37m\u001b[01m[2021-05-18 18:41:05,170] [Epoch: 16] [Batch: 120 of 157] [Loss = 2.0815] [Accuracy = 9.38] [0.039 sec/batch]\u001b[0m\n",
      "\u001b[37m\u001b[01m[2021-05-18 18:41:05,578] [Epoch: 16] [Batch: 130 of 157] [Loss = 2.0814] [Accuracy = 15.62] [0.035 sec/batch]\u001b[0m\n",
      "\u001b[37m\u001b[01m[2021-05-18 18:41:06,008] [Epoch: 16] [Batch: 140 of 157] [Loss = 2.0733] [Accuracy = 15.62] [0.043 sec/batch]\u001b[0m\n",
      "\u001b[37m\u001b[01m[2021-05-18 18:41:06,430] [Epoch: 16] [Batch: 150 of 157] [Loss = 2.0758] [Accuracy = 9.38] [0.046 sec/batch]\u001b[0m\n",
      "\u001b[37m\u001b[01m[2021-05-18 18:41:06,714] [Epoch: 17] [Batch: 0 of 157] [Loss = 2.0733] [Accuracy = 25.00] [0.038 sec/batch]\u001b[0m\n"
     ]
    },
    {
     "name": "stdout",
     "output_type": "stream",
     "text": [
      "Epoch 17\n",
      "-------------------------------\n"
     ]
    },
    {
     "name": "stderr",
     "output_type": "stream",
     "text": [
      "\u001b[37m\u001b[01m[2021-05-18 18:41:07,129] [Epoch: 17] [Batch: 10 of 157] [Loss = 2.0815] [Accuracy = 15.62] [0.039 sec/batch]\u001b[0m\n",
      "\u001b[37m\u001b[01m[2021-05-18 18:41:07,535] [Epoch: 17] [Batch: 20 of 157] [Loss = 2.0816] [Accuracy = 18.75] [0.040 sec/batch]\u001b[0m\n",
      "\u001b[37m\u001b[01m[2021-05-18 18:41:07,953] [Epoch: 17] [Batch: 30 of 157] [Loss = 2.0767] [Accuracy = 9.38] [0.041 sec/batch]\u001b[0m\n",
      "\u001b[37m\u001b[01m[2021-05-18 18:41:08,362] [Epoch: 17] [Batch: 40 of 157] [Loss = 2.0788] [Accuracy = 12.50] [0.039 sec/batch]\u001b[0m\n",
      "\u001b[37m\u001b[01m[2021-05-18 18:41:08,799] [Epoch: 17] [Batch: 50 of 157] [Loss = 2.0827] [Accuracy = 3.12] [0.043 sec/batch]\u001b[0m\n",
      "\u001b[37m\u001b[01m[2021-05-18 18:41:09,206] [Epoch: 17] [Batch: 60 of 157] [Loss = 2.0768] [Accuracy = 12.50] [0.039 sec/batch]\u001b[0m\n",
      "\u001b[37m\u001b[01m[2021-05-18 18:41:09,619] [Epoch: 17] [Batch: 70 of 157] [Loss = 2.0765] [Accuracy = 15.62] [0.036 sec/batch]\u001b[0m\n",
      "\u001b[37m\u001b[01m[2021-05-18 18:41:10,013] [Epoch: 17] [Batch: 80 of 157] [Loss = 2.0817] [Accuracy = 9.38] [0.041 sec/batch]\u001b[0m\n",
      "\u001b[37m\u001b[01m[2021-05-18 18:41:10,408] [Epoch: 17] [Batch: 90 of 157] [Loss = 2.0854] [Accuracy = 3.12] [0.040 sec/batch]\u001b[0m\n",
      "\u001b[37m\u001b[01m[2021-05-18 18:41:10,790] [Epoch: 17] [Batch: 100 of 157] [Loss = 2.0753] [Accuracy = 6.25] [0.038 sec/batch]\u001b[0m\n",
      "\u001b[37m\u001b[01m[2021-05-18 18:41:11,174] [Epoch: 17] [Batch: 110 of 157] [Loss = 2.0786] [Accuracy = 15.62] [0.040 sec/batch]\u001b[0m\n",
      "\u001b[37m\u001b[01m[2021-05-18 18:41:11,558] [Epoch: 17] [Batch: 120 of 157] [Loss = 2.0790] [Accuracy = 25.00] [0.033 sec/batch]\u001b[0m\n",
      "\u001b[37m\u001b[01m[2021-05-18 18:41:11,939] [Epoch: 17] [Batch: 130 of 157] [Loss = 2.0788] [Accuracy = 12.50] [0.037 sec/batch]\u001b[0m\n",
      "\u001b[37m\u001b[01m[2021-05-18 18:41:12,326] [Epoch: 17] [Batch: 140 of 157] [Loss = 2.0828] [Accuracy = 12.50] [0.040 sec/batch]\u001b[0m\n",
      "\u001b[37m\u001b[01m[2021-05-18 18:41:12,726] [Epoch: 17] [Batch: 150 of 157] [Loss = 2.0781] [Accuracy = 15.62] [0.040 sec/batch]\u001b[0m\n",
      "\u001b[37m\u001b[01m[2021-05-18 18:41:12,996] [Epoch: 18] [Batch: 0 of 157] [Loss = 2.0816] [Accuracy = 15.62] [0.038 sec/batch]\u001b[0m\n"
     ]
    },
    {
     "name": "stdout",
     "output_type": "stream",
     "text": [
      "Epoch 18\n",
      "-------------------------------\n"
     ]
    },
    {
     "name": "stderr",
     "output_type": "stream",
     "text": [
      "\u001b[37m\u001b[01m[2021-05-18 18:41:13,419] [Epoch: 18] [Batch: 10 of 157] [Loss = 2.0794] [Accuracy = 9.38] [0.041 sec/batch]\u001b[0m\n",
      "\u001b[37m\u001b[01m[2021-05-18 18:41:13,833] [Epoch: 18] [Batch: 20 of 157] [Loss = 2.0789] [Accuracy = 15.62] [0.040 sec/batch]\u001b[0m\n",
      "\u001b[37m\u001b[01m[2021-05-18 18:41:14,242] [Epoch: 18] [Batch: 30 of 157] [Loss = 2.0831] [Accuracy = 9.38] [0.042 sec/batch]\u001b[0m\n",
      "\u001b[37m\u001b[01m[2021-05-18 18:41:14,671] [Epoch: 18] [Batch: 40 of 157] [Loss = 2.0724] [Accuracy = 12.50] [0.043 sec/batch]\u001b[0m\n",
      "\u001b[37m\u001b[01m[2021-05-18 18:41:15,087] [Epoch: 18] [Batch: 50 of 157] [Loss = 2.0808] [Accuracy = 15.62] [0.044 sec/batch]\u001b[0m\n",
      "\u001b[37m\u001b[01m[2021-05-18 18:41:15,490] [Epoch: 18] [Batch: 60 of 157] [Loss = 2.0732] [Accuracy = 18.75] [0.036 sec/batch]\u001b[0m\n",
      "\u001b[37m\u001b[01m[2021-05-18 18:41:15,912] [Epoch: 18] [Batch: 70 of 157] [Loss = 2.0812] [Accuracy = 12.50] [0.039 sec/batch]\u001b[0m\n",
      "\u001b[37m\u001b[01m[2021-05-18 18:41:16,323] [Epoch: 18] [Batch: 80 of 157] [Loss = 2.0735] [Accuracy = 15.62] [0.040 sec/batch]\u001b[0m\n",
      "\u001b[37m\u001b[01m[2021-05-18 18:41:16,730] [Epoch: 18] [Batch: 90 of 157] [Loss = 2.0823] [Accuracy = 12.50] [0.035 sec/batch]\u001b[0m\n",
      "\u001b[37m\u001b[01m[2021-05-18 18:41:17,153] [Epoch: 18] [Batch: 100 of 157] [Loss = 2.0807] [Accuracy = 15.62] [0.041 sec/batch]\u001b[0m\n",
      "\u001b[37m\u001b[01m[2021-05-18 18:41:17,549] [Epoch: 18] [Batch: 110 of 157] [Loss = 2.0746] [Accuracy = 15.62] [0.040 sec/batch]\u001b[0m\n",
      "\u001b[37m\u001b[01m[2021-05-18 18:41:17,937] [Epoch: 18] [Batch: 120 of 157] [Loss = 2.0796] [Accuracy = 9.38] [0.038 sec/batch]\u001b[0m\n",
      "\u001b[37m\u001b[01m[2021-05-18 18:41:18,333] [Epoch: 18] [Batch: 130 of 157] [Loss = 2.0793] [Accuracy = 18.75] [0.039 sec/batch]\u001b[0m\n",
      "\u001b[37m\u001b[01m[2021-05-18 18:41:18,720] [Epoch: 18] [Batch: 140 of 157] [Loss = 2.0776] [Accuracy = 18.75] [0.037 sec/batch]\u001b[0m\n",
      "\u001b[37m\u001b[01m[2021-05-18 18:41:19,095] [Epoch: 18] [Batch: 150 of 157] [Loss = 2.0785] [Accuracy = 15.62] [0.038 sec/batch]\u001b[0m\n",
      "\u001b[37m\u001b[01m[2021-05-18 18:41:19,372] [Epoch: 19] [Batch: 0 of 157] [Loss = 2.0762] [Accuracy = 15.62] [0.037 sec/batch]\u001b[0m\n"
     ]
    },
    {
     "name": "stdout",
     "output_type": "stream",
     "text": [
      "Epoch 19\n",
      "-------------------------------\n"
     ]
    },
    {
     "name": "stderr",
     "output_type": "stream",
     "text": [
      "\u001b[37m\u001b[01m[2021-05-18 18:41:19,780] [Epoch: 19] [Batch: 10 of 157] [Loss = 2.0845] [Accuracy = 9.38] [0.038 sec/batch]\u001b[0m\n",
      "\u001b[37m\u001b[01m[2021-05-18 18:41:20,184] [Epoch: 19] [Batch: 20 of 157] [Loss = 2.0822] [Accuracy = 15.62] [0.040 sec/batch]\u001b[0m\n",
      "\u001b[37m\u001b[01m[2021-05-18 18:41:20,609] [Epoch: 19] [Batch: 30 of 157] [Loss = 2.0780] [Accuracy = 12.50] [0.040 sec/batch]\u001b[0m\n",
      "\u001b[37m\u001b[01m[2021-05-18 18:41:21,022] [Epoch: 19] [Batch: 40 of 157] [Loss = 2.0733] [Accuracy = 15.62] [0.040 sec/batch]\u001b[0m\n",
      "\u001b[37m\u001b[01m[2021-05-18 18:41:21,420] [Epoch: 19] [Batch: 50 of 157] [Loss = 2.0692] [Accuracy = 21.88] [0.038 sec/batch]\u001b[0m\n",
      "\u001b[37m\u001b[01m[2021-05-18 18:41:21,816] [Epoch: 19] [Batch: 60 of 157] [Loss = 2.0757] [Accuracy = 18.75] [0.038 sec/batch]\u001b[0m\n",
      "\u001b[37m\u001b[01m[2021-05-18 18:41:22,233] [Epoch: 19] [Batch: 70 of 157] [Loss = 2.0728] [Accuracy = 28.12] [0.039 sec/batch]\u001b[0m\n",
      "\u001b[37m\u001b[01m[2021-05-18 18:41:22,634] [Epoch: 19] [Batch: 80 of 157] [Loss = 2.0713] [Accuracy = 15.62] [0.041 sec/batch]\u001b[0m\n",
      "\u001b[37m\u001b[01m[2021-05-18 18:41:23,038] [Epoch: 19] [Batch: 90 of 157] [Loss = 2.0801] [Accuracy = 12.50] [0.039 sec/batch]\u001b[0m\n",
      "\u001b[37m\u001b[01m[2021-05-18 18:41:23,443] [Epoch: 19] [Batch: 100 of 157] [Loss = 2.0762] [Accuracy = 15.62] [0.039 sec/batch]\u001b[0m\n",
      "\u001b[37m\u001b[01m[2021-05-18 18:41:23,851] [Epoch: 19] [Batch: 110 of 157] [Loss = 2.0779] [Accuracy = 28.12] [0.043 sec/batch]\u001b[0m\n",
      "\u001b[37m\u001b[01m[2021-05-18 18:41:24,256] [Epoch: 19] [Batch: 120 of 157] [Loss = 2.0789] [Accuracy = 25.00] [0.037 sec/batch]\u001b[0m\n",
      "\u001b[37m\u001b[01m[2021-05-18 18:41:24,669] [Epoch: 19] [Batch: 130 of 157] [Loss = 2.0837] [Accuracy = 12.50] [0.039 sec/batch]\u001b[0m\n",
      "\u001b[37m\u001b[01m[2021-05-18 18:41:25,086] [Epoch: 19] [Batch: 140 of 157] [Loss = 2.0863] [Accuracy = 6.25] [0.041 sec/batch]\u001b[0m\n",
      "\u001b[37m\u001b[01m[2021-05-18 18:41:25,511] [Epoch: 19] [Batch: 150 of 157] [Loss = 2.0731] [Accuracy = 18.75] [0.043 sec/batch]\u001b[0m\n",
      "\u001b[37m\u001b[01m[2021-05-18 18:41:25,797] [Epoch: 20] [Batch: 0 of 157] [Loss = 2.0802] [Accuracy = 9.38] [0.037 sec/batch]\u001b[0m\n"
     ]
    },
    {
     "name": "stdout",
     "output_type": "stream",
     "text": [
      "Epoch 20\n",
      "-------------------------------\n"
     ]
    },
    {
     "name": "stderr",
     "output_type": "stream",
     "text": [
      "\u001b[37m\u001b[01m[2021-05-18 18:41:26,213] [Epoch: 20] [Batch: 10 of 157] [Loss = 2.0812] [Accuracy = 15.62] [0.038 sec/batch]\u001b[0m\n",
      "\u001b[37m\u001b[01m[2021-05-18 18:41:26,626] [Epoch: 20] [Batch: 20 of 157] [Loss = 2.0805] [Accuracy = 9.38] [0.040 sec/batch]\u001b[0m\n",
      "\u001b[37m\u001b[01m[2021-05-18 18:41:27,047] [Epoch: 20] [Batch: 30 of 157] [Loss = 2.0783] [Accuracy = 9.38] [0.041 sec/batch]\u001b[0m\n",
      "\u001b[37m\u001b[01m[2021-05-18 18:41:27,457] [Epoch: 20] [Batch: 40 of 157] [Loss = 2.0804] [Accuracy = 12.50] [0.039 sec/batch]\u001b[0m\n",
      "\u001b[37m\u001b[01m[2021-05-18 18:41:27,865] [Epoch: 20] [Batch: 50 of 157] [Loss = 2.0799] [Accuracy = 12.50] [0.037 sec/batch]\u001b[0m\n",
      "\u001b[37m\u001b[01m[2021-05-18 18:41:28,272] [Epoch: 20] [Batch: 60 of 157] [Loss = 2.0806] [Accuracy = 18.75] [0.041 sec/batch]\u001b[0m\n",
      "\u001b[37m\u001b[01m[2021-05-18 18:41:28,674] [Epoch: 20] [Batch: 70 of 157] [Loss = 2.0753] [Accuracy = 15.62] [0.041 sec/batch]\u001b[0m\n",
      "\u001b[37m\u001b[01m[2021-05-18 18:41:29,076] [Epoch: 20] [Batch: 80 of 157] [Loss = 2.0793] [Accuracy = 9.38] [0.038 sec/batch]\u001b[0m\n",
      "\u001b[37m\u001b[01m[2021-05-18 18:41:29,486] [Epoch: 20] [Batch: 90 of 157] [Loss = 2.0714] [Accuracy = 9.38] [0.040 sec/batch]\u001b[0m\n",
      "\u001b[37m\u001b[01m[2021-05-18 18:41:29,890] [Epoch: 20] [Batch: 100 of 157] [Loss = 2.0837] [Accuracy = 15.62] [0.039 sec/batch]\u001b[0m\n",
      "\u001b[37m\u001b[01m[2021-05-18 18:41:30,286] [Epoch: 20] [Batch: 110 of 157] [Loss = 2.0863] [Accuracy = 3.12] [0.039 sec/batch]\u001b[0m\n",
      "\u001b[37m\u001b[01m[2021-05-18 18:41:30,715] [Epoch: 20] [Batch: 120 of 157] [Loss = 2.0768] [Accuracy = 15.62] [0.042 sec/batch]\u001b[0m\n",
      "\u001b[37m\u001b[01m[2021-05-18 18:41:31,128] [Epoch: 20] [Batch: 130 of 157] [Loss = 2.0772] [Accuracy = 18.75] [0.042 sec/batch]\u001b[0m\n",
      "\u001b[37m\u001b[01m[2021-05-18 18:41:31,531] [Epoch: 20] [Batch: 140 of 157] [Loss = 2.0748] [Accuracy = 18.75] [0.041 sec/batch]\u001b[0m\n",
      "\u001b[37m\u001b[01m[2021-05-18 18:41:31,917] [Epoch: 20] [Batch: 150 of 157] [Loss = 2.0841] [Accuracy = 15.62] [0.039 sec/batch]\u001b[0m\n",
      "\u001b[37m\u001b[01m[2021-05-18 18:41:32,201] [Epoch: 21] [Batch: 0 of 157] [Loss = 2.0852] [Accuracy = 12.50] [0.037 sec/batch]\u001b[0m\n"
     ]
    },
    {
     "name": "stdout",
     "output_type": "stream",
     "text": [
      "Epoch 21\n",
      "-------------------------------\n"
     ]
    },
    {
     "name": "stderr",
     "output_type": "stream",
     "text": [
      "\u001b[37m\u001b[01m[2021-05-18 18:41:32,612] [Epoch: 21] [Batch: 10 of 157] [Loss = 2.0764] [Accuracy = 28.12] [0.039 sec/batch]\u001b[0m\n",
      "\u001b[37m\u001b[01m[2021-05-18 18:41:33,027] [Epoch: 21] [Batch: 20 of 157] [Loss = 2.0725] [Accuracy = 15.62] [0.041 sec/batch]\u001b[0m\n",
      "\u001b[37m\u001b[01m[2021-05-18 18:41:33,436] [Epoch: 21] [Batch: 30 of 157] [Loss = 2.0769] [Accuracy = 15.62] [0.038 sec/batch]\u001b[0m\n",
      "\u001b[37m\u001b[01m[2021-05-18 18:41:33,846] [Epoch: 21] [Batch: 40 of 157] [Loss = 2.0865] [Accuracy = 3.12] [0.042 sec/batch]\u001b[0m\n",
      "\u001b[37m\u001b[01m[2021-05-18 18:41:34,244] [Epoch: 21] [Batch: 50 of 157] [Loss = 2.0840] [Accuracy = 12.50] [0.039 sec/batch]\u001b[0m\n",
      "\u001b[37m\u001b[01m[2021-05-18 18:41:34,645] [Epoch: 21] [Batch: 60 of 157] [Loss = 2.0734] [Accuracy = 21.88] [0.039 sec/batch]\u001b[0m\n",
      "\u001b[37m\u001b[01m[2021-05-18 18:41:35,057] [Epoch: 21] [Batch: 70 of 157] [Loss = 2.0847] [Accuracy = 18.75] [0.042 sec/batch]\u001b[0m\n",
      "\u001b[37m\u001b[01m[2021-05-18 18:41:35,452] [Epoch: 21] [Batch: 80 of 157] [Loss = 2.0731] [Accuracy = 21.88] [0.037 sec/batch]\u001b[0m\n",
      "\u001b[37m\u001b[01m[2021-05-18 18:41:35,864] [Epoch: 21] [Batch: 90 of 157] [Loss = 2.0834] [Accuracy = 9.38] [0.038 sec/batch]\u001b[0m\n",
      "\u001b[37m\u001b[01m[2021-05-18 18:41:36,264] [Epoch: 21] [Batch: 100 of 157] [Loss = 2.0803] [Accuracy = 12.50] [0.039 sec/batch]\u001b[0m\n",
      "\u001b[37m\u001b[01m[2021-05-18 18:41:36,656] [Epoch: 21] [Batch: 110 of 157] [Loss = 2.0751] [Accuracy = 21.88] [0.036 sec/batch]\u001b[0m\n",
      "\u001b[37m\u001b[01m[2021-05-18 18:41:37,063] [Epoch: 21] [Batch: 120 of 157] [Loss = 2.0853] [Accuracy = 3.12] [0.039 sec/batch]\u001b[0m\n",
      "\u001b[37m\u001b[01m[2021-05-18 18:41:37,460] [Epoch: 21] [Batch: 130 of 157] [Loss = 2.0765] [Accuracy = 21.88] [0.041 sec/batch]\u001b[0m\n",
      "\u001b[37m\u001b[01m[2021-05-18 18:41:37,862] [Epoch: 21] [Batch: 140 of 157] [Loss = 2.0794] [Accuracy = 12.50] [0.040 sec/batch]\u001b[0m\n",
      "\u001b[37m\u001b[01m[2021-05-18 18:41:38,271] [Epoch: 21] [Batch: 150 of 157] [Loss = 2.0752] [Accuracy = 25.00] [0.042 sec/batch]\u001b[0m\n",
      "\u001b[37m\u001b[01m[2021-05-18 18:41:38,563] [Epoch: 22] [Batch: 0 of 157] [Loss = 2.0837] [Accuracy = 18.75] [0.039 sec/batch]\u001b[0m\n"
     ]
    },
    {
     "name": "stdout",
     "output_type": "stream",
     "text": [
      "Epoch 22\n",
      "-------------------------------\n"
     ]
    },
    {
     "name": "stderr",
     "output_type": "stream",
     "text": [
      "\u001b[37m\u001b[01m[2021-05-18 18:41:38,985] [Epoch: 22] [Batch: 10 of 157] [Loss = 2.0773] [Accuracy = 21.88] [0.044 sec/batch]\u001b[0m\n",
      "\u001b[37m\u001b[01m[2021-05-18 18:41:39,392] [Epoch: 22] [Batch: 20 of 157] [Loss = 2.0769] [Accuracy = 21.88] [0.044 sec/batch]\u001b[0m\n",
      "\u001b[37m\u001b[01m[2021-05-18 18:41:39,799] [Epoch: 22] [Batch: 30 of 157] [Loss = 2.0810] [Accuracy = 9.38] [0.043 sec/batch]\u001b[0m\n",
      "\u001b[37m\u001b[01m[2021-05-18 18:41:40,201] [Epoch: 22] [Batch: 40 of 157] [Loss = 2.0772] [Accuracy = 12.50] [0.038 sec/batch]\u001b[0m\n",
      "\u001b[37m\u001b[01m[2021-05-18 18:41:40,614] [Epoch: 22] [Batch: 50 of 157] [Loss = 2.0710] [Accuracy = 28.12] [0.042 sec/batch]\u001b[0m\n",
      "\u001b[37m\u001b[01m[2021-05-18 18:41:41,027] [Epoch: 22] [Batch: 60 of 157] [Loss = 2.0812] [Accuracy = 15.62] [0.040 sec/batch]\u001b[0m\n",
      "\u001b[37m\u001b[01m[2021-05-18 18:41:41,439] [Epoch: 22] [Batch: 70 of 157] [Loss = 2.0752] [Accuracy = 21.88] [0.036 sec/batch]\u001b[0m\n",
      "\u001b[37m\u001b[01m[2021-05-18 18:41:41,819] [Epoch: 22] [Batch: 80 of 157] [Loss = 2.0809] [Accuracy = 12.50] [0.035 sec/batch]\u001b[0m\n",
      "\u001b[37m\u001b[01m[2021-05-18 18:41:42,206] [Epoch: 22] [Batch: 90 of 157] [Loss = 2.0845] [Accuracy = 12.50] [0.043 sec/batch]\u001b[0m\n",
      "\u001b[37m\u001b[01m[2021-05-18 18:41:42,586] [Epoch: 22] [Batch: 100 of 157] [Loss = 2.0770] [Accuracy = 12.50] [0.043 sec/batch]\u001b[0m\n",
      "\u001b[37m\u001b[01m[2021-05-18 18:41:42,991] [Epoch: 22] [Batch: 110 of 157] [Loss = 2.0780] [Accuracy = 25.00] [0.041 sec/batch]\u001b[0m\n",
      "\u001b[37m\u001b[01m[2021-05-18 18:41:43,402] [Epoch: 22] [Batch: 120 of 157] [Loss = 2.0739] [Accuracy = 28.12] [0.043 sec/batch]\u001b[0m\n",
      "\u001b[37m\u001b[01m[2021-05-18 18:41:43,821] [Epoch: 22] [Batch: 130 of 157] [Loss = 2.0824] [Accuracy = 6.25] [0.042 sec/batch]\u001b[0m\n",
      "\u001b[37m\u001b[01m[2021-05-18 18:41:44,230] [Epoch: 22] [Batch: 140 of 157] [Loss = 2.0749] [Accuracy = 12.50] [0.041 sec/batch]\u001b[0m\n",
      "\u001b[37m\u001b[01m[2021-05-18 18:41:44,648] [Epoch: 22] [Batch: 150 of 157] [Loss = 2.0746] [Accuracy = 18.75] [0.044 sec/batch]\u001b[0m\n",
      "\u001b[37m\u001b[01m[2021-05-18 18:41:44,936] [Epoch: 23] [Batch: 0 of 157] [Loss = 2.0857] [Accuracy = 9.38] [0.037 sec/batch]\u001b[0m\n"
     ]
    },
    {
     "name": "stdout",
     "output_type": "stream",
     "text": [
      "Epoch 23\n",
      "-------------------------------\n"
     ]
    },
    {
     "name": "stderr",
     "output_type": "stream",
     "text": [
      "\u001b[37m\u001b[01m[2021-05-18 18:41:45,332] [Epoch: 23] [Batch: 10 of 157] [Loss = 2.0841] [Accuracy = 9.38] [0.037 sec/batch]\u001b[0m\n",
      "\u001b[37m\u001b[01m[2021-05-18 18:41:45,751] [Epoch: 23] [Batch: 20 of 157] [Loss = 2.0758] [Accuracy = 18.75] [0.040 sec/batch]\u001b[0m\n",
      "\u001b[37m\u001b[01m[2021-05-18 18:41:46,170] [Epoch: 23] [Batch: 30 of 157] [Loss = 2.0801] [Accuracy = 9.38] [0.042 sec/batch]\u001b[0m\n",
      "\u001b[37m\u001b[01m[2021-05-18 18:41:46,581] [Epoch: 23] [Batch: 40 of 157] [Loss = 2.0727] [Accuracy = 18.75] [0.038 sec/batch]\u001b[0m\n",
      "\u001b[37m\u001b[01m[2021-05-18 18:41:46,982] [Epoch: 23] [Batch: 50 of 157] [Loss = 2.0864] [Accuracy = 12.50] [0.042 sec/batch]\u001b[0m\n",
      "\u001b[37m\u001b[01m[2021-05-18 18:41:47,358] [Epoch: 23] [Batch: 60 of 157] [Loss = 2.0783] [Accuracy = 15.62] [0.037 sec/batch]\u001b[0m\n",
      "\u001b[37m\u001b[01m[2021-05-18 18:41:47,754] [Epoch: 23] [Batch: 70 of 157] [Loss = 2.0815] [Accuracy = 12.50] [0.041 sec/batch]\u001b[0m\n",
      "\u001b[37m\u001b[01m[2021-05-18 18:41:48,150] [Epoch: 23] [Batch: 80 of 157] [Loss = 2.0792] [Accuracy = 12.50] [0.037 sec/batch]\u001b[0m\n",
      "\u001b[37m\u001b[01m[2021-05-18 18:41:48,547] [Epoch: 23] [Batch: 90 of 157] [Loss = 2.0764] [Accuracy = 21.88] [0.041 sec/batch]\u001b[0m\n",
      "\u001b[37m\u001b[01m[2021-05-18 18:41:48,949] [Epoch: 23] [Batch: 100 of 157] [Loss = 2.0866] [Accuracy = 0.00] [0.039 sec/batch]\u001b[0m\n",
      "\u001b[37m\u001b[01m[2021-05-18 18:41:49,346] [Epoch: 23] [Batch: 110 of 157] [Loss = 2.0717] [Accuracy = 25.00] [0.041 sec/batch]\u001b[0m\n",
      "\u001b[37m\u001b[01m[2021-05-18 18:41:49,741] [Epoch: 23] [Batch: 120 of 157] [Loss = 2.0860] [Accuracy = 9.38] [0.033 sec/batch]\u001b[0m\n",
      "\u001b[37m\u001b[01m[2021-05-18 18:41:50,132] [Epoch: 23] [Batch: 130 of 157] [Loss = 2.0793] [Accuracy = 18.75] [0.040 sec/batch]\u001b[0m\n",
      "\u001b[37m\u001b[01m[2021-05-18 18:41:50,519] [Epoch: 23] [Batch: 140 of 157] [Loss = 2.0728] [Accuracy = 18.75] [0.039 sec/batch]\u001b[0m\n",
      "\u001b[37m\u001b[01m[2021-05-18 18:41:50,899] [Epoch: 23] [Batch: 150 of 157] [Loss = 2.0855] [Accuracy = 9.38] [0.038 sec/batch]\u001b[0m\n",
      "\u001b[37m\u001b[01m[2021-05-18 18:41:51,183] [Epoch: 24] [Batch: 0 of 157] [Loss = 2.0739] [Accuracy = 21.88] [0.040 sec/batch]\u001b[0m\n"
     ]
    },
    {
     "name": "stdout",
     "output_type": "stream",
     "text": [
      "Epoch 24\n",
      "-------------------------------\n"
     ]
    },
    {
     "name": "stderr",
     "output_type": "stream",
     "text": [
      "\u001b[37m\u001b[01m[2021-05-18 18:41:51,583] [Epoch: 24] [Batch: 10 of 157] [Loss = 2.0756] [Accuracy = 25.00] [0.039 sec/batch]\u001b[0m\n",
      "\u001b[37m\u001b[01m[2021-05-18 18:41:51,978] [Epoch: 24] [Batch: 20 of 157] [Loss = 2.0763] [Accuracy = 21.88] [0.043 sec/batch]\u001b[0m\n",
      "\u001b[37m\u001b[01m[2021-05-18 18:41:52,385] [Epoch: 24] [Batch: 30 of 157] [Loss = 2.0783] [Accuracy = 12.50] [0.039 sec/batch]\u001b[0m\n",
      "\u001b[37m\u001b[01m[2021-05-18 18:41:52,777] [Epoch: 24] [Batch: 40 of 157] [Loss = 2.0769] [Accuracy = 25.00] [0.039 sec/batch]\u001b[0m\n",
      "\u001b[37m\u001b[01m[2021-05-18 18:41:53,177] [Epoch: 24] [Batch: 50 of 157] [Loss = 2.0868] [Accuracy = 12.50] [0.039 sec/batch]\u001b[0m\n",
      "\u001b[37m\u001b[01m[2021-05-18 18:41:53,571] [Epoch: 24] [Batch: 60 of 157] [Loss = 2.0782] [Accuracy = 12.50] [0.037 sec/batch]\u001b[0m\n",
      "\u001b[37m\u001b[01m[2021-05-18 18:41:53,962] [Epoch: 24] [Batch: 70 of 157] [Loss = 2.0754] [Accuracy = 12.50] [0.037 sec/batch]\u001b[0m\n",
      "\u001b[37m\u001b[01m[2021-05-18 18:41:54,358] [Epoch: 24] [Batch: 80 of 157] [Loss = 2.0785] [Accuracy = 9.38] [0.039 sec/batch]\u001b[0m\n",
      "\u001b[37m\u001b[01m[2021-05-18 18:41:54,745] [Epoch: 24] [Batch: 90 of 157] [Loss = 2.0770] [Accuracy = 15.62] [0.038 sec/batch]\u001b[0m\n",
      "\u001b[37m\u001b[01m[2021-05-18 18:41:55,139] [Epoch: 24] [Batch: 100 of 157] [Loss = 2.0747] [Accuracy = 12.50] [0.040 sec/batch]\u001b[0m\n",
      "\u001b[37m\u001b[01m[2021-05-18 18:41:55,509] [Epoch: 24] [Batch: 110 of 157] [Loss = 2.0730] [Accuracy = 28.12] [0.038 sec/batch]\u001b[0m\n",
      "\u001b[37m\u001b[01m[2021-05-18 18:41:55,908] [Epoch: 24] [Batch: 120 of 157] [Loss = 2.0773] [Accuracy = 12.50] [0.038 sec/batch]\u001b[0m\n",
      "\u001b[37m\u001b[01m[2021-05-18 18:41:56,282] [Epoch: 24] [Batch: 130 of 157] [Loss = 2.0701] [Accuracy = 15.62] [0.036 sec/batch]\u001b[0m\n",
      "\u001b[37m\u001b[01m[2021-05-18 18:41:56,647] [Epoch: 24] [Batch: 140 of 157] [Loss = 2.0786] [Accuracy = 15.62] [0.039 sec/batch]\u001b[0m\n",
      "\u001b[37m\u001b[01m[2021-05-18 18:41:57,032] [Epoch: 24] [Batch: 150 of 157] [Loss = 2.0826] [Accuracy = 12.50] [0.038 sec/batch]\u001b[0m\n",
      "\u001b[37m\u001b[01m[2021-05-18 18:41:57,301] [Epoch: 25] [Batch: 0 of 157] [Loss = 2.0880] [Accuracy = 9.38] [0.043 sec/batch]\u001b[0m\n"
     ]
    },
    {
     "name": "stdout",
     "output_type": "stream",
     "text": [
      "Epoch 25\n",
      "-------------------------------\n"
     ]
    },
    {
     "name": "stderr",
     "output_type": "stream",
     "text": [
      "\u001b[37m\u001b[01m[2021-05-18 18:41:57,687] [Epoch: 25] [Batch: 10 of 157] [Loss = 2.0769] [Accuracy = 12.50] [0.039 sec/batch]\u001b[0m\n",
      "\u001b[37m\u001b[01m[2021-05-18 18:41:58,073] [Epoch: 25] [Batch: 20 of 157] [Loss = 2.0796] [Accuracy = 18.75] [0.038 sec/batch]\u001b[0m\n",
      "\u001b[37m\u001b[01m[2021-05-18 18:41:58,448] [Epoch: 25] [Batch: 30 of 157] [Loss = 2.0813] [Accuracy = 15.62] [0.038 sec/batch]\u001b[0m\n",
      "\u001b[37m\u001b[01m[2021-05-18 18:41:58,827] [Epoch: 25] [Batch: 40 of 157] [Loss = 2.0825] [Accuracy = 6.25] [0.034 sec/batch]\u001b[0m\n",
      "\u001b[37m\u001b[01m[2021-05-18 18:41:59,202] [Epoch: 25] [Batch: 50 of 157] [Loss = 2.0718] [Accuracy = 37.50] [0.040 sec/batch]\u001b[0m\n",
      "\u001b[37m\u001b[01m[2021-05-18 18:41:59,584] [Epoch: 25] [Batch: 60 of 157] [Loss = 2.0816] [Accuracy = 21.88] [0.040 sec/batch]\u001b[0m\n",
      "\u001b[37m\u001b[01m[2021-05-18 18:41:59,955] [Epoch: 25] [Batch: 70 of 157] [Loss = 2.0852] [Accuracy = 6.25] [0.032 sec/batch]\u001b[0m\n",
      "\u001b[37m\u001b[01m[2021-05-18 18:42:00,321] [Epoch: 25] [Batch: 80 of 157] [Loss = 2.0684] [Accuracy = 18.75] [0.034 sec/batch]\u001b[0m\n",
      "\u001b[37m\u001b[01m[2021-05-18 18:42:00,691] [Epoch: 25] [Batch: 90 of 157] [Loss = 2.0839] [Accuracy = 12.50] [0.039 sec/batch]\u001b[0m\n",
      "\u001b[37m\u001b[01m[2021-05-18 18:42:01,068] [Epoch: 25] [Batch: 100 of 157] [Loss = 2.0797] [Accuracy = 18.75] [0.040 sec/batch]\u001b[0m\n",
      "\u001b[37m\u001b[01m[2021-05-18 18:42:01,449] [Epoch: 25] [Batch: 110 of 157] [Loss = 2.0736] [Accuracy = 15.62] [0.037 sec/batch]\u001b[0m\n",
      "\u001b[37m\u001b[01m[2021-05-18 18:42:01,819] [Epoch: 25] [Batch: 120 of 157] [Loss = 2.0783] [Accuracy = 21.88] [0.032 sec/batch]\u001b[0m\n",
      "\u001b[37m\u001b[01m[2021-05-18 18:42:02,202] [Epoch: 25] [Batch: 130 of 157] [Loss = 2.0681] [Accuracy = 15.62] [0.041 sec/batch]\u001b[0m\n",
      "\u001b[37m\u001b[01m[2021-05-18 18:42:02,606] [Epoch: 25] [Batch: 140 of 157] [Loss = 2.0873] [Accuracy = 9.38] [0.040 sec/batch]\u001b[0m\n",
      "\u001b[37m\u001b[01m[2021-05-18 18:42:02,990] [Epoch: 25] [Batch: 150 of 157] [Loss = 2.0670] [Accuracy = 34.38] [0.041 sec/batch]\u001b[0m\n",
      "\u001b[37m\u001b[01m[2021-05-18 18:42:03,254] [Epoch: 26] [Batch: 0 of 157] [Loss = 2.0789] [Accuracy = 9.38] [0.033 sec/batch]\u001b[0m\n"
     ]
    },
    {
     "name": "stdout",
     "output_type": "stream",
     "text": [
      "Epoch 26\n",
      "-------------------------------\n"
     ]
    },
    {
     "name": "stderr",
     "output_type": "stream",
     "text": [
      "\u001b[37m\u001b[01m[2021-05-18 18:42:03,649] [Epoch: 26] [Batch: 10 of 157] [Loss = 2.0770] [Accuracy = 9.38] [0.039 sec/batch]\u001b[0m\n",
      "\u001b[37m\u001b[01m[2021-05-18 18:42:04,046] [Epoch: 26] [Batch: 20 of 157] [Loss = 2.0793] [Accuracy = 6.25] [0.040 sec/batch]\u001b[0m\n",
      "\u001b[37m\u001b[01m[2021-05-18 18:42:04,442] [Epoch: 26] [Batch: 30 of 157] [Loss = 2.0723] [Accuracy = 25.00] [0.039 sec/batch]\u001b[0m\n",
      "\u001b[37m\u001b[01m[2021-05-18 18:42:04,832] [Epoch: 26] [Batch: 40 of 157] [Loss = 2.0897] [Accuracy = 9.38] [0.037 sec/batch]\u001b[0m\n",
      "\u001b[37m\u001b[01m[2021-05-18 18:42:05,235] [Epoch: 26] [Batch: 50 of 157] [Loss = 2.0738] [Accuracy = 18.75] [0.038 sec/batch]\u001b[0m\n",
      "\u001b[37m\u001b[01m[2021-05-18 18:42:05,613] [Epoch: 26] [Batch: 60 of 157] [Loss = 2.0760] [Accuracy = 15.62] [0.038 sec/batch]\u001b[0m\n",
      "\u001b[37m\u001b[01m[2021-05-18 18:42:06,016] [Epoch: 26] [Batch: 70 of 157] [Loss = 2.0703] [Accuracy = 25.00] [0.039 sec/batch]\u001b[0m\n",
      "\u001b[37m\u001b[01m[2021-05-18 18:42:06,409] [Epoch: 26] [Batch: 80 of 157] [Loss = 2.0824] [Accuracy = 3.12] [0.039 sec/batch]\u001b[0m\n",
      "\u001b[37m\u001b[01m[2021-05-18 18:42:06,803] [Epoch: 26] [Batch: 90 of 157] [Loss = 2.0701] [Accuracy = 28.12] [0.042 sec/batch]\u001b[0m\n",
      "\u001b[37m\u001b[01m[2021-05-18 18:42:07,194] [Epoch: 26] [Batch: 100 of 157] [Loss = 2.0759] [Accuracy = 12.50] [0.040 sec/batch]\u001b[0m\n",
      "\u001b[37m\u001b[01m[2021-05-18 18:42:07,581] [Epoch: 26] [Batch: 110 of 157] [Loss = 2.0785] [Accuracy = 12.50] [0.034 sec/batch]\u001b[0m\n",
      "\u001b[37m\u001b[01m[2021-05-18 18:42:07,969] [Epoch: 26] [Batch: 120 of 157] [Loss = 2.0796] [Accuracy = 9.38] [0.038 sec/batch]\u001b[0m\n",
      "\u001b[37m\u001b[01m[2021-05-18 18:42:08,380] [Epoch: 26] [Batch: 130 of 157] [Loss = 2.0711] [Accuracy = 12.50] [0.044 sec/batch]\u001b[0m\n",
      "\u001b[37m\u001b[01m[2021-05-18 18:42:08,806] [Epoch: 26] [Batch: 140 of 157] [Loss = 2.0699] [Accuracy = 25.00] [0.040 sec/batch]\u001b[0m\n",
      "\u001b[37m\u001b[01m[2021-05-18 18:42:09,240] [Epoch: 26] [Batch: 150 of 157] [Loss = 2.0716] [Accuracy = 21.88] [0.044 sec/batch]\u001b[0m\n",
      "\u001b[37m\u001b[01m[2021-05-18 18:42:09,534] [Epoch: 27] [Batch: 0 of 157] [Loss = 2.0785] [Accuracy = 12.50] [0.039 sec/batch]\u001b[0m\n"
     ]
    },
    {
     "name": "stdout",
     "output_type": "stream",
     "text": [
      "Epoch 27\n",
      "-------------------------------\n"
     ]
    },
    {
     "name": "stderr",
     "output_type": "stream",
     "text": [
      "\u001b[37m\u001b[01m[2021-05-18 18:42:09,939] [Epoch: 27] [Batch: 10 of 157] [Loss = 2.0671] [Accuracy = 25.00] [0.042 sec/batch]\u001b[0m\n",
      "\u001b[37m\u001b[01m[2021-05-18 18:42:10,348] [Epoch: 27] [Batch: 20 of 157] [Loss = 2.0758] [Accuracy = 9.38] [0.037 sec/batch]\u001b[0m\n",
      "\u001b[37m\u001b[01m[2021-05-18 18:42:10,754] [Epoch: 27] [Batch: 30 of 157] [Loss = 2.0840] [Accuracy = 6.25] [0.039 sec/batch]\u001b[0m\n",
      "\u001b[37m\u001b[01m[2021-05-18 18:42:11,149] [Epoch: 27] [Batch: 40 of 157] [Loss = 2.0721] [Accuracy = 18.75] [0.034 sec/batch]\u001b[0m\n",
      "\u001b[37m\u001b[01m[2021-05-18 18:42:11,535] [Epoch: 27] [Batch: 50 of 157] [Loss = 2.0800] [Accuracy = 6.25] [0.041 sec/batch]\u001b[0m\n",
      "\u001b[37m\u001b[01m[2021-05-18 18:42:11,934] [Epoch: 27] [Batch: 60 of 157] [Loss = 2.0761] [Accuracy = 15.62] [0.039 sec/batch]\u001b[0m\n",
      "\u001b[37m\u001b[01m[2021-05-18 18:42:12,353] [Epoch: 27] [Batch: 70 of 157] [Loss = 2.0682] [Accuracy = 12.50] [0.043 sec/batch]\u001b[0m\n",
      "\u001b[37m\u001b[01m[2021-05-18 18:42:12,765] [Epoch: 27] [Batch: 80 of 157] [Loss = 2.0876] [Accuracy = 6.25] [0.041 sec/batch]\u001b[0m\n",
      "\u001b[37m\u001b[01m[2021-05-18 18:42:13,196] [Epoch: 27] [Batch: 90 of 157] [Loss = 2.0665] [Accuracy = 21.88] [0.044 sec/batch]\u001b[0m\n",
      "\u001b[37m\u001b[01m[2021-05-18 18:42:13,612] [Epoch: 27] [Batch: 100 of 157] [Loss = 2.0806] [Accuracy = 18.75] [0.043 sec/batch]\u001b[0m\n",
      "\u001b[37m\u001b[01m[2021-05-18 18:42:14,023] [Epoch: 27] [Batch: 110 of 157] [Loss = 2.0780] [Accuracy = 12.50] [0.036 sec/batch]\u001b[0m\n",
      "\u001b[37m\u001b[01m[2021-05-18 18:42:14,447] [Epoch: 27] [Batch: 120 of 157] [Loss = 2.0815] [Accuracy = 9.38] [0.038 sec/batch]\u001b[0m\n",
      "\u001b[37m\u001b[01m[2021-05-18 18:42:14,839] [Epoch: 27] [Batch: 130 of 157] [Loss = 2.0770] [Accuracy = 12.50] [0.037 sec/batch]\u001b[0m\n",
      "\u001b[37m\u001b[01m[2021-05-18 18:42:15,236] [Epoch: 27] [Batch: 140 of 157] [Loss = 2.0835] [Accuracy = 12.50] [0.037 sec/batch]\u001b[0m\n",
      "\u001b[37m\u001b[01m[2021-05-18 18:42:15,636] [Epoch: 27] [Batch: 150 of 157] [Loss = 2.0833] [Accuracy = 12.50] [0.038 sec/batch]\u001b[0m\n",
      "\u001b[37m\u001b[01m[2021-05-18 18:42:15,917] [Epoch: 28] [Batch: 0 of 157] [Loss = 2.0612] [Accuracy = 28.12] [0.039 sec/batch]\u001b[0m\n"
     ]
    },
    {
     "name": "stdout",
     "output_type": "stream",
     "text": [
      "Epoch 28\n",
      "-------------------------------\n"
     ]
    },
    {
     "name": "stderr",
     "output_type": "stream",
     "text": [
      "\u001b[37m\u001b[01m[2021-05-18 18:42:16,338] [Epoch: 28] [Batch: 10 of 157] [Loss = 2.0720] [Accuracy = 12.50] [0.043 sec/batch]\u001b[0m\n",
      "\u001b[37m\u001b[01m[2021-05-18 18:42:16,775] [Epoch: 28] [Batch: 20 of 157] [Loss = 2.0782] [Accuracy = 9.38] [0.042 sec/batch]\u001b[0m\n",
      "\u001b[37m\u001b[01m[2021-05-18 18:42:17,207] [Epoch: 28] [Batch: 30 of 157] [Loss = 2.0760] [Accuracy = 18.75] [0.043 sec/batch]\u001b[0m\n",
      "\u001b[37m\u001b[01m[2021-05-18 18:42:17,615] [Epoch: 28] [Batch: 40 of 157] [Loss = 2.0713] [Accuracy = 21.88] [0.041 sec/batch]\u001b[0m\n",
      "\u001b[37m\u001b[01m[2021-05-18 18:42:18,016] [Epoch: 28] [Batch: 50 of 157] [Loss = 2.0724] [Accuracy = 18.75] [0.041 sec/batch]\u001b[0m\n",
      "\u001b[37m\u001b[01m[2021-05-18 18:42:18,414] [Epoch: 28] [Batch: 60 of 157] [Loss = 2.0835] [Accuracy = 9.38] [0.040 sec/batch]\u001b[0m\n",
      "\u001b[37m\u001b[01m[2021-05-18 18:42:18,813] [Epoch: 28] [Batch: 70 of 157] [Loss = 2.0755] [Accuracy = 15.62] [0.039 sec/batch]\u001b[0m\n",
      "\u001b[37m\u001b[01m[2021-05-18 18:42:19,211] [Epoch: 28] [Batch: 80 of 157] [Loss = 2.0740] [Accuracy = 12.50] [0.040 sec/batch]\u001b[0m\n",
      "\u001b[37m\u001b[01m[2021-05-18 18:42:19,622] [Epoch: 28] [Batch: 90 of 157] [Loss = 2.0806] [Accuracy = 6.25] [0.039 sec/batch]\u001b[0m\n",
      "\u001b[37m\u001b[01m[2021-05-18 18:42:20,022] [Epoch: 28] [Batch: 100 of 157] [Loss = 2.0686] [Accuracy = 31.25] [0.039 sec/batch]\u001b[0m\n",
      "\u001b[37m\u001b[01m[2021-05-18 18:42:20,426] [Epoch: 28] [Batch: 110 of 157] [Loss = 2.0757] [Accuracy = 15.62] [0.039 sec/batch]\u001b[0m\n",
      "\u001b[37m\u001b[01m[2021-05-18 18:42:20,834] [Epoch: 28] [Batch: 120 of 157] [Loss = 2.0705] [Accuracy = 18.75] [0.039 sec/batch]\u001b[0m\n",
      "\u001b[37m\u001b[01m[2021-05-18 18:42:21,238] [Epoch: 28] [Batch: 130 of 157] [Loss = 2.0761] [Accuracy = 18.75] [0.043 sec/batch]\u001b[0m\n",
      "\u001b[37m\u001b[01m[2021-05-18 18:42:21,651] [Epoch: 28] [Batch: 140 of 157] [Loss = 2.0766] [Accuracy = 12.50] [0.041 sec/batch]\u001b[0m\n",
      "\u001b[37m\u001b[01m[2021-05-18 18:42:22,060] [Epoch: 28] [Batch: 150 of 157] [Loss = 2.0754] [Accuracy = 21.88] [0.039 sec/batch]\u001b[0m\n",
      "\u001b[37m\u001b[01m[2021-05-18 18:42:22,350] [Epoch: 29] [Batch: 0 of 157] [Loss = 2.0788] [Accuracy = 15.62] [0.042 sec/batch]\u001b[0m\n"
     ]
    },
    {
     "name": "stdout",
     "output_type": "stream",
     "text": [
      "Epoch 29\n",
      "-------------------------------\n"
     ]
    },
    {
     "name": "stderr",
     "output_type": "stream",
     "text": [
      "\u001b[37m\u001b[01m[2021-05-18 18:42:22,762] [Epoch: 29] [Batch: 10 of 157] [Loss = 2.0694] [Accuracy = 25.00] [0.038 sec/batch]\u001b[0m\n",
      "\u001b[37m\u001b[01m[2021-05-18 18:42:23,186] [Epoch: 29] [Batch: 20 of 157] [Loss = 2.0837] [Accuracy = 3.12] [0.042 sec/batch]\u001b[0m\n",
      "\u001b[37m\u001b[01m[2021-05-18 18:42:23,608] [Epoch: 29] [Batch: 30 of 157] [Loss = 2.0765] [Accuracy = 18.75] [0.037 sec/batch]\u001b[0m\n",
      "\u001b[37m\u001b[01m[2021-05-18 18:42:24,031] [Epoch: 29] [Batch: 40 of 157] [Loss = 2.0806] [Accuracy = 18.75] [0.039 sec/batch]\u001b[0m\n",
      "\u001b[37m\u001b[01m[2021-05-18 18:42:24,442] [Epoch: 29] [Batch: 50 of 157] [Loss = 2.0877] [Accuracy = 9.38] [0.043 sec/batch]\u001b[0m\n",
      "\u001b[37m\u001b[01m[2021-05-18 18:42:24,855] [Epoch: 29] [Batch: 60 of 157] [Loss = 2.0779] [Accuracy = 9.38] [0.042 sec/batch]\u001b[0m\n",
      "\u001b[37m\u001b[01m[2021-05-18 18:42:25,278] [Epoch: 29] [Batch: 70 of 157] [Loss = 2.0733] [Accuracy = 12.50] [0.039 sec/batch]\u001b[0m\n",
      "\u001b[37m\u001b[01m[2021-05-18 18:42:25,702] [Epoch: 29] [Batch: 80 of 157] [Loss = 2.0768] [Accuracy = 9.38] [0.041 sec/batch]\u001b[0m\n",
      "\u001b[37m\u001b[01m[2021-05-18 18:42:26,104] [Epoch: 29] [Batch: 90 of 157] [Loss = 2.0908] [Accuracy = 12.50] [0.039 sec/batch]\u001b[0m\n",
      "\u001b[37m\u001b[01m[2021-05-18 18:42:26,499] [Epoch: 29] [Batch: 100 of 157] [Loss = 2.0879] [Accuracy = 12.50] [0.042 sec/batch]\u001b[0m\n",
      "\u001b[37m\u001b[01m[2021-05-18 18:42:26,885] [Epoch: 29] [Batch: 110 of 157] [Loss = 2.0808] [Accuracy = 9.38] [0.035 sec/batch]\u001b[0m\n",
      "\u001b[37m\u001b[01m[2021-05-18 18:42:27,275] [Epoch: 29] [Batch: 120 of 157] [Loss = 2.0841] [Accuracy = 6.25] [0.037 sec/batch]\u001b[0m\n",
      "\u001b[37m\u001b[01m[2021-05-18 18:42:27,685] [Epoch: 29] [Batch: 130 of 157] [Loss = 2.0857] [Accuracy = 12.50] [0.039 sec/batch]\u001b[0m\n",
      "\u001b[37m\u001b[01m[2021-05-18 18:42:28,071] [Epoch: 29] [Batch: 140 of 157] [Loss = 2.0768] [Accuracy = 15.62] [0.041 sec/batch]\u001b[0m\n",
      "\u001b[37m\u001b[01m[2021-05-18 18:42:28,462] [Epoch: 29] [Batch: 150 of 157] [Loss = 2.0705] [Accuracy = 18.75] [0.035 sec/batch]\u001b[0m\n",
      "\u001b[37m\u001b[01m[2021-05-18 18:42:28,752] [Epoch: 30] [Batch: 0 of 157] [Loss = 2.0732] [Accuracy = 15.62] [0.037 sec/batch]\u001b[0m\n"
     ]
    },
    {
     "name": "stdout",
     "output_type": "stream",
     "text": [
      "Epoch 30\n",
      "-------------------------------\n"
     ]
    },
    {
     "name": "stderr",
     "output_type": "stream",
     "text": [
      "\u001b[37m\u001b[01m[2021-05-18 18:42:29,148] [Epoch: 30] [Batch: 10 of 157] [Loss = 2.0805] [Accuracy = 18.75] [0.040 sec/batch]\u001b[0m\n",
      "\u001b[37m\u001b[01m[2021-05-18 18:42:29,542] [Epoch: 30] [Batch: 20 of 157] [Loss = 2.0812] [Accuracy = 15.62] [0.047 sec/batch]\u001b[0m\n",
      "\u001b[37m\u001b[01m[2021-05-18 18:42:29,943] [Epoch: 30] [Batch: 30 of 157] [Loss = 2.0790] [Accuracy = 6.25] [0.038 sec/batch]\u001b[0m\n",
      "\u001b[37m\u001b[01m[2021-05-18 18:42:30,346] [Epoch: 30] [Batch: 40 of 157] [Loss = 2.0860] [Accuracy = 6.25] [0.038 sec/batch]\u001b[0m\n",
      "\u001b[37m\u001b[01m[2021-05-18 18:42:30,745] [Epoch: 30] [Batch: 50 of 157] [Loss = 2.0761] [Accuracy = 18.75] [0.040 sec/batch]\u001b[0m\n",
      "\u001b[37m\u001b[01m[2021-05-18 18:42:31,140] [Epoch: 30] [Batch: 60 of 157] [Loss = 2.0718] [Accuracy = 15.62] [0.037 sec/batch]\u001b[0m\n",
      "\u001b[37m\u001b[01m[2021-05-18 18:42:31,538] [Epoch: 30] [Batch: 70 of 157] [Loss = 2.0728] [Accuracy = 12.50] [0.036 sec/batch]\u001b[0m\n",
      "\u001b[37m\u001b[01m[2021-05-18 18:42:31,922] [Epoch: 30] [Batch: 80 of 157] [Loss = 2.0858] [Accuracy = 9.38] [0.038 sec/batch]\u001b[0m\n",
      "\u001b[37m\u001b[01m[2021-05-18 18:42:32,314] [Epoch: 30] [Batch: 90 of 157] [Loss = 2.0706] [Accuracy = 18.75] [0.038 sec/batch]\u001b[0m\n",
      "\u001b[37m\u001b[01m[2021-05-18 18:42:32,713] [Epoch: 30] [Batch: 100 of 157] [Loss = 2.0767] [Accuracy = 21.88] [0.041 sec/batch]\u001b[0m\n",
      "\u001b[37m\u001b[01m[2021-05-18 18:42:33,114] [Epoch: 30] [Batch: 110 of 157] [Loss = 2.0665] [Accuracy = 15.62] [0.038 sec/batch]\u001b[0m\n",
      "\u001b[37m\u001b[01m[2021-05-18 18:42:33,510] [Epoch: 30] [Batch: 120 of 157] [Loss = 2.0774] [Accuracy = 12.50] [0.037 sec/batch]\u001b[0m\n",
      "\u001b[37m\u001b[01m[2021-05-18 18:42:33,923] [Epoch: 30] [Batch: 130 of 157] [Loss = 2.0846] [Accuracy = 12.50] [0.043 sec/batch]\u001b[0m\n",
      "\u001b[37m\u001b[01m[2021-05-18 18:42:34,333] [Epoch: 30] [Batch: 140 of 157] [Loss = 2.0801] [Accuracy = 15.62] [0.042 sec/batch]\u001b[0m\n",
      "\u001b[37m\u001b[01m[2021-05-18 18:42:34,733] [Epoch: 30] [Batch: 150 of 157] [Loss = 2.0815] [Accuracy = 3.12] [0.040 sec/batch]\u001b[0m\n",
      "\u001b[37m\u001b[01m[2021-05-18 18:42:35,012] [Epoch: 31] [Batch: 0 of 157] [Loss = 2.0777] [Accuracy = 15.62] [0.042 sec/batch]\u001b[0m\n"
     ]
    },
    {
     "name": "stdout",
     "output_type": "stream",
     "text": [
      "Epoch 31\n",
      "-------------------------------\n"
     ]
    },
    {
     "name": "stderr",
     "output_type": "stream",
     "text": [
      "\u001b[37m\u001b[01m[2021-05-18 18:42:35,436] [Epoch: 31] [Batch: 10 of 157] [Loss = 2.0796] [Accuracy = 21.88] [0.043 sec/batch]\u001b[0m\n",
      "\u001b[37m\u001b[01m[2021-05-18 18:42:35,862] [Epoch: 31] [Batch: 20 of 157] [Loss = 2.0747] [Accuracy = 15.62] [0.042 sec/batch]\u001b[0m\n",
      "\u001b[37m\u001b[01m[2021-05-18 18:42:36,275] [Epoch: 31] [Batch: 30 of 157] [Loss = 2.0753] [Accuracy = 9.38] [0.040 sec/batch]\u001b[0m\n",
      "\u001b[37m\u001b[01m[2021-05-18 18:42:36,690] [Epoch: 31] [Batch: 40 of 157] [Loss = 2.0729] [Accuracy = 12.50] [0.036 sec/batch]\u001b[0m\n",
      "\u001b[37m\u001b[01m[2021-05-18 18:42:37,102] [Epoch: 31] [Batch: 50 of 157] [Loss = 2.0708] [Accuracy = 21.88] [0.042 sec/batch]\u001b[0m\n",
      "\u001b[37m\u001b[01m[2021-05-18 18:42:37,504] [Epoch: 31] [Batch: 60 of 157] [Loss = 2.0791] [Accuracy = 9.38] [0.040 sec/batch]\u001b[0m\n",
      "\u001b[37m\u001b[01m[2021-05-18 18:42:37,906] [Epoch: 31] [Batch: 70 of 157] [Loss = 2.0704] [Accuracy = 9.38] [0.039 sec/batch]\u001b[0m\n",
      "\u001b[37m\u001b[01m[2021-05-18 18:42:38,325] [Epoch: 31] [Batch: 80 of 157] [Loss = 2.0885] [Accuracy = 6.25] [0.040 sec/batch]\u001b[0m\n",
      "\u001b[37m\u001b[01m[2021-05-18 18:42:38,746] [Epoch: 31] [Batch: 90 of 157] [Loss = 2.0714] [Accuracy = 12.50] [0.039 sec/batch]\u001b[0m\n",
      "\u001b[37m\u001b[01m[2021-05-18 18:42:39,180] [Epoch: 31] [Batch: 100 of 157] [Loss = 2.0710] [Accuracy = 21.88] [0.040 sec/batch]\u001b[0m\n",
      "\u001b[37m\u001b[01m[2021-05-18 18:42:39,603] [Epoch: 31] [Batch: 110 of 157] [Loss = 2.0716] [Accuracy = 15.62] [0.043 sec/batch]\u001b[0m\n",
      "\u001b[37m\u001b[01m[2021-05-18 18:42:40,019] [Epoch: 31] [Batch: 120 of 157] [Loss = 2.0812] [Accuracy = 6.25] [0.042 sec/batch]\u001b[0m\n",
      "\u001b[37m\u001b[01m[2021-05-18 18:42:40,445] [Epoch: 31] [Batch: 130 of 157] [Loss = 2.0770] [Accuracy = 12.50] [0.043 sec/batch]\u001b[0m\n",
      "\u001b[37m\u001b[01m[2021-05-18 18:42:40,869] [Epoch: 31] [Batch: 140 of 157] [Loss = 2.0786] [Accuracy = 21.88] [0.040 sec/batch]\u001b[0m\n",
      "\u001b[37m\u001b[01m[2021-05-18 18:42:41,277] [Epoch: 31] [Batch: 150 of 157] [Loss = 2.0821] [Accuracy = 12.50] [0.043 sec/batch]\u001b[0m\n",
      "\u001b[37m\u001b[01m[2021-05-18 18:42:41,574] [Epoch: 32] [Batch: 0 of 157] [Loss = 2.0844] [Accuracy = 6.25] [0.040 sec/batch]\u001b[0m\n"
     ]
    },
    {
     "name": "stdout",
     "output_type": "stream",
     "text": [
      "Epoch 32\n",
      "-------------------------------\n"
     ]
    },
    {
     "name": "stderr",
     "output_type": "stream",
     "text": [
      "\u001b[37m\u001b[01m[2021-05-18 18:42:41,993] [Epoch: 32] [Batch: 10 of 157] [Loss = 2.0808] [Accuracy = 9.38] [0.043 sec/batch]\u001b[0m\n",
      "\u001b[37m\u001b[01m[2021-05-18 18:42:42,399] [Epoch: 32] [Batch: 20 of 157] [Loss = 2.0758] [Accuracy = 12.50] [0.041 sec/batch]\u001b[0m\n",
      "\u001b[37m\u001b[01m[2021-05-18 18:42:42,818] [Epoch: 32] [Batch: 30 of 157] [Loss = 2.0687] [Accuracy = 18.75] [0.041 sec/batch]\u001b[0m\n",
      "\u001b[37m\u001b[01m[2021-05-18 18:42:43,223] [Epoch: 32] [Batch: 40 of 157] [Loss = 2.0800] [Accuracy = 18.75] [0.039 sec/batch]\u001b[0m\n",
      "\u001b[37m\u001b[01m[2021-05-18 18:42:43,630] [Epoch: 32] [Batch: 50 of 157] [Loss = 2.0741] [Accuracy = 12.50] [0.042 sec/batch]\u001b[0m\n",
      "\u001b[37m\u001b[01m[2021-05-18 18:42:44,045] [Epoch: 32] [Batch: 60 of 157] [Loss = 2.0724] [Accuracy = 12.50] [0.040 sec/batch]\u001b[0m\n",
      "\u001b[37m\u001b[01m[2021-05-18 18:42:44,454] [Epoch: 32] [Batch: 70 of 157] [Loss = 2.0811] [Accuracy = 12.50] [0.042 sec/batch]\u001b[0m\n",
      "\u001b[37m\u001b[01m[2021-05-18 18:42:44,888] [Epoch: 32] [Batch: 80 of 157] [Loss = 2.0746] [Accuracy = 15.62] [0.044 sec/batch]\u001b[0m\n",
      "\u001b[37m\u001b[01m[2021-05-18 18:42:45,300] [Epoch: 32] [Batch: 90 of 157] [Loss = 2.0829] [Accuracy = 18.75] [0.044 sec/batch]\u001b[0m\n",
      "\u001b[37m\u001b[01m[2021-05-18 18:42:45,721] [Epoch: 32] [Batch: 100 of 157] [Loss = 2.0924] [Accuracy = 6.25] [0.041 sec/batch]\u001b[0m\n",
      "\u001b[37m\u001b[01m[2021-05-18 18:42:46,130] [Epoch: 32] [Batch: 110 of 157] [Loss = 2.0833] [Accuracy = 9.38] [0.038 sec/batch]\u001b[0m\n",
      "\u001b[37m\u001b[01m[2021-05-18 18:42:46,547] [Epoch: 32] [Batch: 120 of 157] [Loss = 2.0643] [Accuracy = 15.62] [0.041 sec/batch]\u001b[0m\n",
      "\u001b[37m\u001b[01m[2021-05-18 18:42:46,951] [Epoch: 32] [Batch: 130 of 157] [Loss = 2.0893] [Accuracy = 3.12] [0.039 sec/batch]\u001b[0m\n",
      "\u001b[37m\u001b[01m[2021-05-18 18:42:47,349] [Epoch: 32] [Batch: 140 of 157] [Loss = 2.0843] [Accuracy = 6.25] [0.040 sec/batch]\u001b[0m\n",
      "\u001b[37m\u001b[01m[2021-05-18 18:42:47,753] [Epoch: 32] [Batch: 150 of 157] [Loss = 2.0722] [Accuracy = 18.75] [0.038 sec/batch]\u001b[0m\n",
      "\u001b[37m\u001b[01m[2021-05-18 18:42:48,025] [Epoch: 33] [Batch: 0 of 157] [Loss = 2.0753] [Accuracy = 18.75] [0.034 sec/batch]\u001b[0m\n"
     ]
    },
    {
     "name": "stdout",
     "output_type": "stream",
     "text": [
      "Epoch 33\n",
      "-------------------------------\n"
     ]
    },
    {
     "name": "stderr",
     "output_type": "stream",
     "text": [
      "\u001b[37m\u001b[01m[2021-05-18 18:42:48,424] [Epoch: 33] [Batch: 10 of 157] [Loss = 2.0754] [Accuracy = 15.62] [0.044 sec/batch]\u001b[0m\n",
      "\u001b[37m\u001b[01m[2021-05-18 18:42:48,818] [Epoch: 33] [Batch: 20 of 157] [Loss = 2.0678] [Accuracy = 21.88] [0.042 sec/batch]\u001b[0m\n",
      "\u001b[37m\u001b[01m[2021-05-18 18:42:49,243] [Epoch: 33] [Batch: 30 of 157] [Loss = 2.0744] [Accuracy = 15.62] [0.040 sec/batch]\u001b[0m\n",
      "\u001b[37m\u001b[01m[2021-05-18 18:42:49,646] [Epoch: 33] [Batch: 40 of 157] [Loss = 2.0737] [Accuracy = 18.75] [0.038 sec/batch]\u001b[0m\n",
      "\u001b[37m\u001b[01m[2021-05-18 18:42:50,029] [Epoch: 33] [Batch: 50 of 157] [Loss = 2.0657] [Accuracy = 25.00] [0.043 sec/batch]\u001b[0m\n",
      "\u001b[37m\u001b[01m[2021-05-18 18:42:50,421] [Epoch: 33] [Batch: 60 of 157] [Loss = 2.0733] [Accuracy = 15.62] [0.038 sec/batch]\u001b[0m\n",
      "\u001b[37m\u001b[01m[2021-05-18 18:42:50,823] [Epoch: 33] [Batch: 70 of 157] [Loss = 2.0833] [Accuracy = 6.25] [0.041 sec/batch]\u001b[0m\n",
      "\u001b[37m\u001b[01m[2021-05-18 18:42:51,233] [Epoch: 33] [Batch: 80 of 157] [Loss = 2.0692] [Accuracy = 21.88] [0.038 sec/batch]\u001b[0m\n",
      "\u001b[37m\u001b[01m[2021-05-18 18:42:51,638] [Epoch: 33] [Batch: 90 of 157] [Loss = 2.0705] [Accuracy = 25.00] [0.038 sec/batch]\u001b[0m\n",
      "\u001b[37m\u001b[01m[2021-05-18 18:42:52,051] [Epoch: 33] [Batch: 100 of 157] [Loss = 2.0836] [Accuracy = 6.25] [0.040 sec/batch]\u001b[0m\n",
      "\u001b[37m\u001b[01m[2021-05-18 18:42:52,454] [Epoch: 33] [Batch: 110 of 157] [Loss = 2.0777] [Accuracy = 12.50] [0.039 sec/batch]\u001b[0m\n",
      "\u001b[37m\u001b[01m[2021-05-18 18:42:52,863] [Epoch: 33] [Batch: 120 of 157] [Loss = 2.0765] [Accuracy = 12.50] [0.041 sec/batch]\u001b[0m\n",
      "\u001b[37m\u001b[01m[2021-05-18 18:42:53,263] [Epoch: 33] [Batch: 130 of 157] [Loss = 2.0830] [Accuracy = 12.50] [0.038 sec/batch]\u001b[0m\n",
      "\u001b[37m\u001b[01m[2021-05-18 18:42:53,678] [Epoch: 33] [Batch: 140 of 157] [Loss = 2.0748] [Accuracy = 12.50] [0.038 sec/batch]\u001b[0m\n",
      "\u001b[37m\u001b[01m[2021-05-18 18:42:54,090] [Epoch: 33] [Batch: 150 of 157] [Loss = 2.0867] [Accuracy = 6.25] [0.040 sec/batch]\u001b[0m\n",
      "\u001b[37m\u001b[01m[2021-05-18 18:42:54,361] [Epoch: 34] [Batch: 0 of 157] [Loss = 2.0819] [Accuracy = 12.50] [0.033 sec/batch]\u001b[0m\n"
     ]
    },
    {
     "name": "stdout",
     "output_type": "stream",
     "text": [
      "Epoch 34\n",
      "-------------------------------\n"
     ]
    },
    {
     "name": "stderr",
     "output_type": "stream",
     "text": [
      "\u001b[37m\u001b[01m[2021-05-18 18:42:54,744] [Epoch: 34] [Batch: 10 of 157] [Loss = 2.0895] [Accuracy = 6.25] [0.040 sec/batch]\u001b[0m\n",
      "\u001b[37m\u001b[01m[2021-05-18 18:42:55,143] [Epoch: 34] [Batch: 20 of 157] [Loss = 2.0766] [Accuracy = 18.75] [0.039 sec/batch]\u001b[0m\n",
      "\u001b[37m\u001b[01m[2021-05-18 18:42:55,547] [Epoch: 34] [Batch: 30 of 157] [Loss = 2.0798] [Accuracy = 12.50] [0.039 sec/batch]\u001b[0m\n",
      "\u001b[37m\u001b[01m[2021-05-18 18:42:55,946] [Epoch: 34] [Batch: 40 of 157] [Loss = 2.0832] [Accuracy = 9.38] [0.039 sec/batch]\u001b[0m\n",
      "\u001b[37m\u001b[01m[2021-05-18 18:42:56,353] [Epoch: 34] [Batch: 50 of 157] [Loss = 2.0750] [Accuracy = 15.62] [0.042 sec/batch]\u001b[0m\n",
      "\u001b[37m\u001b[01m[2021-05-18 18:42:56,774] [Epoch: 34] [Batch: 60 of 157] [Loss = 2.0679] [Accuracy = 31.25] [0.040 sec/batch]\u001b[0m\n",
      "\u001b[37m\u001b[01m[2021-05-18 18:42:57,174] [Epoch: 34] [Batch: 70 of 157] [Loss = 2.0718] [Accuracy = 21.88] [0.038 sec/batch]\u001b[0m\n",
      "\u001b[37m\u001b[01m[2021-05-18 18:42:57,585] [Epoch: 34] [Batch: 80 of 157] [Loss = 2.0736] [Accuracy = 9.38] [0.039 sec/batch]\u001b[0m\n",
      "\u001b[37m\u001b[01m[2021-05-18 18:42:57,991] [Epoch: 34] [Batch: 90 of 157] [Loss = 2.0717] [Accuracy = 21.88] [0.041 sec/batch]\u001b[0m\n",
      "\u001b[37m\u001b[01m[2021-05-18 18:42:58,403] [Epoch: 34] [Batch: 100 of 157] [Loss = 2.0713] [Accuracy = 18.75] [0.038 sec/batch]\u001b[0m\n",
      "\u001b[37m\u001b[01m[2021-05-18 18:42:58,801] [Epoch: 34] [Batch: 110 of 157] [Loss = 2.0878] [Accuracy = 12.50] [0.034 sec/batch]\u001b[0m\n",
      "\u001b[37m\u001b[01m[2021-05-18 18:42:59,200] [Epoch: 34] [Batch: 120 of 157] [Loss = 2.0809] [Accuracy = 15.62] [0.038 sec/batch]\u001b[0m\n",
      "\u001b[37m\u001b[01m[2021-05-18 18:42:59,614] [Epoch: 34] [Batch: 130 of 157] [Loss = 2.0803] [Accuracy = 9.38] [0.043 sec/batch]\u001b[0m\n",
      "\u001b[37m\u001b[01m[2021-05-18 18:43:00,020] [Epoch: 34] [Batch: 140 of 157] [Loss = 2.0839] [Accuracy = 6.25] [0.037 sec/batch]\u001b[0m\n",
      "\u001b[37m\u001b[01m[2021-05-18 18:43:00,429] [Epoch: 34] [Batch: 150 of 157] [Loss = 2.0837] [Accuracy = 6.25] [0.040 sec/batch]\u001b[0m\n",
      "\u001b[37m\u001b[01m[2021-05-18 18:43:00,715] [Epoch: 35] [Batch: 0 of 157] [Loss = 2.0856] [Accuracy = 6.25] [0.039 sec/batch]\u001b[0m\n"
     ]
    },
    {
     "name": "stdout",
     "output_type": "stream",
     "text": [
      "Epoch 35\n",
      "-------------------------------\n"
     ]
    },
    {
     "name": "stderr",
     "output_type": "stream",
     "text": [
      "\u001b[37m\u001b[01m[2021-05-18 18:43:01,127] [Epoch: 35] [Batch: 10 of 157] [Loss = 2.0770] [Accuracy = 9.38] [0.040 sec/batch]\u001b[0m\n",
      "\u001b[37m\u001b[01m[2021-05-18 18:43:01,534] [Epoch: 35] [Batch: 20 of 157] [Loss = 2.0760] [Accuracy = 18.75] [0.040 sec/batch]\u001b[0m\n",
      "\u001b[37m\u001b[01m[2021-05-18 18:43:01,949] [Epoch: 35] [Batch: 30 of 157] [Loss = 2.0699] [Accuracy = 15.62] [0.042 sec/batch]\u001b[0m\n",
      "\u001b[37m\u001b[01m[2021-05-18 18:43:02,354] [Epoch: 35] [Batch: 40 of 157] [Loss = 2.0852] [Accuracy = 15.62] [0.040 sec/batch]\u001b[0m\n",
      "\u001b[37m\u001b[01m[2021-05-18 18:43:02,766] [Epoch: 35] [Batch: 50 of 157] [Loss = 2.0808] [Accuracy = 6.25] [0.040 sec/batch]\u001b[0m\n",
      "\u001b[37m\u001b[01m[2021-05-18 18:43:03,159] [Epoch: 35] [Batch: 60 of 157] [Loss = 2.0818] [Accuracy = 9.38] [0.034 sec/batch]\u001b[0m\n",
      "\u001b[37m\u001b[01m[2021-05-18 18:43:03,554] [Epoch: 35] [Batch: 70 of 157] [Loss = 2.0792] [Accuracy = 18.75] [0.037 sec/batch]\u001b[0m\n",
      "\u001b[37m\u001b[01m[2021-05-18 18:43:03,967] [Epoch: 35] [Batch: 80 of 157] [Loss = 2.0750] [Accuracy = 15.62] [0.040 sec/batch]\u001b[0m\n",
      "\u001b[37m\u001b[01m[2021-05-18 18:43:04,371] [Epoch: 35] [Batch: 90 of 157] [Loss = 2.0817] [Accuracy = 12.50] [0.040 sec/batch]\u001b[0m\n",
      "\u001b[37m\u001b[01m[2021-05-18 18:43:04,762] [Epoch: 35] [Batch: 100 of 157] [Loss = 2.0804] [Accuracy = 9.38] [0.034 sec/batch]\u001b[0m\n",
      "\u001b[37m\u001b[01m[2021-05-18 18:43:05,108] [Epoch: 35] [Batch: 110 of 157] [Loss = 2.0773] [Accuracy = 12.50] [0.033 sec/batch]\u001b[0m\n",
      "\u001b[37m\u001b[01m[2021-05-18 18:43:05,457] [Epoch: 35] [Batch: 120 of 157] [Loss = 2.0750] [Accuracy = 12.50] [0.033 sec/batch]\u001b[0m\n",
      "\u001b[37m\u001b[01m[2021-05-18 18:43:05,803] [Epoch: 35] [Batch: 130 of 157] [Loss = 2.0812] [Accuracy = 9.38] [0.033 sec/batch]\u001b[0m\n",
      "\u001b[37m\u001b[01m[2021-05-18 18:43:06,148] [Epoch: 35] [Batch: 140 of 157] [Loss = 2.0889] [Accuracy = 3.12] [0.033 sec/batch]\u001b[0m\n",
      "\u001b[37m\u001b[01m[2021-05-18 18:43:06,555] [Epoch: 35] [Batch: 150 of 157] [Loss = 2.0701] [Accuracy = 21.88] [0.039 sec/batch]\u001b[0m\n",
      "\u001b[37m\u001b[01m[2021-05-18 18:43:06,843] [Epoch: 36] [Batch: 0 of 157] [Loss = 2.0765] [Accuracy = 15.62] [0.039 sec/batch]\u001b[0m\n"
     ]
    },
    {
     "name": "stdout",
     "output_type": "stream",
     "text": [
      "Epoch 36\n",
      "-------------------------------\n"
     ]
    },
    {
     "name": "stderr",
     "output_type": "stream",
     "text": [
      "\u001b[37m\u001b[01m[2021-05-18 18:43:07,275] [Epoch: 36] [Batch: 10 of 157] [Loss = 2.0879] [Accuracy = 12.50] [0.043 sec/batch]\u001b[0m\n",
      "\u001b[37m\u001b[01m[2021-05-18 18:43:07,702] [Epoch: 36] [Batch: 20 of 157] [Loss = 2.0805] [Accuracy = 12.50] [0.042 sec/batch]\u001b[0m\n",
      "\u001b[37m\u001b[01m[2021-05-18 18:43:08,122] [Epoch: 36] [Batch: 30 of 157] [Loss = 2.0854] [Accuracy = 6.25] [0.042 sec/batch]\u001b[0m\n",
      "\u001b[37m\u001b[01m[2021-05-18 18:43:08,542] [Epoch: 36] [Batch: 40 of 157] [Loss = 2.0814] [Accuracy = 9.38] [0.038 sec/batch]\u001b[0m\n",
      "\u001b[37m\u001b[01m[2021-05-18 18:43:08,959] [Epoch: 36] [Batch: 50 of 157] [Loss = 2.0804] [Accuracy = 15.62] [0.040 sec/batch]\u001b[0m\n",
      "\u001b[37m\u001b[01m[2021-05-18 18:43:09,358] [Epoch: 36] [Batch: 60 of 157] [Loss = 2.0728] [Accuracy = 12.50] [0.039 sec/batch]\u001b[0m\n",
      "\u001b[37m\u001b[01m[2021-05-18 18:43:09,767] [Epoch: 36] [Batch: 70 of 157] [Loss = 2.0704] [Accuracy = 15.62] [0.039 sec/batch]\u001b[0m\n",
      "\u001b[37m\u001b[01m[2021-05-18 18:43:10,184] [Epoch: 36] [Batch: 80 of 157] [Loss = 2.0832] [Accuracy = 6.25] [0.037 sec/batch]\u001b[0m\n",
      "\u001b[37m\u001b[01m[2021-05-18 18:43:10,582] [Epoch: 36] [Batch: 90 of 157] [Loss = 2.0693] [Accuracy = 12.50] [0.038 sec/batch]\u001b[0m\n",
      "\u001b[37m\u001b[01m[2021-05-18 18:43:11,003] [Epoch: 36] [Batch: 100 of 157] [Loss = 2.0903] [Accuracy = 3.12] [0.040 sec/batch]\u001b[0m\n",
      "\u001b[37m\u001b[01m[2021-05-18 18:43:11,408] [Epoch: 36] [Batch: 110 of 157] [Loss = 2.0863] [Accuracy = 9.38] [0.043 sec/batch]\u001b[0m\n",
      "\u001b[37m\u001b[01m[2021-05-18 18:43:11,811] [Epoch: 36] [Batch: 120 of 157] [Loss = 2.0679] [Accuracy = 15.62] [0.040 sec/batch]\u001b[0m\n",
      "\u001b[37m\u001b[01m[2021-05-18 18:43:12,218] [Epoch: 36] [Batch: 130 of 157] [Loss = 2.0713] [Accuracy = 18.75] [0.039 sec/batch]\u001b[0m\n",
      "\u001b[37m\u001b[01m[2021-05-18 18:43:12,645] [Epoch: 36] [Batch: 140 of 157] [Loss = 2.0902] [Accuracy = 3.12] [0.041 sec/batch]\u001b[0m\n",
      "\u001b[37m\u001b[01m[2021-05-18 18:43:13,065] [Epoch: 36] [Batch: 150 of 157] [Loss = 2.0800] [Accuracy = 6.25] [0.033 sec/batch]\u001b[0m\n",
      "\u001b[37m\u001b[01m[2021-05-18 18:43:13,346] [Epoch: 37] [Batch: 0 of 157] [Loss = 2.0764] [Accuracy = 12.50] [0.038 sec/batch]\u001b[0m\n"
     ]
    },
    {
     "name": "stdout",
     "output_type": "stream",
     "text": [
      "Epoch 37\n",
      "-------------------------------\n"
     ]
    },
    {
     "name": "stderr",
     "output_type": "stream",
     "text": [
      "\u001b[37m\u001b[01m[2021-05-18 18:43:13,740] [Epoch: 37] [Batch: 10 of 157] [Loss = 2.0882] [Accuracy = 6.25] [0.036 sec/batch]\u001b[0m\n",
      "\u001b[37m\u001b[01m[2021-05-18 18:43:14,134] [Epoch: 37] [Batch: 20 of 157] [Loss = 2.0825] [Accuracy = 15.62] [0.040 sec/batch]\u001b[0m\n",
      "\u001b[37m\u001b[01m[2021-05-18 18:43:14,540] [Epoch: 37] [Batch: 30 of 157] [Loss = 2.0736] [Accuracy = 15.62] [0.039 sec/batch]\u001b[0m\n",
      "\u001b[37m\u001b[01m[2021-05-18 18:43:14,928] [Epoch: 37] [Batch: 40 of 157] [Loss = 2.0877] [Accuracy = 12.50] [0.033 sec/batch]\u001b[0m\n",
      "\u001b[37m\u001b[01m[2021-05-18 18:43:15,336] [Epoch: 37] [Batch: 50 of 157] [Loss = 2.0701] [Accuracy = 18.75] [0.043 sec/batch]\u001b[0m\n",
      "\u001b[37m\u001b[01m[2021-05-18 18:43:15,742] [Epoch: 37] [Batch: 60 of 157] [Loss = 2.0734] [Accuracy = 21.88] [0.040 sec/batch]\u001b[0m\n",
      "\u001b[37m\u001b[01m[2021-05-18 18:43:16,142] [Epoch: 37] [Batch: 70 of 157] [Loss = 2.0804] [Accuracy = 12.50] [0.039 sec/batch]\u001b[0m\n",
      "\u001b[37m\u001b[01m[2021-05-18 18:43:16,562] [Epoch: 37] [Batch: 80 of 157] [Loss = 2.0798] [Accuracy = 12.50] [0.038 sec/batch]\u001b[0m\n",
      "\u001b[37m\u001b[01m[2021-05-18 18:43:16,974] [Epoch: 37] [Batch: 90 of 157] [Loss = 2.0760] [Accuracy = 15.62] [0.041 sec/batch]\u001b[0m\n",
      "\u001b[37m\u001b[01m[2021-05-18 18:43:17,385] [Epoch: 37] [Batch: 100 of 157] [Loss = 2.0806] [Accuracy = 15.62] [0.042 sec/batch]\u001b[0m\n",
      "\u001b[37m\u001b[01m[2021-05-18 18:43:17,806] [Epoch: 37] [Batch: 110 of 157] [Loss = 2.0765] [Accuracy = 15.62] [0.042 sec/batch]\u001b[0m\n",
      "\u001b[37m\u001b[01m[2021-05-18 18:43:18,209] [Epoch: 37] [Batch: 120 of 157] [Loss = 2.0824] [Accuracy = 9.38] [0.038 sec/batch]\u001b[0m\n",
      "\u001b[37m\u001b[01m[2021-05-18 18:43:18,621] [Epoch: 37] [Batch: 130 of 157] [Loss = 2.0725] [Accuracy = 18.75] [0.042 sec/batch]\u001b[0m\n",
      "\u001b[37m\u001b[01m[2021-05-18 18:43:19,042] [Epoch: 37] [Batch: 140 of 157] [Loss = 2.0714] [Accuracy = 18.75] [0.040 sec/batch]\u001b[0m\n",
      "\u001b[37m\u001b[01m[2021-05-18 18:43:19,450] [Epoch: 37] [Batch: 150 of 157] [Loss = 2.0732] [Accuracy = 6.25] [0.039 sec/batch]\u001b[0m\n",
      "\u001b[37m\u001b[01m[2021-05-18 18:43:19,750] [Epoch: 38] [Batch: 0 of 157] [Loss = 2.0887] [Accuracy = 0.00] [0.038 sec/batch]\u001b[0m\n"
     ]
    },
    {
     "name": "stdout",
     "output_type": "stream",
     "text": [
      "Epoch 38\n",
      "-------------------------------\n"
     ]
    },
    {
     "name": "stderr",
     "output_type": "stream",
     "text": [
      "\u001b[37m\u001b[01m[2021-05-18 18:43:20,186] [Epoch: 38] [Batch: 10 of 157] [Loss = 2.0804] [Accuracy = 6.25] [0.043 sec/batch]\u001b[0m\n",
      "\u001b[37m\u001b[01m[2021-05-18 18:43:20,609] [Epoch: 38] [Batch: 20 of 157] [Loss = 2.0758] [Accuracy = 18.75] [0.040 sec/batch]\u001b[0m\n",
      "\u001b[37m\u001b[01m[2021-05-18 18:43:21,042] [Epoch: 38] [Batch: 30 of 157] [Loss = 2.0742] [Accuracy = 12.50] [0.042 sec/batch]\u001b[0m\n",
      "\u001b[37m\u001b[01m[2021-05-18 18:43:21,462] [Epoch: 38] [Batch: 40 of 157] [Loss = 2.0753] [Accuracy = 12.50] [0.038 sec/batch]\u001b[0m\n",
      "\u001b[37m\u001b[01m[2021-05-18 18:43:21,873] [Epoch: 38] [Batch: 50 of 157] [Loss = 2.0716] [Accuracy = 15.62] [0.034 sec/batch]\u001b[0m\n",
      "\u001b[37m\u001b[01m[2021-05-18 18:43:22,282] [Epoch: 38] [Batch: 60 of 157] [Loss = 2.0768] [Accuracy = 12.50] [0.043 sec/batch]\u001b[0m\n",
      "\u001b[37m\u001b[01m[2021-05-18 18:43:22,700] [Epoch: 38] [Batch: 70 of 157] [Loss = 2.0950] [Accuracy = 3.12] [0.043 sec/batch]\u001b[0m\n",
      "\u001b[37m\u001b[01m[2021-05-18 18:43:23,106] [Epoch: 38] [Batch: 80 of 157] [Loss = 2.0822] [Accuracy = 15.62] [0.040 sec/batch]\u001b[0m\n",
      "\u001b[37m\u001b[01m[2021-05-18 18:43:23,517] [Epoch: 38] [Batch: 90 of 157] [Loss = 2.0653] [Accuracy = 28.12] [0.043 sec/batch]\u001b[0m\n",
      "\u001b[37m\u001b[01m[2021-05-18 18:43:23,928] [Epoch: 38] [Batch: 100 of 157] [Loss = 2.0757] [Accuracy = 15.62] [0.044 sec/batch]\u001b[0m\n",
      "\u001b[37m\u001b[01m[2021-05-18 18:43:24,344] [Epoch: 38] [Batch: 110 of 157] [Loss = 2.0713] [Accuracy = 18.75] [0.043 sec/batch]\u001b[0m\n",
      "\u001b[37m\u001b[01m[2021-05-18 18:43:24,757] [Epoch: 38] [Batch: 120 of 157] [Loss = 2.0784] [Accuracy = 9.38] [0.039 sec/batch]\u001b[0m\n",
      "\u001b[37m\u001b[01m[2021-05-18 18:43:25,168] [Epoch: 38] [Batch: 130 of 157] [Loss = 2.0736] [Accuracy = 18.75] [0.042 sec/batch]\u001b[0m\n",
      "\u001b[37m\u001b[01m[2021-05-18 18:43:25,558] [Epoch: 38] [Batch: 140 of 157] [Loss = 2.0700] [Accuracy = 18.75] [0.038 sec/batch]\u001b[0m\n",
      "\u001b[37m\u001b[01m[2021-05-18 18:43:25,972] [Epoch: 38] [Batch: 150 of 157] [Loss = 2.0769] [Accuracy = 15.62] [0.040 sec/batch]\u001b[0m\n",
      "\u001b[37m\u001b[01m[2021-05-18 18:43:26,251] [Epoch: 39] [Batch: 0 of 157] [Loss = 2.0861] [Accuracy = 6.25] [0.040 sec/batch]\u001b[0m\n"
     ]
    },
    {
     "name": "stdout",
     "output_type": "stream",
     "text": [
      "Epoch 39\n",
      "-------------------------------\n"
     ]
    },
    {
     "name": "stderr",
     "output_type": "stream",
     "text": [
      "\u001b[37m\u001b[01m[2021-05-18 18:43:26,658] [Epoch: 39] [Batch: 10 of 157] [Loss = 2.0767] [Accuracy = 18.75] [0.041 sec/batch]\u001b[0m\n",
      "\u001b[37m\u001b[01m[2021-05-18 18:43:27,071] [Epoch: 39] [Batch: 20 of 157] [Loss = 2.0782] [Accuracy = 3.12] [0.040 sec/batch]\u001b[0m\n",
      "\u001b[37m\u001b[01m[2021-05-18 18:43:27,475] [Epoch: 39] [Batch: 30 of 157] [Loss = 2.0801] [Accuracy = 15.62] [0.040 sec/batch]\u001b[0m\n",
      "\u001b[37m\u001b[01m[2021-05-18 18:43:27,889] [Epoch: 39] [Batch: 40 of 157] [Loss = 2.0701] [Accuracy = 21.88] [0.038 sec/batch]\u001b[0m\n",
      "\u001b[37m\u001b[01m[2021-05-18 18:43:28,300] [Epoch: 39] [Batch: 50 of 157] [Loss = 2.0804] [Accuracy = 9.38] [0.039 sec/batch]\u001b[0m\n",
      "\u001b[37m\u001b[01m[2021-05-18 18:43:28,716] [Epoch: 39] [Batch: 60 of 157] [Loss = 2.0782] [Accuracy = 9.38] [0.042 sec/batch]\u001b[0m\n",
      "\u001b[37m\u001b[01m[2021-05-18 18:43:29,129] [Epoch: 39] [Batch: 70 of 157] [Loss = 2.0714] [Accuracy = 18.75] [0.042 sec/batch]\u001b[0m\n",
      "\u001b[37m\u001b[01m[2021-05-18 18:43:29,529] [Epoch: 39] [Batch: 80 of 157] [Loss = 2.0789] [Accuracy = 12.50] [0.039 sec/batch]\u001b[0m\n",
      "\u001b[37m\u001b[01m[2021-05-18 18:43:29,949] [Epoch: 39] [Batch: 90 of 157] [Loss = 2.0815] [Accuracy = 12.50] [0.039 sec/batch]\u001b[0m\n",
      "\u001b[37m\u001b[01m[2021-05-18 18:43:30,345] [Epoch: 39] [Batch: 100 of 157] [Loss = 2.0710] [Accuracy = 18.75] [0.038 sec/batch]\u001b[0m\n",
      "\u001b[37m\u001b[01m[2021-05-18 18:43:30,754] [Epoch: 39] [Batch: 110 of 157] [Loss = 2.0980] [Accuracy = 0.00] [0.038 sec/batch]\u001b[0m\n",
      "\u001b[37m\u001b[01m[2021-05-18 18:43:31,172] [Epoch: 39] [Batch: 120 of 157] [Loss = 2.0856] [Accuracy = 12.50] [0.043 sec/batch]\u001b[0m\n",
      "\u001b[37m\u001b[01m[2021-05-18 18:43:31,587] [Epoch: 39] [Batch: 130 of 157] [Loss = 2.0750] [Accuracy = 15.62] [0.044 sec/batch]\u001b[0m\n",
      "\u001b[37m\u001b[01m[2021-05-18 18:43:32,017] [Epoch: 39] [Batch: 140 of 157] [Loss = 2.0895] [Accuracy = 6.25] [0.043 sec/batch]\u001b[0m\n",
      "\u001b[37m\u001b[01m[2021-05-18 18:43:32,450] [Epoch: 39] [Batch: 150 of 157] [Loss = 2.0666] [Accuracy = 25.00] [0.045 sec/batch]\u001b[0m\n",
      "\u001b[37m\u001b[01m[2021-05-18 18:43:32,742] [Epoch: 40] [Batch: 0 of 157] [Loss = 2.0800] [Accuracy = 12.50] [0.043 sec/batch]\u001b[0m\n"
     ]
    },
    {
     "name": "stdout",
     "output_type": "stream",
     "text": [
      "Epoch 40\n",
      "-------------------------------\n"
     ]
    },
    {
     "name": "stderr",
     "output_type": "stream",
     "text": [
      "\u001b[37m\u001b[01m[2021-05-18 18:43:33,185] [Epoch: 40] [Batch: 10 of 157] [Loss = 2.0733] [Accuracy = 18.75] [0.043 sec/batch]\u001b[0m\n",
      "\u001b[37m\u001b[01m[2021-05-18 18:43:33,600] [Epoch: 40] [Batch: 20 of 157] [Loss = 2.0728] [Accuracy = 21.88] [0.043 sec/batch]\u001b[0m\n",
      "\u001b[37m\u001b[01m[2021-05-18 18:43:34,023] [Epoch: 40] [Batch: 30 of 157] [Loss = 2.0795] [Accuracy = 12.50] [0.040 sec/batch]\u001b[0m\n",
      "\u001b[37m\u001b[01m[2021-05-18 18:43:34,433] [Epoch: 40] [Batch: 40 of 157] [Loss = 2.0729] [Accuracy = 15.62] [0.043 sec/batch]\u001b[0m\n",
      "\u001b[37m\u001b[01m[2021-05-18 18:43:34,860] [Epoch: 40] [Batch: 50 of 157] [Loss = 2.0762] [Accuracy = 15.62] [0.043 sec/batch]\u001b[0m\n",
      "\u001b[37m\u001b[01m[2021-05-18 18:43:35,285] [Epoch: 40] [Batch: 60 of 157] [Loss = 2.0887] [Accuracy = 12.50] [0.035 sec/batch]\u001b[0m\n",
      "\u001b[37m\u001b[01m[2021-05-18 18:43:35,703] [Epoch: 40] [Batch: 70 of 157] [Loss = 2.0864] [Accuracy = 9.38] [0.035 sec/batch]\u001b[0m\n",
      "\u001b[37m\u001b[01m[2021-05-18 18:43:36,118] [Epoch: 40] [Batch: 80 of 157] [Loss = 2.0691] [Accuracy = 15.62] [0.041 sec/batch]\u001b[0m\n",
      "\u001b[37m\u001b[01m[2021-05-18 18:43:36,551] [Epoch: 40] [Batch: 90 of 157] [Loss = 2.0784] [Accuracy = 12.50] [0.040 sec/batch]\u001b[0m\n",
      "\u001b[37m\u001b[01m[2021-05-18 18:43:36,959] [Epoch: 40] [Batch: 100 of 157] [Loss = 2.0822] [Accuracy = 3.12] [0.040 sec/batch]\u001b[0m\n",
      "\u001b[37m\u001b[01m[2021-05-18 18:43:37,370] [Epoch: 40] [Batch: 110 of 157] [Loss = 2.0812] [Accuracy = 3.12] [0.042 sec/batch]\u001b[0m\n",
      "\u001b[37m\u001b[01m[2021-05-18 18:43:37,763] [Epoch: 40] [Batch: 120 of 157] [Loss = 2.0817] [Accuracy = 9.38] [0.037 sec/batch]\u001b[0m\n",
      "\u001b[37m\u001b[01m[2021-05-18 18:43:38,174] [Epoch: 40] [Batch: 130 of 157] [Loss = 2.0763] [Accuracy = 15.62] [0.038 sec/batch]\u001b[0m\n",
      "\u001b[37m\u001b[01m[2021-05-18 18:43:38,584] [Epoch: 40] [Batch: 140 of 157] [Loss = 2.0817] [Accuracy = 6.25] [0.041 sec/batch]\u001b[0m\n",
      "\u001b[37m\u001b[01m[2021-05-18 18:43:38,989] [Epoch: 40] [Batch: 150 of 157] [Loss = 2.0764] [Accuracy = 12.50] [0.041 sec/batch]\u001b[0m\n",
      "\u001b[37m\u001b[01m[2021-05-18 18:43:39,280] [Epoch: 41] [Batch: 0 of 157] [Loss = 2.0765] [Accuracy = 12.50] [0.041 sec/batch]\u001b[0m\n"
     ]
    },
    {
     "name": "stdout",
     "output_type": "stream",
     "text": [
      "Epoch 41\n",
      "-------------------------------\n"
     ]
    },
    {
     "name": "stderr",
     "output_type": "stream",
     "text": [
      "\u001b[37m\u001b[01m[2021-05-18 18:43:39,683] [Epoch: 41] [Batch: 10 of 157] [Loss = 2.0802] [Accuracy = 25.00] [0.042 sec/batch]\u001b[0m\n",
      "\u001b[37m\u001b[01m[2021-05-18 18:43:40,085] [Epoch: 41] [Batch: 20 of 157] [Loss = 2.0745] [Accuracy = 12.50] [0.039 sec/batch]\u001b[0m\n",
      "\u001b[37m\u001b[01m[2021-05-18 18:43:40,489] [Epoch: 41] [Batch: 30 of 157] [Loss = 2.0769] [Accuracy = 6.25] [0.039 sec/batch]\u001b[0m\n",
      "\u001b[37m\u001b[01m[2021-05-18 18:43:40,901] [Epoch: 41] [Batch: 40 of 157] [Loss = 2.0726] [Accuracy = 18.75] [0.039 sec/batch]\u001b[0m\n",
      "\u001b[37m\u001b[01m[2021-05-18 18:43:41,313] [Epoch: 41] [Batch: 50 of 157] [Loss = 2.0789] [Accuracy = 6.25] [0.041 sec/batch]\u001b[0m\n",
      "\u001b[37m\u001b[01m[2021-05-18 18:43:41,729] [Epoch: 41] [Batch: 60 of 157] [Loss = 2.0773] [Accuracy = 6.25] [0.038 sec/batch]\u001b[0m\n",
      "\u001b[37m\u001b[01m[2021-05-18 18:43:42,133] [Epoch: 41] [Batch: 70 of 157] [Loss = 2.0702] [Accuracy = 18.75] [0.042 sec/batch]\u001b[0m\n",
      "\u001b[37m\u001b[01m[2021-05-18 18:43:42,542] [Epoch: 41] [Batch: 80 of 157] [Loss = 2.0733] [Accuracy = 18.75] [0.035 sec/batch]\u001b[0m\n",
      "\u001b[37m\u001b[01m[2021-05-18 18:43:42,946] [Epoch: 41] [Batch: 90 of 157] [Loss = 2.0810] [Accuracy = 3.12] [0.040 sec/batch]\u001b[0m\n",
      "\u001b[37m\u001b[01m[2021-05-18 18:43:43,344] [Epoch: 41] [Batch: 100 of 157] [Loss = 2.0827] [Accuracy = 9.38] [0.037 sec/batch]\u001b[0m\n",
      "\u001b[37m\u001b[01m[2021-05-18 18:43:43,746] [Epoch: 41] [Batch: 110 of 157] [Loss = 2.0743] [Accuracy = 18.75] [0.041 sec/batch]\u001b[0m\n",
      "\u001b[37m\u001b[01m[2021-05-18 18:43:44,137] [Epoch: 41] [Batch: 120 of 157] [Loss = 2.0766] [Accuracy = 12.50] [0.039 sec/batch]\u001b[0m\n",
      "\u001b[37m\u001b[01m[2021-05-18 18:43:44,544] [Epoch: 41] [Batch: 130 of 157] [Loss = 2.0765] [Accuracy = 12.50] [0.040 sec/batch]\u001b[0m\n",
      "\u001b[37m\u001b[01m[2021-05-18 18:43:44,957] [Epoch: 41] [Batch: 140 of 157] [Loss = 2.0833] [Accuracy = 15.62] [0.036 sec/batch]\u001b[0m\n",
      "\u001b[37m\u001b[01m[2021-05-18 18:43:45,378] [Epoch: 41] [Batch: 150 of 157] [Loss = 2.0746] [Accuracy = 12.50] [0.042 sec/batch]\u001b[0m\n",
      "\u001b[37m\u001b[01m[2021-05-18 18:43:45,679] [Epoch: 42] [Batch: 0 of 157] [Loss = 2.0682] [Accuracy = 21.88] [0.043 sec/batch]\u001b[0m\n"
     ]
    },
    {
     "name": "stdout",
     "output_type": "stream",
     "text": [
      "Epoch 42\n",
      "-------------------------------\n"
     ]
    },
    {
     "name": "stderr",
     "output_type": "stream",
     "text": [
      "\u001b[37m\u001b[01m[2021-05-18 18:43:46,107] [Epoch: 42] [Batch: 10 of 157] [Loss = 2.0669] [Accuracy = 18.75] [0.042 sec/batch]\u001b[0m\n",
      "\u001b[37m\u001b[01m[2021-05-18 18:43:46,519] [Epoch: 42] [Batch: 20 of 157] [Loss = 2.0765] [Accuracy = 18.75] [0.037 sec/batch]\u001b[0m\n",
      "\u001b[37m\u001b[01m[2021-05-18 18:43:46,938] [Epoch: 42] [Batch: 30 of 157] [Loss = 2.0776] [Accuracy = 9.38] [0.039 sec/batch]\u001b[0m\n",
      "\u001b[37m\u001b[01m[2021-05-18 18:43:47,342] [Epoch: 42] [Batch: 40 of 157] [Loss = 2.0728] [Accuracy = 12.50] [0.040 sec/batch]\u001b[0m\n",
      "\u001b[37m\u001b[01m[2021-05-18 18:43:47,766] [Epoch: 42] [Batch: 50 of 157] [Loss = 2.0867] [Accuracy = 9.38] [0.043 sec/batch]\u001b[0m\n",
      "\u001b[37m\u001b[01m[2021-05-18 18:43:48,182] [Epoch: 42] [Batch: 60 of 157] [Loss = 2.0764] [Accuracy = 12.50] [0.042 sec/batch]\u001b[0m\n",
      "\u001b[37m\u001b[01m[2021-05-18 18:43:48,597] [Epoch: 42] [Batch: 70 of 157] [Loss = 2.0806] [Accuracy = 12.50] [0.043 sec/batch]\u001b[0m\n",
      "\u001b[37m\u001b[01m[2021-05-18 18:43:49,004] [Epoch: 42] [Batch: 80 of 157] [Loss = 2.0802] [Accuracy = 12.50] [0.043 sec/batch]\u001b[0m\n",
      "\u001b[37m\u001b[01m[2021-05-18 18:43:49,431] [Epoch: 42] [Batch: 90 of 157] [Loss = 2.0785] [Accuracy = 6.25] [0.043 sec/batch]\u001b[0m\n",
      "\u001b[37m\u001b[01m[2021-05-18 18:43:49,859] [Epoch: 42] [Batch: 100 of 157] [Loss = 2.0869] [Accuracy = 9.38] [0.040 sec/batch]\u001b[0m\n",
      "\u001b[37m\u001b[01m[2021-05-18 18:43:50,270] [Epoch: 42] [Batch: 110 of 157] [Loss = 2.0818] [Accuracy = 6.25] [0.043 sec/batch]\u001b[0m\n",
      "\u001b[37m\u001b[01m[2021-05-18 18:43:50,702] [Epoch: 42] [Batch: 120 of 157] [Loss = 2.0673] [Accuracy = 18.75] [0.042 sec/batch]\u001b[0m\n",
      "\u001b[37m\u001b[01m[2021-05-18 18:43:51,117] [Epoch: 42] [Batch: 130 of 157] [Loss = 2.0695] [Accuracy = 25.00] [0.042 sec/batch]\u001b[0m\n",
      "\u001b[37m\u001b[01m[2021-05-18 18:43:51,532] [Epoch: 42] [Batch: 140 of 157] [Loss = 2.0800] [Accuracy = 18.75] [0.041 sec/batch]\u001b[0m\n",
      "\u001b[37m\u001b[01m[2021-05-18 18:43:51,945] [Epoch: 42] [Batch: 150 of 157] [Loss = 2.0714] [Accuracy = 9.38] [0.041 sec/batch]\u001b[0m\n",
      "\u001b[37m\u001b[01m[2021-05-18 18:43:52,244] [Epoch: 43] [Batch: 0 of 157] [Loss = 2.0677] [Accuracy = 12.50] [0.041 sec/batch]\u001b[0m\n"
     ]
    },
    {
     "name": "stdout",
     "output_type": "stream",
     "text": [
      "Epoch 43\n",
      "-------------------------------\n"
     ]
    },
    {
     "name": "stderr",
     "output_type": "stream",
     "text": [
      "\u001b[37m\u001b[01m[2021-05-18 18:43:52,662] [Epoch: 43] [Batch: 10 of 157] [Loss = 2.0754] [Accuracy = 12.50] [0.042 sec/batch]\u001b[0m\n",
      "\u001b[37m\u001b[01m[2021-05-18 18:43:53,094] [Epoch: 43] [Batch: 20 of 157] [Loss = 2.0944] [Accuracy = 3.12] [0.043 sec/batch]\u001b[0m\n",
      "\u001b[37m\u001b[01m[2021-05-18 18:43:53,522] [Epoch: 43] [Batch: 30 of 157] [Loss = 2.0738] [Accuracy = 12.50] [0.043 sec/batch]\u001b[0m\n",
      "\u001b[37m\u001b[01m[2021-05-18 18:43:53,947] [Epoch: 43] [Batch: 40 of 157] [Loss = 2.0819] [Accuracy = 15.62] [0.040 sec/batch]\u001b[0m\n",
      "\u001b[37m\u001b[01m[2021-05-18 18:43:54,368] [Epoch: 43] [Batch: 50 of 157] [Loss = 2.0851] [Accuracy = 9.38] [0.043 sec/batch]\u001b[0m\n",
      "\u001b[37m\u001b[01m[2021-05-18 18:43:54,786] [Epoch: 43] [Batch: 60 of 157] [Loss = 2.0742] [Accuracy = 6.25] [0.038 sec/batch]\u001b[0m\n",
      "\u001b[37m\u001b[01m[2021-05-18 18:43:55,202] [Epoch: 43] [Batch: 70 of 157] [Loss = 2.0774] [Accuracy = 15.62] [0.040 sec/batch]\u001b[0m\n",
      "\u001b[37m\u001b[01m[2021-05-18 18:43:55,610] [Epoch: 43] [Batch: 80 of 157] [Loss = 2.0765] [Accuracy = 12.50] [0.039 sec/batch]\u001b[0m\n",
      "\u001b[37m\u001b[01m[2021-05-18 18:43:56,039] [Epoch: 43] [Batch: 90 of 157] [Loss = 2.0789] [Accuracy = 9.38] [0.043 sec/batch]\u001b[0m\n",
      "\u001b[37m\u001b[01m[2021-05-18 18:43:56,465] [Epoch: 43] [Batch: 100 of 157] [Loss = 2.0779] [Accuracy = 15.62] [0.043 sec/batch]\u001b[0m\n",
      "\u001b[37m\u001b[01m[2021-05-18 18:43:56,891] [Epoch: 43] [Batch: 110 of 157] [Loss = 2.0730] [Accuracy = 9.38] [0.040 sec/batch]\u001b[0m\n",
      "\u001b[37m\u001b[01m[2021-05-18 18:43:57,313] [Epoch: 43] [Batch: 120 of 157] [Loss = 2.0744] [Accuracy = 18.75] [0.042 sec/batch]\u001b[0m\n",
      "\u001b[37m\u001b[01m[2021-05-18 18:43:57,729] [Epoch: 43] [Batch: 130 of 157] [Loss = 2.0765] [Accuracy = 12.50] [0.037 sec/batch]\u001b[0m\n",
      "\u001b[37m\u001b[01m[2021-05-18 18:43:58,150] [Epoch: 43] [Batch: 140 of 157] [Loss = 2.0768] [Accuracy = 15.62] [0.044 sec/batch]\u001b[0m\n",
      "\u001b[37m\u001b[01m[2021-05-18 18:43:58,560] [Epoch: 43] [Batch: 150 of 157] [Loss = 2.0778] [Accuracy = 18.75] [0.048 sec/batch]\u001b[0m\n",
      "\u001b[37m\u001b[01m[2021-05-18 18:43:58,842] [Epoch: 44] [Batch: 0 of 157] [Loss = 2.0724] [Accuracy = 12.50] [0.039 sec/batch]\u001b[0m\n"
     ]
    },
    {
     "name": "stdout",
     "output_type": "stream",
     "text": [
      "Epoch 44\n",
      "-------------------------------\n"
     ]
    },
    {
     "name": "stderr",
     "output_type": "stream",
     "text": [
      "\u001b[37m\u001b[01m[2021-05-18 18:43:59,271] [Epoch: 44] [Batch: 10 of 157] [Loss = 2.0750] [Accuracy = 9.38] [0.042 sec/batch]\u001b[0m\n",
      "\u001b[37m\u001b[01m[2021-05-18 18:43:59,692] [Epoch: 44] [Batch: 20 of 157] [Loss = 2.0794] [Accuracy = 12.50] [0.036 sec/batch]\u001b[0m\n",
      "\u001b[37m\u001b[01m[2021-05-18 18:44:00,093] [Epoch: 44] [Batch: 30 of 157] [Loss = 2.0731] [Accuracy = 18.75] [0.039 sec/batch]\u001b[0m\n",
      "\u001b[37m\u001b[01m[2021-05-18 18:44:00,514] [Epoch: 44] [Batch: 40 of 157] [Loss = 2.0736] [Accuracy = 18.75] [0.041 sec/batch]\u001b[0m\n",
      "\u001b[37m\u001b[01m[2021-05-18 18:44:00,931] [Epoch: 44] [Batch: 50 of 157] [Loss = 2.0850] [Accuracy = 6.25] [0.039 sec/batch]\u001b[0m\n",
      "\u001b[37m\u001b[01m[2021-05-18 18:44:01,347] [Epoch: 44] [Batch: 60 of 157] [Loss = 2.0828] [Accuracy = 6.25] [0.039 sec/batch]\u001b[0m\n",
      "\u001b[37m\u001b[01m[2021-05-18 18:44:01,765] [Epoch: 44] [Batch: 70 of 157] [Loss = 2.0805] [Accuracy = 12.50] [0.041 sec/batch]\u001b[0m\n",
      "\u001b[37m\u001b[01m[2021-05-18 18:44:02,163] [Epoch: 44] [Batch: 80 of 157] [Loss = 2.0775] [Accuracy = 15.62] [0.036 sec/batch]\u001b[0m\n",
      "\u001b[37m\u001b[01m[2021-05-18 18:44:02,586] [Epoch: 44] [Batch: 90 of 157] [Loss = 2.0773] [Accuracy = 3.12] [0.038 sec/batch]\u001b[0m\n",
      "\u001b[37m\u001b[01m[2021-05-18 18:44:03,007] [Epoch: 44] [Batch: 100 of 157] [Loss = 2.0709] [Accuracy = 12.50] [0.042 sec/batch]\u001b[0m\n",
      "\u001b[37m\u001b[01m[2021-05-18 18:44:03,421] [Epoch: 44] [Batch: 110 of 157] [Loss = 2.0748] [Accuracy = 21.88] [0.039 sec/batch]\u001b[0m\n",
      "\u001b[37m\u001b[01m[2021-05-18 18:44:03,835] [Epoch: 44] [Batch: 120 of 157] [Loss = 2.0771] [Accuracy = 9.38] [0.038 sec/batch]\u001b[0m\n",
      "\u001b[37m\u001b[01m[2021-05-18 18:44:04,250] [Epoch: 44] [Batch: 130 of 157] [Loss = 2.0813] [Accuracy = 6.25] [0.043 sec/batch]\u001b[0m\n",
      "\u001b[37m\u001b[01m[2021-05-18 18:44:04,677] [Epoch: 44] [Batch: 140 of 157] [Loss = 2.0717] [Accuracy = 21.88] [0.043 sec/batch]\u001b[0m\n",
      "\u001b[37m\u001b[01m[2021-05-18 18:44:05,095] [Epoch: 44] [Batch: 150 of 157] [Loss = 2.0740] [Accuracy = 9.38] [0.043 sec/batch]\u001b[0m\n",
      "\u001b[37m\u001b[01m[2021-05-18 18:44:05,393] [Epoch: 45] [Batch: 0 of 157] [Loss = 2.0789] [Accuracy = 9.38] [0.037 sec/batch]\u001b[0m\n"
     ]
    },
    {
     "name": "stdout",
     "output_type": "stream",
     "text": [
      "Epoch 45\n",
      "-------------------------------\n"
     ]
    },
    {
     "name": "stderr",
     "output_type": "stream",
     "text": [
      "\u001b[37m\u001b[01m[2021-05-18 18:44:05,814] [Epoch: 45] [Batch: 10 of 157] [Loss = 2.0752] [Accuracy = 15.62] [0.042 sec/batch]\u001b[0m\n",
      "\u001b[37m\u001b[01m[2021-05-18 18:44:06,237] [Epoch: 45] [Batch: 20 of 157] [Loss = 2.0736] [Accuracy = 12.50] [0.041 sec/batch]\u001b[0m\n",
      "\u001b[37m\u001b[01m[2021-05-18 18:44:06,649] [Epoch: 45] [Batch: 30 of 157] [Loss = 2.0914] [Accuracy = 3.12] [0.042 sec/batch]\u001b[0m\n",
      "\u001b[37m\u001b[01m[2021-05-18 18:44:07,050] [Epoch: 45] [Batch: 40 of 157] [Loss = 2.0773] [Accuracy = 9.38] [0.039 sec/batch]\u001b[0m\n",
      "\u001b[37m\u001b[01m[2021-05-18 18:44:07,456] [Epoch: 45] [Batch: 50 of 157] [Loss = 2.0750] [Accuracy = 15.62] [0.038 sec/batch]\u001b[0m\n",
      "\u001b[37m\u001b[01m[2021-05-18 18:44:07,866] [Epoch: 45] [Batch: 60 of 157] [Loss = 2.0746] [Accuracy = 25.00] [0.042 sec/batch]\u001b[0m\n",
      "\u001b[37m\u001b[01m[2021-05-18 18:44:08,275] [Epoch: 45] [Batch: 70 of 157] [Loss = 2.0836] [Accuracy = 6.25] [0.039 sec/batch]\u001b[0m\n",
      "\u001b[37m\u001b[01m[2021-05-18 18:44:08,670] [Epoch: 45] [Batch: 80 of 157] [Loss = 2.0780] [Accuracy = 9.38] [0.039 sec/batch]\u001b[0m\n",
      "\u001b[37m\u001b[01m[2021-05-18 18:44:09,076] [Epoch: 45] [Batch: 90 of 157] [Loss = 2.0773] [Accuracy = 15.62] [0.043 sec/batch]\u001b[0m\n",
      "\u001b[37m\u001b[01m[2021-05-18 18:44:09,499] [Epoch: 45] [Batch: 100 of 157] [Loss = 2.0766] [Accuracy = 6.25] [0.037 sec/batch]\u001b[0m\n",
      "\u001b[37m\u001b[01m[2021-05-18 18:44:09,912] [Epoch: 45] [Batch: 110 of 157] [Loss = 2.0857] [Accuracy = 12.50] [0.043 sec/batch]\u001b[0m\n",
      "\u001b[37m\u001b[01m[2021-05-18 18:44:10,323] [Epoch: 45] [Batch: 120 of 157] [Loss = 2.0855] [Accuracy = 9.38] [0.043 sec/batch]\u001b[0m\n",
      "\u001b[37m\u001b[01m[2021-05-18 18:44:10,724] [Epoch: 45] [Batch: 130 of 157] [Loss = 2.0798] [Accuracy = 9.38] [0.042 sec/batch]\u001b[0m\n",
      "\u001b[37m\u001b[01m[2021-05-18 18:44:11,130] [Epoch: 45] [Batch: 140 of 157] [Loss = 2.0722] [Accuracy = 18.75] [0.042 sec/batch]\u001b[0m\n",
      "\u001b[37m\u001b[01m[2021-05-18 18:44:11,530] [Epoch: 45] [Batch: 150 of 157] [Loss = 2.0787] [Accuracy = 9.38] [0.039 sec/batch]\u001b[0m\n",
      "\u001b[37m\u001b[01m[2021-05-18 18:44:11,813] [Epoch: 46] [Batch: 0 of 157] [Loss = 2.0688] [Accuracy = 12.50] [0.041 sec/batch]\u001b[0m\n"
     ]
    },
    {
     "name": "stdout",
     "output_type": "stream",
     "text": [
      "Epoch 46\n",
      "-------------------------------\n"
     ]
    },
    {
     "name": "stderr",
     "output_type": "stream",
     "text": [
      "\u001b[37m\u001b[01m[2021-05-18 18:44:12,225] [Epoch: 46] [Batch: 10 of 157] [Loss = 2.0673] [Accuracy = 18.75] [0.041 sec/batch]\u001b[0m\n",
      "\u001b[37m\u001b[01m[2021-05-18 18:44:12,634] [Epoch: 46] [Batch: 20 of 157] [Loss = 2.0788] [Accuracy = 9.38] [0.039 sec/batch]\u001b[0m\n",
      "\u001b[37m\u001b[01m[2021-05-18 18:44:13,040] [Epoch: 46] [Batch: 30 of 157] [Loss = 2.0762] [Accuracy = 15.62] [0.039 sec/batch]\u001b[0m\n",
      "\u001b[37m\u001b[01m[2021-05-18 18:44:13,450] [Epoch: 46] [Batch: 40 of 157] [Loss = 2.0710] [Accuracy = 18.75] [0.041 sec/batch]\u001b[0m\n",
      "\u001b[37m\u001b[01m[2021-05-18 18:44:13,858] [Epoch: 46] [Batch: 50 of 157] [Loss = 2.0813] [Accuracy = 15.62] [0.041 sec/batch]\u001b[0m\n",
      "\u001b[37m\u001b[01m[2021-05-18 18:44:14,262] [Epoch: 46] [Batch: 60 of 157] [Loss = 2.0812] [Accuracy = 9.38] [0.041 sec/batch]\u001b[0m\n",
      "\u001b[37m\u001b[01m[2021-05-18 18:44:14,665] [Epoch: 46] [Batch: 70 of 157] [Loss = 2.0783] [Accuracy = 6.25] [0.039 sec/batch]\u001b[0m\n",
      "\u001b[37m\u001b[01m[2021-05-18 18:44:15,081] [Epoch: 46] [Batch: 80 of 157] [Loss = 2.0819] [Accuracy = 12.50] [0.039 sec/batch]\u001b[0m\n",
      "\u001b[37m\u001b[01m[2021-05-18 18:44:15,479] [Epoch: 46] [Batch: 90 of 157] [Loss = 2.0694] [Accuracy = 15.62] [0.042 sec/batch]\u001b[0m\n",
      "\u001b[37m\u001b[01m[2021-05-18 18:44:15,888] [Epoch: 46] [Batch: 100 of 157] [Loss = 2.0805] [Accuracy = 9.38] [0.040 sec/batch]\u001b[0m\n",
      "\u001b[37m\u001b[01m[2021-05-18 18:44:16,297] [Epoch: 46] [Batch: 110 of 157] [Loss = 2.0637] [Accuracy = 15.62] [0.039 sec/batch]\u001b[0m\n",
      "\u001b[37m\u001b[01m[2021-05-18 18:44:16,725] [Epoch: 46] [Batch: 120 of 157] [Loss = 2.0913] [Accuracy = 9.38] [0.041 sec/batch]\u001b[0m\n",
      "\u001b[37m\u001b[01m[2021-05-18 18:44:17,122] [Epoch: 46] [Batch: 130 of 157] [Loss = 2.0814] [Accuracy = 9.38] [0.040 sec/batch]\u001b[0m\n",
      "\u001b[37m\u001b[01m[2021-05-18 18:44:17,530] [Epoch: 46] [Batch: 140 of 157] [Loss = 2.0819] [Accuracy = 12.50] [0.041 sec/batch]\u001b[0m\n",
      "\u001b[37m\u001b[01m[2021-05-18 18:44:17,938] [Epoch: 46] [Batch: 150 of 157] [Loss = 2.0781] [Accuracy = 15.62] [0.042 sec/batch]\u001b[0m\n",
      "\u001b[37m\u001b[01m[2021-05-18 18:44:18,217] [Epoch: 47] [Batch: 0 of 157] [Loss = 2.0745] [Accuracy = 12.50] [0.037 sec/batch]\u001b[0m\n"
     ]
    },
    {
     "name": "stdout",
     "output_type": "stream",
     "text": [
      "Epoch 47\n",
      "-------------------------------\n"
     ]
    },
    {
     "name": "stderr",
     "output_type": "stream",
     "text": [
      "\u001b[37m\u001b[01m[2021-05-18 18:44:18,618] [Epoch: 47] [Batch: 10 of 157] [Loss = 2.0790] [Accuracy = 15.62] [0.039 sec/batch]\u001b[0m\n",
      "\u001b[37m\u001b[01m[2021-05-18 18:44:19,034] [Epoch: 47] [Batch: 20 of 157] [Loss = 2.0876] [Accuracy = 3.12] [0.039 sec/batch]\u001b[0m\n",
      "\u001b[37m\u001b[01m[2021-05-18 18:44:19,446] [Epoch: 47] [Batch: 30 of 157] [Loss = 2.0701] [Accuracy = 12.50] [0.042 sec/batch]\u001b[0m\n",
      "\u001b[37m\u001b[01m[2021-05-18 18:44:19,850] [Epoch: 47] [Batch: 40 of 157] [Loss = 2.0772] [Accuracy = 15.62] [0.038 sec/batch]\u001b[0m\n",
      "\u001b[37m\u001b[01m[2021-05-18 18:44:20,258] [Epoch: 47] [Batch: 50 of 157] [Loss = 2.0773] [Accuracy = 9.38] [0.039 sec/batch]\u001b[0m\n",
      "\u001b[37m\u001b[01m[2021-05-18 18:44:20,666] [Epoch: 47] [Batch: 60 of 157] [Loss = 2.0733] [Accuracy = 9.38] [0.039 sec/batch]\u001b[0m\n",
      "\u001b[37m\u001b[01m[2021-05-18 18:44:21,074] [Epoch: 47] [Batch: 70 of 157] [Loss = 2.0861] [Accuracy = 9.38] [0.039 sec/batch]\u001b[0m\n",
      "\u001b[37m\u001b[01m[2021-05-18 18:44:21,482] [Epoch: 47] [Batch: 80 of 157] [Loss = 2.0857] [Accuracy = 12.50] [0.037 sec/batch]\u001b[0m\n",
      "\u001b[37m\u001b[01m[2021-05-18 18:44:21,889] [Epoch: 47] [Batch: 90 of 157] [Loss = 2.0798] [Accuracy = 15.62] [0.042 sec/batch]\u001b[0m\n",
      "\u001b[37m\u001b[01m[2021-05-18 18:44:22,305] [Epoch: 47] [Batch: 100 of 157] [Loss = 2.0787] [Accuracy = 9.38] [0.039 sec/batch]\u001b[0m\n",
      "\u001b[37m\u001b[01m[2021-05-18 18:44:22,708] [Epoch: 47] [Batch: 110 of 157] [Loss = 2.0811] [Accuracy = 12.50] [0.037 sec/batch]\u001b[0m\n",
      "\u001b[37m\u001b[01m[2021-05-18 18:44:23,110] [Epoch: 47] [Batch: 120 of 157] [Loss = 2.0758] [Accuracy = 15.62] [0.043 sec/batch]\u001b[0m\n",
      "\u001b[37m\u001b[01m[2021-05-18 18:44:23,513] [Epoch: 47] [Batch: 130 of 157] [Loss = 2.0801] [Accuracy = 12.50] [0.040 sec/batch]\u001b[0m\n",
      "\u001b[37m\u001b[01m[2021-05-18 18:44:23,931] [Epoch: 47] [Batch: 140 of 157] [Loss = 2.0642] [Accuracy = 18.75] [0.039 sec/batch]\u001b[0m\n",
      "\u001b[37m\u001b[01m[2021-05-18 18:44:24,345] [Epoch: 47] [Batch: 150 of 157] [Loss = 2.0799] [Accuracy = 6.25] [0.040 sec/batch]\u001b[0m\n",
      "\u001b[37m\u001b[01m[2021-05-18 18:44:24,638] [Epoch: 48] [Batch: 0 of 157] [Loss = 2.0733] [Accuracy = 21.88] [0.038 sec/batch]\u001b[0m\n"
     ]
    },
    {
     "name": "stdout",
     "output_type": "stream",
     "text": [
      "Epoch 48\n",
      "-------------------------------\n"
     ]
    },
    {
     "name": "stderr",
     "output_type": "stream",
     "text": [
      "\u001b[37m\u001b[01m[2021-05-18 18:44:25,062] [Epoch: 48] [Batch: 10 of 157] [Loss = 2.0846] [Accuracy = 9.38] [0.039 sec/batch]\u001b[0m\n",
      "\u001b[37m\u001b[01m[2021-05-18 18:44:25,473] [Epoch: 48] [Batch: 20 of 157] [Loss = 2.0724] [Accuracy = 9.38] [0.042 sec/batch]\u001b[0m\n",
      "\u001b[37m\u001b[01m[2021-05-18 18:44:25,895] [Epoch: 48] [Batch: 30 of 157] [Loss = 2.0743] [Accuracy = 15.62] [0.039 sec/batch]\u001b[0m\n",
      "\u001b[37m\u001b[01m[2021-05-18 18:44:26,326] [Epoch: 48] [Batch: 40 of 157] [Loss = 2.0782] [Accuracy = 9.38] [0.044 sec/batch]\u001b[0m\n",
      "\u001b[37m\u001b[01m[2021-05-18 18:44:26,746] [Epoch: 48] [Batch: 50 of 157] [Loss = 2.0890] [Accuracy = 6.25] [0.040 sec/batch]\u001b[0m\n",
      "\u001b[37m\u001b[01m[2021-05-18 18:44:27,171] [Epoch: 48] [Batch: 60 of 157] [Loss = 2.0944] [Accuracy = 9.38] [0.044 sec/batch]\u001b[0m\n",
      "\u001b[37m\u001b[01m[2021-05-18 18:44:27,583] [Epoch: 48] [Batch: 70 of 157] [Loss = 2.0701] [Accuracy = 18.75] [0.041 sec/batch]\u001b[0m\n",
      "\u001b[37m\u001b[01m[2021-05-18 18:44:28,019] [Epoch: 48] [Batch: 80 of 157] [Loss = 2.0821] [Accuracy = 12.50] [0.043 sec/batch]\u001b[0m\n",
      "\u001b[37m\u001b[01m[2021-05-18 18:44:28,435] [Epoch: 48] [Batch: 90 of 157] [Loss = 2.0827] [Accuracy = 6.25] [0.042 sec/batch]\u001b[0m\n",
      "\u001b[37m\u001b[01m[2021-05-18 18:44:28,850] [Epoch: 48] [Batch: 100 of 157] [Loss = 2.0753] [Accuracy = 18.75] [0.040 sec/batch]\u001b[0m\n",
      "\u001b[37m\u001b[01m[2021-05-18 18:44:29,285] [Epoch: 48] [Batch: 110 of 157] [Loss = 2.0726] [Accuracy = 15.62] [0.040 sec/batch]\u001b[0m\n",
      "\u001b[37m\u001b[01m[2021-05-18 18:44:29,706] [Epoch: 48] [Batch: 120 of 157] [Loss = 2.0684] [Accuracy = 15.62] [0.041 sec/batch]\u001b[0m\n",
      "\u001b[37m\u001b[01m[2021-05-18 18:44:30,135] [Epoch: 48] [Batch: 130 of 157] [Loss = 2.0884] [Accuracy = 0.00] [0.043 sec/batch]\u001b[0m\n",
      "\u001b[37m\u001b[01m[2021-05-18 18:44:30,570] [Epoch: 48] [Batch: 140 of 157] [Loss = 2.0810] [Accuracy = 15.62] [0.044 sec/batch]\u001b[0m\n",
      "\u001b[37m\u001b[01m[2021-05-18 18:44:30,996] [Epoch: 48] [Batch: 150 of 157] [Loss = 2.0792] [Accuracy = 15.62] [0.041 sec/batch]\u001b[0m\n",
      "\u001b[37m\u001b[01m[2021-05-18 18:44:31,291] [Epoch: 49] [Batch: 0 of 157] [Loss = 2.0780] [Accuracy = 15.62] [0.040 sec/batch]\u001b[0m\n"
     ]
    },
    {
     "name": "stdout",
     "output_type": "stream",
     "text": [
      "Epoch 49\n",
      "-------------------------------\n"
     ]
    },
    {
     "name": "stderr",
     "output_type": "stream",
     "text": [
      "\u001b[37m\u001b[01m[2021-05-18 18:44:31,710] [Epoch: 49] [Batch: 10 of 157] [Loss = 2.0732] [Accuracy = 3.12] [0.039 sec/batch]\u001b[0m\n",
      "\u001b[37m\u001b[01m[2021-05-18 18:44:32,138] [Epoch: 49] [Batch: 20 of 157] [Loss = 2.0708] [Accuracy = 15.62] [0.040 sec/batch]\u001b[0m\n",
      "\u001b[37m\u001b[01m[2021-05-18 18:44:32,551] [Epoch: 49] [Batch: 30 of 157] [Loss = 2.0804] [Accuracy = 15.62] [0.039 sec/batch]\u001b[0m\n",
      "\u001b[37m\u001b[01m[2021-05-18 18:44:32,966] [Epoch: 49] [Batch: 40 of 157] [Loss = 2.0889] [Accuracy = 6.25] [0.043 sec/batch]\u001b[0m\n",
      "\u001b[37m\u001b[01m[2021-05-18 18:44:33,367] [Epoch: 49] [Batch: 50 of 157] [Loss = 2.0815] [Accuracy = 9.38] [0.043 sec/batch]\u001b[0m\n",
      "\u001b[37m\u001b[01m[2021-05-18 18:44:33,773] [Epoch: 49] [Batch: 60 of 157] [Loss = 2.0805] [Accuracy = 15.62] [0.042 sec/batch]\u001b[0m\n",
      "\u001b[37m\u001b[01m[2021-05-18 18:44:34,183] [Epoch: 49] [Batch: 70 of 157] [Loss = 2.0833] [Accuracy = 9.38] [0.039 sec/batch]\u001b[0m\n",
      "\u001b[37m\u001b[01m[2021-05-18 18:44:34,581] [Epoch: 49] [Batch: 80 of 157] [Loss = 2.0737] [Accuracy = 12.50] [0.034 sec/batch]\u001b[0m\n",
      "\u001b[37m\u001b[01m[2021-05-18 18:44:34,992] [Epoch: 49] [Batch: 90 of 157] [Loss = 2.0875] [Accuracy = 18.75] [0.040 sec/batch]\u001b[0m\n",
      "\u001b[37m\u001b[01m[2021-05-18 18:44:35,411] [Epoch: 49] [Batch: 100 of 157] [Loss = 2.0908] [Accuracy = 6.25] [0.036 sec/batch]\u001b[0m\n",
      "\u001b[37m\u001b[01m[2021-05-18 18:44:35,820] [Epoch: 49] [Batch: 110 of 157] [Loss = 2.0891] [Accuracy = 3.12] [0.043 sec/batch]\u001b[0m\n",
      "\u001b[37m\u001b[01m[2021-05-18 18:44:36,242] [Epoch: 49] [Batch: 120 of 157] [Loss = 2.0750] [Accuracy = 9.38] [0.038 sec/batch]\u001b[0m\n",
      "\u001b[37m\u001b[01m[2021-05-18 18:44:36,660] [Epoch: 49] [Batch: 130 of 157] [Loss = 2.0733] [Accuracy = 21.88] [0.043 sec/batch]\u001b[0m\n",
      "\u001b[37m\u001b[01m[2021-05-18 18:44:37,070] [Epoch: 49] [Batch: 140 of 157] [Loss = 2.0803] [Accuracy = 12.50] [0.039 sec/batch]\u001b[0m\n",
      "\u001b[37m\u001b[01m[2021-05-18 18:44:37,489] [Epoch: 49] [Batch: 150 of 157] [Loss = 2.0656] [Accuracy = 6.25] [0.041 sec/batch]\u001b[0m\n",
      "\u001b[37m\u001b[01m[2021-05-18 18:44:37,767] [Epoch: 50] [Batch: 0 of 157] [Loss = 2.0848] [Accuracy = 12.50] [0.036 sec/batch]\u001b[0m\n"
     ]
    },
    {
     "name": "stdout",
     "output_type": "stream",
     "text": [
      "Epoch 50\n",
      "-------------------------------\n"
     ]
    },
    {
     "name": "stderr",
     "output_type": "stream",
     "text": [
      "\u001b[37m\u001b[01m[2021-05-18 18:44:38,177] [Epoch: 50] [Batch: 10 of 157] [Loss = 2.0918] [Accuracy = 9.38] [0.044 sec/batch]\u001b[0m\n",
      "\u001b[37m\u001b[01m[2021-05-18 18:44:38,560] [Epoch: 50] [Batch: 20 of 157] [Loss = 2.0842] [Accuracy = 9.38] [0.038 sec/batch]\u001b[0m\n",
      "\u001b[37m\u001b[01m[2021-05-18 18:44:38,938] [Epoch: 50] [Batch: 30 of 157] [Loss = 2.0678] [Accuracy = 18.75] [0.040 sec/batch]\u001b[0m\n",
      "\u001b[37m\u001b[01m[2021-05-18 18:44:39,334] [Epoch: 50] [Batch: 40 of 157] [Loss = 2.0815] [Accuracy = 6.25] [0.040 sec/batch]\u001b[0m\n",
      "\u001b[37m\u001b[01m[2021-05-18 18:44:39,721] [Epoch: 50] [Batch: 50 of 157] [Loss = 2.0810] [Accuracy = 12.50] [0.034 sec/batch]\u001b[0m\n",
      "\u001b[37m\u001b[01m[2021-05-18 18:44:40,109] [Epoch: 50] [Batch: 60 of 157] [Loss = 2.0878] [Accuracy = 9.38] [0.037 sec/batch]\u001b[0m\n",
      "\u001b[37m\u001b[01m[2021-05-18 18:44:40,500] [Epoch: 50] [Batch: 70 of 157] [Loss = 2.0879] [Accuracy = 9.38] [0.041 sec/batch]\u001b[0m\n",
      "\u001b[37m\u001b[01m[2021-05-18 18:44:40,892] [Epoch: 50] [Batch: 80 of 157] [Loss = 2.0866] [Accuracy = 9.38] [0.039 sec/batch]\u001b[0m\n",
      "\u001b[37m\u001b[01m[2021-05-18 18:44:41,278] [Epoch: 50] [Batch: 90 of 157] [Loss = 2.0795] [Accuracy = 15.62] [0.038 sec/batch]\u001b[0m\n",
      "\u001b[37m\u001b[01m[2021-05-18 18:44:41,666] [Epoch: 50] [Batch: 100 of 157] [Loss = 2.0679] [Accuracy = 18.75] [0.036 sec/batch]\u001b[0m\n",
      "\u001b[37m\u001b[01m[2021-05-18 18:44:42,050] [Epoch: 50] [Batch: 110 of 157] [Loss = 2.0777] [Accuracy = 9.38] [0.039 sec/batch]\u001b[0m\n",
      "\u001b[37m\u001b[01m[2021-05-18 18:44:42,446] [Epoch: 50] [Batch: 120 of 157] [Loss = 2.0678] [Accuracy = 21.88] [0.041 sec/batch]\u001b[0m\n",
      "\u001b[37m\u001b[01m[2021-05-18 18:44:42,841] [Epoch: 50] [Batch: 130 of 157] [Loss = 2.0828] [Accuracy = 9.38] [0.040 sec/batch]\u001b[0m\n",
      "\u001b[37m\u001b[01m[2021-05-18 18:44:43,222] [Epoch: 50] [Batch: 140 of 157] [Loss = 2.0803] [Accuracy = 3.12] [0.039 sec/batch]\u001b[0m\n",
      "\u001b[37m\u001b[01m[2021-05-18 18:44:43,608] [Epoch: 50] [Batch: 150 of 157] [Loss = 2.0812] [Accuracy = 12.50] [0.037 sec/batch]\u001b[0m\n",
      "\u001b[37m\u001b[01m[2021-05-18 18:44:43,879] [Epoch: 51] [Batch: 0 of 157] [Loss = 2.0690] [Accuracy = 12.50] [0.038 sec/batch]\u001b[0m\n"
     ]
    },
    {
     "name": "stdout",
     "output_type": "stream",
     "text": [
      "Epoch 51\n",
      "-------------------------------\n"
     ]
    },
    {
     "name": "stderr",
     "output_type": "stream",
     "text": [
      "\u001b[37m\u001b[01m[2021-05-18 18:44:44,271] [Epoch: 51] [Batch: 10 of 157] [Loss = 2.0823] [Accuracy = 15.62] [0.036 sec/batch]\u001b[0m\n",
      "\u001b[37m\u001b[01m[2021-05-18 18:44:44,659] [Epoch: 51] [Batch: 20 of 157] [Loss = 2.0715] [Accuracy = 15.62] [0.040 sec/batch]\u001b[0m\n",
      "\u001b[37m\u001b[01m[2021-05-18 18:44:45,044] [Epoch: 51] [Batch: 30 of 157] [Loss = 2.0864] [Accuracy = 9.38] [0.037 sec/batch]\u001b[0m\n",
      "\u001b[37m\u001b[01m[2021-05-18 18:44:45,436] [Epoch: 51] [Batch: 40 of 157] [Loss = 2.0800] [Accuracy = 9.38] [0.038 sec/batch]\u001b[0m\n",
      "\u001b[37m\u001b[01m[2021-05-18 18:44:45,847] [Epoch: 51] [Batch: 50 of 157] [Loss = 2.0785] [Accuracy = 9.38] [0.043 sec/batch]\u001b[0m\n",
      "\u001b[37m\u001b[01m[2021-05-18 18:44:46,272] [Epoch: 51] [Batch: 60 of 157] [Loss = 2.0822] [Accuracy = 6.25] [0.037 sec/batch]\u001b[0m\n",
      "\u001b[37m\u001b[01m[2021-05-18 18:44:46,687] [Epoch: 51] [Batch: 70 of 157] [Loss = 2.0745] [Accuracy = 18.75] [0.043 sec/batch]\u001b[0m\n",
      "\u001b[37m\u001b[01m[2021-05-18 18:44:47,102] [Epoch: 51] [Batch: 80 of 157] [Loss = 2.0806] [Accuracy = 6.25] [0.039 sec/batch]\u001b[0m\n",
      "\u001b[37m\u001b[01m[2021-05-18 18:44:47,522] [Epoch: 51] [Batch: 90 of 157] [Loss = 2.0773] [Accuracy = 12.50] [0.040 sec/batch]\u001b[0m\n",
      "\u001b[37m\u001b[01m[2021-05-18 18:44:47,933] [Epoch: 51] [Batch: 100 of 157] [Loss = 2.0701] [Accuracy = 12.50] [0.038 sec/batch]\u001b[0m\n",
      "\u001b[37m\u001b[01m[2021-05-18 18:44:48,337] [Epoch: 51] [Batch: 110 of 157] [Loss = 2.0723] [Accuracy = 25.00] [0.042 sec/batch]\u001b[0m\n",
      "\u001b[37m\u001b[01m[2021-05-18 18:44:48,754] [Epoch: 51] [Batch: 120 of 157] [Loss = 2.0893] [Accuracy = 6.25] [0.043 sec/batch]\u001b[0m\n",
      "\u001b[37m\u001b[01m[2021-05-18 18:44:49,168] [Epoch: 51] [Batch: 130 of 157] [Loss = 2.0665] [Accuracy = 18.75] [0.041 sec/batch]\u001b[0m\n",
      "\u001b[37m\u001b[01m[2021-05-18 18:44:49,577] [Epoch: 51] [Batch: 140 of 157] [Loss = 2.0845] [Accuracy = 6.25] [0.039 sec/batch]\u001b[0m\n",
      "\u001b[37m\u001b[01m[2021-05-18 18:44:49,988] [Epoch: 51] [Batch: 150 of 157] [Loss = 2.0917] [Accuracy = 15.62] [0.041 sec/batch]\u001b[0m\n",
      "\u001b[37m\u001b[01m[2021-05-18 18:44:50,271] [Epoch: 52] [Batch: 0 of 157] [Loss = 2.0810] [Accuracy = 15.62] [0.039 sec/batch]\u001b[0m\n"
     ]
    },
    {
     "name": "stdout",
     "output_type": "stream",
     "text": [
      "Epoch 52\n",
      "-------------------------------\n"
     ]
    },
    {
     "name": "stderr",
     "output_type": "stream",
     "text": [
      "\u001b[37m\u001b[01m[2021-05-18 18:44:50,707] [Epoch: 52] [Batch: 10 of 157] [Loss = 2.0822] [Accuracy = 12.50] [0.043 sec/batch]\u001b[0m\n",
      "\u001b[37m\u001b[01m[2021-05-18 18:44:51,135] [Epoch: 52] [Batch: 20 of 157] [Loss = 2.0707] [Accuracy = 12.50] [0.040 sec/batch]\u001b[0m\n",
      "\u001b[37m\u001b[01m[2021-05-18 18:44:51,547] [Epoch: 52] [Batch: 30 of 157] [Loss = 2.0842] [Accuracy = 9.38] [0.041 sec/batch]\u001b[0m\n",
      "\u001b[37m\u001b[01m[2021-05-18 18:44:51,962] [Epoch: 52] [Batch: 40 of 157] [Loss = 2.0841] [Accuracy = 12.50] [0.039 sec/batch]\u001b[0m\n",
      "\u001b[37m\u001b[01m[2021-05-18 18:44:52,377] [Epoch: 52] [Batch: 50 of 157] [Loss = 2.0688] [Accuracy = 15.62] [0.042 sec/batch]\u001b[0m\n",
      "\u001b[37m\u001b[01m[2021-05-18 18:44:52,799] [Epoch: 52] [Batch: 60 of 157] [Loss = 2.0712] [Accuracy = 12.50] [0.043 sec/batch]\u001b[0m\n",
      "\u001b[37m\u001b[01m[2021-05-18 18:44:53,211] [Epoch: 52] [Batch: 70 of 157] [Loss = 2.0719] [Accuracy = 18.75] [0.040 sec/batch]\u001b[0m\n",
      "\u001b[37m\u001b[01m[2021-05-18 18:44:53,613] [Epoch: 52] [Batch: 80 of 157] [Loss = 2.0707] [Accuracy = 9.38] [0.038 sec/batch]\u001b[0m\n",
      "\u001b[37m\u001b[01m[2021-05-18 18:44:54,034] [Epoch: 52] [Batch: 90 of 157] [Loss = 2.0766] [Accuracy = 6.25] [0.041 sec/batch]\u001b[0m\n",
      "\u001b[37m\u001b[01m[2021-05-18 18:44:54,431] [Epoch: 52] [Batch: 100 of 157] [Loss = 2.0689] [Accuracy = 21.88] [0.040 sec/batch]\u001b[0m\n",
      "\u001b[37m\u001b[01m[2021-05-18 18:44:54,825] [Epoch: 52] [Batch: 110 of 157] [Loss = 2.0879] [Accuracy = 3.12] [0.043 sec/batch]\u001b[0m\n",
      "\u001b[37m\u001b[01m[2021-05-18 18:44:55,203] [Epoch: 52] [Batch: 120 of 157] [Loss = 2.0686] [Accuracy = 21.88] [0.040 sec/batch]\u001b[0m\n",
      "\u001b[37m\u001b[01m[2021-05-18 18:44:55,593] [Epoch: 52] [Batch: 130 of 157] [Loss = 2.0792] [Accuracy = 15.62] [0.042 sec/batch]\u001b[0m\n",
      "\u001b[37m\u001b[01m[2021-05-18 18:44:56,011] [Epoch: 52] [Batch: 140 of 157] [Loss = 2.0830] [Accuracy = 12.50] [0.041 sec/batch]\u001b[0m\n",
      "\u001b[37m\u001b[01m[2021-05-18 18:44:56,431] [Epoch: 52] [Batch: 150 of 157] [Loss = 2.0773] [Accuracy = 18.75] [0.042 sec/batch]\u001b[0m\n",
      "\u001b[37m\u001b[01m[2021-05-18 18:44:56,735] [Epoch: 53] [Batch: 0 of 157] [Loss = 2.0855] [Accuracy = 6.25] [0.043 sec/batch]\u001b[0m\n"
     ]
    },
    {
     "name": "stdout",
     "output_type": "stream",
     "text": [
      "Epoch 53\n",
      "-------------------------------\n"
     ]
    },
    {
     "name": "stderr",
     "output_type": "stream",
     "text": [
      "\u001b[37m\u001b[01m[2021-05-18 18:44:57,164] [Epoch: 53] [Batch: 10 of 157] [Loss = 2.0657] [Accuracy = 12.50] [0.038 sec/batch]\u001b[0m\n",
      "\u001b[37m\u001b[01m[2021-05-18 18:44:57,581] [Epoch: 53] [Batch: 20 of 157] [Loss = 2.0796] [Accuracy = 3.12] [0.042 sec/batch]\u001b[0m\n",
      "\u001b[37m\u001b[01m[2021-05-18 18:44:58,009] [Epoch: 53] [Batch: 30 of 157] [Loss = 2.0721] [Accuracy = 15.62] [0.042 sec/batch]\u001b[0m\n",
      "\u001b[37m\u001b[01m[2021-05-18 18:44:58,429] [Epoch: 53] [Batch: 40 of 157] [Loss = 2.0891] [Accuracy = 6.25] [0.038 sec/batch]\u001b[0m\n",
      "\u001b[37m\u001b[01m[2021-05-18 18:44:58,819] [Epoch: 53] [Batch: 50 of 157] [Loss = 2.0629] [Accuracy = 18.75] [0.038 sec/batch]\u001b[0m\n",
      "\u001b[37m\u001b[01m[2021-05-18 18:44:59,231] [Epoch: 53] [Batch: 60 of 157] [Loss = 2.0808] [Accuracy = 9.38] [0.037 sec/batch]\u001b[0m\n",
      "\u001b[37m\u001b[01m[2021-05-18 18:44:59,626] [Epoch: 53] [Batch: 70 of 157] [Loss = 2.0966] [Accuracy = 3.12] [0.036 sec/batch]\u001b[0m\n",
      "\u001b[37m\u001b[01m[2021-05-18 18:45:00,014] [Epoch: 53] [Batch: 80 of 157] [Loss = 2.0743] [Accuracy = 21.88] [0.042 sec/batch]\u001b[0m\n",
      "\u001b[37m\u001b[01m[2021-05-18 18:45:00,425] [Epoch: 53] [Batch: 90 of 157] [Loss = 2.0736] [Accuracy = 12.50] [0.042 sec/batch]\u001b[0m\n",
      "\u001b[37m\u001b[01m[2021-05-18 18:45:00,837] [Epoch: 53] [Batch: 100 of 157] [Loss = 2.0700] [Accuracy = 15.62] [0.042 sec/batch]\u001b[0m\n",
      "\u001b[37m\u001b[01m[2021-05-18 18:45:01,250] [Epoch: 53] [Batch: 110 of 157] [Loss = 2.0829] [Accuracy = 12.50] [0.039 sec/batch]\u001b[0m\n",
      "\u001b[37m\u001b[01m[2021-05-18 18:45:01,666] [Epoch: 53] [Batch: 120 of 157] [Loss = 2.0726] [Accuracy = 15.62] [0.041 sec/batch]\u001b[0m\n",
      "\u001b[37m\u001b[01m[2021-05-18 18:45:02,069] [Epoch: 53] [Batch: 130 of 157] [Loss = 2.0809] [Accuracy = 9.38] [0.043 sec/batch]\u001b[0m\n",
      "\u001b[37m\u001b[01m[2021-05-18 18:45:02,482] [Epoch: 53] [Batch: 140 of 157] [Loss = 2.0767] [Accuracy = 12.50] [0.041 sec/batch]\u001b[0m\n",
      "\u001b[37m\u001b[01m[2021-05-18 18:45:02,889] [Epoch: 53] [Batch: 150 of 157] [Loss = 2.0796] [Accuracy = 28.12] [0.040 sec/batch]\u001b[0m\n",
      "\u001b[37m\u001b[01m[2021-05-18 18:45:03,159] [Epoch: 54] [Batch: 0 of 157] [Loss = 2.0753] [Accuracy = 12.50] [0.033 sec/batch]\u001b[0m\n"
     ]
    },
    {
     "name": "stdout",
     "output_type": "stream",
     "text": [
      "Epoch 54\n",
      "-------------------------------\n"
     ]
    },
    {
     "name": "stderr",
     "output_type": "stream",
     "text": [
      "\u001b[37m\u001b[01m[2021-05-18 18:45:03,571] [Epoch: 54] [Batch: 10 of 157] [Loss = 2.0635] [Accuracy = 18.75] [0.040 sec/batch]\u001b[0m\n",
      "\u001b[37m\u001b[01m[2021-05-18 18:45:03,969] [Epoch: 54] [Batch: 20 of 157] [Loss = 2.0743] [Accuracy = 9.38] [0.037 sec/batch]\u001b[0m\n",
      "\u001b[37m\u001b[01m[2021-05-18 18:45:04,394] [Epoch: 54] [Batch: 30 of 157] [Loss = 2.0801] [Accuracy = 9.38] [0.039 sec/batch]\u001b[0m\n",
      "\u001b[37m\u001b[01m[2021-05-18 18:45:04,804] [Epoch: 54] [Batch: 40 of 157] [Loss = 2.0629] [Accuracy = 28.12] [0.041 sec/batch]\u001b[0m\n",
      "\u001b[37m\u001b[01m[2021-05-18 18:45:05,213] [Epoch: 54] [Batch: 50 of 157] [Loss = 2.0821] [Accuracy = 18.75] [0.040 sec/batch]\u001b[0m\n",
      "\u001b[37m\u001b[01m[2021-05-18 18:45:05,619] [Epoch: 54] [Batch: 60 of 157] [Loss = 2.0919] [Accuracy = 9.38] [0.041 sec/batch]\u001b[0m\n",
      "\u001b[37m\u001b[01m[2021-05-18 18:45:06,006] [Epoch: 54] [Batch: 70 of 157] [Loss = 2.0806] [Accuracy = 12.50] [0.037 sec/batch]\u001b[0m\n",
      "\u001b[37m\u001b[01m[2021-05-18 18:45:06,412] [Epoch: 54] [Batch: 80 of 157] [Loss = 2.0708] [Accuracy = 15.62] [0.037 sec/batch]\u001b[0m\n",
      "\u001b[37m\u001b[01m[2021-05-18 18:45:06,813] [Epoch: 54] [Batch: 90 of 157] [Loss = 2.0786] [Accuracy = 6.25] [0.038 sec/batch]\u001b[0m\n",
      "\u001b[37m\u001b[01m[2021-05-18 18:45:07,228] [Epoch: 54] [Batch: 100 of 157] [Loss = 2.0839] [Accuracy = 9.38] [0.042 sec/batch]\u001b[0m\n",
      "\u001b[37m\u001b[01m[2021-05-18 18:45:07,638] [Epoch: 54] [Batch: 110 of 157] [Loss = 2.0824] [Accuracy = 6.25] [0.041 sec/batch]\u001b[0m\n",
      "\u001b[37m\u001b[01m[2021-05-18 18:45:08,057] [Epoch: 54] [Batch: 120 of 157] [Loss = 2.0734] [Accuracy = 18.75] [0.040 sec/batch]\u001b[0m\n",
      "\u001b[37m\u001b[01m[2021-05-18 18:45:08,456] [Epoch: 54] [Batch: 130 of 157] [Loss = 2.0860] [Accuracy = 12.50] [0.036 sec/batch]\u001b[0m\n",
      "\u001b[37m\u001b[01m[2021-05-18 18:45:08,873] [Epoch: 54] [Batch: 140 of 157] [Loss = 2.0678] [Accuracy = 12.50] [0.039 sec/batch]\u001b[0m\n",
      "\u001b[37m\u001b[01m[2021-05-18 18:45:09,273] [Epoch: 54] [Batch: 150 of 157] [Loss = 2.0744] [Accuracy = 21.88] [0.039 sec/batch]\u001b[0m\n",
      "\u001b[37m\u001b[01m[2021-05-18 18:45:09,566] [Epoch: 55] [Batch: 0 of 157] [Loss = 2.0689] [Accuracy = 15.62] [0.038 sec/batch]\u001b[0m\n"
     ]
    },
    {
     "name": "stdout",
     "output_type": "stream",
     "text": [
      "Epoch 55\n",
      "-------------------------------\n"
     ]
    },
    {
     "name": "stderr",
     "output_type": "stream",
     "text": [
      "\u001b[37m\u001b[01m[2021-05-18 18:45:09,970] [Epoch: 55] [Batch: 10 of 157] [Loss = 2.0775] [Accuracy = 12.50] [0.037 sec/batch]\u001b[0m\n",
      "\u001b[37m\u001b[01m[2021-05-18 18:45:10,383] [Epoch: 55] [Batch: 20 of 157] [Loss = 2.0798] [Accuracy = 15.62] [0.040 sec/batch]\u001b[0m\n",
      "\u001b[37m\u001b[01m[2021-05-18 18:45:10,789] [Epoch: 55] [Batch: 30 of 157] [Loss = 2.0943] [Accuracy = 6.25] [0.039 sec/batch]\u001b[0m\n",
      "\u001b[37m\u001b[01m[2021-05-18 18:45:11,196] [Epoch: 55] [Batch: 40 of 157] [Loss = 2.0834] [Accuracy = 6.25] [0.038 sec/batch]\u001b[0m\n",
      "\u001b[37m\u001b[01m[2021-05-18 18:45:11,608] [Epoch: 55] [Batch: 50 of 157] [Loss = 2.0869] [Accuracy = 15.62] [0.037 sec/batch]\u001b[0m\n",
      "\u001b[37m\u001b[01m[2021-05-18 18:45:12,022] [Epoch: 55] [Batch: 60 of 157] [Loss = 2.0706] [Accuracy = 18.75] [0.040 sec/batch]\u001b[0m\n",
      "\u001b[37m\u001b[01m[2021-05-18 18:45:12,438] [Epoch: 55] [Batch: 70 of 157] [Loss = 2.0768] [Accuracy = 15.62] [0.042 sec/batch]\u001b[0m\n",
      "\u001b[37m\u001b[01m[2021-05-18 18:45:12,837] [Epoch: 55] [Batch: 80 of 157] [Loss = 2.0841] [Accuracy = 3.12] [0.037 sec/batch]\u001b[0m\n",
      "\u001b[37m\u001b[01m[2021-05-18 18:45:13,242] [Epoch: 55] [Batch: 90 of 157] [Loss = 2.0656] [Accuracy = 21.88] [0.039 sec/batch]\u001b[0m\n",
      "\u001b[37m\u001b[01m[2021-05-18 18:45:13,658] [Epoch: 55] [Batch: 100 of 157] [Loss = 2.0729] [Accuracy = 6.25] [0.038 sec/batch]\u001b[0m\n",
      "\u001b[37m\u001b[01m[2021-05-18 18:45:14,063] [Epoch: 55] [Batch: 110 of 157] [Loss = 2.0839] [Accuracy = 18.75] [0.039 sec/batch]\u001b[0m\n",
      "\u001b[37m\u001b[01m[2021-05-18 18:45:14,467] [Epoch: 55] [Batch: 120 of 157] [Loss = 2.0745] [Accuracy = 15.62] [0.038 sec/batch]\u001b[0m\n",
      "\u001b[37m\u001b[01m[2021-05-18 18:45:14,859] [Epoch: 55] [Batch: 130 of 157] [Loss = 2.0813] [Accuracy = 15.62] [0.041 sec/batch]\u001b[0m\n",
      "\u001b[37m\u001b[01m[2021-05-18 18:45:15,257] [Epoch: 55] [Batch: 140 of 157] [Loss = 2.0784] [Accuracy = 15.62] [0.040 sec/batch]\u001b[0m\n",
      "\u001b[37m\u001b[01m[2021-05-18 18:45:15,659] [Epoch: 55] [Batch: 150 of 157] [Loss = 2.0714] [Accuracy = 18.75] [0.040 sec/batch]\u001b[0m\n",
      "\u001b[37m\u001b[01m[2021-05-18 18:45:15,938] [Epoch: 56] [Batch: 0 of 157] [Loss = 2.0871] [Accuracy = 9.38] [0.036 sec/batch]\u001b[0m\n"
     ]
    },
    {
     "name": "stdout",
     "output_type": "stream",
     "text": [
      "Epoch 56\n",
      "-------------------------------\n"
     ]
    },
    {
     "name": "stderr",
     "output_type": "stream",
     "text": [
      "\u001b[37m\u001b[01m[2021-05-18 18:45:16,341] [Epoch: 56] [Batch: 10 of 157] [Loss = 2.0703] [Accuracy = 12.50] [0.039 sec/batch]\u001b[0m\n",
      "\u001b[37m\u001b[01m[2021-05-18 18:45:16,753] [Epoch: 56] [Batch: 20 of 157] [Loss = 2.0781] [Accuracy = 9.38] [0.036 sec/batch]\u001b[0m\n",
      "\u001b[37m\u001b[01m[2021-05-18 18:45:17,167] [Epoch: 56] [Batch: 30 of 157] [Loss = 2.0771] [Accuracy = 6.25] [0.043 sec/batch]\u001b[0m\n",
      "\u001b[37m\u001b[01m[2021-05-18 18:45:17,585] [Epoch: 56] [Batch: 40 of 157] [Loss = 2.0864] [Accuracy = 9.38] [0.040 sec/batch]\u001b[0m\n",
      "\u001b[37m\u001b[01m[2021-05-18 18:45:17,974] [Epoch: 56] [Batch: 50 of 157] [Loss = 2.0779] [Accuracy = 15.62] [0.043 sec/batch]\u001b[0m\n",
      "\u001b[37m\u001b[01m[2021-05-18 18:45:18,375] [Epoch: 56] [Batch: 60 of 157] [Loss = 2.0748] [Accuracy = 18.75] [0.036 sec/batch]\u001b[0m\n",
      "\u001b[37m\u001b[01m[2021-05-18 18:45:18,780] [Epoch: 56] [Batch: 70 of 157] [Loss = 2.0637] [Accuracy = 25.00] [0.041 sec/batch]\u001b[0m\n",
      "\u001b[37m\u001b[01m[2021-05-18 18:45:19,179] [Epoch: 56] [Batch: 80 of 157] [Loss = 2.0697] [Accuracy = 12.50] [0.040 sec/batch]\u001b[0m\n",
      "\u001b[37m\u001b[01m[2021-05-18 18:45:19,561] [Epoch: 56] [Batch: 90 of 157] [Loss = 2.0715] [Accuracy = 15.62] [0.041 sec/batch]\u001b[0m\n",
      "\u001b[37m\u001b[01m[2021-05-18 18:45:19,951] [Epoch: 56] [Batch: 100 of 157] [Loss = 2.0883] [Accuracy = 0.00] [0.039 sec/batch]\u001b[0m\n",
      "\u001b[37m\u001b[01m[2021-05-18 18:45:20,354] [Epoch: 56] [Batch: 110 of 157] [Loss = 2.0756] [Accuracy = 9.38] [0.039 sec/batch]\u001b[0m\n",
      "\u001b[37m\u001b[01m[2021-05-18 18:45:20,735] [Epoch: 56] [Batch: 120 of 157] [Loss = 2.0770] [Accuracy = 9.38] [0.038 sec/batch]\u001b[0m\n",
      "\u001b[37m\u001b[01m[2021-05-18 18:45:21,138] [Epoch: 56] [Batch: 130 of 157] [Loss = 2.0758] [Accuracy = 15.62] [0.039 sec/batch]\u001b[0m\n",
      "\u001b[37m\u001b[01m[2021-05-18 18:45:21,530] [Epoch: 56] [Batch: 140 of 157] [Loss = 2.0898] [Accuracy = 6.25] [0.039 sec/batch]\u001b[0m\n",
      "\u001b[37m\u001b[01m[2021-05-18 18:45:21,936] [Epoch: 56] [Batch: 150 of 157] [Loss = 2.0874] [Accuracy = 9.38] [0.041 sec/batch]\u001b[0m\n",
      "\u001b[37m\u001b[01m[2021-05-18 18:45:22,230] [Epoch: 57] [Batch: 0 of 157] [Loss = 2.0694] [Accuracy = 18.75] [0.040 sec/batch]\u001b[0m\n"
     ]
    },
    {
     "name": "stdout",
     "output_type": "stream",
     "text": [
      "Epoch 57\n",
      "-------------------------------\n"
     ]
    },
    {
     "name": "stderr",
     "output_type": "stream",
     "text": [
      "\u001b[37m\u001b[01m[2021-05-18 18:45:22,647] [Epoch: 57] [Batch: 10 of 157] [Loss = 2.0810] [Accuracy = 9.38] [0.040 sec/batch]\u001b[0m\n",
      "\u001b[37m\u001b[01m[2021-05-18 18:45:23,064] [Epoch: 57] [Batch: 20 of 157] [Loss = 2.0811] [Accuracy = 15.62] [0.036 sec/batch]\u001b[0m\n",
      "\u001b[37m\u001b[01m[2021-05-18 18:45:23,473] [Epoch: 57] [Batch: 30 of 157] [Loss = 2.0752] [Accuracy = 9.38] [0.039 sec/batch]\u001b[0m\n",
      "\u001b[37m\u001b[01m[2021-05-18 18:45:23,886] [Epoch: 57] [Batch: 40 of 157] [Loss = 2.0832] [Accuracy = 6.25] [0.039 sec/batch]\u001b[0m\n",
      "\u001b[37m\u001b[01m[2021-05-18 18:45:24,301] [Epoch: 57] [Batch: 50 of 157] [Loss = 2.0784] [Accuracy = 15.62] [0.039 sec/batch]\u001b[0m\n",
      "\u001b[37m\u001b[01m[2021-05-18 18:45:24,716] [Epoch: 57] [Batch: 60 of 157] [Loss = 2.0686] [Accuracy = 25.00] [0.038 sec/batch]\u001b[0m\n",
      "\u001b[37m\u001b[01m[2021-05-18 18:45:25,119] [Epoch: 57] [Batch: 70 of 157] [Loss = 2.0853] [Accuracy = 9.38] [0.042 sec/batch]\u001b[0m\n",
      "\u001b[37m\u001b[01m[2021-05-18 18:45:25,520] [Epoch: 57] [Batch: 80 of 157] [Loss = 2.0748] [Accuracy = 15.62] [0.042 sec/batch]\u001b[0m\n",
      "\u001b[37m\u001b[01m[2021-05-18 18:45:25,924] [Epoch: 57] [Batch: 90 of 157] [Loss = 2.0680] [Accuracy = 18.75] [0.043 sec/batch]\u001b[0m\n",
      "\u001b[37m\u001b[01m[2021-05-18 18:45:26,334] [Epoch: 57] [Batch: 100 of 157] [Loss = 2.0857] [Accuracy = 9.38] [0.040 sec/batch]\u001b[0m\n",
      "\u001b[37m\u001b[01m[2021-05-18 18:45:26,768] [Epoch: 57] [Batch: 110 of 157] [Loss = 2.0930] [Accuracy = 6.25] [0.049 sec/batch]\u001b[0m\n",
      "\u001b[37m\u001b[01m[2021-05-18 18:45:27,161] [Epoch: 57] [Batch: 120 of 157] [Loss = 2.0709] [Accuracy = 18.75] [0.038 sec/batch]\u001b[0m\n",
      "\u001b[37m\u001b[01m[2021-05-18 18:45:27,569] [Epoch: 57] [Batch: 130 of 157] [Loss = 2.0807] [Accuracy = 12.50] [0.038 sec/batch]\u001b[0m\n",
      "\u001b[37m\u001b[01m[2021-05-18 18:45:27,958] [Epoch: 57] [Batch: 140 of 157] [Loss = 2.0679] [Accuracy = 18.75] [0.033 sec/batch]\u001b[0m\n",
      "\u001b[37m\u001b[01m[2021-05-18 18:45:28,361] [Epoch: 57] [Batch: 150 of 157] [Loss = 2.0684] [Accuracy = 15.62] [0.039 sec/batch]\u001b[0m\n",
      "\u001b[37m\u001b[01m[2021-05-18 18:45:28,643] [Epoch: 58] [Batch: 0 of 157] [Loss = 2.0750] [Accuracy = 6.25] [0.040 sec/batch]\u001b[0m\n"
     ]
    },
    {
     "name": "stdout",
     "output_type": "stream",
     "text": [
      "Epoch 58\n",
      "-------------------------------\n"
     ]
    },
    {
     "name": "stderr",
     "output_type": "stream",
     "text": [
      "\u001b[37m\u001b[01m[2021-05-18 18:45:29,025] [Epoch: 58] [Batch: 10 of 157] [Loss = 2.0869] [Accuracy = 12.50] [0.039 sec/batch]\u001b[0m\n",
      "\u001b[37m\u001b[01m[2021-05-18 18:45:29,420] [Epoch: 58] [Batch: 20 of 157] [Loss = 2.0768] [Accuracy = 6.25] [0.037 sec/batch]\u001b[0m\n",
      "\u001b[37m\u001b[01m[2021-05-18 18:45:29,820] [Epoch: 58] [Batch: 30 of 157] [Loss = 2.0769] [Accuracy = 18.75] [0.036 sec/batch]\u001b[0m\n",
      "\u001b[37m\u001b[01m[2021-05-18 18:45:30,210] [Epoch: 58] [Batch: 40 of 157] [Loss = 2.0809] [Accuracy = 3.12] [0.038 sec/batch]\u001b[0m\n",
      "\u001b[37m\u001b[01m[2021-05-18 18:45:30,610] [Epoch: 58] [Batch: 50 of 157] [Loss = 2.0810] [Accuracy = 3.12] [0.038 sec/batch]\u001b[0m\n",
      "\u001b[37m\u001b[01m[2021-05-18 18:45:31,006] [Epoch: 58] [Batch: 60 of 157] [Loss = 2.0853] [Accuracy = 9.38] [0.037 sec/batch]\u001b[0m\n",
      "\u001b[37m\u001b[01m[2021-05-18 18:45:31,393] [Epoch: 58] [Batch: 70 of 157] [Loss = 2.0685] [Accuracy = 25.00] [0.038 sec/batch]\u001b[0m\n",
      "\u001b[37m\u001b[01m[2021-05-18 18:45:31,797] [Epoch: 58] [Batch: 80 of 157] [Loss = 2.0680] [Accuracy = 12.50] [0.039 sec/batch]\u001b[0m\n",
      "\u001b[37m\u001b[01m[2021-05-18 18:45:32,201] [Epoch: 58] [Batch: 90 of 157] [Loss = 2.0871] [Accuracy = 12.50] [0.038 sec/batch]\u001b[0m\n",
      "\u001b[37m\u001b[01m[2021-05-18 18:45:32,605] [Epoch: 58] [Batch: 100 of 157] [Loss = 2.0687] [Accuracy = 21.88] [0.040 sec/batch]\u001b[0m\n",
      "\u001b[37m\u001b[01m[2021-05-18 18:45:33,011] [Epoch: 58] [Batch: 110 of 157] [Loss = 2.0751] [Accuracy = 18.75] [0.038 sec/batch]\u001b[0m\n",
      "\u001b[37m\u001b[01m[2021-05-18 18:45:33,418] [Epoch: 58] [Batch: 120 of 157] [Loss = 2.0779] [Accuracy = 21.88] [0.038 sec/batch]\u001b[0m\n",
      "\u001b[37m\u001b[01m[2021-05-18 18:45:33,829] [Epoch: 58] [Batch: 130 of 157] [Loss = 2.0809] [Accuracy = 9.38] [0.040 sec/batch]\u001b[0m\n",
      "\u001b[37m\u001b[01m[2021-05-18 18:45:34,236] [Epoch: 58] [Batch: 140 of 157] [Loss = 2.0733] [Accuracy = 12.50] [0.041 sec/batch]\u001b[0m\n",
      "\u001b[37m\u001b[01m[2021-05-18 18:45:34,642] [Epoch: 58] [Batch: 150 of 157] [Loss = 2.0716] [Accuracy = 12.50] [0.036 sec/batch]\u001b[0m\n",
      "\u001b[37m\u001b[01m[2021-05-18 18:45:34,921] [Epoch: 59] [Batch: 0 of 157] [Loss = 2.0802] [Accuracy = 12.50] [0.037 sec/batch]\u001b[0m\n"
     ]
    },
    {
     "name": "stdout",
     "output_type": "stream",
     "text": [
      "Epoch 59\n",
      "-------------------------------\n"
     ]
    },
    {
     "name": "stderr",
     "output_type": "stream",
     "text": [
      "\u001b[37m\u001b[01m[2021-05-18 18:45:35,321] [Epoch: 59] [Batch: 10 of 157] [Loss = 2.0824] [Accuracy = 12.50] [0.042 sec/batch]\u001b[0m\n",
      "\u001b[37m\u001b[01m[2021-05-18 18:45:35,722] [Epoch: 59] [Batch: 20 of 157] [Loss = 2.0721] [Accuracy = 15.62] [0.040 sec/batch]\u001b[0m\n",
      "\u001b[37m\u001b[01m[2021-05-18 18:45:36,117] [Epoch: 59] [Batch: 30 of 157] [Loss = 2.0833] [Accuracy = 9.38] [0.039 sec/batch]\u001b[0m\n",
      "\u001b[37m\u001b[01m[2021-05-18 18:45:36,523] [Epoch: 59] [Batch: 40 of 157] [Loss = 2.0730] [Accuracy = 9.38] [0.041 sec/batch]\u001b[0m\n",
      "\u001b[37m\u001b[01m[2021-05-18 18:45:36,925] [Epoch: 59] [Batch: 50 of 157] [Loss = 2.0813] [Accuracy = 3.12] [0.042 sec/batch]\u001b[0m\n",
      "\u001b[37m\u001b[01m[2021-05-18 18:45:37,330] [Epoch: 59] [Batch: 60 of 157] [Loss = 2.0714] [Accuracy = 12.50] [0.039 sec/batch]\u001b[0m\n",
      "\u001b[37m\u001b[01m[2021-05-18 18:45:37,730] [Epoch: 59] [Batch: 70 of 157] [Loss = 2.0763] [Accuracy = 15.62] [0.039 sec/batch]\u001b[0m\n",
      "\u001b[37m\u001b[01m[2021-05-18 18:45:38,134] [Epoch: 59] [Batch: 80 of 157] [Loss = 2.0650] [Accuracy = 18.75] [0.040 sec/batch]\u001b[0m\n",
      "\u001b[37m\u001b[01m[2021-05-18 18:45:38,546] [Epoch: 59] [Batch: 90 of 157] [Loss = 2.0618] [Accuracy = 21.88] [0.040 sec/batch]\u001b[0m\n",
      "\u001b[37m\u001b[01m[2021-05-18 18:45:38,956] [Epoch: 59] [Batch: 100 of 157] [Loss = 2.0669] [Accuracy = 28.12] [0.041 sec/batch]\u001b[0m\n",
      "\u001b[37m\u001b[01m[2021-05-18 18:45:39,355] [Epoch: 59] [Batch: 110 of 157] [Loss = 2.0748] [Accuracy = 18.75] [0.037 sec/batch]\u001b[0m\n",
      "\u001b[37m\u001b[01m[2021-05-18 18:45:39,761] [Epoch: 59] [Batch: 120 of 157] [Loss = 2.0716] [Accuracy = 12.50] [0.038 sec/batch]\u001b[0m\n",
      "\u001b[37m\u001b[01m[2021-05-18 18:45:40,166] [Epoch: 59] [Batch: 130 of 157] [Loss = 2.0697] [Accuracy = 12.50] [0.042 sec/batch]\u001b[0m\n",
      "\u001b[37m\u001b[01m[2021-05-18 18:45:40,573] [Epoch: 59] [Batch: 140 of 157] [Loss = 2.0704] [Accuracy = 9.38] [0.041 sec/batch]\u001b[0m\n",
      "\u001b[37m\u001b[01m[2021-05-18 18:45:40,998] [Epoch: 59] [Batch: 150 of 157] [Loss = 2.0643] [Accuracy = 12.50] [0.043 sec/batch]\u001b[0m\n",
      "\u001b[37m\u001b[01m[2021-05-18 18:45:41,299] [Epoch: 60] [Batch: 0 of 157] [Loss = 2.0884] [Accuracy = 12.50] [0.042 sec/batch]\u001b[0m\n"
     ]
    },
    {
     "name": "stdout",
     "output_type": "stream",
     "text": [
      "Epoch 60\n",
      "-------------------------------\n"
     ]
    },
    {
     "name": "stderr",
     "output_type": "stream",
     "text": [
      "\u001b[37m\u001b[01m[2021-05-18 18:45:41,719] [Epoch: 60] [Batch: 10 of 157] [Loss = 2.0859] [Accuracy = 9.38] [0.039 sec/batch]\u001b[0m\n",
      "\u001b[37m\u001b[01m[2021-05-18 18:45:42,126] [Epoch: 60] [Batch: 20 of 157] [Loss = 2.0837] [Accuracy = 12.50] [0.042 sec/batch]\u001b[0m\n",
      "\u001b[37m\u001b[01m[2021-05-18 18:45:42,540] [Epoch: 60] [Batch: 30 of 157] [Loss = 2.0827] [Accuracy = 15.62] [0.037 sec/batch]\u001b[0m\n",
      "\u001b[37m\u001b[01m[2021-05-18 18:45:42,962] [Epoch: 60] [Batch: 40 of 157] [Loss = 2.0834] [Accuracy = 6.25] [0.042 sec/batch]\u001b[0m\n",
      "\u001b[37m\u001b[01m[2021-05-18 18:45:43,358] [Epoch: 60] [Batch: 50 of 157] [Loss = 2.0801] [Accuracy = 12.50] [0.040 sec/batch]\u001b[0m\n",
      "\u001b[37m\u001b[01m[2021-05-18 18:45:43,768] [Epoch: 60] [Batch: 60 of 157] [Loss = 2.0976] [Accuracy = 3.12] [0.041 sec/batch]\u001b[0m\n",
      "\u001b[37m\u001b[01m[2021-05-18 18:45:44,192] [Epoch: 60] [Batch: 70 of 157] [Loss = 2.0818] [Accuracy = 9.38] [0.038 sec/batch]\u001b[0m\n",
      "\u001b[37m\u001b[01m[2021-05-18 18:45:44,596] [Epoch: 60] [Batch: 80 of 157] [Loss = 2.0704] [Accuracy = 18.75] [0.039 sec/batch]\u001b[0m\n",
      "\u001b[37m\u001b[01m[2021-05-18 18:45:45,003] [Epoch: 60] [Batch: 90 of 157] [Loss = 2.0808] [Accuracy = 15.62] [0.038 sec/batch]\u001b[0m\n",
      "\u001b[37m\u001b[01m[2021-05-18 18:45:45,410] [Epoch: 60] [Batch: 100 of 157] [Loss = 2.0740] [Accuracy = 15.62] [0.036 sec/batch]\u001b[0m\n",
      "\u001b[37m\u001b[01m[2021-05-18 18:45:45,823] [Epoch: 60] [Batch: 110 of 157] [Loss = 2.0708] [Accuracy = 12.50] [0.039 sec/batch]\u001b[0m\n",
      "\u001b[37m\u001b[01m[2021-05-18 18:45:46,232] [Epoch: 60] [Batch: 120 of 157] [Loss = 2.0759] [Accuracy = 12.50] [0.038 sec/batch]\u001b[0m\n",
      "\u001b[37m\u001b[01m[2021-05-18 18:45:46,634] [Epoch: 60] [Batch: 130 of 157] [Loss = 2.0705] [Accuracy = 18.75] [0.037 sec/batch]\u001b[0m\n",
      "\u001b[37m\u001b[01m[2021-05-18 18:45:47,028] [Epoch: 60] [Batch: 140 of 157] [Loss = 2.0755] [Accuracy = 12.50] [0.040 sec/batch]\u001b[0m\n",
      "\u001b[37m\u001b[01m[2021-05-18 18:45:47,426] [Epoch: 60] [Batch: 150 of 157] [Loss = 2.0836] [Accuracy = 12.50] [0.039 sec/batch]\u001b[0m\n",
      "\u001b[37m\u001b[01m[2021-05-18 18:45:47,706] [Epoch: 61] [Batch: 0 of 157] [Loss = 2.0679] [Accuracy = 18.75] [0.036 sec/batch]\u001b[0m\n"
     ]
    },
    {
     "name": "stdout",
     "output_type": "stream",
     "text": [
      "Epoch 61\n",
      "-------------------------------\n"
     ]
    },
    {
     "name": "stderr",
     "output_type": "stream",
     "text": [
      "\u001b[37m\u001b[01m[2021-05-18 18:45:48,122] [Epoch: 61] [Batch: 10 of 157] [Loss = 2.0689] [Accuracy = 18.75] [0.038 sec/batch]\u001b[0m\n",
      "\u001b[37m\u001b[01m[2021-05-18 18:45:48,539] [Epoch: 61] [Batch: 20 of 157] [Loss = 2.0803] [Accuracy = 6.25] [0.038 sec/batch]\u001b[0m\n",
      "\u001b[37m\u001b[01m[2021-05-18 18:45:48,951] [Epoch: 61] [Batch: 30 of 157] [Loss = 2.0691] [Accuracy = 15.62] [0.039 sec/batch]\u001b[0m\n",
      "\u001b[37m\u001b[01m[2021-05-18 18:45:49,366] [Epoch: 61] [Batch: 40 of 157] [Loss = 2.0659] [Accuracy = 18.75] [0.039 sec/batch]\u001b[0m\n",
      "\u001b[37m\u001b[01m[2021-05-18 18:45:49,775] [Epoch: 61] [Batch: 50 of 157] [Loss = 2.0815] [Accuracy = 6.25] [0.038 sec/batch]\u001b[0m\n",
      "\u001b[37m\u001b[01m[2021-05-18 18:45:50,188] [Epoch: 61] [Batch: 60 of 157] [Loss = 2.0739] [Accuracy = 15.62] [0.040 sec/batch]\u001b[0m\n",
      "\u001b[37m\u001b[01m[2021-05-18 18:45:50,591] [Epoch: 61] [Batch: 70 of 157] [Loss = 2.0772] [Accuracy = 25.00] [0.037 sec/batch]\u001b[0m\n",
      "\u001b[37m\u001b[01m[2021-05-18 18:45:51,016] [Epoch: 61] [Batch: 80 of 157] [Loss = 2.0700] [Accuracy = 15.62] [0.042 sec/batch]\u001b[0m\n",
      "\u001b[37m\u001b[01m[2021-05-18 18:45:51,438] [Epoch: 61] [Batch: 90 of 157] [Loss = 2.0845] [Accuracy = 12.50] [0.039 sec/batch]\u001b[0m\n",
      "\u001b[37m\u001b[01m[2021-05-18 18:45:51,854] [Epoch: 61] [Batch: 100 of 157] [Loss = 2.0823] [Accuracy = 9.38] [0.043 sec/batch]\u001b[0m\n",
      "\u001b[37m\u001b[01m[2021-05-18 18:45:52,262] [Epoch: 61] [Batch: 110 of 157] [Loss = 2.0888] [Accuracy = 12.50] [0.040 sec/batch]\u001b[0m\n",
      "\u001b[37m\u001b[01m[2021-05-18 18:45:52,680] [Epoch: 61] [Batch: 120 of 157] [Loss = 2.0588] [Accuracy = 28.12] [0.043 sec/batch]\u001b[0m\n",
      "\u001b[37m\u001b[01m[2021-05-18 18:45:53,086] [Epoch: 61] [Batch: 130 of 157] [Loss = 2.0751] [Accuracy = 12.50] [0.039 sec/batch]\u001b[0m\n",
      "\u001b[37m\u001b[01m[2021-05-18 18:45:53,493] [Epoch: 61] [Batch: 140 of 157] [Loss = 2.0809] [Accuracy = 9.38] [0.042 sec/batch]\u001b[0m\n",
      "\u001b[37m\u001b[01m[2021-05-18 18:45:53,900] [Epoch: 61] [Batch: 150 of 157] [Loss = 2.0867] [Accuracy = 18.75] [0.043 sec/batch]\u001b[0m\n",
      "\u001b[37m\u001b[01m[2021-05-18 18:45:54,188] [Epoch: 62] [Batch: 0 of 157] [Loss = 2.0773] [Accuracy = 15.62] [0.042 sec/batch]\u001b[0m\n"
     ]
    },
    {
     "name": "stdout",
     "output_type": "stream",
     "text": [
      "Epoch 62\n",
      "-------------------------------\n"
     ]
    },
    {
     "name": "stderr",
     "output_type": "stream",
     "text": [
      "\u001b[37m\u001b[01m[2021-05-18 18:45:54,610] [Epoch: 62] [Batch: 10 of 157] [Loss = 2.0783] [Accuracy = 12.50] [0.039 sec/batch]\u001b[0m\n",
      "\u001b[37m\u001b[01m[2021-05-18 18:45:55,018] [Epoch: 62] [Batch: 20 of 157] [Loss = 2.0816] [Accuracy = 9.38] [0.038 sec/batch]\u001b[0m\n",
      "\u001b[37m\u001b[01m[2021-05-18 18:45:55,429] [Epoch: 62] [Batch: 30 of 157] [Loss = 2.0822] [Accuracy = 12.50] [0.039 sec/batch]\u001b[0m\n",
      "\u001b[37m\u001b[01m[2021-05-18 18:45:55,838] [Epoch: 62] [Batch: 40 of 157] [Loss = 2.1045] [Accuracy = 3.12] [0.040 sec/batch]\u001b[0m\n",
      "\u001b[37m\u001b[01m[2021-05-18 18:45:56,237] [Epoch: 62] [Batch: 50 of 157] [Loss = 2.0784] [Accuracy = 15.62] [0.039 sec/batch]\u001b[0m\n",
      "\u001b[37m\u001b[01m[2021-05-18 18:45:56,643] [Epoch: 62] [Batch: 60 of 157] [Loss = 2.0758] [Accuracy = 18.75] [0.039 sec/batch]\u001b[0m\n",
      "\u001b[37m\u001b[01m[2021-05-18 18:45:57,056] [Epoch: 62] [Batch: 70 of 157] [Loss = 2.0750] [Accuracy = 12.50] [0.037 sec/batch]\u001b[0m\n",
      "\u001b[37m\u001b[01m[2021-05-18 18:45:57,466] [Epoch: 62] [Batch: 80 of 157] [Loss = 2.0812] [Accuracy = 12.50] [0.040 sec/batch]\u001b[0m\n",
      "\u001b[37m\u001b[01m[2021-05-18 18:45:57,879] [Epoch: 62] [Batch: 90 of 157] [Loss = 2.0723] [Accuracy = 21.88] [0.040 sec/batch]\u001b[0m\n",
      "\u001b[37m\u001b[01m[2021-05-18 18:45:58,290] [Epoch: 62] [Batch: 100 of 157] [Loss = 2.0674] [Accuracy = 18.75] [0.036 sec/batch]\u001b[0m\n",
      "\u001b[37m\u001b[01m[2021-05-18 18:45:58,702] [Epoch: 62] [Batch: 110 of 157] [Loss = 2.0865] [Accuracy = 6.25] [0.038 sec/batch]\u001b[0m\n",
      "\u001b[37m\u001b[01m[2021-05-18 18:45:59,101] [Epoch: 62] [Batch: 120 of 157] [Loss = 2.0832] [Accuracy = 3.12] [0.039 sec/batch]\u001b[0m\n",
      "\u001b[37m\u001b[01m[2021-05-18 18:45:59,497] [Epoch: 62] [Batch: 130 of 157] [Loss = 2.0725] [Accuracy = 15.62] [0.039 sec/batch]\u001b[0m\n",
      "\u001b[37m\u001b[01m[2021-05-18 18:45:59,916] [Epoch: 62] [Batch: 140 of 157] [Loss = 2.0786] [Accuracy = 12.50] [0.036 sec/batch]\u001b[0m\n",
      "\u001b[37m\u001b[01m[2021-05-18 18:46:00,330] [Epoch: 62] [Batch: 150 of 157] [Loss = 2.0823] [Accuracy = 15.62] [0.042 sec/batch]\u001b[0m\n",
      "\u001b[37m\u001b[01m[2021-05-18 18:46:00,608] [Epoch: 63] [Batch: 0 of 157] [Loss = 2.0829] [Accuracy = 12.50] [0.039 sec/batch]\u001b[0m\n"
     ]
    },
    {
     "name": "stdout",
     "output_type": "stream",
     "text": [
      "Epoch 63\n",
      "-------------------------------\n"
     ]
    },
    {
     "name": "stderr",
     "output_type": "stream",
     "text": [
      "\u001b[37m\u001b[01m[2021-05-18 18:46:01,025] [Epoch: 63] [Batch: 10 of 157] [Loss = 2.0624] [Accuracy = 25.00] [0.039 sec/batch]\u001b[0m\n",
      "\u001b[37m\u001b[01m[2021-05-18 18:46:01,429] [Epoch: 63] [Batch: 20 of 157] [Loss = 2.0780] [Accuracy = 15.62] [0.040 sec/batch]\u001b[0m\n",
      "\u001b[37m\u001b[01m[2021-05-18 18:46:01,828] [Epoch: 63] [Batch: 30 of 157] [Loss = 2.0785] [Accuracy = 9.38] [0.039 sec/batch]\u001b[0m\n",
      "\u001b[37m\u001b[01m[2021-05-18 18:46:02,260] [Epoch: 63] [Batch: 40 of 157] [Loss = 2.0879] [Accuracy = 9.38] [0.037 sec/batch]\u001b[0m\n",
      "\u001b[37m\u001b[01m[2021-05-18 18:46:02,677] [Epoch: 63] [Batch: 50 of 157] [Loss = 2.0673] [Accuracy = 15.62] [0.040 sec/batch]\u001b[0m\n",
      "\u001b[37m\u001b[01m[2021-05-18 18:46:03,090] [Epoch: 63] [Batch: 60 of 157] [Loss = 2.0865] [Accuracy = 9.38] [0.043 sec/batch]\u001b[0m\n",
      "\u001b[37m\u001b[01m[2021-05-18 18:46:03,497] [Epoch: 63] [Batch: 70 of 157] [Loss = 2.0830] [Accuracy = 9.38] [0.039 sec/batch]\u001b[0m\n",
      "\u001b[37m\u001b[01m[2021-05-18 18:46:03,893] [Epoch: 63] [Batch: 80 of 157] [Loss = 2.0812] [Accuracy = 9.38] [0.037 sec/batch]\u001b[0m\n",
      "\u001b[37m\u001b[01m[2021-05-18 18:46:04,299] [Epoch: 63] [Batch: 90 of 157] [Loss = 2.0679] [Accuracy = 21.88] [0.040 sec/batch]\u001b[0m\n",
      "\u001b[37m\u001b[01m[2021-05-18 18:46:04,721] [Epoch: 63] [Batch: 100 of 157] [Loss = 2.0875] [Accuracy = 6.25] [0.040 sec/batch]\u001b[0m\n",
      "\u001b[37m\u001b[01m[2021-05-18 18:46:05,138] [Epoch: 63] [Batch: 110 of 157] [Loss = 2.0665] [Accuracy = 9.38] [0.042 sec/batch]\u001b[0m\n",
      "\u001b[37m\u001b[01m[2021-05-18 18:46:05,546] [Epoch: 63] [Batch: 120 of 157] [Loss = 2.0651] [Accuracy = 15.62] [0.039 sec/batch]\u001b[0m\n",
      "\u001b[37m\u001b[01m[2021-05-18 18:46:05,956] [Epoch: 63] [Batch: 130 of 157] [Loss = 2.0926] [Accuracy = 6.25] [0.039 sec/batch]\u001b[0m\n",
      "\u001b[37m\u001b[01m[2021-05-18 18:46:06,371] [Epoch: 63] [Batch: 140 of 157] [Loss = 2.0799] [Accuracy = 6.25] [0.042 sec/batch]\u001b[0m\n",
      "\u001b[37m\u001b[01m[2021-05-18 18:46:06,783] [Epoch: 63] [Batch: 150 of 157] [Loss = 2.0782] [Accuracy = 15.62] [0.041 sec/batch]\u001b[0m\n",
      "\u001b[37m\u001b[01m[2021-05-18 18:46:07,057] [Epoch: 64] [Batch: 0 of 157] [Loss = 2.0738] [Accuracy = 18.75] [0.036 sec/batch]\u001b[0m\n"
     ]
    },
    {
     "name": "stdout",
     "output_type": "stream",
     "text": [
      "Epoch 64\n",
      "-------------------------------\n"
     ]
    },
    {
     "name": "stderr",
     "output_type": "stream",
     "text": [
      "\u001b[37m\u001b[01m[2021-05-18 18:46:07,472] [Epoch: 64] [Batch: 10 of 157] [Loss = 2.0909] [Accuracy = 15.62] [0.041 sec/batch]\u001b[0m\n",
      "\u001b[37m\u001b[01m[2021-05-18 18:46:07,876] [Epoch: 64] [Batch: 20 of 157] [Loss = 2.0827] [Accuracy = 6.25] [0.039 sec/batch]\u001b[0m\n",
      "\u001b[37m\u001b[01m[2021-05-18 18:46:08,287] [Epoch: 64] [Batch: 30 of 157] [Loss = 2.0758] [Accuracy = 9.38] [0.039 sec/batch]\u001b[0m\n",
      "\u001b[37m\u001b[01m[2021-05-18 18:46:08,698] [Epoch: 64] [Batch: 40 of 157] [Loss = 2.0692] [Accuracy = 12.50] [0.042 sec/batch]\u001b[0m\n",
      "\u001b[37m\u001b[01m[2021-05-18 18:46:09,110] [Epoch: 64] [Batch: 50 of 157] [Loss = 2.0792] [Accuracy = 12.50] [0.041 sec/batch]\u001b[0m\n",
      "\u001b[37m\u001b[01m[2021-05-18 18:46:09,514] [Epoch: 64] [Batch: 60 of 157] [Loss = 2.0878] [Accuracy = 3.12] [0.041 sec/batch]\u001b[0m\n",
      "\u001b[37m\u001b[01m[2021-05-18 18:46:09,923] [Epoch: 64] [Batch: 70 of 157] [Loss = 2.0842] [Accuracy = 6.25] [0.040 sec/batch]\u001b[0m\n",
      "\u001b[37m\u001b[01m[2021-05-18 18:46:10,334] [Epoch: 64] [Batch: 80 of 157] [Loss = 2.0836] [Accuracy = 6.25] [0.038 sec/batch]\u001b[0m\n",
      "\u001b[37m\u001b[01m[2021-05-18 18:46:10,752] [Epoch: 64] [Batch: 90 of 157] [Loss = 2.0837] [Accuracy = 9.38] [0.044 sec/batch]\u001b[0m\n",
      "\u001b[37m\u001b[01m[2021-05-18 18:46:11,174] [Epoch: 64] [Batch: 100 of 157] [Loss = 2.0712] [Accuracy = 21.88] [0.040 sec/batch]\u001b[0m\n",
      "\u001b[37m\u001b[01m[2021-05-18 18:46:11,579] [Epoch: 64] [Batch: 110 of 157] [Loss = 2.0756] [Accuracy = 6.25] [0.042 sec/batch]\u001b[0m\n",
      "\u001b[37m\u001b[01m[2021-05-18 18:46:11,993] [Epoch: 64] [Batch: 120 of 157] [Loss = 2.0688] [Accuracy = 15.62] [0.039 sec/batch]\u001b[0m\n",
      "\u001b[37m\u001b[01m[2021-05-18 18:46:12,398] [Epoch: 64] [Batch: 130 of 157] [Loss = 2.0779] [Accuracy = 18.75] [0.039 sec/batch]\u001b[0m\n",
      "\u001b[37m\u001b[01m[2021-05-18 18:46:12,802] [Epoch: 64] [Batch: 140 of 157] [Loss = 2.0856] [Accuracy = 0.00] [0.036 sec/batch]\u001b[0m\n",
      "\u001b[37m\u001b[01m[2021-05-18 18:46:13,197] [Epoch: 64] [Batch: 150 of 157] [Loss = 2.0778] [Accuracy = 6.25] [0.042 sec/batch]\u001b[0m\n",
      "\u001b[37m\u001b[01m[2021-05-18 18:46:13,483] [Epoch: 65] [Batch: 0 of 157] [Loss = 2.0596] [Accuracy = 21.88] [0.040 sec/batch]\u001b[0m\n"
     ]
    },
    {
     "name": "stdout",
     "output_type": "stream",
     "text": [
      "Epoch 65\n",
      "-------------------------------\n"
     ]
    },
    {
     "name": "stderr",
     "output_type": "stream",
     "text": [
      "\u001b[37m\u001b[01m[2021-05-18 18:46:13,899] [Epoch: 65] [Batch: 10 of 157] [Loss = 2.0589] [Accuracy = 21.88] [0.042 sec/batch]\u001b[0m\n",
      "\u001b[37m\u001b[01m[2021-05-18 18:46:14,314] [Epoch: 65] [Batch: 20 of 157] [Loss = 2.0763] [Accuracy = 9.38] [0.040 sec/batch]\u001b[0m\n",
      "\u001b[37m\u001b[01m[2021-05-18 18:46:14,728] [Epoch: 65] [Batch: 30 of 157] [Loss = 2.0634] [Accuracy = 15.62] [0.037 sec/batch]\u001b[0m\n",
      "\u001b[37m\u001b[01m[2021-05-18 18:46:15,134] [Epoch: 65] [Batch: 40 of 157] [Loss = 2.0799] [Accuracy = 12.50] [0.041 sec/batch]\u001b[0m\n",
      "\u001b[37m\u001b[01m[2021-05-18 18:46:15,536] [Epoch: 65] [Batch: 50 of 157] [Loss = 2.0938] [Accuracy = 9.38] [0.039 sec/batch]\u001b[0m\n",
      "\u001b[37m\u001b[01m[2021-05-18 18:46:15,958] [Epoch: 65] [Batch: 60 of 157] [Loss = 2.0611] [Accuracy = 21.88] [0.039 sec/batch]\u001b[0m\n",
      "\u001b[37m\u001b[01m[2021-05-18 18:46:16,383] [Epoch: 65] [Batch: 70 of 157] [Loss = 2.0826] [Accuracy = 12.50] [0.047 sec/batch]\u001b[0m\n",
      "\u001b[37m\u001b[01m[2021-05-18 18:46:16,783] [Epoch: 65] [Batch: 80 of 157] [Loss = 2.0782] [Accuracy = 12.50] [0.042 sec/batch]\u001b[0m\n",
      "\u001b[37m\u001b[01m[2021-05-18 18:46:17,177] [Epoch: 65] [Batch: 90 of 157] [Loss = 2.0818] [Accuracy = 6.25] [0.038 sec/batch]\u001b[0m\n",
      "\u001b[37m\u001b[01m[2021-05-18 18:46:17,591] [Epoch: 65] [Batch: 100 of 157] [Loss = 2.0755] [Accuracy = 18.75] [0.043 sec/batch]\u001b[0m\n",
      "\u001b[37m\u001b[01m[2021-05-18 18:46:17,989] [Epoch: 65] [Batch: 110 of 157] [Loss = 2.0795] [Accuracy = 12.50] [0.042 sec/batch]\u001b[0m\n",
      "\u001b[37m\u001b[01m[2021-05-18 18:46:18,407] [Epoch: 65] [Batch: 120 of 157] [Loss = 2.0766] [Accuracy = 12.50] [0.040 sec/batch]\u001b[0m\n",
      "\u001b[37m\u001b[01m[2021-05-18 18:46:18,823] [Epoch: 65] [Batch: 130 of 157] [Loss = 2.0813] [Accuracy = 9.38] [0.040 sec/batch]\u001b[0m\n",
      "\u001b[37m\u001b[01m[2021-05-18 18:46:19,242] [Epoch: 65] [Batch: 140 of 157] [Loss = 2.0762] [Accuracy = 18.75] [0.041 sec/batch]\u001b[0m\n",
      "\u001b[37m\u001b[01m[2021-05-18 18:46:19,658] [Epoch: 65] [Batch: 150 of 157] [Loss = 2.0860] [Accuracy = 9.38] [0.042 sec/batch]\u001b[0m\n",
      "\u001b[37m\u001b[01m[2021-05-18 18:46:19,932] [Epoch: 66] [Batch: 0 of 157] [Loss = 2.0760] [Accuracy = 12.50] [0.043 sec/batch]\u001b[0m\n"
     ]
    },
    {
     "name": "stdout",
     "output_type": "stream",
     "text": [
      "Epoch 66\n",
      "-------------------------------\n"
     ]
    },
    {
     "name": "stderr",
     "output_type": "stream",
     "text": [
      "\u001b[37m\u001b[01m[2021-05-18 18:46:20,335] [Epoch: 66] [Batch: 10 of 157] [Loss = 2.0751] [Accuracy = 18.75] [0.044 sec/batch]\u001b[0m\n",
      "\u001b[37m\u001b[01m[2021-05-18 18:46:20,746] [Epoch: 66] [Batch: 20 of 157] [Loss = 2.0650] [Accuracy = 25.00] [0.041 sec/batch]\u001b[0m\n",
      "\u001b[37m\u001b[01m[2021-05-18 18:46:21,154] [Epoch: 66] [Batch: 30 of 157] [Loss = 2.0698] [Accuracy = 21.88] [0.040 sec/batch]\u001b[0m\n",
      "\u001b[37m\u001b[01m[2021-05-18 18:46:21,555] [Epoch: 66] [Batch: 40 of 157] [Loss = 2.0831] [Accuracy = 15.62] [0.040 sec/batch]\u001b[0m\n",
      "\u001b[37m\u001b[01m[2021-05-18 18:46:21,972] [Epoch: 66] [Batch: 50 of 157] [Loss = 2.0703] [Accuracy = 18.75] [0.043 sec/batch]\u001b[0m\n",
      "\u001b[37m\u001b[01m[2021-05-18 18:46:22,378] [Epoch: 66] [Batch: 60 of 157] [Loss = 2.0822] [Accuracy = 6.25] [0.041 sec/batch]\u001b[0m\n",
      "\u001b[37m\u001b[01m[2021-05-18 18:46:22,796] [Epoch: 66] [Batch: 70 of 157] [Loss = 2.0741] [Accuracy = 12.50] [0.043 sec/batch]\u001b[0m\n",
      "\u001b[37m\u001b[01m[2021-05-18 18:46:23,201] [Epoch: 66] [Batch: 80 of 157] [Loss = 2.0744] [Accuracy = 9.38] [0.040 sec/batch]\u001b[0m\n",
      "\u001b[37m\u001b[01m[2021-05-18 18:46:23,605] [Epoch: 66] [Batch: 90 of 157] [Loss = 2.0783] [Accuracy = 9.38] [0.039 sec/batch]\u001b[0m\n",
      "\u001b[37m\u001b[01m[2021-05-18 18:46:24,035] [Epoch: 66] [Batch: 100 of 157] [Loss = 2.0692] [Accuracy = 15.62] [0.041 sec/batch]\u001b[0m\n",
      "\u001b[37m\u001b[01m[2021-05-18 18:46:24,450] [Epoch: 66] [Batch: 110 of 157] [Loss = 2.0707] [Accuracy = 15.62] [0.039 sec/batch]\u001b[0m\n",
      "\u001b[37m\u001b[01m[2021-05-18 18:46:24,873] [Epoch: 66] [Batch: 120 of 157] [Loss = 2.0767] [Accuracy = 18.75] [0.040 sec/batch]\u001b[0m\n",
      "\u001b[37m\u001b[01m[2021-05-18 18:46:25,275] [Epoch: 66] [Batch: 130 of 157] [Loss = 2.0800] [Accuracy = 0.00] [0.040 sec/batch]\u001b[0m\n",
      "\u001b[37m\u001b[01m[2021-05-18 18:46:25,710] [Epoch: 66] [Batch: 140 of 157] [Loss = 2.0808] [Accuracy = 12.50] [0.041 sec/batch]\u001b[0m\n",
      "\u001b[37m\u001b[01m[2021-05-18 18:46:26,122] [Epoch: 66] [Batch: 150 of 157] [Loss = 2.0592] [Accuracy = 21.88] [0.039 sec/batch]\u001b[0m\n",
      "\u001b[37m\u001b[01m[2021-05-18 18:46:26,400] [Epoch: 67] [Batch: 0 of 157] [Loss = 2.0693] [Accuracy = 18.75] [0.041 sec/batch]\u001b[0m\n"
     ]
    },
    {
     "name": "stdout",
     "output_type": "stream",
     "text": [
      "Epoch 67\n",
      "-------------------------------\n"
     ]
    },
    {
     "name": "stderr",
     "output_type": "stream",
     "text": [
      "\u001b[37m\u001b[01m[2021-05-18 18:46:26,824] [Epoch: 67] [Batch: 10 of 157] [Loss = 2.0673] [Accuracy = 9.38] [0.041 sec/batch]\u001b[0m\n",
      "\u001b[37m\u001b[01m[2021-05-18 18:46:27,236] [Epoch: 67] [Batch: 20 of 157] [Loss = 2.0720] [Accuracy = 18.75] [0.038 sec/batch]\u001b[0m\n",
      "\u001b[37m\u001b[01m[2021-05-18 18:46:27,658] [Epoch: 67] [Batch: 30 of 157] [Loss = 2.0979] [Accuracy = 3.12] [0.039 sec/batch]\u001b[0m\n",
      "\u001b[37m\u001b[01m[2021-05-18 18:46:28,070] [Epoch: 67] [Batch: 40 of 157] [Loss = 2.0755] [Accuracy = 9.38] [0.041 sec/batch]\u001b[0m\n",
      "\u001b[37m\u001b[01m[2021-05-18 18:46:28,481] [Epoch: 67] [Batch: 50 of 157] [Loss = 2.0807] [Accuracy = 3.12] [0.039 sec/batch]\u001b[0m\n",
      "\u001b[37m\u001b[01m[2021-05-18 18:46:28,888] [Epoch: 67] [Batch: 60 of 157] [Loss = 2.0770] [Accuracy = 15.62] [0.043 sec/batch]\u001b[0m\n",
      "\u001b[37m\u001b[01m[2021-05-18 18:46:29,297] [Epoch: 67] [Batch: 70 of 157] [Loss = 2.0695] [Accuracy = 15.62] [0.045 sec/batch]\u001b[0m\n",
      "\u001b[37m\u001b[01m[2021-05-18 18:46:29,715] [Epoch: 67] [Batch: 80 of 157] [Loss = 2.0679] [Accuracy = 21.88] [0.043 sec/batch]\u001b[0m\n",
      "\u001b[37m\u001b[01m[2021-05-18 18:46:30,126] [Epoch: 67] [Batch: 90 of 157] [Loss = 2.0798] [Accuracy = 12.50] [0.039 sec/batch]\u001b[0m\n",
      "\u001b[37m\u001b[01m[2021-05-18 18:46:30,538] [Epoch: 67] [Batch: 100 of 157] [Loss = 2.0708] [Accuracy = 9.38] [0.039 sec/batch]\u001b[0m\n",
      "\u001b[37m\u001b[01m[2021-05-18 18:46:30,946] [Epoch: 67] [Batch: 110 of 157] [Loss = 2.0896] [Accuracy = 9.38] [0.039 sec/batch]\u001b[0m\n",
      "\u001b[37m\u001b[01m[2021-05-18 18:46:31,347] [Epoch: 67] [Batch: 120 of 157] [Loss = 2.0614] [Accuracy = 21.88] [0.039 sec/batch]\u001b[0m\n",
      "\u001b[37m\u001b[01m[2021-05-18 18:46:31,762] [Epoch: 67] [Batch: 130 of 157] [Loss = 2.0887] [Accuracy = 9.38] [0.042 sec/batch]\u001b[0m\n",
      "\u001b[37m\u001b[01m[2021-05-18 18:46:32,169] [Epoch: 67] [Batch: 140 of 157] [Loss = 2.0892] [Accuracy = 18.75] [0.040 sec/batch]\u001b[0m\n",
      "\u001b[37m\u001b[01m[2021-05-18 18:46:32,588] [Epoch: 67] [Batch: 150 of 157] [Loss = 2.0782] [Accuracy = 6.25] [0.041 sec/batch]\u001b[0m\n",
      "\u001b[37m\u001b[01m[2021-05-18 18:46:32,877] [Epoch: 68] [Batch: 0 of 157] [Loss = 2.0722] [Accuracy = 15.62] [0.040 sec/batch]\u001b[0m\n"
     ]
    },
    {
     "name": "stdout",
     "output_type": "stream",
     "text": [
      "Epoch 68\n",
      "-------------------------------\n"
     ]
    },
    {
     "name": "stderr",
     "output_type": "stream",
     "text": [
      "\u001b[37m\u001b[01m[2021-05-18 18:46:33,281] [Epoch: 68] [Batch: 10 of 157] [Loss = 2.0851] [Accuracy = 12.50] [0.038 sec/batch]\u001b[0m\n",
      "\u001b[37m\u001b[01m[2021-05-18 18:46:33,699] [Epoch: 68] [Batch: 20 of 157] [Loss = 2.0702] [Accuracy = 25.00] [0.040 sec/batch]\u001b[0m\n",
      "\u001b[37m\u001b[01m[2021-05-18 18:46:34,105] [Epoch: 68] [Batch: 30 of 157] [Loss = 2.0712] [Accuracy = 12.50] [0.039 sec/batch]\u001b[0m\n",
      "\u001b[37m\u001b[01m[2021-05-18 18:46:34,509] [Epoch: 68] [Batch: 40 of 157] [Loss = 2.0618] [Accuracy = 15.62] [0.039 sec/batch]\u001b[0m\n",
      "\u001b[37m\u001b[01m[2021-05-18 18:46:34,905] [Epoch: 68] [Batch: 50 of 157] [Loss = 2.0650] [Accuracy = 25.00] [0.039 sec/batch]\u001b[0m\n",
      "\u001b[37m\u001b[01m[2021-05-18 18:46:35,324] [Epoch: 68] [Batch: 60 of 157] [Loss = 2.0702] [Accuracy = 9.38] [0.042 sec/batch]\u001b[0m\n",
      "\u001b[37m\u001b[01m[2021-05-18 18:46:35,726] [Epoch: 68] [Batch: 70 of 157] [Loss = 2.0786] [Accuracy = 12.50] [0.039 sec/batch]\u001b[0m\n",
      "\u001b[37m\u001b[01m[2021-05-18 18:46:36,146] [Epoch: 68] [Batch: 80 of 157] [Loss = 2.0643] [Accuracy = 15.62] [0.043 sec/batch]\u001b[0m\n",
      "\u001b[37m\u001b[01m[2021-05-18 18:46:36,567] [Epoch: 68] [Batch: 90 of 157] [Loss = 2.0849] [Accuracy = 6.25] [0.044 sec/batch]\u001b[0m\n",
      "\u001b[37m\u001b[01m[2021-05-18 18:46:36,962] [Epoch: 68] [Batch: 100 of 157] [Loss = 2.0873] [Accuracy = 6.25] [0.038 sec/batch]\u001b[0m\n",
      "\u001b[37m\u001b[01m[2021-05-18 18:46:37,368] [Epoch: 68] [Batch: 110 of 157] [Loss = 2.0875] [Accuracy = 6.25] [0.042 sec/batch]\u001b[0m\n",
      "\u001b[37m\u001b[01m[2021-05-18 18:46:37,770] [Epoch: 68] [Batch: 120 of 157] [Loss = 2.0774] [Accuracy = 12.50] [0.041 sec/batch]\u001b[0m\n",
      "\u001b[37m\u001b[01m[2021-05-18 18:46:38,171] [Epoch: 68] [Batch: 130 of 157] [Loss = 2.0831] [Accuracy = 12.50] [0.040 sec/batch]\u001b[0m\n",
      "\u001b[37m\u001b[01m[2021-05-18 18:46:38,588] [Epoch: 68] [Batch: 140 of 157] [Loss = 2.0870] [Accuracy = 12.50] [0.036 sec/batch]\u001b[0m\n",
      "\u001b[37m\u001b[01m[2021-05-18 18:46:39,011] [Epoch: 68] [Batch: 150 of 157] [Loss = 2.0699] [Accuracy = 25.00] [0.042 sec/batch]\u001b[0m\n",
      "\u001b[37m\u001b[01m[2021-05-18 18:46:39,302] [Epoch: 69] [Batch: 0 of 157] [Loss = 2.0777] [Accuracy = 18.75] [0.042 sec/batch]\u001b[0m\n"
     ]
    },
    {
     "name": "stdout",
     "output_type": "stream",
     "text": [
      "Epoch 69\n",
      "-------------------------------\n"
     ]
    },
    {
     "name": "stderr",
     "output_type": "stream",
     "text": [
      "\u001b[37m\u001b[01m[2021-05-18 18:46:39,708] [Epoch: 69] [Batch: 10 of 157] [Loss = 2.0828] [Accuracy = 9.38] [0.043 sec/batch]\u001b[0m\n",
      "\u001b[37m\u001b[01m[2021-05-18 18:46:40,117] [Epoch: 69] [Batch: 20 of 157] [Loss = 2.0713] [Accuracy = 15.62] [0.039 sec/batch]\u001b[0m\n",
      "\u001b[37m\u001b[01m[2021-05-18 18:46:40,530] [Epoch: 69] [Batch: 30 of 157] [Loss = 2.0742] [Accuracy = 15.62] [0.039 sec/batch]\u001b[0m\n",
      "\u001b[37m\u001b[01m[2021-05-18 18:46:40,924] [Epoch: 69] [Batch: 40 of 157] [Loss = 2.0893] [Accuracy = 9.38] [0.040 sec/batch]\u001b[0m\n",
      "\u001b[37m\u001b[01m[2021-05-18 18:46:41,339] [Epoch: 69] [Batch: 50 of 157] [Loss = 2.0725] [Accuracy = 15.62] [0.042 sec/batch]\u001b[0m\n",
      "\u001b[37m\u001b[01m[2021-05-18 18:46:41,746] [Epoch: 69] [Batch: 60 of 157] [Loss = 2.0826] [Accuracy = 15.62] [0.046 sec/batch]\u001b[0m\n",
      "\u001b[37m\u001b[01m[2021-05-18 18:46:42,152] [Epoch: 69] [Batch: 70 of 157] [Loss = 2.0702] [Accuracy = 25.00] [0.036 sec/batch]\u001b[0m\n",
      "\u001b[37m\u001b[01m[2021-05-18 18:46:42,549] [Epoch: 69] [Batch: 80 of 157] [Loss = 2.0637] [Accuracy = 31.25] [0.039 sec/batch]\u001b[0m\n",
      "\u001b[37m\u001b[01m[2021-05-18 18:46:42,956] [Epoch: 69] [Batch: 90 of 157] [Loss = 2.0861] [Accuracy = 6.25] [0.039 sec/batch]\u001b[0m\n",
      "\u001b[37m\u001b[01m[2021-05-18 18:46:43,343] [Epoch: 69] [Batch: 100 of 157] [Loss = 2.0769] [Accuracy = 6.25] [0.039 sec/batch]\u001b[0m\n",
      "\u001b[37m\u001b[01m[2021-05-18 18:46:43,737] [Epoch: 69] [Batch: 110 of 157] [Loss = 2.0709] [Accuracy = 15.62] [0.039 sec/batch]\u001b[0m\n",
      "\u001b[37m\u001b[01m[2021-05-18 18:46:44,127] [Epoch: 69] [Batch: 120 of 157] [Loss = 2.0712] [Accuracy = 12.50] [0.037 sec/batch]\u001b[0m\n",
      "\u001b[37m\u001b[01m[2021-05-18 18:46:44,541] [Epoch: 69] [Batch: 130 of 157] [Loss = 2.0772] [Accuracy = 15.62] [0.043 sec/batch]\u001b[0m\n",
      "\u001b[37m\u001b[01m[2021-05-18 18:46:44,922] [Epoch: 69] [Batch: 140 of 157] [Loss = 2.0846] [Accuracy = 12.50] [0.039 sec/batch]\u001b[0m\n",
      "\u001b[37m\u001b[01m[2021-05-18 18:46:45,331] [Epoch: 69] [Batch: 150 of 157] [Loss = 2.0743] [Accuracy = 15.62] [0.040 sec/batch]\u001b[0m\n",
      "\u001b[37m\u001b[01m[2021-05-18 18:46:45,636] [Epoch: 70] [Batch: 0 of 157] [Loss = 2.0761] [Accuracy = 18.75] [0.041 sec/batch]\u001b[0m\n"
     ]
    },
    {
     "name": "stdout",
     "output_type": "stream",
     "text": [
      "Epoch 70\n",
      "-------------------------------\n"
     ]
    },
    {
     "name": "stderr",
     "output_type": "stream",
     "text": [
      "\u001b[37m\u001b[01m[2021-05-18 18:46:46,035] [Epoch: 70] [Batch: 10 of 157] [Loss = 2.0639] [Accuracy = 21.88] [0.040 sec/batch]\u001b[0m\n",
      "\u001b[37m\u001b[01m[2021-05-18 18:46:46,456] [Epoch: 70] [Batch: 20 of 157] [Loss = 2.0801] [Accuracy = 15.62] [0.042 sec/batch]\u001b[0m\n",
      "\u001b[37m\u001b[01m[2021-05-18 18:46:46,862] [Epoch: 70] [Batch: 30 of 157] [Loss = 2.0816] [Accuracy = 15.62] [0.044 sec/batch]\u001b[0m\n",
      "\u001b[37m\u001b[01m[2021-05-18 18:46:47,284] [Epoch: 70] [Batch: 40 of 157] [Loss = 2.0787] [Accuracy = 6.25] [0.041 sec/batch]\u001b[0m\n",
      "\u001b[37m\u001b[01m[2021-05-18 18:46:47,693] [Epoch: 70] [Batch: 50 of 157] [Loss = 2.0715] [Accuracy = 15.62] [0.038 sec/batch]\u001b[0m\n",
      "\u001b[37m\u001b[01m[2021-05-18 18:46:48,096] [Epoch: 70] [Batch: 60 of 157] [Loss = 2.0707] [Accuracy = 25.00] [0.041 sec/batch]\u001b[0m\n",
      "\u001b[37m\u001b[01m[2021-05-18 18:46:48,505] [Epoch: 70] [Batch: 70 of 157] [Loss = 2.0739] [Accuracy = 18.75] [0.039 sec/batch]\u001b[0m\n",
      "\u001b[37m\u001b[01m[2021-05-18 18:46:48,910] [Epoch: 70] [Batch: 80 of 157] [Loss = 2.0792] [Accuracy = 12.50] [0.040 sec/batch]\u001b[0m\n",
      "\u001b[37m\u001b[01m[2021-05-18 18:46:49,314] [Epoch: 70] [Batch: 90 of 157] [Loss = 2.0704] [Accuracy = 18.75] [0.040 sec/batch]\u001b[0m\n",
      "\u001b[37m\u001b[01m[2021-05-18 18:46:49,720] [Epoch: 70] [Batch: 100 of 157] [Loss = 2.0752] [Accuracy = 12.50] [0.037 sec/batch]\u001b[0m\n",
      "\u001b[37m\u001b[01m[2021-05-18 18:46:50,126] [Epoch: 70] [Batch: 110 of 157] [Loss = 2.0819] [Accuracy = 15.62] [0.040 sec/batch]\u001b[0m\n",
      "\u001b[37m\u001b[01m[2021-05-18 18:46:50,522] [Epoch: 70] [Batch: 120 of 157] [Loss = 2.0718] [Accuracy = 15.62] [0.039 sec/batch]\u001b[0m\n",
      "\u001b[37m\u001b[01m[2021-05-18 18:46:50,926] [Epoch: 70] [Batch: 130 of 157] [Loss = 2.0685] [Accuracy = 21.88] [0.039 sec/batch]\u001b[0m\n",
      "\u001b[37m\u001b[01m[2021-05-18 18:46:51,335] [Epoch: 70] [Batch: 140 of 157] [Loss = 2.0798] [Accuracy = 12.50] [0.040 sec/batch]\u001b[0m\n",
      "\u001b[37m\u001b[01m[2021-05-18 18:46:51,743] [Epoch: 70] [Batch: 150 of 157] [Loss = 2.0894] [Accuracy = 9.38] [0.040 sec/batch]\u001b[0m\n",
      "\u001b[37m\u001b[01m[2021-05-18 18:46:52,025] [Epoch: 71] [Batch: 0 of 157] [Loss = 2.0759] [Accuracy = 12.50] [0.037 sec/batch]\u001b[0m\n"
     ]
    },
    {
     "name": "stdout",
     "output_type": "stream",
     "text": [
      "Epoch 71\n",
      "-------------------------------\n"
     ]
    },
    {
     "name": "stderr",
     "output_type": "stream",
     "text": [
      "\u001b[37m\u001b[01m[2021-05-18 18:46:52,441] [Epoch: 71] [Batch: 10 of 157] [Loss = 2.0793] [Accuracy = 12.50] [0.039 sec/batch]\u001b[0m\n",
      "\u001b[37m\u001b[01m[2021-05-18 18:46:52,848] [Epoch: 71] [Batch: 20 of 157] [Loss = 2.0812] [Accuracy = 9.38] [0.039 sec/batch]\u001b[0m\n",
      "\u001b[37m\u001b[01m[2021-05-18 18:46:53,244] [Epoch: 71] [Batch: 30 of 157] [Loss = 2.0825] [Accuracy = 9.38] [0.039 sec/batch]\u001b[0m\n",
      "\u001b[37m\u001b[01m[2021-05-18 18:46:53,651] [Epoch: 71] [Batch: 40 of 157] [Loss = 2.0851] [Accuracy = 6.25] [0.037 sec/batch]\u001b[0m\n",
      "\u001b[37m\u001b[01m[2021-05-18 18:46:54,063] [Epoch: 71] [Batch: 50 of 157] [Loss = 2.0820] [Accuracy = 15.62] [0.040 sec/batch]\u001b[0m\n",
      "\u001b[37m\u001b[01m[2021-05-18 18:46:54,492] [Epoch: 71] [Batch: 60 of 157] [Loss = 2.0836] [Accuracy = 6.25] [0.043 sec/batch]\u001b[0m\n",
      "\u001b[37m\u001b[01m[2021-05-18 18:46:54,906] [Epoch: 71] [Batch: 70 of 157] [Loss = 2.0735] [Accuracy = 6.25] [0.039 sec/batch]\u001b[0m\n",
      "\u001b[37m\u001b[01m[2021-05-18 18:46:55,322] [Epoch: 71] [Batch: 80 of 157] [Loss = 2.0866] [Accuracy = 9.38] [0.039 sec/batch]\u001b[0m\n",
      "\u001b[37m\u001b[01m[2021-05-18 18:46:55,736] [Epoch: 71] [Batch: 90 of 157] [Loss = 2.0767] [Accuracy = 18.75] [0.037 sec/batch]\u001b[0m\n",
      "\u001b[37m\u001b[01m[2021-05-18 18:46:56,142] [Epoch: 71] [Batch: 100 of 157] [Loss = 2.0637] [Accuracy = 18.75] [0.038 sec/batch]\u001b[0m\n",
      "\u001b[37m\u001b[01m[2021-05-18 18:46:56,552] [Epoch: 71] [Batch: 110 of 157] [Loss = 2.0752] [Accuracy = 15.62] [0.043 sec/batch]\u001b[0m\n",
      "\u001b[37m\u001b[01m[2021-05-18 18:46:56,950] [Epoch: 71] [Batch: 120 of 157] [Loss = 2.0669] [Accuracy = 21.88] [0.039 sec/batch]\u001b[0m\n",
      "\u001b[37m\u001b[01m[2021-05-18 18:46:57,345] [Epoch: 71] [Batch: 130 of 157] [Loss = 2.0722] [Accuracy = 21.88] [0.042 sec/batch]\u001b[0m\n",
      "\u001b[37m\u001b[01m[2021-05-18 18:46:57,752] [Epoch: 71] [Batch: 140 of 157] [Loss = 2.0853] [Accuracy = 9.38] [0.040 sec/batch]\u001b[0m\n",
      "\u001b[37m\u001b[01m[2021-05-18 18:46:58,144] [Epoch: 71] [Batch: 150 of 157] [Loss = 2.0740] [Accuracy = 12.50] [0.037 sec/batch]\u001b[0m\n",
      "\u001b[37m\u001b[01m[2021-05-18 18:46:58,413] [Epoch: 72] [Batch: 0 of 157] [Loss = 2.0842] [Accuracy = 6.25] [0.038 sec/batch]\u001b[0m\n"
     ]
    },
    {
     "name": "stdout",
     "output_type": "stream",
     "text": [
      "Epoch 72\n",
      "-------------------------------\n"
     ]
    },
    {
     "name": "stderr",
     "output_type": "stream",
     "text": [
      "\u001b[37m\u001b[01m[2021-05-18 18:46:58,817] [Epoch: 72] [Batch: 10 of 157] [Loss = 2.0784] [Accuracy = 12.50] [0.039 sec/batch]\u001b[0m\n",
      "\u001b[37m\u001b[01m[2021-05-18 18:46:59,223] [Epoch: 72] [Batch: 20 of 157] [Loss = 2.0640] [Accuracy = 25.00] [0.038 sec/batch]\u001b[0m\n",
      "\u001b[37m\u001b[01m[2021-05-18 18:46:59,618] [Epoch: 72] [Batch: 30 of 157] [Loss = 2.0791] [Accuracy = 9.38] [0.039 sec/batch]\u001b[0m\n",
      "\u001b[37m\u001b[01m[2021-05-18 18:47:00,031] [Epoch: 72] [Batch: 40 of 157] [Loss = 2.0777] [Accuracy = 18.75] [0.042 sec/batch]\u001b[0m\n",
      "\u001b[37m\u001b[01m[2021-05-18 18:47:00,443] [Epoch: 72] [Batch: 50 of 157] [Loss = 2.0861] [Accuracy = 15.62] [0.040 sec/batch]\u001b[0m\n",
      "\u001b[37m\u001b[01m[2021-05-18 18:47:00,846] [Epoch: 72] [Batch: 60 of 157] [Loss = 2.0746] [Accuracy = 15.62] [0.033 sec/batch]\u001b[0m\n",
      "\u001b[37m\u001b[01m[2021-05-18 18:47:01,273] [Epoch: 72] [Batch: 70 of 157] [Loss = 2.0777] [Accuracy = 6.25] [0.043 sec/batch]\u001b[0m\n",
      "\u001b[37m\u001b[01m[2021-05-18 18:47:01,676] [Epoch: 72] [Batch: 80 of 157] [Loss = 2.0683] [Accuracy = 9.38] [0.041 sec/batch]\u001b[0m\n",
      "\u001b[37m\u001b[01m[2021-05-18 18:47:02,095] [Epoch: 72] [Batch: 90 of 157] [Loss = 2.0839] [Accuracy = 9.38] [0.042 sec/batch]\u001b[0m\n",
      "\u001b[37m\u001b[01m[2021-05-18 18:47:02,497] [Epoch: 72] [Batch: 100 of 157] [Loss = 2.0752] [Accuracy = 25.00] [0.040 sec/batch]\u001b[0m\n",
      "\u001b[37m\u001b[01m[2021-05-18 18:47:02,908] [Epoch: 72] [Batch: 110 of 157] [Loss = 2.1069] [Accuracy = 3.12] [0.047 sec/batch]\u001b[0m\n",
      "\u001b[37m\u001b[01m[2021-05-18 18:47:03,317] [Epoch: 72] [Batch: 120 of 157] [Loss = 2.0944] [Accuracy = 6.25] [0.042 sec/batch]\u001b[0m\n",
      "\u001b[37m\u001b[01m[2021-05-18 18:47:03,712] [Epoch: 72] [Batch: 130 of 157] [Loss = 2.0782] [Accuracy = 6.25] [0.041 sec/batch]\u001b[0m\n",
      "\u001b[37m\u001b[01m[2021-05-18 18:47:04,104] [Epoch: 72] [Batch: 140 of 157] [Loss = 2.0739] [Accuracy = 6.25] [0.041 sec/batch]\u001b[0m\n",
      "\u001b[37m\u001b[01m[2021-05-18 18:47:04,494] [Epoch: 72] [Batch: 150 of 157] [Loss = 2.0913] [Accuracy = 6.25] [0.033 sec/batch]\u001b[0m\n",
      "\u001b[37m\u001b[01m[2021-05-18 18:47:04,791] [Epoch: 73] [Batch: 0 of 157] [Loss = 2.0754] [Accuracy = 9.38] [0.038 sec/batch]\u001b[0m\n"
     ]
    },
    {
     "name": "stdout",
     "output_type": "stream",
     "text": [
      "Epoch 73\n",
      "-------------------------------\n"
     ]
    },
    {
     "name": "stderr",
     "output_type": "stream",
     "text": [
      "\u001b[37m\u001b[01m[2021-05-18 18:47:05,202] [Epoch: 73] [Batch: 10 of 157] [Loss = 2.0873] [Accuracy = 6.25] [0.040 sec/batch]\u001b[0m\n",
      "\u001b[37m\u001b[01m[2021-05-18 18:47:05,623] [Epoch: 73] [Batch: 20 of 157] [Loss = 2.0669] [Accuracy = 18.75] [0.039 sec/batch]\u001b[0m\n",
      "\u001b[37m\u001b[01m[2021-05-18 18:47:06,046] [Epoch: 73] [Batch: 30 of 157] [Loss = 2.0778] [Accuracy = 18.75] [0.041 sec/batch]\u001b[0m\n",
      "\u001b[37m\u001b[01m[2021-05-18 18:47:06,487] [Epoch: 73] [Batch: 40 of 157] [Loss = 2.0816] [Accuracy = 25.00] [0.041 sec/batch]\u001b[0m\n",
      "\u001b[37m\u001b[01m[2021-05-18 18:47:06,898] [Epoch: 73] [Batch: 50 of 157] [Loss = 2.0759] [Accuracy = 15.62] [0.040 sec/batch]\u001b[0m\n",
      "\u001b[37m\u001b[01m[2021-05-18 18:47:07,327] [Epoch: 73] [Batch: 60 of 157] [Loss = 2.0757] [Accuracy = 18.75] [0.040 sec/batch]\u001b[0m\n",
      "\u001b[37m\u001b[01m[2021-05-18 18:47:07,743] [Epoch: 73] [Batch: 70 of 157] [Loss = 2.0753] [Accuracy = 15.62] [0.044 sec/batch]\u001b[0m\n",
      "\u001b[37m\u001b[01m[2021-05-18 18:47:08,136] [Epoch: 73] [Batch: 80 of 157] [Loss = 2.0784] [Accuracy = 15.62] [0.043 sec/batch]\u001b[0m\n",
      "\u001b[37m\u001b[01m[2021-05-18 18:47:08,546] [Epoch: 73] [Batch: 90 of 157] [Loss = 2.0877] [Accuracy = 3.12] [0.034 sec/batch]\u001b[0m\n",
      "\u001b[37m\u001b[01m[2021-05-18 18:47:08,934] [Epoch: 73] [Batch: 100 of 157] [Loss = 2.0710] [Accuracy = 15.62] [0.038 sec/batch]\u001b[0m\n",
      "\u001b[37m\u001b[01m[2021-05-18 18:47:09,331] [Epoch: 73] [Batch: 110 of 157] [Loss = 2.1044] [Accuracy = 6.25] [0.033 sec/batch]\u001b[0m\n",
      "\u001b[37m\u001b[01m[2021-05-18 18:47:09,757] [Epoch: 73] [Batch: 120 of 157] [Loss = 2.0808] [Accuracy = 18.75] [0.040 sec/batch]\u001b[0m\n",
      "\u001b[37m\u001b[01m[2021-05-18 18:47:10,182] [Epoch: 73] [Batch: 130 of 157] [Loss = 2.0849] [Accuracy = 15.62] [0.043 sec/batch]\u001b[0m\n",
      "\u001b[37m\u001b[01m[2021-05-18 18:47:10,607] [Epoch: 73] [Batch: 140 of 157] [Loss = 2.0768] [Accuracy = 9.38] [0.040 sec/batch]\u001b[0m\n",
      "\u001b[37m\u001b[01m[2021-05-18 18:47:11,037] [Epoch: 73] [Batch: 150 of 157] [Loss = 2.0860] [Accuracy = 12.50] [0.042 sec/batch]\u001b[0m\n",
      "\u001b[37m\u001b[01m[2021-05-18 18:47:11,320] [Epoch: 74] [Batch: 0 of 157] [Loss = 2.0719] [Accuracy = 12.50] [0.038 sec/batch]\u001b[0m\n"
     ]
    },
    {
     "name": "stdout",
     "output_type": "stream",
     "text": [
      "Epoch 74\n",
      "-------------------------------\n"
     ]
    },
    {
     "name": "stderr",
     "output_type": "stream",
     "text": [
      "\u001b[37m\u001b[01m[2021-05-18 18:47:11,728] [Epoch: 74] [Batch: 10 of 157] [Loss = 2.0785] [Accuracy = 6.25] [0.037 sec/batch]\u001b[0m\n",
      "\u001b[37m\u001b[01m[2021-05-18 18:47:12,128] [Epoch: 74] [Batch: 20 of 157] [Loss = 2.0767] [Accuracy = 18.75] [0.041 sec/batch]\u001b[0m\n",
      "\u001b[37m\u001b[01m[2021-05-18 18:47:12,532] [Epoch: 74] [Batch: 30 of 157] [Loss = 2.0878] [Accuracy = 9.38] [0.039 sec/batch]\u001b[0m\n",
      "\u001b[37m\u001b[01m[2021-05-18 18:47:12,939] [Epoch: 74] [Batch: 40 of 157] [Loss = 2.0717] [Accuracy = 18.75] [0.037 sec/batch]\u001b[0m\n",
      "\u001b[37m\u001b[01m[2021-05-18 18:47:13,356] [Epoch: 74] [Batch: 50 of 157] [Loss = 2.0681] [Accuracy = 12.50] [0.043 sec/batch]\u001b[0m\n",
      "\u001b[37m\u001b[01m[2021-05-18 18:47:13,763] [Epoch: 74] [Batch: 60 of 157] [Loss = 2.0816] [Accuracy = 15.62] [0.040 sec/batch]\u001b[0m\n",
      "\u001b[37m\u001b[01m[2021-05-18 18:47:14,164] [Epoch: 74] [Batch: 70 of 157] [Loss = 2.0515] [Accuracy = 28.12] [0.040 sec/batch]\u001b[0m\n",
      "\u001b[37m\u001b[01m[2021-05-18 18:47:14,571] [Epoch: 74] [Batch: 80 of 157] [Loss = 2.0855] [Accuracy = 9.38] [0.042 sec/batch]\u001b[0m\n",
      "\u001b[37m\u001b[01m[2021-05-18 18:47:14,968] [Epoch: 74] [Batch: 90 of 157] [Loss = 2.0766] [Accuracy = 15.62] [0.038 sec/batch]\u001b[0m\n",
      "\u001b[37m\u001b[01m[2021-05-18 18:47:15,379] [Epoch: 74] [Batch: 100 of 157] [Loss = 2.0720] [Accuracy = 21.88] [0.039 sec/batch]\u001b[0m\n",
      "\u001b[37m\u001b[01m[2021-05-18 18:47:15,788] [Epoch: 74] [Batch: 110 of 157] [Loss = 2.0878] [Accuracy = 9.38] [0.041 sec/batch]\u001b[0m\n",
      "\u001b[37m\u001b[01m[2021-05-18 18:47:16,205] [Epoch: 74] [Batch: 120 of 157] [Loss = 2.0850] [Accuracy = 15.62] [0.043 sec/batch]\u001b[0m\n",
      "\u001b[37m\u001b[01m[2021-05-18 18:47:16,618] [Epoch: 74] [Batch: 130 of 157] [Loss = 2.0712] [Accuracy = 18.75] [0.038 sec/batch]\u001b[0m\n",
      "\u001b[37m\u001b[01m[2021-05-18 18:47:17,043] [Epoch: 74] [Batch: 140 of 157] [Loss = 2.0933] [Accuracy = 18.75] [0.042 sec/batch]\u001b[0m\n",
      "\u001b[37m\u001b[01m[2021-05-18 18:47:17,462] [Epoch: 74] [Batch: 150 of 157] [Loss = 2.0901] [Accuracy = 6.25] [0.039 sec/batch]\u001b[0m\n",
      "\u001b[37m\u001b[01m[2021-05-18 18:47:17,741] [Epoch: 75] [Batch: 0 of 157] [Loss = 2.0682] [Accuracy = 21.88] [0.037 sec/batch]\u001b[0m\n"
     ]
    },
    {
     "name": "stdout",
     "output_type": "stream",
     "text": [
      "Epoch 75\n",
      "-------------------------------\n"
     ]
    },
    {
     "name": "stderr",
     "output_type": "stream",
     "text": [
      "\u001b[37m\u001b[01m[2021-05-18 18:47:18,162] [Epoch: 75] [Batch: 10 of 157] [Loss = 2.0776] [Accuracy = 9.38] [0.039 sec/batch]\u001b[0m\n",
      "\u001b[37m\u001b[01m[2021-05-18 18:47:18,578] [Epoch: 75] [Batch: 20 of 157] [Loss = 2.0970] [Accuracy = 6.25] [0.042 sec/batch]\u001b[0m\n",
      "\u001b[37m\u001b[01m[2021-05-18 18:47:18,994] [Epoch: 75] [Batch: 30 of 157] [Loss = 2.0634] [Accuracy = 25.00] [0.041 sec/batch]\u001b[0m\n",
      "\u001b[37m\u001b[01m[2021-05-18 18:47:19,396] [Epoch: 75] [Batch: 40 of 157] [Loss = 2.0916] [Accuracy = 9.38] [0.037 sec/batch]\u001b[0m\n",
      "\u001b[37m\u001b[01m[2021-05-18 18:47:19,811] [Epoch: 75] [Batch: 50 of 157] [Loss = 2.0908] [Accuracy = 9.38] [0.042 sec/batch]\u001b[0m\n",
      "\u001b[37m\u001b[01m[2021-05-18 18:47:20,218] [Epoch: 75] [Batch: 60 of 157] [Loss = 2.0771] [Accuracy = 12.50] [0.043 sec/batch]\u001b[0m\n",
      "\u001b[37m\u001b[01m[2021-05-18 18:47:20,629] [Epoch: 75] [Batch: 70 of 157] [Loss = 2.0776] [Accuracy = 21.88] [0.039 sec/batch]\u001b[0m\n",
      "\u001b[37m\u001b[01m[2021-05-18 18:47:21,033] [Epoch: 75] [Batch: 80 of 157] [Loss = 2.0832] [Accuracy = 9.38] [0.040 sec/batch]\u001b[0m\n",
      "\u001b[37m\u001b[01m[2021-05-18 18:47:21,448] [Epoch: 75] [Batch: 90 of 157] [Loss = 2.0697] [Accuracy = 21.88] [0.041 sec/batch]\u001b[0m\n",
      "\u001b[37m\u001b[01m[2021-05-18 18:47:21,846] [Epoch: 75] [Batch: 100 of 157] [Loss = 2.0655] [Accuracy = 15.62] [0.038 sec/batch]\u001b[0m\n",
      "\u001b[37m\u001b[01m[2021-05-18 18:47:22,260] [Epoch: 75] [Batch: 110 of 157] [Loss = 2.0798] [Accuracy = 9.38] [0.036 sec/batch]\u001b[0m\n",
      "\u001b[37m\u001b[01m[2021-05-18 18:47:22,679] [Epoch: 75] [Batch: 120 of 157] [Loss = 2.0912] [Accuracy = 3.12] [0.039 sec/batch]\u001b[0m\n",
      "\u001b[37m\u001b[01m[2021-05-18 18:47:23,095] [Epoch: 75] [Batch: 130 of 157] [Loss = 2.0609] [Accuracy = 28.12] [0.040 sec/batch]\u001b[0m\n",
      "\u001b[37m\u001b[01m[2021-05-18 18:47:23,485] [Epoch: 75] [Batch: 140 of 157] [Loss = 2.0817] [Accuracy = 6.25] [0.035 sec/batch]\u001b[0m\n",
      "\u001b[37m\u001b[01m[2021-05-18 18:47:23,875] [Epoch: 75] [Batch: 150 of 157] [Loss = 2.0692] [Accuracy = 12.50] [0.040 sec/batch]\u001b[0m\n",
      "\u001b[37m\u001b[01m[2021-05-18 18:47:24,150] [Epoch: 76] [Batch: 0 of 157] [Loss = 2.0785] [Accuracy = 12.50] [0.039 sec/batch]\u001b[0m\n"
     ]
    },
    {
     "name": "stdout",
     "output_type": "stream",
     "text": [
      "Epoch 76\n",
      "-------------------------------\n"
     ]
    },
    {
     "name": "stderr",
     "output_type": "stream",
     "text": [
      "\u001b[37m\u001b[01m[2021-05-18 18:47:24,541] [Epoch: 76] [Batch: 10 of 157] [Loss = 2.0904] [Accuracy = 12.50] [0.039 sec/batch]\u001b[0m\n",
      "\u001b[37m\u001b[01m[2021-05-18 18:47:24,934] [Epoch: 76] [Batch: 20 of 157] [Loss = 2.0704] [Accuracy = 18.75] [0.041 sec/batch]\u001b[0m\n",
      "\u001b[37m\u001b[01m[2021-05-18 18:47:25,363] [Epoch: 76] [Batch: 30 of 157] [Loss = 2.0721] [Accuracy = 12.50] [0.039 sec/batch]\u001b[0m\n",
      "\u001b[37m\u001b[01m[2021-05-18 18:47:25,775] [Epoch: 76] [Batch: 40 of 157] [Loss = 2.0738] [Accuracy = 18.75] [0.041 sec/batch]\u001b[0m\n",
      "\u001b[37m\u001b[01m[2021-05-18 18:47:26,191] [Epoch: 76] [Batch: 50 of 157] [Loss = 2.0815] [Accuracy = 9.38] [0.042 sec/batch]\u001b[0m\n",
      "\u001b[37m\u001b[01m[2021-05-18 18:47:26,610] [Epoch: 76] [Batch: 60 of 157] [Loss = 2.0646] [Accuracy = 21.88] [0.042 sec/batch]\u001b[0m\n",
      "\u001b[37m\u001b[01m[2021-05-18 18:47:27,024] [Epoch: 76] [Batch: 70 of 157] [Loss = 2.0774] [Accuracy = 9.38] [0.040 sec/batch]\u001b[0m\n",
      "\u001b[37m\u001b[01m[2021-05-18 18:47:27,459] [Epoch: 76] [Batch: 80 of 157] [Loss = 2.0802] [Accuracy = 15.62] [0.042 sec/batch]\u001b[0m\n",
      "\u001b[37m\u001b[01m[2021-05-18 18:47:27,882] [Epoch: 76] [Batch: 90 of 157] [Loss = 2.0815] [Accuracy = 21.88] [0.043 sec/batch]\u001b[0m\n",
      "\u001b[37m\u001b[01m[2021-05-18 18:47:28,307] [Epoch: 76] [Batch: 100 of 157] [Loss = 2.0677] [Accuracy = 12.50] [0.038 sec/batch]\u001b[0m\n",
      "\u001b[37m\u001b[01m[2021-05-18 18:47:28,722] [Epoch: 76] [Batch: 110 of 157] [Loss = 2.0754] [Accuracy = 12.50] [0.038 sec/batch]\u001b[0m\n",
      "\u001b[37m\u001b[01m[2021-05-18 18:47:29,143] [Epoch: 76] [Batch: 120 of 157] [Loss = 2.0695] [Accuracy = 12.50] [0.044 sec/batch]\u001b[0m\n",
      "\u001b[37m\u001b[01m[2021-05-18 18:47:29,553] [Epoch: 76] [Batch: 130 of 157] [Loss = 2.0768] [Accuracy = 15.62] [0.041 sec/batch]\u001b[0m\n",
      "\u001b[37m\u001b[01m[2021-05-18 18:47:29,982] [Epoch: 76] [Batch: 140 of 157] [Loss = 2.0866] [Accuracy = 12.50] [0.043 sec/batch]\u001b[0m\n",
      "\u001b[37m\u001b[01m[2021-05-18 18:47:30,389] [Epoch: 76] [Batch: 150 of 157] [Loss = 2.0758] [Accuracy = 18.75] [0.041 sec/batch]\u001b[0m\n",
      "\u001b[37m\u001b[01m[2021-05-18 18:47:30,690] [Epoch: 77] [Batch: 0 of 157] [Loss = 2.0718] [Accuracy = 18.75] [0.043 sec/batch]\u001b[0m\n"
     ]
    },
    {
     "name": "stdout",
     "output_type": "stream",
     "text": [
      "Epoch 77\n",
      "-------------------------------\n"
     ]
    },
    {
     "name": "stderr",
     "output_type": "stream",
     "text": [
      "\u001b[37m\u001b[01m[2021-05-18 18:47:31,117] [Epoch: 77] [Batch: 10 of 157] [Loss = 2.0783] [Accuracy = 15.62] [0.040 sec/batch]\u001b[0m\n",
      "\u001b[37m\u001b[01m[2021-05-18 18:47:31,531] [Epoch: 77] [Batch: 20 of 157] [Loss = 2.0742] [Accuracy = 12.50] [0.039 sec/batch]\u001b[0m\n",
      "\u001b[37m\u001b[01m[2021-05-18 18:47:31,959] [Epoch: 77] [Batch: 30 of 157] [Loss = 2.1015] [Accuracy = 0.00] [0.039 sec/batch]\u001b[0m\n",
      "\u001b[37m\u001b[01m[2021-05-18 18:47:32,384] [Epoch: 77] [Batch: 40 of 157] [Loss = 2.0771] [Accuracy = 9.38] [0.043 sec/batch]\u001b[0m\n",
      "\u001b[37m\u001b[01m[2021-05-18 18:47:32,792] [Epoch: 77] [Batch: 50 of 157] [Loss = 2.0766] [Accuracy = 12.50] [0.039 sec/batch]\u001b[0m\n",
      "\u001b[37m\u001b[01m[2021-05-18 18:47:33,202] [Epoch: 77] [Batch: 60 of 157] [Loss = 2.0818] [Accuracy = 15.62] [0.042 sec/batch]\u001b[0m\n",
      "\u001b[37m\u001b[01m[2021-05-18 18:47:33,610] [Epoch: 77] [Batch: 70 of 157] [Loss = 2.0750] [Accuracy = 3.12] [0.044 sec/batch]\u001b[0m\n",
      "\u001b[37m\u001b[01m[2021-05-18 18:47:34,030] [Epoch: 77] [Batch: 80 of 157] [Loss = 2.0773] [Accuracy = 15.62] [0.044 sec/batch]\u001b[0m\n",
      "\u001b[37m\u001b[01m[2021-05-18 18:47:34,446] [Epoch: 77] [Batch: 90 of 157] [Loss = 2.0699] [Accuracy = 15.62] [0.044 sec/batch]\u001b[0m\n",
      "\u001b[37m\u001b[01m[2021-05-18 18:47:34,878] [Epoch: 77] [Batch: 100 of 157] [Loss = 2.0702] [Accuracy = 9.38] [0.041 sec/batch]\u001b[0m\n",
      "\u001b[37m\u001b[01m[2021-05-18 18:47:35,287] [Epoch: 77] [Batch: 110 of 157] [Loss = 2.0738] [Accuracy = 18.75] [0.038 sec/batch]\u001b[0m\n",
      "\u001b[37m\u001b[01m[2021-05-18 18:47:35,713] [Epoch: 77] [Batch: 120 of 157] [Loss = 2.0720] [Accuracy = 12.50] [0.039 sec/batch]\u001b[0m\n",
      "\u001b[37m\u001b[01m[2021-05-18 18:47:36,121] [Epoch: 77] [Batch: 130 of 157] [Loss = 2.0784] [Accuracy = 15.62] [0.039 sec/batch]\u001b[0m\n",
      "\u001b[37m\u001b[01m[2021-05-18 18:47:36,534] [Epoch: 77] [Batch: 140 of 157] [Loss = 2.0881] [Accuracy = 12.50] [0.039 sec/batch]\u001b[0m\n",
      "\u001b[37m\u001b[01m[2021-05-18 18:47:36,947] [Epoch: 77] [Batch: 150 of 157] [Loss = 2.0737] [Accuracy = 12.50] [0.043 sec/batch]\u001b[0m\n",
      "\u001b[37m\u001b[01m[2021-05-18 18:47:37,233] [Epoch: 78] [Batch: 0 of 157] [Loss = 2.0765] [Accuracy = 15.62] [0.039 sec/batch]\u001b[0m\n"
     ]
    },
    {
     "name": "stdout",
     "output_type": "stream",
     "text": [
      "Epoch 78\n",
      "-------------------------------\n"
     ]
    },
    {
     "name": "stderr",
     "output_type": "stream",
     "text": [
      "\u001b[37m\u001b[01m[2021-05-18 18:47:37,633] [Epoch: 78] [Batch: 10 of 157] [Loss = 2.0781] [Accuracy = 15.62] [0.038 sec/batch]\u001b[0m\n",
      "\u001b[37m\u001b[01m[2021-05-18 18:47:38,045] [Epoch: 78] [Batch: 20 of 157] [Loss = 2.0788] [Accuracy = 12.50] [0.040 sec/batch]\u001b[0m\n",
      "\u001b[37m\u001b[01m[2021-05-18 18:47:38,453] [Epoch: 78] [Batch: 30 of 157] [Loss = 2.0581] [Accuracy = 25.00] [0.036 sec/batch]\u001b[0m\n",
      "\u001b[37m\u001b[01m[2021-05-18 18:47:38,862] [Epoch: 78] [Batch: 40 of 157] [Loss = 2.0795] [Accuracy = 9.38] [0.044 sec/batch]\u001b[0m\n",
      "\u001b[37m\u001b[01m[2021-05-18 18:47:39,286] [Epoch: 78] [Batch: 50 of 157] [Loss = 2.0800] [Accuracy = 12.50] [0.038 sec/batch]\u001b[0m\n",
      "\u001b[37m\u001b[01m[2021-05-18 18:47:39,707] [Epoch: 78] [Batch: 60 of 157] [Loss = 2.0836] [Accuracy = 12.50] [0.039 sec/batch]\u001b[0m\n",
      "\u001b[37m\u001b[01m[2021-05-18 18:47:40,132] [Epoch: 78] [Batch: 70 of 157] [Loss = 2.0766] [Accuracy = 21.88] [0.044 sec/batch]\u001b[0m\n",
      "\u001b[37m\u001b[01m[2021-05-18 18:47:40,546] [Epoch: 78] [Batch: 80 of 157] [Loss = 2.0775] [Accuracy = 18.75] [0.038 sec/batch]\u001b[0m\n",
      "\u001b[37m\u001b[01m[2021-05-18 18:47:40,969] [Epoch: 78] [Batch: 90 of 157] [Loss = 2.0711] [Accuracy = 15.62] [0.039 sec/batch]\u001b[0m\n",
      "\u001b[37m\u001b[01m[2021-05-18 18:47:41,367] [Epoch: 78] [Batch: 100 of 157] [Loss = 2.0684] [Accuracy = 21.88] [0.040 sec/batch]\u001b[0m\n",
      "\u001b[37m\u001b[01m[2021-05-18 18:47:41,777] [Epoch: 78] [Batch: 110 of 157] [Loss = 2.0753] [Accuracy = 15.62] [0.040 sec/batch]\u001b[0m\n",
      "\u001b[37m\u001b[01m[2021-05-18 18:47:42,187] [Epoch: 78] [Batch: 120 of 157] [Loss = 2.0767] [Accuracy = 12.50] [0.040 sec/batch]\u001b[0m\n",
      "\u001b[37m\u001b[01m[2021-05-18 18:47:42,603] [Epoch: 78] [Batch: 130 of 157] [Loss = 2.0811] [Accuracy = 9.38] [0.041 sec/batch]\u001b[0m\n",
      "\u001b[37m\u001b[01m[2021-05-18 18:47:43,017] [Epoch: 78] [Batch: 140 of 157] [Loss = 2.0783] [Accuracy = 12.50] [0.039 sec/batch]\u001b[0m\n",
      "\u001b[37m\u001b[01m[2021-05-18 18:47:43,435] [Epoch: 78] [Batch: 150 of 157] [Loss = 2.0784] [Accuracy = 21.88] [0.041 sec/batch]\u001b[0m\n",
      "\u001b[37m\u001b[01m[2021-05-18 18:47:43,719] [Epoch: 79] [Batch: 0 of 157] [Loss = 2.0790] [Accuracy = 12.50] [0.038 sec/batch]\u001b[0m\n"
     ]
    },
    {
     "name": "stdout",
     "output_type": "stream",
     "text": [
      "Epoch 79\n",
      "-------------------------------\n"
     ]
    },
    {
     "name": "stderr",
     "output_type": "stream",
     "text": [
      "\u001b[37m\u001b[01m[2021-05-18 18:47:44,103] [Epoch: 79] [Batch: 10 of 157] [Loss = 2.0677] [Accuracy = 18.75] [0.038 sec/batch]\u001b[0m\n",
      "\u001b[37m\u001b[01m[2021-05-18 18:47:44,498] [Epoch: 79] [Batch: 20 of 157] [Loss = 2.0728] [Accuracy = 18.75] [0.036 sec/batch]\u001b[0m\n",
      "\u001b[37m\u001b[01m[2021-05-18 18:47:44,909] [Epoch: 79] [Batch: 30 of 157] [Loss = 2.0779] [Accuracy = 12.50] [0.042 sec/batch]\u001b[0m\n",
      "\u001b[37m\u001b[01m[2021-05-18 18:47:45,325] [Epoch: 79] [Batch: 40 of 157] [Loss = 2.0701] [Accuracy = 12.50] [0.040 sec/batch]\u001b[0m\n",
      "\u001b[37m\u001b[01m[2021-05-18 18:47:45,734] [Epoch: 79] [Batch: 50 of 157] [Loss = 2.0876] [Accuracy = 15.62] [0.038 sec/batch]\u001b[0m\n",
      "\u001b[37m\u001b[01m[2021-05-18 18:47:46,135] [Epoch: 79] [Batch: 60 of 157] [Loss = 2.0766] [Accuracy = 21.88] [0.038 sec/batch]\u001b[0m\n",
      "\u001b[37m\u001b[01m[2021-05-18 18:47:46,530] [Epoch: 79] [Batch: 70 of 157] [Loss = 2.0730] [Accuracy = 15.62] [0.047 sec/batch]\u001b[0m\n",
      "\u001b[37m\u001b[01m[2021-05-18 18:47:46,926] [Epoch: 79] [Batch: 80 of 157] [Loss = 2.0792] [Accuracy = 15.62] [0.038 sec/batch]\u001b[0m\n",
      "\u001b[37m\u001b[01m[2021-05-18 18:47:47,345] [Epoch: 79] [Batch: 90 of 157] [Loss = 2.0589] [Accuracy = 18.75] [0.046 sec/batch]\u001b[0m\n",
      "\u001b[37m\u001b[01m[2021-05-18 18:47:47,754] [Epoch: 79] [Batch: 100 of 157] [Loss = 2.0854] [Accuracy = 6.25] [0.037 sec/batch]\u001b[0m\n",
      "\u001b[37m\u001b[01m[2021-05-18 18:47:48,174] [Epoch: 79] [Batch: 110 of 157] [Loss = 2.0653] [Accuracy = 21.88] [0.038 sec/batch]\u001b[0m\n",
      "\u001b[37m\u001b[01m[2021-05-18 18:47:48,587] [Epoch: 79] [Batch: 120 of 157] [Loss = 2.0836] [Accuracy = 9.38] [0.039 sec/batch]\u001b[0m\n",
      "\u001b[37m\u001b[01m[2021-05-18 18:47:48,975] [Epoch: 79] [Batch: 130 of 157] [Loss = 2.0700] [Accuracy = 18.75] [0.041 sec/batch]\u001b[0m\n",
      "\u001b[37m\u001b[01m[2021-05-18 18:47:49,353] [Epoch: 79] [Batch: 140 of 157] [Loss = 2.0889] [Accuracy = 9.38] [0.039 sec/batch]\u001b[0m\n",
      "\u001b[37m\u001b[01m[2021-05-18 18:47:49,732] [Epoch: 79] [Batch: 150 of 157] [Loss = 2.0687] [Accuracy = 18.75] [0.036 sec/batch]\u001b[0m\n",
      "\u001b[37m\u001b[01m[2021-05-18 18:47:50,005] [Epoch: 80] [Batch: 0 of 157] [Loss = 2.0755] [Accuracy = 15.62] [0.041 sec/batch]\u001b[0m\n"
     ]
    },
    {
     "name": "stdout",
     "output_type": "stream",
     "text": [
      "Epoch 80\n",
      "-------------------------------\n"
     ]
    },
    {
     "name": "stderr",
     "output_type": "stream",
     "text": [
      "\u001b[37m\u001b[01m[2021-05-18 18:47:50,392] [Epoch: 80] [Batch: 10 of 157] [Loss = 2.0962] [Accuracy = 9.38] [0.039 sec/batch]\u001b[0m\n",
      "\u001b[37m\u001b[01m[2021-05-18 18:47:50,815] [Epoch: 80] [Batch: 20 of 157] [Loss = 2.0607] [Accuracy = 21.88] [0.041 sec/batch]\u001b[0m\n",
      "\u001b[37m\u001b[01m[2021-05-18 18:47:51,222] [Epoch: 80] [Batch: 30 of 157] [Loss = 2.0817] [Accuracy = 9.38] [0.039 sec/batch]\u001b[0m\n",
      "\u001b[37m\u001b[01m[2021-05-18 18:47:51,637] [Epoch: 80] [Batch: 40 of 157] [Loss = 2.0847] [Accuracy = 12.50] [0.041 sec/batch]\u001b[0m\n",
      "\u001b[37m\u001b[01m[2021-05-18 18:47:52,038] [Epoch: 80] [Batch: 50 of 157] [Loss = 2.0860] [Accuracy = 9.38] [0.033 sec/batch]\u001b[0m\n",
      "\u001b[37m\u001b[01m[2021-05-18 18:47:52,437] [Epoch: 80] [Batch: 60 of 157] [Loss = 2.0784] [Accuracy = 6.25] [0.041 sec/batch]\u001b[0m\n",
      "\u001b[37m\u001b[01m[2021-05-18 18:47:52,844] [Epoch: 80] [Batch: 70 of 157] [Loss = 2.0691] [Accuracy = 18.75] [0.042 sec/batch]\u001b[0m\n",
      "\u001b[37m\u001b[01m[2021-05-18 18:47:53,262] [Epoch: 80] [Batch: 80 of 157] [Loss = 2.0780] [Accuracy = 9.38] [0.041 sec/batch]\u001b[0m\n",
      "\u001b[37m\u001b[01m[2021-05-18 18:47:53,675] [Epoch: 80] [Batch: 90 of 157] [Loss = 2.0776] [Accuracy = 3.12] [0.040 sec/batch]\u001b[0m\n",
      "\u001b[37m\u001b[01m[2021-05-18 18:47:54,082] [Epoch: 80] [Batch: 100 of 157] [Loss = 2.0733] [Accuracy = 15.62] [0.039 sec/batch]\u001b[0m\n",
      "\u001b[37m\u001b[01m[2021-05-18 18:47:54,490] [Epoch: 80] [Batch: 110 of 157] [Loss = 2.0853] [Accuracy = 15.62] [0.039 sec/batch]\u001b[0m\n",
      "\u001b[37m\u001b[01m[2021-05-18 18:47:54,900] [Epoch: 80] [Batch: 120 of 157] [Loss = 2.0830] [Accuracy = 9.38] [0.042 sec/batch]\u001b[0m\n",
      "\u001b[37m\u001b[01m[2021-05-18 18:47:55,301] [Epoch: 80] [Batch: 130 of 157] [Loss = 2.0736] [Accuracy = 18.75] [0.037 sec/batch]\u001b[0m\n",
      "\u001b[37m\u001b[01m[2021-05-18 18:47:55,706] [Epoch: 80] [Batch: 140 of 157] [Loss = 2.0917] [Accuracy = 3.12] [0.038 sec/batch]\u001b[0m\n",
      "\u001b[37m\u001b[01m[2021-05-18 18:47:56,118] [Epoch: 80] [Batch: 150 of 157] [Loss = 2.0804] [Accuracy = 6.25] [0.038 sec/batch]\u001b[0m\n",
      "\u001b[37m\u001b[01m[2021-05-18 18:47:56,386] [Epoch: 81] [Batch: 0 of 157] [Loss = 2.0744] [Accuracy = 15.62] [0.033 sec/batch]\u001b[0m\n"
     ]
    },
    {
     "name": "stdout",
     "output_type": "stream",
     "text": [
      "Epoch 81\n",
      "-------------------------------\n"
     ]
    },
    {
     "name": "stderr",
     "output_type": "stream",
     "text": [
      "\u001b[37m\u001b[01m[2021-05-18 18:47:56,798] [Epoch: 81] [Batch: 10 of 157] [Loss = 2.0852] [Accuracy = 6.25] [0.042 sec/batch]\u001b[0m\n",
      "\u001b[37m\u001b[01m[2021-05-18 18:47:57,204] [Epoch: 81] [Batch: 20 of 157] [Loss = 2.0845] [Accuracy = 6.25] [0.037 sec/batch]\u001b[0m\n",
      "\u001b[37m\u001b[01m[2021-05-18 18:47:57,608] [Epoch: 81] [Batch: 30 of 157] [Loss = 2.0852] [Accuracy = 3.12] [0.037 sec/batch]\u001b[0m\n",
      "\u001b[37m\u001b[01m[2021-05-18 18:47:58,001] [Epoch: 81] [Batch: 40 of 157] [Loss = 2.0720] [Accuracy = 21.88] [0.034 sec/batch]\u001b[0m\n",
      "\u001b[37m\u001b[01m[2021-05-18 18:47:58,410] [Epoch: 81] [Batch: 50 of 157] [Loss = 2.0813] [Accuracy = 6.25] [0.042 sec/batch]\u001b[0m\n",
      "\u001b[37m\u001b[01m[2021-05-18 18:47:58,823] [Epoch: 81] [Batch: 60 of 157] [Loss = 2.0706] [Accuracy = 18.75] [0.041 sec/batch]\u001b[0m\n",
      "\u001b[37m\u001b[01m[2021-05-18 18:47:59,234] [Epoch: 81] [Batch: 70 of 157] [Loss = 2.0681] [Accuracy = 18.75] [0.043 sec/batch]\u001b[0m\n",
      "\u001b[37m\u001b[01m[2021-05-18 18:47:59,654] [Epoch: 81] [Batch: 80 of 157] [Loss = 2.0665] [Accuracy = 18.75] [0.041 sec/batch]\u001b[0m\n",
      "\u001b[37m\u001b[01m[2021-05-18 18:48:00,063] [Epoch: 81] [Batch: 90 of 157] [Loss = 2.0736] [Accuracy = 15.62] [0.039 sec/batch]\u001b[0m\n",
      "\u001b[37m\u001b[01m[2021-05-18 18:48:00,467] [Epoch: 81] [Batch: 100 of 157] [Loss = 2.0873] [Accuracy = 6.25] [0.036 sec/batch]\u001b[0m\n",
      "\u001b[37m\u001b[01m[2021-05-18 18:48:00,874] [Epoch: 81] [Batch: 110 of 157] [Loss = 2.0780] [Accuracy = 15.62] [0.038 sec/batch]\u001b[0m\n",
      "\u001b[37m\u001b[01m[2021-05-18 18:48:01,283] [Epoch: 81] [Batch: 120 of 157] [Loss = 2.1026] [Accuracy = 0.00] [0.040 sec/batch]\u001b[0m\n",
      "\u001b[37m\u001b[01m[2021-05-18 18:48:01,678] [Epoch: 81] [Batch: 130 of 157] [Loss = 2.0832] [Accuracy = 15.62] [0.039 sec/batch]\u001b[0m\n",
      "\u001b[37m\u001b[01m[2021-05-18 18:48:02,079] [Epoch: 81] [Batch: 140 of 157] [Loss = 2.0846] [Accuracy = 12.50] [0.040 sec/batch]\u001b[0m\n",
      "\u001b[37m\u001b[01m[2021-05-18 18:48:02,488] [Epoch: 81] [Batch: 150 of 157] [Loss = 2.0860] [Accuracy = 15.62] [0.044 sec/batch]\u001b[0m\n",
      "\u001b[37m\u001b[01m[2021-05-18 18:48:02,778] [Epoch: 82] [Batch: 0 of 157] [Loss = 2.0833] [Accuracy = 15.62] [0.038 sec/batch]\u001b[0m\n"
     ]
    },
    {
     "name": "stdout",
     "output_type": "stream",
     "text": [
      "Epoch 82\n",
      "-------------------------------\n"
     ]
    },
    {
     "name": "stderr",
     "output_type": "stream",
     "text": [
      "\u001b[37m\u001b[01m[2021-05-18 18:48:03,197] [Epoch: 82] [Batch: 10 of 157] [Loss = 2.0845] [Accuracy = 9.38] [0.040 sec/batch]\u001b[0m\n",
      "\u001b[37m\u001b[01m[2021-05-18 18:48:03,597] [Epoch: 82] [Batch: 20 of 157] [Loss = 2.0692] [Accuracy = 12.50] [0.039 sec/batch]\u001b[0m\n",
      "\u001b[37m\u001b[01m[2021-05-18 18:48:03,998] [Epoch: 82] [Batch: 30 of 157] [Loss = 2.0757] [Accuracy = 9.38] [0.038 sec/batch]\u001b[0m\n",
      "\u001b[37m\u001b[01m[2021-05-18 18:48:04,415] [Epoch: 82] [Batch: 40 of 157] [Loss = 2.0784] [Accuracy = 15.62] [0.043 sec/batch]\u001b[0m\n",
      "\u001b[37m\u001b[01m[2021-05-18 18:48:04,829] [Epoch: 82] [Batch: 50 of 157] [Loss = 2.0787] [Accuracy = 15.62] [0.040 sec/batch]\u001b[0m\n",
      "\u001b[37m\u001b[01m[2021-05-18 18:48:05,238] [Epoch: 82] [Batch: 60 of 157] [Loss = 2.0764] [Accuracy = 15.62] [0.038 sec/batch]\u001b[0m\n",
      "\u001b[37m\u001b[01m[2021-05-18 18:48:05,645] [Epoch: 82] [Batch: 70 of 157] [Loss = 2.0729] [Accuracy = 21.88] [0.039 sec/batch]\u001b[0m\n",
      "\u001b[37m\u001b[01m[2021-05-18 18:48:06,054] [Epoch: 82] [Batch: 80 of 157] [Loss = 2.0782] [Accuracy = 15.62] [0.039 sec/batch]\u001b[0m\n",
      "\u001b[37m\u001b[01m[2021-05-18 18:48:06,473] [Epoch: 82] [Batch: 90 of 157] [Loss = 2.0691] [Accuracy = 15.62] [0.040 sec/batch]\u001b[0m\n",
      "\u001b[37m\u001b[01m[2021-05-18 18:48:06,881] [Epoch: 82] [Batch: 100 of 157] [Loss = 2.0793] [Accuracy = 9.38] [0.041 sec/batch]\u001b[0m\n",
      "\u001b[37m\u001b[01m[2021-05-18 18:48:07,294] [Epoch: 82] [Batch: 110 of 157] [Loss = 2.0791] [Accuracy = 12.50] [0.040 sec/batch]\u001b[0m\n",
      "\u001b[37m\u001b[01m[2021-05-18 18:48:07,706] [Epoch: 82] [Batch: 120 of 157] [Loss = 2.0784] [Accuracy = 6.25] [0.035 sec/batch]\u001b[0m\n",
      "\u001b[37m\u001b[01m[2021-05-18 18:48:08,113] [Epoch: 82] [Batch: 130 of 157] [Loss = 2.0763] [Accuracy = 15.62] [0.036 sec/batch]\u001b[0m\n",
      "\u001b[37m\u001b[01m[2021-05-18 18:48:08,527] [Epoch: 82] [Batch: 140 of 157] [Loss = 2.0672] [Accuracy = 15.62] [0.046 sec/batch]\u001b[0m\n",
      "\u001b[37m\u001b[01m[2021-05-18 18:48:08,940] [Epoch: 82] [Batch: 150 of 157] [Loss = 2.0814] [Accuracy = 9.38] [0.042 sec/batch]\u001b[0m\n",
      "\u001b[37m\u001b[01m[2021-05-18 18:48:09,227] [Epoch: 83] [Batch: 0 of 157] [Loss = 2.0800] [Accuracy = 12.50] [0.039 sec/batch]\u001b[0m\n"
     ]
    },
    {
     "name": "stdout",
     "output_type": "stream",
     "text": [
      "Epoch 83\n",
      "-------------------------------\n"
     ]
    },
    {
     "name": "stderr",
     "output_type": "stream",
     "text": [
      "\u001b[37m\u001b[01m[2021-05-18 18:48:09,636] [Epoch: 83] [Batch: 10 of 157] [Loss = 2.0813] [Accuracy = 15.62] [0.041 sec/batch]\u001b[0m\n",
      "\u001b[37m\u001b[01m[2021-05-18 18:48:10,042] [Epoch: 83] [Batch: 20 of 157] [Loss = 2.0813] [Accuracy = 6.25] [0.043 sec/batch]\u001b[0m\n",
      "\u001b[37m\u001b[01m[2021-05-18 18:48:10,452] [Epoch: 83] [Batch: 30 of 157] [Loss = 2.0797] [Accuracy = 9.38] [0.043 sec/batch]\u001b[0m\n",
      "\u001b[37m\u001b[01m[2021-05-18 18:48:10,876] [Epoch: 83] [Batch: 40 of 157] [Loss = 2.0846] [Accuracy = 12.50] [0.037 sec/batch]\u001b[0m\n",
      "\u001b[37m\u001b[01m[2021-05-18 18:48:11,291] [Epoch: 83] [Batch: 50 of 157] [Loss = 2.0725] [Accuracy = 15.62] [0.043 sec/batch]\u001b[0m\n",
      "\u001b[37m\u001b[01m[2021-05-18 18:48:11,704] [Epoch: 83] [Batch: 60 of 157] [Loss = 2.0803] [Accuracy = 12.50] [0.043 sec/batch]\u001b[0m\n",
      "\u001b[37m\u001b[01m[2021-05-18 18:48:12,098] [Epoch: 83] [Batch: 70 of 157] [Loss = 2.0814] [Accuracy = 12.50] [0.038 sec/batch]\u001b[0m\n",
      "\u001b[37m\u001b[01m[2021-05-18 18:48:12,509] [Epoch: 83] [Batch: 80 of 157] [Loss = 2.0757] [Accuracy = 21.88] [0.040 sec/batch]\u001b[0m\n",
      "\u001b[37m\u001b[01m[2021-05-18 18:48:12,918] [Epoch: 83] [Batch: 90 of 157] [Loss = 2.0702] [Accuracy = 21.88] [0.039 sec/batch]\u001b[0m\n",
      "\u001b[37m\u001b[01m[2021-05-18 18:48:13,341] [Epoch: 83] [Batch: 100 of 157] [Loss = 2.0698] [Accuracy = 18.75] [0.039 sec/batch]\u001b[0m\n",
      "\u001b[37m\u001b[01m[2021-05-18 18:48:13,754] [Epoch: 83] [Batch: 110 of 157] [Loss = 2.0736] [Accuracy = 9.38] [0.041 sec/batch]\u001b[0m\n",
      "\u001b[37m\u001b[01m[2021-05-18 18:48:14,157] [Epoch: 83] [Batch: 120 of 157] [Loss = 2.0785] [Accuracy = 3.12] [0.040 sec/batch]\u001b[0m\n",
      "\u001b[37m\u001b[01m[2021-05-18 18:48:14,561] [Epoch: 83] [Batch: 130 of 157] [Loss = 2.0834] [Accuracy = 6.25] [0.043 sec/batch]\u001b[0m\n",
      "\u001b[37m\u001b[01m[2021-05-18 18:48:14,989] [Epoch: 83] [Batch: 140 of 157] [Loss = 2.0702] [Accuracy = 18.75] [0.043 sec/batch]\u001b[0m\n",
      "\u001b[37m\u001b[01m[2021-05-18 18:48:15,396] [Epoch: 83] [Batch: 150 of 157] [Loss = 2.0763] [Accuracy = 6.25] [0.037 sec/batch]\u001b[0m\n",
      "\u001b[37m\u001b[01m[2021-05-18 18:48:15,684] [Epoch: 84] [Batch: 0 of 157] [Loss = 2.0762] [Accuracy = 9.38] [0.041 sec/batch]\u001b[0m\n"
     ]
    },
    {
     "name": "stdout",
     "output_type": "stream",
     "text": [
      "Epoch 84\n",
      "-------------------------------\n"
     ]
    },
    {
     "name": "stderr",
     "output_type": "stream",
     "text": [
      "\u001b[37m\u001b[01m[2021-05-18 18:48:16,086] [Epoch: 84] [Batch: 10 of 157] [Loss = 2.0833] [Accuracy = 9.38] [0.038 sec/batch]\u001b[0m\n",
      "\u001b[37m\u001b[01m[2021-05-18 18:48:16,480] [Epoch: 84] [Batch: 20 of 157] [Loss = 2.0848] [Accuracy = 6.25] [0.036 sec/batch]\u001b[0m\n",
      "\u001b[37m\u001b[01m[2021-05-18 18:48:16,885] [Epoch: 84] [Batch: 30 of 157] [Loss = 2.0754] [Accuracy = 9.38] [0.041 sec/batch]\u001b[0m\n",
      "\u001b[37m\u001b[01m[2021-05-18 18:48:17,272] [Epoch: 84] [Batch: 40 of 157] [Loss = 2.0699] [Accuracy = 12.50] [0.038 sec/batch]\u001b[0m\n",
      "\u001b[37m\u001b[01m[2021-05-18 18:48:17,668] [Epoch: 84] [Batch: 50 of 157] [Loss = 2.0826] [Accuracy = 15.62] [0.041 sec/batch]\u001b[0m\n",
      "\u001b[37m\u001b[01m[2021-05-18 18:48:18,054] [Epoch: 84] [Batch: 60 of 157] [Loss = 2.0814] [Accuracy = 12.50] [0.033 sec/batch]\u001b[0m\n",
      "\u001b[37m\u001b[01m[2021-05-18 18:48:18,447] [Epoch: 84] [Batch: 70 of 157] [Loss = 2.0788] [Accuracy = 9.38] [0.038 sec/batch]\u001b[0m\n",
      "\u001b[37m\u001b[01m[2021-05-18 18:48:18,852] [Epoch: 84] [Batch: 80 of 157] [Loss = 2.0828] [Accuracy = 18.75] [0.037 sec/batch]\u001b[0m\n",
      "\u001b[37m\u001b[01m[2021-05-18 18:48:19,258] [Epoch: 84] [Batch: 90 of 157] [Loss = 2.0738] [Accuracy = 25.00] [0.039 sec/batch]\u001b[0m\n",
      "\u001b[37m\u001b[01m[2021-05-18 18:48:19,669] [Epoch: 84] [Batch: 100 of 157] [Loss = 2.0944] [Accuracy = 6.25] [0.039 sec/batch]\u001b[0m\n",
      "\u001b[37m\u001b[01m[2021-05-18 18:48:20,078] [Epoch: 84] [Batch: 110 of 157] [Loss = 2.0684] [Accuracy = 18.75] [0.041 sec/batch]\u001b[0m\n",
      "\u001b[37m\u001b[01m[2021-05-18 18:48:20,478] [Epoch: 84] [Batch: 120 of 157] [Loss = 2.0712] [Accuracy = 9.38] [0.040 sec/batch]\u001b[0m\n",
      "\u001b[37m\u001b[01m[2021-05-18 18:48:20,888] [Epoch: 84] [Batch: 130 of 157] [Loss = 2.0833] [Accuracy = 3.12] [0.039 sec/batch]\u001b[0m\n",
      "\u001b[37m\u001b[01m[2021-05-18 18:48:21,294] [Epoch: 84] [Batch: 140 of 157] [Loss = 2.0731] [Accuracy = 18.75] [0.039 sec/batch]\u001b[0m\n",
      "\u001b[37m\u001b[01m[2021-05-18 18:48:21,698] [Epoch: 84] [Batch: 150 of 157] [Loss = 2.0692] [Accuracy = 28.12] [0.038 sec/batch]\u001b[0m\n",
      "\u001b[37m\u001b[01m[2021-05-18 18:48:21,980] [Epoch: 85] [Batch: 0 of 157] [Loss = 2.0902] [Accuracy = 6.25] [0.041 sec/batch]\u001b[0m\n"
     ]
    },
    {
     "name": "stdout",
     "output_type": "stream",
     "text": [
      "Epoch 85\n",
      "-------------------------------\n"
     ]
    },
    {
     "name": "stderr",
     "output_type": "stream",
     "text": [
      "\u001b[37m\u001b[01m[2021-05-18 18:48:22,397] [Epoch: 85] [Batch: 10 of 157] [Loss = 2.0834] [Accuracy = 6.25] [0.038 sec/batch]\u001b[0m\n",
      "\u001b[37m\u001b[01m[2021-05-18 18:48:22,811] [Epoch: 85] [Batch: 20 of 157] [Loss = 2.0830] [Accuracy = 6.25] [0.039 sec/batch]\u001b[0m\n",
      "\u001b[37m\u001b[01m[2021-05-18 18:48:23,226] [Epoch: 85] [Batch: 30 of 157] [Loss = 2.0650] [Accuracy = 21.88] [0.037 sec/batch]\u001b[0m\n",
      "\u001b[37m\u001b[01m[2021-05-18 18:48:23,645] [Epoch: 85] [Batch: 40 of 157] [Loss = 2.0851] [Accuracy = 6.25] [0.042 sec/batch]\u001b[0m\n",
      "\u001b[37m\u001b[01m[2021-05-18 18:48:24,062] [Epoch: 85] [Batch: 50 of 157] [Loss = 2.0725] [Accuracy = 12.50] [0.044 sec/batch]\u001b[0m\n",
      "\u001b[37m\u001b[01m[2021-05-18 18:48:24,480] [Epoch: 85] [Batch: 60 of 157] [Loss = 2.0870] [Accuracy = 9.38] [0.041 sec/batch]\u001b[0m\n",
      "\u001b[37m\u001b[01m[2021-05-18 18:48:24,901] [Epoch: 85] [Batch: 70 of 157] [Loss = 2.0742] [Accuracy = 15.62] [0.038 sec/batch]\u001b[0m\n",
      "\u001b[37m\u001b[01m[2021-05-18 18:48:25,295] [Epoch: 85] [Batch: 80 of 157] [Loss = 2.0797] [Accuracy = 21.88] [0.038 sec/batch]\u001b[0m\n",
      "\u001b[37m\u001b[01m[2021-05-18 18:48:25,708] [Epoch: 85] [Batch: 90 of 157] [Loss = 2.0676] [Accuracy = 18.75] [0.043 sec/batch]\u001b[0m\n",
      "\u001b[37m\u001b[01m[2021-05-18 18:48:26,111] [Epoch: 85] [Batch: 100 of 157] [Loss = 2.0850] [Accuracy = 6.25] [0.038 sec/batch]\u001b[0m\n",
      "\u001b[37m\u001b[01m[2021-05-18 18:48:26,518] [Epoch: 85] [Batch: 110 of 157] [Loss = 2.0697] [Accuracy = 25.00] [0.039 sec/batch]\u001b[0m\n",
      "\u001b[37m\u001b[01m[2021-05-18 18:48:26,926] [Epoch: 85] [Batch: 120 of 157] [Loss = 2.0917] [Accuracy = 9.38] [0.040 sec/batch]\u001b[0m\n",
      "\u001b[37m\u001b[01m[2021-05-18 18:48:27,326] [Epoch: 85] [Batch: 130 of 157] [Loss = 2.0877] [Accuracy = 6.25] [0.040 sec/batch]\u001b[0m\n",
      "\u001b[37m\u001b[01m[2021-05-18 18:48:27,734] [Epoch: 85] [Batch: 140 of 157] [Loss = 2.0590] [Accuracy = 25.00] [0.037 sec/batch]\u001b[0m\n",
      "\u001b[37m\u001b[01m[2021-05-18 18:48:28,155] [Epoch: 85] [Batch: 150 of 157] [Loss = 2.0768] [Accuracy = 6.25] [0.043 sec/batch]\u001b[0m\n",
      "\u001b[37m\u001b[01m[2021-05-18 18:48:28,434] [Epoch: 86] [Batch: 0 of 157] [Loss = 2.0750] [Accuracy = 9.38] [0.040 sec/batch]\u001b[0m\n"
     ]
    },
    {
     "name": "stdout",
     "output_type": "stream",
     "text": [
      "Epoch 86\n",
      "-------------------------------\n"
     ]
    },
    {
     "name": "stderr",
     "output_type": "stream",
     "text": [
      "\u001b[37m\u001b[01m[2021-05-18 18:48:28,824] [Epoch: 86] [Batch: 10 of 157] [Loss = 2.0675] [Accuracy = 18.75] [0.040 sec/batch]\u001b[0m\n",
      "\u001b[37m\u001b[01m[2021-05-18 18:48:29,215] [Epoch: 86] [Batch: 20 of 157] [Loss = 2.0816] [Accuracy = 6.25] [0.037 sec/batch]\u001b[0m\n",
      "\u001b[37m\u001b[01m[2021-05-18 18:48:29,603] [Epoch: 86] [Batch: 30 of 157] [Loss = 2.0776] [Accuracy = 3.12] [0.040 sec/batch]\u001b[0m\n",
      "\u001b[37m\u001b[01m[2021-05-18 18:48:29,993] [Epoch: 86] [Batch: 40 of 157] [Loss = 2.0722] [Accuracy = 21.88] [0.037 sec/batch]\u001b[0m\n",
      "\u001b[37m\u001b[01m[2021-05-18 18:48:30,369] [Epoch: 86] [Batch: 50 of 157] [Loss = 2.0784] [Accuracy = 18.75] [0.037 sec/batch]\u001b[0m\n",
      "\u001b[37m\u001b[01m[2021-05-18 18:48:30,754] [Epoch: 86] [Batch: 60 of 157] [Loss = 2.0838] [Accuracy = 9.38] [0.036 sec/batch]\u001b[0m\n",
      "\u001b[37m\u001b[01m[2021-05-18 18:48:31,146] [Epoch: 86] [Batch: 70 of 157] [Loss = 2.0726] [Accuracy = 12.50] [0.039 sec/batch]\u001b[0m\n",
      "\u001b[37m\u001b[01m[2021-05-18 18:48:31,554] [Epoch: 86] [Batch: 80 of 157] [Loss = 2.0804] [Accuracy = 9.38] [0.039 sec/batch]\u001b[0m\n",
      "\u001b[37m\u001b[01m[2021-05-18 18:48:31,960] [Epoch: 86] [Batch: 90 of 157] [Loss = 2.0736] [Accuracy = 18.75] [0.041 sec/batch]\u001b[0m\n",
      "\u001b[37m\u001b[01m[2021-05-18 18:48:32,367] [Epoch: 86] [Batch: 100 of 157] [Loss = 2.0685] [Accuracy = 12.50] [0.041 sec/batch]\u001b[0m\n",
      "\u001b[37m\u001b[01m[2021-05-18 18:48:32,780] [Epoch: 86] [Batch: 110 of 157] [Loss = 2.0670] [Accuracy = 15.62] [0.041 sec/batch]\u001b[0m\n",
      "\u001b[37m\u001b[01m[2021-05-18 18:48:33,187] [Epoch: 86] [Batch: 120 of 157] [Loss = 2.0705] [Accuracy = 15.62] [0.039 sec/batch]\u001b[0m\n",
      "\u001b[37m\u001b[01m[2021-05-18 18:48:33,599] [Epoch: 86] [Batch: 130 of 157] [Loss = 2.0830] [Accuracy = 6.25] [0.040 sec/batch]\u001b[0m\n",
      "\u001b[37m\u001b[01m[2021-05-18 18:48:34,003] [Epoch: 86] [Batch: 140 of 157] [Loss = 2.0702] [Accuracy = 9.38] [0.040 sec/batch]\u001b[0m\n",
      "\u001b[37m\u001b[01m[2021-05-18 18:48:34,423] [Epoch: 86] [Batch: 150 of 157] [Loss = 2.0787] [Accuracy = 18.75] [0.040 sec/batch]\u001b[0m\n",
      "\u001b[37m\u001b[01m[2021-05-18 18:48:34,708] [Epoch: 87] [Batch: 0 of 157] [Loss = 2.0840] [Accuracy = 15.62] [0.039 sec/batch]\u001b[0m\n"
     ]
    },
    {
     "name": "stdout",
     "output_type": "stream",
     "text": [
      "Epoch 87\n",
      "-------------------------------\n"
     ]
    },
    {
     "name": "stderr",
     "output_type": "stream",
     "text": [
      "\u001b[37m\u001b[01m[2021-05-18 18:48:35,121] [Epoch: 87] [Batch: 10 of 157] [Loss = 2.0756] [Accuracy = 15.62] [0.040 sec/batch]\u001b[0m\n",
      "\u001b[37m\u001b[01m[2021-05-18 18:48:35,514] [Epoch: 87] [Batch: 20 of 157] [Loss = 2.0761] [Accuracy = 12.50] [0.038 sec/batch]\u001b[0m\n",
      "\u001b[37m\u001b[01m[2021-05-18 18:48:35,920] [Epoch: 87] [Batch: 30 of 157] [Loss = 2.0825] [Accuracy = 12.50] [0.039 sec/batch]\u001b[0m\n",
      "\u001b[37m\u001b[01m[2021-05-18 18:48:36,318] [Epoch: 87] [Batch: 40 of 157] [Loss = 2.0595] [Accuracy = 25.00] [0.040 sec/batch]\u001b[0m\n",
      "\u001b[37m\u001b[01m[2021-05-18 18:48:36,717] [Epoch: 87] [Batch: 50 of 157] [Loss = 2.0772] [Accuracy = 9.38] [0.040 sec/batch]\u001b[0m\n",
      "\u001b[37m\u001b[01m[2021-05-18 18:48:37,125] [Epoch: 87] [Batch: 60 of 157] [Loss = 2.0749] [Accuracy = 18.75] [0.039 sec/batch]\u001b[0m\n",
      "\u001b[37m\u001b[01m[2021-05-18 18:48:37,531] [Epoch: 87] [Batch: 70 of 157] [Loss = 2.0740] [Accuracy = 6.25] [0.040 sec/batch]\u001b[0m\n",
      "\u001b[37m\u001b[01m[2021-05-18 18:48:37,931] [Epoch: 87] [Batch: 80 of 157] [Loss = 2.0729] [Accuracy = 15.62] [0.040 sec/batch]\u001b[0m\n",
      "\u001b[37m\u001b[01m[2021-05-18 18:48:38,317] [Epoch: 87] [Batch: 90 of 157] [Loss = 2.0862] [Accuracy = 9.38] [0.037 sec/batch]\u001b[0m\n",
      "\u001b[37m\u001b[01m[2021-05-18 18:48:38,706] [Epoch: 87] [Batch: 100 of 157] [Loss = 2.0621] [Accuracy = 28.12] [0.038 sec/batch]\u001b[0m\n",
      "\u001b[37m\u001b[01m[2021-05-18 18:48:39,111] [Epoch: 87] [Batch: 110 of 157] [Loss = 2.0576] [Accuracy = 34.38] [0.040 sec/batch]\u001b[0m\n",
      "\u001b[37m\u001b[01m[2021-05-18 18:48:39,495] [Epoch: 87] [Batch: 120 of 157] [Loss = 2.0715] [Accuracy = 18.75] [0.038 sec/batch]\u001b[0m\n",
      "\u001b[37m\u001b[01m[2021-05-18 18:48:39,838] [Epoch: 87] [Batch: 130 of 157] [Loss = 2.0748] [Accuracy = 15.62] [0.033 sec/batch]\u001b[0m\n",
      "\u001b[37m\u001b[01m[2021-05-18 18:48:40,241] [Epoch: 87] [Batch: 140 of 157] [Loss = 2.0621] [Accuracy = 18.75] [0.039 sec/batch]\u001b[0m\n",
      "\u001b[37m\u001b[01m[2021-05-18 18:48:40,649] [Epoch: 87] [Batch: 150 of 157] [Loss = 2.0706] [Accuracy = 12.50] [0.038 sec/batch]\u001b[0m\n",
      "\u001b[37m\u001b[01m[2021-05-18 18:48:40,937] [Epoch: 88] [Batch: 0 of 157] [Loss = 2.0658] [Accuracy = 21.88] [0.038 sec/batch]\u001b[0m\n"
     ]
    },
    {
     "name": "stdout",
     "output_type": "stream",
     "text": [
      "Epoch 88\n",
      "-------------------------------\n"
     ]
    },
    {
     "name": "stderr",
     "output_type": "stream",
     "text": [
      "\u001b[37m\u001b[01m[2021-05-18 18:48:41,354] [Epoch: 88] [Batch: 10 of 157] [Loss = 2.0862] [Accuracy = 6.25] [0.040 sec/batch]\u001b[0m\n",
      "\u001b[37m\u001b[01m[2021-05-18 18:48:41,770] [Epoch: 88] [Batch: 20 of 157] [Loss = 2.0882] [Accuracy = 9.38] [0.038 sec/batch]\u001b[0m\n",
      "\u001b[37m\u001b[01m[2021-05-18 18:48:42,175] [Epoch: 88] [Batch: 30 of 157] [Loss = 2.0705] [Accuracy = 18.75] [0.038 sec/batch]\u001b[0m\n",
      "\u001b[37m\u001b[01m[2021-05-18 18:48:42,590] [Epoch: 88] [Batch: 40 of 157] [Loss = 2.0790] [Accuracy = 6.25] [0.045 sec/batch]\u001b[0m\n",
      "\u001b[37m\u001b[01m[2021-05-18 18:48:42,992] [Epoch: 88] [Batch: 50 of 157] [Loss = 2.0692] [Accuracy = 12.50] [0.039 sec/batch]\u001b[0m\n",
      "\u001b[37m\u001b[01m[2021-05-18 18:48:43,396] [Epoch: 88] [Batch: 60 of 157] [Loss = 2.0669] [Accuracy = 18.75] [0.037 sec/batch]\u001b[0m\n",
      "\u001b[37m\u001b[01m[2021-05-18 18:48:43,806] [Epoch: 88] [Batch: 70 of 157] [Loss = 2.0672] [Accuracy = 9.38] [0.042 sec/batch]\u001b[0m\n",
      "\u001b[37m\u001b[01m[2021-05-18 18:48:44,210] [Epoch: 88] [Batch: 80 of 157] [Loss = 2.0803] [Accuracy = 18.75] [0.040 sec/batch]\u001b[0m\n",
      "\u001b[37m\u001b[01m[2021-05-18 18:48:44,618] [Epoch: 88] [Batch: 90 of 157] [Loss = 2.0742] [Accuracy = 15.62] [0.039 sec/batch]\u001b[0m\n",
      "\u001b[37m\u001b[01m[2021-05-18 18:48:45,028] [Epoch: 88] [Batch: 100 of 157] [Loss = 2.0720] [Accuracy = 18.75] [0.037 sec/batch]\u001b[0m\n",
      "\u001b[37m\u001b[01m[2021-05-18 18:48:45,463] [Epoch: 88] [Batch: 110 of 157] [Loss = 2.0830] [Accuracy = 12.50] [0.043 sec/batch]\u001b[0m\n",
      "\u001b[37m\u001b[01m[2021-05-18 18:48:45,875] [Epoch: 88] [Batch: 120 of 157] [Loss = 2.0764] [Accuracy = 15.62] [0.039 sec/batch]\u001b[0m\n",
      "\u001b[37m\u001b[01m[2021-05-18 18:48:46,278] [Epoch: 88] [Batch: 130 of 157] [Loss = 2.0803] [Accuracy = 15.62] [0.038 sec/batch]\u001b[0m\n",
      "\u001b[37m\u001b[01m[2021-05-18 18:48:46,693] [Epoch: 88] [Batch: 140 of 157] [Loss = 2.0873] [Accuracy = 9.38] [0.041 sec/batch]\u001b[0m\n",
      "\u001b[37m\u001b[01m[2021-05-18 18:48:47,093] [Epoch: 88] [Batch: 150 of 157] [Loss = 2.0859] [Accuracy = 3.12] [0.039 sec/batch]\u001b[0m\n",
      "\u001b[37m\u001b[01m[2021-05-18 18:48:47,375] [Epoch: 89] [Batch: 0 of 157] [Loss = 2.0597] [Accuracy = 34.38] [0.037 sec/batch]\u001b[0m\n"
     ]
    },
    {
     "name": "stdout",
     "output_type": "stream",
     "text": [
      "Epoch 89\n",
      "-------------------------------\n"
     ]
    },
    {
     "name": "stderr",
     "output_type": "stream",
     "text": [
      "\u001b[37m\u001b[01m[2021-05-18 18:48:47,786] [Epoch: 89] [Batch: 10 of 157] [Loss = 2.0515] [Accuracy = 40.62] [0.041 sec/batch]\u001b[0m\n",
      "\u001b[37m\u001b[01m[2021-05-18 18:48:48,188] [Epoch: 89] [Batch: 20 of 157] [Loss = 2.0825] [Accuracy = 15.62] [0.042 sec/batch]\u001b[0m\n",
      "\u001b[37m\u001b[01m[2021-05-18 18:48:48,594] [Epoch: 89] [Batch: 30 of 157] [Loss = 2.0767] [Accuracy = 9.38] [0.040 sec/batch]\u001b[0m\n",
      "\u001b[37m\u001b[01m[2021-05-18 18:48:49,009] [Epoch: 89] [Batch: 40 of 157] [Loss = 2.0748] [Accuracy = 12.50] [0.039 sec/batch]\u001b[0m\n",
      "\u001b[37m\u001b[01m[2021-05-18 18:48:49,412] [Epoch: 89] [Batch: 50 of 157] [Loss = 2.0897] [Accuracy = 6.25] [0.044 sec/batch]\u001b[0m\n",
      "\u001b[37m\u001b[01m[2021-05-18 18:48:49,830] [Epoch: 89] [Batch: 60 of 157] [Loss = 2.0683] [Accuracy = 18.75] [0.041 sec/batch]\u001b[0m\n",
      "\u001b[37m\u001b[01m[2021-05-18 18:48:50,264] [Epoch: 89] [Batch: 70 of 157] [Loss = 2.0833] [Accuracy = 9.38] [0.043 sec/batch]\u001b[0m\n",
      "\u001b[37m\u001b[01m[2021-05-18 18:48:50,672] [Epoch: 89] [Batch: 80 of 157] [Loss = 2.0719] [Accuracy = 9.38] [0.042 sec/batch]\u001b[0m\n",
      "\u001b[37m\u001b[01m[2021-05-18 18:48:51,077] [Epoch: 89] [Batch: 90 of 157] [Loss = 2.0880] [Accuracy = 3.12] [0.037 sec/batch]\u001b[0m\n",
      "\u001b[37m\u001b[01m[2021-05-18 18:48:51,474] [Epoch: 89] [Batch: 100 of 157] [Loss = 2.0769] [Accuracy = 25.00] [0.043 sec/batch]\u001b[0m\n",
      "\u001b[37m\u001b[01m[2021-05-18 18:48:51,883] [Epoch: 89] [Batch: 110 of 157] [Loss = 2.0811] [Accuracy = 18.75] [0.041 sec/batch]\u001b[0m\n",
      "\u001b[37m\u001b[01m[2021-05-18 18:48:52,298] [Epoch: 89] [Batch: 120 of 157] [Loss = 2.0713] [Accuracy = 12.50] [0.039 sec/batch]\u001b[0m\n",
      "\u001b[37m\u001b[01m[2021-05-18 18:48:52,728] [Epoch: 89] [Batch: 130 of 157] [Loss = 2.0704] [Accuracy = 18.75] [0.045 sec/batch]\u001b[0m\n",
      "\u001b[37m\u001b[01m[2021-05-18 18:48:53,147] [Epoch: 89] [Batch: 140 of 157] [Loss = 2.0840] [Accuracy = 15.62] [0.039 sec/batch]\u001b[0m\n",
      "\u001b[37m\u001b[01m[2021-05-18 18:48:53,554] [Epoch: 89] [Batch: 150 of 157] [Loss = 2.0765] [Accuracy = 9.38] [0.035 sec/batch]\u001b[0m\n",
      "\u001b[37m\u001b[01m[2021-05-18 18:48:53,846] [Epoch: 90] [Batch: 0 of 157] [Loss = 2.0883] [Accuracy = 12.50] [0.039 sec/batch]\u001b[0m\n"
     ]
    },
    {
     "name": "stdout",
     "output_type": "stream",
     "text": [
      "Epoch 90\n",
      "-------------------------------\n"
     ]
    },
    {
     "name": "stderr",
     "output_type": "stream",
     "text": [
      "\u001b[37m\u001b[01m[2021-05-18 18:48:54,275] [Epoch: 90] [Batch: 10 of 157] [Loss = 2.0686] [Accuracy = 18.75] [0.040 sec/batch]\u001b[0m\n",
      "\u001b[37m\u001b[01m[2021-05-18 18:48:54,707] [Epoch: 90] [Batch: 20 of 157] [Loss = 2.0784] [Accuracy = 12.50] [0.039 sec/batch]\u001b[0m\n",
      "\u001b[37m\u001b[01m[2021-05-18 18:48:55,117] [Epoch: 90] [Batch: 30 of 157] [Loss = 2.0806] [Accuracy = 6.25] [0.040 sec/batch]\u001b[0m\n",
      "\u001b[37m\u001b[01m[2021-05-18 18:48:55,519] [Epoch: 90] [Batch: 40 of 157] [Loss = 2.0712] [Accuracy = 3.12] [0.037 sec/batch]\u001b[0m\n",
      "\u001b[37m\u001b[01m[2021-05-18 18:48:55,918] [Epoch: 90] [Batch: 50 of 157] [Loss = 2.0638] [Accuracy = 18.75] [0.040 sec/batch]\u001b[0m\n",
      "\u001b[37m\u001b[01m[2021-05-18 18:48:56,355] [Epoch: 90] [Batch: 60 of 157] [Loss = 2.0873] [Accuracy = 3.12] [0.045 sec/batch]\u001b[0m\n",
      "\u001b[37m\u001b[01m[2021-05-18 18:48:56,788] [Epoch: 90] [Batch: 70 of 157] [Loss = 2.0604] [Accuracy = 15.62] [0.044 sec/batch]\u001b[0m\n",
      "\u001b[37m\u001b[01m[2021-05-18 18:48:57,187] [Epoch: 90] [Batch: 80 of 157] [Loss = 2.0644] [Accuracy = 25.00] [0.036 sec/batch]\u001b[0m\n",
      "\u001b[37m\u001b[01m[2021-05-18 18:48:57,618] [Epoch: 90] [Batch: 90 of 157] [Loss = 2.0829] [Accuracy = 9.38] [0.044 sec/batch]\u001b[0m\n",
      "\u001b[37m\u001b[01m[2021-05-18 18:48:58,051] [Epoch: 90] [Batch: 100 of 157] [Loss = 2.0801] [Accuracy = 18.75] [0.039 sec/batch]\u001b[0m\n",
      "\u001b[37m\u001b[01m[2021-05-18 18:48:58,454] [Epoch: 90] [Batch: 110 of 157] [Loss = 2.0673] [Accuracy = 15.62] [0.040 sec/batch]\u001b[0m\n",
      "\u001b[37m\u001b[01m[2021-05-18 18:48:58,866] [Epoch: 90] [Batch: 120 of 157] [Loss = 2.0728] [Accuracy = 21.88] [0.040 sec/batch]\u001b[0m\n",
      "\u001b[37m\u001b[01m[2021-05-18 18:48:59,286] [Epoch: 90] [Batch: 130 of 157] [Loss = 2.0909] [Accuracy = 3.12] [0.043 sec/batch]\u001b[0m\n",
      "\u001b[37m\u001b[01m[2021-05-18 18:48:59,709] [Epoch: 90] [Batch: 140 of 157] [Loss = 2.0808] [Accuracy = 12.50] [0.042 sec/batch]\u001b[0m\n",
      "\u001b[37m\u001b[01m[2021-05-18 18:49:00,129] [Epoch: 90] [Batch: 150 of 157] [Loss = 2.0787] [Accuracy = 15.62] [0.042 sec/batch]\u001b[0m\n",
      "\u001b[37m\u001b[01m[2021-05-18 18:49:00,418] [Epoch: 91] [Batch: 0 of 157] [Loss = 2.0751] [Accuracy = 12.50] [0.039 sec/batch]\u001b[0m\n"
     ]
    },
    {
     "name": "stdout",
     "output_type": "stream",
     "text": [
      "Epoch 91\n",
      "-------------------------------\n"
     ]
    },
    {
     "name": "stderr",
     "output_type": "stream",
     "text": [
      "\u001b[37m\u001b[01m[2021-05-18 18:49:00,828] [Epoch: 91] [Batch: 10 of 157] [Loss = 2.0724] [Accuracy = 21.88] [0.043 sec/batch]\u001b[0m\n",
      "\u001b[37m\u001b[01m[2021-05-18 18:49:01,249] [Epoch: 91] [Batch: 20 of 157] [Loss = 2.0840] [Accuracy = 15.62] [0.041 sec/batch]\u001b[0m\n",
      "\u001b[37m\u001b[01m[2021-05-18 18:49:01,662] [Epoch: 91] [Batch: 30 of 157] [Loss = 2.0822] [Accuracy = 9.38] [0.039 sec/batch]\u001b[0m\n",
      "\u001b[37m\u001b[01m[2021-05-18 18:49:02,083] [Epoch: 91] [Batch: 40 of 157] [Loss = 2.0732] [Accuracy = 18.75] [0.040 sec/batch]\u001b[0m\n",
      "\u001b[37m\u001b[01m[2021-05-18 18:49:02,502] [Epoch: 91] [Batch: 50 of 157] [Loss = 2.0798] [Accuracy = 12.50] [0.039 sec/batch]\u001b[0m\n",
      "\u001b[37m\u001b[01m[2021-05-18 18:49:02,917] [Epoch: 91] [Batch: 60 of 157] [Loss = 2.0860] [Accuracy = 12.50] [0.037 sec/batch]\u001b[0m\n",
      "\u001b[37m\u001b[01m[2021-05-18 18:49:03,343] [Epoch: 91] [Batch: 70 of 157] [Loss = 2.0709] [Accuracy = 15.62] [0.043 sec/batch]\u001b[0m\n",
      "\u001b[37m\u001b[01m[2021-05-18 18:49:03,771] [Epoch: 91] [Batch: 80 of 157] [Loss = 2.0721] [Accuracy = 12.50] [0.043 sec/batch]\u001b[0m\n",
      "\u001b[37m\u001b[01m[2021-05-18 18:49:04,178] [Epoch: 91] [Batch: 90 of 157] [Loss = 2.0804] [Accuracy = 18.75] [0.038 sec/batch]\u001b[0m\n",
      "\u001b[37m\u001b[01m[2021-05-18 18:49:04,586] [Epoch: 91] [Batch: 100 of 157] [Loss = 2.0669] [Accuracy = 25.00] [0.039 sec/batch]\u001b[0m\n",
      "\u001b[37m\u001b[01m[2021-05-18 18:49:04,994] [Epoch: 91] [Batch: 110 of 157] [Loss = 2.0649] [Accuracy = 25.00] [0.038 sec/batch]\u001b[0m\n",
      "\u001b[37m\u001b[01m[2021-05-18 18:49:05,414] [Epoch: 91] [Batch: 120 of 157] [Loss = 2.0852] [Accuracy = 9.38] [0.040 sec/batch]\u001b[0m\n",
      "\u001b[37m\u001b[01m[2021-05-18 18:49:05,819] [Epoch: 91] [Batch: 130 of 157] [Loss = 2.0752] [Accuracy = 6.25] [0.040 sec/batch]\u001b[0m\n",
      "\u001b[37m\u001b[01m[2021-05-18 18:49:06,242] [Epoch: 91] [Batch: 140 of 157] [Loss = 2.0813] [Accuracy = 18.75] [0.045 sec/batch]\u001b[0m\n",
      "\u001b[37m\u001b[01m[2021-05-18 18:49:06,666] [Epoch: 91] [Batch: 150 of 157] [Loss = 2.0791] [Accuracy = 12.50] [0.043 sec/batch]\u001b[0m\n",
      "\u001b[37m\u001b[01m[2021-05-18 18:49:06,959] [Epoch: 92] [Batch: 0 of 157] [Loss = 2.0819] [Accuracy = 9.38] [0.038 sec/batch]\u001b[0m\n"
     ]
    },
    {
     "name": "stdout",
     "output_type": "stream",
     "text": [
      "Epoch 92\n",
      "-------------------------------\n"
     ]
    },
    {
     "name": "stderr",
     "output_type": "stream",
     "text": [
      "\u001b[37m\u001b[01m[2021-05-18 18:49:07,374] [Epoch: 92] [Batch: 10 of 157] [Loss = 2.0876] [Accuracy = 9.38] [0.042 sec/batch]\u001b[0m\n",
      "\u001b[37m\u001b[01m[2021-05-18 18:49:07,799] [Epoch: 92] [Batch: 20 of 157] [Loss = 2.0838] [Accuracy = 12.50] [0.043 sec/batch]\u001b[0m\n",
      "\u001b[37m\u001b[01m[2021-05-18 18:49:08,231] [Epoch: 92] [Batch: 30 of 157] [Loss = 2.0885] [Accuracy = 3.12] [0.043 sec/batch]\u001b[0m\n",
      "\u001b[37m\u001b[01m[2021-05-18 18:49:08,631] [Epoch: 92] [Batch: 40 of 157] [Loss = 2.0752] [Accuracy = 12.50] [0.040 sec/batch]\u001b[0m\n",
      "\u001b[37m\u001b[01m[2021-05-18 18:49:09,051] [Epoch: 92] [Batch: 50 of 157] [Loss = 2.0880] [Accuracy = 9.38] [0.044 sec/batch]\u001b[0m\n",
      "\u001b[37m\u001b[01m[2021-05-18 18:49:09,459] [Epoch: 92] [Batch: 60 of 157] [Loss = 2.0715] [Accuracy = 15.62] [0.040 sec/batch]\u001b[0m\n",
      "\u001b[37m\u001b[01m[2021-05-18 18:49:09,882] [Epoch: 92] [Batch: 70 of 157] [Loss = 2.0768] [Accuracy = 9.38] [0.042 sec/batch]\u001b[0m\n",
      "\u001b[37m\u001b[01m[2021-05-18 18:49:10,300] [Epoch: 92] [Batch: 80 of 157] [Loss = 2.0813] [Accuracy = 15.62] [0.044 sec/batch]\u001b[0m\n",
      "\u001b[37m\u001b[01m[2021-05-18 18:49:10,710] [Epoch: 92] [Batch: 90 of 157] [Loss = 2.0824] [Accuracy = 9.38] [0.039 sec/batch]\u001b[0m\n",
      "\u001b[37m\u001b[01m[2021-05-18 18:49:11,118] [Epoch: 92] [Batch: 100 of 157] [Loss = 2.0700] [Accuracy = 12.50] [0.036 sec/batch]\u001b[0m\n",
      "\u001b[37m\u001b[01m[2021-05-18 18:49:11,521] [Epoch: 92] [Batch: 110 of 157] [Loss = 2.0645] [Accuracy = 18.75] [0.041 sec/batch]\u001b[0m\n",
      "\u001b[37m\u001b[01m[2021-05-18 18:49:11,926] [Epoch: 92] [Batch: 120 of 157] [Loss = 2.0794] [Accuracy = 6.25] [0.041 sec/batch]\u001b[0m\n",
      "\u001b[37m\u001b[01m[2021-05-18 18:49:12,333] [Epoch: 92] [Batch: 130 of 157] [Loss = 2.0806] [Accuracy = 3.12] [0.041 sec/batch]\u001b[0m\n",
      "\u001b[37m\u001b[01m[2021-05-18 18:49:12,737] [Epoch: 92] [Batch: 140 of 157] [Loss = 2.0716] [Accuracy = 21.88] [0.038 sec/batch]\u001b[0m\n",
      "\u001b[37m\u001b[01m[2021-05-18 18:49:13,142] [Epoch: 92] [Batch: 150 of 157] [Loss = 2.0859] [Accuracy = 3.12] [0.040 sec/batch]\u001b[0m\n",
      "\u001b[37m\u001b[01m[2021-05-18 18:49:13,438] [Epoch: 93] [Batch: 0 of 157] [Loss = 2.0667] [Accuracy = 21.88] [0.042 sec/batch]\u001b[0m\n"
     ]
    },
    {
     "name": "stdout",
     "output_type": "stream",
     "text": [
      "Epoch 93\n",
      "-------------------------------\n"
     ]
    },
    {
     "name": "stderr",
     "output_type": "stream",
     "text": [
      "\u001b[37m\u001b[01m[2021-05-18 18:49:13,856] [Epoch: 93] [Batch: 10 of 157] [Loss = 2.0813] [Accuracy = 6.25] [0.040 sec/batch]\u001b[0m\n",
      "\u001b[37m\u001b[01m[2021-05-18 18:49:14,256] [Epoch: 93] [Batch: 20 of 157] [Loss = 2.0877] [Accuracy = 6.25] [0.040 sec/batch]\u001b[0m\n",
      "\u001b[37m\u001b[01m[2021-05-18 18:49:14,653] [Epoch: 93] [Batch: 30 of 157] [Loss = 2.0700] [Accuracy = 9.38] [0.042 sec/batch]\u001b[0m\n",
      "\u001b[37m\u001b[01m[2021-05-18 18:49:15,058] [Epoch: 93] [Batch: 40 of 157] [Loss = 2.0861] [Accuracy = 6.25] [0.042 sec/batch]\u001b[0m\n",
      "\u001b[37m\u001b[01m[2021-05-18 18:49:15,455] [Epoch: 93] [Batch: 50 of 157] [Loss = 2.0762] [Accuracy = 15.62] [0.039 sec/batch]\u001b[0m\n",
      "\u001b[37m\u001b[01m[2021-05-18 18:49:15,855] [Epoch: 93] [Batch: 60 of 157] [Loss = 2.0878] [Accuracy = 6.25] [0.039 sec/batch]\u001b[0m\n",
      "\u001b[37m\u001b[01m[2021-05-18 18:49:16,256] [Epoch: 93] [Batch: 70 of 157] [Loss = 2.0958] [Accuracy = 3.12] [0.040 sec/batch]\u001b[0m\n",
      "\u001b[37m\u001b[01m[2021-05-18 18:49:16,658] [Epoch: 93] [Batch: 80 of 157] [Loss = 2.0660] [Accuracy = 18.75] [0.036 sec/batch]\u001b[0m\n",
      "\u001b[37m\u001b[01m[2021-05-18 18:49:17,081] [Epoch: 93] [Batch: 90 of 157] [Loss = 2.0696] [Accuracy = 15.62] [0.040 sec/batch]\u001b[0m\n",
      "\u001b[37m\u001b[01m[2021-05-18 18:49:17,493] [Epoch: 93] [Batch: 100 of 157] [Loss = 2.0881] [Accuracy = 6.25] [0.042 sec/batch]\u001b[0m\n",
      "\u001b[37m\u001b[01m[2021-05-18 18:49:17,901] [Epoch: 93] [Batch: 110 of 157] [Loss = 2.0819] [Accuracy = 9.38] [0.041 sec/batch]\u001b[0m\n",
      "\u001b[37m\u001b[01m[2021-05-18 18:49:18,319] [Epoch: 93] [Batch: 120 of 157] [Loss = 2.0836] [Accuracy = 9.38] [0.041 sec/batch]\u001b[0m\n",
      "\u001b[37m\u001b[01m[2021-05-18 18:49:18,735] [Epoch: 93] [Batch: 130 of 157] [Loss = 2.0767] [Accuracy = 9.38] [0.039 sec/batch]\u001b[0m\n",
      "\u001b[37m\u001b[01m[2021-05-18 18:49:19,154] [Epoch: 93] [Batch: 140 of 157] [Loss = 2.0751] [Accuracy = 18.75] [0.040 sec/batch]\u001b[0m\n",
      "\u001b[37m\u001b[01m[2021-05-18 18:49:19,567] [Epoch: 93] [Batch: 150 of 157] [Loss = 2.0788] [Accuracy = 9.38] [0.039 sec/batch]\u001b[0m\n",
      "\u001b[37m\u001b[01m[2021-05-18 18:49:19,858] [Epoch: 94] [Batch: 0 of 157] [Loss = 2.0759] [Accuracy = 9.38] [0.038 sec/batch]\u001b[0m\n"
     ]
    },
    {
     "name": "stdout",
     "output_type": "stream",
     "text": [
      "Epoch 94\n",
      "-------------------------------\n"
     ]
    },
    {
     "name": "stderr",
     "output_type": "stream",
     "text": [
      "\u001b[37m\u001b[01m[2021-05-18 18:49:20,263] [Epoch: 94] [Batch: 10 of 157] [Loss = 2.0722] [Accuracy = 12.50] [0.040 sec/batch]\u001b[0m\n",
      "\u001b[37m\u001b[01m[2021-05-18 18:49:20,676] [Epoch: 94] [Batch: 20 of 157] [Loss = 2.0761] [Accuracy = 9.38] [0.041 sec/batch]\u001b[0m\n",
      "\u001b[37m\u001b[01m[2021-05-18 18:49:21,087] [Epoch: 94] [Batch: 30 of 157] [Loss = 2.0720] [Accuracy = 12.50] [0.040 sec/batch]\u001b[0m\n",
      "\u001b[37m\u001b[01m[2021-05-18 18:49:21,505] [Epoch: 94] [Batch: 40 of 157] [Loss = 2.0785] [Accuracy = 9.38] [0.039 sec/batch]\u001b[0m\n",
      "\u001b[37m\u001b[01m[2021-05-18 18:49:21,927] [Epoch: 94] [Batch: 50 of 157] [Loss = 2.0724] [Accuracy = 9.38] [0.042 sec/batch]\u001b[0m\n",
      "\u001b[37m\u001b[01m[2021-05-18 18:49:22,337] [Epoch: 94] [Batch: 60 of 157] [Loss = 2.0698] [Accuracy = 9.38] [0.039 sec/batch]\u001b[0m\n",
      "\u001b[37m\u001b[01m[2021-05-18 18:49:22,752] [Epoch: 94] [Batch: 70 of 157] [Loss = 2.0780] [Accuracy = 21.88] [0.038 sec/batch]\u001b[0m\n",
      "\u001b[37m\u001b[01m[2021-05-18 18:49:23,171] [Epoch: 94] [Batch: 80 of 157] [Loss = 2.0695] [Accuracy = 25.00] [0.040 sec/batch]\u001b[0m\n",
      "\u001b[37m\u001b[01m[2021-05-18 18:49:23,575] [Epoch: 94] [Batch: 90 of 157] [Loss = 2.0737] [Accuracy = 9.38] [0.040 sec/batch]\u001b[0m\n",
      "\u001b[37m\u001b[01m[2021-05-18 18:49:23,983] [Epoch: 94] [Batch: 100 of 157] [Loss = 2.0641] [Accuracy = 21.88] [0.041 sec/batch]\u001b[0m\n",
      "\u001b[37m\u001b[01m[2021-05-18 18:49:24,397] [Epoch: 94] [Batch: 110 of 157] [Loss = 2.0769] [Accuracy = 6.25] [0.036 sec/batch]\u001b[0m\n",
      "\u001b[37m\u001b[01m[2021-05-18 18:49:24,816] [Epoch: 94] [Batch: 120 of 157] [Loss = 2.0691] [Accuracy = 12.50] [0.042 sec/batch]\u001b[0m\n",
      "\u001b[37m\u001b[01m[2021-05-18 18:49:25,225] [Epoch: 94] [Batch: 130 of 157] [Loss = 2.0741] [Accuracy = 12.50] [0.039 sec/batch]\u001b[0m\n",
      "\u001b[37m\u001b[01m[2021-05-18 18:49:25,651] [Epoch: 94] [Batch: 140 of 157] [Loss = 2.0819] [Accuracy = 21.88] [0.039 sec/batch]\u001b[0m\n",
      "\u001b[37m\u001b[01m[2021-05-18 18:49:26,061] [Epoch: 94] [Batch: 150 of 157] [Loss = 2.0783] [Accuracy = 15.62] [0.043 sec/batch]\u001b[0m\n",
      "\u001b[37m\u001b[01m[2021-05-18 18:49:26,352] [Epoch: 95] [Batch: 0 of 157] [Loss = 2.0739] [Accuracy = 6.25] [0.041 sec/batch]\u001b[0m\n"
     ]
    },
    {
     "name": "stdout",
     "output_type": "stream",
     "text": [
      "Epoch 95\n",
      "-------------------------------\n"
     ]
    },
    {
     "name": "stderr",
     "output_type": "stream",
     "text": [
      "\u001b[37m\u001b[01m[2021-05-18 18:49:26,763] [Epoch: 95] [Batch: 10 of 157] [Loss = 2.0718] [Accuracy = 15.62] [0.043 sec/batch]\u001b[0m\n",
      "\u001b[37m\u001b[01m[2021-05-18 18:49:27,174] [Epoch: 95] [Batch: 20 of 157] [Loss = 2.0806] [Accuracy = 15.62] [0.039 sec/batch]\u001b[0m\n",
      "\u001b[37m\u001b[01m[2021-05-18 18:49:27,585] [Epoch: 95] [Batch: 30 of 157] [Loss = 2.0888] [Accuracy = 6.25] [0.042 sec/batch]\u001b[0m\n",
      "\u001b[37m\u001b[01m[2021-05-18 18:49:28,008] [Epoch: 95] [Batch: 40 of 157] [Loss = 2.0916] [Accuracy = 9.38] [0.044 sec/batch]\u001b[0m\n",
      "\u001b[37m\u001b[01m[2021-05-18 18:49:28,426] [Epoch: 95] [Batch: 50 of 157] [Loss = 2.0788] [Accuracy = 6.25] [0.042 sec/batch]\u001b[0m\n",
      "\u001b[37m\u001b[01m[2021-05-18 18:49:28,843] [Epoch: 95] [Batch: 60 of 157] [Loss = 2.0838] [Accuracy = 12.50] [0.044 sec/batch]\u001b[0m\n",
      "\u001b[37m\u001b[01m[2021-05-18 18:49:29,261] [Epoch: 95] [Batch: 70 of 157] [Loss = 2.0642] [Accuracy = 31.25] [0.043 sec/batch]\u001b[0m\n",
      "\u001b[37m\u001b[01m[2021-05-18 18:49:29,687] [Epoch: 95] [Batch: 80 of 157] [Loss = 2.0934] [Accuracy = 9.38] [0.041 sec/batch]\u001b[0m\n",
      "\u001b[37m\u001b[01m[2021-05-18 18:49:30,111] [Epoch: 95] [Batch: 90 of 157] [Loss = 2.0634] [Accuracy = 15.62] [0.043 sec/batch]\u001b[0m\n",
      "\u001b[37m\u001b[01m[2021-05-18 18:49:30,525] [Epoch: 95] [Batch: 100 of 157] [Loss = 2.0837] [Accuracy = 6.25] [0.042 sec/batch]\u001b[0m\n",
      "\u001b[37m\u001b[01m[2021-05-18 18:49:30,935] [Epoch: 95] [Batch: 110 of 157] [Loss = 2.0823] [Accuracy = 9.38] [0.038 sec/batch]\u001b[0m\n",
      "\u001b[37m\u001b[01m[2021-05-18 18:49:31,346] [Epoch: 95] [Batch: 120 of 157] [Loss = 2.0668] [Accuracy = 21.88] [0.042 sec/batch]\u001b[0m\n",
      "\u001b[37m\u001b[01m[2021-05-18 18:49:31,787] [Epoch: 95] [Batch: 130 of 157] [Loss = 2.0808] [Accuracy = 15.62] [0.042 sec/batch]\u001b[0m\n",
      "\u001b[37m\u001b[01m[2021-05-18 18:49:32,200] [Epoch: 95] [Batch: 140 of 157] [Loss = 2.0635] [Accuracy = 21.88] [0.039 sec/batch]\u001b[0m\n",
      "\u001b[37m\u001b[01m[2021-05-18 18:49:32,606] [Epoch: 95] [Batch: 150 of 157] [Loss = 2.0817] [Accuracy = 15.62] [0.042 sec/batch]\u001b[0m\n",
      "\u001b[37m\u001b[01m[2021-05-18 18:49:32,904] [Epoch: 96] [Batch: 0 of 157] [Loss = 2.0794] [Accuracy = 12.50] [0.040 sec/batch]\u001b[0m\n"
     ]
    },
    {
     "name": "stdout",
     "output_type": "stream",
     "text": [
      "Epoch 96\n",
      "-------------------------------\n"
     ]
    },
    {
     "name": "stderr",
     "output_type": "stream",
     "text": [
      "\u001b[37m\u001b[01m[2021-05-18 18:49:33,336] [Epoch: 96] [Batch: 10 of 157] [Loss = 2.0732] [Accuracy = 15.62] [0.044 sec/batch]\u001b[0m\n",
      "\u001b[37m\u001b[01m[2021-05-18 18:49:33,758] [Epoch: 96] [Batch: 20 of 157] [Loss = 2.0737] [Accuracy = 18.75] [0.039 sec/batch]\u001b[0m\n",
      "\u001b[37m\u001b[01m[2021-05-18 18:49:34,162] [Epoch: 96] [Batch: 30 of 157] [Loss = 2.0837] [Accuracy = 9.38] [0.040 sec/batch]\u001b[0m\n",
      "\u001b[37m\u001b[01m[2021-05-18 18:49:34,577] [Epoch: 96] [Batch: 40 of 157] [Loss = 2.0971] [Accuracy = 3.12] [0.042 sec/batch]\u001b[0m\n",
      "\u001b[37m\u001b[01m[2021-05-18 18:49:34,965] [Epoch: 96] [Batch: 50 of 157] [Loss = 2.0828] [Accuracy = 9.38] [0.037 sec/batch]\u001b[0m\n",
      "\u001b[37m\u001b[01m[2021-05-18 18:49:35,353] [Epoch: 96] [Batch: 60 of 157] [Loss = 2.0768] [Accuracy = 21.88] [0.042 sec/batch]\u001b[0m\n",
      "\u001b[37m\u001b[01m[2021-05-18 18:49:35,782] [Epoch: 96] [Batch: 70 of 157] [Loss = 2.0768] [Accuracy = 18.75] [0.041 sec/batch]\u001b[0m\n",
      "\u001b[37m\u001b[01m[2021-05-18 18:49:36,203] [Epoch: 96] [Batch: 80 of 157] [Loss = 2.0769] [Accuracy = 9.38] [0.039 sec/batch]\u001b[0m\n",
      "\u001b[37m\u001b[01m[2021-05-18 18:49:36,620] [Epoch: 96] [Batch: 90 of 157] [Loss = 2.0622] [Accuracy = 25.00] [0.040 sec/batch]\u001b[0m\n",
      "\u001b[37m\u001b[01m[2021-05-18 18:49:37,042] [Epoch: 96] [Batch: 100 of 157] [Loss = 2.0689] [Accuracy = 12.50] [0.040 sec/batch]\u001b[0m\n",
      "\u001b[37m\u001b[01m[2021-05-18 18:49:37,459] [Epoch: 96] [Batch: 110 of 157] [Loss = 2.0817] [Accuracy = 3.12] [0.039 sec/batch]\u001b[0m\n",
      "\u001b[37m\u001b[01m[2021-05-18 18:49:37,885] [Epoch: 96] [Batch: 120 of 157] [Loss = 2.0690] [Accuracy = 18.75] [0.046 sec/batch]\u001b[0m\n",
      "\u001b[37m\u001b[01m[2021-05-18 18:49:38,319] [Epoch: 96] [Batch: 130 of 157] [Loss = 2.0848] [Accuracy = 12.50] [0.043 sec/batch]\u001b[0m\n",
      "\u001b[37m\u001b[01m[2021-05-18 18:49:38,737] [Epoch: 96] [Batch: 140 of 157] [Loss = 2.0803] [Accuracy = 6.25] [0.037 sec/batch]\u001b[0m\n",
      "\u001b[37m\u001b[01m[2021-05-18 18:49:39,159] [Epoch: 96] [Batch: 150 of 157] [Loss = 2.0743] [Accuracy = 12.50] [0.044 sec/batch]\u001b[0m\n",
      "\u001b[37m\u001b[01m[2021-05-18 18:49:39,441] [Epoch: 97] [Batch: 0 of 157] [Loss = 2.0702] [Accuracy = 21.88] [0.040 sec/batch]\u001b[0m\n"
     ]
    },
    {
     "name": "stdout",
     "output_type": "stream",
     "text": [
      "Epoch 97\n",
      "-------------------------------\n"
     ]
    },
    {
     "name": "stderr",
     "output_type": "stream",
     "text": [
      "\u001b[37m\u001b[01m[2021-05-18 18:49:39,845] [Epoch: 97] [Batch: 10 of 157] [Loss = 2.0878] [Accuracy = 6.25] [0.039 sec/batch]\u001b[0m\n",
      "\u001b[37m\u001b[01m[2021-05-18 18:49:40,234] [Epoch: 97] [Batch: 20 of 157] [Loss = 2.0724] [Accuracy = 18.75] [0.037 sec/batch]\u001b[0m\n",
      "\u001b[37m\u001b[01m[2021-05-18 18:49:40,630] [Epoch: 97] [Batch: 30 of 157] [Loss = 2.0814] [Accuracy = 9.38] [0.044 sec/batch]\u001b[0m\n",
      "\u001b[37m\u001b[01m[2021-05-18 18:49:41,030] [Epoch: 97] [Batch: 40 of 157] [Loss = 2.0853] [Accuracy = 9.38] [0.041 sec/batch]\u001b[0m\n",
      "\u001b[37m\u001b[01m[2021-05-18 18:49:41,429] [Epoch: 97] [Batch: 50 of 157] [Loss = 2.0779] [Accuracy = 6.25] [0.037 sec/batch]\u001b[0m\n",
      "\u001b[37m\u001b[01m[2021-05-18 18:49:41,838] [Epoch: 97] [Batch: 60 of 157] [Loss = 2.0791] [Accuracy = 12.50] [0.041 sec/batch]\u001b[0m\n",
      "\u001b[37m\u001b[01m[2021-05-18 18:49:42,253] [Epoch: 97] [Batch: 70 of 157] [Loss = 2.0644] [Accuracy = 9.38] [0.043 sec/batch]\u001b[0m\n",
      "\u001b[37m\u001b[01m[2021-05-18 18:49:42,662] [Epoch: 97] [Batch: 80 of 157] [Loss = 2.0661] [Accuracy = 15.62] [0.039 sec/batch]\u001b[0m\n",
      "\u001b[37m\u001b[01m[2021-05-18 18:49:43,070] [Epoch: 97] [Batch: 90 of 157] [Loss = 2.0946] [Accuracy = 9.38] [0.040 sec/batch]\u001b[0m\n",
      "\u001b[37m\u001b[01m[2021-05-18 18:49:43,469] [Epoch: 97] [Batch: 100 of 157] [Loss = 2.0839] [Accuracy = 9.38] [0.039 sec/batch]\u001b[0m\n",
      "\u001b[37m\u001b[01m[2021-05-18 18:49:43,886] [Epoch: 97] [Batch: 110 of 157] [Loss = 2.0769] [Accuracy = 18.75] [0.038 sec/batch]\u001b[0m\n",
      "\u001b[37m\u001b[01m[2021-05-18 18:49:44,304] [Epoch: 97] [Batch: 120 of 157] [Loss = 2.0706] [Accuracy = 15.62] [0.043 sec/batch]\u001b[0m\n",
      "\u001b[37m\u001b[01m[2021-05-18 18:49:44,710] [Epoch: 97] [Batch: 130 of 157] [Loss = 2.0659] [Accuracy = 25.00] [0.041 sec/batch]\u001b[0m\n",
      "\u001b[37m\u001b[01m[2021-05-18 18:49:45,122] [Epoch: 97] [Batch: 140 of 157] [Loss = 2.0856] [Accuracy = 15.62] [0.042 sec/batch]\u001b[0m\n",
      "\u001b[37m\u001b[01m[2021-05-18 18:49:45,539] [Epoch: 97] [Batch: 150 of 157] [Loss = 2.0863] [Accuracy = 9.38] [0.041 sec/batch]\u001b[0m\n",
      "\u001b[37m\u001b[01m[2021-05-18 18:49:45,823] [Epoch: 98] [Batch: 0 of 157] [Loss = 2.0574] [Accuracy = 28.12] [0.036 sec/batch]\u001b[0m\n"
     ]
    },
    {
     "name": "stdout",
     "output_type": "stream",
     "text": [
      "Epoch 98\n",
      "-------------------------------\n"
     ]
    },
    {
     "name": "stderr",
     "output_type": "stream",
     "text": [
      "\u001b[37m\u001b[01m[2021-05-18 18:49:46,236] [Epoch: 98] [Batch: 10 of 157] [Loss = 2.0787] [Accuracy = 12.50] [0.039 sec/batch]\u001b[0m\n",
      "\u001b[37m\u001b[01m[2021-05-18 18:49:46,662] [Epoch: 98] [Batch: 20 of 157] [Loss = 2.1042] [Accuracy = 6.25] [0.038 sec/batch]\u001b[0m\n",
      "\u001b[37m\u001b[01m[2021-05-18 18:49:47,046] [Epoch: 98] [Batch: 30 of 157] [Loss = 2.0735] [Accuracy = 15.62] [0.038 sec/batch]\u001b[0m\n",
      "\u001b[37m\u001b[01m[2021-05-18 18:49:47,437] [Epoch: 98] [Batch: 40 of 157] [Loss = 2.0903] [Accuracy = 12.50] [0.039 sec/batch]\u001b[0m\n",
      "\u001b[37m\u001b[01m[2021-05-18 18:49:47,847] [Epoch: 98] [Batch: 50 of 157] [Loss = 2.0879] [Accuracy = 0.00] [0.040 sec/batch]\u001b[0m\n",
      "\u001b[37m\u001b[01m[2021-05-18 18:49:48,246] [Epoch: 98] [Batch: 60 of 157] [Loss = 2.0856] [Accuracy = 12.50] [0.042 sec/batch]\u001b[0m\n",
      "\u001b[37m\u001b[01m[2021-05-18 18:49:48,657] [Epoch: 98] [Batch: 70 of 157] [Loss = 2.0966] [Accuracy = 12.50] [0.041 sec/batch]\u001b[0m\n",
      "\u001b[37m\u001b[01m[2021-05-18 18:49:49,067] [Epoch: 98] [Batch: 80 of 157] [Loss = 2.0798] [Accuracy = 9.38] [0.043 sec/batch]\u001b[0m\n",
      "\u001b[37m\u001b[01m[2021-05-18 18:49:49,495] [Epoch: 98] [Batch: 90 of 157] [Loss = 2.0663] [Accuracy = 21.88] [0.042 sec/batch]\u001b[0m\n",
      "\u001b[37m\u001b[01m[2021-05-18 18:49:49,923] [Epoch: 98] [Batch: 100 of 157] [Loss = 2.0796] [Accuracy = 6.25] [0.042 sec/batch]\u001b[0m\n",
      "\u001b[37m\u001b[01m[2021-05-18 18:49:50,344] [Epoch: 98] [Batch: 110 of 157] [Loss = 2.0886] [Accuracy = 3.12] [0.042 sec/batch]\u001b[0m\n",
      "\u001b[37m\u001b[01m[2021-05-18 18:49:50,763] [Epoch: 98] [Batch: 120 of 157] [Loss = 2.0768] [Accuracy = 12.50] [0.040 sec/batch]\u001b[0m\n",
      "\u001b[37m\u001b[01m[2021-05-18 18:49:51,183] [Epoch: 98] [Batch: 130 of 157] [Loss = 2.0821] [Accuracy = 9.38] [0.043 sec/batch]\u001b[0m\n",
      "\u001b[37m\u001b[01m[2021-05-18 18:49:51,594] [Epoch: 98] [Batch: 140 of 157] [Loss = 2.0778] [Accuracy = 15.62] [0.038 sec/batch]\u001b[0m\n",
      "\u001b[37m\u001b[01m[2021-05-18 18:49:52,005] [Epoch: 98] [Batch: 150 of 157] [Loss = 2.0782] [Accuracy = 15.62] [0.038 sec/batch]\u001b[0m\n",
      "\u001b[37m\u001b[01m[2021-05-18 18:49:52,296] [Epoch: 99] [Batch: 0 of 157] [Loss = 2.0684] [Accuracy = 9.38] [0.043 sec/batch]\u001b[0m\n"
     ]
    },
    {
     "name": "stdout",
     "output_type": "stream",
     "text": [
      "Epoch 99\n",
      "-------------------------------\n"
     ]
    },
    {
     "name": "stderr",
     "output_type": "stream",
     "text": [
      "\u001b[37m\u001b[01m[2021-05-18 18:49:52,716] [Epoch: 99] [Batch: 10 of 157] [Loss = 2.0795] [Accuracy = 18.75] [0.043 sec/batch]\u001b[0m\n",
      "\u001b[37m\u001b[01m[2021-05-18 18:49:53,137] [Epoch: 99] [Batch: 20 of 157] [Loss = 2.0764] [Accuracy = 9.38] [0.042 sec/batch]\u001b[0m\n",
      "\u001b[37m\u001b[01m[2021-05-18 18:49:53,533] [Epoch: 99] [Batch: 30 of 157] [Loss = 2.0673] [Accuracy = 15.62] [0.037 sec/batch]\u001b[0m\n",
      "\u001b[37m\u001b[01m[2021-05-18 18:49:53,934] [Epoch: 99] [Batch: 40 of 157] [Loss = 2.0820] [Accuracy = 12.50] [0.035 sec/batch]\u001b[0m\n",
      "\u001b[37m\u001b[01m[2021-05-18 18:49:54,342] [Epoch: 99] [Batch: 50 of 157] [Loss = 2.0813] [Accuracy = 15.62] [0.038 sec/batch]\u001b[0m\n",
      "\u001b[37m\u001b[01m[2021-05-18 18:49:54,727] [Epoch: 99] [Batch: 60 of 157] [Loss = 2.0773] [Accuracy = 12.50] [0.038 sec/batch]\u001b[0m\n",
      "\u001b[37m\u001b[01m[2021-05-18 18:49:55,122] [Epoch: 99] [Batch: 70 of 157] [Loss = 2.0647] [Accuracy = 21.88] [0.042 sec/batch]\u001b[0m\n",
      "\u001b[37m\u001b[01m[2021-05-18 18:49:55,514] [Epoch: 99] [Batch: 80 of 157] [Loss = 2.0687] [Accuracy = 15.62] [0.037 sec/batch]\u001b[0m\n",
      "\u001b[37m\u001b[01m[2021-05-18 18:49:55,912] [Epoch: 99] [Batch: 90 of 157] [Loss = 2.0931] [Accuracy = 6.25] [0.041 sec/batch]\u001b[0m\n",
      "\u001b[37m\u001b[01m[2021-05-18 18:49:56,326] [Epoch: 99] [Batch: 100 of 157] [Loss = 2.0722] [Accuracy = 12.50] [0.040 sec/batch]\u001b[0m\n",
      "\u001b[37m\u001b[01m[2021-05-18 18:49:56,750] [Epoch: 99] [Batch: 110 of 157] [Loss = 2.0728] [Accuracy = 12.50] [0.039 sec/batch]\u001b[0m\n",
      "\u001b[37m\u001b[01m[2021-05-18 18:49:57,168] [Epoch: 99] [Batch: 120 of 157] [Loss = 2.0964] [Accuracy = 9.38] [0.037 sec/batch]\u001b[0m\n",
      "\u001b[37m\u001b[01m[2021-05-18 18:49:57,577] [Epoch: 99] [Batch: 130 of 157] [Loss = 2.0761] [Accuracy = 18.75] [0.038 sec/batch]\u001b[0m\n",
      "\u001b[37m\u001b[01m[2021-05-18 18:49:57,986] [Epoch: 99] [Batch: 140 of 157] [Loss = 2.0890] [Accuracy = 9.38] [0.039 sec/batch]\u001b[0m\n",
      "\u001b[37m\u001b[01m[2021-05-18 18:49:58,394] [Epoch: 99] [Batch: 150 of 157] [Loss = 2.0713] [Accuracy = 12.50] [0.039 sec/batch]\u001b[0m\n",
      "\u001b[37m\u001b[01m[2021-05-18 18:49:58,690] [Epoch: 100] [Batch: 0 of 157] [Loss = 2.0716] [Accuracy = 9.38] [0.038 sec/batch]\u001b[0m\n"
     ]
    },
    {
     "name": "stdout",
     "output_type": "stream",
     "text": [
      "Epoch 100\n",
      "-------------------------------\n"
     ]
    },
    {
     "name": "stderr",
     "output_type": "stream",
     "text": [
      "\u001b[37m\u001b[01m[2021-05-18 18:49:59,109] [Epoch: 100] [Batch: 10 of 157] [Loss = 2.0794] [Accuracy = 18.75] [0.039 sec/batch]\u001b[0m\n",
      "\u001b[37m\u001b[01m[2021-05-18 18:49:59,523] [Epoch: 100] [Batch: 20 of 157] [Loss = 2.0657] [Accuracy = 18.75] [0.043 sec/batch]\u001b[0m\n",
      "\u001b[37m\u001b[01m[2021-05-18 18:49:59,929] [Epoch: 100] [Batch: 30 of 157] [Loss = 2.0783] [Accuracy = 9.38] [0.039 sec/batch]\u001b[0m\n",
      "\u001b[37m\u001b[01m[2021-05-18 18:50:00,339] [Epoch: 100] [Batch: 40 of 157] [Loss = 2.0755] [Accuracy = 15.62] [0.043 sec/batch]\u001b[0m\n",
      "\u001b[37m\u001b[01m[2021-05-18 18:50:00,752] [Epoch: 100] [Batch: 50 of 157] [Loss = 2.0834] [Accuracy = 12.50] [0.042 sec/batch]\u001b[0m\n",
      "\u001b[37m\u001b[01m[2021-05-18 18:50:01,154] [Epoch: 100] [Batch: 60 of 157] [Loss = 2.0555] [Accuracy = 25.00] [0.043 sec/batch]\u001b[0m\n",
      "\u001b[37m\u001b[01m[2021-05-18 18:50:01,568] [Epoch: 100] [Batch: 70 of 157] [Loss = 2.0829] [Accuracy = 15.62] [0.042 sec/batch]\u001b[0m\n",
      "\u001b[37m\u001b[01m[2021-05-18 18:50:01,979] [Epoch: 100] [Batch: 80 of 157] [Loss = 2.0773] [Accuracy = 12.50] [0.042 sec/batch]\u001b[0m\n",
      "\u001b[37m\u001b[01m[2021-05-18 18:50:02,393] [Epoch: 100] [Batch: 90 of 157] [Loss = 2.0659] [Accuracy = 21.88] [0.040 sec/batch]\u001b[0m\n",
      "\u001b[37m\u001b[01m[2021-05-18 18:50:02,789] [Epoch: 100] [Batch: 100 of 157] [Loss = 2.0877] [Accuracy = 15.62] [0.041 sec/batch]\u001b[0m\n",
      "\u001b[37m\u001b[01m[2021-05-18 18:50:03,194] [Epoch: 100] [Batch: 110 of 157] [Loss = 2.0815] [Accuracy = 12.50] [0.036 sec/batch]\u001b[0m\n",
      "\u001b[37m\u001b[01m[2021-05-18 18:50:03,618] [Epoch: 100] [Batch: 120 of 157] [Loss = 2.0717] [Accuracy = 12.50] [0.041 sec/batch]\u001b[0m\n",
      "\u001b[37m\u001b[01m[2021-05-18 18:50:04,026] [Epoch: 100] [Batch: 130 of 157] [Loss = 2.0813] [Accuracy = 9.38] [0.040 sec/batch]\u001b[0m\n",
      "\u001b[37m\u001b[01m[2021-05-18 18:50:04,453] [Epoch: 100] [Batch: 140 of 157] [Loss = 2.0816] [Accuracy = 18.75] [0.039 sec/batch]\u001b[0m\n",
      "\u001b[37m\u001b[01m[2021-05-18 18:50:04,865] [Epoch: 100] [Batch: 150 of 157] [Loss = 2.0756] [Accuracy = 15.62] [0.038 sec/batch]\u001b[0m\n",
      "\u001b[37m\u001b[01m[2021-05-18 18:50:05,114] Evaluating on test set...\u001b[0m\n",
      "\u001b[37m\u001b[01m[2021-05-18 18:50:05,132] [Batch: 0 of 63]\u001b[0m\n",
      "\u001b[37m\u001b[01m[2021-05-18 18:50:05,149] [Batch: 1 of 63]\u001b[0m\n",
      "\u001b[37m\u001b[01m[2021-05-18 18:50:05,166] [Batch: 2 of 63]\u001b[0m\n",
      "\u001b[37m\u001b[01m[2021-05-18 18:50:05,184] [Batch: 3 of 63]\u001b[0m\n",
      "\u001b[37m\u001b[01m[2021-05-18 18:50:05,201] [Batch: 4 of 63]\u001b[0m\n",
      "\u001b[37m\u001b[01m[2021-05-18 18:50:05,218] [Batch: 5 of 63]\u001b[0m\n",
      "\u001b[37m\u001b[01m[2021-05-18 18:50:05,235] [Batch: 6 of 63]\u001b[0m\n",
      "\u001b[37m\u001b[01m[2021-05-18 18:50:05,253] [Batch: 7 of 63]\u001b[0m\n",
      "\u001b[37m\u001b[01m[2021-05-18 18:50:05,270] [Batch: 8 of 63]\u001b[0m\n",
      "\u001b[37m\u001b[01m[2021-05-18 18:50:05,287] [Batch: 9 of 63]\u001b[0m\n",
      "\u001b[37m\u001b[01m[2021-05-18 18:50:05,304] [Batch: 10 of 63]\u001b[0m\n",
      "\u001b[37m\u001b[01m[2021-05-18 18:50:05,321] [Batch: 11 of 63]\u001b[0m\n",
      "\u001b[37m\u001b[01m[2021-05-18 18:50:05,339] [Batch: 12 of 63]\u001b[0m\n",
      "\u001b[37m\u001b[01m[2021-05-18 18:50:05,356] [Batch: 13 of 63]\u001b[0m\n",
      "\u001b[37m\u001b[01m[2021-05-18 18:50:05,373] [Batch: 14 of 63]\u001b[0m\n",
      "\u001b[37m\u001b[01m[2021-05-18 18:50:05,391] [Batch: 15 of 63]\u001b[0m\n",
      "\u001b[37m\u001b[01m[2021-05-18 18:50:05,408] [Batch: 16 of 63]\u001b[0m\n",
      "\u001b[37m\u001b[01m[2021-05-18 18:50:05,430] [Batch: 17 of 63]\u001b[0m\n",
      "\u001b[37m\u001b[01m[2021-05-18 18:50:05,447] [Batch: 18 of 63]\u001b[0m\n",
      "\u001b[37m\u001b[01m[2021-05-18 18:50:05,465] [Batch: 19 of 63]\u001b[0m\n",
      "\u001b[37m\u001b[01m[2021-05-18 18:50:05,482] [Batch: 20 of 63]\u001b[0m\n",
      "\u001b[37m\u001b[01m[2021-05-18 18:50:05,500] [Batch: 21 of 63]\u001b[0m\n",
      "\u001b[37m\u001b[01m[2021-05-18 18:50:05,517] [Batch: 22 of 63]\u001b[0m\n",
      "\u001b[37m\u001b[01m[2021-05-18 18:50:05,534] [Batch: 23 of 63]\u001b[0m\n",
      "\u001b[37m\u001b[01m[2021-05-18 18:50:05,552] [Batch: 24 of 63]\u001b[0m\n",
      "\u001b[37m\u001b[01m[2021-05-18 18:50:05,569] [Batch: 25 of 63]\u001b[0m\n",
      "\u001b[37m\u001b[01m[2021-05-18 18:50:05,586] [Batch: 26 of 63]\u001b[0m\n",
      "\u001b[37m\u001b[01m[2021-05-18 18:50:05,603] [Batch: 27 of 63]\u001b[0m\n",
      "\u001b[37m\u001b[01m[2021-05-18 18:50:05,620] [Batch: 28 of 63]\u001b[0m\n",
      "\u001b[37m\u001b[01m[2021-05-18 18:50:05,637] [Batch: 29 of 63]\u001b[0m\n",
      "\u001b[37m\u001b[01m[2021-05-18 18:50:05,655] [Batch: 30 of 63]\u001b[0m\n",
      "\u001b[37m\u001b[01m[2021-05-18 18:50:05,672] [Batch: 31 of 63]\u001b[0m\n",
      "\u001b[37m\u001b[01m[2021-05-18 18:50:05,690] [Batch: 32 of 63]\u001b[0m\n",
      "\u001b[37m\u001b[01m[2021-05-18 18:50:05,707] [Batch: 33 of 63]\u001b[0m\n",
      "\u001b[37m\u001b[01m[2021-05-18 18:50:05,724] [Batch: 34 of 63]\u001b[0m\n",
      "\u001b[37m\u001b[01m[2021-05-18 18:50:05,742] [Batch: 35 of 63]\u001b[0m\n",
      "\u001b[37m\u001b[01m[2021-05-18 18:50:05,759] [Batch: 36 of 63]\u001b[0m\n",
      "\u001b[37m\u001b[01m[2021-05-18 18:50:05,776] [Batch: 37 of 63]\u001b[0m\n",
      "\u001b[37m\u001b[01m[2021-05-18 18:50:05,793] [Batch: 38 of 63]\u001b[0m\n",
      "\u001b[37m\u001b[01m[2021-05-18 18:50:05,810] [Batch: 39 of 63]\u001b[0m\n",
      "\u001b[37m\u001b[01m[2021-05-18 18:50:05,827] [Batch: 40 of 63]\u001b[0m\n",
      "\u001b[37m\u001b[01m[2021-05-18 18:50:05,844] [Batch: 41 of 63]\u001b[0m\n",
      "\u001b[37m\u001b[01m[2021-05-18 18:50:05,860] [Batch: 42 of 63]\u001b[0m\n",
      "\u001b[37m\u001b[01m[2021-05-18 18:50:05,877] [Batch: 43 of 63]\u001b[0m\n",
      "\u001b[37m\u001b[01m[2021-05-18 18:50:05,894] [Batch: 44 of 63]\u001b[0m\n",
      "\u001b[37m\u001b[01m[2021-05-18 18:50:05,911] [Batch: 45 of 63]\u001b[0m\n",
      "\u001b[37m\u001b[01m[2021-05-18 18:50:05,928] [Batch: 46 of 63]\u001b[0m\n",
      "\u001b[37m\u001b[01m[2021-05-18 18:50:05,945] [Batch: 47 of 63]\u001b[0m\n",
      "\u001b[37m\u001b[01m[2021-05-18 18:50:05,962] [Batch: 48 of 63]\u001b[0m\n",
      "\u001b[37m\u001b[01m[2021-05-18 18:50:05,979] [Batch: 49 of 63]\u001b[0m\n",
      "\u001b[37m\u001b[01m[2021-05-18 18:50:05,996] [Batch: 50 of 63]\u001b[0m\n",
      "\u001b[37m\u001b[01m[2021-05-18 18:50:06,014] [Batch: 51 of 63]\u001b[0m\n",
      "\u001b[37m\u001b[01m[2021-05-18 18:50:06,030] [Batch: 52 of 63]\u001b[0m\n",
      "\u001b[37m\u001b[01m[2021-05-18 18:50:06,047] [Batch: 53 of 63]\u001b[0m\n",
      "\u001b[37m\u001b[01m[2021-05-18 18:50:06,064] [Batch: 54 of 63]\u001b[0m\n",
      "\u001b[37m\u001b[01m[2021-05-18 18:50:06,081] [Batch: 55 of 63]\u001b[0m\n",
      "\u001b[37m\u001b[01m[2021-05-18 18:50:06,098] [Batch: 56 of 63]\u001b[0m\n",
      "\u001b[37m\u001b[01m[2021-05-18 18:50:06,115] [Batch: 57 of 63]\u001b[0m\n",
      "\u001b[37m\u001b[01m[2021-05-18 18:50:06,132] [Batch: 58 of 63]\u001b[0m\n",
      "\u001b[37m\u001b[01m[2021-05-18 18:50:06,149] [Batch: 59 of 63]\u001b[0m\n",
      "\u001b[37m\u001b[01m[2021-05-18 18:50:06,166] [Batch: 60 of 63]\u001b[0m\n",
      "\u001b[37m\u001b[01m[2021-05-18 18:50:06,183] [Batch: 61 of 63]\u001b[0m\n",
      "\u001b[37m\u001b[01m[2021-05-18 18:50:06,199] [Batch: 62 of 63]\u001b[0m\n",
      "\u001b[37m\u001b[01m[2021-05-18 18:50:06,199] [Summary] [Loss = 2.0798] [Accuracy = 11.56]\u001b[0m\n"
     ]
    },
    {
     "name": "stdout",
     "output_type": "stream",
     "text": [
      "Done!\n"
     ]
    }
   ],
   "source": [
    "learning_rate = 5e-4\n",
    "batch_size = 32\n",
    "epochs = 100\n",
    "device = torch.device(\"cuda:\" + str(0))\n",
    "model = Model().to(device)\n",
    "# Initialize the loss function\n",
    "#loss_fn = nn.CrossEntropyLoss()\n",
    "optimizer = torch.optim.Adam(model.parameters(), lr=learning_rate)\n",
    "for t in range(epochs):\n",
    "    print(f\"Epoch {t+1}\\n-------------------------------\")\n",
    "    train_loop(device, t+1, train_dataloader, model, optimizer)\n",
    "test_loop(device,t, test_dataloader, model)\n",
    "print(\"Done!\")"
   ]
  },
  {
   "cell_type": "code",
   "execution_count": null,
   "id": "e80d9103-7320-4d14-83d5-8e6e239bc958",
   "metadata": {},
   "outputs": [],
   "source": []
  }
 ],
 "metadata": {
  "kernelspec": {
   "display_name": "Python 3 (λ)",
   "language": "python",
   "name": "lambda-stack"
  },
  "language_info": {
   "codemirror_mode": {
    "name": "ipython",
    "version": 3
   },
   "file_extension": ".py",
   "mimetype": "text/x-python",
   "name": "python",
   "nbconvert_exporter": "python",
   "pygments_lexer": "ipython3",
   "version": "3.8.5"
  }
 },
 "nbformat": 4,
 "nbformat_minor": 5
}
