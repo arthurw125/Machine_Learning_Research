{
 "cells": [
  {
   "cell_type": "code",
   "execution_count": 1,
   "id": "written-mattress",
   "metadata": {},
   "outputs": [],
   "source": [
    "import torch\n",
    "from torch import nn\n",
    "from torch.utils.data import Dataset\n",
    "from torch.utils.data import DataLoader\n",
    "from torchvision import datasets\n",
    "from torchvision.transforms import ToTensor, Lambda\n",
    "import numpy as np\n",
    "import matplotlib.pyplot as plt\n",
    "import os\n",
    "import time\n",
    "from dist3 import create_task\n",
    "import skimage.transform as st\n",
    "#from esbn_pytorch import ESBN"
   ]
  },
  {
   "cell_type": "code",
   "execution_count": 2,
   "id": "36e8bfd5-9f55-4891-9eb6-b4bdbb342cff",
   "metadata": {},
   "outputs": [],
   "source": [
    "from util import log\n",
    "from modules import *"
   ]
  },
  {
   "cell_type": "code",
   "execution_count": 3,
   "id": "64341df8-307a-4b22-a0cb-ec9f08153381",
   "metadata": {},
   "outputs": [],
   "source": [
    "class Encoder_conv(nn.Module):\n",
    "\t#def __init__(self, args):\n",
    "\tdef __init__(self):\n",
    "\t\tsuper(Encoder_conv, self).__init__()\n",
    "\t\tlog.info('Building convolutional encoder...')\n",
    "\t\t# Convolutional layers\n",
    "\t\tlog.info('Conv layers...')\n",
    "\t\t\n",
    "\t\tself.conv1 = nn.Conv2d(1, 32, 4, stride=2, padding=1)\n",
    "\t\tself.conv2 = nn.Conv2d(32, 32, 4, stride=2, padding=1)\n",
    "\t\tself.conv3 = nn.Conv2d(32, 32, 4, stride=2, padding=1)\n",
    "\t\t'''\n",
    "\t\tself.conv1 = nn.Conv2d(1, 160, 4, stride=2, padding=1)\n",
    "\t\tself.conv2 = nn.Conv2d(160, 160, 4, stride=2, padding=1)\n",
    "\t\tself.conv3 = nn.Conv2d(160, 160, 4, stride=2, padding=1)\n",
    "\t\t'''   \n",
    "\t\t# Fully-connected layers\n",
    "\t\tlog.info('FC layers...')\n",
    "\t\tself.fc1 = nn.Linear(4*4*32, 256)\n",
    "\t\tself.fc2 = nn.Linear(256, 128)\n",
    "\t\t#self.fc1 = nn.Linear(64000, 256)\n",
    "\t\t#self.fc2 = nn.Linear(256, 128)\n",
    "\t\t# Nonlinearities\n",
    "\t\tself.relu = nn.ReLU()\n",
    "\t\t# Initialize parameters\n",
    "\t\tfor name, param in self.named_parameters():\n",
    "\t\t\t# Initialize all biases to 0\n",
    "\t\t\tif 'bias' in name:\n",
    "\t\t\t\tnn.init.constant_(param, 0.0)\n",
    "\t\t\t# Initialize all pre-ReLU weights using Kaiming normal distribution\n",
    "\t\t\telif 'weight' in name:\n",
    "\t\t\t\tnn.init.kaiming_normal_(param, nonlinearity='relu')\n",
    "\tdef forward(self, x):\n",
    "\t\t# Convolutional layers\n",
    "\t\tconv1_out = self.relu(self.conv1(x))\n",
    "\t\tconv2_out = self.relu(self.conv2(conv1_out))\n",
    "\t\tconv3_out = self.relu(self.conv3(conv2_out))\n",
    "\t\t# Flatten output of conv. net\n",
    "\t\tconv3_out_flat = torch.flatten(conv3_out, 1)\n",
    "\t\t# Fully-connected layers\n",
    "\t\t#print(\"conv3_out_flat.size() =\",conv3_out_flat.size())\n",
    "\t\t#time.sleep(120)\n",
    "\t\tfc1_out = self.relu(self.fc1(conv3_out_flat))\n",
    "\t\tfc2_out = self.relu(self.fc2(fc1_out))\n",
    "\t\t# Output\n",
    "\t\tz = fc2_out\n",
    "\t\treturn z"
   ]
  },
  {
   "cell_type": "code",
   "execution_count": 4,
   "id": "brutal-rebel",
   "metadata": {},
   "outputs": [],
   "source": [
    "class Model(nn.Module):\n",
    "\t#def __init__(self, task_gen, args):\n",
    "\tdef __init__(self):\n",
    "\t\tsuper(Model, self).__init__()\n",
    "\t\t# Encoder\n",
    "\t\tlog.info('Building encoder...')\n",
    "\t\t'''\n",
    "\t\tif args.encoder == 'conv':\n",
    "\t\t\tself.encoder = Encoder_conv(args)\n",
    "\t\telif args.encoder == 'mlp':\n",
    "\t\t\tself.encoder = Encoder_mlp(args)\n",
    "\t\telif args.encoder == 'rand':\n",
    "\t\t\tself.encoder = Encoder_rand(args)\n",
    "\t\t'''\n",
    "\t\tself.encoder = Encoder_conv()# removed \"args\" argument\n",
    "\t\t# LSTM and output layers\n",
    "\t\tlog.info('Building LSTM and output layers...')\n",
    "\t\tself.z_size = 128\n",
    "\t\tself.key_size = 256\n",
    "\t\tself.hidden_size = 512\n",
    "\t\tself.lstm = nn.LSTM(self.key_size + 1, self.hidden_size, batch_first=True)\n",
    "\t\tself.key_w_out = nn.Linear(self.hidden_size, self.key_size)\n",
    "\t\tself.g_out = nn.Linear(self.hidden_size, 1)\n",
    "\t\tself.confidence_gain = nn.Parameter(torch.ones(1))\n",
    "\t\tself.confidence_bias = nn.Parameter(torch.zeros(1))\n",
    "\t\t#self.y_out = nn.Linear(self.hidden_size, task_gen.y_dim)\n",
    "\t\ty_out = 8 # number of outputs/ ESBN = 4\n",
    "\t\tself.y_out = nn.Linear(self.hidden_size, y_out)\n",
    "\t\t# Context normalization\n",
    "\t\t#if args.norm_type == 'contextnorm' or args.norm_type == 'tasksegmented_contextnorm':\n",
    "\t\tif True: # assumes \"contextnorm or tasksegmented_contextnorm\"\n",
    "\t\t\tself.contextnorm = True\n",
    "\t\t\tself.gamma = nn.Parameter(torch.ones(self.z_size))\n",
    "\t\t\tself.beta = nn.Parameter(torch.zeros(self.z_size))\n",
    "\t\telse:\n",
    "\t\t\tself.contextnorm = False\n",
    "\t\t'''\n",
    "\t\tif args.norm_type == 'tasksegmented_contextnorm':\n",
    "\t\t\tself.task_seg = task_gen.task_seg\n",
    "\t\telse:\n",
    "\t\t\tself.task_seg = [np.arange(task_gen.seq_len)]\n",
    "\t\t'''\n",
    "\t\tseq_len = 16 # number of images per Raven problem / ESBN = 9        \n",
    "\t\tself.task_seg = [np.arange(seq_len)]\n",
    "\t\t# Nonlinearities\n",
    "\t\tself.relu = nn.ReLU()\n",
    "\t\tself.sigmoid = nn.Sigmoid()\n",
    "\t\tself.softmax = nn.Softmax(dim=1)\n",
    "\t\t# Initialize parameters\n",
    "\t\tfor name, param in self.named_parameters():\n",
    "\t\t\t# Encoder parameters have already been initialized\n",
    "\t\t\tif not ('encoder' in name) and not ('confidence' in name):\n",
    "\t\t\t\t# Initialize all biases to 0\n",
    "\t\t\t\tif 'bias' in name:\n",
    "\t\t\t\t\tnn.init.constant_(param, 0.0)\n",
    "\t\t\t\telse:\n",
    "\t\t\t\t\tif 'lstm' in name:\n",
    "\t\t\t\t\t\t# Initialize gate weights (followed by sigmoid) using Xavier normal distribution\n",
    "\t\t\t\t\t\tnn.init.xavier_normal_(param[:self.hidden_size*2,:])\n",
    "\t\t\t\t\t\tnn.init.xavier_normal_(param[self.hidden_size*3:,:])\n",
    "\t\t\t\t\t\t# Initialize input->hidden and hidden->hidden weights (followed by tanh) using Xavier normal distribution with gain = \n",
    "\t\t\t\t\t\tnn.init.xavier_normal_(param[self.hidden_size*2:self.hidden_size*3,:], gain=5.0/3.0)\n",
    "\t\t\t\t\telif 'key_w' in name:\n",
    "\t\t\t\t\t\t# Initialize weights for key output layer (followed by ReLU) using Kaiming normal distribution\n",
    "\t\t\t\t\t\tnn.init.kaiming_normal_(param, nonlinearity='relu')\n",
    "\t\t\t\t\telif 'g_out' in name:\n",
    "\t\t\t\t\t\t# Initialize weights for gate output layer (followed by sigmoid) using Xavier normal distribution\n",
    "\t\t\t\t\t\tnn.init.xavier_normal_(param)\n",
    "\t\t\t\t\telif 'y_out' in name:\n",
    "\t\t\t\t\t\t# Initialize weights for multiple-choice output layer (followed by softmax) using Xavier normal distribution\n",
    "\t\t\t\t\t\tnn.init.xavier_normal_(param)\n",
    "\tdef forward(self, x_seq, device):\n",
    "\t\t# Encode all images in sequence\n",
    "\t\tz_seq = []\n",
    "\t\tfor t in range(x_seq.shape[1]):\n",
    "\t\t\tx_t = x_seq[:,t,:,:].unsqueeze(1)\n",
    "\t\t\tz_t = self.encoder(x_t)\n",
    "\t\t\tz_seq.append(z_t)\n",
    "\t\tz_seq = torch.stack(z_seq, dim=1)\n",
    "\t\tif self.contextnorm:\n",
    "\t\t\tz_seq_all_seg = []\n",
    "\t\t\tfor seg in range(len(self.task_seg)):\n",
    "\t\t\t\tz_seq_all_seg.append(self.apply_context_norm(z_seq[:,self.task_seg[seg],:]))\n",
    "\t\t\tz_seq = torch.cat(z_seq_all_seg, dim=1)\n",
    "\t\t# Initialize hidden state\n",
    "\t\thidden = torch.zeros(1, x_seq.shape[0], self.hidden_size).to(device)\n",
    "\t\tcell_state = torch.zeros(1, x_seq.shape[0], self.hidden_size).to(device)\n",
    "\t\t# Initialize retrieved key vector\n",
    "\t\tkey_r = torch.zeros(x_seq.shape[0], 1, self.key_size + 1).to(device)\n",
    "\t\t# Memory model (extra time step to process key retrieved on final time step)\n",
    "\t\tfor t in range(x_seq.shape[1] + 1):\n",
    "\t\t\t# Image embedding\n",
    "\t\t\tif t == x_seq.shape[1]:\n",
    "\t\t\t\tz_t = torch.zeros(x_seq.shape[0], 1, self.z_size).to(device)\n",
    "\t\t\telse:\n",
    "\t\t\t\tz_t = z_seq[:,t,:].unsqueeze(1)\n",
    "\t\t\t# Controller\n",
    "\t\t\t# LSTM\n",
    "\t\t\tlstm_out, (hidden, cell_state) = self.lstm(key_r, (hidden, cell_state))\n",
    "\t\t\t# Key output layers\n",
    "\t\t\tkey_w = self.relu(self.key_w_out(lstm_out))\n",
    "\t\t\t# Gates\n",
    "\t\t\tg = self.sigmoid(self.g_out(lstm_out))\n",
    "\t\t\t# Task output layer\n",
    "\t\t\ty_pred_linear = self.y_out(lstm_out).squeeze()\n",
    "\t\t\ty_pred = y_pred_linear.argmax(1)\n",
    "\t\t\t# Read from memory\n",
    "\t\t\tif t == 0:\n",
    "\t\t\t\tkey_r = torch.zeros(x_seq.shape[0], 1, self.key_size + 1).to(device)\n",
    "\t\t\telse:\n",
    "\t\t\t\t# Read key\n",
    "\t\t\t\tw_k = self.softmax((z_t * M_v).sum(dim=2))\n",
    "\t\t\t\tc_k = self.sigmoid(((z_t * M_v).sum(dim=2) * self.confidence_gain) + self.confidence_bias)\n",
    "\t\t\t\tkey_r = g * (torch.cat([M_k, c_k.unsqueeze(2)], dim=2) * w_k.unsqueeze(2)).sum(1).unsqueeze(1)\n",
    "\t\t\t# Write to memory\n",
    "\t\t\tif t == 0:\n",
    "\t\t\t\tM_k = key_w\n",
    "\t\t\t\tM_v = z_t\n",
    "\t\t\telse:\n",
    "\t\t\t\tM_k = torch.cat([M_k, key_w], dim=1)\n",
    "\t\t\t\tM_v = torch.cat([M_v, z_t], dim=1)\n",
    "\t\treturn y_pred_linear, y_pred\n",
    "\tdef apply_context_norm(self, z_seq):\n",
    "\t\teps = 1e-8\n",
    "\t\tz_mu = z_seq.mean(1)\n",
    "\t\tz_sigma = (z_seq.var(1) + eps).sqrt()\n",
    "\t\tz_seq = (z_seq - z_mu.unsqueeze(1)) / z_sigma.unsqueeze(1)\n",
    "\t\tz_seq = (z_seq * self.gamma) + self.beta\n",
    "\t\treturn z_seq"
   ]
  },
  {
   "cell_type": "code",
   "execution_count": 5,
   "id": "piano-inspection",
   "metadata": {},
   "outputs": [],
   "source": [
    "def grab_npz_img(img_path):\n",
    "    data = np.load(img_path)\n",
    "    img = data['image']\n",
    "    target = data['target']\n",
    "    x = img[:,:,:]\n",
    "    x = st.resize(x, (16, 32, 32))\n",
    "    #x = np.expand_dims(x, axis=0)\n",
    "    #x = x.reshape((x.shape[0],x.shape[1],x.shape[2],x.shape[3],1))\n",
    "    return x"
   ]
  },
  {
   "cell_type": "code",
   "execution_count": 6,
   "id": "standing-arthur",
   "metadata": {},
   "outputs": [],
   "source": [
    "def grab_npz_target(target_path):\n",
    "    data = np.load(target_path)\n",
    "    target = data['target']\n",
    "    y = int(target)\n",
    "    return y"
   ]
  },
  {
   "cell_type": "code",
   "execution_count": 7,
   "id": "motivated-dream",
   "metadata": {},
   "outputs": [],
   "source": [
    "def create_dataset(folder,num_imgs,config):\n",
    "    X = []\n",
    "    #X = np.array(X)\n",
    "    Y =[]\n",
    "    #for i in range(num_imgs):\n",
    "    name = ''\n",
    "    if config=='train':\n",
    "        name = 'train'\n",
    "    elif config=='validate':\n",
    "        name = 'val'\n",
    "    else:\n",
    "        name = 'test'\n",
    "        \n",
    "    count = 0\n",
    "    i = 0\n",
    "    while count < num_imgs:\n",
    "        try:\n",
    "            x = grab_npz_img('/home/asw3x/RAVEN-10000/'+folder+'/RAVEN_%d_%s.npz'%(i,name))\n",
    "            y = grab_npz_target('/home/asw3x/RAVEN-10000/'+folder+'/RAVEN_%d_%s.npz'%(i,name))\n",
    "            i += 1\n",
    "        except:\n",
    "            i += 1\n",
    "            continue\n",
    "        X.append(x)\n",
    "        #X = np.concatenate(x)\n",
    "        Y.append(y)\n",
    "        count += 1\n",
    "    X = np.array(X)\n",
    "    X = np.squeeze(X)\n",
    "    #X = np.expand_dims(X, axis=4)\n",
    "    #X = X.reshape((X.shape[0],X.shape[2],X.shape[3],X.shape[1]))\n",
    "    #X = np.moveaxis(X, 1, -1)\n",
    "    return X,np.array(Y)"
   ]
  },
  {
   "cell_type": "code",
   "execution_count": 8,
   "id": "stainless-impact",
   "metadata": {},
   "outputs": [],
   "source": [
    "def create_task(size=1000, task=\"center_single\"):\n",
    "    folder = task\n",
    "    train_size = size\n",
    "    test_size = train_size*0.4\n",
    "    \n",
    "    X_train, Y_train = create_dataset(folder,train_size,\"train\")\n",
    "    X_test, Y_test = create_dataset(folder,test_size,\"test\")\n",
    "    \n",
    "    # Create training and test sets\n",
    "    train_set = {'img_seq': X_train, 'y': Y_train}\n",
    "    test_set = {'img_seq': X_test, 'y': Y_test}\n",
    "    return train_set, test_set"
   ]
  },
  {
   "cell_type": "code",
   "execution_count": 9,
   "id": "surrounded-cooperation",
   "metadata": {},
   "outputs": [],
   "source": [
    "training_set,test_set = create_task(size=5000)"
   ]
  },
  {
   "cell_type": "code",
   "execution_count": 10,
   "id": "entertaining-acceptance",
   "metadata": {},
   "outputs": [
    {
     "data": {
      "text/plain": [
       "(5000, 16, 32, 32)"
      ]
     },
     "execution_count": 10,
     "metadata": {},
     "output_type": "execute_result"
    }
   ],
   "source": [
    "training_set['img_seq'].shape"
   ]
  },
  {
   "cell_type": "code",
   "execution_count": 11,
   "id": "photographic-actress",
   "metadata": {},
   "outputs": [
    {
     "data": {
      "text/plain": [
       "(5000,)"
      ]
     },
     "execution_count": 11,
     "metadata": {},
     "output_type": "execute_result"
    }
   ],
   "source": [
    "training_set['y'].shape"
   ]
  },
  {
   "cell_type": "code",
   "execution_count": null,
   "id": "5ac478d0-80fd-48de-bf2c-ed81d333c813",
   "metadata": {},
   "outputs": [],
   "source": []
  },
  {
   "cell_type": "code",
   "execution_count": 12,
   "id": "structural-response",
   "metadata": {},
   "outputs": [],
   "source": [
    "class CustomImageDataset(Dataset):\n",
    "    def __init__(self, dataset, transform=None, target_transform=None):\n",
    "        '''\n",
    "        self.img_labels = pd.read_csv(annotations_file)\n",
    "        self.img_dir = img_dir\n",
    "        self.transform = transform\n",
    "        self.target_transform = target_transform\n",
    "        '''\n",
    "        self.img_seq = dataset['img_seq']\n",
    "        self.y = dataset['y']\n",
    "\n",
    "    def __len__(self):\n",
    "        return len(self.y)\n",
    "\n",
    "    def __getitem__(self, idx):\n",
    "        '''\n",
    "        img_path = os.path.join(self.img_dir, self.img_labels.iloc[idx, 0])\n",
    "        image = read_image(img_path)\n",
    "        label = self.img_labels.iloc[idx, 1]\n",
    "        if self.transform:\n",
    "            image = self.transform(image)\n",
    "        if self.target_transform:\n",
    "            label = self.target_transform(label)\n",
    "        sample = {\"image\": image, \"label\": label}\n",
    "        '''\n",
    "        img_seq = self.img_seq[idx,:,:,:]\n",
    "        y = self.y[idx]\n",
    "        \n",
    "        return img_seq, y"
   ]
  },
  {
   "cell_type": "code",
   "execution_count": 13,
   "id": "moving-purpose",
   "metadata": {},
   "outputs": [],
   "source": [
    "training_set = CustomImageDataset(training_set)\n",
    "train_dataloader = DataLoader(training_set, batch_size=32, shuffle=True)\n",
    "test_set = CustomImageDataset(test_set)\n",
    "test_dataloader = DataLoader(test_set, batch_size=32, shuffle=True)"
   ]
  },
  {
   "cell_type": "code",
   "execution_count": 14,
   "id": "obvious-robinson",
   "metadata": {},
   "outputs": [
    {
     "name": "stdout",
     "output_type": "stream",
     "text": [
      "Feature batch shape: torch.Size([32, 16, 32, 32])\n",
      "Labels batch shape: torch.Size([32])\n"
     ]
    },
    {
     "data": {
      "image/png": "[encoded data removed]",
      "text/plain": [
       "<Figure size 432x288 with 1 Axes>"
      ]
     },
     "metadata": {
      "needs_background": "light"
     },
     "output_type": "display_data"
    },
    {
     "name": "stdout",
     "output_type": "stream",
     "text": [
      "Label: 3\n"
     ]
    }
   ],
   "source": [
    "train_features, train_labels = next(iter(train_dataloader))\n",
    "print(f\"Feature batch shape: {train_features.size()}\")\n",
    "print(f\"Labels batch shape: {train_labels.size()}\")\n",
    "img = train_features[0,0,:,:].squeeze()\n",
    "label = train_labels[0]\n",
    "plt.imshow(img, cmap=\"gray\")\n",
    "plt.show()\n",
    "print(f\"Label: {label}\")"
   ]
  },
  {
   "cell_type": "code",
   "execution_count": 15,
   "id": "excessive-loading",
   "metadata": {},
   "outputs": [
    {
     "name": "stdout",
     "output_type": "stream",
     "text": [
      "Feature batch shape: torch.Size([32, 16, 32, 32])\n",
      "Labels batch shape: torch.Size([32])\n"
     ]
    },
    {
     "data": {
      "image/png": "[encoded data removed]",
      "text/plain": [
       "<Figure size 432x288 with 1 Axes>"
      ]
     },
     "metadata": {
      "needs_background": "light"
     },
     "output_type": "display_data"
    },
    {
     "name": "stdout",
     "output_type": "stream",
     "text": [
      "Label: 6\n"
     ]
    }
   ],
   "source": [
    "train_features, train_labels = next(iter(train_dataloader))\n",
    "print(f\"Feature batch shape: {train_features.size()}\")\n",
    "print(f\"Labels batch shape: {train_labels.size()}\")\n",
    "img = train_features[0,0,:,:].squeeze()\n",
    "label = train_labels[0]\n",
    "plt.imshow(img, cmap=\"gray\")\n",
    "plt.show()\n",
    "print(f\"Label: {label}\")"
   ]
  },
  {
   "cell_type": "code",
   "execution_count": 16,
   "id": "romantic-feelings",
   "metadata": {},
   "outputs": [
    {
     "data": {
      "text/plain": [
       "'\\ndef train_loop(train_dataloader, model, loss_fn, optimizer):\\n    size = len(dataloader.dataset)\\n    for batch, (X, y) in enumerate(dataloader):\\n        # Compute prediction and loss\\n        pred = model(X)\\n        loss = loss_fn(pred, y)\\n\\n        # Backpropagation\\n        optimizer.zero_grad()\\n        loss.backward()\\n        optimizer.step()\\n\\n        if batch % 128 == 0:\\n            loss, current = loss.item(), batch * len(X)\\n            print(f\"loss: {loss:>7f}  [{current:>5d}/{size:>5d}]\")\\n'"
      ]
     },
     "execution_count": 16,
     "metadata": {},
     "output_type": "execute_result"
    }
   ],
   "source": [
    "'''\n",
    "def train_loop(train_dataloader, model, loss_fn, optimizer):\n",
    "    size = len(dataloader.dataset)\n",
    "    for batch, (X, y) in enumerate(dataloader):\n",
    "        # Compute prediction and loss\n",
    "        pred = model(X)\n",
    "        loss = loss_fn(pred, y)\n",
    "\n",
    "        # Backpropagation\n",
    "        optimizer.zero_grad()\n",
    "        loss.backward()\n",
    "        optimizer.step()\n",
    "\n",
    "        if batch % 128 == 0:\n",
    "            loss, current = loss.item(), batch * len(X)\n",
    "            print(f\"loss: {loss:>7f}  [{current:>5d}/{size:>5d}]\")\n",
    "'''"
   ]
  },
  {
   "cell_type": "code",
   "execution_count": 17,
   "id": "9c779a5f-ebda-4176-bfe5-8ec303bd230a",
   "metadata": {},
   "outputs": [],
   "source": [
    "def train_loop(device, epoch, train_loader, model, optimizer):\n",
    "\tmodel.train()\n",
    "\t# Iterate over batches\n",
    "\tfor batch_idx, (X, y) in enumerate(train_loader):\n",
    "\t\t# Batch start time\n",
    "\t\tstart_time = time.time()\n",
    "\t\t# Use sequence indices to slice corresponding images\n",
    "\t\t#x_seq = all_imgs[seq_ind,:,:]\n",
    "\t\tx_seq = X.float()       \n",
    "\t\t# Load data to device\n",
    "\t\tx_seq = x_seq.to(device)\n",
    "\t\t#y = torch.nn.functional.one_hot(y,num_classes=8)\n",
    "\t\t#print(\"y =\",y)\n",
    "\t\ty = y.to(device)\n",
    "\t\t# Zero out gradients for optimizer \n",
    "\t\toptimizer.zero_grad()\n",
    "\t\t# Run model \n",
    "\t\t'''\n",
    "\t\tif 'MNM' in args.model_name:\n",
    "\t\t\ty_pred_linear, y_pred, const_loss = model(x_seq, device)\n",
    "\t\telse:\n",
    "\t\t\ty_pred_linear, y_pred = model(x_seq, device)\n",
    "\t\t'''\n",
    "\t\ty_pred_linear, y_pred = model(x_seq, device)\n",
    "\t\t# Loss\n",
    "\t\tloss_fn = nn.CrossEntropyLoss()\n",
    "\t\tloss = loss_fn(y_pred_linear, y)\n",
    "\t\t'''\n",
    "\t\tif 'MNM' in args.model_name:\n",
    "\t\t\tloss += const_loss\n",
    "\t\t'''\n",
    "\t\t# Update model\n",
    "\t\tloss.backward()\n",
    "\t\toptimizer.step()\n",
    "\t\t# Batch duration\n",
    "\t\tend_time = time.time()\n",
    "\t\tbatch_dur = end_time - start_time\n",
    "\t\t# Report prgoress\n",
    "\t\t#if batch_idx % args.log_interval == 0:\n",
    "\t\tif batch_idx % 10 == 0:\n",
    "\t\t\t# Accuracy\n",
    "\t\t\tacc = torch.eq(y_pred, y).float().mean().item() * 100.0\n",
    "\t\t\t# Report \t\n",
    "\t\t\tlog.info('[Epoch: ' + str(epoch) + '] ' + \\\n",
    "\t\t\t\t\t '[Batch: ' + str(batch_idx) + ' of ' + str(len(train_loader)) + '] ' + \\\n",
    "\t\t\t\t\t '[Loss = ' + '{:.4f}'.format(loss.item()) + '] ' + \\\n",
    "\t\t\t\t\t '[Accuracy = ' + '{:.2f}'.format(acc) + '] ' + \\\n",
    "\t\t\t\t\t '[' + '{:.3f}'.format(batch_dur) + ' sec/batch]')\n",
    "\t\t\t# Save progress to file\n",
    "\t\t\t'''\n",
    "\t\t\ttrain_prog_f.write(str(batch_idx) + ' ' +\\\n",
    "\t\t\t\t\t\t\t   '{:.4f}'.format(loss.item()) + ' ' + \\\n",
    "\t\t\t\t\t\t\t   '{:.2f}'.format(acc) + '\\n')\n",
    "\t\t\t'''"
   ]
  },
  {
   "cell_type": "code",
   "execution_count": 18,
   "id": "4f6fc11e-c887-4e72-aa6f-aaf84b96a1c5",
   "metadata": {},
   "outputs": [],
   "source": [
    "def test_loop_v2(device, epoch, test_loader, model):\n",
    "\tmodel.eval()\n",
    "\t# Iterate over batches\n",
    "\tfor batch_idx, (X, y) in enumerate(test_loader):\n",
    "\t\t# Batch start time\n",
    "\t\tstart_time = time.time()\n",
    "\t\t# Use sequence indices to slice corresponding images\n",
    "\t\t#x_seq = all_imgs[seq_ind,:,:]\n",
    "\t\tx_seq = X.float()       \n",
    "\t\t# Load data to device\n",
    "\t\tx_seq = x_seq.to(device)\n",
    "\t\ty = y.to(device)\n",
    "\t\t# Zero out gradients for optimizer \n",
    "\t\toptimizer.zero_grad()\n",
    "\t\t# Run model \n",
    "\t\t'''\n",
    "\t\tif 'MNM' in args.model_name:\n",
    "\t\t\ty_pred_linear, y_pred, const_loss = model(x_seq, device)\n",
    "\t\telse:\n",
    "\t\t\ty_pred_linear, y_pred = model(x_seq, device)\n",
    "\t\t'''\n",
    "\t\ty_pred_linear, y_pred = model(x_seq, device)\n",
    "\t\t# Loss\n",
    "\t\tloss_fn = nn.CrossEntropyLoss()\n",
    "\t\tloss = loss_fn(y_pred_linear, y)\n",
    "\t\t'''\n",
    "\t\tif 'MNM' in args.model_name:\n",
    "\t\t\tloss += const_loss\n",
    "\t\t'''\n",
    "\t\t# Update model\n",
    "\t\tloss.backward()\n",
    "\t\toptimizer.step()\n",
    "\t\t# Batch duration\n",
    "\t\tend_time = time.time()\n",
    "\t\tbatch_dur = end_time - start_time\n",
    "\t\t# Report prgoress\n",
    "\t\t#if batch_idx % args.log_interval == 0:\n",
    "\t\tif batch_idx % 10 == 0:\n",
    "\t\t\t# Accuracy\n",
    "\t\t\tacc = torch.eq(y_pred, y).float().mean().item() * 100.0\n",
    "\t\t\t# Report \t\n",
    "\t\t\tlog.info('[Epoch: ' + str(epoch) + '] ' + \\\n",
    "\t\t\t\t\t '[Batch: ' + str(batch_idx) + ' of ' + str(len(train_loader)) + '] ' + \\\n",
    "\t\t\t\t\t '[Loss = ' + '{:.4f}'.format(loss.item()) + '] ' + \\\n",
    "\t\t\t\t\t '[Accuracy = ' + '{:.2f}'.format(acc) + '] ' + \\\n",
    "\t\t\t\t\t '[' + '{:.3f}'.format(batch_dur) + ' sec/batch]')\n",
    "\t\t\t# Save progress to file\n",
    "\t\t\t'''\n",
    "\t\t\ttrain_prog_f.write(str(batch_idx) + ' ' +\\\n",
    "\t\t\t\t\t\t\t   '{:.4f}'.format(loss.item()) + ' ' + \\\n",
    "\t\t\t\t\t\t\t   '{:.2f}'.format(acc) + '\\n')\n",
    "\t\t\t'''"
   ]
  },
  {
   "cell_type": "code",
   "execution_count": 19,
   "id": "b8f79142-cf26-4f4c-a99e-ad2fff8817fa",
   "metadata": {},
   "outputs": [],
   "source": [
    "def test_loop(device, epoch, test_loader, model):\n",
    "\tlog.info('Evaluating on test set...')\n",
    "\t# Set to eval mode\n",
    "\tmodel.eval()\n",
    "\t# Iterate over batches\n",
    "\tall_acc = []\n",
    "\tall_loss = []\n",
    "\tfor batch_idx, (X, y) in enumerate(test_loader):\n",
    "\t\t# Use sequence indices to slice corresponding images\n",
    "\t\tx_seq = X.float()\n",
    "\t\t# Load data to device\n",
    "\t\tx_seq = x_seq.to(device)\n",
    "\t\ty = y.to(device)\n",
    "\t\t# Run model \n",
    "\t\t'''\n",
    "\t\tif 'MNM' in args.model_name:\n",
    "\t\t\ty_pred_linear, y_pred, const_loss = model(x_seq, device)\n",
    "\t\telse:\n",
    "\t\t\ty_pred_linear, y_pred = model(x_seq, device)\n",
    "\t\t'''\n",
    "\t\ty_pred_linear, y_pred = model(x_seq, device)\n",
    "\t\t# Loss\n",
    "\t\tloss_fn = nn.CrossEntropyLoss()\n",
    "\t\tloss = loss_fn(y_pred_linear, y)\n",
    "\t\t'''\n",
    "\t\tif 'MNM' in args.model_name:\n",
    "\t\t\tloss += const_loss\n",
    "\t\t'''\n",
    "\t\tall_loss.append(loss.item())\n",
    "\t\t# Accuracy\n",
    "\t\tacc = torch.eq(y_pred, y).float().mean().item() * 100.0\n",
    "\t\tall_acc.append(acc)\n",
    "\t\t# Report progress\n",
    "\t\tlog.info('[Batch: ' + str(batch_idx) + ' of ' + str(len(test_loader)) + ']')\n",
    "\t# Report overall test performance\n",
    "\tavg_loss = np.mean(all_loss)\n",
    "\tavg_acc = np.mean(all_acc)\n",
    "\tlog.info('[Summary] ' + \\\n",
    "\t\t\t '[Loss = ' + '{:.4f}'.format(avg_loss) + '] ' + \\\n",
    "\t\t\t '[Accuracy = ' + '{:.2f}'.format(avg_acc) + ']')"
   ]
  },
  {
   "cell_type": "code",
   "execution_count": 20,
   "id": "exempt-input",
   "metadata": {},
   "outputs": [
    {
     "name": "stderr",
     "output_type": "stream",
     "text": [
      "\u001b[37m\u001b[01m[2021-05-20 01:22:29,428] Building encoder...\u001b[0m\n",
      "\u001b[37m\u001b[01m[2021-05-20 01:22:29,428] Building convolutional encoder...\u001b[0m\n",
      "\u001b[37m\u001b[01m[2021-05-20 01:22:29,429] Conv layers...\u001b[0m\n",
      "\u001b[37m\u001b[01m[2021-05-20 01:22:29,430] FC layers...\u001b[0m\n",
      "\u001b[37m\u001b[01m[2021-05-20 01:22:29,432] Building LSTM and output layers...\u001b[0m\n",
      "\u001b[37m\u001b[01m[2021-05-20 01:22:31,657] [Epoch: 1] [Batch: 0 of 157] [Loss = 2.0736] [Accuracy = 18.75] [0.053 sec/batch]\u001b[0m\n"
     ]
    },
    {
     "name": "stdout",
     "output_type": "stream",
     "text": [
      "Epoch 1\n",
      "-------------------------------\n"
     ]
    },
    {
     "name": "stderr",
     "output_type": "stream",
     "text": [
      "\u001b[37m\u001b[01m[2021-05-20 01:22:32,067] [Epoch: 1] [Batch: 10 of 157] [Loss = 2.1088] [Accuracy = 12.50] [0.041 sec/batch]\u001b[0m\n",
      "\u001b[37m\u001b[01m[2021-05-20 01:22:32,468] [Epoch: 1] [Batch: 20 of 157] [Loss = 2.0874] [Accuracy = 6.25] [0.039 sec/batch]\u001b[0m\n",
      "\u001b[37m\u001b[01m[2021-05-20 01:22:32,860] [Epoch: 1] [Batch: 30 of 157] [Loss = 2.0798] [Accuracy = 12.50] [0.039 sec/batch]\u001b[0m\n",
      "\u001b[37m\u001b[01m[2021-05-20 01:22:33,260] [Epoch: 1] [Batch: 40 of 157] [Loss = 2.0801] [Accuracy = 6.25] [0.040 sec/batch]\u001b[0m\n",
      "\u001b[37m\u001b[01m[2021-05-20 01:22:33,658] [Epoch: 1] [Batch: 50 of 157] [Loss = 2.0706] [Accuracy = 18.75] [0.038 sec/batch]\u001b[0m\n",
      "\u001b[37m\u001b[01m[2021-05-20 01:22:34,059] [Epoch: 1] [Batch: 60 of 157] [Loss = 2.0946] [Accuracy = 18.75] [0.038 sec/batch]\u001b[0m\n",
      "\u001b[37m\u001b[01m[2021-05-20 01:22:34,447] [Epoch: 1] [Batch: 70 of 157] [Loss = 2.0755] [Accuracy = 21.88] [0.040 sec/batch]\u001b[0m\n",
      "\u001b[37m\u001b[01m[2021-05-20 01:22:34,873] [Epoch: 1] [Batch: 80 of 157] [Loss = 2.0554] [Accuracy = 15.62] [0.044 sec/batch]\u001b[0m\n",
      "\u001b[37m\u001b[01m[2021-05-20 01:22:35,314] [Epoch: 1] [Batch: 90 of 157] [Loss = 2.0862] [Accuracy = 18.75] [0.045 sec/batch]\u001b[0m\n",
      "\u001b[37m\u001b[01m[2021-05-20 01:22:35,740] [Epoch: 1] [Batch: 100 of 157] [Loss = 2.0676] [Accuracy = 15.62] [0.039 sec/batch]\u001b[0m\n",
      "\u001b[37m\u001b[01m[2021-05-20 01:22:36,162] [Epoch: 1] [Batch: 110 of 157] [Loss = 2.0895] [Accuracy = 18.75] [0.041 sec/batch]\u001b[0m\n",
      "\u001b[37m\u001b[01m[2021-05-20 01:22:36,563] [Epoch: 1] [Batch: 120 of 157] [Loss = 2.0842] [Accuracy = 12.50] [0.041 sec/batch]\u001b[0m\n",
      "\u001b[37m\u001b[01m[2021-05-20 01:22:36,983] [Epoch: 1] [Batch: 130 of 157] [Loss = 2.0724] [Accuracy = 9.38] [0.042 sec/batch]\u001b[0m\n",
      "\u001b[37m\u001b[01m[2021-05-20 01:22:37,393] [Epoch: 1] [Batch: 140 of 157] [Loss = 2.0799] [Accuracy = 9.38] [0.038 sec/batch]\u001b[0m\n",
      "\u001b[37m\u001b[01m[2021-05-20 01:22:37,810] [Epoch: 1] [Batch: 150 of 157] [Loss = 2.0661] [Accuracy = 21.88] [0.041 sec/batch]\u001b[0m\n",
      "\u001b[37m\u001b[01m[2021-05-20 01:22:38,100] [Epoch: 2] [Batch: 0 of 157] [Loss = 2.0849] [Accuracy = 9.38] [0.041 sec/batch]\u001b[0m\n"
     ]
    },
    {
     "name": "stdout",
     "output_type": "stream",
     "text": [
      "Epoch 2\n",
      "-------------------------------\n"
     ]
    },
    {
     "name": "stderr",
     "output_type": "stream",
     "text": [
      "\u001b[37m\u001b[01m[2021-05-20 01:22:38,490] [Epoch: 2] [Batch: 10 of 157] [Loss = 2.0772] [Accuracy = 18.75] [0.038 sec/batch]\u001b[0m\n",
      "\u001b[37m\u001b[01m[2021-05-20 01:22:38,899] [Epoch: 2] [Batch: 20 of 157] [Loss = 2.0819] [Accuracy = 9.38] [0.042 sec/batch]\u001b[0m\n",
      "\u001b[37m\u001b[01m[2021-05-20 01:22:39,304] [Epoch: 2] [Batch: 30 of 157] [Loss = 2.0709] [Accuracy = 28.12] [0.040 sec/batch]\u001b[0m\n",
      "\u001b[37m\u001b[01m[2021-05-20 01:22:39,707] [Epoch: 2] [Batch: 40 of 157] [Loss = 2.0720] [Accuracy = 12.50] [0.038 sec/batch]\u001b[0m\n",
      "\u001b[37m\u001b[01m[2021-05-20 01:22:40,112] [Epoch: 2] [Batch: 50 of 157] [Loss = 2.0953] [Accuracy = 12.50] [0.040 sec/batch]\u001b[0m\n",
      "\u001b[37m\u001b[01m[2021-05-20 01:22:40,526] [Epoch: 2] [Batch: 60 of 157] [Loss = 2.0808] [Accuracy = 15.62] [0.040 sec/batch]\u001b[0m\n",
      "\u001b[37m\u001b[01m[2021-05-20 01:22:40,936] [Epoch: 2] [Batch: 70 of 157] [Loss = 2.0677] [Accuracy = 12.50] [0.039 sec/batch]\u001b[0m\n",
      "\u001b[37m\u001b[01m[2021-05-20 01:22:41,345] [Epoch: 2] [Batch: 80 of 157] [Loss = 2.0568] [Accuracy = 15.62] [0.037 sec/batch]\u001b[0m\n",
      "\u001b[37m\u001b[01m[2021-05-20 01:22:41,751] [Epoch: 2] [Batch: 90 of 157] [Loss = 2.0816] [Accuracy = 9.38] [0.038 sec/batch]\u001b[0m\n",
      "\u001b[37m\u001b[01m[2021-05-20 01:22:42,163] [Epoch: 2] [Batch: 100 of 157] [Loss = 2.0584] [Accuracy = 12.50] [0.040 sec/batch]\u001b[0m\n",
      "\u001b[37m\u001b[01m[2021-05-20 01:22:42,581] [Epoch: 2] [Batch: 110 of 157] [Loss = 2.0586] [Accuracy = 18.75] [0.042 sec/batch]\u001b[0m\n",
      "\u001b[37m\u001b[01m[2021-05-20 01:22:43,015] [Epoch: 2] [Batch: 120 of 157] [Loss = 2.0779] [Accuracy = 21.88] [0.042 sec/batch]\u001b[0m\n",
      "\u001b[37m\u001b[01m[2021-05-20 01:22:43,439] [Epoch: 2] [Batch: 130 of 157] [Loss = 2.0651] [Accuracy = 12.50] [0.040 sec/batch]\u001b[0m\n",
      "\u001b[37m\u001b[01m[2021-05-20 01:22:43,847] [Epoch: 2] [Batch: 140 of 157] [Loss = 2.0632] [Accuracy = 25.00] [0.039 sec/batch]\u001b[0m\n",
      "\u001b[37m\u001b[01m[2021-05-20 01:22:44,263] [Epoch: 2] [Batch: 150 of 157] [Loss = 2.0746] [Accuracy = 6.25] [0.041 sec/batch]\u001b[0m\n",
      "\u001b[37m\u001b[01m[2021-05-20 01:22:44,561] [Epoch: 3] [Batch: 0 of 157] [Loss = 2.0927] [Accuracy = 9.38] [0.041 sec/batch]\u001b[0m\n"
     ]
    },
    {
     "name": "stdout",
     "output_type": "stream",
     "text": [
      "Epoch 3\n",
      "-------------------------------\n"
     ]
    },
    {
     "name": "stderr",
     "output_type": "stream",
     "text": [
      "\u001b[37m\u001b[01m[2021-05-20 01:22:44,991] [Epoch: 3] [Batch: 10 of 157] [Loss = 2.0155] [Accuracy = 25.00] [0.045 sec/batch]\u001b[0m\n",
      "\u001b[37m\u001b[01m[2021-05-20 01:22:45,415] [Epoch: 3] [Batch: 20 of 157] [Loss = 2.0624] [Accuracy = 12.50] [0.040 sec/batch]\u001b[0m\n",
      "\u001b[37m\u001b[01m[2021-05-20 01:22:45,827] [Epoch: 3] [Batch: 30 of 157] [Loss = 2.0869] [Accuracy = 15.62] [0.041 sec/batch]\u001b[0m\n",
      "\u001b[37m\u001b[01m[2021-05-20 01:22:46,239] [Epoch: 3] [Batch: 40 of 157] [Loss = 2.0918] [Accuracy = 9.38] [0.040 sec/batch]\u001b[0m\n",
      "\u001b[37m\u001b[01m[2021-05-20 01:22:46,659] [Epoch: 3] [Batch: 50 of 157] [Loss = 2.1046] [Accuracy = 6.25] [0.040 sec/batch]\u001b[0m\n",
      "\u001b[37m\u001b[01m[2021-05-20 01:22:47,089] [Epoch: 3] [Batch: 60 of 157] [Loss = 2.0747] [Accuracy = 18.75] [0.038 sec/batch]\u001b[0m\n",
      "\u001b[37m\u001b[01m[2021-05-20 01:22:47,503] [Epoch: 3] [Batch: 70 of 157] [Loss = 2.0706] [Accuracy = 15.62] [0.043 sec/batch]\u001b[0m\n",
      "\u001b[37m\u001b[01m[2021-05-20 01:22:47,923] [Epoch: 3] [Batch: 80 of 157] [Loss = 2.0867] [Accuracy = 15.62] [0.043 sec/batch]\u001b[0m\n",
      "\u001b[37m\u001b[01m[2021-05-20 01:22:48,335] [Epoch: 3] [Batch: 90 of 157] [Loss = 2.0838] [Accuracy = 12.50] [0.040 sec/batch]\u001b[0m\n",
      "\u001b[37m\u001b[01m[2021-05-20 01:22:48,764] [Epoch: 3] [Batch: 100 of 157] [Loss = 2.0698] [Accuracy = 15.62] [0.042 sec/batch]\u001b[0m\n",
      "\u001b[37m\u001b[01m[2021-05-20 01:22:49,189] [Epoch: 3] [Batch: 110 of 157] [Loss = 2.0960] [Accuracy = 6.25] [0.042 sec/batch]\u001b[0m\n",
      "\u001b[37m\u001b[01m[2021-05-20 01:22:49,610] [Epoch: 3] [Batch: 120 of 157] [Loss = 2.0398] [Accuracy = 21.88] [0.038 sec/batch]\u001b[0m\n",
      "\u001b[37m\u001b[01m[2021-05-20 01:22:50,035] [Epoch: 3] [Batch: 130 of 157] [Loss = 2.0825] [Accuracy = 12.50] [0.045 sec/batch]\u001b[0m\n",
      "\u001b[37m\u001b[01m[2021-05-20 01:22:50,458] [Epoch: 3] [Batch: 140 of 157] [Loss = 2.0727] [Accuracy = 12.50] [0.039 sec/batch]\u001b[0m\n",
      "\u001b[37m\u001b[01m[2021-05-20 01:22:50,887] [Epoch: 3] [Batch: 150 of 157] [Loss = 2.0135] [Accuracy = 28.12] [0.043 sec/batch]\u001b[0m\n",
      "\u001b[37m\u001b[01m[2021-05-20 01:22:51,176] [Epoch: 4] [Batch: 0 of 157] [Loss = 2.0739] [Accuracy = 18.75] [0.041 sec/batch]\u001b[0m\n"
     ]
    },
    {
     "name": "stdout",
     "output_type": "stream",
     "text": [
      "Epoch 4\n",
      "-------------------------------\n"
     ]
    },
    {
     "name": "stderr",
     "output_type": "stream",
     "text": [
      "\u001b[37m\u001b[01m[2021-05-20 01:22:51,600] [Epoch: 4] [Batch: 10 of 157] [Loss = 2.0990] [Accuracy = 12.50] [0.041 sec/batch]\u001b[0m\n",
      "\u001b[37m\u001b[01m[2021-05-20 01:22:52,019] [Epoch: 4] [Batch: 20 of 157] [Loss = 2.0772] [Accuracy = 12.50] [0.040 sec/batch]\u001b[0m\n",
      "\u001b[37m\u001b[01m[2021-05-20 01:22:52,443] [Epoch: 4] [Batch: 30 of 157] [Loss = 2.0727] [Accuracy = 12.50] [0.038 sec/batch]\u001b[0m\n",
      "\u001b[37m\u001b[01m[2021-05-20 01:22:52,863] [Epoch: 4] [Batch: 40 of 157] [Loss = 2.0454] [Accuracy = 15.62] [0.039 sec/batch]\u001b[0m\n",
      "\u001b[37m\u001b[01m[2021-05-20 01:22:53,274] [Epoch: 4] [Batch: 50 of 157] [Loss = 2.0816] [Accuracy = 9.38] [0.037 sec/batch]\u001b[0m\n",
      "\u001b[37m\u001b[01m[2021-05-20 01:22:53,697] [Epoch: 4] [Batch: 60 of 157] [Loss = 2.0136] [Accuracy = 15.62] [0.040 sec/batch]\u001b[0m\n",
      "\u001b[37m\u001b[01m[2021-05-20 01:22:54,120] [Epoch: 4] [Batch: 70 of 157] [Loss = 2.0507] [Accuracy = 21.88] [0.040 sec/batch]\u001b[0m\n",
      "\u001b[37m\u001b[01m[2021-05-20 01:22:54,547] [Epoch: 4] [Batch: 80 of 157] [Loss = 2.0881] [Accuracy = 18.75] [0.041 sec/batch]\u001b[0m\n",
      "\u001b[37m\u001b[01m[2021-05-20 01:22:54,969] [Epoch: 4] [Batch: 90 of 157] [Loss = 2.0127] [Accuracy = 31.25] [0.039 sec/batch]\u001b[0m\n",
      "\u001b[37m\u001b[01m[2021-05-20 01:22:55,400] [Epoch: 4] [Batch: 100 of 157] [Loss = 2.0213] [Accuracy = 21.88] [0.040 sec/batch]\u001b[0m\n",
      "\u001b[37m\u001b[01m[2021-05-20 01:22:55,844] [Epoch: 4] [Batch: 110 of 157] [Loss = 2.0138] [Accuracy = 21.88] [0.043 sec/batch]\u001b[0m\n",
      "\u001b[37m\u001b[01m[2021-05-20 01:22:56,285] [Epoch: 4] [Batch: 120 of 157] [Loss = 2.0175] [Accuracy = 21.88] [0.039 sec/batch]\u001b[0m\n",
      "\u001b[37m\u001b[01m[2021-05-20 01:22:56,721] [Epoch: 4] [Batch: 130 of 157] [Loss = 2.0343] [Accuracy = 18.75] [0.042 sec/batch]\u001b[0m\n",
      "\u001b[37m\u001b[01m[2021-05-20 01:22:57,150] [Epoch: 4] [Batch: 140 of 157] [Loss = 2.0691] [Accuracy = 6.25] [0.040 sec/batch]\u001b[0m\n",
      "\u001b[37m\u001b[01m[2021-05-20 01:22:57,583] [Epoch: 4] [Batch: 150 of 157] [Loss = 2.1005] [Accuracy = 18.75] [0.045 sec/batch]\u001b[0m\n",
      "\u001b[37m\u001b[01m[2021-05-20 01:22:57,888] [Epoch: 5] [Batch: 0 of 157] [Loss = 2.0375] [Accuracy = 21.88] [0.047 sec/batch]\u001b[0m\n"
     ]
    },
    {
     "name": "stdout",
     "output_type": "stream",
     "text": [
      "Epoch 5\n",
      "-------------------------------\n"
     ]
    },
    {
     "name": "stderr",
     "output_type": "stream",
     "text": [
      "\u001b[37m\u001b[01m[2021-05-20 01:22:58,332] [Epoch: 5] [Batch: 10 of 157] [Loss = 2.0066] [Accuracy = 15.62] [0.043 sec/batch]\u001b[0m\n",
      "\u001b[37m\u001b[01m[2021-05-20 01:22:58,793] [Epoch: 5] [Batch: 20 of 157] [Loss = 2.0463] [Accuracy = 12.50] [0.044 sec/batch]\u001b[0m\n",
      "\u001b[37m\u001b[01m[2021-05-20 01:22:59,212] [Epoch: 5] [Batch: 30 of 157] [Loss = 1.9698] [Accuracy = 37.50] [0.040 sec/batch]\u001b[0m\n",
      "\u001b[37m\u001b[01m[2021-05-20 01:22:59,633] [Epoch: 5] [Batch: 40 of 157] [Loss = 2.1159] [Accuracy = 12.50] [0.042 sec/batch]\u001b[0m\n",
      "\u001b[37m\u001b[01m[2021-05-20 01:23:00,055] [Epoch: 5] [Batch: 50 of 157] [Loss = 1.9859] [Accuracy = 18.75] [0.042 sec/batch]\u001b[0m\n",
      "\u001b[37m\u001b[01m[2021-05-20 01:23:00,479] [Epoch: 5] [Batch: 60 of 157] [Loss = 2.0199] [Accuracy = 15.62] [0.043 sec/batch]\u001b[0m\n",
      "\u001b[37m\u001b[01m[2021-05-20 01:23:00,832] [Epoch: 5] [Batch: 70 of 157] [Loss = 2.0287] [Accuracy = 18.75] [0.035 sec/batch]\u001b[0m\n",
      "\u001b[37m\u001b[01m[2021-05-20 01:23:01,189] [Epoch: 5] [Batch: 80 of 157] [Loss = 2.0624] [Accuracy = 15.62] [0.034 sec/batch]\u001b[0m\n",
      "\u001b[37m\u001b[01m[2021-05-20 01:23:01,540] [Epoch: 5] [Batch: 90 of 157] [Loss = 2.0434] [Accuracy = 18.75] [0.034 sec/batch]\u001b[0m\n",
      "\u001b[37m\u001b[01m[2021-05-20 01:23:01,895] [Epoch: 5] [Batch: 100 of 157] [Loss = 2.0359] [Accuracy = 12.50] [0.035 sec/batch]\u001b[0m\n",
      "\u001b[37m\u001b[01m[2021-05-20 01:23:02,249] [Epoch: 5] [Batch: 110 of 157] [Loss = 1.9336] [Accuracy = 21.88] [0.034 sec/batch]\u001b[0m\n",
      "\u001b[37m\u001b[01m[2021-05-20 01:23:02,603] [Epoch: 5] [Batch: 120 of 157] [Loss = 2.0404] [Accuracy = 21.88] [0.036 sec/batch]\u001b[0m\n",
      "\u001b[37m\u001b[01m[2021-05-20 01:23:02,956] [Epoch: 5] [Batch: 130 of 157] [Loss = 2.0889] [Accuracy = 3.12] [0.034 sec/batch]\u001b[0m\n",
      "\u001b[37m\u001b[01m[2021-05-20 01:23:03,311] [Epoch: 5] [Batch: 140 of 157] [Loss = 2.0775] [Accuracy = 6.25] [0.034 sec/batch]\u001b[0m\n",
      "\u001b[37m\u001b[01m[2021-05-20 01:23:03,664] [Epoch: 5] [Batch: 150 of 157] [Loss = 2.0111] [Accuracy = 18.75] [0.035 sec/batch]\u001b[0m\n",
      "\u001b[37m\u001b[01m[2021-05-20 01:23:03,927] [Epoch: 6] [Batch: 0 of 157] [Loss = 1.9302] [Accuracy = 28.12] [0.043 sec/batch]\u001b[0m\n"
     ]
    },
    {
     "name": "stdout",
     "output_type": "stream",
     "text": [
      "Epoch 6\n",
      "-------------------------------\n"
     ]
    },
    {
     "name": "stderr",
     "output_type": "stream",
     "text": [
      "\u001b[37m\u001b[01m[2021-05-20 01:23:04,330] [Epoch: 6] [Batch: 10 of 157] [Loss = 2.0167] [Accuracy = 12.50] [0.038 sec/batch]\u001b[0m\n",
      "\u001b[37m\u001b[01m[2021-05-20 01:23:04,727] [Epoch: 6] [Batch: 20 of 157] [Loss = 2.0087] [Accuracy = 18.75] [0.039 sec/batch]\u001b[0m\n",
      "\u001b[37m\u001b[01m[2021-05-20 01:23:05,126] [Epoch: 6] [Batch: 30 of 157] [Loss = 2.0101] [Accuracy = 18.75] [0.040 sec/batch]\u001b[0m\n",
      "\u001b[37m\u001b[01m[2021-05-20 01:23:05,534] [Epoch: 6] [Batch: 40 of 157] [Loss = 2.0060] [Accuracy = 18.75] [0.041 sec/batch]\u001b[0m\n",
      "\u001b[37m\u001b[01m[2021-05-20 01:23:05,939] [Epoch: 6] [Batch: 50 of 157] [Loss = 2.0212] [Accuracy = 21.88] [0.040 sec/batch]\u001b[0m\n",
      "\u001b[37m\u001b[01m[2021-05-20 01:23:06,333] [Epoch: 6] [Batch: 60 of 157] [Loss = 2.0456] [Accuracy = 18.75] [0.037 sec/batch]\u001b[0m\n",
      "\u001b[37m\u001b[01m[2021-05-20 01:23:06,738] [Epoch: 6] [Batch: 70 of 157] [Loss = 2.0121] [Accuracy = 12.50] [0.039 sec/batch]\u001b[0m\n",
      "\u001b[37m\u001b[01m[2021-05-20 01:23:07,134] [Epoch: 6] [Batch: 80 of 157] [Loss = 2.0225] [Accuracy = 18.75] [0.040 sec/batch]\u001b[0m\n",
      "\u001b[37m\u001b[01m[2021-05-20 01:23:07,554] [Epoch: 6] [Batch: 90 of 157] [Loss = 2.0440] [Accuracy = 6.25] [0.044 sec/batch]\u001b[0m\n",
      "\u001b[37m\u001b[01m[2021-05-20 01:23:07,959] [Epoch: 6] [Batch: 100 of 157] [Loss = 1.9799] [Accuracy = 21.88] [0.042 sec/batch]\u001b[0m\n",
      "\u001b[37m\u001b[01m[2021-05-20 01:23:08,387] [Epoch: 6] [Batch: 110 of 157] [Loss = 1.9984] [Accuracy = 25.00] [0.044 sec/batch]\u001b[0m\n",
      "\u001b[37m\u001b[01m[2021-05-20 01:23:08,817] [Epoch: 6] [Batch: 120 of 157] [Loss = 1.9469] [Accuracy = 21.88] [0.048 sec/batch]\u001b[0m\n",
      "\u001b[37m\u001b[01m[2021-05-20 01:23:09,254] [Epoch: 6] [Batch: 130 of 157] [Loss = 2.0448] [Accuracy = 15.62] [0.040 sec/batch]\u001b[0m\n",
      "\u001b[37m\u001b[01m[2021-05-20 01:23:09,689] [Epoch: 6] [Batch: 140 of 157] [Loss = 2.0362] [Accuracy = 15.62] [0.043 sec/batch]\u001b[0m\n",
      "\u001b[37m\u001b[01m[2021-05-20 01:23:10,116] [Epoch: 6] [Batch: 150 of 157] [Loss = 2.0050] [Accuracy = 9.38] [0.043 sec/batch]\u001b[0m\n",
      "\u001b[37m\u001b[01m[2021-05-20 01:23:10,424] [Epoch: 7] [Batch: 0 of 157] [Loss = 2.0471] [Accuracy = 9.38] [0.044 sec/batch]\u001b[0m\n"
     ]
    },
    {
     "name": "stdout",
     "output_type": "stream",
     "text": [
      "Epoch 7\n",
      "-------------------------------\n"
     ]
    },
    {
     "name": "stderr",
     "output_type": "stream",
     "text": [
      "\u001b[37m\u001b[01m[2021-05-20 01:23:10,862] [Epoch: 7] [Batch: 10 of 157] [Loss = 2.0187] [Accuracy = 21.88] [0.044 sec/batch]\u001b[0m\n",
      "\u001b[37m\u001b[01m[2021-05-20 01:23:11,276] [Epoch: 7] [Batch: 20 of 157] [Loss = 1.9266] [Accuracy = 28.12] [0.043 sec/batch]\u001b[0m\n",
      "\u001b[37m\u001b[01m[2021-05-20 01:23:11,690] [Epoch: 7] [Batch: 30 of 157] [Loss = 2.0404] [Accuracy = 15.62] [0.043 sec/batch]\u001b[0m\n",
      "\u001b[37m\u001b[01m[2021-05-20 01:23:12,110] [Epoch: 7] [Batch: 40 of 157] [Loss = 1.9465] [Accuracy = 21.88] [0.039 sec/batch]\u001b[0m\n",
      "\u001b[37m\u001b[01m[2021-05-20 01:23:12,534] [Epoch: 7] [Batch: 50 of 157] [Loss = 2.0178] [Accuracy = 9.38] [0.039 sec/batch]\u001b[0m\n",
      "\u001b[37m\u001b[01m[2021-05-20 01:23:12,952] [Epoch: 7] [Batch: 60 of 157] [Loss = 1.9969] [Accuracy = 28.12] [0.039 sec/batch]\u001b[0m\n",
      "\u001b[37m\u001b[01m[2021-05-20 01:23:13,371] [Epoch: 7] [Batch: 70 of 157] [Loss = 2.0109] [Accuracy = 15.62] [0.043 sec/batch]\u001b[0m\n",
      "\u001b[37m\u001b[01m[2021-05-20 01:23:13,786] [Epoch: 7] [Batch: 80 of 157] [Loss = 1.9980] [Accuracy = 15.62] [0.044 sec/batch]\u001b[0m\n",
      "\u001b[37m\u001b[01m[2021-05-20 01:23:14,196] [Epoch: 7] [Batch: 90 of 157] [Loss = 2.1841] [Accuracy = 3.12] [0.037 sec/batch]\u001b[0m\n",
      "\u001b[37m\u001b[01m[2021-05-20 01:23:14,609] [Epoch: 7] [Batch: 100 of 157] [Loss = 1.9575] [Accuracy = 21.88] [0.036 sec/batch]\u001b[0m\n",
      "\u001b[37m\u001b[01m[2021-05-20 01:23:15,024] [Epoch: 7] [Batch: 110 of 157] [Loss = 2.0372] [Accuracy = 15.62] [0.043 sec/batch]\u001b[0m\n",
      "\u001b[37m\u001b[01m[2021-05-20 01:23:15,431] [Epoch: 7] [Batch: 120 of 157] [Loss = 2.0474] [Accuracy = 12.50] [0.039 sec/batch]\u001b[0m\n",
      "\u001b[37m\u001b[01m[2021-05-20 01:23:15,858] [Epoch: 7] [Batch: 130 of 157] [Loss = 1.9881] [Accuracy = 18.75] [0.040 sec/batch]\u001b[0m\n",
      "\u001b[37m\u001b[01m[2021-05-20 01:23:16,283] [Epoch: 7] [Batch: 140 of 157] [Loss = 2.0734] [Accuracy = 6.25] [0.044 sec/batch]\u001b[0m\n",
      "\u001b[37m\u001b[01m[2021-05-20 01:23:16,706] [Epoch: 7] [Batch: 150 of 157] [Loss = 2.0415] [Accuracy = 15.62] [0.042 sec/batch]\u001b[0m\n",
      "\u001b[37m\u001b[01m[2021-05-20 01:23:17,000] [Epoch: 8] [Batch: 0 of 157] [Loss = 2.0011] [Accuracy = 15.62] [0.043 sec/batch]\u001b[0m\n"
     ]
    },
    {
     "name": "stdout",
     "output_type": "stream",
     "text": [
      "Epoch 8\n",
      "-------------------------------\n"
     ]
    },
    {
     "name": "stderr",
     "output_type": "stream",
     "text": [
      "\u001b[37m\u001b[01m[2021-05-20 01:23:17,423] [Epoch: 8] [Batch: 10 of 157] [Loss = 2.0733] [Accuracy = 12.50] [0.041 sec/batch]\u001b[0m\n",
      "\u001b[37m\u001b[01m[2021-05-20 01:23:17,840] [Epoch: 8] [Batch: 20 of 157] [Loss = 1.9599] [Accuracy = 12.50] [0.039 sec/batch]\u001b[0m\n",
      "\u001b[37m\u001b[01m[2021-05-20 01:23:18,253] [Epoch: 8] [Batch: 30 of 157] [Loss = 2.0597] [Accuracy = 15.62] [0.042 sec/batch]\u001b[0m\n",
      "\u001b[37m\u001b[01m[2021-05-20 01:23:18,677] [Epoch: 8] [Batch: 40 of 157] [Loss = 1.9868] [Accuracy = 21.88] [0.040 sec/batch]\u001b[0m\n",
      "\u001b[37m\u001b[01m[2021-05-20 01:23:19,109] [Epoch: 8] [Batch: 50 of 157] [Loss = 1.8892] [Accuracy = 25.00] [0.044 sec/batch]\u001b[0m\n",
      "\u001b[37m\u001b[01m[2021-05-20 01:23:19,522] [Epoch: 8] [Batch: 60 of 157] [Loss = 1.9977] [Accuracy = 31.25] [0.042 sec/batch]\u001b[0m\n",
      "\u001b[37m\u001b[01m[2021-05-20 01:23:19,938] [Epoch: 8] [Batch: 70 of 157] [Loss = 2.1570] [Accuracy = 18.75] [0.042 sec/batch]\u001b[0m\n",
      "\u001b[37m\u001b[01m[2021-05-20 01:23:20,370] [Epoch: 8] [Batch: 80 of 157] [Loss = 1.9986] [Accuracy = 21.88] [0.042 sec/batch]\u001b[0m\n",
      "\u001b[37m\u001b[01m[2021-05-20 01:23:20,794] [Epoch: 8] [Batch: 90 of 157] [Loss = 1.9363] [Accuracy = 25.00] [0.042 sec/batch]\u001b[0m\n",
      "\u001b[37m\u001b[01m[2021-05-20 01:23:21,218] [Epoch: 8] [Batch: 100 of 157] [Loss = 1.9624] [Accuracy = 25.00] [0.041 sec/batch]\u001b[0m\n",
      "\u001b[37m\u001b[01m[2021-05-20 01:23:21,636] [Epoch: 8] [Batch: 110 of 157] [Loss = 1.9039] [Accuracy = 25.00] [0.044 sec/batch]\u001b[0m\n",
      "\u001b[37m\u001b[01m[2021-05-20 01:23:22,047] [Epoch: 8] [Batch: 120 of 157] [Loss = 2.0813] [Accuracy = 9.38] [0.041 sec/batch]\u001b[0m\n",
      "\u001b[37m\u001b[01m[2021-05-20 01:23:22,456] [Epoch: 8] [Batch: 130 of 157] [Loss = 2.0964] [Accuracy = 18.75] [0.040 sec/batch]\u001b[0m\n",
      "\u001b[37m\u001b[01m[2021-05-20 01:23:22,896] [Epoch: 8] [Batch: 140 of 157] [Loss = 1.9719] [Accuracy = 18.75] [0.044 sec/batch]\u001b[0m\n",
      "\u001b[37m\u001b[01m[2021-05-20 01:23:23,312] [Epoch: 8] [Batch: 150 of 157] [Loss = 1.9228] [Accuracy = 21.88] [0.044 sec/batch]\u001b[0m\n",
      "\u001b[37m\u001b[01m[2021-05-20 01:23:23,608] [Epoch: 9] [Batch: 0 of 157] [Loss = 1.9904] [Accuracy = 12.50] [0.038 sec/batch]\u001b[0m\n"
     ]
    },
    {
     "name": "stdout",
     "output_type": "stream",
     "text": [
      "Epoch 9\n",
      "-------------------------------\n"
     ]
    },
    {
     "name": "stderr",
     "output_type": "stream",
     "text": [
      "\u001b[37m\u001b[01m[2021-05-20 01:23:24,041] [Epoch: 9] [Batch: 10 of 157] [Loss = 1.8744] [Accuracy = 21.88] [0.043 sec/batch]\u001b[0m\n",
      "\u001b[37m\u001b[01m[2021-05-20 01:23:24,472] [Epoch: 9] [Batch: 20 of 157] [Loss = 1.7908] [Accuracy = 25.00] [0.041 sec/batch]\u001b[0m\n",
      "\u001b[37m\u001b[01m[2021-05-20 01:23:24,898] [Epoch: 9] [Batch: 30 of 157] [Loss = 1.9873] [Accuracy = 25.00] [0.040 sec/batch]\u001b[0m\n",
      "\u001b[37m\u001b[01m[2021-05-20 01:23:25,292] [Epoch: 9] [Batch: 40 of 157] [Loss = 1.9203] [Accuracy = 28.12] [0.037 sec/batch]\u001b[0m\n",
      "\u001b[37m\u001b[01m[2021-05-20 01:23:25,694] [Epoch: 9] [Batch: 50 of 157] [Loss = 1.8356] [Accuracy = 25.00] [0.041 sec/batch]\u001b[0m\n",
      "\u001b[37m\u001b[01m[2021-05-20 01:23:26,108] [Epoch: 9] [Batch: 60 of 157] [Loss = 1.9098] [Accuracy = 21.88] [0.040 sec/batch]\u001b[0m\n",
      "\u001b[37m\u001b[01m[2021-05-20 01:23:26,528] [Epoch: 9] [Batch: 70 of 157] [Loss = 1.9536] [Accuracy = 18.75] [0.039 sec/batch]\u001b[0m\n",
      "\u001b[37m\u001b[01m[2021-05-20 01:23:26,953] [Epoch: 9] [Batch: 80 of 157] [Loss = 2.0402] [Accuracy = 12.50] [0.041 sec/batch]\u001b[0m\n",
      "\u001b[37m\u001b[01m[2021-05-20 01:23:27,365] [Epoch: 9] [Batch: 90 of 157] [Loss = 1.9048] [Accuracy = 12.50] [0.041 sec/batch]\u001b[0m\n",
      "\u001b[37m\u001b[01m[2021-05-20 01:23:27,773] [Epoch: 9] [Batch: 100 of 157] [Loss = 2.0171] [Accuracy = 12.50] [0.039 sec/batch]\u001b[0m\n",
      "\u001b[37m\u001b[01m[2021-05-20 01:23:28,182] [Epoch: 9] [Batch: 110 of 157] [Loss = 1.9537] [Accuracy = 21.88] [0.039 sec/batch]\u001b[0m\n",
      "\u001b[37m\u001b[01m[2021-05-20 01:23:28,618] [Epoch: 9] [Batch: 120 of 157] [Loss = 1.9670] [Accuracy = 15.62] [0.040 sec/batch]\u001b[0m\n",
      "\u001b[37m\u001b[01m[2021-05-20 01:23:29,025] [Epoch: 9] [Batch: 130 of 157] [Loss = 1.9265] [Accuracy = 12.50] [0.040 sec/batch]\u001b[0m\n",
      "\u001b[37m\u001b[01m[2021-05-20 01:23:29,436] [Epoch: 9] [Batch: 140 of 157] [Loss = 1.9066] [Accuracy = 21.88] [0.041 sec/batch]\u001b[0m\n",
      "\u001b[37m\u001b[01m[2021-05-20 01:23:29,851] [Epoch: 9] [Batch: 150 of 157] [Loss = 1.9218] [Accuracy = 21.88] [0.039 sec/batch]\u001b[0m\n",
      "\u001b[37m\u001b[01m[2021-05-20 01:23:30,122] [Epoch: 10] [Batch: 0 of 157] [Loss = 1.8532] [Accuracy = 25.00] [0.037 sec/batch]\u001b[0m\n"
     ]
    },
    {
     "name": "stdout",
     "output_type": "stream",
     "text": [
      "Epoch 10\n",
      "-------------------------------\n"
     ]
    },
    {
     "name": "stderr",
     "output_type": "stream",
     "text": [
      "\u001b[37m\u001b[01m[2021-05-20 01:23:30,523] [Epoch: 10] [Batch: 10 of 157] [Loss = 1.8625] [Accuracy = 28.12] [0.040 sec/batch]\u001b[0m\n",
      "\u001b[37m\u001b[01m[2021-05-20 01:23:30,930] [Epoch: 10] [Batch: 20 of 157] [Loss = 1.8521] [Accuracy = 18.75] [0.037 sec/batch]\u001b[0m\n",
      "\u001b[37m\u001b[01m[2021-05-20 01:23:31,334] [Epoch: 10] [Batch: 30 of 157] [Loss = 1.9099] [Accuracy = 25.00] [0.041 sec/batch]\u001b[0m\n",
      "\u001b[37m\u001b[01m[2021-05-20 01:23:31,752] [Epoch: 10] [Batch: 40 of 157] [Loss = 1.8693] [Accuracy = 18.75] [0.040 sec/batch]\u001b[0m\n",
      "\u001b[37m\u001b[01m[2021-05-20 01:23:32,157] [Epoch: 10] [Batch: 50 of 157] [Loss = 1.9733] [Accuracy = 21.88] [0.041 sec/batch]\u001b[0m\n",
      "\u001b[37m\u001b[01m[2021-05-20 01:23:32,555] [Epoch: 10] [Batch: 60 of 157] [Loss = 1.9572] [Accuracy = 25.00] [0.039 sec/batch]\u001b[0m\n",
      "\u001b[37m\u001b[01m[2021-05-20 01:23:32,955] [Epoch: 10] [Batch: 70 of 157] [Loss = 2.0302] [Accuracy = 18.75] [0.038 sec/batch]\u001b[0m\n",
      "\u001b[37m\u001b[01m[2021-05-20 01:23:33,359] [Epoch: 10] [Batch: 80 of 157] [Loss = 1.9693] [Accuracy = 21.88] [0.040 sec/batch]\u001b[0m\n",
      "\u001b[37m\u001b[01m[2021-05-20 01:23:33,757] [Epoch: 10] [Batch: 90 of 157] [Loss = 1.9155] [Accuracy = 37.50] [0.036 sec/batch]\u001b[0m\n",
      "\u001b[37m\u001b[01m[2021-05-20 01:23:34,161] [Epoch: 10] [Batch: 100 of 157] [Loss = 1.9629] [Accuracy = 18.75] [0.036 sec/batch]\u001b[0m\n",
      "\u001b[37m\u001b[01m[2021-05-20 01:23:34,586] [Epoch: 10] [Batch: 110 of 157] [Loss = 1.9392] [Accuracy = 21.88] [0.039 sec/batch]\u001b[0m\n",
      "\u001b[37m\u001b[01m[2021-05-20 01:23:34,982] [Epoch: 10] [Batch: 120 of 157] [Loss = 1.8829] [Accuracy = 31.25] [0.039 sec/batch]\u001b[0m\n",
      "\u001b[37m\u001b[01m[2021-05-20 01:23:35,394] [Epoch: 10] [Batch: 130 of 157] [Loss = 1.9827] [Accuracy = 25.00] [0.039 sec/batch]\u001b[0m\n",
      "\u001b[37m\u001b[01m[2021-05-20 01:23:35,786] [Epoch: 10] [Batch: 140 of 157] [Loss = 1.9990] [Accuracy = 6.25] [0.040 sec/batch]\u001b[0m\n",
      "\u001b[37m\u001b[01m[2021-05-20 01:23:36,203] [Epoch: 10] [Batch: 150 of 157] [Loss = 1.9177] [Accuracy = 21.88] [0.040 sec/batch]\u001b[0m\n",
      "\u001b[37m\u001b[01m[2021-05-20 01:23:36,490] [Epoch: 11] [Batch: 0 of 157] [Loss = 1.8735] [Accuracy = 21.88] [0.037 sec/batch]\u001b[0m\n"
     ]
    },
    {
     "name": "stdout",
     "output_type": "stream",
     "text": [
      "Epoch 11\n",
      "-------------------------------\n"
     ]
    },
    {
     "name": "stderr",
     "output_type": "stream",
     "text": [
      "\u001b[37m\u001b[01m[2021-05-20 01:23:36,896] [Epoch: 11] [Batch: 10 of 157] [Loss = 2.0085] [Accuracy = 18.75] [0.040 sec/batch]\u001b[0m\n",
      "\u001b[37m\u001b[01m[2021-05-20 01:23:37,298] [Epoch: 11] [Batch: 20 of 157] [Loss = 1.8183] [Accuracy = 25.00] [0.038 sec/batch]\u001b[0m\n",
      "\u001b[37m\u001b[01m[2021-05-20 01:23:37,709] [Epoch: 11] [Batch: 30 of 157] [Loss = 1.9415] [Accuracy = 28.12] [0.041 sec/batch]\u001b[0m\n",
      "\u001b[37m\u001b[01m[2021-05-20 01:23:38,117] [Epoch: 11] [Batch: 40 of 157] [Loss = 2.0953] [Accuracy = 9.38] [0.041 sec/batch]\u001b[0m\n",
      "\u001b[37m\u001b[01m[2021-05-20 01:23:38,518] [Epoch: 11] [Batch: 50 of 157] [Loss = 1.8563] [Accuracy = 28.12] [0.040 sec/batch]\u001b[0m\n",
      "\u001b[37m\u001b[01m[2021-05-20 01:23:38,910] [Epoch: 11] [Batch: 60 of 157] [Loss = 1.9668] [Accuracy = 25.00] [0.038 sec/batch]\u001b[0m\n",
      "\u001b[37m\u001b[01m[2021-05-20 01:23:39,306] [Epoch: 11] [Batch: 70 of 157] [Loss = 1.8386] [Accuracy = 25.00] [0.042 sec/batch]\u001b[0m\n",
      "\u001b[37m\u001b[01m[2021-05-20 01:23:39,717] [Epoch: 11] [Batch: 80 of 157] [Loss = 1.9849] [Accuracy = 21.88] [0.041 sec/batch]\u001b[0m\n",
      "\u001b[37m\u001b[01m[2021-05-20 01:23:40,116] [Epoch: 11] [Batch: 90 of 157] [Loss = 1.9934] [Accuracy = 34.38] [0.040 sec/batch]\u001b[0m\n",
      "\u001b[37m\u001b[01m[2021-05-20 01:23:40,512] [Epoch: 11] [Batch: 100 of 157] [Loss = 1.8138] [Accuracy = 18.75] [0.036 sec/batch]\u001b[0m\n",
      "\u001b[37m\u001b[01m[2021-05-20 01:23:40,932] [Epoch: 11] [Batch: 110 of 157] [Loss = 1.8179] [Accuracy = 28.12] [0.038 sec/batch]\u001b[0m\n",
      "\u001b[37m\u001b[01m[2021-05-20 01:23:41,332] [Epoch: 11] [Batch: 120 of 157] [Loss = 1.9956] [Accuracy = 15.62] [0.039 sec/batch]\u001b[0m\n",
      "\u001b[37m\u001b[01m[2021-05-20 01:23:41,727] [Epoch: 11] [Batch: 130 of 157] [Loss = 1.8285] [Accuracy = 18.75] [0.040 sec/batch]\u001b[0m\n",
      "\u001b[37m\u001b[01m[2021-05-20 01:23:42,126] [Epoch: 11] [Batch: 140 of 157] [Loss = 1.8411] [Accuracy = 25.00] [0.040 sec/batch]\u001b[0m\n",
      "\u001b[37m\u001b[01m[2021-05-20 01:23:42,528] [Epoch: 11] [Batch: 150 of 157] [Loss = 1.9343] [Accuracy = 21.88] [0.041 sec/batch]\u001b[0m\n",
      "\u001b[37m\u001b[01m[2021-05-20 01:23:42,807] [Epoch: 12] [Batch: 0 of 157] [Loss = 1.7772] [Accuracy = 21.88] [0.033 sec/batch]\u001b[0m\n"
     ]
    },
    {
     "name": "stdout",
     "output_type": "stream",
     "text": [
      "Epoch 12\n",
      "-------------------------------\n"
     ]
    },
    {
     "name": "stderr",
     "output_type": "stream",
     "text": [
      "\u001b[37m\u001b[01m[2021-05-20 01:23:43,220] [Epoch: 12] [Batch: 10 of 157] [Loss = 1.8375] [Accuracy = 28.12] [0.041 sec/batch]\u001b[0m\n",
      "\u001b[37m\u001b[01m[2021-05-20 01:23:43,608] [Epoch: 12] [Batch: 20 of 157] [Loss = 1.8858] [Accuracy = 21.88] [0.034 sec/batch]\u001b[0m\n",
      "\u001b[37m\u001b[01m[2021-05-20 01:23:44,007] [Epoch: 12] [Batch: 30 of 157] [Loss = 1.7672] [Accuracy = 15.62] [0.040 sec/batch]\u001b[0m\n",
      "\u001b[37m\u001b[01m[2021-05-20 01:23:44,418] [Epoch: 12] [Batch: 40 of 157] [Loss = 1.8607] [Accuracy = 21.88] [0.043 sec/batch]\u001b[0m\n",
      "\u001b[37m\u001b[01m[2021-05-20 01:23:44,811] [Epoch: 12] [Batch: 50 of 157] [Loss = 1.9306] [Accuracy = 21.88] [0.036 sec/batch]\u001b[0m\n",
      "\u001b[37m\u001b[01m[2021-05-20 01:23:45,214] [Epoch: 12] [Batch: 60 of 157] [Loss = 1.6495] [Accuracy = 59.38] [0.038 sec/batch]\u001b[0m\n",
      "\u001b[37m\u001b[01m[2021-05-20 01:23:45,614] [Epoch: 12] [Batch: 70 of 157] [Loss = 1.6744] [Accuracy = 43.75] [0.038 sec/batch]\u001b[0m\n",
      "\u001b[37m\u001b[01m[2021-05-20 01:23:46,014] [Epoch: 12] [Batch: 80 of 157] [Loss = 2.0186] [Accuracy = 28.12] [0.038 sec/batch]\u001b[0m\n",
      "\u001b[37m\u001b[01m[2021-05-20 01:23:46,404] [Epoch: 12] [Batch: 90 of 157] [Loss = 2.0540] [Accuracy = 21.88] [0.034 sec/batch]\u001b[0m\n",
      "\u001b[37m\u001b[01m[2021-05-20 01:23:46,807] [Epoch: 12] [Batch: 100 of 157] [Loss = 2.0014] [Accuracy = 25.00] [0.040 sec/batch]\u001b[0m\n",
      "\u001b[37m\u001b[01m[2021-05-20 01:23:47,209] [Epoch: 12] [Batch: 110 of 157] [Loss = 1.8757] [Accuracy = 28.12] [0.041 sec/batch]\u001b[0m\n",
      "\u001b[37m\u001b[01m[2021-05-20 01:23:47,601] [Epoch: 12] [Batch: 120 of 157] [Loss = 1.9514] [Accuracy = 18.75] [0.040 sec/batch]\u001b[0m\n",
      "\u001b[37m\u001b[01m[2021-05-20 01:23:48,030] [Epoch: 12] [Batch: 130 of 157] [Loss = 1.8125] [Accuracy = 37.50] [0.045 sec/batch]\u001b[0m\n",
      "\u001b[37m\u001b[01m[2021-05-20 01:23:48,472] [Epoch: 12] [Batch: 140 of 157] [Loss = 1.8984] [Accuracy = 25.00] [0.044 sec/batch]\u001b[0m\n",
      "\u001b[37m\u001b[01m[2021-05-20 01:23:48,907] [Epoch: 12] [Batch: 150 of 157] [Loss = 1.7698] [Accuracy = 34.38] [0.043 sec/batch]\u001b[0m\n",
      "\u001b[37m\u001b[01m[2021-05-20 01:23:49,167] [Epoch: 13] [Batch: 0 of 157] [Loss = 1.9920] [Accuracy = 21.88] [0.040 sec/batch]\u001b[0m\n"
     ]
    },
    {
     "name": "stdout",
     "output_type": "stream",
     "text": [
      "Epoch 13\n",
      "-------------------------------\n"
     ]
    },
    {
     "name": "stderr",
     "output_type": "stream",
     "text": [
      "\u001b[37m\u001b[01m[2021-05-20 01:23:49,571] [Epoch: 13] [Batch: 10 of 157] [Loss = 1.7164] [Accuracy = 34.38] [0.041 sec/batch]\u001b[0m\n",
      "\u001b[37m\u001b[01m[2021-05-20 01:23:49,975] [Epoch: 13] [Batch: 20 of 157] [Loss = 1.7527] [Accuracy = 34.38] [0.038 sec/batch]\u001b[0m\n",
      "\u001b[37m\u001b[01m[2021-05-20 01:23:50,383] [Epoch: 13] [Batch: 30 of 157] [Loss = 1.7292] [Accuracy = 37.50] [0.039 sec/batch]\u001b[0m\n",
      "\u001b[37m\u001b[01m[2021-05-20 01:23:50,795] [Epoch: 13] [Batch: 40 of 157] [Loss = 1.8013] [Accuracy = 31.25] [0.042 sec/batch]\u001b[0m\n",
      "\u001b[37m\u001b[01m[2021-05-20 01:23:51,227] [Epoch: 13] [Batch: 50 of 157] [Loss = 1.9388] [Accuracy = 21.88] [0.042 sec/batch]\u001b[0m\n",
      "\u001b[37m\u001b[01m[2021-05-20 01:23:51,636] [Epoch: 13] [Batch: 60 of 157] [Loss = 1.9475] [Accuracy = 15.62] [0.043 sec/batch]\u001b[0m\n",
      "\u001b[37m\u001b[01m[2021-05-20 01:23:52,034] [Epoch: 13] [Batch: 70 of 157] [Loss = 1.8145] [Accuracy = 34.38] [0.042 sec/batch]\u001b[0m\n",
      "\u001b[37m\u001b[01m[2021-05-20 01:23:52,451] [Epoch: 13] [Batch: 80 of 157] [Loss = 1.8710] [Accuracy = 25.00] [0.041 sec/batch]\u001b[0m\n",
      "\u001b[37m\u001b[01m[2021-05-20 01:23:52,865] [Epoch: 13] [Batch: 90 of 157] [Loss = 1.7956] [Accuracy = 28.12] [0.039 sec/batch]\u001b[0m\n",
      "\u001b[37m\u001b[01m[2021-05-20 01:23:53,287] [Epoch: 13] [Batch: 100 of 157] [Loss = 1.6960] [Accuracy = 28.12] [0.039 sec/batch]\u001b[0m\n",
      "\u001b[37m\u001b[01m[2021-05-20 01:23:53,703] [Epoch: 13] [Batch: 110 of 157] [Loss = 1.8206] [Accuracy = 25.00] [0.041 sec/batch]\u001b[0m\n",
      "\u001b[37m\u001b[01m[2021-05-20 01:23:54,116] [Epoch: 13] [Batch: 120 of 157] [Loss = 1.7896] [Accuracy = 25.00] [0.039 sec/batch]\u001b[0m\n",
      "\u001b[37m\u001b[01m[2021-05-20 01:23:54,519] [Epoch: 13] [Batch: 130 of 157] [Loss = 1.8111] [Accuracy = 25.00] [0.038 sec/batch]\u001b[0m\n",
      "\u001b[37m\u001b[01m[2021-05-20 01:23:54,933] [Epoch: 13] [Batch: 140 of 157] [Loss = 1.6361] [Accuracy = 31.25] [0.041 sec/batch]\u001b[0m\n",
      "\u001b[37m\u001b[01m[2021-05-20 01:23:55,344] [Epoch: 13] [Batch: 150 of 157] [Loss = 1.6829] [Accuracy = 28.12] [0.041 sec/batch]\u001b[0m\n",
      "\u001b[37m\u001b[01m[2021-05-20 01:23:55,637] [Epoch: 14] [Batch: 0 of 157] [Loss = 1.7034] [Accuracy = 40.62] [0.041 sec/batch]\u001b[0m\n"
     ]
    },
    {
     "name": "stdout",
     "output_type": "stream",
     "text": [
      "Epoch 14\n",
      "-------------------------------\n"
     ]
    },
    {
     "name": "stderr",
     "output_type": "stream",
     "text": [
      "\u001b[37m\u001b[01m[2021-05-20 01:23:56,064] [Epoch: 14] [Batch: 10 of 157] [Loss = 1.6612] [Accuracy = 34.38] [0.039 sec/batch]\u001b[0m\n",
      "\u001b[37m\u001b[01m[2021-05-20 01:23:56,476] [Epoch: 14] [Batch: 20 of 157] [Loss = 1.6628] [Accuracy = 43.75] [0.043 sec/batch]\u001b[0m\n",
      "\u001b[37m\u001b[01m[2021-05-20 01:23:56,891] [Epoch: 14] [Batch: 30 of 157] [Loss = 1.7969] [Accuracy = 25.00] [0.043 sec/batch]\u001b[0m\n",
      "\u001b[37m\u001b[01m[2021-05-20 01:23:57,293] [Epoch: 14] [Batch: 40 of 157] [Loss = 1.8132] [Accuracy = 40.62] [0.040 sec/batch]\u001b[0m\n",
      "\u001b[37m\u001b[01m[2021-05-20 01:23:57,696] [Epoch: 14] [Batch: 50 of 157] [Loss = 1.4983] [Accuracy = 50.00] [0.043 sec/batch]\u001b[0m\n",
      "\u001b[37m\u001b[01m[2021-05-20 01:23:58,096] [Epoch: 14] [Batch: 60 of 157] [Loss = 1.8038] [Accuracy = 40.62] [0.038 sec/batch]\u001b[0m\n",
      "\u001b[37m\u001b[01m[2021-05-20 01:23:58,486] [Epoch: 14] [Batch: 70 of 157] [Loss = 1.5186] [Accuracy = 53.12] [0.039 sec/batch]\u001b[0m\n",
      "\u001b[37m\u001b[01m[2021-05-20 01:23:58,890] [Epoch: 14] [Batch: 80 of 157] [Loss = 1.8157] [Accuracy = 34.38] [0.042 sec/batch]\u001b[0m\n",
      "\u001b[37m\u001b[01m[2021-05-20 01:23:59,283] [Epoch: 14] [Batch: 90 of 157] [Loss = 1.6856] [Accuracy = 37.50] [0.040 sec/batch]\u001b[0m\n",
      "\u001b[37m\u001b[01m[2021-05-20 01:23:59,677] [Epoch: 14] [Batch: 100 of 157] [Loss = 1.6861] [Accuracy = 34.38] [0.040 sec/batch]\u001b[0m\n",
      "\u001b[37m\u001b[01m[2021-05-20 01:24:00,080] [Epoch: 14] [Batch: 110 of 157] [Loss = 1.9317] [Accuracy = 9.38] [0.035 sec/batch]\u001b[0m\n",
      "\u001b[37m\u001b[01m[2021-05-20 01:24:00,471] [Epoch: 14] [Batch: 120 of 157] [Loss = 1.8743] [Accuracy = 28.12] [0.044 sec/batch]\u001b[0m\n",
      "\u001b[37m\u001b[01m[2021-05-20 01:24:00,878] [Epoch: 14] [Batch: 130 of 157] [Loss = 1.6762] [Accuracy = 50.00] [0.039 sec/batch]\u001b[0m\n",
      "\u001b[37m\u001b[01m[2021-05-20 01:24:01,287] [Epoch: 14] [Batch: 140 of 157] [Loss = 1.7118] [Accuracy = 34.38] [0.043 sec/batch]\u001b[0m\n",
      "\u001b[37m\u001b[01m[2021-05-20 01:24:01,695] [Epoch: 14] [Batch: 150 of 157] [Loss = 1.7100] [Accuracy = 43.75] [0.040 sec/batch]\u001b[0m\n",
      "\u001b[37m\u001b[01m[2021-05-20 01:24:01,979] [Epoch: 15] [Batch: 0 of 157] [Loss = 1.4294] [Accuracy = 46.88] [0.041 sec/batch]\u001b[0m\n"
     ]
    },
    {
     "name": "stdout",
     "output_type": "stream",
     "text": [
      "Epoch 15\n",
      "-------------------------------\n"
     ]
    },
    {
     "name": "stderr",
     "output_type": "stream",
     "text": [
      "\u001b[37m\u001b[01m[2021-05-20 01:24:02,404] [Epoch: 15] [Batch: 10 of 157] [Loss = 1.5296] [Accuracy = 40.62] [0.043 sec/batch]\u001b[0m\n",
      "\u001b[37m\u001b[01m[2021-05-20 01:24:02,821] [Epoch: 15] [Batch: 20 of 157] [Loss = 1.3840] [Accuracy = 43.75] [0.044 sec/batch]\u001b[0m\n",
      "\u001b[37m\u001b[01m[2021-05-20 01:24:03,236] [Epoch: 15] [Batch: 30 of 157] [Loss = 1.5860] [Accuracy = 31.25] [0.040 sec/batch]\u001b[0m\n",
      "\u001b[37m\u001b[01m[2021-05-20 01:24:03,661] [Epoch: 15] [Batch: 40 of 157] [Loss = 1.4470] [Accuracy = 43.75] [0.040 sec/batch]\u001b[0m\n",
      "\u001b[37m\u001b[01m[2021-05-20 01:24:04,078] [Epoch: 15] [Batch: 50 of 157] [Loss = 1.3184] [Accuracy = 59.38] [0.035 sec/batch]\u001b[0m\n",
      "\u001b[37m\u001b[01m[2021-05-20 01:24:04,486] [Epoch: 15] [Batch: 60 of 157] [Loss = 1.6498] [Accuracy = 37.50] [0.044 sec/batch]\u001b[0m\n",
      "\u001b[37m\u001b[01m[2021-05-20 01:24:04,876] [Epoch: 15] [Batch: 70 of 157] [Loss = 1.6604] [Accuracy = 40.62] [0.034 sec/batch]\u001b[0m\n",
      "\u001b[37m\u001b[01m[2021-05-20 01:24:05,246] [Epoch: 15] [Batch: 80 of 157] [Loss = 1.5749] [Accuracy = 31.25] [0.038 sec/batch]\u001b[0m\n",
      "\u001b[37m\u001b[01m[2021-05-20 01:24:05,648] [Epoch: 15] [Batch: 90 of 157] [Loss = 1.6342] [Accuracy = 40.62] [0.042 sec/batch]\u001b[0m\n",
      "\u001b[37m\u001b[01m[2021-05-20 01:24:06,068] [Epoch: 15] [Batch: 100 of 157] [Loss = 1.3868] [Accuracy = 53.12] [0.040 sec/batch]\u001b[0m\n",
      "\u001b[37m\u001b[01m[2021-05-20 01:24:06,454] [Epoch: 15] [Batch: 110 of 157] [Loss = 1.7248] [Accuracy = 31.25] [0.039 sec/batch]\u001b[0m\n",
      "\u001b[37m\u001b[01m[2021-05-20 01:24:06,848] [Epoch: 15] [Batch: 120 of 157] [Loss = 1.5831] [Accuracy = 40.62] [0.035 sec/batch]\u001b[0m\n",
      "\u001b[37m\u001b[01m[2021-05-20 01:24:07,236] [Epoch: 15] [Batch: 130 of 157] [Loss = 1.5006] [Accuracy = 40.62] [0.040 sec/batch]\u001b[0m\n",
      "\u001b[37m\u001b[01m[2021-05-20 01:24:07,644] [Epoch: 15] [Batch: 140 of 157] [Loss = 1.5617] [Accuracy = 37.50] [0.043 sec/batch]\u001b[0m\n",
      "\u001b[37m\u001b[01m[2021-05-20 01:24:08,069] [Epoch: 15] [Batch: 150 of 157] [Loss = 1.5229] [Accuracy = 37.50] [0.039 sec/batch]\u001b[0m\n",
      "\u001b[37m\u001b[01m[2021-05-20 01:24:08,355] [Epoch: 16] [Batch: 0 of 157] [Loss = 1.4625] [Accuracy = 46.88] [0.039 sec/batch]\u001b[0m\n"
     ]
    },
    {
     "name": "stdout",
     "output_type": "stream",
     "text": [
      "Epoch 16\n",
      "-------------------------------\n"
     ]
    },
    {
     "name": "stderr",
     "output_type": "stream",
     "text": [
      "\u001b[37m\u001b[01m[2021-05-20 01:24:08,763] [Epoch: 16] [Batch: 10 of 157] [Loss = 1.3027] [Accuracy = 65.62] [0.036 sec/batch]\u001b[0m\n",
      "\u001b[37m\u001b[01m[2021-05-20 01:24:09,188] [Epoch: 16] [Batch: 20 of 157] [Loss = 1.2646] [Accuracy = 68.75] [0.042 sec/batch]\u001b[0m\n",
      "\u001b[37m\u001b[01m[2021-05-20 01:24:09,594] [Epoch: 16] [Batch: 30 of 157] [Loss = 1.7297] [Accuracy = 40.62] [0.038 sec/batch]\u001b[0m\n",
      "\u001b[37m\u001b[01m[2021-05-20 01:24:10,000] [Epoch: 16] [Batch: 40 of 157] [Loss = 1.2456] [Accuracy = 56.25] [0.039 sec/batch]\u001b[0m\n",
      "\u001b[37m\u001b[01m[2021-05-20 01:24:10,399] [Epoch: 16] [Batch: 50 of 157] [Loss = 1.4220] [Accuracy = 50.00] [0.039 sec/batch]\u001b[0m\n",
      "\u001b[37m\u001b[01m[2021-05-20 01:24:10,807] [Epoch: 16] [Batch: 60 of 157] [Loss = 1.4034] [Accuracy = 53.12] [0.042 sec/batch]\u001b[0m\n",
      "\u001b[37m\u001b[01m[2021-05-20 01:24:11,212] [Epoch: 16] [Batch: 70 of 157] [Loss = 1.4846] [Accuracy = 50.00] [0.040 sec/batch]\u001b[0m\n",
      "\u001b[37m\u001b[01m[2021-05-20 01:24:11,630] [Epoch: 16] [Batch: 80 of 157] [Loss = 1.2623] [Accuracy = 59.38] [0.041 sec/batch]\u001b[0m\n",
      "\u001b[37m\u001b[01m[2021-05-20 01:24:12,032] [Epoch: 16] [Batch: 90 of 157] [Loss = 1.4680] [Accuracy = 37.50] [0.040 sec/batch]\u001b[0m\n",
      "\u001b[37m\u001b[01m[2021-05-20 01:24:12,447] [Epoch: 16] [Batch: 100 of 157] [Loss = 1.1513] [Accuracy = 62.50] [0.041 sec/batch]\u001b[0m\n",
      "\u001b[37m\u001b[01m[2021-05-20 01:24:12,840] [Epoch: 16] [Batch: 110 of 157] [Loss = 1.1902] [Accuracy = 53.12] [0.034 sec/batch]\u001b[0m\n",
      "\u001b[37m\u001b[01m[2021-05-20 01:24:13,238] [Epoch: 16] [Batch: 120 of 157] [Loss = 1.3462] [Accuracy = 50.00] [0.038 sec/batch]\u001b[0m\n",
      "\u001b[37m\u001b[01m[2021-05-20 01:24:13,652] [Epoch: 16] [Batch: 130 of 157] [Loss = 1.3016] [Accuracy = 53.12] [0.043 sec/batch]\u001b[0m\n",
      "\u001b[37m\u001b[01m[2021-05-20 01:24:14,063] [Epoch: 16] [Batch: 140 of 157] [Loss = 1.3914] [Accuracy = 43.75] [0.039 sec/batch]\u001b[0m\n",
      "\u001b[37m\u001b[01m[2021-05-20 01:24:14,479] [Epoch: 16] [Batch: 150 of 157] [Loss = 1.3273] [Accuracy = 46.88] [0.043 sec/batch]\u001b[0m\n",
      "\u001b[37m\u001b[01m[2021-05-20 01:24:14,783] [Epoch: 17] [Batch: 0 of 157] [Loss = 1.2527] [Accuracy = 43.75] [0.038 sec/batch]\u001b[0m\n"
     ]
    },
    {
     "name": "stdout",
     "output_type": "stream",
     "text": [
      "Epoch 17\n",
      "-------------------------------\n"
     ]
    },
    {
     "name": "stderr",
     "output_type": "stream",
     "text": [
      "\u001b[37m\u001b[01m[2021-05-20 01:24:15,218] [Epoch: 17] [Batch: 10 of 157] [Loss = 0.9106] [Accuracy = 71.88] [0.042 sec/batch]\u001b[0m\n",
      "\u001b[37m\u001b[01m[2021-05-20 01:24:15,646] [Epoch: 17] [Batch: 20 of 157] [Loss = 0.9285] [Accuracy = 71.88] [0.043 sec/batch]\u001b[0m\n",
      "\u001b[37m\u001b[01m[2021-05-20 01:24:16,068] [Epoch: 17] [Batch: 30 of 157] [Loss = 0.8499] [Accuracy = 78.12] [0.039 sec/batch]\u001b[0m\n",
      "\u001b[37m\u001b[01m[2021-05-20 01:24:16,490] [Epoch: 17] [Batch: 40 of 157] [Loss = 1.3818] [Accuracy = 46.88] [0.043 sec/batch]\u001b[0m\n",
      "\u001b[37m\u001b[01m[2021-05-20 01:24:16,913] [Epoch: 17] [Batch: 50 of 157] [Loss = 1.1817] [Accuracy = 56.25] [0.044 sec/batch]\u001b[0m\n",
      "\u001b[37m\u001b[01m[2021-05-20 01:24:17,340] [Epoch: 17] [Batch: 60 of 157] [Loss = 1.0694] [Accuracy = 65.62] [0.041 sec/batch]\u001b[0m\n",
      "\u001b[37m\u001b[01m[2021-05-20 01:24:17,775] [Epoch: 17] [Batch: 70 of 157] [Loss = 1.1598] [Accuracy = 56.25] [0.039 sec/batch]\u001b[0m\n",
      "\u001b[37m\u001b[01m[2021-05-20 01:24:18,200] [Epoch: 17] [Batch: 80 of 157] [Loss = 1.0699] [Accuracy = 59.38] [0.042 sec/batch]\u001b[0m\n",
      "\u001b[37m\u001b[01m[2021-05-20 01:24:18,634] [Epoch: 17] [Batch: 90 of 157] [Loss = 1.1876] [Accuracy = 59.38] [0.049 sec/batch]\u001b[0m\n",
      "\u001b[37m\u001b[01m[2021-05-20 01:24:19,059] [Epoch: 17] [Batch: 100 of 157] [Loss = 0.9771] [Accuracy = 62.50] [0.038 sec/batch]\u001b[0m\n",
      "\u001b[37m\u001b[01m[2021-05-20 01:24:19,477] [Epoch: 17] [Batch: 110 of 157] [Loss = 1.2186] [Accuracy = 62.50] [0.039 sec/batch]\u001b[0m\n",
      "\u001b[37m\u001b[01m[2021-05-20 01:24:19,888] [Epoch: 17] [Batch: 120 of 157] [Loss = 0.9226] [Accuracy = 71.88] [0.039 sec/batch]\u001b[0m\n",
      "\u001b[37m\u001b[01m[2021-05-20 01:24:20,317] [Epoch: 17] [Batch: 130 of 157] [Loss = 1.0900] [Accuracy = 68.75] [0.045 sec/batch]\u001b[0m\n",
      "\u001b[37m\u001b[01m[2021-05-20 01:24:20,744] [Epoch: 17] [Batch: 140 of 157] [Loss = 1.1440] [Accuracy = 53.12] [0.039 sec/batch]\u001b[0m\n",
      "\u001b[37m\u001b[01m[2021-05-20 01:24:21,173] [Epoch: 17] [Batch: 150 of 157] [Loss = 0.9585] [Accuracy = 62.50] [0.039 sec/batch]\u001b[0m\n",
      "\u001b[37m\u001b[01m[2021-05-20 01:24:21,476] [Epoch: 18] [Batch: 0 of 157] [Loss = 1.0025] [Accuracy = 65.62] [0.044 sec/batch]\u001b[0m\n"
     ]
    },
    {
     "name": "stdout",
     "output_type": "stream",
     "text": [
      "Epoch 18\n",
      "-------------------------------\n"
     ]
    },
    {
     "name": "stderr",
     "output_type": "stream",
     "text": [
      "\u001b[37m\u001b[01m[2021-05-20 01:24:21,908] [Epoch: 18] [Batch: 10 of 157] [Loss = 0.8345] [Accuracy = 68.75] [0.040 sec/batch]\u001b[0m\n",
      "\u001b[37m\u001b[01m[2021-05-20 01:24:22,326] [Epoch: 18] [Batch: 20 of 157] [Loss = 0.6896] [Accuracy = 81.25] [0.042 sec/batch]\u001b[0m\n",
      "\u001b[37m\u001b[01m[2021-05-20 01:24:22,750] [Epoch: 18] [Batch: 30 of 157] [Loss = 0.6417] [Accuracy = 78.12] [0.040 sec/batch]\u001b[0m\n",
      "\u001b[37m\u001b[01m[2021-05-20 01:24:23,176] [Epoch: 18] [Batch: 40 of 157] [Loss = 0.6236] [Accuracy = 93.75] [0.040 sec/batch]\u001b[0m\n",
      "\u001b[37m\u001b[01m[2021-05-20 01:24:23,590] [Epoch: 18] [Batch: 50 of 157] [Loss = 0.6932] [Accuracy = 81.25] [0.038 sec/batch]\u001b[0m\n",
      "\u001b[37m\u001b[01m[2021-05-20 01:24:24,006] [Epoch: 18] [Batch: 60 of 157] [Loss = 0.6389] [Accuracy = 81.25] [0.038 sec/batch]\u001b[0m\n",
      "\u001b[37m\u001b[01m[2021-05-20 01:24:24,425] [Epoch: 18] [Batch: 70 of 157] [Loss = 0.7610] [Accuracy = 71.88] [0.043 sec/batch]\u001b[0m\n",
      "\u001b[37m\u001b[01m[2021-05-20 01:24:24,843] [Epoch: 18] [Batch: 80 of 157] [Loss = 0.6115] [Accuracy = 87.50] [0.040 sec/batch]\u001b[0m\n",
      "\u001b[37m\u001b[01m[2021-05-20 01:24:25,256] [Epoch: 18] [Batch: 90 of 157] [Loss = 0.4413] [Accuracy = 96.88] [0.040 sec/batch]\u001b[0m\n",
      "\u001b[37m\u001b[01m[2021-05-20 01:24:25,675] [Epoch: 18] [Batch: 100 of 157] [Loss = 0.9389] [Accuracy = 71.88] [0.039 sec/batch]\u001b[0m\n",
      "\u001b[37m\u001b[01m[2021-05-20 01:24:26,087] [Epoch: 18] [Batch: 110 of 157] [Loss = 0.6300] [Accuracy = 78.12] [0.040 sec/batch]\u001b[0m\n",
      "\u001b[37m\u001b[01m[2021-05-20 01:24:26,500] [Epoch: 18] [Batch: 120 of 157] [Loss = 0.6806] [Accuracy = 71.88] [0.040 sec/batch]\u001b[0m\n",
      "\u001b[37m\u001b[01m[2021-05-20 01:24:26,911] [Epoch: 18] [Batch: 130 of 157] [Loss = 0.9299] [Accuracy = 68.75] [0.040 sec/batch]\u001b[0m\n",
      "\u001b[37m\u001b[01m[2021-05-20 01:24:27,323] [Epoch: 18] [Batch: 140 of 157] [Loss = 0.5957] [Accuracy = 81.25] [0.040 sec/batch]\u001b[0m\n",
      "\u001b[37m\u001b[01m[2021-05-20 01:24:27,743] [Epoch: 18] [Batch: 150 of 157] [Loss = 0.4867] [Accuracy = 90.62] [0.041 sec/batch]\u001b[0m\n",
      "\u001b[37m\u001b[01m[2021-05-20 01:24:28,037] [Epoch: 19] [Batch: 0 of 157] [Loss = 0.5079] [Accuracy = 90.62] [0.044 sec/batch]\u001b[0m\n"
     ]
    },
    {
     "name": "stdout",
     "output_type": "stream",
     "text": [
      "Epoch 19\n",
      "-------------------------------\n"
     ]
    },
    {
     "name": "stderr",
     "output_type": "stream",
     "text": [
      "\u001b[37m\u001b[01m[2021-05-20 01:24:28,459] [Epoch: 19] [Batch: 10 of 157] [Loss = 0.2790] [Accuracy = 96.88] [0.040 sec/batch]\u001b[0m\n",
      "\u001b[37m\u001b[01m[2021-05-20 01:24:28,857] [Epoch: 19] [Batch: 20 of 157] [Loss = 0.4209] [Accuracy = 90.62] [0.033 sec/batch]\u001b[0m\n",
      "\u001b[37m\u001b[01m[2021-05-20 01:24:29,269] [Epoch: 19] [Batch: 30 of 157] [Loss = 0.4302] [Accuracy = 87.50] [0.043 sec/batch]\u001b[0m\n",
      "\u001b[37m\u001b[01m[2021-05-20 01:24:29,679] [Epoch: 19] [Batch: 40 of 157] [Loss = 0.4008] [Accuracy = 93.75] [0.039 sec/batch]\u001b[0m\n",
      "\u001b[37m\u001b[01m[2021-05-20 01:24:30,072] [Epoch: 19] [Batch: 50 of 157] [Loss = 0.3700] [Accuracy = 96.88] [0.034 sec/batch]\u001b[0m\n",
      "\u001b[37m\u001b[01m[2021-05-20 01:24:30,480] [Epoch: 19] [Batch: 60 of 157] [Loss = 0.3162] [Accuracy = 100.00] [0.040 sec/batch]\u001b[0m\n",
      "\u001b[37m\u001b[01m[2021-05-20 01:24:30,904] [Epoch: 19] [Batch: 70 of 157] [Loss = 0.4551] [Accuracy = 84.38] [0.041 sec/batch]\u001b[0m\n",
      "\u001b[37m\u001b[01m[2021-05-20 01:24:31,315] [Epoch: 19] [Batch: 80 of 157] [Loss = 0.3316] [Accuracy = 93.75] [0.040 sec/batch]\u001b[0m\n",
      "\u001b[37m\u001b[01m[2021-05-20 01:24:31,743] [Epoch: 19] [Batch: 90 of 157] [Loss = 0.3240] [Accuracy = 96.88] [0.040 sec/batch]\u001b[0m\n",
      "\u001b[37m\u001b[01m[2021-05-20 01:24:32,174] [Epoch: 19] [Batch: 100 of 157] [Loss = 0.4264] [Accuracy = 81.25] [0.044 sec/batch]\u001b[0m\n",
      "\u001b[37m\u001b[01m[2021-05-20 01:24:32,607] [Epoch: 19] [Batch: 110 of 157] [Loss = 0.3631] [Accuracy = 90.62] [0.043 sec/batch]\u001b[0m\n",
      "\u001b[37m\u001b[01m[2021-05-20 01:24:33,029] [Epoch: 19] [Batch: 120 of 157] [Loss = 0.4354] [Accuracy = 87.50] [0.043 sec/batch]\u001b[0m\n",
      "\u001b[37m\u001b[01m[2021-05-20 01:24:33,444] [Epoch: 19] [Batch: 130 of 157] [Loss = 0.3878] [Accuracy = 93.75] [0.040 sec/batch]\u001b[0m\n",
      "\u001b[37m\u001b[01m[2021-05-20 01:24:33,870] [Epoch: 19] [Batch: 140 of 157] [Loss = 0.3095] [Accuracy = 90.62] [0.038 sec/batch]\u001b[0m\n",
      "\u001b[37m\u001b[01m[2021-05-20 01:24:34,295] [Epoch: 19] [Batch: 150 of 157] [Loss = 0.4365] [Accuracy = 96.88] [0.039 sec/batch]\u001b[0m\n",
      "\u001b[37m\u001b[01m[2021-05-20 01:24:34,588] [Epoch: 20] [Batch: 0 of 157] [Loss = 0.2486] [Accuracy = 90.62] [0.041 sec/batch]\u001b[0m\n"
     ]
    },
    {
     "name": "stdout",
     "output_type": "stream",
     "text": [
      "Epoch 20\n",
      "-------------------------------\n"
     ]
    },
    {
     "name": "stderr",
     "output_type": "stream",
     "text": [
      "\u001b[37m\u001b[01m[2021-05-20 01:24:35,014] [Epoch: 20] [Batch: 10 of 157] [Loss = 0.2451] [Accuracy = 100.00] [0.043 sec/batch]\u001b[0m\n",
      "\u001b[37m\u001b[01m[2021-05-20 01:24:35,438] [Epoch: 20] [Batch: 20 of 157] [Loss = 0.1633] [Accuracy = 100.00] [0.040 sec/batch]\u001b[0m\n",
      "\u001b[37m\u001b[01m[2021-05-20 01:24:35,867] [Epoch: 20] [Batch: 30 of 157] [Loss = 0.2327] [Accuracy = 100.00] [0.043 sec/batch]\u001b[0m\n",
      "\u001b[37m\u001b[01m[2021-05-20 01:24:36,284] [Epoch: 20] [Batch: 40 of 157] [Loss = 0.2622] [Accuracy = 100.00] [0.041 sec/batch]\u001b[0m\n",
      "\u001b[37m\u001b[01m[2021-05-20 01:24:36,712] [Epoch: 20] [Batch: 50 of 157] [Loss = 0.2718] [Accuracy = 96.88] [0.039 sec/batch]\u001b[0m\n",
      "\u001b[37m\u001b[01m[2021-05-20 01:24:37,138] [Epoch: 20] [Batch: 60 of 157] [Loss = 0.2437] [Accuracy = 93.75] [0.041 sec/batch]\u001b[0m\n",
      "\u001b[37m\u001b[01m[2021-05-20 01:24:37,562] [Epoch: 20] [Batch: 70 of 157] [Loss = 0.1919] [Accuracy = 96.88] [0.039 sec/batch]\u001b[0m\n",
      "\u001b[37m\u001b[01m[2021-05-20 01:24:37,965] [Epoch: 20] [Batch: 80 of 157] [Loss = 0.1226] [Accuracy = 100.00] [0.038 sec/batch]\u001b[0m\n",
      "\u001b[37m\u001b[01m[2021-05-20 01:24:38,366] [Epoch: 20] [Batch: 90 of 157] [Loss = 0.1423] [Accuracy = 100.00] [0.039 sec/batch]\u001b[0m\n",
      "\u001b[37m\u001b[01m[2021-05-20 01:24:38,770] [Epoch: 20] [Batch: 100 of 157] [Loss = 0.1699] [Accuracy = 100.00] [0.041 sec/batch]\u001b[0m\n",
      "\u001b[37m\u001b[01m[2021-05-20 01:24:39,185] [Epoch: 20] [Batch: 110 of 157] [Loss = 0.2185] [Accuracy = 100.00] [0.043 sec/batch]\u001b[0m\n",
      "\u001b[37m\u001b[01m[2021-05-20 01:24:39,605] [Epoch: 20] [Batch: 120 of 157] [Loss = 0.1521] [Accuracy = 100.00] [0.041 sec/batch]\u001b[0m\n",
      "\u001b[37m\u001b[01m[2021-05-20 01:24:40,018] [Epoch: 20] [Batch: 130 of 157] [Loss = 0.1359] [Accuracy = 100.00] [0.044 sec/batch]\u001b[0m\n",
      "\u001b[37m\u001b[01m[2021-05-20 01:24:40,459] [Epoch: 20] [Batch: 140 of 157] [Loss = 0.1672] [Accuracy = 96.88] [0.043 sec/batch]\u001b[0m\n",
      "\u001b[37m\u001b[01m[2021-05-20 01:24:40,879] [Epoch: 20] [Batch: 150 of 157] [Loss = 0.3106] [Accuracy = 96.88] [0.038 sec/batch]\u001b[0m\n",
      "\u001b[37m\u001b[01m[2021-05-20 01:24:41,168] [Epoch: 21] [Batch: 0 of 157] [Loss = 0.0930] [Accuracy = 100.00] [0.038 sec/batch]\u001b[0m\n"
     ]
    },
    {
     "name": "stdout",
     "output_type": "stream",
     "text": [
      "Epoch 21\n",
      "-------------------------------\n"
     ]
    },
    {
     "name": "stderr",
     "output_type": "stream",
     "text": [
      "\u001b[37m\u001b[01m[2021-05-20 01:24:41,594] [Epoch: 21] [Batch: 10 of 157] [Loss = 0.0826] [Accuracy = 100.00] [0.041 sec/batch]\u001b[0m\n",
      "\u001b[37m\u001b[01m[2021-05-20 01:24:42,043] [Epoch: 21] [Batch: 20 of 157] [Loss = 0.0971] [Accuracy = 100.00] [0.045 sec/batch]\u001b[0m\n",
      "\u001b[37m\u001b[01m[2021-05-20 01:24:42,465] [Epoch: 21] [Batch: 30 of 157] [Loss = 0.0653] [Accuracy = 100.00] [0.039 sec/batch]\u001b[0m\n",
      "\u001b[37m\u001b[01m[2021-05-20 01:24:42,909] [Epoch: 21] [Batch: 40 of 157] [Loss = 0.0739] [Accuracy = 100.00] [0.043 sec/batch]\u001b[0m\n",
      "\u001b[37m\u001b[01m[2021-05-20 01:24:43,359] [Epoch: 21] [Batch: 50 of 157] [Loss = 0.0729] [Accuracy = 100.00] [0.046 sec/batch]\u001b[0m\n",
      "\u001b[37m\u001b[01m[2021-05-20 01:24:43,800] [Epoch: 21] [Batch: 60 of 157] [Loss = 0.0798] [Accuracy = 100.00] [0.043 sec/batch]\u001b[0m\n",
      "\u001b[37m\u001b[01m[2021-05-20 01:24:44,243] [Epoch: 21] [Batch: 70 of 157] [Loss = 0.1146] [Accuracy = 100.00] [0.045 sec/batch]\u001b[0m\n",
      "\u001b[37m\u001b[01m[2021-05-20 01:24:44,692] [Epoch: 21] [Batch: 80 of 157] [Loss = 0.0681] [Accuracy = 100.00] [0.046 sec/batch]\u001b[0m\n",
      "\u001b[37m\u001b[01m[2021-05-20 01:24:45,129] [Epoch: 21] [Batch: 90 of 157] [Loss = 0.0577] [Accuracy = 100.00] [0.044 sec/batch]\u001b[0m\n",
      "\u001b[37m\u001b[01m[2021-05-20 01:24:45,573] [Epoch: 21] [Batch: 100 of 157] [Loss = 0.0569] [Accuracy = 100.00] [0.044 sec/batch]\u001b[0m\n",
      "\u001b[37m\u001b[01m[2021-05-20 01:24:46,011] [Epoch: 21] [Batch: 110 of 157] [Loss = 0.0703] [Accuracy = 100.00] [0.046 sec/batch]\u001b[0m\n",
      "\u001b[37m\u001b[01m[2021-05-20 01:24:46,456] [Epoch: 21] [Batch: 120 of 157] [Loss = 0.0491] [Accuracy = 100.00] [0.046 sec/batch]\u001b[0m\n",
      "\u001b[37m\u001b[01m[2021-05-20 01:24:46,885] [Epoch: 21] [Batch: 130 of 157] [Loss = 0.0866] [Accuracy = 100.00] [0.039 sec/batch]\u001b[0m\n",
      "\u001b[37m\u001b[01m[2021-05-20 01:24:47,325] [Epoch: 21] [Batch: 140 of 157] [Loss = 0.0684] [Accuracy = 100.00] [0.045 sec/batch]\u001b[0m\n",
      "\u001b[37m\u001b[01m[2021-05-20 01:24:47,759] [Epoch: 21] [Batch: 150 of 157] [Loss = 0.0655] [Accuracy = 100.00] [0.043 sec/batch]\u001b[0m\n",
      "\u001b[37m\u001b[01m[2021-05-20 01:24:48,059] [Epoch: 22] [Batch: 0 of 157] [Loss = 0.0409] [Accuracy = 100.00] [0.039 sec/batch]\u001b[0m\n"
     ]
    },
    {
     "name": "stdout",
     "output_type": "stream",
     "text": [
      "Epoch 22\n",
      "-------------------------------\n"
     ]
    },
    {
     "name": "stderr",
     "output_type": "stream",
     "text": [
      "\u001b[37m\u001b[01m[2021-05-20 01:24:48,477] [Epoch: 22] [Batch: 10 of 157] [Loss = 0.0405] [Accuracy = 100.00] [0.037 sec/batch]\u001b[0m\n",
      "\u001b[37m\u001b[01m[2021-05-20 01:24:48,904] [Epoch: 22] [Batch: 20 of 157] [Loss = 0.0472] [Accuracy = 100.00] [0.041 sec/batch]\u001b[0m\n",
      "\u001b[37m\u001b[01m[2021-05-20 01:24:49,336] [Epoch: 22] [Batch: 30 of 157] [Loss = 0.0449] [Accuracy = 100.00] [0.040 sec/batch]\u001b[0m\n",
      "\u001b[37m\u001b[01m[2021-05-20 01:24:49,755] [Epoch: 22] [Batch: 40 of 157] [Loss = 0.0445] [Accuracy = 100.00] [0.040 sec/batch]\u001b[0m\n",
      "\u001b[37m\u001b[01m[2021-05-20 01:24:50,176] [Epoch: 22] [Batch: 50 of 157] [Loss = 0.0318] [Accuracy = 100.00] [0.045 sec/batch]\u001b[0m\n",
      "\u001b[37m\u001b[01m[2021-05-20 01:24:50,595] [Epoch: 22] [Batch: 60 of 157] [Loss = 0.0488] [Accuracy = 100.00] [0.044 sec/batch]\u001b[0m\n",
      "\u001b[37m\u001b[01m[2021-05-20 01:24:51,020] [Epoch: 22] [Batch: 70 of 157] [Loss = 0.0395] [Accuracy = 100.00] [0.041 sec/batch]\u001b[0m\n",
      "\u001b[37m\u001b[01m[2021-05-20 01:24:51,426] [Epoch: 22] [Batch: 80 of 157] [Loss = 0.0401] [Accuracy = 100.00] [0.036 sec/batch]\u001b[0m\n",
      "\u001b[37m\u001b[01m[2021-05-20 01:24:51,847] [Epoch: 22] [Batch: 90 of 157] [Loss = 0.0443] [Accuracy = 100.00] [0.042 sec/batch]\u001b[0m\n",
      "\u001b[37m\u001b[01m[2021-05-20 01:24:52,275] [Epoch: 22] [Batch: 100 of 157] [Loss = 0.0254] [Accuracy = 100.00] [0.042 sec/batch]\u001b[0m\n",
      "\u001b[37m\u001b[01m[2021-05-20 01:24:52,706] [Epoch: 22] [Batch: 110 of 157] [Loss = 0.0288] [Accuracy = 100.00] [0.038 sec/batch]\u001b[0m\n",
      "\u001b[37m\u001b[01m[2021-05-20 01:24:53,131] [Epoch: 22] [Batch: 120 of 157] [Loss = 0.0862] [Accuracy = 100.00] [0.045 sec/batch]\u001b[0m\n",
      "\u001b[37m\u001b[01m[2021-05-20 01:24:53,545] [Epoch: 22] [Batch: 130 of 157] [Loss = 0.0311] [Accuracy = 100.00] [0.040 sec/batch]\u001b[0m\n",
      "\u001b[37m\u001b[01m[2021-05-20 01:24:53,963] [Epoch: 22] [Batch: 140 of 157] [Loss = 0.0326] [Accuracy = 100.00] [0.038 sec/batch]\u001b[0m\n",
      "\u001b[37m\u001b[01m[2021-05-20 01:24:54,383] [Epoch: 22] [Batch: 150 of 157] [Loss = 0.0489] [Accuracy = 100.00] [0.039 sec/batch]\u001b[0m\n",
      "\u001b[37m\u001b[01m[2021-05-20 01:24:54,679] [Epoch: 23] [Batch: 0 of 157] [Loss = 0.0223] [Accuracy = 100.00] [0.038 sec/batch]\u001b[0m\n"
     ]
    },
    {
     "name": "stdout",
     "output_type": "stream",
     "text": [
      "Epoch 23\n",
      "-------------------------------\n"
     ]
    },
    {
     "name": "stderr",
     "output_type": "stream",
     "text": [
      "\u001b[37m\u001b[01m[2021-05-20 01:24:55,096] [Epoch: 23] [Batch: 10 of 157] [Loss = 0.0238] [Accuracy = 100.00] [0.042 sec/batch]\u001b[0m\n",
      "\u001b[37m\u001b[01m[2021-05-20 01:24:55,512] [Epoch: 23] [Batch: 20 of 157] [Loss = 0.0280] [Accuracy = 100.00] [0.039 sec/batch]\u001b[0m\n",
      "\u001b[37m\u001b[01m[2021-05-20 01:24:55,948] [Epoch: 23] [Batch: 30 of 157] [Loss = 0.0282] [Accuracy = 100.00] [0.043 sec/batch]\u001b[0m\n",
      "\u001b[37m\u001b[01m[2021-05-20 01:24:56,375] [Epoch: 23] [Batch: 40 of 157] [Loss = 0.0180] [Accuracy = 100.00] [0.041 sec/batch]\u001b[0m\n",
      "\u001b[37m\u001b[01m[2021-05-20 01:24:56,803] [Epoch: 23] [Batch: 50 of 157] [Loss = 0.0224] [Accuracy = 100.00] [0.044 sec/batch]\u001b[0m\n",
      "\u001b[37m\u001b[01m[2021-05-20 01:24:57,221] [Epoch: 23] [Batch: 60 of 157] [Loss = 0.0258] [Accuracy = 100.00] [0.039 sec/batch]\u001b[0m\n",
      "\u001b[37m\u001b[01m[2021-05-20 01:24:57,639] [Epoch: 23] [Batch: 70 of 157] [Loss = 0.0204] [Accuracy = 100.00] [0.041 sec/batch]\u001b[0m\n",
      "\u001b[37m\u001b[01m[2021-05-20 01:24:58,061] [Epoch: 23] [Batch: 80 of 157] [Loss = 0.0152] [Accuracy = 100.00] [0.042 sec/batch]\u001b[0m\n",
      "\u001b[37m\u001b[01m[2021-05-20 01:24:58,465] [Epoch: 23] [Batch: 90 of 157] [Loss = 0.0241] [Accuracy = 100.00] [0.039 sec/batch]\u001b[0m\n",
      "\u001b[37m\u001b[01m[2021-05-20 01:24:58,911] [Epoch: 23] [Batch: 100 of 157] [Loss = 0.0275] [Accuracy = 100.00] [0.046 sec/batch]\u001b[0m\n",
      "\u001b[37m\u001b[01m[2021-05-20 01:24:59,358] [Epoch: 23] [Batch: 110 of 157] [Loss = 0.0214] [Accuracy = 100.00] [0.041 sec/batch]\u001b[0m\n",
      "\u001b[37m\u001b[01m[2021-05-20 01:24:59,784] [Epoch: 23] [Batch: 120 of 157] [Loss = 0.0230] [Accuracy = 100.00] [0.042 sec/batch]\u001b[0m\n",
      "\u001b[37m\u001b[01m[2021-05-20 01:25:00,203] [Epoch: 23] [Batch: 130 of 157] [Loss = 0.0419] [Accuracy = 100.00] [0.046 sec/batch]\u001b[0m\n",
      "\u001b[37m\u001b[01m[2021-05-20 01:25:00,639] [Epoch: 23] [Batch: 140 of 157] [Loss = 0.0294] [Accuracy = 100.00] [0.042 sec/batch]\u001b[0m\n",
      "\u001b[37m\u001b[01m[2021-05-20 01:25:01,076] [Epoch: 23] [Batch: 150 of 157] [Loss = 0.0250] [Accuracy = 100.00] [0.044 sec/batch]\u001b[0m\n",
      "\u001b[37m\u001b[01m[2021-05-20 01:25:01,382] [Epoch: 24] [Batch: 0 of 157] [Loss = 0.0207] [Accuracy = 100.00] [0.037 sec/batch]\u001b[0m\n"
     ]
    },
    {
     "name": "stdout",
     "output_type": "stream",
     "text": [
      "Epoch 24\n",
      "-------------------------------\n"
     ]
    },
    {
     "name": "stderr",
     "output_type": "stream",
     "text": [
      "\u001b[37m\u001b[01m[2021-05-20 01:25:01,808] [Epoch: 24] [Batch: 10 of 157] [Loss = 0.0199] [Accuracy = 100.00] [0.042 sec/batch]\u001b[0m\n",
      "\u001b[37m\u001b[01m[2021-05-20 01:25:02,233] [Epoch: 24] [Batch: 20 of 157] [Loss = 0.0163] [Accuracy = 100.00] [0.039 sec/batch]\u001b[0m\n",
      "\u001b[37m\u001b[01m[2021-05-20 01:25:02,673] [Epoch: 24] [Batch: 30 of 157] [Loss = 0.0171] [Accuracy = 100.00] [0.044 sec/batch]\u001b[0m\n",
      "\u001b[37m\u001b[01m[2021-05-20 01:25:03,110] [Epoch: 24] [Batch: 40 of 157] [Loss = 0.0189] [Accuracy = 100.00] [0.042 sec/batch]\u001b[0m\n",
      "\u001b[37m\u001b[01m[2021-05-20 01:25:03,553] [Epoch: 24] [Batch: 50 of 157] [Loss = 0.0239] [Accuracy = 100.00] [0.041 sec/batch]\u001b[0m\n",
      "\u001b[37m\u001b[01m[2021-05-20 01:25:03,964] [Epoch: 24] [Batch: 60 of 157] [Loss = 0.0159] [Accuracy = 100.00] [0.042 sec/batch]\u001b[0m\n",
      "\u001b[37m\u001b[01m[2021-05-20 01:25:04,396] [Epoch: 24] [Batch: 70 of 157] [Loss = 0.0189] [Accuracy = 100.00] [0.044 sec/batch]\u001b[0m\n",
      "\u001b[37m\u001b[01m[2021-05-20 01:25:04,831] [Epoch: 24] [Batch: 80 of 157] [Loss = 0.0162] [Accuracy = 100.00] [0.045 sec/batch]\u001b[0m\n",
      "\u001b[37m\u001b[01m[2021-05-20 01:25:05,267] [Epoch: 24] [Batch: 90 of 157] [Loss = 0.0214] [Accuracy = 100.00] [0.045 sec/batch]\u001b[0m\n",
      "\u001b[37m\u001b[01m[2021-05-20 01:25:05,706] [Epoch: 24] [Batch: 100 of 157] [Loss = 0.0175] [Accuracy = 100.00] [0.041 sec/batch]\u001b[0m\n",
      "\u001b[37m\u001b[01m[2021-05-20 01:25:06,135] [Epoch: 24] [Batch: 110 of 157] [Loss = 0.0152] [Accuracy = 100.00] [0.040 sec/batch]\u001b[0m\n",
      "\u001b[37m\u001b[01m[2021-05-20 01:25:06,590] [Epoch: 24] [Batch: 120 of 157] [Loss = 0.0111] [Accuracy = 100.00] [0.044 sec/batch]\u001b[0m\n",
      "\u001b[37m\u001b[01m[2021-05-20 01:25:07,028] [Epoch: 24] [Batch: 130 of 157] [Loss = 0.0141] [Accuracy = 100.00] [0.038 sec/batch]\u001b[0m\n",
      "\u001b[37m\u001b[01m[2021-05-20 01:25:07,447] [Epoch: 24] [Batch: 140 of 157] [Loss = 0.0158] [Accuracy = 100.00] [0.038 sec/batch]\u001b[0m\n",
      "\u001b[37m\u001b[01m[2021-05-20 01:25:07,860] [Epoch: 24] [Batch: 150 of 157] [Loss = 0.0190] [Accuracy = 100.00] [0.041 sec/batch]\u001b[0m\n",
      "\u001b[37m\u001b[01m[2021-05-20 01:25:08,146] [Epoch: 25] [Batch: 0 of 157] [Loss = 0.0130] [Accuracy = 100.00] [0.041 sec/batch]\u001b[0m\n"
     ]
    },
    {
     "name": "stdout",
     "output_type": "stream",
     "text": [
      "Epoch 25\n",
      "-------------------------------\n"
     ]
    },
    {
     "name": "stderr",
     "output_type": "stream",
     "text": [
      "\u001b[37m\u001b[01m[2021-05-20 01:25:08,567] [Epoch: 25] [Batch: 10 of 157] [Loss = 0.0115] [Accuracy = 100.00] [0.043 sec/batch]\u001b[0m\n",
      "\u001b[37m\u001b[01m[2021-05-20 01:25:09,005] [Epoch: 25] [Batch: 20 of 157] [Loss = 0.0095] [Accuracy = 100.00] [0.041 sec/batch]\u001b[0m\n",
      "\u001b[37m\u001b[01m[2021-05-20 01:25:09,420] [Epoch: 25] [Batch: 30 of 157] [Loss = 0.0125] [Accuracy = 100.00] [0.040 sec/batch]\u001b[0m\n",
      "\u001b[37m\u001b[01m[2021-05-20 01:25:09,829] [Epoch: 25] [Batch: 40 of 157] [Loss = 0.0092] [Accuracy = 100.00] [0.038 sec/batch]\u001b[0m\n",
      "\u001b[37m\u001b[01m[2021-05-20 01:25:10,245] [Epoch: 25] [Batch: 50 of 157] [Loss = 0.0122] [Accuracy = 100.00] [0.044 sec/batch]\u001b[0m\n",
      "\u001b[37m\u001b[01m[2021-05-20 01:25:10,655] [Epoch: 25] [Batch: 60 of 157] [Loss = 0.0147] [Accuracy = 100.00] [0.046 sec/batch]\u001b[0m\n",
      "\u001b[37m\u001b[01m[2021-05-20 01:25:11,077] [Epoch: 25] [Batch: 70 of 157] [Loss = 0.0129] [Accuracy = 100.00] [0.045 sec/batch]\u001b[0m\n",
      "\u001b[37m\u001b[01m[2021-05-20 01:25:11,517] [Epoch: 25] [Batch: 80 of 157] [Loss = 0.0120] [Accuracy = 100.00] [0.045 sec/batch]\u001b[0m\n",
      "\u001b[37m\u001b[01m[2021-05-20 01:25:11,955] [Epoch: 25] [Batch: 90 of 157] [Loss = 0.0147] [Accuracy = 100.00] [0.047 sec/batch]\u001b[0m\n",
      "\u001b[37m\u001b[01m[2021-05-20 01:25:12,400] [Epoch: 25] [Batch: 100 of 157] [Loss = 0.0121] [Accuracy = 100.00] [0.045 sec/batch]\u001b[0m\n",
      "\u001b[37m\u001b[01m[2021-05-20 01:25:12,832] [Epoch: 25] [Batch: 110 of 157] [Loss = 0.0139] [Accuracy = 100.00] [0.046 sec/batch]\u001b[0m\n",
      "\u001b[37m\u001b[01m[2021-05-20 01:25:13,259] [Epoch: 25] [Batch: 120 of 157] [Loss = 0.0105] [Accuracy = 100.00] [0.042 sec/batch]\u001b[0m\n",
      "\u001b[37m\u001b[01m[2021-05-20 01:25:13,696] [Epoch: 25] [Batch: 130 of 157] [Loss = 0.0132] [Accuracy = 100.00] [0.040 sec/batch]\u001b[0m\n",
      "\u001b[37m\u001b[01m[2021-05-20 01:25:14,109] [Epoch: 25] [Batch: 140 of 157] [Loss = 0.0106] [Accuracy = 100.00] [0.037 sec/batch]\u001b[0m\n",
      "\u001b[37m\u001b[01m[2021-05-20 01:25:14,524] [Epoch: 25] [Batch: 150 of 157] [Loss = 0.0143] [Accuracy = 100.00] [0.037 sec/batch]\u001b[0m\n",
      "\u001b[37m\u001b[01m[2021-05-20 01:25:14,829] [Epoch: 26] [Batch: 0 of 157] [Loss = 0.0108] [Accuracy = 100.00] [0.044 sec/batch]\u001b[0m\n"
     ]
    },
    {
     "name": "stdout",
     "output_type": "stream",
     "text": [
      "Epoch 26\n",
      "-------------------------------\n"
     ]
    },
    {
     "name": "stderr",
     "output_type": "stream",
     "text": [
      "\u001b[37m\u001b[01m[2021-05-20 01:25:15,264] [Epoch: 26] [Batch: 10 of 157] [Loss = 0.0106] [Accuracy = 100.00] [0.043 sec/batch]\u001b[0m\n",
      "\u001b[37m\u001b[01m[2021-05-20 01:25:15,680] [Epoch: 26] [Batch: 20 of 157] [Loss = 0.0110] [Accuracy = 100.00] [0.040 sec/batch]\u001b[0m\n",
      "\u001b[37m\u001b[01m[2021-05-20 01:25:16,082] [Epoch: 26] [Batch: 30 of 157] [Loss = 0.0083] [Accuracy = 100.00] [0.038 sec/batch]\u001b[0m\n",
      "\u001b[37m\u001b[01m[2021-05-20 01:25:16,470] [Epoch: 26] [Batch: 40 of 157] [Loss = 0.0065] [Accuracy = 100.00] [0.038 sec/batch]\u001b[0m\n",
      "\u001b[37m\u001b[01m[2021-05-20 01:25:16,873] [Epoch: 26] [Batch: 50 of 157] [Loss = 0.0061] [Accuracy = 100.00] [0.041 sec/batch]\u001b[0m\n",
      "\u001b[37m\u001b[01m[2021-05-20 01:25:17,268] [Epoch: 26] [Batch: 60 of 157] [Loss = 0.0092] [Accuracy = 100.00] [0.041 sec/batch]\u001b[0m\n",
      "\u001b[37m\u001b[01m[2021-05-20 01:25:17,686] [Epoch: 26] [Batch: 70 of 157] [Loss = 0.0086] [Accuracy = 100.00] [0.040 sec/batch]\u001b[0m\n",
      "\u001b[37m\u001b[01m[2021-05-20 01:25:18,098] [Epoch: 26] [Batch: 80 of 157] [Loss = 0.0102] [Accuracy = 100.00] [0.039 sec/batch]\u001b[0m\n",
      "\u001b[37m\u001b[01m[2021-05-20 01:25:18,517] [Epoch: 26] [Batch: 90 of 157] [Loss = 0.0097] [Accuracy = 100.00] [0.042 sec/batch]\u001b[0m\n",
      "\u001b[37m\u001b[01m[2021-05-20 01:25:18,951] [Epoch: 26] [Batch: 100 of 157] [Loss = 0.0098] [Accuracy = 100.00] [0.046 sec/batch]\u001b[0m\n",
      "\u001b[37m\u001b[01m[2021-05-20 01:25:19,384] [Epoch: 26] [Batch: 110 of 157] [Loss = 0.0097] [Accuracy = 100.00] [0.043 sec/batch]\u001b[0m\n",
      "\u001b[37m\u001b[01m[2021-05-20 01:25:19,829] [Epoch: 26] [Batch: 120 of 157] [Loss = 0.0087] [Accuracy = 100.00] [0.044 sec/batch]\u001b[0m\n",
      "\u001b[37m\u001b[01m[2021-05-20 01:25:20,259] [Epoch: 26] [Batch: 130 of 157] [Loss = 0.0099] [Accuracy = 100.00] [0.046 sec/batch]\u001b[0m\n",
      "\u001b[37m\u001b[01m[2021-05-20 01:25:20,676] [Epoch: 26] [Batch: 140 of 157] [Loss = 0.0098] [Accuracy = 100.00] [0.040 sec/batch]\u001b[0m\n",
      "\u001b[37m\u001b[01m[2021-05-20 01:25:21,101] [Epoch: 26] [Batch: 150 of 157] [Loss = 0.0116] [Accuracy = 100.00] [0.042 sec/batch]\u001b[0m\n",
      "\u001b[37m\u001b[01m[2021-05-20 01:25:21,396] [Epoch: 27] [Batch: 0 of 157] [Loss = 0.0083] [Accuracy = 100.00] [0.042 sec/batch]\u001b[0m\n"
     ]
    },
    {
     "name": "stdout",
     "output_type": "stream",
     "text": [
      "Epoch 27\n",
      "-------------------------------\n"
     ]
    },
    {
     "name": "stderr",
     "output_type": "stream",
     "text": [
      "\u001b[37m\u001b[01m[2021-05-20 01:25:21,817] [Epoch: 27] [Batch: 10 of 157] [Loss = 0.0077] [Accuracy = 100.00] [0.044 sec/batch]\u001b[0m\n",
      "\u001b[37m\u001b[01m[2021-05-20 01:25:22,246] [Epoch: 27] [Batch: 20 of 157] [Loss = 0.0070] [Accuracy = 100.00] [0.040 sec/batch]\u001b[0m\n",
      "\u001b[37m\u001b[01m[2021-05-20 01:25:22,670] [Epoch: 27] [Batch: 30 of 157] [Loss = 0.0071] [Accuracy = 100.00] [0.041 sec/batch]\u001b[0m\n",
      "\u001b[37m\u001b[01m[2021-05-20 01:25:23,108] [Epoch: 27] [Batch: 40 of 157] [Loss = 0.0089] [Accuracy = 100.00] [0.041 sec/batch]\u001b[0m\n",
      "\u001b[37m\u001b[01m[2021-05-20 01:25:23,543] [Epoch: 27] [Batch: 50 of 157] [Loss = 0.0074] [Accuracy = 100.00] [0.041 sec/batch]\u001b[0m\n",
      "\u001b[37m\u001b[01m[2021-05-20 01:25:23,979] [Epoch: 27] [Batch: 60 of 157] [Loss = 0.0078] [Accuracy = 100.00] [0.042 sec/batch]\u001b[0m\n",
      "\u001b[37m\u001b[01m[2021-05-20 01:25:24,411] [Epoch: 27] [Batch: 70 of 157] [Loss = 0.0077] [Accuracy = 100.00] [0.040 sec/batch]\u001b[0m\n",
      "\u001b[37m\u001b[01m[2021-05-20 01:25:24,823] [Epoch: 27] [Batch: 80 of 157] [Loss = 0.0099] [Accuracy = 100.00] [0.037 sec/batch]\u001b[0m\n",
      "\u001b[37m\u001b[01m[2021-05-20 01:25:25,215] [Epoch: 27] [Batch: 90 of 157] [Loss = 0.0086] [Accuracy = 100.00] [0.035 sec/batch]\u001b[0m\n",
      "\u001b[37m\u001b[01m[2021-05-20 01:25:25,608] [Epoch: 27] [Batch: 100 of 157] [Loss = 0.0073] [Accuracy = 100.00] [0.039 sec/batch]\u001b[0m\n",
      "\u001b[37m\u001b[01m[2021-05-20 01:25:26,002] [Epoch: 27] [Batch: 110 of 157] [Loss = 0.0080] [Accuracy = 100.00] [0.040 sec/batch]\u001b[0m\n",
      "\u001b[37m\u001b[01m[2021-05-20 01:25:26,436] [Epoch: 27] [Batch: 120 of 157] [Loss = 0.0086] [Accuracy = 100.00] [0.045 sec/batch]\u001b[0m\n",
      "\u001b[37m\u001b[01m[2021-05-20 01:25:26,866] [Epoch: 27] [Batch: 130 of 157] [Loss = 0.0083] [Accuracy = 100.00] [0.042 sec/batch]\u001b[0m\n",
      "\u001b[37m\u001b[01m[2021-05-20 01:25:27,300] [Epoch: 27] [Batch: 140 of 157] [Loss = 0.0101] [Accuracy = 100.00] [0.046 sec/batch]\u001b[0m\n",
      "\u001b[37m\u001b[01m[2021-05-20 01:25:27,723] [Epoch: 27] [Batch: 150 of 157] [Loss = 0.0089] [Accuracy = 100.00] [0.043 sec/batch]\u001b[0m\n",
      "\u001b[37m\u001b[01m[2021-05-20 01:25:28,008] [Epoch: 28] [Batch: 0 of 157] [Loss = 0.0067] [Accuracy = 100.00] [0.039 sec/batch]\u001b[0m\n"
     ]
    },
    {
     "name": "stdout",
     "output_type": "stream",
     "text": [
      "Epoch 28\n",
      "-------------------------------\n"
     ]
    },
    {
     "name": "stderr",
     "output_type": "stream",
     "text": [
      "\u001b[37m\u001b[01m[2021-05-20 01:25:28,424] [Epoch: 28] [Batch: 10 of 157] [Loss = 0.0053] [Accuracy = 100.00] [0.040 sec/batch]\u001b[0m\n",
      "\u001b[37m\u001b[01m[2021-05-20 01:25:28,849] [Epoch: 28] [Batch: 20 of 157] [Loss = 0.0050] [Accuracy = 100.00] [0.041 sec/batch]\u001b[0m\n",
      "\u001b[37m\u001b[01m[2021-05-20 01:25:29,239] [Epoch: 28] [Batch: 30 of 157] [Loss = 0.0066] [Accuracy = 100.00] [0.043 sec/batch]\u001b[0m\n",
      "\u001b[37m\u001b[01m[2021-05-20 01:25:29,644] [Epoch: 28] [Batch: 40 of 157] [Loss = 0.0059] [Accuracy = 100.00] [0.038 sec/batch]\u001b[0m\n",
      "\u001b[37m\u001b[01m[2021-05-20 01:25:30,055] [Epoch: 28] [Batch: 50 of 157] [Loss = 0.0071] [Accuracy = 100.00] [0.038 sec/batch]\u001b[0m\n",
      "\u001b[37m\u001b[01m[2021-05-20 01:25:30,470] [Epoch: 28] [Batch: 60 of 157] [Loss = 0.0066] [Accuracy = 100.00] [0.040 sec/batch]\u001b[0m\n",
      "\u001b[37m\u001b[01m[2021-05-20 01:25:30,893] [Epoch: 28] [Batch: 70 of 157] [Loss = 0.0057] [Accuracy = 100.00] [0.045 sec/batch]\u001b[0m\n",
      "\u001b[37m\u001b[01m[2021-05-20 01:25:31,317] [Epoch: 28] [Batch: 80 of 157] [Loss = 0.0050] [Accuracy = 100.00] [0.041 sec/batch]\u001b[0m\n",
      "\u001b[37m\u001b[01m[2021-05-20 01:25:31,738] [Epoch: 28] [Batch: 90 of 157] [Loss = 0.0060] [Accuracy = 100.00] [0.041 sec/batch]\u001b[0m\n",
      "\u001b[37m\u001b[01m[2021-05-20 01:25:32,146] [Epoch: 28] [Batch: 100 of 157] [Loss = 0.0064] [Accuracy = 100.00] [0.039 sec/batch]\u001b[0m\n",
      "\u001b[37m\u001b[01m[2021-05-20 01:25:32,561] [Epoch: 28] [Batch: 110 of 157] [Loss = 0.0078] [Accuracy = 100.00] [0.040 sec/batch]\u001b[0m\n",
      "\u001b[37m\u001b[01m[2021-05-20 01:25:32,999] [Epoch: 28] [Batch: 120 of 157] [Loss = 0.0070] [Accuracy = 100.00] [0.043 sec/batch]\u001b[0m\n",
      "\u001b[37m\u001b[01m[2021-05-20 01:25:33,418] [Epoch: 28] [Batch: 130 of 157] [Loss = 0.0077] [Accuracy = 100.00] [0.043 sec/batch]\u001b[0m\n",
      "\u001b[37m\u001b[01m[2021-05-20 01:25:33,843] [Epoch: 28] [Batch: 140 of 157] [Loss = 0.0061] [Accuracy = 100.00] [0.043 sec/batch]\u001b[0m\n",
      "\u001b[37m\u001b[01m[2021-05-20 01:25:34,268] [Epoch: 28] [Batch: 150 of 157] [Loss = 0.0063] [Accuracy = 100.00] [0.043 sec/batch]\u001b[0m\n",
      "\u001b[37m\u001b[01m[2021-05-20 01:25:34,568] [Epoch: 29] [Batch: 0 of 157] [Loss = 0.0056] [Accuracy = 100.00] [0.043 sec/batch]\u001b[0m\n"
     ]
    },
    {
     "name": "stdout",
     "output_type": "stream",
     "text": [
      "Epoch 29\n",
      "-------------------------------\n"
     ]
    },
    {
     "name": "stderr",
     "output_type": "stream",
     "text": [
      "\u001b[37m\u001b[01m[2021-05-20 01:25:35,005] [Epoch: 29] [Batch: 10 of 157] [Loss = 0.0048] [Accuracy = 100.00] [0.044 sec/batch]\u001b[0m\n",
      "\u001b[37m\u001b[01m[2021-05-20 01:25:35,440] [Epoch: 29] [Batch: 20 of 157] [Loss = 0.0059] [Accuracy = 100.00] [0.043 sec/batch]\u001b[0m\n",
      "\u001b[37m\u001b[01m[2021-05-20 01:25:35,872] [Epoch: 29] [Batch: 30 of 157] [Loss = 0.0044] [Accuracy = 100.00] [0.044 sec/batch]\u001b[0m\n",
      "\u001b[37m\u001b[01m[2021-05-20 01:25:36,294] [Epoch: 29] [Batch: 40 of 157] [Loss = 0.0053] [Accuracy = 100.00] [0.044 sec/batch]\u001b[0m\n",
      "\u001b[37m\u001b[01m[2021-05-20 01:25:36,721] [Epoch: 29] [Batch: 50 of 157] [Loss = 0.0049] [Accuracy = 100.00] [0.039 sec/batch]\u001b[0m\n",
      "\u001b[37m\u001b[01m[2021-05-20 01:25:37,137] [Epoch: 29] [Batch: 60 of 157] [Loss = 0.0056] [Accuracy = 100.00] [0.041 sec/batch]\u001b[0m\n",
      "\u001b[37m\u001b[01m[2021-05-20 01:25:37,511] [Epoch: 29] [Batch: 70 of 157] [Loss = 0.0050] [Accuracy = 100.00] [0.036 sec/batch]\u001b[0m\n",
      "\u001b[37m\u001b[01m[2021-05-20 01:25:37,916] [Epoch: 29] [Batch: 80 of 157] [Loss = 0.0075] [Accuracy = 100.00] [0.043 sec/batch]\u001b[0m\n",
      "\u001b[37m\u001b[01m[2021-05-20 01:25:38,328] [Epoch: 29] [Batch: 90 of 157] [Loss = 0.0055] [Accuracy = 100.00] [0.040 sec/batch]\u001b[0m\n",
      "\u001b[37m\u001b[01m[2021-05-20 01:25:38,748] [Epoch: 29] [Batch: 100 of 157] [Loss = 0.0059] [Accuracy = 100.00] [0.042 sec/batch]\u001b[0m\n",
      "\u001b[37m\u001b[01m[2021-05-20 01:25:39,168] [Epoch: 29] [Batch: 110 of 157] [Loss = 0.0044] [Accuracy = 100.00] [0.043 sec/batch]\u001b[0m\n",
      "\u001b[37m\u001b[01m[2021-05-20 01:25:39,624] [Epoch: 29] [Batch: 120 of 157] [Loss = 0.0059] [Accuracy = 100.00] [0.045 sec/batch]\u001b[0m\n",
      "\u001b[37m\u001b[01m[2021-05-20 01:25:40,063] [Epoch: 29] [Batch: 130 of 157] [Loss = 0.0054] [Accuracy = 100.00] [0.043 sec/batch]\u001b[0m\n",
      "\u001b[37m\u001b[01m[2021-05-20 01:25:40,488] [Epoch: 29] [Batch: 140 of 157] [Loss = 0.0051] [Accuracy = 100.00] [0.039 sec/batch]\u001b[0m\n",
      "\u001b[37m\u001b[01m[2021-05-20 01:25:40,926] [Epoch: 29] [Batch: 150 of 157] [Loss = 0.0055] [Accuracy = 100.00] [0.043 sec/batch]\u001b[0m\n",
      "\u001b[37m\u001b[01m[2021-05-20 01:25:41,215] [Epoch: 30] [Batch: 0 of 157] [Loss = 0.0040] [Accuracy = 100.00] [0.040 sec/batch]\u001b[0m\n"
     ]
    },
    {
     "name": "stdout",
     "output_type": "stream",
     "text": [
      "Epoch 30\n",
      "-------------------------------\n"
     ]
    },
    {
     "name": "stderr",
     "output_type": "stream",
     "text": [
      "\u001b[37m\u001b[01m[2021-05-20 01:25:41,657] [Epoch: 30] [Batch: 10 of 157] [Loss = 0.0041] [Accuracy = 100.00] [0.044 sec/batch]\u001b[0m\n",
      "\u001b[37m\u001b[01m[2021-05-20 01:25:42,083] [Epoch: 30] [Batch: 20 of 157] [Loss = 0.0046] [Accuracy = 100.00] [0.038 sec/batch]\u001b[0m\n",
      "\u001b[37m\u001b[01m[2021-05-20 01:25:42,484] [Epoch: 30] [Batch: 30 of 157] [Loss = 0.0049] [Accuracy = 100.00] [0.041 sec/batch]\u001b[0m\n",
      "\u001b[37m\u001b[01m[2021-05-20 01:25:42,890] [Epoch: 30] [Batch: 40 of 157] [Loss = 0.0052] [Accuracy = 100.00] [0.039 sec/batch]\u001b[0m\n",
      "\u001b[37m\u001b[01m[2021-05-20 01:25:43,299] [Epoch: 30] [Batch: 50 of 157] [Loss = 0.0041] [Accuracy = 100.00] [0.040 sec/batch]\u001b[0m\n",
      "\u001b[37m\u001b[01m[2021-05-20 01:25:43,735] [Epoch: 30] [Batch: 60 of 157] [Loss = 0.0045] [Accuracy = 100.00] [0.043 sec/batch]\u001b[0m\n",
      "\u001b[37m\u001b[01m[2021-05-20 01:25:44,172] [Epoch: 30] [Batch: 70 of 157] [Loss = 0.0050] [Accuracy = 100.00] [0.042 sec/batch]\u001b[0m\n",
      "\u001b[37m\u001b[01m[2021-05-20 01:25:44,592] [Epoch: 30] [Batch: 80 of 157] [Loss = 0.0037] [Accuracy = 100.00] [0.041 sec/batch]\u001b[0m\n",
      "\u001b[37m\u001b[01m[2021-05-20 01:25:45,010] [Epoch: 30] [Batch: 90 of 157] [Loss = 0.0043] [Accuracy = 100.00] [0.040 sec/batch]\u001b[0m\n",
      "\u001b[37m\u001b[01m[2021-05-20 01:25:45,433] [Epoch: 30] [Batch: 100 of 157] [Loss = 0.0044] [Accuracy = 100.00] [0.043 sec/batch]\u001b[0m\n",
      "\u001b[37m\u001b[01m[2021-05-20 01:25:45,854] [Epoch: 30] [Batch: 110 of 157] [Loss = 0.0048] [Accuracy = 100.00] [0.040 sec/batch]\u001b[0m\n",
      "\u001b[37m\u001b[01m[2021-05-20 01:25:46,286] [Epoch: 30] [Batch: 120 of 157] [Loss = 0.0045] [Accuracy = 100.00] [0.044 sec/batch]\u001b[0m\n",
      "\u001b[37m\u001b[01m[2021-05-20 01:25:46,707] [Epoch: 30] [Batch: 130 of 157] [Loss = 0.0046] [Accuracy = 100.00] [0.040 sec/batch]\u001b[0m\n",
      "\u001b[37m\u001b[01m[2021-05-20 01:25:47,119] [Epoch: 30] [Batch: 140 of 157] [Loss = 0.0040] [Accuracy = 100.00] [0.042 sec/batch]\u001b[0m\n",
      "\u001b[37m\u001b[01m[2021-05-20 01:25:47,526] [Epoch: 30] [Batch: 150 of 157] [Loss = 0.0048] [Accuracy = 100.00] [0.039 sec/batch]\u001b[0m\n",
      "\u001b[37m\u001b[01m[2021-05-20 01:25:47,826] [Epoch: 31] [Batch: 0 of 157] [Loss = 0.0039] [Accuracy = 100.00] [0.043 sec/batch]\u001b[0m\n"
     ]
    },
    {
     "name": "stdout",
     "output_type": "stream",
     "text": [
      "Epoch 31\n",
      "-------------------------------\n"
     ]
    },
    {
     "name": "stderr",
     "output_type": "stream",
     "text": [
      "\u001b[37m\u001b[01m[2021-05-20 01:25:48,233] [Epoch: 31] [Batch: 10 of 157] [Loss = 0.0035] [Accuracy = 100.00] [0.039 sec/batch]\u001b[0m\n",
      "\u001b[37m\u001b[01m[2021-05-20 01:25:48,644] [Epoch: 31] [Batch: 20 of 157] [Loss = 0.0032] [Accuracy = 100.00] [0.040 sec/batch]\u001b[0m\n",
      "\u001b[37m\u001b[01m[2021-05-20 01:25:49,040] [Epoch: 31] [Batch: 30 of 157] [Loss = 0.0035] [Accuracy = 100.00] [0.038 sec/batch]\u001b[0m\n",
      "\u001b[37m\u001b[01m[2021-05-20 01:25:49,469] [Epoch: 31] [Batch: 40 of 157] [Loss = 0.0029] [Accuracy = 100.00] [0.043 sec/batch]\u001b[0m\n",
      "\u001b[37m\u001b[01m[2021-05-20 01:25:49,901] [Epoch: 31] [Batch: 50 of 157] [Loss = 0.0031] [Accuracy = 100.00] [0.045 sec/batch]\u001b[0m\n",
      "\u001b[37m\u001b[01m[2021-05-20 01:25:50,315] [Epoch: 31] [Batch: 60 of 157] [Loss = 0.0032] [Accuracy = 100.00] [0.043 sec/batch]\u001b[0m\n",
      "\u001b[37m\u001b[01m[2021-05-20 01:25:50,726] [Epoch: 31] [Batch: 70 of 157] [Loss = 0.0038] [Accuracy = 100.00] [0.039 sec/batch]\u001b[0m\n",
      "\u001b[37m\u001b[01m[2021-05-20 01:25:51,154] [Epoch: 31] [Batch: 80 of 157] [Loss = 0.0036] [Accuracy = 100.00] [0.042 sec/batch]\u001b[0m\n",
      "\u001b[37m\u001b[01m[2021-05-20 01:25:51,562] [Epoch: 31] [Batch: 90 of 157] [Loss = 0.0048] [Accuracy = 100.00] [0.039 sec/batch]\u001b[0m\n",
      "\u001b[37m\u001b[01m[2021-05-20 01:25:51,957] [Epoch: 31] [Batch: 100 of 157] [Loss = 0.0036] [Accuracy = 100.00] [0.041 sec/batch]\u001b[0m\n",
      "\u001b[37m\u001b[01m[2021-05-20 01:25:52,358] [Epoch: 31] [Batch: 110 of 157] [Loss = 0.0033] [Accuracy = 100.00] [0.039 sec/batch]\u001b[0m\n",
      "\u001b[37m\u001b[01m[2021-05-20 01:25:52,755] [Epoch: 31] [Batch: 120 of 157] [Loss = 0.0034] [Accuracy = 100.00] [0.034 sec/batch]\u001b[0m\n",
      "\u001b[37m\u001b[01m[2021-05-20 01:25:53,162] [Epoch: 31] [Batch: 130 of 157] [Loss = 0.0042] [Accuracy = 100.00] [0.039 sec/batch]\u001b[0m\n",
      "\u001b[37m\u001b[01m[2021-05-20 01:25:53,570] [Epoch: 31] [Batch: 140 of 157] [Loss = 0.0033] [Accuracy = 100.00] [0.040 sec/batch]\u001b[0m\n",
      "\u001b[37m\u001b[01m[2021-05-20 01:25:54,005] [Epoch: 31] [Batch: 150 of 157] [Loss = 0.0043] [Accuracy = 100.00] [0.042 sec/batch]\u001b[0m\n",
      "\u001b[37m\u001b[01m[2021-05-20 01:25:54,285] [Epoch: 32] [Batch: 0 of 157] [Loss = 0.0026] [Accuracy = 100.00] [0.038 sec/batch]\u001b[0m\n"
     ]
    },
    {
     "name": "stdout",
     "output_type": "stream",
     "text": [
      "Epoch 32\n",
      "-------------------------------\n"
     ]
    },
    {
     "name": "stderr",
     "output_type": "stream",
     "text": [
      "\u001b[37m\u001b[01m[2021-05-20 01:25:54,714] [Epoch: 32] [Batch: 10 of 157] [Loss = 0.0031] [Accuracy = 100.00] [0.040 sec/batch]\u001b[0m\n",
      "\u001b[37m\u001b[01m[2021-05-20 01:25:55,134] [Epoch: 32] [Batch: 20 of 157] [Loss = 0.0036] [Accuracy = 100.00] [0.039 sec/batch]\u001b[0m\n",
      "\u001b[37m\u001b[01m[2021-05-20 01:25:55,549] [Epoch: 32] [Batch: 30 of 157] [Loss = 0.0038] [Accuracy = 100.00] [0.041 sec/batch]\u001b[0m\n",
      "\u001b[37m\u001b[01m[2021-05-20 01:25:55,955] [Epoch: 32] [Batch: 40 of 157] [Loss = 0.0032] [Accuracy = 100.00] [0.042 sec/batch]\u001b[0m\n",
      "\u001b[37m\u001b[01m[2021-05-20 01:25:56,384] [Epoch: 32] [Batch: 50 of 157] [Loss = 0.0029] [Accuracy = 100.00] [0.043 sec/batch]\u001b[0m\n",
      "\u001b[37m\u001b[01m[2021-05-20 01:25:56,791] [Epoch: 32] [Batch: 60 of 157] [Loss = 0.0035] [Accuracy = 100.00] [0.042 sec/batch]\u001b[0m\n",
      "\u001b[37m\u001b[01m[2021-05-20 01:25:57,223] [Epoch: 32] [Batch: 70 of 157] [Loss = 0.0029] [Accuracy = 100.00] [0.039 sec/batch]\u001b[0m\n",
      "\u001b[37m\u001b[01m[2021-05-20 01:25:57,651] [Epoch: 32] [Batch: 80 of 157] [Loss = 0.0039] [Accuracy = 100.00] [0.039 sec/batch]\u001b[0m\n",
      "\u001b[37m\u001b[01m[2021-05-20 01:25:58,087] [Epoch: 32] [Batch: 90 of 157] [Loss = 0.0036] [Accuracy = 100.00] [0.044 sec/batch]\u001b[0m\n",
      "\u001b[37m\u001b[01m[2021-05-20 01:25:58,514] [Epoch: 32] [Batch: 100 of 157] [Loss = 0.0043] [Accuracy = 100.00] [0.044 sec/batch]\u001b[0m\n",
      "\u001b[37m\u001b[01m[2021-05-20 01:25:58,938] [Epoch: 32] [Batch: 110 of 157] [Loss = 0.0030] [Accuracy = 100.00] [0.045 sec/batch]\u001b[0m\n",
      "\u001b[37m\u001b[01m[2021-05-20 01:25:59,348] [Epoch: 32] [Batch: 120 of 157] [Loss = 0.0030] [Accuracy = 100.00] [0.044 sec/batch]\u001b[0m\n",
      "\u001b[37m\u001b[01m[2021-05-20 01:25:59,761] [Epoch: 32] [Batch: 130 of 157] [Loss = 0.0029] [Accuracy = 100.00] [0.044 sec/batch]\u001b[0m\n",
      "\u001b[37m\u001b[01m[2021-05-20 01:26:00,170] [Epoch: 32] [Batch: 140 of 157] [Loss = 0.0031] [Accuracy = 100.00] [0.039 sec/batch]\u001b[0m\n",
      "\u001b[37m\u001b[01m[2021-05-20 01:26:00,584] [Epoch: 32] [Batch: 150 of 157] [Loss = 0.0032] [Accuracy = 100.00] [0.038 sec/batch]\u001b[0m\n",
      "\u001b[37m\u001b[01m[2021-05-20 01:26:00,888] [Epoch: 33] [Batch: 0 of 157] [Loss = 0.0026] [Accuracy = 100.00] [0.040 sec/batch]\u001b[0m\n"
     ]
    },
    {
     "name": "stdout",
     "output_type": "stream",
     "text": [
      "Epoch 33\n",
      "-------------------------------\n"
     ]
    },
    {
     "name": "stderr",
     "output_type": "stream",
     "text": [
      "\u001b[37m\u001b[01m[2021-05-20 01:26:01,312] [Epoch: 33] [Batch: 10 of 157] [Loss = 0.0030] [Accuracy = 100.00] [0.041 sec/batch]\u001b[0m\n",
      "\u001b[37m\u001b[01m[2021-05-20 01:26:01,725] [Epoch: 33] [Batch: 20 of 157] [Loss = 0.0025] [Accuracy = 100.00] [0.041 sec/batch]\u001b[0m\n",
      "\u001b[37m\u001b[01m[2021-05-20 01:26:02,143] [Epoch: 33] [Batch: 30 of 157] [Loss = 0.0023] [Accuracy = 100.00] [0.044 sec/batch]\u001b[0m\n",
      "\u001b[37m\u001b[01m[2021-05-20 01:26:02,567] [Epoch: 33] [Batch: 40 of 157] [Loss = 0.0027] [Accuracy = 100.00] [0.039 sec/batch]\u001b[0m\n",
      "\u001b[37m\u001b[01m[2021-05-20 01:26:03,000] [Epoch: 33] [Batch: 50 of 157] [Loss = 0.0028] [Accuracy = 100.00] [0.040 sec/batch]\u001b[0m\n",
      "\u001b[37m\u001b[01m[2021-05-20 01:26:03,400] [Epoch: 33] [Batch: 60 of 157] [Loss = 0.0022] [Accuracy = 100.00] [0.038 sec/batch]\u001b[0m\n",
      "\u001b[37m\u001b[01m[2021-05-20 01:26:03,835] [Epoch: 33] [Batch: 70 of 157] [Loss = 0.0027] [Accuracy = 100.00] [0.045 sec/batch]\u001b[0m\n",
      "\u001b[37m\u001b[01m[2021-05-20 01:26:04,252] [Epoch: 33] [Batch: 80 of 157] [Loss = 0.0025] [Accuracy = 100.00] [0.044 sec/batch]\u001b[0m\n",
      "\u001b[37m\u001b[01m[2021-05-20 01:26:04,663] [Epoch: 33] [Batch: 90 of 157] [Loss = 0.0030] [Accuracy = 100.00] [0.042 sec/batch]\u001b[0m\n",
      "\u001b[37m\u001b[01m[2021-05-20 01:26:05,094] [Epoch: 33] [Batch: 100 of 157] [Loss = 0.0028] [Accuracy = 100.00] [0.041 sec/batch]\u001b[0m\n",
      "\u001b[37m\u001b[01m[2021-05-20 01:26:05,532] [Epoch: 33] [Batch: 110 of 157] [Loss = 0.0026] [Accuracy = 100.00] [0.043 sec/batch]\u001b[0m\n",
      "\u001b[37m\u001b[01m[2021-05-20 01:26:05,964] [Epoch: 33] [Batch: 120 of 157] [Loss = 0.0025] [Accuracy = 100.00] [0.043 sec/batch]\u001b[0m\n",
      "\u001b[37m\u001b[01m[2021-05-20 01:26:06,399] [Epoch: 33] [Batch: 130 of 157] [Loss = 0.0031] [Accuracy = 100.00] [0.044 sec/batch]\u001b[0m\n",
      "\u001b[37m\u001b[01m[2021-05-20 01:26:06,828] [Epoch: 33] [Batch: 140 of 157] [Loss = 0.0037] [Accuracy = 100.00] [0.044 sec/batch]\u001b[0m\n",
      "\u001b[37m\u001b[01m[2021-05-20 01:26:07,272] [Epoch: 33] [Batch: 150 of 157] [Loss = 0.0039] [Accuracy = 100.00] [0.042 sec/batch]\u001b[0m\n",
      "\u001b[37m\u001b[01m[2021-05-20 01:26:07,583] [Epoch: 34] [Batch: 0 of 157] [Loss = 0.0024] [Accuracy = 100.00] [0.043 sec/batch]\u001b[0m\n"
     ]
    },
    {
     "name": "stdout",
     "output_type": "stream",
     "text": [
      "Epoch 34\n",
      "-------------------------------\n"
     ]
    },
    {
     "name": "stderr",
     "output_type": "stream",
     "text": [
      "\u001b[37m\u001b[01m[2021-05-20 01:26:07,992] [Epoch: 34] [Batch: 10 of 157] [Loss = 0.0025] [Accuracy = 100.00] [0.039 sec/batch]\u001b[0m\n",
      "\u001b[37m\u001b[01m[2021-05-20 01:26:08,396] [Epoch: 34] [Batch: 20 of 157] [Loss = 0.0022] [Accuracy = 100.00] [0.040 sec/batch]\u001b[0m\n",
      "\u001b[37m\u001b[01m[2021-05-20 01:26:08,823] [Epoch: 34] [Batch: 30 of 157] [Loss = 0.0027] [Accuracy = 100.00] [0.042 sec/batch]\u001b[0m\n",
      "\u001b[37m\u001b[01m[2021-05-20 01:26:09,243] [Epoch: 34] [Batch: 40 of 157] [Loss = 0.0021] [Accuracy = 100.00] [0.040 sec/batch]\u001b[0m\n",
      "\u001b[37m\u001b[01m[2021-05-20 01:26:09,671] [Epoch: 34] [Batch: 50 of 157] [Loss = 0.0022] [Accuracy = 100.00] [0.042 sec/batch]\u001b[0m\n",
      "\u001b[37m\u001b[01m[2021-05-20 01:26:10,079] [Epoch: 34] [Batch: 60 of 157] [Loss = 0.0016] [Accuracy = 100.00] [0.038 sec/batch]\u001b[0m\n",
      "\u001b[37m\u001b[01m[2021-05-20 01:26:10,499] [Epoch: 34] [Batch: 70 of 157] [Loss = 0.0026] [Accuracy = 100.00] [0.042 sec/batch]\u001b[0m\n",
      "\u001b[37m\u001b[01m[2021-05-20 01:26:10,918] [Epoch: 34] [Batch: 80 of 157] [Loss = 0.0028] [Accuracy = 100.00] [0.040 sec/batch]\u001b[0m\n",
      "\u001b[37m\u001b[01m[2021-05-20 01:26:11,332] [Epoch: 34] [Batch: 90 of 157] [Loss = 0.0024] [Accuracy = 100.00] [0.042 sec/batch]\u001b[0m\n",
      "\u001b[37m\u001b[01m[2021-05-20 01:26:11,742] [Epoch: 34] [Batch: 100 of 157] [Loss = 0.0022] [Accuracy = 100.00] [0.038 sec/batch]\u001b[0m\n",
      "\u001b[37m\u001b[01m[2021-05-20 01:26:12,166] [Epoch: 34] [Batch: 110 of 157] [Loss = 0.0026] [Accuracy = 100.00] [0.043 sec/batch]\u001b[0m\n",
      "\u001b[37m\u001b[01m[2021-05-20 01:26:12,587] [Epoch: 34] [Batch: 120 of 157] [Loss = 0.0025] [Accuracy = 100.00] [0.041 sec/batch]\u001b[0m\n",
      "\u001b[37m\u001b[01m[2021-05-20 01:26:13,004] [Epoch: 34] [Batch: 130 of 157] [Loss = 0.0021] [Accuracy = 100.00] [0.040 sec/batch]\u001b[0m\n",
      "\u001b[37m\u001b[01m[2021-05-20 01:26:13,438] [Epoch: 34] [Batch: 140 of 157] [Loss = 0.0024] [Accuracy = 100.00] [0.042 sec/batch]\u001b[0m\n",
      "\u001b[37m\u001b[01m[2021-05-20 01:26:13,847] [Epoch: 34] [Batch: 150 of 157] [Loss = 0.0027] [Accuracy = 100.00] [0.036 sec/batch]\u001b[0m\n",
      "\u001b[37m\u001b[01m[2021-05-20 01:26:14,146] [Epoch: 35] [Batch: 0 of 157] [Loss = 0.0017] [Accuracy = 100.00] [0.038 sec/batch]\u001b[0m\n"
     ]
    },
    {
     "name": "stdout",
     "output_type": "stream",
     "text": [
      "Epoch 35\n",
      "-------------------------------\n"
     ]
    },
    {
     "name": "stderr",
     "output_type": "stream",
     "text": [
      "\u001b[37m\u001b[01m[2021-05-20 01:26:14,527] [Epoch: 35] [Batch: 10 of 157] [Loss = 0.0021] [Accuracy = 100.00] [0.037 sec/batch]\u001b[0m\n",
      "\u001b[37m\u001b[01m[2021-05-20 01:26:14,933] [Epoch: 35] [Batch: 20 of 157] [Loss = 0.0020] [Accuracy = 100.00] [0.039 sec/batch]\u001b[0m\n",
      "\u001b[37m\u001b[01m[2021-05-20 01:26:15,328] [Epoch: 35] [Batch: 30 of 157] [Loss = 0.0027] [Accuracy = 100.00] [0.040 sec/batch]\u001b[0m\n",
      "\u001b[37m\u001b[01m[2021-05-20 01:26:15,732] [Epoch: 35] [Batch: 40 of 157] [Loss = 0.0019] [Accuracy = 100.00] [0.040 sec/batch]\u001b[0m\n",
      "\u001b[37m\u001b[01m[2021-05-20 01:26:16,133] [Epoch: 35] [Batch: 50 of 157] [Loss = 0.0021] [Accuracy = 100.00] [0.038 sec/batch]\u001b[0m\n",
      "\u001b[37m\u001b[01m[2021-05-20 01:26:16,527] [Epoch: 35] [Batch: 60 of 157] [Loss = 0.0021] [Accuracy = 100.00] [0.039 sec/batch]\u001b[0m\n",
      "\u001b[37m\u001b[01m[2021-05-20 01:26:16,914] [Epoch: 35] [Batch: 70 of 157] [Loss = 0.0017] [Accuracy = 100.00] [0.037 sec/batch]\u001b[0m\n",
      "\u001b[37m\u001b[01m[2021-05-20 01:26:17,311] [Epoch: 35] [Batch: 80 of 157] [Loss = 0.0019] [Accuracy = 100.00] [0.038 sec/batch]\u001b[0m\n",
      "\u001b[37m\u001b[01m[2021-05-20 01:26:17,709] [Epoch: 35] [Batch: 90 of 157] [Loss = 0.0022] [Accuracy = 100.00] [0.039 sec/batch]\u001b[0m\n",
      "\u001b[37m\u001b[01m[2021-05-20 01:26:18,109] [Epoch: 35] [Batch: 100 of 157] [Loss = 0.0026] [Accuracy = 100.00] [0.040 sec/batch]\u001b[0m\n",
      "\u001b[37m\u001b[01m[2021-05-20 01:26:18,491] [Epoch: 35] [Batch: 110 of 157] [Loss = 0.0022] [Accuracy = 100.00] [0.039 sec/batch]\u001b[0m\n",
      "\u001b[37m\u001b[01m[2021-05-20 01:26:18,882] [Epoch: 35] [Batch: 120 of 157] [Loss = 0.0023] [Accuracy = 100.00] [0.040 sec/batch]\u001b[0m\n",
      "\u001b[37m\u001b[01m[2021-05-20 01:26:19,275] [Epoch: 35] [Batch: 130 of 157] [Loss = 0.0018] [Accuracy = 100.00] [0.039 sec/batch]\u001b[0m\n",
      "\u001b[37m\u001b[01m[2021-05-20 01:26:19,670] [Epoch: 35] [Batch: 140 of 157] [Loss = 0.0020] [Accuracy = 100.00] [0.040 sec/batch]\u001b[0m\n",
      "\u001b[37m\u001b[01m[2021-05-20 01:26:20,072] [Epoch: 35] [Batch: 150 of 157] [Loss = 0.0019] [Accuracy = 100.00] [0.039 sec/batch]\u001b[0m\n",
      "\u001b[37m\u001b[01m[2021-05-20 01:26:20,342] [Epoch: 36] [Batch: 0 of 157] [Loss = 0.0018] [Accuracy = 100.00] [0.039 sec/batch]\u001b[0m\n"
     ]
    },
    {
     "name": "stdout",
     "output_type": "stream",
     "text": [
      "Epoch 36\n",
      "-------------------------------\n"
     ]
    },
    {
     "name": "stderr",
     "output_type": "stream",
     "text": [
      "\u001b[37m\u001b[01m[2021-05-20 01:26:20,743] [Epoch: 36] [Batch: 10 of 157] [Loss = 0.0015] [Accuracy = 100.00] [0.040 sec/batch]\u001b[0m\n",
      "\u001b[37m\u001b[01m[2021-05-20 01:26:21,147] [Epoch: 36] [Batch: 20 of 157] [Loss = 0.0016] [Accuracy = 100.00] [0.043 sec/batch]\u001b[0m\n",
      "\u001b[37m\u001b[01m[2021-05-20 01:26:21,548] [Epoch: 36] [Batch: 30 of 157] [Loss = 0.0018] [Accuracy = 100.00] [0.039 sec/batch]\u001b[0m\n",
      "\u001b[37m\u001b[01m[2021-05-20 01:26:21,928] [Epoch: 36] [Batch: 40 of 157] [Loss = 0.0020] [Accuracy = 100.00] [0.040 sec/batch]\u001b[0m\n",
      "\u001b[37m\u001b[01m[2021-05-20 01:26:22,330] [Epoch: 36] [Batch: 50 of 157] [Loss = 0.0014] [Accuracy = 100.00] [0.043 sec/batch]\u001b[0m\n",
      "\u001b[37m\u001b[01m[2021-05-20 01:26:22,727] [Epoch: 36] [Batch: 60 of 157] [Loss = 0.0022] [Accuracy = 100.00] [0.036 sec/batch]\u001b[0m\n",
      "\u001b[37m\u001b[01m[2021-05-20 01:26:23,128] [Epoch: 36] [Batch: 70 of 157] [Loss = 0.0018] [Accuracy = 100.00] [0.039 sec/batch]\u001b[0m\n",
      "\u001b[37m\u001b[01m[2021-05-20 01:26:23,532] [Epoch: 36] [Batch: 80 of 157] [Loss = 0.0022] [Accuracy = 100.00] [0.039 sec/batch]\u001b[0m\n",
      "\u001b[37m\u001b[01m[2021-05-20 01:26:23,931] [Epoch: 36] [Batch: 90 of 157] [Loss = 0.0021] [Accuracy = 100.00] [0.039 sec/batch]\u001b[0m\n",
      "\u001b[37m\u001b[01m[2021-05-20 01:26:24,347] [Epoch: 36] [Batch: 100 of 157] [Loss = 0.0021] [Accuracy = 100.00] [0.039 sec/batch]\u001b[0m\n",
      "\u001b[37m\u001b[01m[2021-05-20 01:26:24,751] [Epoch: 36] [Batch: 110 of 157] [Loss = 0.0020] [Accuracy = 100.00] [0.043 sec/batch]\u001b[0m\n",
      "\u001b[37m\u001b[01m[2021-05-20 01:26:25,182] [Epoch: 36] [Batch: 120 of 157] [Loss = 0.0025] [Accuracy = 100.00] [0.038 sec/batch]\u001b[0m\n",
      "\u001b[37m\u001b[01m[2021-05-20 01:26:25,592] [Epoch: 36] [Batch: 130 of 157] [Loss = 0.0026] [Accuracy = 100.00] [0.044 sec/batch]\u001b[0m\n",
      "\u001b[37m\u001b[01m[2021-05-20 01:26:25,997] [Epoch: 36] [Batch: 140 of 157] [Loss = 0.0020] [Accuracy = 100.00] [0.039 sec/batch]\u001b[0m\n",
      "\u001b[37m\u001b[01m[2021-05-20 01:26:26,401] [Epoch: 36] [Batch: 150 of 157] [Loss = 0.0018] [Accuracy = 100.00] [0.041 sec/batch]\u001b[0m\n",
      "\u001b[37m\u001b[01m[2021-05-20 01:26:26,691] [Epoch: 37] [Batch: 0 of 157] [Loss = 0.0018] [Accuracy = 100.00] [0.039 sec/batch]\u001b[0m\n"
     ]
    },
    {
     "name": "stdout",
     "output_type": "stream",
     "text": [
      "Epoch 37\n",
      "-------------------------------\n"
     ]
    },
    {
     "name": "stderr",
     "output_type": "stream",
     "text": [
      "\u001b[37m\u001b[01m[2021-05-20 01:26:27,111] [Epoch: 37] [Batch: 10 of 157] [Loss = 0.0020] [Accuracy = 100.00] [0.041 sec/batch]\u001b[0m\n",
      "\u001b[37m\u001b[01m[2021-05-20 01:26:27,540] [Epoch: 37] [Batch: 20 of 157] [Loss = 0.0018] [Accuracy = 100.00] [0.038 sec/batch]\u001b[0m\n",
      "\u001b[37m\u001b[01m[2021-05-20 01:26:27,949] [Epoch: 37] [Batch: 30 of 157] [Loss = 0.0020] [Accuracy = 100.00] [0.042 sec/batch]\u001b[0m\n",
      "\u001b[37m\u001b[01m[2021-05-20 01:26:28,352] [Epoch: 37] [Batch: 40 of 157] [Loss = 0.0021] [Accuracy = 100.00] [0.040 sec/batch]\u001b[0m\n",
      "\u001b[37m\u001b[01m[2021-05-20 01:26:28,754] [Epoch: 37] [Batch: 50 of 157] [Loss = 0.0015] [Accuracy = 100.00] [0.041 sec/batch]\u001b[0m\n",
      "\u001b[37m\u001b[01m[2021-05-20 01:26:29,174] [Epoch: 37] [Batch: 60 of 157] [Loss = 0.0020] [Accuracy = 100.00] [0.041 sec/batch]\u001b[0m\n",
      "\u001b[37m\u001b[01m[2021-05-20 01:26:29,590] [Epoch: 37] [Batch: 70 of 157] [Loss = 0.0015] [Accuracy = 100.00] [0.043 sec/batch]\u001b[0m\n",
      "\u001b[37m\u001b[01m[2021-05-20 01:26:29,998] [Epoch: 37] [Batch: 80 of 157] [Loss = 0.0018] [Accuracy = 100.00] [0.037 sec/batch]\u001b[0m\n",
      "\u001b[37m\u001b[01m[2021-05-20 01:26:30,391] [Epoch: 37] [Batch: 90 of 157] [Loss = 0.0015] [Accuracy = 100.00] [0.039 sec/batch]\u001b[0m\n",
      "\u001b[37m\u001b[01m[2021-05-20 01:26:30,829] [Epoch: 37] [Batch: 100 of 157] [Loss = 0.0018] [Accuracy = 100.00] [0.044 sec/batch]\u001b[0m\n",
      "\u001b[37m\u001b[01m[2021-05-20 01:26:31,255] [Epoch: 37] [Batch: 110 of 157] [Loss = 0.0018] [Accuracy = 100.00] [0.039 sec/batch]\u001b[0m\n",
      "\u001b[37m\u001b[01m[2021-05-20 01:26:31,676] [Epoch: 37] [Batch: 120 of 157] [Loss = 0.0013] [Accuracy = 100.00] [0.045 sec/batch]\u001b[0m\n",
      "\u001b[37m\u001b[01m[2021-05-20 01:26:32,068] [Epoch: 37] [Batch: 130 of 157] [Loss = 0.0017] [Accuracy = 100.00] [0.038 sec/batch]\u001b[0m\n",
      "\u001b[37m\u001b[01m[2021-05-20 01:26:32,488] [Epoch: 37] [Batch: 140 of 157] [Loss = 0.0017] [Accuracy = 100.00] [0.041 sec/batch]\u001b[0m\n",
      "\u001b[37m\u001b[01m[2021-05-20 01:26:32,917] [Epoch: 37] [Batch: 150 of 157] [Loss = 0.0017] [Accuracy = 100.00] [0.043 sec/batch]\u001b[0m\n",
      "\u001b[37m\u001b[01m[2021-05-20 01:26:33,212] [Epoch: 38] [Batch: 0 of 157] [Loss = 0.0017] [Accuracy = 100.00] [0.040 sec/batch]\u001b[0m\n"
     ]
    },
    {
     "name": "stdout",
     "output_type": "stream",
     "text": [
      "Epoch 38\n",
      "-------------------------------\n"
     ]
    },
    {
     "name": "stderr",
     "output_type": "stream",
     "text": [
      "\u001b[37m\u001b[01m[2021-05-20 01:26:33,645] [Epoch: 38] [Batch: 10 of 157] [Loss = 0.0013] [Accuracy = 100.00] [0.043 sec/batch]\u001b[0m\n",
      "\u001b[37m\u001b[01m[2021-05-20 01:26:34,079] [Epoch: 38] [Batch: 20 of 157] [Loss = 0.0015] [Accuracy = 100.00] [0.045 sec/batch]\u001b[0m\n",
      "\u001b[37m\u001b[01m[2021-05-20 01:26:34,513] [Epoch: 38] [Batch: 30 of 157] [Loss = 0.0017] [Accuracy = 100.00] [0.043 sec/batch]\u001b[0m\n",
      "\u001b[37m\u001b[01m[2021-05-20 01:26:34,943] [Epoch: 38] [Batch: 40 of 157] [Loss = 0.0013] [Accuracy = 100.00] [0.045 sec/batch]\u001b[0m\n",
      "\u001b[37m\u001b[01m[2021-05-20 01:26:35,390] [Epoch: 38] [Batch: 50 of 157] [Loss = 0.0016] [Accuracy = 100.00] [0.044 sec/batch]\u001b[0m\n",
      "\u001b[37m\u001b[01m[2021-05-20 01:26:35,824] [Epoch: 38] [Batch: 60 of 157] [Loss = 0.0015] [Accuracy = 100.00] [0.043 sec/batch]\u001b[0m\n",
      "\u001b[37m\u001b[01m[2021-05-20 01:26:36,242] [Epoch: 38] [Batch: 70 of 157] [Loss = 0.0017] [Accuracy = 100.00] [0.040 sec/batch]\u001b[0m\n",
      "\u001b[37m\u001b[01m[2021-05-20 01:26:36,658] [Epoch: 38] [Batch: 80 of 157] [Loss = 0.0016] [Accuracy = 100.00] [0.045 sec/batch]\u001b[0m\n",
      "\u001b[37m\u001b[01m[2021-05-20 01:26:37,072] [Epoch: 38] [Batch: 90 of 157] [Loss = 0.0017] [Accuracy = 100.00] [0.042 sec/batch]\u001b[0m\n",
      "\u001b[37m\u001b[01m[2021-05-20 01:26:37,489] [Epoch: 38] [Batch: 100 of 157] [Loss = 0.0015] [Accuracy = 100.00] [0.041 sec/batch]\u001b[0m\n",
      "\u001b[37m\u001b[01m[2021-05-20 01:26:37,918] [Epoch: 38] [Batch: 110 of 157] [Loss = 0.0016] [Accuracy = 100.00] [0.044 sec/batch]\u001b[0m\n",
      "\u001b[37m\u001b[01m[2021-05-20 01:26:38,355] [Epoch: 38] [Batch: 120 of 157] [Loss = 0.0015] [Accuracy = 100.00] [0.041 sec/batch]\u001b[0m\n",
      "\u001b[37m\u001b[01m[2021-05-20 01:26:38,788] [Epoch: 38] [Batch: 130 of 157] [Loss = 0.0013] [Accuracy = 100.00] [0.044 sec/batch]\u001b[0m\n",
      "\u001b[37m\u001b[01m[2021-05-20 01:26:39,211] [Epoch: 38] [Batch: 140 of 157] [Loss = 0.0017] [Accuracy = 100.00] [0.038 sec/batch]\u001b[0m\n",
      "\u001b[37m\u001b[01m[2021-05-20 01:26:39,652] [Epoch: 38] [Batch: 150 of 157] [Loss = 0.0015] [Accuracy = 100.00] [0.043 sec/batch]\u001b[0m\n",
      "\u001b[37m\u001b[01m[2021-05-20 01:26:39,957] [Epoch: 39] [Batch: 0 of 157] [Loss = 0.0013] [Accuracy = 100.00] [0.039 sec/batch]\u001b[0m\n"
     ]
    },
    {
     "name": "stdout",
     "output_type": "stream",
     "text": [
      "Epoch 39\n",
      "-------------------------------\n"
     ]
    },
    {
     "name": "stderr",
     "output_type": "stream",
     "text": [
      "\u001b[37m\u001b[01m[2021-05-20 01:26:40,390] [Epoch: 39] [Batch: 10 of 157] [Loss = 0.0012] [Accuracy = 100.00] [0.039 sec/batch]\u001b[0m\n",
      "\u001b[37m\u001b[01m[2021-05-20 01:26:40,813] [Epoch: 39] [Batch: 20 of 157] [Loss = 0.0014] [Accuracy = 100.00] [0.042 sec/batch]\u001b[0m\n",
      "\u001b[37m\u001b[01m[2021-05-20 01:26:41,233] [Epoch: 39] [Batch: 30 of 157] [Loss = 0.0012] [Accuracy = 100.00] [0.036 sec/batch]\u001b[0m\n",
      "\u001b[37m\u001b[01m[2021-05-20 01:26:41,653] [Epoch: 39] [Batch: 40 of 157] [Loss = 0.0013] [Accuracy = 100.00] [0.041 sec/batch]\u001b[0m\n",
      "\u001b[37m\u001b[01m[2021-05-20 01:26:42,080] [Epoch: 39] [Batch: 50 of 157] [Loss = 0.0012] [Accuracy = 100.00] [0.043 sec/batch]\u001b[0m\n",
      "\u001b[37m\u001b[01m[2021-05-20 01:26:42,508] [Epoch: 39] [Batch: 60 of 157] [Loss = 0.0012] [Accuracy = 100.00] [0.040 sec/batch]\u001b[0m\n",
      "\u001b[37m\u001b[01m[2021-05-20 01:26:42,943] [Epoch: 39] [Batch: 70 of 157] [Loss = 0.0012] [Accuracy = 100.00] [0.043 sec/batch]\u001b[0m\n",
      "\u001b[37m\u001b[01m[2021-05-20 01:26:43,364] [Epoch: 39] [Batch: 80 of 157] [Loss = 0.0015] [Accuracy = 100.00] [0.041 sec/batch]\u001b[0m\n",
      "\u001b[37m\u001b[01m[2021-05-20 01:26:43,786] [Epoch: 39] [Batch: 90 of 157] [Loss = 0.0013] [Accuracy = 100.00] [0.038 sec/batch]\u001b[0m\n",
      "\u001b[37m\u001b[01m[2021-05-20 01:26:44,212] [Epoch: 39] [Batch: 100 of 157] [Loss = 0.0014] [Accuracy = 100.00] [0.041 sec/batch]\u001b[0m\n",
      "\u001b[37m\u001b[01m[2021-05-20 01:26:44,641] [Epoch: 39] [Batch: 110 of 157] [Loss = 0.0013] [Accuracy = 100.00] [0.043 sec/batch]\u001b[0m\n",
      "\u001b[37m\u001b[01m[2021-05-20 01:26:45,070] [Epoch: 39] [Batch: 120 of 157] [Loss = 0.0012] [Accuracy = 100.00] [0.045 sec/batch]\u001b[0m\n",
      "\u001b[37m\u001b[01m[2021-05-20 01:26:45,488] [Epoch: 39] [Batch: 130 of 157] [Loss = 0.0015] [Accuracy = 100.00] [0.041 sec/batch]\u001b[0m\n",
      "\u001b[37m\u001b[01m[2021-05-20 01:26:45,908] [Epoch: 39] [Batch: 140 of 157] [Loss = 0.0013] [Accuracy = 100.00] [0.041 sec/batch]\u001b[0m\n",
      "\u001b[37m\u001b[01m[2021-05-20 01:26:46,344] [Epoch: 39] [Batch: 150 of 157] [Loss = 0.0010] [Accuracy = 100.00] [0.043 sec/batch]\u001b[0m\n",
      "\u001b[37m\u001b[01m[2021-05-20 01:26:46,644] [Epoch: 40] [Batch: 0 of 157] [Loss = 0.0010] [Accuracy = 100.00] [0.044 sec/batch]\u001b[0m\n"
     ]
    },
    {
     "name": "stdout",
     "output_type": "stream",
     "text": [
      "Epoch 40\n",
      "-------------------------------\n"
     ]
    },
    {
     "name": "stderr",
     "output_type": "stream",
     "text": [
      "\u001b[37m\u001b[01m[2021-05-20 01:26:47,075] [Epoch: 40] [Batch: 10 of 157] [Loss = 0.0014] [Accuracy = 100.00] [0.044 sec/batch]\u001b[0m\n",
      "\u001b[37m\u001b[01m[2021-05-20 01:26:47,496] [Epoch: 40] [Batch: 20 of 157] [Loss = 0.0011] [Accuracy = 100.00] [0.041 sec/batch]\u001b[0m\n",
      "\u001b[37m\u001b[01m[2021-05-20 01:26:47,910] [Epoch: 40] [Batch: 30 of 157] [Loss = 0.0011] [Accuracy = 100.00] [0.039 sec/batch]\u001b[0m\n",
      "\u001b[37m\u001b[01m[2021-05-20 01:26:48,319] [Epoch: 40] [Batch: 40 of 157] [Loss = 0.0013] [Accuracy = 100.00] [0.039 sec/batch]\u001b[0m\n",
      "\u001b[37m\u001b[01m[2021-05-20 01:26:48,737] [Epoch: 40] [Batch: 50 of 157] [Loss = 0.0010] [Accuracy = 100.00] [0.040 sec/batch]\u001b[0m\n",
      "\u001b[37m\u001b[01m[2021-05-20 01:26:49,166] [Epoch: 40] [Batch: 60 of 157] [Loss = 0.0013] [Accuracy = 100.00] [0.045 sec/batch]\u001b[0m\n",
      "\u001b[37m\u001b[01m[2021-05-20 01:26:49,588] [Epoch: 40] [Batch: 70 of 157] [Loss = 0.0012] [Accuracy = 100.00] [0.040 sec/batch]\u001b[0m\n",
      "\u001b[37m\u001b[01m[2021-05-20 01:26:50,010] [Epoch: 40] [Batch: 80 of 157] [Loss = 0.0011] [Accuracy = 100.00] [0.039 sec/batch]\u001b[0m\n",
      "\u001b[37m\u001b[01m[2021-05-20 01:26:50,436] [Epoch: 40] [Batch: 90 of 157] [Loss = 0.0013] [Accuracy = 100.00] [0.044 sec/batch]\u001b[0m\n",
      "\u001b[37m\u001b[01m[2021-05-20 01:26:50,876] [Epoch: 40] [Batch: 100 of 157] [Loss = 0.0012] [Accuracy = 100.00] [0.043 sec/batch]\u001b[0m\n",
      "\u001b[37m\u001b[01m[2021-05-20 01:26:51,310] [Epoch: 40] [Batch: 110 of 157] [Loss = 0.0010] [Accuracy = 100.00] [0.044 sec/batch]\u001b[0m\n",
      "\u001b[37m\u001b[01m[2021-05-20 01:26:51,751] [Epoch: 40] [Batch: 120 of 157] [Loss = 0.0013] [Accuracy = 100.00] [0.045 sec/batch]\u001b[0m\n",
      "\u001b[37m\u001b[01m[2021-05-20 01:26:52,180] [Epoch: 40] [Batch: 130 of 157] [Loss = 0.0012] [Accuracy = 100.00] [0.044 sec/batch]\u001b[0m\n",
      "\u001b[37m\u001b[01m[2021-05-20 01:26:52,616] [Epoch: 40] [Batch: 140 of 157] [Loss = 0.0013] [Accuracy = 100.00] [0.045 sec/batch]\u001b[0m\n",
      "\u001b[37m\u001b[01m[2021-05-20 01:26:53,030] [Epoch: 40] [Batch: 150 of 157] [Loss = 0.0010] [Accuracy = 100.00] [0.043 sec/batch]\u001b[0m\n",
      "\u001b[37m\u001b[01m[2021-05-20 01:26:53,328] [Epoch: 41] [Batch: 0 of 157] [Loss = 0.0010] [Accuracy = 100.00] [0.039 sec/batch]\u001b[0m\n"
     ]
    },
    {
     "name": "stdout",
     "output_type": "stream",
     "text": [
      "Epoch 41\n",
      "-------------------------------\n"
     ]
    },
    {
     "name": "stderr",
     "output_type": "stream",
     "text": [
      "\u001b[37m\u001b[01m[2021-05-20 01:26:53,756] [Epoch: 41] [Batch: 10 of 157] [Loss = 0.0014] [Accuracy = 100.00] [0.040 sec/batch]\u001b[0m\n",
      "\u001b[37m\u001b[01m[2021-05-20 01:26:54,186] [Epoch: 41] [Batch: 20 of 157] [Loss = 0.0011] [Accuracy = 100.00] [0.041 sec/batch]\u001b[0m\n",
      "\u001b[37m\u001b[01m[2021-05-20 01:26:54,611] [Epoch: 41] [Batch: 30 of 157] [Loss = 0.0009] [Accuracy = 100.00] [0.039 sec/batch]\u001b[0m\n",
      "\u001b[37m\u001b[01m[2021-05-20 01:26:55,039] [Epoch: 41] [Batch: 40 of 157] [Loss = 0.0011] [Accuracy = 100.00] [0.044 sec/batch]\u001b[0m\n",
      "\u001b[37m\u001b[01m[2021-05-20 01:26:55,459] [Epoch: 41] [Batch: 50 of 157] [Loss = 0.0009] [Accuracy = 100.00] [0.039 sec/batch]\u001b[0m\n",
      "\u001b[37m\u001b[01m[2021-05-20 01:26:55,877] [Epoch: 41] [Batch: 60 of 157] [Loss = 0.0009] [Accuracy = 100.00] [0.035 sec/batch]\u001b[0m\n",
      "\u001b[37m\u001b[01m[2021-05-20 01:26:56,289] [Epoch: 41] [Batch: 70 of 157] [Loss = 0.0009] [Accuracy = 100.00] [0.041 sec/batch]\u001b[0m\n",
      "\u001b[37m\u001b[01m[2021-05-20 01:26:56,710] [Epoch: 41] [Batch: 80 of 157] [Loss = 0.0009] [Accuracy = 100.00] [0.045 sec/batch]\u001b[0m\n",
      "\u001b[37m\u001b[01m[2021-05-20 01:26:57,131] [Epoch: 41] [Batch: 90 of 157] [Loss = 0.0010] [Accuracy = 100.00] [0.043 sec/batch]\u001b[0m\n",
      "\u001b[37m\u001b[01m[2021-05-20 01:26:57,550] [Epoch: 41] [Batch: 100 of 157] [Loss = 0.0008] [Accuracy = 100.00] [0.041 sec/batch]\u001b[0m\n",
      "\u001b[37m\u001b[01m[2021-05-20 01:26:57,984] [Epoch: 41] [Batch: 110 of 157] [Loss = 0.0011] [Accuracy = 100.00] [0.038 sec/batch]\u001b[0m\n",
      "\u001b[37m\u001b[01m[2021-05-20 01:26:58,412] [Epoch: 41] [Batch: 120 of 157] [Loss = 0.0010] [Accuracy = 100.00] [0.040 sec/batch]\u001b[0m\n",
      "\u001b[37m\u001b[01m[2021-05-20 01:26:58,837] [Epoch: 41] [Batch: 130 of 157] [Loss = 0.0010] [Accuracy = 100.00] [0.043 sec/batch]\u001b[0m\n",
      "\u001b[37m\u001b[01m[2021-05-20 01:26:59,253] [Epoch: 41] [Batch: 140 of 157] [Loss = 0.0011] [Accuracy = 100.00] [0.044 sec/batch]\u001b[0m\n",
      "\u001b[37m\u001b[01m[2021-05-20 01:26:59,668] [Epoch: 41] [Batch: 150 of 157] [Loss = 0.0012] [Accuracy = 100.00] [0.042 sec/batch]\u001b[0m\n",
      "\u001b[37m\u001b[01m[2021-05-20 01:26:59,953] [Epoch: 42] [Batch: 0 of 157] [Loss = 0.0009] [Accuracy = 100.00] [0.044 sec/batch]\u001b[0m\n"
     ]
    },
    {
     "name": "stdout",
     "output_type": "stream",
     "text": [
      "Epoch 42\n",
      "-------------------------------\n"
     ]
    },
    {
     "name": "stderr",
     "output_type": "stream",
     "text": [
      "\u001b[37m\u001b[01m[2021-05-20 01:27:00,363] [Epoch: 42] [Batch: 10 of 157] [Loss = 0.0010] [Accuracy = 100.00] [0.038 sec/batch]\u001b[0m\n",
      "\u001b[37m\u001b[01m[2021-05-20 01:27:00,768] [Epoch: 42] [Batch: 20 of 157] [Loss = 0.0008] [Accuracy = 100.00] [0.039 sec/batch]\u001b[0m\n",
      "\u001b[37m\u001b[01m[2021-05-20 01:27:01,174] [Epoch: 42] [Batch: 30 of 157] [Loss = 0.0008] [Accuracy = 100.00] [0.038 sec/batch]\u001b[0m\n",
      "\u001b[37m\u001b[01m[2021-05-20 01:27:01,583] [Epoch: 42] [Batch: 40 of 157] [Loss = 0.0009] [Accuracy = 100.00] [0.040 sec/batch]\u001b[0m\n",
      "\u001b[37m\u001b[01m[2021-05-20 01:27:02,003] [Epoch: 42] [Batch: 50 of 157] [Loss = 0.0007] [Accuracy = 100.00] [0.042 sec/batch]\u001b[0m\n",
      "\u001b[37m\u001b[01m[2021-05-20 01:27:02,408] [Epoch: 42] [Batch: 60 of 157] [Loss = 0.0011] [Accuracy = 100.00] [0.041 sec/batch]\u001b[0m\n",
      "\u001b[37m\u001b[01m[2021-05-20 01:27:02,829] [Epoch: 42] [Batch: 70 of 157] [Loss = 0.0009] [Accuracy = 100.00] [0.040 sec/batch]\u001b[0m\n",
      "\u001b[37m\u001b[01m[2021-05-20 01:27:03,241] [Epoch: 42] [Batch: 80 of 157] [Loss = 0.0010] [Accuracy = 100.00] [0.042 sec/batch]\u001b[0m\n",
      "\u001b[37m\u001b[01m[2021-05-20 01:27:03,668] [Epoch: 42] [Batch: 90 of 157] [Loss = 0.0010] [Accuracy = 100.00] [0.039 sec/batch]\u001b[0m\n",
      "\u001b[37m\u001b[01m[2021-05-20 01:27:04,097] [Epoch: 42] [Batch: 100 of 157] [Loss = 0.0007] [Accuracy = 100.00] [0.044 sec/batch]\u001b[0m\n",
      "\u001b[37m\u001b[01m[2021-05-20 01:27:04,523] [Epoch: 42] [Batch: 110 of 157] [Loss = 0.0010] [Accuracy = 100.00] [0.045 sec/batch]\u001b[0m\n",
      "\u001b[37m\u001b[01m[2021-05-20 01:27:04,964] [Epoch: 42] [Batch: 120 of 157] [Loss = 0.0010] [Accuracy = 100.00] [0.043 sec/batch]\u001b[0m\n",
      "\u001b[37m\u001b[01m[2021-05-20 01:27:05,372] [Epoch: 42] [Batch: 130 of 157] [Loss = 0.0010] [Accuracy = 100.00] [0.043 sec/batch]\u001b[0m\n",
      "\u001b[37m\u001b[01m[2021-05-20 01:27:05,788] [Epoch: 42] [Batch: 140 of 157] [Loss = 0.0008] [Accuracy = 100.00] [0.039 sec/batch]\u001b[0m\n",
      "\u001b[37m\u001b[01m[2021-05-20 01:27:06,236] [Epoch: 42] [Batch: 150 of 157] [Loss = 0.0011] [Accuracy = 100.00] [0.043 sec/batch]\u001b[0m\n",
      "\u001b[37m\u001b[01m[2021-05-20 01:27:06,536] [Epoch: 43] [Batch: 0 of 157] [Loss = 0.0008] [Accuracy = 100.00] [0.039 sec/batch]\u001b[0m\n"
     ]
    },
    {
     "name": "stdout",
     "output_type": "stream",
     "text": [
      "Epoch 43\n",
      "-------------------------------\n"
     ]
    },
    {
     "name": "stderr",
     "output_type": "stream",
     "text": [
      "\u001b[37m\u001b[01m[2021-05-20 01:27:06,951] [Epoch: 43] [Batch: 10 of 157] [Loss = 0.0008] [Accuracy = 100.00] [0.041 sec/batch]\u001b[0m\n",
      "\u001b[37m\u001b[01m[2021-05-20 01:27:07,374] [Epoch: 43] [Batch: 20 of 157] [Loss = 0.0008] [Accuracy = 100.00] [0.044 sec/batch]\u001b[0m\n",
      "\u001b[37m\u001b[01m[2021-05-20 01:27:07,793] [Epoch: 43] [Batch: 30 of 157] [Loss = 0.0010] [Accuracy = 100.00] [0.040 sec/batch]\u001b[0m\n",
      "\u001b[37m\u001b[01m[2021-05-20 01:27:08,181] [Epoch: 43] [Batch: 40 of 157] [Loss = 0.0009] [Accuracy = 100.00] [0.036 sec/batch]\u001b[0m\n",
      "\u001b[37m\u001b[01m[2021-05-20 01:27:08,573] [Epoch: 43] [Batch: 50 of 157] [Loss = 0.0008] [Accuracy = 100.00] [0.040 sec/batch]\u001b[0m\n",
      "\u001b[37m\u001b[01m[2021-05-20 01:27:08,986] [Epoch: 43] [Batch: 60 of 157] [Loss = 0.0009] [Accuracy = 100.00] [0.041 sec/batch]\u001b[0m\n",
      "\u001b[37m\u001b[01m[2021-05-20 01:27:09,396] [Epoch: 43] [Batch: 70 of 157] [Loss = 0.0009] [Accuracy = 100.00] [0.042 sec/batch]\u001b[0m\n",
      "\u001b[37m\u001b[01m[2021-05-20 01:27:09,824] [Epoch: 43] [Batch: 80 of 157] [Loss = 0.0008] [Accuracy = 100.00] [0.042 sec/batch]\u001b[0m\n",
      "\u001b[37m\u001b[01m[2021-05-20 01:27:10,237] [Epoch: 43] [Batch: 90 of 157] [Loss = 0.0008] [Accuracy = 100.00] [0.040 sec/batch]\u001b[0m\n",
      "\u001b[37m\u001b[01m[2021-05-20 01:27:10,658] [Epoch: 43] [Batch: 100 of 157] [Loss = 0.0008] [Accuracy = 100.00] [0.038 sec/batch]\u001b[0m\n",
      "\u001b[37m\u001b[01m[2021-05-20 01:27:11,093] [Epoch: 43] [Batch: 110 of 157] [Loss = 0.0009] [Accuracy = 100.00] [0.043 sec/batch]\u001b[0m\n",
      "\u001b[37m\u001b[01m[2021-05-20 01:27:11,531] [Epoch: 43] [Batch: 120 of 157] [Loss = 0.0009] [Accuracy = 100.00] [0.042 sec/batch]\u001b[0m\n",
      "\u001b[37m\u001b[01m[2021-05-20 01:27:11,956] [Epoch: 43] [Batch: 130 of 157] [Loss = 0.0008] [Accuracy = 100.00] [0.045 sec/batch]\u001b[0m\n",
      "\u001b[37m\u001b[01m[2021-05-20 01:27:12,384] [Epoch: 43] [Batch: 140 of 157] [Loss = 0.0008] [Accuracy = 100.00] [0.044 sec/batch]\u001b[0m\n",
      "\u001b[37m\u001b[01m[2021-05-20 01:27:12,814] [Epoch: 43] [Batch: 150 of 157] [Loss = 0.0009] [Accuracy = 100.00] [0.041 sec/batch]\u001b[0m\n",
      "\u001b[37m\u001b[01m[2021-05-20 01:27:13,112] [Epoch: 44] [Batch: 0 of 157] [Loss = 0.0008] [Accuracy = 100.00] [0.040 sec/batch]\u001b[0m\n"
     ]
    },
    {
     "name": "stdout",
     "output_type": "stream",
     "text": [
      "Epoch 44\n",
      "-------------------------------\n"
     ]
    },
    {
     "name": "stderr",
     "output_type": "stream",
     "text": [
      "\u001b[37m\u001b[01m[2021-05-20 01:27:13,530] [Epoch: 44] [Batch: 10 of 157] [Loss = 0.0007] [Accuracy = 100.00] [0.042 sec/batch]\u001b[0m\n",
      "\u001b[37m\u001b[01m[2021-05-20 01:27:13,945] [Epoch: 44] [Batch: 20 of 157] [Loss = 0.0006] [Accuracy = 100.00] [0.039 sec/batch]\u001b[0m\n",
      "\u001b[37m\u001b[01m[2021-05-20 01:27:14,358] [Epoch: 44] [Batch: 30 of 157] [Loss = 0.0007] [Accuracy = 100.00] [0.039 sec/batch]\u001b[0m\n",
      "\u001b[37m\u001b[01m[2021-05-20 01:27:14,764] [Epoch: 44] [Batch: 40 of 157] [Loss = 0.0007] [Accuracy = 100.00] [0.041 sec/batch]\u001b[0m\n",
      "\u001b[37m\u001b[01m[2021-05-20 01:27:15,177] [Epoch: 44] [Batch: 50 of 157] [Loss = 0.0008] [Accuracy = 100.00] [0.037 sec/batch]\u001b[0m\n",
      "\u001b[37m\u001b[01m[2021-05-20 01:27:15,586] [Epoch: 44] [Batch: 60 of 157] [Loss = 0.0007] [Accuracy = 100.00] [0.038 sec/batch]\u001b[0m\n",
      "\u001b[37m\u001b[01m[2021-05-20 01:27:16,001] [Epoch: 44] [Batch: 70 of 157] [Loss = 0.0008] [Accuracy = 100.00] [0.040 sec/batch]\u001b[0m\n",
      "\u001b[37m\u001b[01m[2021-05-20 01:27:16,398] [Epoch: 44] [Batch: 80 of 157] [Loss = 0.0008] [Accuracy = 100.00] [0.039 sec/batch]\u001b[0m\n",
      "\u001b[37m\u001b[01m[2021-05-20 01:27:16,821] [Epoch: 44] [Batch: 90 of 157] [Loss = 0.0010] [Accuracy = 100.00] [0.039 sec/batch]\u001b[0m\n",
      "\u001b[37m\u001b[01m[2021-05-20 01:27:17,238] [Epoch: 44] [Batch: 100 of 157] [Loss = 0.0009] [Accuracy = 100.00] [0.039 sec/batch]\u001b[0m\n",
      "\u001b[37m\u001b[01m[2021-05-20 01:27:17,654] [Epoch: 44] [Batch: 110 of 157] [Loss = 0.0006] [Accuracy = 100.00] [0.042 sec/batch]\u001b[0m\n",
      "\u001b[37m\u001b[01m[2021-05-20 01:27:18,074] [Epoch: 44] [Batch: 120 of 157] [Loss = 0.0008] [Accuracy = 100.00] [0.044 sec/batch]\u001b[0m\n",
      "\u001b[37m\u001b[01m[2021-05-20 01:27:18,482] [Epoch: 44] [Batch: 130 of 157] [Loss = 0.0006] [Accuracy = 100.00] [0.041 sec/batch]\u001b[0m\n",
      "\u001b[37m\u001b[01m[2021-05-20 01:27:18,896] [Epoch: 44] [Batch: 140 of 157] [Loss = 0.0006] [Accuracy = 100.00] [0.039 sec/batch]\u001b[0m\n",
      "\u001b[37m\u001b[01m[2021-05-20 01:27:19,316] [Epoch: 44] [Batch: 150 of 157] [Loss = 0.0007] [Accuracy = 100.00] [0.039 sec/batch]\u001b[0m\n",
      "\u001b[37m\u001b[01m[2021-05-20 01:27:19,604] [Epoch: 45] [Batch: 0 of 157] [Loss = 0.0007] [Accuracy = 100.00] [0.039 sec/batch]\u001b[0m\n"
     ]
    },
    {
     "name": "stdout",
     "output_type": "stream",
     "text": [
      "Epoch 45\n",
      "-------------------------------\n"
     ]
    },
    {
     "name": "stderr",
     "output_type": "stream",
     "text": [
      "\u001b[37m\u001b[01m[2021-05-20 01:27:20,016] [Epoch: 45] [Batch: 10 of 157] [Loss = 0.0006] [Accuracy = 100.00] [0.040 sec/batch]\u001b[0m\n",
      "\u001b[37m\u001b[01m[2021-05-20 01:27:20,424] [Epoch: 45] [Batch: 20 of 157] [Loss = 0.0007] [Accuracy = 100.00] [0.039 sec/batch]\u001b[0m\n",
      "\u001b[37m\u001b[01m[2021-05-20 01:27:20,824] [Epoch: 45] [Batch: 30 of 157] [Loss = 0.0006] [Accuracy = 100.00] [0.039 sec/batch]\u001b[0m\n",
      "\u001b[37m\u001b[01m[2021-05-20 01:27:21,252] [Epoch: 45] [Batch: 40 of 157] [Loss = 0.0007] [Accuracy = 100.00] [0.043 sec/batch]\u001b[0m\n",
      "\u001b[37m\u001b[01m[2021-05-20 01:27:21,672] [Epoch: 45] [Batch: 50 of 157] [Loss = 0.0006] [Accuracy = 100.00] [0.040 sec/batch]\u001b[0m\n",
      "\u001b[37m\u001b[01m[2021-05-20 01:27:22,087] [Epoch: 45] [Batch: 60 of 157] [Loss = 0.0007] [Accuracy = 100.00] [0.040 sec/batch]\u001b[0m\n",
      "\u001b[37m\u001b[01m[2021-05-20 01:27:22,523] [Epoch: 45] [Batch: 70 of 157] [Loss = 0.0006] [Accuracy = 100.00] [0.046 sec/batch]\u001b[0m\n",
      "\u001b[37m\u001b[01m[2021-05-20 01:27:22,944] [Epoch: 45] [Batch: 80 of 157] [Loss = 0.0006] [Accuracy = 100.00] [0.040 sec/batch]\u001b[0m\n",
      "\u001b[37m\u001b[01m[2021-05-20 01:27:23,350] [Epoch: 45] [Batch: 90 of 157] [Loss = 0.0007] [Accuracy = 100.00] [0.037 sec/batch]\u001b[0m\n",
      "\u001b[37m\u001b[01m[2021-05-20 01:27:23,788] [Epoch: 45] [Batch: 100 of 157] [Loss = 0.0007] [Accuracy = 100.00] [0.044 sec/batch]\u001b[0m\n",
      "\u001b[37m\u001b[01m[2021-05-20 01:27:24,202] [Epoch: 45] [Batch: 110 of 157] [Loss = 0.0006] [Accuracy = 100.00] [0.040 sec/batch]\u001b[0m\n",
      "\u001b[37m\u001b[01m[2021-05-20 01:27:24,630] [Epoch: 45] [Batch: 120 of 157] [Loss = 0.0007] [Accuracy = 100.00] [0.040 sec/batch]\u001b[0m\n",
      "\u001b[37m\u001b[01m[2021-05-20 01:27:25,060] [Epoch: 45] [Batch: 130 of 157] [Loss = 0.0006] [Accuracy = 100.00] [0.041 sec/batch]\u001b[0m\n",
      "\u001b[37m\u001b[01m[2021-05-20 01:27:25,477] [Epoch: 45] [Batch: 140 of 157] [Loss = 0.0005] [Accuracy = 100.00] [0.035 sec/batch]\u001b[0m\n",
      "\u001b[37m\u001b[01m[2021-05-20 01:27:25,877] [Epoch: 45] [Batch: 150 of 157] [Loss = 0.0006] [Accuracy = 100.00] [0.037 sec/batch]\u001b[0m\n",
      "\u001b[37m\u001b[01m[2021-05-20 01:27:26,163] [Epoch: 46] [Batch: 0 of 157] [Loss = 0.0006] [Accuracy = 100.00] [0.040 sec/batch]\u001b[0m\n"
     ]
    },
    {
     "name": "stdout",
     "output_type": "stream",
     "text": [
      "Epoch 46\n",
      "-------------------------------\n"
     ]
    },
    {
     "name": "stderr",
     "output_type": "stream",
     "text": [
      "\u001b[37m\u001b[01m[2021-05-20 01:27:26,564] [Epoch: 46] [Batch: 10 of 157] [Loss = 0.0007] [Accuracy = 100.00] [0.036 sec/batch]\u001b[0m\n",
      "\u001b[37m\u001b[01m[2021-05-20 01:27:26,959] [Epoch: 46] [Batch: 20 of 157] [Loss = 0.0006] [Accuracy = 100.00] [0.042 sec/batch]\u001b[0m\n",
      "\u001b[37m\u001b[01m[2021-05-20 01:27:27,382] [Epoch: 46] [Batch: 30 of 157] [Loss = 0.0006] [Accuracy = 100.00] [0.044 sec/batch]\u001b[0m\n",
      "\u001b[37m\u001b[01m[2021-05-20 01:27:27,806] [Epoch: 46] [Batch: 40 of 157] [Loss = 0.0007] [Accuracy = 100.00] [0.042 sec/batch]\u001b[0m\n",
      "\u001b[37m\u001b[01m[2021-05-20 01:27:28,231] [Epoch: 46] [Batch: 50 of 157] [Loss = 0.0005] [Accuracy = 100.00] [0.038 sec/batch]\u001b[0m\n",
      "\u001b[37m\u001b[01m[2021-05-20 01:27:28,653] [Epoch: 46] [Batch: 60 of 157] [Loss = 0.0005] [Accuracy = 100.00] [0.039 sec/batch]\u001b[0m\n",
      "\u001b[37m\u001b[01m[2021-05-20 01:27:29,059] [Epoch: 46] [Batch: 70 of 157] [Loss = 0.0006] [Accuracy = 100.00] [0.040 sec/batch]\u001b[0m\n",
      "\u001b[37m\u001b[01m[2021-05-20 01:27:29,463] [Epoch: 46] [Batch: 80 of 157] [Loss = 0.0006] [Accuracy = 100.00] [0.037 sec/batch]\u001b[0m\n",
      "\u001b[37m\u001b[01m[2021-05-20 01:27:29,863] [Epoch: 46] [Batch: 90 of 157] [Loss = 0.0006] [Accuracy = 100.00] [0.039 sec/batch]\u001b[0m\n",
      "\u001b[37m\u001b[01m[2021-05-20 01:27:30,276] [Epoch: 46] [Batch: 100 of 157] [Loss = 0.0006] [Accuracy = 100.00] [0.040 sec/batch]\u001b[0m\n",
      "\u001b[37m\u001b[01m[2021-05-20 01:27:30,683] [Epoch: 46] [Batch: 110 of 157] [Loss = 0.0005] [Accuracy = 100.00] [0.042 sec/batch]\u001b[0m\n",
      "\u001b[37m\u001b[01m[2021-05-20 01:27:31,099] [Epoch: 46] [Batch: 120 of 157] [Loss = 0.0005] [Accuracy = 100.00] [0.044 sec/batch]\u001b[0m\n",
      "\u001b[37m\u001b[01m[2021-05-20 01:27:31,520] [Epoch: 46] [Batch: 130 of 157] [Loss = 0.0007] [Accuracy = 100.00] [0.047 sec/batch]\u001b[0m\n",
      "\u001b[37m\u001b[01m[2021-05-20 01:27:31,949] [Epoch: 46] [Batch: 140 of 157] [Loss = 0.0007] [Accuracy = 100.00] [0.041 sec/batch]\u001b[0m\n",
      "\u001b[37m\u001b[01m[2021-05-20 01:27:32,352] [Epoch: 46] [Batch: 150 of 157] [Loss = 0.0005] [Accuracy = 100.00] [0.039 sec/batch]\u001b[0m\n",
      "\u001b[37m\u001b[01m[2021-05-20 01:27:32,636] [Epoch: 47] [Batch: 0 of 157] [Loss = 0.0005] [Accuracy = 100.00] [0.042 sec/batch]\u001b[0m\n"
     ]
    },
    {
     "name": "stdout",
     "output_type": "stream",
     "text": [
      "Epoch 47\n",
      "-------------------------------\n"
     ]
    },
    {
     "name": "stderr",
     "output_type": "stream",
     "text": [
      "\u001b[37m\u001b[01m[2021-05-20 01:27:33,054] [Epoch: 47] [Batch: 10 of 157] [Loss = 0.0004] [Accuracy = 100.00] [0.038 sec/batch]\u001b[0m\n",
      "\u001b[37m\u001b[01m[2021-05-20 01:27:33,472] [Epoch: 47] [Batch: 20 of 157] [Loss = 0.0006] [Accuracy = 100.00] [0.040 sec/batch]\u001b[0m\n",
      "\u001b[37m\u001b[01m[2021-05-20 01:27:33,913] [Epoch: 47] [Batch: 30 of 157] [Loss = 0.0005] [Accuracy = 100.00] [0.044 sec/batch]\u001b[0m\n",
      "\u001b[37m\u001b[01m[2021-05-20 01:27:34,356] [Epoch: 47] [Batch: 40 of 157] [Loss = 0.0005] [Accuracy = 100.00] [0.044 sec/batch]\u001b[0m\n",
      "\u001b[37m\u001b[01m[2021-05-20 01:27:34,768] [Epoch: 47] [Batch: 50 of 157] [Loss = 0.0005] [Accuracy = 100.00] [0.043 sec/batch]\u001b[0m\n",
      "\u001b[37m\u001b[01m[2021-05-20 01:27:35,193] [Epoch: 47] [Batch: 60 of 157] [Loss = 0.0005] [Accuracy = 100.00] [0.039 sec/batch]\u001b[0m\n",
      "\u001b[37m\u001b[01m[2021-05-20 01:27:35,615] [Epoch: 47] [Batch: 70 of 157] [Loss = 0.0005] [Accuracy = 100.00] [0.041 sec/batch]\u001b[0m\n",
      "\u001b[37m\u001b[01m[2021-05-20 01:27:36,025] [Epoch: 47] [Batch: 80 of 157] [Loss = 0.0006] [Accuracy = 100.00] [0.045 sec/batch]\u001b[0m\n",
      "\u001b[37m\u001b[01m[2021-05-20 01:27:36,448] [Epoch: 47] [Batch: 90 of 157] [Loss = 0.0006] [Accuracy = 100.00] [0.040 sec/batch]\u001b[0m\n",
      "\u001b[37m\u001b[01m[2021-05-20 01:27:36,871] [Epoch: 47] [Batch: 100 of 157] [Loss = 0.0006] [Accuracy = 100.00] [0.041 sec/batch]\u001b[0m\n",
      "\u001b[37m\u001b[01m[2021-05-20 01:27:37,291] [Epoch: 47] [Batch: 110 of 157] [Loss = 0.0005] [Accuracy = 100.00] [0.039 sec/batch]\u001b[0m\n",
      "\u001b[37m\u001b[01m[2021-05-20 01:27:37,713] [Epoch: 47] [Batch: 120 of 157] [Loss = 0.0006] [Accuracy = 100.00] [0.040 sec/batch]\u001b[0m\n",
      "\u001b[37m\u001b[01m[2021-05-20 01:27:38,123] [Epoch: 47] [Batch: 130 of 157] [Loss = 0.0005] [Accuracy = 100.00] [0.042 sec/batch]\u001b[0m\n",
      "\u001b[37m\u001b[01m[2021-05-20 01:27:38,548] [Epoch: 47] [Batch: 140 of 157] [Loss = 0.0005] [Accuracy = 100.00] [0.043 sec/batch]\u001b[0m\n",
      "\u001b[37m\u001b[01m[2021-05-20 01:27:38,977] [Epoch: 47] [Batch: 150 of 157] [Loss = 0.0006] [Accuracy = 100.00] [0.043 sec/batch]\u001b[0m\n",
      "\u001b[37m\u001b[01m[2021-05-20 01:27:39,281] [Epoch: 48] [Batch: 0 of 157] [Loss = 0.0005] [Accuracy = 100.00] [0.040 sec/batch]\u001b[0m\n"
     ]
    },
    {
     "name": "stdout",
     "output_type": "stream",
     "text": [
      "Epoch 48\n",
      "-------------------------------\n"
     ]
    },
    {
     "name": "stderr",
     "output_type": "stream",
     "text": [
      "\u001b[37m\u001b[01m[2021-05-20 01:27:39,710] [Epoch: 48] [Batch: 10 of 157] [Loss = 0.0006] [Accuracy = 100.00] [0.039 sec/batch]\u001b[0m\n",
      "\u001b[37m\u001b[01m[2021-05-20 01:27:40,135] [Epoch: 48] [Batch: 20 of 157] [Loss = 0.0005] [Accuracy = 100.00] [0.044 sec/batch]\u001b[0m\n",
      "\u001b[37m\u001b[01m[2021-05-20 01:27:40,561] [Epoch: 48] [Batch: 30 of 157] [Loss = 0.0005] [Accuracy = 100.00] [0.040 sec/batch]\u001b[0m\n",
      "\u001b[37m\u001b[01m[2021-05-20 01:27:40,994] [Epoch: 48] [Batch: 40 of 157] [Loss = 0.0005] [Accuracy = 100.00] [0.040 sec/batch]\u001b[0m\n",
      "\u001b[37m\u001b[01m[2021-05-20 01:27:41,431] [Epoch: 48] [Batch: 50 of 157] [Loss = 0.0005] [Accuracy = 100.00] [0.041 sec/batch]\u001b[0m\n",
      "\u001b[37m\u001b[01m[2021-05-20 01:27:41,871] [Epoch: 48] [Batch: 60 of 157] [Loss = 0.0005] [Accuracy = 100.00] [0.041 sec/batch]\u001b[0m\n",
      "\u001b[37m\u001b[01m[2021-05-20 01:27:42,320] [Epoch: 48] [Batch: 70 of 157] [Loss = 0.0004] [Accuracy = 100.00] [0.043 sec/batch]\u001b[0m\n",
      "\u001b[37m\u001b[01m[2021-05-20 01:27:42,745] [Epoch: 48] [Batch: 80 of 157] [Loss = 0.0005] [Accuracy = 100.00] [0.043 sec/batch]\u001b[0m\n",
      "\u001b[37m\u001b[01m[2021-05-20 01:27:43,171] [Epoch: 48] [Batch: 90 of 157] [Loss = 0.0005] [Accuracy = 100.00] [0.040 sec/batch]\u001b[0m\n",
      "\u001b[37m\u001b[01m[2021-05-20 01:27:43,591] [Epoch: 48] [Batch: 100 of 157] [Loss = 0.0005] [Accuracy = 100.00] [0.038 sec/batch]\u001b[0m\n",
      "\u001b[37m\u001b[01m[2021-05-20 01:27:44,008] [Epoch: 48] [Batch: 110 of 157] [Loss = 0.0005] [Accuracy = 100.00] [0.045 sec/batch]\u001b[0m\n",
      "\u001b[37m\u001b[01m[2021-05-20 01:27:44,423] [Epoch: 48] [Batch: 120 of 157] [Loss = 0.0004] [Accuracy = 100.00] [0.043 sec/batch]\u001b[0m\n",
      "\u001b[37m\u001b[01m[2021-05-20 01:27:44,844] [Epoch: 48] [Batch: 130 of 157] [Loss = 0.0004] [Accuracy = 100.00] [0.040 sec/batch]\u001b[0m\n",
      "\u001b[37m\u001b[01m[2021-05-20 01:27:45,272] [Epoch: 48] [Batch: 140 of 157] [Loss = 0.0005] [Accuracy = 100.00] [0.043 sec/batch]\u001b[0m\n",
      "\u001b[37m\u001b[01m[2021-05-20 01:27:45,696] [Epoch: 48] [Batch: 150 of 157] [Loss = 0.0004] [Accuracy = 100.00] [0.039 sec/batch]\u001b[0m\n",
      "\u001b[37m\u001b[01m[2021-05-20 01:27:45,992] [Epoch: 49] [Batch: 0 of 157] [Loss = 0.0003] [Accuracy = 100.00] [0.040 sec/batch]\u001b[0m\n"
     ]
    },
    {
     "name": "stdout",
     "output_type": "stream",
     "text": [
      "Epoch 49\n",
      "-------------------------------\n"
     ]
    },
    {
     "name": "stderr",
     "output_type": "stream",
     "text": [
      "\u001b[37m\u001b[01m[2021-05-20 01:27:46,416] [Epoch: 49] [Batch: 10 of 157] [Loss = 0.0004] [Accuracy = 100.00] [0.044 sec/batch]\u001b[0m\n",
      "\u001b[37m\u001b[01m[2021-05-20 01:27:46,845] [Epoch: 49] [Batch: 20 of 157] [Loss = 0.0004] [Accuracy = 100.00] [0.043 sec/batch]\u001b[0m\n",
      "\u001b[37m\u001b[01m[2021-05-20 01:27:47,275] [Epoch: 49] [Batch: 30 of 157] [Loss = 0.0004] [Accuracy = 100.00] [0.040 sec/batch]\u001b[0m\n",
      "\u001b[37m\u001b[01m[2021-05-20 01:27:47,671] [Epoch: 49] [Batch: 40 of 157] [Loss = 0.0005] [Accuracy = 100.00] [0.037 sec/batch]\u001b[0m\n",
      "\u001b[37m\u001b[01m[2021-05-20 01:27:48,083] [Epoch: 49] [Batch: 50 of 157] [Loss = 0.0003] [Accuracy = 100.00] [0.042 sec/batch]\u001b[0m\n",
      "\u001b[37m\u001b[01m[2021-05-20 01:27:48,507] [Epoch: 49] [Batch: 60 of 157] [Loss = 0.0004] [Accuracy = 100.00] [0.039 sec/batch]\u001b[0m\n",
      "\u001b[37m\u001b[01m[2021-05-20 01:27:48,918] [Epoch: 49] [Batch: 70 of 157] [Loss = 0.0004] [Accuracy = 100.00] [0.041 sec/batch]\u001b[0m\n",
      "\u001b[37m\u001b[01m[2021-05-20 01:27:49,329] [Epoch: 49] [Batch: 80 of 157] [Loss = 0.0004] [Accuracy = 100.00] [0.038 sec/batch]\u001b[0m\n",
      "\u001b[37m\u001b[01m[2021-05-20 01:27:49,755] [Epoch: 49] [Batch: 90 of 157] [Loss = 0.0005] [Accuracy = 100.00] [0.042 sec/batch]\u001b[0m\n",
      "\u001b[37m\u001b[01m[2021-05-20 01:27:50,171] [Epoch: 49] [Batch: 100 of 157] [Loss = 0.0004] [Accuracy = 100.00] [0.039 sec/batch]\u001b[0m\n",
      "\u001b[37m\u001b[01m[2021-05-20 01:27:50,608] [Epoch: 49] [Batch: 110 of 157] [Loss = 0.0005] [Accuracy = 100.00] [0.043 sec/batch]\u001b[0m\n",
      "\u001b[37m\u001b[01m[2021-05-20 01:27:51,014] [Epoch: 49] [Batch: 120 of 157] [Loss = 0.0004] [Accuracy = 100.00] [0.039 sec/batch]\u001b[0m\n",
      "\u001b[37m\u001b[01m[2021-05-20 01:27:51,411] [Epoch: 49] [Batch: 130 of 157] [Loss = 0.0005] [Accuracy = 100.00] [0.043 sec/batch]\u001b[0m\n",
      "\u001b[37m\u001b[01m[2021-05-20 01:27:51,838] [Epoch: 49] [Batch: 140 of 157] [Loss = 0.0005] [Accuracy = 100.00] [0.038 sec/batch]\u001b[0m\n",
      "\u001b[37m\u001b[01m[2021-05-20 01:27:52,251] [Epoch: 49] [Batch: 150 of 157] [Loss = 0.0003] [Accuracy = 100.00] [0.040 sec/batch]\u001b[0m\n",
      "\u001b[37m\u001b[01m[2021-05-20 01:27:52,539] [Epoch: 50] [Batch: 0 of 157] [Loss = 0.0004] [Accuracy = 100.00] [0.039 sec/batch]\u001b[0m\n"
     ]
    },
    {
     "name": "stdout",
     "output_type": "stream",
     "text": [
      "Epoch 50\n",
      "-------------------------------\n"
     ]
    },
    {
     "name": "stderr",
     "output_type": "stream",
     "text": [
      "\u001b[37m\u001b[01m[2021-05-20 01:27:52,949] [Epoch: 50] [Batch: 10 of 157] [Loss = 0.0003] [Accuracy = 100.00] [0.040 sec/batch]\u001b[0m\n",
      "\u001b[37m\u001b[01m[2021-05-20 01:27:53,356] [Epoch: 50] [Batch: 20 of 157] [Loss = 0.0004] [Accuracy = 100.00] [0.041 sec/batch]\u001b[0m\n",
      "\u001b[37m\u001b[01m[2021-05-20 01:27:53,778] [Epoch: 50] [Batch: 30 of 157] [Loss = 0.0004] [Accuracy = 100.00] [0.039 sec/batch]\u001b[0m\n",
      "\u001b[37m\u001b[01m[2021-05-20 01:27:54,207] [Epoch: 50] [Batch: 40 of 157] [Loss = 0.0003] [Accuracy = 100.00] [0.045 sec/batch]\u001b[0m\n",
      "\u001b[37m\u001b[01m[2021-05-20 01:27:54,611] [Epoch: 50] [Batch: 50 of 157] [Loss = 0.0004] [Accuracy = 100.00] [0.040 sec/batch]\u001b[0m\n",
      "\u001b[37m\u001b[01m[2021-05-20 01:27:55,017] [Epoch: 50] [Batch: 60 of 157] [Loss = 0.0004] [Accuracy = 100.00] [0.042 sec/batch]\u001b[0m\n",
      "\u001b[37m\u001b[01m[2021-05-20 01:27:55,427] [Epoch: 50] [Batch: 70 of 157] [Loss = 0.0004] [Accuracy = 100.00] [0.041 sec/batch]\u001b[0m\n",
      "\u001b[37m\u001b[01m[2021-05-20 01:27:55,843] [Epoch: 50] [Batch: 80 of 157] [Loss = 0.0005] [Accuracy = 100.00] [0.039 sec/batch]\u001b[0m\n",
      "\u001b[37m\u001b[01m[2021-05-20 01:27:56,271] [Epoch: 50] [Batch: 90 of 157] [Loss = 0.0003] [Accuracy = 100.00] [0.044 sec/batch]\u001b[0m\n",
      "\u001b[37m\u001b[01m[2021-05-20 01:27:56,686] [Epoch: 50] [Batch: 100 of 157] [Loss = 0.0003] [Accuracy = 100.00] [0.039 sec/batch]\u001b[0m\n",
      "\u001b[37m\u001b[01m[2021-05-20 01:27:57,103] [Epoch: 50] [Batch: 110 of 157] [Loss = 0.0004] [Accuracy = 100.00] [0.041 sec/batch]\u001b[0m\n",
      "\u001b[37m\u001b[01m[2021-05-20 01:27:57,517] [Epoch: 50] [Batch: 120 of 157] [Loss = 0.0003] [Accuracy = 100.00] [0.040 sec/batch]\u001b[0m\n",
      "\u001b[37m\u001b[01m[2021-05-20 01:27:57,930] [Epoch: 50] [Batch: 130 of 157] [Loss = 0.0004] [Accuracy = 100.00] [0.044 sec/batch]\u001b[0m\n",
      "\u001b[37m\u001b[01m[2021-05-20 01:27:58,346] [Epoch: 50] [Batch: 140 of 157] [Loss = 0.0004] [Accuracy = 100.00] [0.038 sec/batch]\u001b[0m\n",
      "\u001b[37m\u001b[01m[2021-05-20 01:27:58,750] [Epoch: 50] [Batch: 150 of 157] [Loss = 0.0005] [Accuracy = 100.00] [0.039 sec/batch]\u001b[0m\n",
      "\u001b[37m\u001b[01m[2021-05-20 01:27:59,044] [Epoch: 51] [Batch: 0 of 157] [Loss = 0.0004] [Accuracy = 100.00] [0.044 sec/batch]\u001b[0m\n"
     ]
    },
    {
     "name": "stdout",
     "output_type": "stream",
     "text": [
      "Epoch 51\n",
      "-------------------------------\n"
     ]
    },
    {
     "name": "stderr",
     "output_type": "stream",
     "text": [
      "\u001b[37m\u001b[01m[2021-05-20 01:27:59,467] [Epoch: 51] [Batch: 10 of 157] [Loss = 0.0004] [Accuracy = 100.00] [0.043 sec/batch]\u001b[0m\n",
      "\u001b[37m\u001b[01m[2021-05-20 01:27:59,887] [Epoch: 51] [Batch: 20 of 157] [Loss = 0.0004] [Accuracy = 100.00] [0.042 sec/batch]\u001b[0m\n",
      "\u001b[37m\u001b[01m[2021-05-20 01:28:00,304] [Epoch: 51] [Batch: 30 of 157] [Loss = 0.0004] [Accuracy = 100.00] [0.044 sec/batch]\u001b[0m\n",
      "\u001b[37m\u001b[01m[2021-05-20 01:28:00,725] [Epoch: 51] [Batch: 40 of 157] [Loss = 0.0004] [Accuracy = 100.00] [0.039 sec/batch]\u001b[0m\n",
      "\u001b[37m\u001b[01m[2021-05-20 01:28:01,132] [Epoch: 51] [Batch: 50 of 157] [Loss = 0.0003] [Accuracy = 100.00] [0.037 sec/batch]\u001b[0m\n",
      "\u001b[37m\u001b[01m[2021-05-20 01:28:01,561] [Epoch: 51] [Batch: 60 of 157] [Loss = 0.0003] [Accuracy = 100.00] [0.044 sec/batch]\u001b[0m\n",
      "\u001b[37m\u001b[01m[2021-05-20 01:28:01,993] [Epoch: 51] [Batch: 70 of 157] [Loss = 0.0003] [Accuracy = 100.00] [0.039 sec/batch]\u001b[0m\n",
      "\u001b[37m\u001b[01m[2021-05-20 01:28:02,425] [Epoch: 51] [Batch: 80 of 157] [Loss = 0.0003] [Accuracy = 100.00] [0.043 sec/batch]\u001b[0m\n",
      "\u001b[37m\u001b[01m[2021-05-20 01:28:02,857] [Epoch: 51] [Batch: 90 of 157] [Loss = 0.0004] [Accuracy = 100.00] [0.047 sec/batch]\u001b[0m\n",
      "\u001b[37m\u001b[01m[2021-05-20 01:28:03,297] [Epoch: 51] [Batch: 100 of 157] [Loss = 0.0003] [Accuracy = 100.00] [0.043 sec/batch]\u001b[0m\n",
      "\u001b[37m\u001b[01m[2021-05-20 01:28:03,729] [Epoch: 51] [Batch: 110 of 157] [Loss = 0.0004] [Accuracy = 100.00] [0.045 sec/batch]\u001b[0m\n",
      "\u001b[37m\u001b[01m[2021-05-20 01:28:04,153] [Epoch: 51] [Batch: 120 of 157] [Loss = 0.0004] [Accuracy = 100.00] [0.040 sec/batch]\u001b[0m\n",
      "\u001b[37m\u001b[01m[2021-05-20 01:28:04,588] [Epoch: 51] [Batch: 130 of 157] [Loss = 0.0003] [Accuracy = 100.00] [0.047 sec/batch]\u001b[0m\n",
      "\u001b[37m\u001b[01m[2021-05-20 01:28:05,015] [Epoch: 51] [Batch: 140 of 157] [Loss = 0.0004] [Accuracy = 100.00] [0.041 sec/batch]\u001b[0m\n",
      "\u001b[37m\u001b[01m[2021-05-20 01:28:05,431] [Epoch: 51] [Batch: 150 of 157] [Loss = 0.0003] [Accuracy = 100.00] [0.044 sec/batch]\u001b[0m\n",
      "\u001b[37m\u001b[01m[2021-05-20 01:28:05,727] [Epoch: 52] [Batch: 0 of 157] [Loss = 0.0003] [Accuracy = 100.00] [0.040 sec/batch]\u001b[0m\n"
     ]
    },
    {
     "name": "stdout",
     "output_type": "stream",
     "text": [
      "Epoch 52\n",
      "-------------------------------\n"
     ]
    },
    {
     "name": "stderr",
     "output_type": "stream",
     "text": [
      "\u001b[37m\u001b[01m[2021-05-20 01:28:06,140] [Epoch: 52] [Batch: 10 of 157] [Loss = 0.0003] [Accuracy = 100.00] [0.044 sec/batch]\u001b[0m\n",
      "\u001b[37m\u001b[01m[2021-05-20 01:28:06,576] [Epoch: 52] [Batch: 20 of 157] [Loss = 0.0003] [Accuracy = 100.00] [0.043 sec/batch]\u001b[0m\n",
      "\u001b[37m\u001b[01m[2021-05-20 01:28:07,015] [Epoch: 52] [Batch: 30 of 157] [Loss = 0.0003] [Accuracy = 100.00] [0.043 sec/batch]\u001b[0m\n",
      "\u001b[37m\u001b[01m[2021-05-20 01:28:07,440] [Epoch: 52] [Batch: 40 of 157] [Loss = 0.0003] [Accuracy = 100.00] [0.044 sec/batch]\u001b[0m\n",
      "\u001b[37m\u001b[01m[2021-05-20 01:28:07,867] [Epoch: 52] [Batch: 50 of 157] [Loss = 0.0003] [Accuracy = 100.00] [0.043 sec/batch]\u001b[0m\n",
      "\u001b[37m\u001b[01m[2021-05-20 01:28:08,292] [Epoch: 52] [Batch: 60 of 157] [Loss = 0.0004] [Accuracy = 100.00] [0.043 sec/batch]\u001b[0m\n",
      "\u001b[37m\u001b[01m[2021-05-20 01:28:08,717] [Epoch: 52] [Batch: 70 of 157] [Loss = 0.0003] [Accuracy = 100.00] [0.043 sec/batch]\u001b[0m\n",
      "\u001b[37m\u001b[01m[2021-05-20 01:28:09,144] [Epoch: 52] [Batch: 80 of 157] [Loss = 0.0003] [Accuracy = 100.00] [0.043 sec/batch]\u001b[0m\n",
      "\u001b[37m\u001b[01m[2021-05-20 01:28:09,587] [Epoch: 52] [Batch: 90 of 157] [Loss = 0.0002] [Accuracy = 100.00] [0.043 sec/batch]\u001b[0m\n",
      "\u001b[37m\u001b[01m[2021-05-20 01:28:10,007] [Epoch: 52] [Batch: 100 of 157] [Loss = 0.0004] [Accuracy = 100.00] [0.042 sec/batch]\u001b[0m\n",
      "\u001b[37m\u001b[01m[2021-05-20 01:28:10,429] [Epoch: 52] [Batch: 110 of 157] [Loss = 0.0003] [Accuracy = 100.00] [0.038 sec/batch]\u001b[0m\n",
      "\u001b[37m\u001b[01m[2021-05-20 01:28:10,856] [Epoch: 52] [Batch: 120 of 157] [Loss = 0.0003] [Accuracy = 100.00] [0.039 sec/batch]\u001b[0m\n",
      "\u001b[37m\u001b[01m[2021-05-20 01:28:11,279] [Epoch: 52] [Batch: 130 of 157] [Loss = 0.0003] [Accuracy = 100.00] [0.043 sec/batch]\u001b[0m\n",
      "\u001b[37m\u001b[01m[2021-05-20 01:28:11,693] [Epoch: 52] [Batch: 140 of 157] [Loss = 0.0004] [Accuracy = 100.00] [0.040 sec/batch]\u001b[0m\n",
      "\u001b[37m\u001b[01m[2021-05-20 01:28:12,114] [Epoch: 52] [Batch: 150 of 157] [Loss = 0.0003] [Accuracy = 100.00] [0.045 sec/batch]\u001b[0m\n",
      "\u001b[37m\u001b[01m[2021-05-20 01:28:12,403] [Epoch: 53] [Batch: 0 of 157] [Loss = 0.0003] [Accuracy = 100.00] [0.039 sec/batch]\u001b[0m\n"
     ]
    },
    {
     "name": "stdout",
     "output_type": "stream",
     "text": [
      "Epoch 53\n",
      "-------------------------------\n"
     ]
    },
    {
     "name": "stderr",
     "output_type": "stream",
     "text": [
      "\u001b[37m\u001b[01m[2021-05-20 01:28:12,807] [Epoch: 53] [Batch: 10 of 157] [Loss = 0.0003] [Accuracy = 100.00] [0.039 sec/batch]\u001b[0m\n",
      "\u001b[37m\u001b[01m[2021-05-20 01:28:13,207] [Epoch: 53] [Batch: 20 of 157] [Loss = 0.0003] [Accuracy = 100.00] [0.039 sec/batch]\u001b[0m\n",
      "\u001b[37m\u001b[01m[2021-05-20 01:28:13,603] [Epoch: 53] [Batch: 30 of 157] [Loss = 0.0003] [Accuracy = 100.00] [0.039 sec/batch]\u001b[0m\n",
      "\u001b[37m\u001b[01m[2021-05-20 01:28:14,003] [Epoch: 53] [Batch: 40 of 157] [Loss = 0.0003] [Accuracy = 100.00] [0.042 sec/batch]\u001b[0m\n",
      "\u001b[37m\u001b[01m[2021-05-20 01:28:14,404] [Epoch: 53] [Batch: 50 of 157] [Loss = 0.0002] [Accuracy = 100.00] [0.038 sec/batch]\u001b[0m\n",
      "\u001b[37m\u001b[01m[2021-05-20 01:28:14,790] [Epoch: 53] [Batch: 60 of 157] [Loss = 0.0003] [Accuracy = 100.00] [0.038 sec/batch]\u001b[0m\n",
      "\u001b[37m\u001b[01m[2021-05-20 01:28:15,193] [Epoch: 53] [Batch: 70 of 157] [Loss = 0.0002] [Accuracy = 100.00] [0.037 sec/batch]\u001b[0m\n",
      "\u001b[37m\u001b[01m[2021-05-20 01:28:15,605] [Epoch: 53] [Batch: 80 of 157] [Loss = 0.0003] [Accuracy = 100.00] [0.037 sec/batch]\u001b[0m\n",
      "\u001b[37m\u001b[01m[2021-05-20 01:28:16,008] [Epoch: 53] [Batch: 90 of 157] [Loss = 0.0003] [Accuracy = 100.00] [0.037 sec/batch]\u001b[0m\n",
      "\u001b[37m\u001b[01m[2021-05-20 01:28:16,410] [Epoch: 53] [Batch: 100 of 157] [Loss = 0.0004] [Accuracy = 100.00] [0.035 sec/batch]\u001b[0m\n",
      "\u001b[37m\u001b[01m[2021-05-20 01:28:16,814] [Epoch: 53] [Batch: 110 of 157] [Loss = 0.0002] [Accuracy = 100.00] [0.040 sec/batch]\u001b[0m\n",
      "\u001b[37m\u001b[01m[2021-05-20 01:28:17,211] [Epoch: 53] [Batch: 120 of 157] [Loss = 0.0003] [Accuracy = 100.00] [0.039 sec/batch]\u001b[0m\n",
      "\u001b[37m\u001b[01m[2021-05-20 01:28:17,620] [Epoch: 53] [Batch: 130 of 157] [Loss = 0.0003] [Accuracy = 100.00] [0.039 sec/batch]\u001b[0m\n",
      "\u001b[37m\u001b[01m[2021-05-20 01:28:18,025] [Epoch: 53] [Batch: 140 of 157] [Loss = 0.0003] [Accuracy = 100.00] [0.044 sec/batch]\u001b[0m\n",
      "\u001b[37m\u001b[01m[2021-05-20 01:28:18,415] [Epoch: 53] [Batch: 150 of 157] [Loss = 0.0003] [Accuracy = 100.00] [0.039 sec/batch]\u001b[0m\n",
      "\u001b[37m\u001b[01m[2021-05-20 01:28:18,705] [Epoch: 54] [Batch: 0 of 157] [Loss = 0.0003] [Accuracy = 100.00] [0.048 sec/batch]\u001b[0m\n"
     ]
    },
    {
     "name": "stdout",
     "output_type": "stream",
     "text": [
      "Epoch 54\n",
      "-------------------------------\n"
     ]
    },
    {
     "name": "stderr",
     "output_type": "stream",
     "text": [
      "\u001b[37m\u001b[01m[2021-05-20 01:28:19,141] [Epoch: 54] [Batch: 10 of 157] [Loss = 0.0003] [Accuracy = 100.00] [0.044 sec/batch]\u001b[0m\n",
      "\u001b[37m\u001b[01m[2021-05-20 01:28:19,550] [Epoch: 54] [Batch: 20 of 157] [Loss = 0.0002] [Accuracy = 100.00] [0.041 sec/batch]\u001b[0m\n",
      "\u001b[37m\u001b[01m[2021-05-20 01:28:19,938] [Epoch: 54] [Batch: 30 of 157] [Loss = 0.0003] [Accuracy = 100.00] [0.038 sec/batch]\u001b[0m\n",
      "\u001b[37m\u001b[01m[2021-05-20 01:28:20,329] [Epoch: 54] [Batch: 40 of 157] [Loss = 0.0003] [Accuracy = 100.00] [0.039 sec/batch]\u001b[0m\n",
      "\u001b[37m\u001b[01m[2021-05-20 01:28:20,723] [Epoch: 54] [Batch: 50 of 157] [Loss = 0.0002] [Accuracy = 100.00] [0.039 sec/batch]\u001b[0m\n",
      "\u001b[37m\u001b[01m[2021-05-20 01:28:21,123] [Epoch: 54] [Batch: 60 of 157] [Loss = 0.0002] [Accuracy = 100.00] [0.039 sec/batch]\u001b[0m\n",
      "\u001b[37m\u001b[01m[2021-05-20 01:28:21,500] [Epoch: 54] [Batch: 70 of 157] [Loss = 0.0003] [Accuracy = 100.00] [0.034 sec/batch]\u001b[0m\n",
      "\u001b[37m\u001b[01m[2021-05-20 01:28:21,879] [Epoch: 54] [Batch: 80 of 157] [Loss = 0.0003] [Accuracy = 100.00] [0.038 sec/batch]\u001b[0m\n",
      "\u001b[37m\u001b[01m[2021-05-20 01:28:22,276] [Epoch: 54] [Batch: 90 of 157] [Loss = 0.0002] [Accuracy = 100.00] [0.040 sec/batch]\u001b[0m\n",
      "\u001b[37m\u001b[01m[2021-05-20 01:28:22,692] [Epoch: 54] [Batch: 100 of 157] [Loss = 0.0003] [Accuracy = 100.00] [0.043 sec/batch]\u001b[0m\n",
      "\u001b[37m\u001b[01m[2021-05-20 01:28:23,105] [Epoch: 54] [Batch: 110 of 157] [Loss = 0.0002] [Accuracy = 100.00] [0.041 sec/batch]\u001b[0m\n",
      "\u001b[37m\u001b[01m[2021-05-20 01:28:23,518] [Epoch: 54] [Batch: 120 of 157] [Loss = 0.0002] [Accuracy = 100.00] [0.041 sec/batch]\u001b[0m\n",
      "\u001b[37m\u001b[01m[2021-05-20 01:28:23,945] [Epoch: 54] [Batch: 130 of 157] [Loss = 0.0003] [Accuracy = 100.00] [0.042 sec/batch]\u001b[0m\n",
      "\u001b[37m\u001b[01m[2021-05-20 01:28:24,368] [Epoch: 54] [Batch: 140 of 157] [Loss = 0.0002] [Accuracy = 100.00] [0.042 sec/batch]\u001b[0m\n",
      "\u001b[37m\u001b[01m[2021-05-20 01:28:24,785] [Epoch: 54] [Batch: 150 of 157] [Loss = 0.0003] [Accuracy = 100.00] [0.040 sec/batch]\u001b[0m\n",
      "\u001b[37m\u001b[01m[2021-05-20 01:28:25,069] [Epoch: 55] [Batch: 0 of 157] [Loss = 0.0002] [Accuracy = 100.00] [0.038 sec/batch]\u001b[0m\n"
     ]
    },
    {
     "name": "stdout",
     "output_type": "stream",
     "text": [
      "Epoch 55\n",
      "-------------------------------\n"
     ]
    },
    {
     "name": "stderr",
     "output_type": "stream",
     "text": [
      "\u001b[37m\u001b[01m[2021-05-20 01:28:25,482] [Epoch: 55] [Batch: 10 of 157] [Loss = 0.0002] [Accuracy = 100.00] [0.042 sec/batch]\u001b[0m\n",
      "\u001b[37m\u001b[01m[2021-05-20 01:28:25,890] [Epoch: 55] [Batch: 20 of 157] [Loss = 0.0002] [Accuracy = 100.00] [0.041 sec/batch]\u001b[0m\n",
      "\u001b[37m\u001b[01m[2021-05-20 01:28:26,303] [Epoch: 55] [Batch: 30 of 157] [Loss = 0.0002] [Accuracy = 100.00] [0.038 sec/batch]\u001b[0m\n",
      "\u001b[37m\u001b[01m[2021-05-20 01:28:26,709] [Epoch: 55] [Batch: 40 of 157] [Loss = 0.0002] [Accuracy = 100.00] [0.041 sec/batch]\u001b[0m\n",
      "\u001b[37m\u001b[01m[2021-05-20 01:28:27,109] [Epoch: 55] [Batch: 50 of 157] [Loss = 0.0002] [Accuracy = 100.00] [0.039 sec/batch]\u001b[0m\n",
      "\u001b[37m\u001b[01m[2021-05-20 01:28:27,517] [Epoch: 55] [Batch: 60 of 157] [Loss = 0.0003] [Accuracy = 100.00] [0.036 sec/batch]\u001b[0m\n",
      "\u001b[37m\u001b[01m[2021-05-20 01:28:27,917] [Epoch: 55] [Batch: 70 of 157] [Loss = 0.0003] [Accuracy = 100.00] [0.040 sec/batch]\u001b[0m\n",
      "\u001b[37m\u001b[01m[2021-05-20 01:28:28,324] [Epoch: 55] [Batch: 80 of 157] [Loss = 0.0002] [Accuracy = 100.00] [0.039 sec/batch]\u001b[0m\n",
      "\u001b[37m\u001b[01m[2021-05-20 01:28:28,722] [Epoch: 55] [Batch: 90 of 157] [Loss = 0.0002] [Accuracy = 100.00] [0.036 sec/batch]\u001b[0m\n",
      "\u001b[37m\u001b[01m[2021-05-20 01:28:29,123] [Epoch: 55] [Batch: 100 of 157] [Loss = 0.0002] [Accuracy = 100.00] [0.038 sec/batch]\u001b[0m\n",
      "\u001b[37m\u001b[01m[2021-05-20 01:28:29,537] [Epoch: 55] [Batch: 110 of 157] [Loss = 0.0002] [Accuracy = 100.00] [0.039 sec/batch]\u001b[0m\n",
      "\u001b[37m\u001b[01m[2021-05-20 01:28:29,950] [Epoch: 55] [Batch: 120 of 157] [Loss = 0.0002] [Accuracy = 100.00] [0.037 sec/batch]\u001b[0m\n",
      "\u001b[37m\u001b[01m[2021-05-20 01:28:30,354] [Epoch: 55] [Batch: 130 of 157] [Loss = 0.0002] [Accuracy = 100.00] [0.040 sec/batch]\u001b[0m\n",
      "\u001b[37m\u001b[01m[2021-05-20 01:28:30,767] [Epoch: 55] [Batch: 140 of 157] [Loss = 0.0003] [Accuracy = 100.00] [0.043 sec/batch]\u001b[0m\n",
      "\u001b[37m\u001b[01m[2021-05-20 01:28:31,185] [Epoch: 55] [Batch: 150 of 157] [Loss = 0.0002] [Accuracy = 100.00] [0.038 sec/batch]\u001b[0m\n",
      "\u001b[37m\u001b[01m[2021-05-20 01:28:31,478] [Epoch: 56] [Batch: 0 of 157] [Loss = 0.0002] [Accuracy = 100.00] [0.045 sec/batch]\u001b[0m\n"
     ]
    },
    {
     "name": "stdout",
     "output_type": "stream",
     "text": [
      "Epoch 56\n",
      "-------------------------------\n"
     ]
    },
    {
     "name": "stderr",
     "output_type": "stream",
     "text": [
      "\u001b[37m\u001b[01m[2021-05-20 01:28:31,893] [Epoch: 56] [Batch: 10 of 157] [Loss = 0.0002] [Accuracy = 100.00] [0.041 sec/batch]\u001b[0m\n",
      "\u001b[37m\u001b[01m[2021-05-20 01:28:32,310] [Epoch: 56] [Batch: 20 of 157] [Loss = 0.0002] [Accuracy = 100.00] [0.038 sec/batch]\u001b[0m\n",
      "\u001b[37m\u001b[01m[2021-05-20 01:28:32,735] [Epoch: 56] [Batch: 30 of 157] [Loss = 0.0002] [Accuracy = 100.00] [0.040 sec/batch]\u001b[0m\n",
      "\u001b[37m\u001b[01m[2021-05-20 01:28:33,158] [Epoch: 56] [Batch: 40 of 157] [Loss = 0.0002] [Accuracy = 100.00] [0.042 sec/batch]\u001b[0m\n",
      "\u001b[37m\u001b[01m[2021-05-20 01:28:33,573] [Epoch: 56] [Batch: 50 of 157] [Loss = 0.0003] [Accuracy = 100.00] [0.042 sec/batch]\u001b[0m\n",
      "\u001b[37m\u001b[01m[2021-05-20 01:28:33,996] [Epoch: 56] [Batch: 60 of 157] [Loss = 0.0003] [Accuracy = 100.00] [0.041 sec/batch]\u001b[0m\n",
      "\u001b[37m\u001b[01m[2021-05-20 01:28:34,417] [Epoch: 56] [Batch: 70 of 157] [Loss = 0.0002] [Accuracy = 100.00] [0.044 sec/batch]\u001b[0m\n",
      "\u001b[37m\u001b[01m[2021-05-20 01:28:34,848] [Epoch: 56] [Batch: 80 of 157] [Loss = 0.0002] [Accuracy = 100.00] [0.041 sec/batch]\u001b[0m\n",
      "\u001b[37m\u001b[01m[2021-05-20 01:28:35,264] [Epoch: 56] [Batch: 90 of 157] [Loss = 0.0002] [Accuracy = 100.00] [0.040 sec/batch]\u001b[0m\n",
      "\u001b[37m\u001b[01m[2021-05-20 01:28:35,690] [Epoch: 56] [Batch: 100 of 157] [Loss = 0.0002] [Accuracy = 100.00] [0.042 sec/batch]\u001b[0m\n",
      "\u001b[37m\u001b[01m[2021-05-20 01:28:36,106] [Epoch: 56] [Batch: 110 of 157] [Loss = 0.0002] [Accuracy = 100.00] [0.042 sec/batch]\u001b[0m\n",
      "\u001b[37m\u001b[01m[2021-05-20 01:28:36,524] [Epoch: 56] [Batch: 120 of 157] [Loss = 0.0002] [Accuracy = 100.00] [0.042 sec/batch]\u001b[0m\n",
      "\u001b[37m\u001b[01m[2021-05-20 01:28:36,943] [Epoch: 56] [Batch: 130 of 157] [Loss = 0.0002] [Accuracy = 100.00] [0.038 sec/batch]\u001b[0m\n",
      "\u001b[37m\u001b[01m[2021-05-20 01:28:37,368] [Epoch: 56] [Batch: 140 of 157] [Loss = 0.0002] [Accuracy = 100.00] [0.043 sec/batch]\u001b[0m\n",
      "\u001b[37m\u001b[01m[2021-05-20 01:28:37,795] [Epoch: 56] [Batch: 150 of 157] [Loss = 0.0002] [Accuracy = 100.00] [0.043 sec/batch]\u001b[0m\n",
      "\u001b[37m\u001b[01m[2021-05-20 01:28:38,087] [Epoch: 57] [Batch: 0 of 157] [Loss = 0.0002] [Accuracy = 100.00] [0.038 sec/batch]\u001b[0m\n"
     ]
    },
    {
     "name": "stdout",
     "output_type": "stream",
     "text": [
      "Epoch 57\n",
      "-------------------------------\n"
     ]
    },
    {
     "name": "stderr",
     "output_type": "stream",
     "text": [
      "\u001b[37m\u001b[01m[2021-05-20 01:28:38,510] [Epoch: 57] [Batch: 10 of 157] [Loss = 0.0002] [Accuracy = 100.00] [0.044 sec/batch]\u001b[0m\n",
      "\u001b[37m\u001b[01m[2021-05-20 01:28:38,926] [Epoch: 57] [Batch: 20 of 157] [Loss = 0.0002] [Accuracy = 100.00] [0.042 sec/batch]\u001b[0m\n",
      "\u001b[37m\u001b[01m[2021-05-20 01:28:39,341] [Epoch: 57] [Batch: 30 of 157] [Loss = 0.0002] [Accuracy = 100.00] [0.040 sec/batch]\u001b[0m\n",
      "\u001b[37m\u001b[01m[2021-05-20 01:28:39,782] [Epoch: 57] [Batch: 40 of 157] [Loss = 0.0002] [Accuracy = 100.00] [0.041 sec/batch]\u001b[0m\n",
      "\u001b[37m\u001b[01m[2021-05-20 01:28:40,197] [Epoch: 57] [Batch: 50 of 157] [Loss = 0.0002] [Accuracy = 100.00] [0.045 sec/batch]\u001b[0m\n",
      "\u001b[37m\u001b[01m[2021-05-20 01:28:40,636] [Epoch: 57] [Batch: 60 of 157] [Loss = 0.0002] [Accuracy = 100.00] [0.043 sec/batch]\u001b[0m\n",
      "\u001b[37m\u001b[01m[2021-05-20 01:28:41,068] [Epoch: 57] [Batch: 70 of 157] [Loss = 0.0002] [Accuracy = 100.00] [0.045 sec/batch]\u001b[0m\n",
      "\u001b[37m\u001b[01m[2021-05-20 01:28:41,509] [Epoch: 57] [Batch: 80 of 157] [Loss = 0.0002] [Accuracy = 100.00] [0.045 sec/batch]\u001b[0m\n",
      "\u001b[37m\u001b[01m[2021-05-20 01:28:41,914] [Epoch: 57] [Batch: 90 of 157] [Loss = 0.0002] [Accuracy = 100.00] [0.035 sec/batch]\u001b[0m\n",
      "\u001b[37m\u001b[01m[2021-05-20 01:28:42,340] [Epoch: 57] [Batch: 100 of 157] [Loss = 0.0002] [Accuracy = 100.00] [0.038 sec/batch]\u001b[0m\n",
      "\u001b[37m\u001b[01m[2021-05-20 01:28:42,793] [Epoch: 57] [Batch: 110 of 157] [Loss = 0.0002] [Accuracy = 100.00] [0.043 sec/batch]\u001b[0m\n",
      "\u001b[37m\u001b[01m[2021-05-20 01:28:43,223] [Epoch: 57] [Batch: 120 of 157] [Loss = 0.0002] [Accuracy = 100.00] [0.044 sec/batch]\u001b[0m\n",
      "\u001b[37m\u001b[01m[2021-05-20 01:28:43,643] [Epoch: 57] [Batch: 130 of 157] [Loss = 0.0002] [Accuracy = 100.00] [0.041 sec/batch]\u001b[0m\n",
      "\u001b[37m\u001b[01m[2021-05-20 01:28:44,063] [Epoch: 57] [Batch: 140 of 157] [Loss = 0.0002] [Accuracy = 100.00] [0.046 sec/batch]\u001b[0m\n",
      "\u001b[37m\u001b[01m[2021-05-20 01:28:44,501] [Epoch: 57] [Batch: 150 of 157] [Loss = 0.0002] [Accuracy = 100.00] [0.048 sec/batch]\u001b[0m\n",
      "\u001b[37m\u001b[01m[2021-05-20 01:28:44,807] [Epoch: 58] [Batch: 0 of 157] [Loss = 0.0001] [Accuracy = 100.00] [0.045 sec/batch]\u001b[0m\n"
     ]
    },
    {
     "name": "stdout",
     "output_type": "stream",
     "text": [
      "Epoch 58\n",
      "-------------------------------\n"
     ]
    },
    {
     "name": "stderr",
     "output_type": "stream",
     "text": [
      "\u001b[37m\u001b[01m[2021-05-20 01:28:45,246] [Epoch: 58] [Batch: 10 of 157] [Loss = 0.0002] [Accuracy = 100.00] [0.044 sec/batch]\u001b[0m\n",
      "\u001b[37m\u001b[01m[2021-05-20 01:28:45,688] [Epoch: 58] [Batch: 20 of 157] [Loss = 0.0002] [Accuracy = 100.00] [0.043 sec/batch]\u001b[0m\n",
      "\u001b[37m\u001b[01m[2021-05-20 01:28:46,130] [Epoch: 58] [Batch: 30 of 157] [Loss = 0.0001] [Accuracy = 100.00] [0.041 sec/batch]\u001b[0m\n",
      "\u001b[37m\u001b[01m[2021-05-20 01:28:46,559] [Epoch: 58] [Batch: 40 of 157] [Loss = 0.0002] [Accuracy = 100.00] [0.045 sec/batch]\u001b[0m\n",
      "\u001b[37m\u001b[01m[2021-05-20 01:28:46,989] [Epoch: 58] [Batch: 50 of 157] [Loss = 0.0002] [Accuracy = 100.00] [0.042 sec/batch]\u001b[0m\n",
      "\u001b[37m\u001b[01m[2021-05-20 01:28:47,420] [Epoch: 58] [Batch: 60 of 157] [Loss = 0.0001] [Accuracy = 100.00] [0.044 sec/batch]\u001b[0m\n",
      "\u001b[37m\u001b[01m[2021-05-20 01:28:47,830] [Epoch: 58] [Batch: 70 of 157] [Loss = 0.0002] [Accuracy = 100.00] [0.039 sec/batch]\u001b[0m\n",
      "\u001b[37m\u001b[01m[2021-05-20 01:28:48,261] [Epoch: 58] [Batch: 80 of 157] [Loss = 0.0002] [Accuracy = 100.00] [0.041 sec/batch]\u001b[0m\n",
      "\u001b[37m\u001b[01m[2021-05-20 01:28:48,671] [Epoch: 58] [Batch: 90 of 157] [Loss = 0.0002] [Accuracy = 100.00] [0.039 sec/batch]\u001b[0m\n",
      "\u001b[37m\u001b[01m[2021-05-20 01:28:49,095] [Epoch: 58] [Batch: 100 of 157] [Loss = 0.0002] [Accuracy = 100.00] [0.042 sec/batch]\u001b[0m\n",
      "\u001b[37m\u001b[01m[2021-05-20 01:28:49,516] [Epoch: 58] [Batch: 110 of 157] [Loss = 0.0002] [Accuracy = 100.00] [0.043 sec/batch]\u001b[0m\n",
      "\u001b[37m\u001b[01m[2021-05-20 01:28:49,944] [Epoch: 58] [Batch: 120 of 157] [Loss = 0.0002] [Accuracy = 100.00] [0.042 sec/batch]\u001b[0m\n",
      "\u001b[37m\u001b[01m[2021-05-20 01:28:50,377] [Epoch: 58] [Batch: 130 of 157] [Loss = 0.0002] [Accuracy = 100.00] [0.041 sec/batch]\u001b[0m\n",
      "\u001b[37m\u001b[01m[2021-05-20 01:28:50,801] [Epoch: 58] [Batch: 140 of 157] [Loss = 0.0002] [Accuracy = 100.00] [0.041 sec/batch]\u001b[0m\n",
      "\u001b[37m\u001b[01m[2021-05-20 01:28:51,227] [Epoch: 58] [Batch: 150 of 157] [Loss = 0.0002] [Accuracy = 100.00] [0.041 sec/batch]\u001b[0m\n",
      "\u001b[37m\u001b[01m[2021-05-20 01:28:51,521] [Epoch: 59] [Batch: 0 of 157] [Loss = 0.0001] [Accuracy = 100.00] [0.038 sec/batch]\u001b[0m\n"
     ]
    },
    {
     "name": "stdout",
     "output_type": "stream",
     "text": [
      "Epoch 59\n",
      "-------------------------------\n"
     ]
    },
    {
     "name": "stderr",
     "output_type": "stream",
     "text": [
      "\u001b[37m\u001b[01m[2021-05-20 01:28:51,921] [Epoch: 59] [Batch: 10 of 157] [Loss = 0.0001] [Accuracy = 100.00] [0.038 sec/batch]\u001b[0m\n",
      "\u001b[37m\u001b[01m[2021-05-20 01:28:52,333] [Epoch: 59] [Batch: 20 of 157] [Loss = 0.0001] [Accuracy = 100.00] [0.045 sec/batch]\u001b[0m\n",
      "\u001b[37m\u001b[01m[2021-05-20 01:28:52,765] [Epoch: 59] [Batch: 30 of 157] [Loss = 0.0002] [Accuracy = 100.00] [0.040 sec/batch]\u001b[0m\n",
      "\u001b[37m\u001b[01m[2021-05-20 01:28:53,187] [Epoch: 59] [Batch: 40 of 157] [Loss = 0.0001] [Accuracy = 100.00] [0.042 sec/batch]\u001b[0m\n",
      "\u001b[37m\u001b[01m[2021-05-20 01:28:53,614] [Epoch: 59] [Batch: 50 of 157] [Loss = 0.0002] [Accuracy = 100.00] [0.044 sec/batch]\u001b[0m\n",
      "\u001b[37m\u001b[01m[2021-05-20 01:28:54,031] [Epoch: 59] [Batch: 60 of 157] [Loss = 0.0002] [Accuracy = 100.00] [0.038 sec/batch]\u001b[0m\n",
      "\u001b[37m\u001b[01m[2021-05-20 01:28:54,456] [Epoch: 59] [Batch: 70 of 157] [Loss = 0.0001] [Accuracy = 100.00] [0.038 sec/batch]\u001b[0m\n",
      "\u001b[37m\u001b[01m[2021-05-20 01:28:54,880] [Epoch: 59] [Batch: 80 of 157] [Loss = 0.0002] [Accuracy = 100.00] [0.045 sec/batch]\u001b[0m\n",
      "\u001b[37m\u001b[01m[2021-05-20 01:28:55,304] [Epoch: 59] [Batch: 90 of 157] [Loss = 0.0002] [Accuracy = 100.00] [0.044 sec/batch]\u001b[0m\n",
      "\u001b[37m\u001b[01m[2021-05-20 01:28:55,699] [Epoch: 59] [Batch: 100 of 157] [Loss = 0.0002] [Accuracy = 100.00] [0.039 sec/batch]\u001b[0m\n",
      "\u001b[37m\u001b[01m[2021-05-20 01:28:56,103] [Epoch: 59] [Batch: 110 of 157] [Loss = 0.0002] [Accuracy = 100.00] [0.040 sec/batch]\u001b[0m\n",
      "\u001b[37m\u001b[01m[2021-05-20 01:28:56,511] [Epoch: 59] [Batch: 120 of 157] [Loss = 0.0002] [Accuracy = 100.00] [0.039 sec/batch]\u001b[0m\n",
      "\u001b[37m\u001b[01m[2021-05-20 01:28:56,923] [Epoch: 59] [Batch: 130 of 157] [Loss = 0.0001] [Accuracy = 100.00] [0.041 sec/batch]\u001b[0m\n",
      "\u001b[37m\u001b[01m[2021-05-20 01:28:57,335] [Epoch: 59] [Batch: 140 of 157] [Loss = 0.0002] [Accuracy = 100.00] [0.039 sec/batch]\u001b[0m\n",
      "\u001b[37m\u001b[01m[2021-05-20 01:28:57,759] [Epoch: 59] [Batch: 150 of 157] [Loss = 0.0002] [Accuracy = 100.00] [0.041 sec/batch]\u001b[0m\n",
      "\u001b[37m\u001b[01m[2021-05-20 01:28:58,047] [Epoch: 60] [Batch: 0 of 157] [Loss = 0.0001] [Accuracy = 100.00] [0.040 sec/batch]\u001b[0m\n"
     ]
    },
    {
     "name": "stdout",
     "output_type": "stream",
     "text": [
      "Epoch 60\n",
      "-------------------------------\n"
     ]
    },
    {
     "name": "stderr",
     "output_type": "stream",
     "text": [
      "\u001b[37m\u001b[01m[2021-05-20 01:28:58,454] [Epoch: 60] [Batch: 10 of 157] [Loss = 0.0001] [Accuracy = 100.00] [0.038 sec/batch]\u001b[0m\n",
      "\u001b[37m\u001b[01m[2021-05-20 01:28:58,887] [Epoch: 60] [Batch: 20 of 157] [Loss = 0.0002] [Accuracy = 100.00] [0.045 sec/batch]\u001b[0m\n",
      "\u001b[37m\u001b[01m[2021-05-20 01:28:59,301] [Epoch: 60] [Batch: 30 of 157] [Loss = 0.0002] [Accuracy = 100.00] [0.041 sec/batch]\u001b[0m\n",
      "\u001b[37m\u001b[01m[2021-05-20 01:28:59,723] [Epoch: 60] [Batch: 40 of 157] [Loss = 0.0002] [Accuracy = 100.00] [0.042 sec/batch]\u001b[0m\n",
      "\u001b[37m\u001b[01m[2021-05-20 01:29:00,138] [Epoch: 60] [Batch: 50 of 157] [Loss = 0.0001] [Accuracy = 100.00] [0.037 sec/batch]\u001b[0m\n",
      "\u001b[37m\u001b[01m[2021-05-20 01:29:00,555] [Epoch: 60] [Batch: 60 of 157] [Loss = 0.0001] [Accuracy = 100.00] [0.043 sec/batch]\u001b[0m\n",
      "\u001b[37m\u001b[01m[2021-05-20 01:29:00,972] [Epoch: 60] [Batch: 70 of 157] [Loss = 0.0001] [Accuracy = 100.00] [0.041 sec/batch]\u001b[0m\n",
      "\u001b[37m\u001b[01m[2021-05-20 01:29:01,387] [Epoch: 60] [Batch: 80 of 157] [Loss = 0.0002] [Accuracy = 100.00] [0.039 sec/batch]\u001b[0m\n",
      "\u001b[37m\u001b[01m[2021-05-20 01:29:01,819] [Epoch: 60] [Batch: 90 of 157] [Loss = 0.0001] [Accuracy = 100.00] [0.043 sec/batch]\u001b[0m\n",
      "\u001b[37m\u001b[01m[2021-05-20 01:29:02,230] [Epoch: 60] [Batch: 100 of 157] [Loss = 0.0001] [Accuracy = 100.00] [0.042 sec/batch]\u001b[0m\n",
      "\u001b[37m\u001b[01m[2021-05-20 01:29:02,647] [Epoch: 60] [Batch: 110 of 157] [Loss = 0.0001] [Accuracy = 100.00] [0.040 sec/batch]\u001b[0m\n",
      "\u001b[37m\u001b[01m[2021-05-20 01:29:03,075] [Epoch: 60] [Batch: 120 of 157] [Loss = 0.0001] [Accuracy = 100.00] [0.044 sec/batch]\u001b[0m\n",
      "\u001b[37m\u001b[01m[2021-05-20 01:29:03,499] [Epoch: 60] [Batch: 130 of 157] [Loss = 0.0001] [Accuracy = 100.00] [0.044 sec/batch]\u001b[0m\n",
      "\u001b[37m\u001b[01m[2021-05-20 01:29:03,926] [Epoch: 60] [Batch: 140 of 157] [Loss = 0.0001] [Accuracy = 100.00] [0.042 sec/batch]\u001b[0m\n",
      "\u001b[37m\u001b[01m[2021-05-20 01:29:04,358] [Epoch: 60] [Batch: 150 of 157] [Loss = 0.0001] [Accuracy = 100.00] [0.042 sec/batch]\u001b[0m\n",
      "\u001b[37m\u001b[01m[2021-05-20 01:29:04,647] [Epoch: 61] [Batch: 0 of 157] [Loss = 0.0001] [Accuracy = 100.00] [0.040 sec/batch]\u001b[0m\n"
     ]
    },
    {
     "name": "stdout",
     "output_type": "stream",
     "text": [
      "Epoch 61\n",
      "-------------------------------\n"
     ]
    },
    {
     "name": "stderr",
     "output_type": "stream",
     "text": [
      "\u001b[37m\u001b[01m[2021-05-20 01:29:05,071] [Epoch: 61] [Batch: 10 of 157] [Loss = 0.0001] [Accuracy = 100.00] [0.051 sec/batch]\u001b[0m\n",
      "\u001b[37m\u001b[01m[2021-05-20 01:29:05,513] [Epoch: 61] [Batch: 20 of 157] [Loss = 0.0001] [Accuracy = 100.00] [0.042 sec/batch]\u001b[0m\n",
      "\u001b[37m\u001b[01m[2021-05-20 01:29:05,943] [Epoch: 61] [Batch: 30 of 157] [Loss = 0.0001] [Accuracy = 100.00] [0.044 sec/batch]\u001b[0m\n",
      "\u001b[37m\u001b[01m[2021-05-20 01:29:06,371] [Epoch: 61] [Batch: 40 of 157] [Loss = 0.0001] [Accuracy = 100.00] [0.041 sec/batch]\u001b[0m\n",
      "\u001b[37m\u001b[01m[2021-05-20 01:29:06,788] [Epoch: 61] [Batch: 50 of 157] [Loss = 0.0001] [Accuracy = 100.00] [0.039 sec/batch]\u001b[0m\n",
      "\u001b[37m\u001b[01m[2021-05-20 01:29:07,228] [Epoch: 61] [Batch: 60 of 157] [Loss = 0.0001] [Accuracy = 100.00] [0.045 sec/batch]\u001b[0m\n",
      "\u001b[37m\u001b[01m[2021-05-20 01:29:07,664] [Epoch: 61] [Batch: 70 of 157] [Loss = 0.0001] [Accuracy = 100.00] [0.043 sec/batch]\u001b[0m\n",
      "\u001b[37m\u001b[01m[2021-05-20 01:29:08,099] [Epoch: 61] [Batch: 80 of 157] [Loss = 0.0001] [Accuracy = 100.00] [0.039 sec/batch]\u001b[0m\n",
      "\u001b[37m\u001b[01m[2021-05-20 01:29:08,532] [Epoch: 61] [Batch: 90 of 157] [Loss = 0.0001] [Accuracy = 100.00] [0.039 sec/batch]\u001b[0m\n",
      "\u001b[37m\u001b[01m[2021-05-20 01:29:08,973] [Epoch: 61] [Batch: 100 of 157] [Loss = 0.0002] [Accuracy = 100.00] [0.044 sec/batch]\u001b[0m\n",
      "\u001b[37m\u001b[01m[2021-05-20 01:29:09,399] [Epoch: 61] [Batch: 110 of 157] [Loss = 0.0001] [Accuracy = 100.00] [0.040 sec/batch]\u001b[0m\n",
      "\u001b[37m\u001b[01m[2021-05-20 01:29:09,823] [Epoch: 61] [Batch: 120 of 157] [Loss = 0.0002] [Accuracy = 100.00] [0.040 sec/batch]\u001b[0m\n",
      "\u001b[37m\u001b[01m[2021-05-20 01:29:10,227] [Epoch: 61] [Batch: 130 of 157] [Loss = 0.0001] [Accuracy = 100.00] [0.041 sec/batch]\u001b[0m\n",
      "\u001b[37m\u001b[01m[2021-05-20 01:29:10,660] [Epoch: 61] [Batch: 140 of 157] [Loss = 0.0001] [Accuracy = 100.00] [0.045 sec/batch]\u001b[0m\n",
      "\u001b[37m\u001b[01m[2021-05-20 01:29:11,109] [Epoch: 61] [Batch: 150 of 157] [Loss = 0.0001] [Accuracy = 100.00] [0.044 sec/batch]\u001b[0m\n",
      "\u001b[37m\u001b[01m[2021-05-20 01:29:11,408] [Epoch: 62] [Batch: 0 of 157] [Loss = 0.0001] [Accuracy = 100.00] [0.038 sec/batch]\u001b[0m\n"
     ]
    },
    {
     "name": "stdout",
     "output_type": "stream",
     "text": [
      "Epoch 62\n",
      "-------------------------------\n"
     ]
    },
    {
     "name": "stderr",
     "output_type": "stream",
     "text": [
      "\u001b[37m\u001b[01m[2021-05-20 01:29:11,844] [Epoch: 62] [Batch: 10 of 157] [Loss = 0.0001] [Accuracy = 100.00] [0.043 sec/batch]\u001b[0m\n",
      "\u001b[37m\u001b[01m[2021-05-20 01:29:12,276] [Epoch: 62] [Batch: 20 of 157] [Loss = 0.0001] [Accuracy = 100.00] [0.037 sec/batch]\u001b[0m\n",
      "\u001b[37m\u001b[01m[2021-05-20 01:29:12,721] [Epoch: 62] [Batch: 30 of 157] [Loss = 0.0001] [Accuracy = 100.00] [0.039 sec/batch]\u001b[0m\n",
      "\u001b[37m\u001b[01m[2021-05-20 01:29:13,144] [Epoch: 62] [Batch: 40 of 157] [Loss = 0.0001] [Accuracy = 100.00] [0.044 sec/batch]\u001b[0m\n",
      "\u001b[37m\u001b[01m[2021-05-20 01:29:13,573] [Epoch: 62] [Batch: 50 of 157] [Loss = 0.0001] [Accuracy = 100.00] [0.041 sec/batch]\u001b[0m\n",
      "\u001b[37m\u001b[01m[2021-05-20 01:29:13,997] [Epoch: 62] [Batch: 60 of 157] [Loss = 0.0001] [Accuracy = 100.00] [0.045 sec/batch]\u001b[0m\n",
      "\u001b[37m\u001b[01m[2021-05-20 01:29:14,451] [Epoch: 62] [Batch: 70 of 157] [Loss = 0.0001] [Accuracy = 100.00] [0.041 sec/batch]\u001b[0m\n",
      "\u001b[37m\u001b[01m[2021-05-20 01:29:14,873] [Epoch: 62] [Batch: 80 of 157] [Loss = 0.0001] [Accuracy = 100.00] [0.044 sec/batch]\u001b[0m\n",
      "\u001b[37m\u001b[01m[2021-05-20 01:29:15,301] [Epoch: 62] [Batch: 90 of 157] [Loss = 0.0001] [Accuracy = 100.00] [0.041 sec/batch]\u001b[0m\n",
      "\u001b[37m\u001b[01m[2021-05-20 01:29:15,730] [Epoch: 62] [Batch: 100 of 157] [Loss = 0.0001] [Accuracy = 100.00] [0.044 sec/batch]\u001b[0m\n",
      "\u001b[37m\u001b[01m[2021-05-20 01:29:16,147] [Epoch: 62] [Batch: 110 of 157] [Loss = 0.0001] [Accuracy = 100.00] [0.041 sec/batch]\u001b[0m\n",
      "\u001b[37m\u001b[01m[2021-05-20 01:29:16,568] [Epoch: 62] [Batch: 120 of 157] [Loss = 0.0001] [Accuracy = 100.00] [0.040 sec/batch]\u001b[0m\n",
      "\u001b[37m\u001b[01m[2021-05-20 01:29:16,967] [Epoch: 62] [Batch: 130 of 157] [Loss = 0.0001] [Accuracy = 100.00] [0.038 sec/batch]\u001b[0m\n",
      "\u001b[37m\u001b[01m[2021-05-20 01:29:17,395] [Epoch: 62] [Batch: 140 of 157] [Loss = 0.0001] [Accuracy = 100.00] [0.040 sec/batch]\u001b[0m\n",
      "\u001b[37m\u001b[01m[2021-05-20 01:29:17,820] [Epoch: 62] [Batch: 150 of 157] [Loss = 0.0001] [Accuracy = 100.00] [0.042 sec/batch]\u001b[0m\n",
      "\u001b[37m\u001b[01m[2021-05-20 01:29:18,114] [Epoch: 63] [Batch: 0 of 157] [Loss = 0.0001] [Accuracy = 100.00] [0.041 sec/batch]\u001b[0m\n"
     ]
    },
    {
     "name": "stdout",
     "output_type": "stream",
     "text": [
      "Epoch 63\n",
      "-------------------------------\n"
     ]
    },
    {
     "name": "stderr",
     "output_type": "stream",
     "text": [
      "\u001b[37m\u001b[01m[2021-05-20 01:29:18,540] [Epoch: 63] [Batch: 10 of 157] [Loss = 0.0001] [Accuracy = 100.00] [0.041 sec/batch]\u001b[0m\n",
      "\u001b[37m\u001b[01m[2021-05-20 01:29:18,950] [Epoch: 63] [Batch: 20 of 157] [Loss = 0.0001] [Accuracy = 100.00] [0.043 sec/batch]\u001b[0m\n",
      "\u001b[37m\u001b[01m[2021-05-20 01:29:19,380] [Epoch: 63] [Batch: 30 of 157] [Loss = 0.0001] [Accuracy = 100.00] [0.041 sec/batch]\u001b[0m\n",
      "\u001b[37m\u001b[01m[2021-05-20 01:29:19,798] [Epoch: 63] [Batch: 40 of 157] [Loss = 0.0001] [Accuracy = 100.00] [0.042 sec/batch]\u001b[0m\n",
      "\u001b[37m\u001b[01m[2021-05-20 01:29:20,226] [Epoch: 63] [Batch: 50 of 157] [Loss = 0.0001] [Accuracy = 100.00] [0.040 sec/batch]\u001b[0m\n",
      "\u001b[37m\u001b[01m[2021-05-20 01:29:20,635] [Epoch: 63] [Batch: 60 of 157] [Loss = 0.0001] [Accuracy = 100.00] [0.040 sec/batch]\u001b[0m\n",
      "\u001b[37m\u001b[01m[2021-05-20 01:29:21,056] [Epoch: 63] [Batch: 70 of 157] [Loss = 0.0001] [Accuracy = 100.00] [0.041 sec/batch]\u001b[0m\n",
      "\u001b[37m\u001b[01m[2021-05-20 01:29:21,475] [Epoch: 63] [Batch: 80 of 157] [Loss = 0.0001] [Accuracy = 100.00] [0.038 sec/batch]\u001b[0m\n",
      "\u001b[37m\u001b[01m[2021-05-20 01:29:21,887] [Epoch: 63] [Batch: 90 of 157] [Loss = 0.0001] [Accuracy = 100.00] [0.040 sec/batch]\u001b[0m\n",
      "\u001b[37m\u001b[01m[2021-05-20 01:29:22,300] [Epoch: 63] [Batch: 100 of 157] [Loss = 0.0001] [Accuracy = 100.00] [0.042 sec/batch]\u001b[0m\n",
      "\u001b[37m\u001b[01m[2021-05-20 01:29:22,722] [Epoch: 63] [Batch: 110 of 157] [Loss = 0.0001] [Accuracy = 100.00] [0.044 sec/batch]\u001b[0m\n",
      "\u001b[37m\u001b[01m[2021-05-20 01:29:23,154] [Epoch: 63] [Batch: 120 of 157] [Loss = 0.0001] [Accuracy = 100.00] [0.043 sec/batch]\u001b[0m\n",
      "\u001b[37m\u001b[01m[2021-05-20 01:29:23,578] [Epoch: 63] [Batch: 130 of 157] [Loss = 0.0001] [Accuracy = 100.00] [0.041 sec/batch]\u001b[0m\n",
      "\u001b[37m\u001b[01m[2021-05-20 01:29:24,009] [Epoch: 63] [Batch: 140 of 157] [Loss = 0.0001] [Accuracy = 100.00] [0.042 sec/batch]\u001b[0m\n",
      "\u001b[37m\u001b[01m[2021-05-20 01:29:24,434] [Epoch: 63] [Batch: 150 of 157] [Loss = 0.0001] [Accuracy = 100.00] [0.044 sec/batch]\u001b[0m\n",
      "\u001b[37m\u001b[01m[2021-05-20 01:29:24,727] [Epoch: 64] [Batch: 0 of 157] [Loss = 0.0001] [Accuracy = 100.00] [0.044 sec/batch]\u001b[0m\n"
     ]
    },
    {
     "name": "stdout",
     "output_type": "stream",
     "text": [
      "Epoch 64\n",
      "-------------------------------\n"
     ]
    },
    {
     "name": "stderr",
     "output_type": "stream",
     "text": [
      "\u001b[37m\u001b[01m[2021-05-20 01:29:25,162] [Epoch: 64] [Batch: 10 of 157] [Loss = 0.0001] [Accuracy = 100.00] [0.041 sec/batch]\u001b[0m\n",
      "\u001b[37m\u001b[01m[2021-05-20 01:29:25,580] [Epoch: 64] [Batch: 20 of 157] [Loss = 0.0001] [Accuracy = 100.00] [0.039 sec/batch]\u001b[0m\n",
      "\u001b[37m\u001b[01m[2021-05-20 01:29:26,019] [Epoch: 64] [Batch: 30 of 157] [Loss = 0.0001] [Accuracy = 100.00] [0.043 sec/batch]\u001b[0m\n",
      "\u001b[37m\u001b[01m[2021-05-20 01:29:26,434] [Epoch: 64] [Batch: 40 of 157] [Loss = 0.0001] [Accuracy = 100.00] [0.042 sec/batch]\u001b[0m\n",
      "\u001b[37m\u001b[01m[2021-05-20 01:29:26,868] [Epoch: 64] [Batch: 50 of 157] [Loss = 0.0001] [Accuracy = 100.00] [0.044 sec/batch]\u001b[0m\n",
      "\u001b[37m\u001b[01m[2021-05-20 01:29:27,288] [Epoch: 64] [Batch: 60 of 157] [Loss = 0.0001] [Accuracy = 100.00] [0.041 sec/batch]\u001b[0m\n",
      "\u001b[37m\u001b[01m[2021-05-20 01:29:27,721] [Epoch: 64] [Batch: 70 of 157] [Loss = 0.0001] [Accuracy = 100.00] [0.042 sec/batch]\u001b[0m\n",
      "\u001b[37m\u001b[01m[2021-05-20 01:29:28,156] [Epoch: 64] [Batch: 80 of 157] [Loss = 0.0001] [Accuracy = 100.00] [0.042 sec/batch]\u001b[0m\n",
      "\u001b[37m\u001b[01m[2021-05-20 01:29:28,579] [Epoch: 64] [Batch: 90 of 157] [Loss = 0.0001] [Accuracy = 100.00] [0.042 sec/batch]\u001b[0m\n",
      "\u001b[37m\u001b[01m[2021-05-20 01:29:29,008] [Epoch: 64] [Batch: 100 of 157] [Loss = 0.0001] [Accuracy = 100.00] [0.044 sec/batch]\u001b[0m\n",
      "\u001b[37m\u001b[01m[2021-05-20 01:29:29,433] [Epoch: 64] [Batch: 110 of 157] [Loss = 0.0001] [Accuracy = 100.00] [0.043 sec/batch]\u001b[0m\n",
      "\u001b[37m\u001b[01m[2021-05-20 01:29:29,872] [Epoch: 64] [Batch: 120 of 157] [Loss = 0.0001] [Accuracy = 100.00] [0.042 sec/batch]\u001b[0m\n",
      "\u001b[37m\u001b[01m[2021-05-20 01:29:30,283] [Epoch: 64] [Batch: 130 of 157] [Loss = 0.0001] [Accuracy = 100.00] [0.040 sec/batch]\u001b[0m\n",
      "\u001b[37m\u001b[01m[2021-05-20 01:29:30,707] [Epoch: 64] [Batch: 140 of 157] [Loss = 0.0001] [Accuracy = 100.00] [0.043 sec/batch]\u001b[0m\n",
      "\u001b[37m\u001b[01m[2021-05-20 01:29:31,129] [Epoch: 64] [Batch: 150 of 157] [Loss = 0.0001] [Accuracy = 100.00] [0.044 sec/batch]\u001b[0m\n",
      "\u001b[37m\u001b[01m[2021-05-20 01:29:31,415] [Epoch: 65] [Batch: 0 of 157] [Loss = 0.0001] [Accuracy = 100.00] [0.044 sec/batch]\u001b[0m\n"
     ]
    },
    {
     "name": "stdout",
     "output_type": "stream",
     "text": [
      "Epoch 65\n",
      "-------------------------------\n"
     ]
    },
    {
     "name": "stderr",
     "output_type": "stream",
     "text": [
      "\u001b[37m\u001b[01m[2021-05-20 01:29:31,844] [Epoch: 65] [Batch: 10 of 157] [Loss = 0.0001] [Accuracy = 100.00] [0.041 sec/batch]\u001b[0m\n",
      "\u001b[37m\u001b[01m[2021-05-20 01:29:32,271] [Epoch: 65] [Batch: 20 of 157] [Loss = 0.0001] [Accuracy = 100.00] [0.042 sec/batch]\u001b[0m\n",
      "\u001b[37m\u001b[01m[2021-05-20 01:29:32,699] [Epoch: 65] [Batch: 30 of 157] [Loss = 0.0001] [Accuracy = 100.00] [0.043 sec/batch]\u001b[0m\n",
      "\u001b[37m\u001b[01m[2021-05-20 01:29:33,122] [Epoch: 65] [Batch: 40 of 157] [Loss = 0.0001] [Accuracy = 100.00] [0.041 sec/batch]\u001b[0m\n",
      "\u001b[37m\u001b[01m[2021-05-20 01:29:33,544] [Epoch: 65] [Batch: 50 of 157] [Loss = 0.0001] [Accuracy = 100.00] [0.044 sec/batch]\u001b[0m\n",
      "\u001b[37m\u001b[01m[2021-05-20 01:29:33,954] [Epoch: 65] [Batch: 60 of 157] [Loss = 0.0001] [Accuracy = 100.00] [0.038 sec/batch]\u001b[0m\n",
      "\u001b[37m\u001b[01m[2021-05-20 01:29:34,376] [Epoch: 65] [Batch: 70 of 157] [Loss = 0.0001] [Accuracy = 100.00] [0.044 sec/batch]\u001b[0m\n",
      "\u001b[37m\u001b[01m[2021-05-20 01:29:34,796] [Epoch: 65] [Batch: 80 of 157] [Loss = 0.0001] [Accuracy = 100.00] [0.040 sec/batch]\u001b[0m\n",
      "\u001b[37m\u001b[01m[2021-05-20 01:29:35,226] [Epoch: 65] [Batch: 90 of 157] [Loss = 0.0001] [Accuracy = 100.00] [0.037 sec/batch]\u001b[0m\n",
      "\u001b[37m\u001b[01m[2021-05-20 01:29:35,655] [Epoch: 65] [Batch: 100 of 157] [Loss = 0.0001] [Accuracy = 100.00] [0.045 sec/batch]\u001b[0m\n",
      "\u001b[37m\u001b[01m[2021-05-20 01:29:36,072] [Epoch: 65] [Batch: 110 of 157] [Loss = 0.0001] [Accuracy = 100.00] [0.044 sec/batch]\u001b[0m\n",
      "\u001b[37m\u001b[01m[2021-05-20 01:29:36,485] [Epoch: 65] [Batch: 120 of 157] [Loss = 0.0001] [Accuracy = 100.00] [0.041 sec/batch]\u001b[0m\n",
      "\u001b[37m\u001b[01m[2021-05-20 01:29:36,906] [Epoch: 65] [Batch: 130 of 157] [Loss = 0.0001] [Accuracy = 100.00] [0.039 sec/batch]\u001b[0m\n",
      "\u001b[37m\u001b[01m[2021-05-20 01:29:37,331] [Epoch: 65] [Batch: 140 of 157] [Loss = 0.0001] [Accuracy = 100.00] [0.042 sec/batch]\u001b[0m\n",
      "\u001b[37m\u001b[01m[2021-05-20 01:29:37,753] [Epoch: 65] [Batch: 150 of 157] [Loss = 0.0001] [Accuracy = 100.00] [0.040 sec/batch]\u001b[0m\n",
      "\u001b[37m\u001b[01m[2021-05-20 01:29:38,049] [Epoch: 66] [Batch: 0 of 157] [Loss = 0.0001] [Accuracy = 100.00] [0.042 sec/batch]\u001b[0m\n"
     ]
    },
    {
     "name": "stdout",
     "output_type": "stream",
     "text": [
      "Epoch 66\n",
      "-------------------------------\n"
     ]
    },
    {
     "name": "stderr",
     "output_type": "stream",
     "text": [
      "\u001b[37m\u001b[01m[2021-05-20 01:29:38,453] [Epoch: 66] [Batch: 10 of 157] [Loss = 0.0001] [Accuracy = 100.00] [0.039 sec/batch]\u001b[0m\n",
      "\u001b[37m\u001b[01m[2021-05-20 01:29:38,868] [Epoch: 66] [Batch: 20 of 157] [Loss = 0.0001] [Accuracy = 100.00] [0.041 sec/batch]\u001b[0m\n",
      "\u001b[37m\u001b[01m[2021-05-20 01:29:39,253] [Epoch: 66] [Batch: 30 of 157] [Loss = 0.0001] [Accuracy = 100.00] [0.041 sec/batch]\u001b[0m\n",
      "\u001b[37m\u001b[01m[2021-05-20 01:29:39,650] [Epoch: 66] [Batch: 40 of 157] [Loss = 0.0001] [Accuracy = 100.00] [0.040 sec/batch]\u001b[0m\n",
      "\u001b[37m\u001b[01m[2021-05-20 01:29:40,036] [Epoch: 66] [Batch: 50 of 157] [Loss = 0.0001] [Accuracy = 100.00] [0.039 sec/batch]\u001b[0m\n",
      "\u001b[37m\u001b[01m[2021-05-20 01:29:40,425] [Epoch: 66] [Batch: 60 of 157] [Loss = 0.0001] [Accuracy = 100.00] [0.038 sec/batch]\u001b[0m\n",
      "\u001b[37m\u001b[01m[2021-05-20 01:29:40,847] [Epoch: 66] [Batch: 70 of 157] [Loss = 0.0001] [Accuracy = 100.00] [0.041 sec/batch]\u001b[0m\n",
      "\u001b[37m\u001b[01m[2021-05-20 01:29:41,264] [Epoch: 66] [Batch: 80 of 157] [Loss = 0.0001] [Accuracy = 100.00] [0.045 sec/batch]\u001b[0m\n",
      "\u001b[37m\u001b[01m[2021-05-20 01:29:41,685] [Epoch: 66] [Batch: 90 of 157] [Loss = 0.0001] [Accuracy = 100.00] [0.041 sec/batch]\u001b[0m\n",
      "\u001b[37m\u001b[01m[2021-05-20 01:29:42,100] [Epoch: 66] [Batch: 100 of 157] [Loss = 0.0001] [Accuracy = 100.00] [0.039 sec/batch]\u001b[0m\n",
      "\u001b[37m\u001b[01m[2021-05-20 01:29:42,517] [Epoch: 66] [Batch: 110 of 157] [Loss = 0.0001] [Accuracy = 100.00] [0.039 sec/batch]\u001b[0m\n",
      "\u001b[37m\u001b[01m[2021-05-20 01:29:42,938] [Epoch: 66] [Batch: 120 of 157] [Loss = 0.0001] [Accuracy = 100.00] [0.042 sec/batch]\u001b[0m\n",
      "\u001b[37m\u001b[01m[2021-05-20 01:29:43,343] [Epoch: 66] [Batch: 130 of 157] [Loss = 0.0001] [Accuracy = 100.00] [0.040 sec/batch]\u001b[0m\n",
      "\u001b[37m\u001b[01m[2021-05-20 01:29:43,740] [Epoch: 66] [Batch: 140 of 157] [Loss = 0.0001] [Accuracy = 100.00] [0.039 sec/batch]\u001b[0m\n",
      "\u001b[37m\u001b[01m[2021-05-20 01:29:44,147] [Epoch: 66] [Batch: 150 of 157] [Loss = 0.0001] [Accuracy = 100.00] [0.039 sec/batch]\u001b[0m\n",
      "\u001b[37m\u001b[01m[2021-05-20 01:29:44,430] [Epoch: 67] [Batch: 0 of 157] [Loss = 0.0001] [Accuracy = 100.00] [0.037 sec/batch]\u001b[0m\n"
     ]
    },
    {
     "name": "stdout",
     "output_type": "stream",
     "text": [
      "Epoch 67\n",
      "-------------------------------\n"
     ]
    },
    {
     "name": "stderr",
     "output_type": "stream",
     "text": [
      "\u001b[37m\u001b[01m[2021-05-20 01:29:44,831] [Epoch: 67] [Batch: 10 of 157] [Loss = 0.0001] [Accuracy = 100.00] [0.039 sec/batch]\u001b[0m\n",
      "\u001b[37m\u001b[01m[2021-05-20 01:29:45,231] [Epoch: 67] [Batch: 20 of 157] [Loss = 0.0001] [Accuracy = 100.00] [0.040 sec/batch]\u001b[0m\n",
      "\u001b[37m\u001b[01m[2021-05-20 01:29:45,657] [Epoch: 67] [Batch: 30 of 157] [Loss = 0.0001] [Accuracy = 100.00] [0.044 sec/batch]\u001b[0m\n",
      "\u001b[37m\u001b[01m[2021-05-20 01:29:46,073] [Epoch: 67] [Batch: 40 of 157] [Loss = 0.0001] [Accuracy = 100.00] [0.035 sec/batch]\u001b[0m\n",
      "\u001b[37m\u001b[01m[2021-05-20 01:29:46,465] [Epoch: 67] [Batch: 50 of 157] [Loss = 0.0001] [Accuracy = 100.00] [0.034 sec/batch]\u001b[0m\n",
      "\u001b[37m\u001b[01m[2021-05-20 01:29:46,846] [Epoch: 67] [Batch: 60 of 157] [Loss = 0.0001] [Accuracy = 100.00] [0.038 sec/batch]\u001b[0m\n",
      "\u001b[37m\u001b[01m[2021-05-20 01:29:47,214] [Epoch: 67] [Batch: 70 of 157] [Loss = 0.0001] [Accuracy = 100.00] [0.034 sec/batch]\u001b[0m\n",
      "\u001b[37m\u001b[01m[2021-05-20 01:29:47,608] [Epoch: 67] [Batch: 80 of 157] [Loss = 0.0001] [Accuracy = 100.00] [0.038 sec/batch]\u001b[0m\n",
      "\u001b[37m\u001b[01m[2021-05-20 01:29:48,003] [Epoch: 67] [Batch: 90 of 157] [Loss = 0.0001] [Accuracy = 100.00] [0.044 sec/batch]\u001b[0m\n",
      "\u001b[37m\u001b[01m[2021-05-20 01:29:48,400] [Epoch: 67] [Batch: 100 of 157] [Loss = 0.0001] [Accuracy = 100.00] [0.038 sec/batch]\u001b[0m\n",
      "\u001b[37m\u001b[01m[2021-05-20 01:29:48,819] [Epoch: 67] [Batch: 110 of 157] [Loss = 0.0001] [Accuracy = 100.00] [0.039 sec/batch]\u001b[0m\n",
      "\u001b[37m\u001b[01m[2021-05-20 01:29:49,236] [Epoch: 67] [Batch: 120 of 157] [Loss = 0.0001] [Accuracy = 100.00] [0.037 sec/batch]\u001b[0m\n",
      "\u001b[37m\u001b[01m[2021-05-20 01:29:49,648] [Epoch: 67] [Batch: 130 of 157] [Loss = 0.0001] [Accuracy = 100.00] [0.035 sec/batch]\u001b[0m\n",
      "\u001b[37m\u001b[01m[2021-05-20 01:29:50,076] [Epoch: 67] [Batch: 140 of 157] [Loss = 0.0001] [Accuracy = 100.00] [0.036 sec/batch]\u001b[0m\n",
      "\u001b[37m\u001b[01m[2021-05-20 01:29:50,493] [Epoch: 67] [Batch: 150 of 157] [Loss = 0.0001] [Accuracy = 100.00] [0.040 sec/batch]\u001b[0m\n",
      "\u001b[37m\u001b[01m[2021-05-20 01:29:50,780] [Epoch: 68] [Batch: 0 of 157] [Loss = 0.0001] [Accuracy = 100.00] [0.040 sec/batch]\u001b[0m\n"
     ]
    },
    {
     "name": "stdout",
     "output_type": "stream",
     "text": [
      "Epoch 68\n",
      "-------------------------------\n"
     ]
    },
    {
     "name": "stderr",
     "output_type": "stream",
     "text": [
      "\u001b[37m\u001b[01m[2021-05-20 01:29:51,192] [Epoch: 68] [Batch: 10 of 157] [Loss = 0.0001] [Accuracy = 100.00] [0.039 sec/batch]\u001b[0m\n",
      "\u001b[37m\u001b[01m[2021-05-20 01:29:51,608] [Epoch: 68] [Batch: 20 of 157] [Loss = 0.0001] [Accuracy = 100.00] [0.041 sec/batch]\u001b[0m\n",
      "\u001b[37m\u001b[01m[2021-05-20 01:29:52,039] [Epoch: 68] [Batch: 30 of 157] [Loss = 0.0001] [Accuracy = 100.00] [0.044 sec/batch]\u001b[0m\n",
      "\u001b[37m\u001b[01m[2021-05-20 01:29:52,473] [Epoch: 68] [Batch: 40 of 157] [Loss = 0.0000] [Accuracy = 100.00] [0.043 sec/batch]\u001b[0m\n",
      "\u001b[37m\u001b[01m[2021-05-20 01:29:52,908] [Epoch: 68] [Batch: 50 of 157] [Loss = 0.0001] [Accuracy = 100.00] [0.042 sec/batch]\u001b[0m\n",
      "\u001b[37m\u001b[01m[2021-05-20 01:29:53,331] [Epoch: 68] [Batch: 60 of 157] [Loss = 0.0001] [Accuracy = 100.00] [0.038 sec/batch]\u001b[0m\n",
      "\u001b[37m\u001b[01m[2021-05-20 01:29:53,757] [Epoch: 68] [Batch: 70 of 157] [Loss = 0.0001] [Accuracy = 100.00] [0.044 sec/batch]\u001b[0m\n",
      "\u001b[37m\u001b[01m[2021-05-20 01:29:54,189] [Epoch: 68] [Batch: 80 of 157] [Loss = 0.0001] [Accuracy = 100.00] [0.041 sec/batch]\u001b[0m\n",
      "\u001b[37m\u001b[01m[2021-05-20 01:29:54,619] [Epoch: 68] [Batch: 90 of 157] [Loss = 0.0001] [Accuracy = 100.00] [0.041 sec/batch]\u001b[0m\n",
      "\u001b[37m\u001b[01m[2021-05-20 01:29:55,064] [Epoch: 68] [Batch: 100 of 157] [Loss = 0.0001] [Accuracy = 100.00] [0.043 sec/batch]\u001b[0m\n",
      "\u001b[37m\u001b[01m[2021-05-20 01:29:55,504] [Epoch: 68] [Batch: 110 of 157] [Loss = 0.0001] [Accuracy = 100.00] [0.043 sec/batch]\u001b[0m\n",
      "\u001b[37m\u001b[01m[2021-05-20 01:29:55,942] [Epoch: 68] [Batch: 120 of 157] [Loss = 0.0001] [Accuracy = 100.00] [0.041 sec/batch]\u001b[0m\n",
      "\u001b[37m\u001b[01m[2021-05-20 01:29:56,360] [Epoch: 68] [Batch: 130 of 157] [Loss = 0.0001] [Accuracy = 100.00] [0.041 sec/batch]\u001b[0m\n",
      "\u001b[37m\u001b[01m[2021-05-20 01:29:56,767] [Epoch: 68] [Batch: 140 of 157] [Loss = 0.0001] [Accuracy = 100.00] [0.043 sec/batch]\u001b[0m\n",
      "\u001b[37m\u001b[01m[2021-05-20 01:29:57,172] [Epoch: 68] [Batch: 150 of 157] [Loss = 0.0001] [Accuracy = 100.00] [0.039 sec/batch]\u001b[0m\n",
      "\u001b[37m\u001b[01m[2021-05-20 01:29:57,452] [Epoch: 69] [Batch: 0 of 157] [Loss = 0.0001] [Accuracy = 100.00] [0.040 sec/batch]\u001b[0m\n"
     ]
    },
    {
     "name": "stdout",
     "output_type": "stream",
     "text": [
      "Epoch 69\n",
      "-------------------------------\n"
     ]
    },
    {
     "name": "stderr",
     "output_type": "stream",
     "text": [
      "\u001b[37m\u001b[01m[2021-05-20 01:29:57,881] [Epoch: 69] [Batch: 10 of 157] [Loss = 0.0000] [Accuracy = 100.00] [0.038 sec/batch]\u001b[0m\n",
      "\u001b[37m\u001b[01m[2021-05-20 01:29:58,298] [Epoch: 69] [Batch: 20 of 157] [Loss = 0.0001] [Accuracy = 100.00] [0.042 sec/batch]\u001b[0m\n",
      "\u001b[37m\u001b[01m[2021-05-20 01:29:58,735] [Epoch: 69] [Batch: 30 of 157] [Loss = 0.0001] [Accuracy = 100.00] [0.040 sec/batch]\u001b[0m\n",
      "\u001b[37m\u001b[01m[2021-05-20 01:29:59,151] [Epoch: 69] [Batch: 40 of 157] [Loss = 0.0001] [Accuracy = 100.00] [0.044 sec/batch]\u001b[0m\n",
      "\u001b[37m\u001b[01m[2021-05-20 01:29:59,587] [Epoch: 69] [Batch: 50 of 157] [Loss = 0.0001] [Accuracy = 100.00] [0.044 sec/batch]\u001b[0m\n",
      "\u001b[37m\u001b[01m[2021-05-20 01:30:00,015] [Epoch: 69] [Batch: 60 of 157] [Loss = 0.0001] [Accuracy = 100.00] [0.044 sec/batch]\u001b[0m\n",
      "\u001b[37m\u001b[01m[2021-05-20 01:30:00,446] [Epoch: 69] [Batch: 70 of 157] [Loss = 0.0000] [Accuracy = 100.00] [0.045 sec/batch]\u001b[0m\n",
      "\u001b[37m\u001b[01m[2021-05-20 01:30:00,870] [Epoch: 69] [Batch: 80 of 157] [Loss = 0.0001] [Accuracy = 100.00] [0.040 sec/batch]\u001b[0m\n",
      "\u001b[37m\u001b[01m[2021-05-20 01:30:01,300] [Epoch: 69] [Batch: 90 of 157] [Loss = 0.0001] [Accuracy = 100.00] [0.039 sec/batch]\u001b[0m\n",
      "\u001b[37m\u001b[01m[2021-05-20 01:30:01,729] [Epoch: 69] [Batch: 100 of 157] [Loss = 0.0001] [Accuracy = 100.00] [0.045 sec/batch]\u001b[0m\n",
      "\u001b[37m\u001b[01m[2021-05-20 01:30:02,175] [Epoch: 69] [Batch: 110 of 157] [Loss = 0.0001] [Accuracy = 100.00] [0.043 sec/batch]\u001b[0m\n",
      "\u001b[37m\u001b[01m[2021-05-20 01:30:02,612] [Epoch: 69] [Batch: 120 of 157] [Loss = 0.0001] [Accuracy = 100.00] [0.041 sec/batch]\u001b[0m\n",
      "\u001b[37m\u001b[01m[2021-05-20 01:30:03,044] [Epoch: 69] [Batch: 130 of 157] [Loss = 0.0001] [Accuracy = 100.00] [0.039 sec/batch]\u001b[0m\n",
      "\u001b[37m\u001b[01m[2021-05-20 01:30:03,456] [Epoch: 69] [Batch: 140 of 157] [Loss = 0.0001] [Accuracy = 100.00] [0.039 sec/batch]\u001b[0m\n",
      "\u001b[37m\u001b[01m[2021-05-20 01:30:03,864] [Epoch: 69] [Batch: 150 of 157] [Loss = 0.0001] [Accuracy = 100.00] [0.041 sec/batch]\u001b[0m\n",
      "\u001b[37m\u001b[01m[2021-05-20 01:30:04,158] [Epoch: 70] [Batch: 0 of 157] [Loss = 0.0001] [Accuracy = 100.00] [0.039 sec/batch]\u001b[0m\n"
     ]
    },
    {
     "name": "stdout",
     "output_type": "stream",
     "text": [
      "Epoch 70\n",
      "-------------------------------\n"
     ]
    },
    {
     "name": "stderr",
     "output_type": "stream",
     "text": [
      "\u001b[37m\u001b[01m[2021-05-20 01:30:04,574] [Epoch: 70] [Batch: 10 of 157] [Loss = 0.0000] [Accuracy = 100.00] [0.040 sec/batch]\u001b[0m\n",
      "\u001b[37m\u001b[01m[2021-05-20 01:30:04,977] [Epoch: 70] [Batch: 20 of 157] [Loss = 0.0000] [Accuracy = 100.00] [0.039 sec/batch]\u001b[0m\n",
      "\u001b[37m\u001b[01m[2021-05-20 01:30:05,411] [Epoch: 70] [Batch: 30 of 157] [Loss = 0.0001] [Accuracy = 100.00] [0.043 sec/batch]\u001b[0m\n",
      "\u001b[37m\u001b[01m[2021-05-20 01:30:05,839] [Epoch: 70] [Batch: 40 of 157] [Loss = 0.0001] [Accuracy = 100.00] [0.042 sec/batch]\u001b[0m\n",
      "\u001b[37m\u001b[01m[2021-05-20 01:30:06,264] [Epoch: 70] [Batch: 50 of 157] [Loss = 0.0001] [Accuracy = 100.00] [0.041 sec/batch]\u001b[0m\n",
      "\u001b[37m\u001b[01m[2021-05-20 01:30:06,686] [Epoch: 70] [Batch: 60 of 157] [Loss = 0.0001] [Accuracy = 100.00] [0.041 sec/batch]\u001b[0m\n",
      "\u001b[37m\u001b[01m[2021-05-20 01:30:07,099] [Epoch: 70] [Batch: 70 of 157] [Loss = 0.0001] [Accuracy = 100.00] [0.040 sec/batch]\u001b[0m\n",
      "\u001b[37m\u001b[01m[2021-05-20 01:30:07,523] [Epoch: 70] [Batch: 80 of 157] [Loss = 0.0001] [Accuracy = 100.00] [0.042 sec/batch]\u001b[0m\n",
      "\u001b[37m\u001b[01m[2021-05-20 01:30:07,951] [Epoch: 70] [Batch: 90 of 157] [Loss = 0.0000] [Accuracy = 100.00] [0.038 sec/batch]\u001b[0m\n",
      "\u001b[37m\u001b[01m[2021-05-20 01:30:08,366] [Epoch: 70] [Batch: 100 of 157] [Loss = 0.0001] [Accuracy = 100.00] [0.034 sec/batch]\u001b[0m\n",
      "\u001b[37m\u001b[01m[2021-05-20 01:30:08,784] [Epoch: 70] [Batch: 110 of 157] [Loss = 0.0001] [Accuracy = 100.00] [0.041 sec/batch]\u001b[0m\n",
      "\u001b[37m\u001b[01m[2021-05-20 01:30:09,195] [Epoch: 70] [Batch: 120 of 157] [Loss = 0.0001] [Accuracy = 100.00] [0.048 sec/batch]\u001b[0m\n",
      "\u001b[37m\u001b[01m[2021-05-20 01:30:09,620] [Epoch: 70] [Batch: 130 of 157] [Loss = 0.0001] [Accuracy = 100.00] [0.043 sec/batch]\u001b[0m\n",
      "\u001b[37m\u001b[01m[2021-05-20 01:30:10,043] [Epoch: 70] [Batch: 140 of 157] [Loss = 0.0001] [Accuracy = 100.00] [0.043 sec/batch]\u001b[0m\n",
      "\u001b[37m\u001b[01m[2021-05-20 01:30:10,455] [Epoch: 70] [Batch: 150 of 157] [Loss = 0.0001] [Accuracy = 100.00] [0.039 sec/batch]\u001b[0m\n",
      "\u001b[37m\u001b[01m[2021-05-20 01:30:10,735] [Epoch: 71] [Batch: 0 of 157] [Loss = 0.0001] [Accuracy = 100.00] [0.043 sec/batch]\u001b[0m\n"
     ]
    },
    {
     "name": "stdout",
     "output_type": "stream",
     "text": [
      "Epoch 71\n",
      "-------------------------------\n"
     ]
    },
    {
     "name": "stderr",
     "output_type": "stream",
     "text": [
      "\u001b[37m\u001b[01m[2021-05-20 01:30:11,155] [Epoch: 71] [Batch: 10 of 157] [Loss = 0.0000] [Accuracy = 100.00] [0.041 sec/batch]\u001b[0m\n",
      "\u001b[37m\u001b[01m[2021-05-20 01:30:11,575] [Epoch: 71] [Batch: 20 of 157] [Loss = 0.0000] [Accuracy = 100.00] [0.039 sec/batch]\u001b[0m\n",
      "\u001b[37m\u001b[01m[2021-05-20 01:30:11,989] [Epoch: 71] [Batch: 30 of 157] [Loss = 0.0000] [Accuracy = 100.00] [0.039 sec/batch]\u001b[0m\n",
      "\u001b[37m\u001b[01m[2021-05-20 01:30:12,415] [Epoch: 71] [Batch: 40 of 157] [Loss = 0.0000] [Accuracy = 100.00] [0.041 sec/batch]\u001b[0m\n",
      "\u001b[37m\u001b[01m[2021-05-20 01:30:12,850] [Epoch: 71] [Batch: 50 of 157] [Loss = 0.0001] [Accuracy = 100.00] [0.042 sec/batch]\u001b[0m\n",
      "\u001b[37m\u001b[01m[2021-05-20 01:30:13,271] [Epoch: 71] [Batch: 60 of 157] [Loss = 0.0000] [Accuracy = 100.00] [0.044 sec/batch]\u001b[0m\n",
      "\u001b[37m\u001b[01m[2021-05-20 01:30:13,690] [Epoch: 71] [Batch: 70 of 157] [Loss = 0.0000] [Accuracy = 100.00] [0.039 sec/batch]\u001b[0m\n",
      "\u001b[37m\u001b[01m[2021-05-20 01:30:14,089] [Epoch: 71] [Batch: 80 of 157] [Loss = 0.0001] [Accuracy = 100.00] [0.039 sec/batch]\u001b[0m\n",
      "\u001b[37m\u001b[01m[2021-05-20 01:30:14,489] [Epoch: 71] [Batch: 90 of 157] [Loss = 0.0000] [Accuracy = 100.00] [0.041 sec/batch]\u001b[0m\n",
      "\u001b[37m\u001b[01m[2021-05-20 01:30:14,895] [Epoch: 71] [Batch: 100 of 157] [Loss = 0.0000] [Accuracy = 100.00] [0.041 sec/batch]\u001b[0m\n",
      "\u001b[37m\u001b[01m[2021-05-20 01:30:15,312] [Epoch: 71] [Batch: 110 of 157] [Loss = 0.0000] [Accuracy = 100.00] [0.037 sec/batch]\u001b[0m\n",
      "\u001b[37m\u001b[01m[2021-05-20 01:30:15,744] [Epoch: 71] [Batch: 120 of 157] [Loss = 0.0000] [Accuracy = 100.00] [0.045 sec/batch]\u001b[0m\n",
      "\u001b[37m\u001b[01m[2021-05-20 01:30:16,139] [Epoch: 71] [Batch: 130 of 157] [Loss = 0.0000] [Accuracy = 100.00] [0.039 sec/batch]\u001b[0m\n",
      "\u001b[37m\u001b[01m[2021-05-20 01:30:16,577] [Epoch: 71] [Batch: 140 of 157] [Loss = 0.0001] [Accuracy = 100.00] [0.044 sec/batch]\u001b[0m\n",
      "\u001b[37m\u001b[01m[2021-05-20 01:30:17,003] [Epoch: 71] [Batch: 150 of 157] [Loss = 0.0001] [Accuracy = 100.00] [0.043 sec/batch]\u001b[0m\n",
      "\u001b[37m\u001b[01m[2021-05-20 01:30:17,308] [Epoch: 72] [Batch: 0 of 157] [Loss = 0.0001] [Accuracy = 100.00] [0.041 sec/batch]\u001b[0m\n"
     ]
    },
    {
     "name": "stdout",
     "output_type": "stream",
     "text": [
      "Epoch 72\n",
      "-------------------------------\n"
     ]
    },
    {
     "name": "stderr",
     "output_type": "stream",
     "text": [
      "\u001b[37m\u001b[01m[2021-05-20 01:30:17,735] [Epoch: 72] [Batch: 10 of 157] [Loss = 0.0001] [Accuracy = 100.00] [0.042 sec/batch]\u001b[0m\n",
      "\u001b[37m\u001b[01m[2021-05-20 01:30:18,176] [Epoch: 72] [Batch: 20 of 157] [Loss = 0.0000] [Accuracy = 100.00] [0.043 sec/batch]\u001b[0m\n",
      "\u001b[37m\u001b[01m[2021-05-20 01:30:18,591] [Epoch: 72] [Batch: 30 of 157] [Loss = 0.0000] [Accuracy = 100.00] [0.039 sec/batch]\u001b[0m\n",
      "\u001b[37m\u001b[01m[2021-05-20 01:30:19,014] [Epoch: 72] [Batch: 40 of 157] [Loss = 0.0000] [Accuracy = 100.00] [0.043 sec/batch]\u001b[0m\n",
      "\u001b[37m\u001b[01m[2021-05-20 01:30:19,430] [Epoch: 72] [Batch: 50 of 157] [Loss = 0.0000] [Accuracy = 100.00] [0.040 sec/batch]\u001b[0m\n",
      "\u001b[37m\u001b[01m[2021-05-20 01:30:19,852] [Epoch: 72] [Batch: 60 of 157] [Loss = 0.0000] [Accuracy = 100.00] [0.042 sec/batch]\u001b[0m\n",
      "\u001b[37m\u001b[01m[2021-05-20 01:30:20,272] [Epoch: 72] [Batch: 70 of 157] [Loss = 0.0000] [Accuracy = 100.00] [0.040 sec/batch]\u001b[0m\n",
      "\u001b[37m\u001b[01m[2021-05-20 01:30:20,695] [Epoch: 72] [Batch: 80 of 157] [Loss = 0.0000] [Accuracy = 100.00] [0.044 sec/batch]\u001b[0m\n",
      "\u001b[37m\u001b[01m[2021-05-20 01:30:21,094] [Epoch: 72] [Batch: 90 of 157] [Loss = 0.0000] [Accuracy = 100.00] [0.036 sec/batch]\u001b[0m\n",
      "\u001b[37m\u001b[01m[2021-05-20 01:30:21,500] [Epoch: 72] [Batch: 100 of 157] [Loss = 0.0000] [Accuracy = 100.00] [0.040 sec/batch]\u001b[0m\n",
      "\u001b[37m\u001b[01m[2021-05-20 01:30:21,908] [Epoch: 72] [Batch: 110 of 157] [Loss = 0.0000] [Accuracy = 100.00] [0.041 sec/batch]\u001b[0m\n",
      "\u001b[37m\u001b[01m[2021-05-20 01:30:22,316] [Epoch: 72] [Batch: 120 of 157] [Loss = 0.0000] [Accuracy = 100.00] [0.041 sec/batch]\u001b[0m\n",
      "\u001b[37m\u001b[01m[2021-05-20 01:30:22,720] [Epoch: 72] [Batch: 130 of 157] [Loss = 0.0001] [Accuracy = 100.00] [0.040 sec/batch]\u001b[0m\n",
      "\u001b[37m\u001b[01m[2021-05-20 01:30:23,152] [Epoch: 72] [Batch: 140 of 157] [Loss = 0.0001] [Accuracy = 100.00] [0.040 sec/batch]\u001b[0m\n",
      "\u001b[37m\u001b[01m[2021-05-20 01:30:23,576] [Epoch: 72] [Batch: 150 of 157] [Loss = 0.0000] [Accuracy = 100.00] [0.039 sec/batch]\u001b[0m\n",
      "\u001b[37m\u001b[01m[2021-05-20 01:30:23,863] [Epoch: 73] [Batch: 0 of 157] [Loss = 0.0001] [Accuracy = 100.00] [0.037 sec/batch]\u001b[0m\n"
     ]
    },
    {
     "name": "stdout",
     "output_type": "stream",
     "text": [
      "Epoch 73\n",
      "-------------------------------\n"
     ]
    },
    {
     "name": "stderr",
     "output_type": "stream",
     "text": [
      "\u001b[37m\u001b[01m[2021-05-20 01:30:24,271] [Epoch: 73] [Batch: 10 of 157] [Loss = 0.0000] [Accuracy = 100.00] [0.039 sec/batch]\u001b[0m\n",
      "\u001b[37m\u001b[01m[2021-05-20 01:30:24,675] [Epoch: 73] [Batch: 20 of 157] [Loss = 0.0000] [Accuracy = 100.00] [0.039 sec/batch]\u001b[0m\n",
      "\u001b[37m\u001b[01m[2021-05-20 01:30:25,099] [Epoch: 73] [Batch: 30 of 157] [Loss = 0.0000] [Accuracy = 100.00] [0.040 sec/batch]\u001b[0m\n",
      "\u001b[37m\u001b[01m[2021-05-20 01:30:25,523] [Epoch: 73] [Batch: 40 of 157] [Loss = 0.0001] [Accuracy = 100.00] [0.042 sec/batch]\u001b[0m\n",
      "\u001b[37m\u001b[01m[2021-05-20 01:30:25,935] [Epoch: 73] [Batch: 50 of 157] [Loss = 0.0000] [Accuracy = 100.00] [0.039 sec/batch]\u001b[0m\n",
      "\u001b[37m\u001b[01m[2021-05-20 01:30:26,354] [Epoch: 73] [Batch: 60 of 157] [Loss = 0.0000] [Accuracy = 100.00] [0.040 sec/batch]\u001b[0m\n",
      "\u001b[37m\u001b[01m[2021-05-20 01:30:26,759] [Epoch: 73] [Batch: 70 of 157] [Loss = 0.0000] [Accuracy = 100.00] [0.040 sec/batch]\u001b[0m\n",
      "\u001b[37m\u001b[01m[2021-05-20 01:30:27,162] [Epoch: 73] [Batch: 80 of 157] [Loss = 0.0000] [Accuracy = 100.00] [0.036 sec/batch]\u001b[0m\n",
      "\u001b[37m\u001b[01m[2021-05-20 01:30:27,580] [Epoch: 73] [Batch: 90 of 157] [Loss = 0.0000] [Accuracy = 100.00] [0.042 sec/batch]\u001b[0m\n",
      "\u001b[37m\u001b[01m[2021-05-20 01:30:28,007] [Epoch: 73] [Batch: 100 of 157] [Loss = 0.0000] [Accuracy = 100.00] [0.042 sec/batch]\u001b[0m\n",
      "\u001b[37m\u001b[01m[2021-05-20 01:30:28,417] [Epoch: 73] [Batch: 110 of 157] [Loss = 0.0000] [Accuracy = 100.00] [0.041 sec/batch]\u001b[0m\n",
      "\u001b[37m\u001b[01m[2021-05-20 01:30:28,823] [Epoch: 73] [Batch: 120 of 157] [Loss = 0.0000] [Accuracy = 100.00] [0.036 sec/batch]\u001b[0m\n",
      "\u001b[37m\u001b[01m[2021-05-20 01:30:29,227] [Epoch: 73] [Batch: 130 of 157] [Loss = 0.0000] [Accuracy = 100.00] [0.038 sec/batch]\u001b[0m\n",
      "\u001b[37m\u001b[01m[2021-05-20 01:30:29,632] [Epoch: 73] [Batch: 140 of 157] [Loss = 0.0000] [Accuracy = 100.00] [0.038 sec/batch]\u001b[0m\n",
      "\u001b[37m\u001b[01m[2021-05-20 01:30:30,035] [Epoch: 73] [Batch: 150 of 157] [Loss = 0.0000] [Accuracy = 100.00] [0.039 sec/batch]\u001b[0m\n",
      "\u001b[37m\u001b[01m[2021-05-20 01:30:30,312] [Epoch: 74] [Batch: 0 of 157] [Loss = 0.0000] [Accuracy = 100.00] [0.042 sec/batch]\u001b[0m\n"
     ]
    },
    {
     "name": "stdout",
     "output_type": "stream",
     "text": [
      "Epoch 74\n",
      "-------------------------------\n"
     ]
    },
    {
     "name": "stderr",
     "output_type": "stream",
     "text": [
      "\u001b[37m\u001b[01m[2021-05-20 01:30:30,712] [Epoch: 74] [Batch: 10 of 157] [Loss = 0.0000] [Accuracy = 100.00] [0.042 sec/batch]\u001b[0m\n",
      "\u001b[37m\u001b[01m[2021-05-20 01:30:31,112] [Epoch: 74] [Batch: 20 of 157] [Loss = 0.0000] [Accuracy = 100.00] [0.034 sec/batch]\u001b[0m\n",
      "\u001b[37m\u001b[01m[2021-05-20 01:30:31,515] [Epoch: 74] [Batch: 30 of 157] [Loss = 0.0000] [Accuracy = 100.00] [0.041 sec/batch]\u001b[0m\n",
      "\u001b[37m\u001b[01m[2021-05-20 01:30:31,915] [Epoch: 74] [Batch: 40 of 157] [Loss = 0.0000] [Accuracy = 100.00] [0.039 sec/batch]\u001b[0m\n",
      "\u001b[37m\u001b[01m[2021-05-20 01:30:32,311] [Epoch: 74] [Batch: 50 of 157] [Loss = 0.0000] [Accuracy = 100.00] [0.035 sec/batch]\u001b[0m\n",
      "\u001b[37m\u001b[01m[2021-05-20 01:30:32,707] [Epoch: 74] [Batch: 60 of 157] [Loss = 0.0000] [Accuracy = 100.00] [0.038 sec/batch]\u001b[0m\n",
      "\u001b[37m\u001b[01m[2021-05-20 01:30:33,100] [Epoch: 74] [Batch: 70 of 157] [Loss = 0.0000] [Accuracy = 100.00] [0.034 sec/batch]\u001b[0m\n",
      "\u001b[37m\u001b[01m[2021-05-20 01:30:33,492] [Epoch: 74] [Batch: 80 of 157] [Loss = 0.0000] [Accuracy = 100.00] [0.040 sec/batch]\u001b[0m\n",
      "\u001b[37m\u001b[01m[2021-05-20 01:30:33,881] [Epoch: 74] [Batch: 90 of 157] [Loss = 0.0000] [Accuracy = 100.00] [0.041 sec/batch]\u001b[0m\n",
      "\u001b[37m\u001b[01m[2021-05-20 01:30:34,272] [Epoch: 74] [Batch: 100 of 157] [Loss = 0.0000] [Accuracy = 100.00] [0.039 sec/batch]\u001b[0m\n",
      "\u001b[37m\u001b[01m[2021-05-20 01:30:34,676] [Epoch: 74] [Batch: 110 of 157] [Loss = 0.0000] [Accuracy = 100.00] [0.044 sec/batch]\u001b[0m\n",
      "\u001b[37m\u001b[01m[2021-05-20 01:30:35,100] [Epoch: 74] [Batch: 120 of 157] [Loss = 0.0000] [Accuracy = 100.00] [0.042 sec/batch]\u001b[0m\n",
      "\u001b[37m\u001b[01m[2021-05-20 01:30:35,520] [Epoch: 74] [Batch: 130 of 157] [Loss = 0.0000] [Accuracy = 100.00] [0.040 sec/batch]\u001b[0m\n",
      "\u001b[37m\u001b[01m[2021-05-20 01:30:35,948] [Epoch: 74] [Batch: 140 of 157] [Loss = 0.0000] [Accuracy = 100.00] [0.040 sec/batch]\u001b[0m\n",
      "\u001b[37m\u001b[01m[2021-05-20 01:30:36,376] [Epoch: 74] [Batch: 150 of 157] [Loss = 0.0000] [Accuracy = 100.00] [0.044 sec/batch]\u001b[0m\n",
      "\u001b[37m\u001b[01m[2021-05-20 01:30:36,675] [Epoch: 75] [Batch: 0 of 157] [Loss = 0.0000] [Accuracy = 100.00] [0.039 sec/batch]\u001b[0m\n"
     ]
    },
    {
     "name": "stdout",
     "output_type": "stream",
     "text": [
      "Epoch 75\n",
      "-------------------------------\n"
     ]
    },
    {
     "name": "stderr",
     "output_type": "stream",
     "text": [
      "\u001b[37m\u001b[01m[2021-05-20 01:30:37,099] [Epoch: 75] [Batch: 10 of 157] [Loss = 0.0000] [Accuracy = 100.00] [0.039 sec/batch]\u001b[0m\n",
      "\u001b[37m\u001b[01m[2021-05-20 01:30:37,512] [Epoch: 75] [Batch: 20 of 157] [Loss = 0.0000] [Accuracy = 100.00] [0.039 sec/batch]\u001b[0m\n",
      "\u001b[37m\u001b[01m[2021-05-20 01:30:37,923] [Epoch: 75] [Batch: 30 of 157] [Loss = 0.0000] [Accuracy = 100.00] [0.039 sec/batch]\u001b[0m\n",
      "\u001b[37m\u001b[01m[2021-05-20 01:30:38,343] [Epoch: 75] [Batch: 40 of 157] [Loss = 0.0000] [Accuracy = 100.00] [0.049 sec/batch]\u001b[0m\n",
      "\u001b[37m\u001b[01m[2021-05-20 01:30:38,784] [Epoch: 75] [Batch: 50 of 157] [Loss = 0.0000] [Accuracy = 100.00] [0.040 sec/batch]\u001b[0m\n",
      "\u001b[37m\u001b[01m[2021-05-20 01:30:39,228] [Epoch: 75] [Batch: 60 of 157] [Loss = 0.0000] [Accuracy = 100.00] [0.042 sec/batch]\u001b[0m\n",
      "\u001b[37m\u001b[01m[2021-05-20 01:30:39,656] [Epoch: 75] [Batch: 70 of 157] [Loss = 0.0000] [Accuracy = 100.00] [0.046 sec/batch]\u001b[0m\n",
      "\u001b[37m\u001b[01m[2021-05-20 01:30:40,079] [Epoch: 75] [Batch: 80 of 157] [Loss = 0.0000] [Accuracy = 100.00] [0.041 sec/batch]\u001b[0m\n",
      "\u001b[37m\u001b[01m[2021-05-20 01:30:40,491] [Epoch: 75] [Batch: 90 of 157] [Loss = 0.0000] [Accuracy = 100.00] [0.039 sec/batch]\u001b[0m\n",
      "\u001b[37m\u001b[01m[2021-05-20 01:30:40,916] [Epoch: 75] [Batch: 100 of 157] [Loss = 0.0000] [Accuracy = 100.00] [0.039 sec/batch]\u001b[0m\n",
      "\u001b[37m\u001b[01m[2021-05-20 01:30:41,344] [Epoch: 75] [Batch: 110 of 157] [Loss = 0.0000] [Accuracy = 100.00] [0.039 sec/batch]\u001b[0m\n",
      "\u001b[37m\u001b[01m[2021-05-20 01:30:41,769] [Epoch: 75] [Batch: 120 of 157] [Loss = 0.0000] [Accuracy = 100.00] [0.044 sec/batch]\u001b[0m\n",
      "\u001b[37m\u001b[01m[2021-05-20 01:30:42,201] [Epoch: 75] [Batch: 130 of 157] [Loss = 0.0000] [Accuracy = 100.00] [0.040 sec/batch]\u001b[0m\n",
      "\u001b[37m\u001b[01m[2021-05-20 01:30:42,619] [Epoch: 75] [Batch: 140 of 157] [Loss = 0.0000] [Accuracy = 100.00] [0.041 sec/batch]\u001b[0m\n",
      "\u001b[37m\u001b[01m[2021-05-20 01:30:43,034] [Epoch: 75] [Batch: 150 of 157] [Loss = 0.0000] [Accuracy = 100.00] [0.045 sec/batch]\u001b[0m\n",
      "\u001b[37m\u001b[01m[2021-05-20 01:30:43,331] [Epoch: 76] [Batch: 0 of 157] [Loss = 0.0000] [Accuracy = 100.00] [0.044 sec/batch]\u001b[0m\n"
     ]
    },
    {
     "name": "stdout",
     "output_type": "stream",
     "text": [
      "Epoch 76\n",
      "-------------------------------\n"
     ]
    },
    {
     "name": "stderr",
     "output_type": "stream",
     "text": [
      "\u001b[37m\u001b[01m[2021-05-20 01:30:43,734] [Epoch: 76] [Batch: 10 of 157] [Loss = 0.0000] [Accuracy = 100.00] [0.036 sec/batch]\u001b[0m\n",
      "\u001b[37m\u001b[01m[2021-05-20 01:30:44,126] [Epoch: 76] [Batch: 20 of 157] [Loss = 0.0000] [Accuracy = 100.00] [0.036 sec/batch]\u001b[0m\n",
      "\u001b[37m\u001b[01m[2021-05-20 01:30:44,530] [Epoch: 76] [Batch: 30 of 157] [Loss = 0.0000] [Accuracy = 100.00] [0.041 sec/batch]\u001b[0m\n",
      "\u001b[37m\u001b[01m[2021-05-20 01:30:44,943] [Epoch: 76] [Batch: 40 of 157] [Loss = 0.0000] [Accuracy = 100.00] [0.039 sec/batch]\u001b[0m\n",
      "\u001b[37m\u001b[01m[2021-05-20 01:30:45,358] [Epoch: 76] [Batch: 50 of 157] [Loss = 0.0000] [Accuracy = 100.00] [0.039 sec/batch]\u001b[0m\n",
      "\u001b[37m\u001b[01m[2021-05-20 01:30:45,790] [Epoch: 76] [Batch: 60 of 157] [Loss = 0.0000] [Accuracy = 100.00] [0.044 sec/batch]\u001b[0m\n",
      "\u001b[37m\u001b[01m[2021-05-20 01:30:46,221] [Epoch: 76] [Batch: 70 of 157] [Loss = 0.0000] [Accuracy = 100.00] [0.039 sec/batch]\u001b[0m\n",
      "\u001b[37m\u001b[01m[2021-05-20 01:30:46,643] [Epoch: 76] [Batch: 80 of 157] [Loss = 0.0000] [Accuracy = 100.00] [0.046 sec/batch]\u001b[0m\n",
      "\u001b[37m\u001b[01m[2021-05-20 01:30:47,061] [Epoch: 76] [Batch: 90 of 157] [Loss = 0.0000] [Accuracy = 100.00] [0.040 sec/batch]\u001b[0m\n",
      "\u001b[37m\u001b[01m[2021-05-20 01:30:47,481] [Epoch: 76] [Batch: 100 of 157] [Loss = 0.0000] [Accuracy = 100.00] [0.040 sec/batch]\u001b[0m\n",
      "\u001b[37m\u001b[01m[2021-05-20 01:30:47,924] [Epoch: 76] [Batch: 110 of 157] [Loss = 0.0000] [Accuracy = 100.00] [0.042 sec/batch]\u001b[0m\n",
      "\u001b[37m\u001b[01m[2021-05-20 01:30:48,357] [Epoch: 76] [Batch: 120 of 157] [Loss = 0.0000] [Accuracy = 100.00] [0.041 sec/batch]\u001b[0m\n",
      "\u001b[37m\u001b[01m[2021-05-20 01:30:48,800] [Epoch: 76] [Batch: 130 of 157] [Loss = 0.0000] [Accuracy = 100.00] [0.044 sec/batch]\u001b[0m\n",
      "\u001b[37m\u001b[01m[2021-05-20 01:30:49,236] [Epoch: 76] [Batch: 140 of 157] [Loss = 0.0000] [Accuracy = 100.00] [0.043 sec/batch]\u001b[0m\n",
      "\u001b[37m\u001b[01m[2021-05-20 01:30:49,654] [Epoch: 76] [Batch: 150 of 157] [Loss = 0.0000] [Accuracy = 100.00] [0.035 sec/batch]\u001b[0m\n",
      "\u001b[37m\u001b[01m[2021-05-20 01:30:49,939] [Epoch: 77] [Batch: 0 of 157] [Loss = 0.0000] [Accuracy = 100.00] [0.039 sec/batch]\u001b[0m\n"
     ]
    },
    {
     "name": "stdout",
     "output_type": "stream",
     "text": [
      "Epoch 77\n",
      "-------------------------------\n"
     ]
    },
    {
     "name": "stderr",
     "output_type": "stream",
     "text": [
      "\u001b[37m\u001b[01m[2021-05-20 01:30:50,360] [Epoch: 77] [Batch: 10 of 157] [Loss = 0.0000] [Accuracy = 100.00] [0.043 sec/batch]\u001b[0m\n",
      "\u001b[37m\u001b[01m[2021-05-20 01:30:50,788] [Epoch: 77] [Batch: 20 of 157] [Loss = 0.0000] [Accuracy = 100.00] [0.039 sec/batch]\u001b[0m\n",
      "\u001b[37m\u001b[01m[2021-05-20 01:30:51,210] [Epoch: 77] [Batch: 30 of 157] [Loss = 0.0000] [Accuracy = 100.00] [0.043 sec/batch]\u001b[0m\n",
      "\u001b[37m\u001b[01m[2021-05-20 01:30:51,631] [Epoch: 77] [Batch: 40 of 157] [Loss = 0.0000] [Accuracy = 100.00] [0.041 sec/batch]\u001b[0m\n",
      "\u001b[37m\u001b[01m[2021-05-20 01:30:52,041] [Epoch: 77] [Batch: 50 of 157] [Loss = 0.0000] [Accuracy = 100.00] [0.043 sec/batch]\u001b[0m\n",
      "\u001b[37m\u001b[01m[2021-05-20 01:30:52,450] [Epoch: 77] [Batch: 60 of 157] [Loss = 0.0000] [Accuracy = 100.00] [0.039 sec/batch]\u001b[0m\n",
      "\u001b[37m\u001b[01m[2021-05-20 01:30:52,874] [Epoch: 77] [Batch: 70 of 157] [Loss = 0.0000] [Accuracy = 100.00] [0.042 sec/batch]\u001b[0m\n",
      "\u001b[37m\u001b[01m[2021-05-20 01:30:53,302] [Epoch: 77] [Batch: 80 of 157] [Loss = 0.0000] [Accuracy = 100.00] [0.042 sec/batch]\u001b[0m\n",
      "\u001b[37m\u001b[01m[2021-05-20 01:30:53,733] [Epoch: 77] [Batch: 90 of 157] [Loss = 0.0000] [Accuracy = 100.00] [0.044 sec/batch]\u001b[0m\n",
      "\u001b[37m\u001b[01m[2021-05-20 01:30:54,161] [Epoch: 77] [Batch: 100 of 157] [Loss = 0.0000] [Accuracy = 100.00] [0.037 sec/batch]\u001b[0m\n",
      "\u001b[37m\u001b[01m[2021-05-20 01:30:54,584] [Epoch: 77] [Batch: 110 of 157] [Loss = 0.0000] [Accuracy = 100.00] [0.043 sec/batch]\u001b[0m\n",
      "\u001b[37m\u001b[01m[2021-05-20 01:30:54,996] [Epoch: 77] [Batch: 120 of 157] [Loss = 0.0000] [Accuracy = 100.00] [0.037 sec/batch]\u001b[0m\n",
      "\u001b[37m\u001b[01m[2021-05-20 01:30:55,412] [Epoch: 77] [Batch: 130 of 157] [Loss = 0.0000] [Accuracy = 100.00] [0.042 sec/batch]\u001b[0m\n",
      "\u001b[37m\u001b[01m[2021-05-20 01:30:55,835] [Epoch: 77] [Batch: 140 of 157] [Loss = 0.0000] [Accuracy = 100.00] [0.044 sec/batch]\u001b[0m\n",
      "\u001b[37m\u001b[01m[2021-05-20 01:30:56,259] [Epoch: 77] [Batch: 150 of 157] [Loss = 0.0000] [Accuracy = 100.00] [0.040 sec/batch]\u001b[0m\n",
      "\u001b[37m\u001b[01m[2021-05-20 01:30:56,553] [Epoch: 78] [Batch: 0 of 157] [Loss = 0.0000] [Accuracy = 100.00] [0.037 sec/batch]\u001b[0m\n"
     ]
    },
    {
     "name": "stdout",
     "output_type": "stream",
     "text": [
      "Epoch 78\n",
      "-------------------------------\n"
     ]
    },
    {
     "name": "stderr",
     "output_type": "stream",
     "text": [
      "\u001b[37m\u001b[01m[2021-05-20 01:30:56,979] [Epoch: 78] [Batch: 10 of 157] [Loss = 0.0000] [Accuracy = 100.00] [0.042 sec/batch]\u001b[0m\n",
      "\u001b[37m\u001b[01m[2021-05-20 01:30:57,407] [Epoch: 78] [Batch: 20 of 157] [Loss = 0.0000] [Accuracy = 100.00] [0.039 sec/batch]\u001b[0m\n",
      "\u001b[37m\u001b[01m[2021-05-20 01:30:57,844] [Epoch: 78] [Batch: 30 of 157] [Loss = 0.0000] [Accuracy = 100.00] [0.043 sec/batch]\u001b[0m\n",
      "\u001b[37m\u001b[01m[2021-05-20 01:30:58,256] [Epoch: 78] [Batch: 40 of 157] [Loss = 0.0000] [Accuracy = 100.00] [0.040 sec/batch]\u001b[0m\n",
      "\u001b[37m\u001b[01m[2021-05-20 01:30:58,662] [Epoch: 78] [Batch: 50 of 157] [Loss = 0.0000] [Accuracy = 100.00] [0.042 sec/batch]\u001b[0m\n",
      "\u001b[37m\u001b[01m[2021-05-20 01:30:59,084] [Epoch: 78] [Batch: 60 of 157] [Loss = 0.0000] [Accuracy = 100.00] [0.044 sec/batch]\u001b[0m\n",
      "\u001b[37m\u001b[01m[2021-05-20 01:30:59,504] [Epoch: 78] [Batch: 70 of 157] [Loss = 0.0000] [Accuracy = 100.00] [0.037 sec/batch]\u001b[0m\n",
      "\u001b[37m\u001b[01m[2021-05-20 01:30:59,928] [Epoch: 78] [Batch: 80 of 157] [Loss = 0.0000] [Accuracy = 100.00] [0.042 sec/batch]\u001b[0m\n",
      "\u001b[37m\u001b[01m[2021-05-20 01:31:00,359] [Epoch: 78] [Batch: 90 of 157] [Loss = 0.0000] [Accuracy = 100.00] [0.038 sec/batch]\u001b[0m\n",
      "\u001b[37m\u001b[01m[2021-05-20 01:31:00,780] [Epoch: 78] [Batch: 100 of 157] [Loss = 0.0000] [Accuracy = 100.00] [0.037 sec/batch]\u001b[0m\n",
      "\u001b[37m\u001b[01m[2021-05-20 01:31:01,180] [Epoch: 78] [Batch: 110 of 157] [Loss = 0.0000] [Accuracy = 100.00] [0.038 sec/batch]\u001b[0m\n",
      "\u001b[37m\u001b[01m[2021-05-20 01:31:01,598] [Epoch: 78] [Batch: 120 of 157] [Loss = 0.0000] [Accuracy = 100.00] [0.040 sec/batch]\u001b[0m\n",
      "\u001b[37m\u001b[01m[2021-05-20 01:31:02,031] [Epoch: 78] [Batch: 130 of 157] [Loss = 0.0000] [Accuracy = 100.00] [0.048 sec/batch]\u001b[0m\n",
      "\u001b[37m\u001b[01m[2021-05-20 01:31:02,456] [Epoch: 78] [Batch: 140 of 157] [Loss = 0.0000] [Accuracy = 100.00] [0.039 sec/batch]\u001b[0m\n",
      "\u001b[37m\u001b[01m[2021-05-20 01:31:02,891] [Epoch: 78] [Batch: 150 of 157] [Loss = 0.0000] [Accuracy = 100.00] [0.040 sec/batch]\u001b[0m\n",
      "\u001b[37m\u001b[01m[2021-05-20 01:31:03,187] [Epoch: 79] [Batch: 0 of 157] [Loss = 0.0000] [Accuracy = 100.00] [0.043 sec/batch]\u001b[0m\n"
     ]
    },
    {
     "name": "stdout",
     "output_type": "stream",
     "text": [
      "Epoch 79\n",
      "-------------------------------\n"
     ]
    },
    {
     "name": "stderr",
     "output_type": "stream",
     "text": [
      "\u001b[37m\u001b[01m[2021-05-20 01:31:03,601] [Epoch: 79] [Batch: 10 of 157] [Loss = 0.0000] [Accuracy = 100.00] [0.041 sec/batch]\u001b[0m\n",
      "\u001b[37m\u001b[01m[2021-05-20 01:31:04,015] [Epoch: 79] [Batch: 20 of 157] [Loss = 0.0000] [Accuracy = 100.00] [0.040 sec/batch]\u001b[0m\n",
      "\u001b[37m\u001b[01m[2021-05-20 01:31:04,425] [Epoch: 79] [Batch: 30 of 157] [Loss = 0.0000] [Accuracy = 100.00] [0.037 sec/batch]\u001b[0m\n",
      "\u001b[37m\u001b[01m[2021-05-20 01:31:04,849] [Epoch: 79] [Batch: 40 of 157] [Loss = 0.0000] [Accuracy = 100.00] [0.040 sec/batch]\u001b[0m\n",
      "\u001b[37m\u001b[01m[2021-05-20 01:31:05,275] [Epoch: 79] [Batch: 50 of 157] [Loss = 0.0000] [Accuracy = 100.00] [0.034 sec/batch]\u001b[0m\n",
      "\u001b[37m\u001b[01m[2021-05-20 01:31:05,682] [Epoch: 79] [Batch: 60 of 157] [Loss = 0.0000] [Accuracy = 100.00] [0.040 sec/batch]\u001b[0m\n",
      "\u001b[37m\u001b[01m[2021-05-20 01:31:06,106] [Epoch: 79] [Batch: 70 of 157] [Loss = 0.0000] [Accuracy = 100.00] [0.041 sec/batch]\u001b[0m\n",
      "\u001b[37m\u001b[01m[2021-05-20 01:31:06,515] [Epoch: 79] [Batch: 80 of 157] [Loss = 0.0000] [Accuracy = 100.00] [0.040 sec/batch]\u001b[0m\n",
      "\u001b[37m\u001b[01m[2021-05-20 01:31:06,919] [Epoch: 79] [Batch: 90 of 157] [Loss = 0.0000] [Accuracy = 100.00] [0.039 sec/batch]\u001b[0m\n",
      "\u001b[37m\u001b[01m[2021-05-20 01:31:07,319] [Epoch: 79] [Batch: 100 of 157] [Loss = 0.0000] [Accuracy = 100.00] [0.042 sec/batch]\u001b[0m\n",
      "\u001b[37m\u001b[01m[2021-05-20 01:31:07,718] [Epoch: 79] [Batch: 110 of 157] [Loss = 0.0000] [Accuracy = 100.00] [0.041 sec/batch]\u001b[0m\n",
      "\u001b[37m\u001b[01m[2021-05-20 01:31:08,110] [Epoch: 79] [Batch: 120 of 157] [Loss = 0.0000] [Accuracy = 100.00] [0.038 sec/batch]\u001b[0m\n",
      "\u001b[37m\u001b[01m[2021-05-20 01:31:08,514] [Epoch: 79] [Batch: 130 of 157] [Loss = 0.0000] [Accuracy = 100.00] [0.039 sec/batch]\u001b[0m\n",
      "\u001b[37m\u001b[01m[2021-05-20 01:31:08,929] [Epoch: 79] [Batch: 140 of 157] [Loss = 0.0000] [Accuracy = 100.00] [0.041 sec/batch]\u001b[0m\n",
      "\u001b[37m\u001b[01m[2021-05-20 01:31:09,314] [Epoch: 79] [Batch: 150 of 157] [Loss = 0.0000] [Accuracy = 100.00] [0.038 sec/batch]\u001b[0m\n",
      "\u001b[37m\u001b[01m[2021-05-20 01:31:09,604] [Epoch: 80] [Batch: 0 of 157] [Loss = 0.0000] [Accuracy = 100.00] [0.042 sec/batch]\u001b[0m\n"
     ]
    },
    {
     "name": "stdout",
     "output_type": "stream",
     "text": [
      "Epoch 80\n",
      "-------------------------------\n"
     ]
    },
    {
     "name": "stderr",
     "output_type": "stream",
     "text": [
      "\u001b[37m\u001b[01m[2021-05-20 01:31:10,004] [Epoch: 80] [Batch: 10 of 157] [Loss = 0.0000] [Accuracy = 100.00] [0.042 sec/batch]\u001b[0m\n",
      "\u001b[37m\u001b[01m[2021-05-20 01:31:10,395] [Epoch: 80] [Batch: 20 of 157] [Loss = 0.0000] [Accuracy = 100.00] [0.043 sec/batch]\u001b[0m\n",
      "\u001b[37m\u001b[01m[2021-05-20 01:31:10,788] [Epoch: 80] [Batch: 30 of 157] [Loss = 0.0000] [Accuracy = 100.00] [0.042 sec/batch]\u001b[0m\n",
      "\u001b[37m\u001b[01m[2021-05-20 01:31:11,185] [Epoch: 80] [Batch: 40 of 157] [Loss = 0.0000] [Accuracy = 100.00] [0.039 sec/batch]\u001b[0m\n",
      "\u001b[37m\u001b[01m[2021-05-20 01:31:11,602] [Epoch: 80] [Batch: 50 of 157] [Loss = 0.0000] [Accuracy = 100.00] [0.042 sec/batch]\u001b[0m\n",
      "\u001b[37m\u001b[01m[2021-05-20 01:31:12,015] [Epoch: 80] [Batch: 60 of 157] [Loss = 0.0000] [Accuracy = 100.00] [0.044 sec/batch]\u001b[0m\n",
      "\u001b[37m\u001b[01m[2021-05-20 01:31:12,436] [Epoch: 80] [Batch: 70 of 157] [Loss = 0.0000] [Accuracy = 100.00] [0.051 sec/batch]\u001b[0m\n",
      "\u001b[37m\u001b[01m[2021-05-20 01:31:12,849] [Epoch: 80] [Batch: 80 of 157] [Loss = 0.0000] [Accuracy = 100.00] [0.040 sec/batch]\u001b[0m\n",
      "\u001b[37m\u001b[01m[2021-05-20 01:31:13,251] [Epoch: 80] [Batch: 90 of 157] [Loss = 0.0000] [Accuracy = 100.00] [0.040 sec/batch]\u001b[0m\n",
      "\u001b[37m\u001b[01m[2021-05-20 01:31:13,652] [Epoch: 80] [Batch: 100 of 157] [Loss = 0.0000] [Accuracy = 100.00] [0.039 sec/batch]\u001b[0m\n",
      "\u001b[37m\u001b[01m[2021-05-20 01:31:14,050] [Epoch: 80] [Batch: 110 of 157] [Loss = 0.0000] [Accuracy = 100.00] [0.034 sec/batch]\u001b[0m\n",
      "\u001b[37m\u001b[01m[2021-05-20 01:31:14,440] [Epoch: 80] [Batch: 120 of 157] [Loss = 0.0000] [Accuracy = 100.00] [0.041 sec/batch]\u001b[0m\n",
      "\u001b[37m\u001b[01m[2021-05-20 01:31:14,832] [Epoch: 80] [Batch: 130 of 157] [Loss = 0.0000] [Accuracy = 100.00] [0.039 sec/batch]\u001b[0m\n",
      "\u001b[37m\u001b[01m[2021-05-20 01:31:15,228] [Epoch: 80] [Batch: 140 of 157] [Loss = 0.0000] [Accuracy = 100.00] [0.039 sec/batch]\u001b[0m\n",
      "\u001b[37m\u001b[01m[2021-05-20 01:31:15,619] [Epoch: 80] [Batch: 150 of 157] [Loss = 0.0000] [Accuracy = 100.00] [0.040 sec/batch]\u001b[0m\n",
      "\u001b[37m\u001b[01m[2021-05-20 01:31:15,903] [Epoch: 81] [Batch: 0 of 157] [Loss = 0.0000] [Accuracy = 100.00] [0.037 sec/batch]\u001b[0m\n"
     ]
    },
    {
     "name": "stdout",
     "output_type": "stream",
     "text": [
      "Epoch 81\n",
      "-------------------------------\n"
     ]
    },
    {
     "name": "stderr",
     "output_type": "stream",
     "text": [
      "\u001b[37m\u001b[01m[2021-05-20 01:31:16,307] [Epoch: 81] [Batch: 10 of 157] [Loss = 0.0000] [Accuracy = 100.00] [0.040 sec/batch]\u001b[0m\n",
      "\u001b[37m\u001b[01m[2021-05-20 01:31:16,690] [Epoch: 81] [Batch: 20 of 157] [Loss = 0.0000] [Accuracy = 100.00] [0.040 sec/batch]\u001b[0m\n",
      "\u001b[37m\u001b[01m[2021-05-20 01:31:17,091] [Epoch: 81] [Batch: 30 of 157] [Loss = 0.0000] [Accuracy = 100.00] [0.042 sec/batch]\u001b[0m\n",
      "\u001b[37m\u001b[01m[2021-05-20 01:31:17,489] [Epoch: 81] [Batch: 40 of 157] [Loss = 0.0000] [Accuracy = 100.00] [0.041 sec/batch]\u001b[0m\n",
      "\u001b[37m\u001b[01m[2021-05-20 01:31:17,883] [Epoch: 81] [Batch: 50 of 157] [Loss = 0.0000] [Accuracy = 100.00] [0.039 sec/batch]\u001b[0m\n",
      "\u001b[37m\u001b[01m[2021-05-20 01:31:18,279] [Epoch: 81] [Batch: 60 of 157] [Loss = 0.0000] [Accuracy = 100.00] [0.039 sec/batch]\u001b[0m\n",
      "\u001b[37m\u001b[01m[2021-05-20 01:31:18,683] [Epoch: 81] [Batch: 70 of 157] [Loss = 0.0000] [Accuracy = 100.00] [0.039 sec/batch]\u001b[0m\n",
      "\u001b[37m\u001b[01m[2021-05-20 01:31:19,087] [Epoch: 81] [Batch: 80 of 157] [Loss = 0.0000] [Accuracy = 100.00] [0.038 sec/batch]\u001b[0m\n",
      "\u001b[37m\u001b[01m[2021-05-20 01:31:19,488] [Epoch: 81] [Batch: 90 of 157] [Loss = 0.0000] [Accuracy = 100.00] [0.034 sec/batch]\u001b[0m\n",
      "\u001b[37m\u001b[01m[2021-05-20 01:31:19,890] [Epoch: 81] [Batch: 100 of 157] [Loss = 0.0000] [Accuracy = 100.00] [0.036 sec/batch]\u001b[0m\n",
      "\u001b[37m\u001b[01m[2021-05-20 01:31:20,303] [Epoch: 81] [Batch: 110 of 157] [Loss = 0.0000] [Accuracy = 100.00] [0.038 sec/batch]\u001b[0m\n",
      "\u001b[37m\u001b[01m[2021-05-20 01:31:20,705] [Epoch: 81] [Batch: 120 of 157] [Loss = 0.0000] [Accuracy = 100.00] [0.044 sec/batch]\u001b[0m\n",
      "\u001b[37m\u001b[01m[2021-05-20 01:31:21,096] [Epoch: 81] [Batch: 130 of 157] [Loss = 0.0000] [Accuracy = 100.00] [0.041 sec/batch]\u001b[0m\n",
      "\u001b[37m\u001b[01m[2021-05-20 01:31:21,506] [Epoch: 81] [Batch: 140 of 157] [Loss = 0.0000] [Accuracy = 100.00] [0.046 sec/batch]\u001b[0m\n",
      "\u001b[37m\u001b[01m[2021-05-20 01:31:21,928] [Epoch: 81] [Batch: 150 of 157] [Loss = 0.0000] [Accuracy = 100.00] [0.043 sec/batch]\u001b[0m\n",
      "\u001b[37m\u001b[01m[2021-05-20 01:31:22,232] [Epoch: 82] [Batch: 0 of 157] [Loss = 0.0000] [Accuracy = 100.00] [0.040 sec/batch]\u001b[0m\n"
     ]
    },
    {
     "name": "stdout",
     "output_type": "stream",
     "text": [
      "Epoch 82\n",
      "-------------------------------\n"
     ]
    },
    {
     "name": "stderr",
     "output_type": "stream",
     "text": [
      "\u001b[37m\u001b[01m[2021-05-20 01:31:22,675] [Epoch: 82] [Batch: 10 of 157] [Loss = 0.0000] [Accuracy = 100.00] [0.037 sec/batch]\u001b[0m\n",
      "\u001b[37m\u001b[01m[2021-05-20 01:31:23,100] [Epoch: 82] [Batch: 20 of 157] [Loss = 0.0000] [Accuracy = 100.00] [0.040 sec/batch]\u001b[0m\n",
      "\u001b[37m\u001b[01m[2021-05-20 01:31:23,536] [Epoch: 82] [Batch: 30 of 157] [Loss = 0.0000] [Accuracy = 100.00] [0.037 sec/batch]\u001b[0m\n",
      "\u001b[37m\u001b[01m[2021-05-20 01:31:23,946] [Epoch: 82] [Batch: 40 of 157] [Loss = 0.0000] [Accuracy = 100.00] [0.041 sec/batch]\u001b[0m\n",
      "\u001b[37m\u001b[01m[2021-05-20 01:31:24,350] [Epoch: 82] [Batch: 50 of 157] [Loss = 0.0000] [Accuracy = 100.00] [0.037 sec/batch]\u001b[0m\n",
      "\u001b[37m\u001b[01m[2021-05-20 01:31:24,756] [Epoch: 82] [Batch: 60 of 157] [Loss = 0.0000] [Accuracy = 100.00] [0.040 sec/batch]\u001b[0m\n",
      "\u001b[37m\u001b[01m[2021-05-20 01:31:25,197] [Epoch: 82] [Batch: 70 of 157] [Loss = 0.0000] [Accuracy = 100.00] [0.043 sec/batch]\u001b[0m\n",
      "\u001b[37m\u001b[01m[2021-05-20 01:31:25,584] [Epoch: 82] [Batch: 80 of 157] [Loss = 0.0000] [Accuracy = 100.00] [0.038 sec/batch]\u001b[0m\n",
      "\u001b[37m\u001b[01m[2021-05-20 01:31:25,940] [Epoch: 82] [Batch: 90 of 157] [Loss = 0.0000] [Accuracy = 100.00] [0.033 sec/batch]\u001b[0m\n",
      "\u001b[37m\u001b[01m[2021-05-20 01:31:26,312] [Epoch: 82] [Batch: 100 of 157] [Loss = 0.0000] [Accuracy = 100.00] [0.041 sec/batch]\u001b[0m\n",
      "\u001b[37m\u001b[01m[2021-05-20 01:31:26,707] [Epoch: 82] [Batch: 110 of 157] [Loss = 0.0000] [Accuracy = 100.00] [0.039 sec/batch]\u001b[0m\n",
      "\u001b[37m\u001b[01m[2021-05-20 01:31:27,095] [Epoch: 82] [Batch: 120 of 157] [Loss = 0.0000] [Accuracy = 100.00] [0.039 sec/batch]\u001b[0m\n",
      "\u001b[37m\u001b[01m[2021-05-20 01:31:27,497] [Epoch: 82] [Batch: 130 of 157] [Loss = 0.0000] [Accuracy = 100.00] [0.039 sec/batch]\u001b[0m\n",
      "\u001b[37m\u001b[01m[2021-05-20 01:31:27,905] [Epoch: 82] [Batch: 140 of 157] [Loss = 0.0000] [Accuracy = 100.00] [0.041 sec/batch]\u001b[0m\n",
      "\u001b[37m\u001b[01m[2021-05-20 01:31:28,315] [Epoch: 82] [Batch: 150 of 157] [Loss = 0.0000] [Accuracy = 100.00] [0.039 sec/batch]\u001b[0m\n",
      "\u001b[37m\u001b[01m[2021-05-20 01:31:28,583] [Epoch: 83] [Batch: 0 of 157] [Loss = 0.0000] [Accuracy = 100.00] [0.039 sec/batch]\u001b[0m\n"
     ]
    },
    {
     "name": "stdout",
     "output_type": "stream",
     "text": [
      "Epoch 83\n",
      "-------------------------------\n"
     ]
    },
    {
     "name": "stderr",
     "output_type": "stream",
     "text": [
      "\u001b[37m\u001b[01m[2021-05-20 01:31:28,981] [Epoch: 83] [Batch: 10 of 157] [Loss = 0.0000] [Accuracy = 100.00] [0.039 sec/batch]\u001b[0m\n",
      "\u001b[37m\u001b[01m[2021-05-20 01:31:29,383] [Epoch: 83] [Batch: 20 of 157] [Loss = 0.0000] [Accuracy = 100.00] [0.039 sec/batch]\u001b[0m\n",
      "\u001b[37m\u001b[01m[2021-05-20 01:31:29,781] [Epoch: 83] [Batch: 30 of 157] [Loss = 0.0000] [Accuracy = 100.00] [0.034 sec/batch]\u001b[0m\n",
      "\u001b[37m\u001b[01m[2021-05-20 01:31:30,189] [Epoch: 83] [Batch: 40 of 157] [Loss = 0.0000] [Accuracy = 100.00] [0.040 sec/batch]\u001b[0m\n",
      "\u001b[37m\u001b[01m[2021-05-20 01:31:30,576] [Epoch: 83] [Batch: 50 of 157] [Loss = 0.0000] [Accuracy = 100.00] [0.034 sec/batch]\u001b[0m\n",
      "\u001b[37m\u001b[01m[2021-05-20 01:31:30,970] [Epoch: 83] [Batch: 60 of 157] [Loss = 0.0000] [Accuracy = 100.00] [0.039 sec/batch]\u001b[0m\n",
      "\u001b[37m\u001b[01m[2021-05-20 01:31:31,380] [Epoch: 83] [Batch: 70 of 157] [Loss = 0.0000] [Accuracy = 100.00] [0.040 sec/batch]\u001b[0m\n",
      "\u001b[37m\u001b[01m[2021-05-20 01:31:31,809] [Epoch: 83] [Batch: 80 of 157] [Loss = 0.0000] [Accuracy = 100.00] [0.042 sec/batch]\u001b[0m\n",
      "\u001b[37m\u001b[01m[2021-05-20 01:31:32,231] [Epoch: 83] [Batch: 90 of 157] [Loss = 0.0000] [Accuracy = 100.00] [0.040 sec/batch]\u001b[0m\n",
      "\u001b[37m\u001b[01m[2021-05-20 01:31:32,633] [Epoch: 83] [Batch: 100 of 157] [Loss = 0.0000] [Accuracy = 100.00] [0.041 sec/batch]\u001b[0m\n",
      "\u001b[37m\u001b[01m[2021-05-20 01:31:33,031] [Epoch: 83] [Batch: 110 of 157] [Loss = 0.0000] [Accuracy = 100.00] [0.039 sec/batch]\u001b[0m\n",
      "\u001b[37m\u001b[01m[2021-05-20 01:31:33,438] [Epoch: 83] [Batch: 120 of 157] [Loss = 0.0000] [Accuracy = 100.00] [0.041 sec/batch]\u001b[0m\n",
      "\u001b[37m\u001b[01m[2021-05-20 01:31:33,836] [Epoch: 83] [Batch: 130 of 157] [Loss = 0.0000] [Accuracy = 100.00] [0.040 sec/batch]\u001b[0m\n",
      "\u001b[37m\u001b[01m[2021-05-20 01:31:34,226] [Epoch: 83] [Batch: 140 of 157] [Loss = 0.0000] [Accuracy = 100.00] [0.039 sec/batch]\u001b[0m\n",
      "\u001b[37m\u001b[01m[2021-05-20 01:31:34,632] [Epoch: 83] [Batch: 150 of 157] [Loss = 0.0000] [Accuracy = 100.00] [0.040 sec/batch]\u001b[0m\n",
      "\u001b[37m\u001b[01m[2021-05-20 01:31:34,880] [Epoch: 84] [Batch: 0 of 157] [Loss = 0.0000] [Accuracy = 100.00] [0.035 sec/batch]\u001b[0m\n"
     ]
    },
    {
     "name": "stdout",
     "output_type": "stream",
     "text": [
      "Epoch 84\n",
      "-------------------------------\n"
     ]
    },
    {
     "name": "stderr",
     "output_type": "stream",
     "text": [
      "\u001b[37m\u001b[01m[2021-05-20 01:31:35,231] [Epoch: 84] [Batch: 10 of 157] [Loss = 0.0000] [Accuracy = 100.00] [0.034 sec/batch]\u001b[0m\n",
      "\u001b[37m\u001b[01m[2021-05-20 01:31:35,645] [Epoch: 84] [Batch: 20 of 157] [Loss = 0.0000] [Accuracy = 100.00] [0.041 sec/batch]\u001b[0m\n",
      "\u001b[37m\u001b[01m[2021-05-20 01:31:36,079] [Epoch: 84] [Batch: 30 of 157] [Loss = 0.0000] [Accuracy = 100.00] [0.045 sec/batch]\u001b[0m\n",
      "\u001b[37m\u001b[01m[2021-05-20 01:31:36,510] [Epoch: 84] [Batch: 40 of 157] [Loss = 0.0000] [Accuracy = 100.00] [0.042 sec/batch]\u001b[0m\n",
      "\u001b[37m\u001b[01m[2021-05-20 01:31:36,947] [Epoch: 84] [Batch: 50 of 157] [Loss = 0.0000] [Accuracy = 100.00] [0.047 sec/batch]\u001b[0m\n",
      "\u001b[37m\u001b[01m[2021-05-20 01:31:37,385] [Epoch: 84] [Batch: 60 of 157] [Loss = 0.0000] [Accuracy = 100.00] [0.044 sec/batch]\u001b[0m\n",
      "\u001b[37m\u001b[01m[2021-05-20 01:31:37,829] [Epoch: 84] [Batch: 70 of 157] [Loss = 0.0000] [Accuracy = 100.00] [0.047 sec/batch]\u001b[0m\n",
      "\u001b[37m\u001b[01m[2021-05-20 01:31:38,255] [Epoch: 84] [Batch: 80 of 157] [Loss = 0.0000] [Accuracy = 100.00] [0.044 sec/batch]\u001b[0m\n",
      "\u001b[37m\u001b[01m[2021-05-20 01:31:38,684] [Epoch: 84] [Batch: 90 of 157] [Loss = 0.0000] [Accuracy = 100.00] [0.041 sec/batch]\u001b[0m\n",
      "\u001b[37m\u001b[01m[2021-05-20 01:31:39,102] [Epoch: 84] [Batch: 100 of 157] [Loss = 0.0000] [Accuracy = 100.00] [0.041 sec/batch]\u001b[0m\n",
      "\u001b[37m\u001b[01m[2021-05-20 01:31:39,508] [Epoch: 84] [Batch: 110 of 157] [Loss = 0.0000] [Accuracy = 100.00] [0.041 sec/batch]\u001b[0m\n",
      "\u001b[37m\u001b[01m[2021-05-20 01:31:39,903] [Epoch: 84] [Batch: 120 of 157] [Loss = 0.0000] [Accuracy = 100.00] [0.037 sec/batch]\u001b[0m\n",
      "\u001b[37m\u001b[01m[2021-05-20 01:31:40,312] [Epoch: 84] [Batch: 130 of 157] [Loss = 0.0000] [Accuracy = 100.00] [0.044 sec/batch]\u001b[0m\n",
      "\u001b[37m\u001b[01m[2021-05-20 01:31:40,741] [Epoch: 84] [Batch: 140 of 157] [Loss = 0.0000] [Accuracy = 100.00] [0.041 sec/batch]\u001b[0m\n",
      "\u001b[37m\u001b[01m[2021-05-20 01:31:41,176] [Epoch: 84] [Batch: 150 of 157] [Loss = 0.0000] [Accuracy = 100.00] [0.043 sec/batch]\u001b[0m\n",
      "\u001b[37m\u001b[01m[2021-05-20 01:31:41,471] [Epoch: 85] [Batch: 0 of 157] [Loss = 0.0000] [Accuracy = 100.00] [0.039 sec/batch]\u001b[0m\n"
     ]
    },
    {
     "name": "stdout",
     "output_type": "stream",
     "text": [
      "Epoch 85\n",
      "-------------------------------\n"
     ]
    },
    {
     "name": "stderr",
     "output_type": "stream",
     "text": [
      "\u001b[37m\u001b[01m[2021-05-20 01:31:41,904] [Epoch: 85] [Batch: 10 of 157] [Loss = 0.0000] [Accuracy = 100.00] [0.041 sec/batch]\u001b[0m\n",
      "\u001b[37m\u001b[01m[2021-05-20 01:31:42,318] [Epoch: 85] [Batch: 20 of 157] [Loss = 0.0000] [Accuracy = 100.00] [0.040 sec/batch]\u001b[0m\n",
      "\u001b[37m\u001b[01m[2021-05-20 01:31:42,728] [Epoch: 85] [Batch: 30 of 157] [Loss = 0.0000] [Accuracy = 100.00] [0.040 sec/batch]\u001b[0m\n",
      "\u001b[37m\u001b[01m[2021-05-20 01:31:43,140] [Epoch: 85] [Batch: 40 of 157] [Loss = 0.0000] [Accuracy = 100.00] [0.042 sec/batch]\u001b[0m\n",
      "\u001b[37m\u001b[01m[2021-05-20 01:31:43,549] [Epoch: 85] [Batch: 50 of 157] [Loss = 0.0000] [Accuracy = 100.00] [0.040 sec/batch]\u001b[0m\n",
      "\u001b[37m\u001b[01m[2021-05-20 01:31:43,965] [Epoch: 85] [Batch: 60 of 157] [Loss = 0.0000] [Accuracy = 100.00] [0.039 sec/batch]\u001b[0m\n",
      "\u001b[37m\u001b[01m[2021-05-20 01:31:44,389] [Epoch: 85] [Batch: 70 of 157] [Loss = 0.0000] [Accuracy = 100.00] [0.043 sec/batch]\u001b[0m\n",
      "\u001b[37m\u001b[01m[2021-05-20 01:31:44,815] [Epoch: 85] [Batch: 80 of 157] [Loss = 0.0000] [Accuracy = 100.00] [0.040 sec/batch]\u001b[0m\n",
      "\u001b[37m\u001b[01m[2021-05-20 01:31:45,218] [Epoch: 85] [Batch: 90 of 157] [Loss = 0.0000] [Accuracy = 100.00] [0.040 sec/batch]\u001b[0m\n",
      "\u001b[37m\u001b[01m[2021-05-20 01:31:45,619] [Epoch: 85] [Batch: 100 of 157] [Loss = 0.0000] [Accuracy = 100.00] [0.039 sec/batch]\u001b[0m\n",
      "\u001b[37m\u001b[01m[2021-05-20 01:31:46,019] [Epoch: 85] [Batch: 110 of 157] [Loss = 0.0000] [Accuracy = 100.00] [0.036 sec/batch]\u001b[0m\n",
      "\u001b[37m\u001b[01m[2021-05-20 01:31:46,442] [Epoch: 85] [Batch: 120 of 157] [Loss = 0.0000] [Accuracy = 100.00] [0.040 sec/batch]\u001b[0m\n",
      "\u001b[37m\u001b[01m[2021-05-20 01:31:46,873] [Epoch: 85] [Batch: 130 of 157] [Loss = 0.0000] [Accuracy = 100.00] [0.044 sec/batch]\u001b[0m\n",
      "\u001b[37m\u001b[01m[2021-05-20 01:31:47,292] [Epoch: 85] [Batch: 140 of 157] [Loss = 0.0000] [Accuracy = 100.00] [0.039 sec/batch]\u001b[0m\n",
      "\u001b[37m\u001b[01m[2021-05-20 01:31:47,684] [Epoch: 85] [Batch: 150 of 157] [Loss = 0.0000] [Accuracy = 100.00] [0.034 sec/batch]\u001b[0m\n",
      "\u001b[37m\u001b[01m[2021-05-20 01:31:47,971] [Epoch: 86] [Batch: 0 of 157] [Loss = 0.0000] [Accuracy = 100.00] [0.038 sec/batch]\u001b[0m\n"
     ]
    },
    {
     "name": "stdout",
     "output_type": "stream",
     "text": [
      "Epoch 86\n",
      "-------------------------------\n"
     ]
    },
    {
     "name": "stderr",
     "output_type": "stream",
     "text": [
      "\u001b[37m\u001b[01m[2021-05-20 01:31:48,379] [Epoch: 86] [Batch: 10 of 157] [Loss = 0.0000] [Accuracy = 100.00] [0.040 sec/batch]\u001b[0m\n",
      "\u001b[37m\u001b[01m[2021-05-20 01:31:48,791] [Epoch: 86] [Batch: 20 of 157] [Loss = 0.0000] [Accuracy = 100.00] [0.043 sec/batch]\u001b[0m\n",
      "\u001b[37m\u001b[01m[2021-05-20 01:31:49,189] [Epoch: 86] [Batch: 30 of 157] [Loss = 0.0000] [Accuracy = 100.00] [0.039 sec/batch]\u001b[0m\n",
      "\u001b[37m\u001b[01m[2021-05-20 01:31:49,591] [Epoch: 86] [Batch: 40 of 157] [Loss = 0.0000] [Accuracy = 100.00] [0.035 sec/batch]\u001b[0m\n",
      "\u001b[37m\u001b[01m[2021-05-20 01:31:49,988] [Epoch: 86] [Batch: 50 of 157] [Loss = 0.0000] [Accuracy = 100.00] [0.041 sec/batch]\u001b[0m\n",
      "\u001b[37m\u001b[01m[2021-05-20 01:31:50,401] [Epoch: 86] [Batch: 60 of 157] [Loss = 0.0000] [Accuracy = 100.00] [0.044 sec/batch]\u001b[0m\n",
      "\u001b[37m\u001b[01m[2021-05-20 01:31:50,808] [Epoch: 86] [Batch: 70 of 157] [Loss = 0.0000] [Accuracy = 100.00] [0.037 sec/batch]\u001b[0m\n",
      "\u001b[37m\u001b[01m[2021-05-20 01:31:51,217] [Epoch: 86] [Batch: 80 of 157] [Loss = 0.0000] [Accuracy = 100.00] [0.041 sec/batch]\u001b[0m\n",
      "\u001b[37m\u001b[01m[2021-05-20 01:31:51,619] [Epoch: 86] [Batch: 90 of 157] [Loss = 0.0000] [Accuracy = 100.00] [0.038 sec/batch]\u001b[0m\n",
      "\u001b[37m\u001b[01m[2021-05-20 01:31:52,021] [Epoch: 86] [Batch: 100 of 157] [Loss = 0.0000] [Accuracy = 100.00] [0.038 sec/batch]\u001b[0m\n",
      "\u001b[37m\u001b[01m[2021-05-20 01:31:52,402] [Epoch: 86] [Batch: 110 of 157] [Loss = 0.0000] [Accuracy = 100.00] [0.037 sec/batch]\u001b[0m\n",
      "\u001b[37m\u001b[01m[2021-05-20 01:31:52,789] [Epoch: 86] [Batch: 120 of 157] [Loss = 0.0000] [Accuracy = 100.00] [0.039 sec/batch]\u001b[0m\n",
      "\u001b[37m\u001b[01m[2021-05-20 01:31:53,204] [Epoch: 86] [Batch: 130 of 157] [Loss = 0.0000] [Accuracy = 100.00] [0.039 sec/batch]\u001b[0m\n",
      "\u001b[37m\u001b[01m[2021-05-20 01:31:53,609] [Epoch: 86] [Batch: 140 of 157] [Loss = 0.0000] [Accuracy = 100.00] [0.038 sec/batch]\u001b[0m\n",
      "\u001b[37m\u001b[01m[2021-05-20 01:31:54,013] [Epoch: 86] [Batch: 150 of 157] [Loss = 0.0000] [Accuracy = 100.00] [0.039 sec/batch]\u001b[0m\n",
      "\u001b[37m\u001b[01m[2021-05-20 01:31:54,287] [Epoch: 87] [Batch: 0 of 157] [Loss = 0.0000] [Accuracy = 100.00] [0.038 sec/batch]\u001b[0m\n"
     ]
    },
    {
     "name": "stdout",
     "output_type": "stream",
     "text": [
      "Epoch 87\n",
      "-------------------------------\n"
     ]
    },
    {
     "name": "stderr",
     "output_type": "stream",
     "text": [
      "\u001b[37m\u001b[01m[2021-05-20 01:31:54,693] [Epoch: 87] [Batch: 10 of 157] [Loss = 0.0000] [Accuracy = 100.00] [0.041 sec/batch]\u001b[0m\n",
      "\u001b[37m\u001b[01m[2021-05-20 01:31:55,124] [Epoch: 87] [Batch: 20 of 157] [Loss = 0.0000] [Accuracy = 100.00] [0.044 sec/batch]\u001b[0m\n",
      "\u001b[37m\u001b[01m[2021-05-20 01:31:55,552] [Epoch: 87] [Batch: 30 of 157] [Loss = 0.0000] [Accuracy = 100.00] [0.040 sec/batch]\u001b[0m\n",
      "\u001b[37m\u001b[01m[2021-05-20 01:31:55,992] [Epoch: 87] [Batch: 40 of 157] [Loss = 0.0000] [Accuracy = 100.00] [0.039 sec/batch]\u001b[0m\n",
      "\u001b[37m\u001b[01m[2021-05-20 01:31:56,424] [Epoch: 87] [Batch: 50 of 157] [Loss = 0.0000] [Accuracy = 100.00] [0.040 sec/batch]\u001b[0m\n",
      "\u001b[37m\u001b[01m[2021-05-20 01:31:56,853] [Epoch: 87] [Batch: 60 of 157] [Loss = 0.0000] [Accuracy = 100.00] [0.044 sec/batch]\u001b[0m\n",
      "\u001b[37m\u001b[01m[2021-05-20 01:31:57,283] [Epoch: 87] [Batch: 70 of 157] [Loss = 0.0000] [Accuracy = 100.00] [0.041 sec/batch]\u001b[0m\n",
      "\u001b[37m\u001b[01m[2021-05-20 01:31:57,711] [Epoch: 87] [Batch: 80 of 157] [Loss = 0.0000] [Accuracy = 100.00] [0.041 sec/batch]\u001b[0m\n",
      "\u001b[37m\u001b[01m[2021-05-20 01:31:58,153] [Epoch: 87] [Batch: 90 of 157] [Loss = 0.0000] [Accuracy = 100.00] [0.039 sec/batch]\u001b[0m\n",
      "\u001b[37m\u001b[01m[2021-05-20 01:31:58,592] [Epoch: 87] [Batch: 100 of 157] [Loss = 0.0000] [Accuracy = 100.00] [0.040 sec/batch]\u001b[0m\n",
      "\u001b[37m\u001b[01m[2021-05-20 01:31:59,015] [Epoch: 87] [Batch: 110 of 157] [Loss = 0.0000] [Accuracy = 100.00] [0.039 sec/batch]\u001b[0m\n",
      "\u001b[37m\u001b[01m[2021-05-20 01:31:59,427] [Epoch: 87] [Batch: 120 of 157] [Loss = 0.0000] [Accuracy = 100.00] [0.043 sec/batch]\u001b[0m\n",
      "\u001b[37m\u001b[01m[2021-05-20 01:31:59,863] [Epoch: 87] [Batch: 130 of 157] [Loss = 0.0000] [Accuracy = 100.00] [0.044 sec/batch]\u001b[0m\n",
      "\u001b[37m\u001b[01m[2021-05-20 01:32:00,272] [Epoch: 87] [Batch: 140 of 157] [Loss = 0.0000] [Accuracy = 100.00] [0.044 sec/batch]\u001b[0m\n",
      "\u001b[37m\u001b[01m[2021-05-20 01:32:00,684] [Epoch: 87] [Batch: 150 of 157] [Loss = 0.0000] [Accuracy = 100.00] [0.042 sec/batch]\u001b[0m\n",
      "\u001b[37m\u001b[01m[2021-05-20 01:32:00,987] [Epoch: 88] [Batch: 0 of 157] [Loss = 0.0000] [Accuracy = 100.00] [0.043 sec/batch]\u001b[0m\n"
     ]
    },
    {
     "name": "stdout",
     "output_type": "stream",
     "text": [
      "Epoch 88\n",
      "-------------------------------\n"
     ]
    },
    {
     "name": "stderr",
     "output_type": "stream",
     "text": [
      "\u001b[37m\u001b[01m[2021-05-20 01:32:01,418] [Epoch: 88] [Batch: 10 of 157] [Loss = 0.0000] [Accuracy = 100.00] [0.042 sec/batch]\u001b[0m\n",
      "\u001b[37m\u001b[01m[2021-05-20 01:32:01,846] [Epoch: 88] [Batch: 20 of 157] [Loss = 0.0000] [Accuracy = 100.00] [0.043 sec/batch]\u001b[0m\n",
      "\u001b[37m\u001b[01m[2021-05-20 01:32:02,267] [Epoch: 88] [Batch: 30 of 157] [Loss = 0.0000] [Accuracy = 100.00] [0.038 sec/batch]\u001b[0m\n",
      "\u001b[37m\u001b[01m[2021-05-20 01:32:02,688] [Epoch: 88] [Batch: 40 of 157] [Loss = 0.0000] [Accuracy = 100.00] [0.039 sec/batch]\u001b[0m\n",
      "\u001b[37m\u001b[01m[2021-05-20 01:32:03,112] [Epoch: 88] [Batch: 50 of 157] [Loss = 0.0000] [Accuracy = 100.00] [0.043 sec/batch]\u001b[0m\n",
      "\u001b[37m\u001b[01m[2021-05-20 01:32:03,552] [Epoch: 88] [Batch: 60 of 157] [Loss = 0.0000] [Accuracy = 100.00] [0.043 sec/batch]\u001b[0m\n",
      "\u001b[37m\u001b[01m[2021-05-20 01:32:03,976] [Epoch: 88] [Batch: 70 of 157] [Loss = 0.0000] [Accuracy = 100.00] [0.047 sec/batch]\u001b[0m\n",
      "\u001b[37m\u001b[01m[2021-05-20 01:32:04,359] [Epoch: 88] [Batch: 80 of 157] [Loss = 0.0000] [Accuracy = 100.00] [0.038 sec/batch]\u001b[0m\n",
      "\u001b[37m\u001b[01m[2021-05-20 01:32:04,787] [Epoch: 88] [Batch: 90 of 157] [Loss = 0.0000] [Accuracy = 100.00] [0.040 sec/batch]\u001b[0m\n",
      "\u001b[37m\u001b[01m[2021-05-20 01:32:05,211] [Epoch: 88] [Batch: 100 of 157] [Loss = 0.0000] [Accuracy = 100.00] [0.043 sec/batch]\u001b[0m\n",
      "\u001b[37m\u001b[01m[2021-05-20 01:32:05,642] [Epoch: 88] [Batch: 110 of 157] [Loss = 0.0000] [Accuracy = 100.00] [0.044 sec/batch]\u001b[0m\n",
      "\u001b[37m\u001b[01m[2021-05-20 01:32:06,091] [Epoch: 88] [Batch: 120 of 157] [Loss = 0.0000] [Accuracy = 100.00] [0.043 sec/batch]\u001b[0m\n",
      "\u001b[37m\u001b[01m[2021-05-20 01:32:06,488] [Epoch: 88] [Batch: 130 of 157] [Loss = 0.0000] [Accuracy = 100.00] [0.040 sec/batch]\u001b[0m\n",
      "\u001b[37m\u001b[01m[2021-05-20 01:32:06,912] [Epoch: 88] [Batch: 140 of 157] [Loss = 0.0000] [Accuracy = 100.00] [0.039 sec/batch]\u001b[0m\n",
      "\u001b[37m\u001b[01m[2021-05-20 01:32:07,330] [Epoch: 88] [Batch: 150 of 157] [Loss = 0.0000] [Accuracy = 100.00] [0.035 sec/batch]\u001b[0m\n",
      "\u001b[37m\u001b[01m[2021-05-20 01:32:07,628] [Epoch: 89] [Batch: 0 of 157] [Loss = 0.0000] [Accuracy = 100.00] [0.039 sec/batch]\u001b[0m\n"
     ]
    },
    {
     "name": "stdout",
     "output_type": "stream",
     "text": [
      "Epoch 89\n",
      "-------------------------------\n"
     ]
    },
    {
     "name": "stderr",
     "output_type": "stream",
     "text": [
      "\u001b[37m\u001b[01m[2021-05-20 01:32:08,040] [Epoch: 89] [Batch: 10 of 157] [Loss = 0.0000] [Accuracy = 100.00] [0.039 sec/batch]\u001b[0m\n",
      "\u001b[37m\u001b[01m[2021-05-20 01:32:08,455] [Epoch: 89] [Batch: 20 of 157] [Loss = 0.0000] [Accuracy = 100.00] [0.039 sec/batch]\u001b[0m\n",
      "\u001b[37m\u001b[01m[2021-05-20 01:32:08,879] [Epoch: 89] [Batch: 30 of 157] [Loss = 0.0000] [Accuracy = 100.00] [0.038 sec/batch]\u001b[0m\n",
      "\u001b[37m\u001b[01m[2021-05-20 01:32:09,299] [Epoch: 89] [Batch: 40 of 157] [Loss = 0.0000] [Accuracy = 100.00] [0.041 sec/batch]\u001b[0m\n",
      "\u001b[37m\u001b[01m[2021-05-20 01:32:09,708] [Epoch: 89] [Batch: 50 of 157] [Loss = 0.0000] [Accuracy = 100.00] [0.040 sec/batch]\u001b[0m\n",
      "\u001b[37m\u001b[01m[2021-05-20 01:32:10,117] [Epoch: 89] [Batch: 60 of 157] [Loss = 0.0000] [Accuracy = 100.00] [0.038 sec/batch]\u001b[0m\n",
      "\u001b[37m\u001b[01m[2021-05-20 01:32:10,524] [Epoch: 89] [Batch: 70 of 157] [Loss = 0.0000] [Accuracy = 100.00] [0.039 sec/batch]\u001b[0m\n",
      "\u001b[37m\u001b[01m[2021-05-20 01:32:10,932] [Epoch: 89] [Batch: 80 of 157] [Loss = 0.0000] [Accuracy = 100.00] [0.040 sec/batch]\u001b[0m\n",
      "\u001b[37m\u001b[01m[2021-05-20 01:32:11,348] [Epoch: 89] [Batch: 90 of 157] [Loss = 0.0000] [Accuracy = 100.00] [0.047 sec/batch]\u001b[0m\n",
      "\u001b[37m\u001b[01m[2021-05-20 01:32:11,736] [Epoch: 89] [Batch: 100 of 157] [Loss = 0.0000] [Accuracy = 100.00] [0.043 sec/batch]\u001b[0m\n",
      "\u001b[37m\u001b[01m[2021-05-20 01:32:12,120] [Epoch: 89] [Batch: 110 of 157] [Loss = 0.0000] [Accuracy = 100.00] [0.037 sec/batch]\u001b[0m\n",
      "\u001b[37m\u001b[01m[2021-05-20 01:32:12,522] [Epoch: 89] [Batch: 120 of 157] [Loss = 0.0000] [Accuracy = 100.00] [0.038 sec/batch]\u001b[0m\n",
      "\u001b[37m\u001b[01m[2021-05-20 01:32:12,916] [Epoch: 89] [Batch: 130 of 157] [Loss = 0.0000] [Accuracy = 100.00] [0.039 sec/batch]\u001b[0m\n",
      "\u001b[37m\u001b[01m[2021-05-20 01:32:13,303] [Epoch: 89] [Batch: 140 of 157] [Loss = 0.0000] [Accuracy = 100.00] [0.034 sec/batch]\u001b[0m\n",
      "\u001b[37m\u001b[01m[2021-05-20 01:32:13,696] [Epoch: 89] [Batch: 150 of 157] [Loss = 0.0000] [Accuracy = 100.00] [0.037 sec/batch]\u001b[0m\n",
      "\u001b[37m\u001b[01m[2021-05-20 01:32:13,980] [Epoch: 90] [Batch: 0 of 157] [Loss = 0.0000] [Accuracy = 100.00] [0.047 sec/batch]\u001b[0m\n"
     ]
    },
    {
     "name": "stdout",
     "output_type": "stream",
     "text": [
      "Epoch 90\n",
      "-------------------------------\n"
     ]
    },
    {
     "name": "stderr",
     "output_type": "stream",
     "text": [
      "\u001b[37m\u001b[01m[2021-05-20 01:32:14,402] [Epoch: 90] [Batch: 10 of 157] [Loss = 0.0000] [Accuracy = 100.00] [0.039 sec/batch]\u001b[0m\n",
      "\u001b[37m\u001b[01m[2021-05-20 01:32:14,801] [Epoch: 90] [Batch: 20 of 157] [Loss = 0.0000] [Accuracy = 100.00] [0.042 sec/batch]\u001b[0m\n",
      "\u001b[37m\u001b[01m[2021-05-20 01:32:15,195] [Epoch: 90] [Batch: 30 of 157] [Loss = 0.0000] [Accuracy = 100.00] [0.039 sec/batch]\u001b[0m\n",
      "\u001b[37m\u001b[01m[2021-05-20 01:32:15,602] [Epoch: 90] [Batch: 40 of 157] [Loss = 0.0000] [Accuracy = 100.00] [0.039 sec/batch]\u001b[0m\n",
      "\u001b[37m\u001b[01m[2021-05-20 01:32:16,008] [Epoch: 90] [Batch: 50 of 157] [Loss = 0.0000] [Accuracy = 100.00] [0.037 sec/batch]\u001b[0m\n",
      "\u001b[37m\u001b[01m[2021-05-20 01:32:16,410] [Epoch: 90] [Batch: 60 of 157] [Loss = 0.0000] [Accuracy = 100.00] [0.039 sec/batch]\u001b[0m\n",
      "\u001b[37m\u001b[01m[2021-05-20 01:32:16,816] [Epoch: 90] [Batch: 70 of 157] [Loss = 0.0000] [Accuracy = 100.00] [0.043 sec/batch]\u001b[0m\n",
      "\u001b[37m\u001b[01m[2021-05-20 01:32:17,209] [Epoch: 90] [Batch: 80 of 157] [Loss = 0.0000] [Accuracy = 100.00] [0.041 sec/batch]\u001b[0m\n",
      "\u001b[37m\u001b[01m[2021-05-20 01:32:17,608] [Epoch: 90] [Batch: 90 of 157] [Loss = 0.0000] [Accuracy = 100.00] [0.036 sec/batch]\u001b[0m\n",
      "\u001b[37m\u001b[01m[2021-05-20 01:32:18,010] [Epoch: 90] [Batch: 100 of 157] [Loss = 0.0000] [Accuracy = 100.00] [0.035 sec/batch]\u001b[0m\n",
      "\u001b[37m\u001b[01m[2021-05-20 01:32:18,413] [Epoch: 90] [Batch: 110 of 157] [Loss = 0.0000] [Accuracy = 100.00] [0.037 sec/batch]\u001b[0m\n",
      "\u001b[37m\u001b[01m[2021-05-20 01:32:18,817] [Epoch: 90] [Batch: 120 of 157] [Loss = 0.0000] [Accuracy = 100.00] [0.042 sec/batch]\u001b[0m\n",
      "\u001b[37m\u001b[01m[2021-05-20 01:32:19,216] [Epoch: 90] [Batch: 130 of 157] [Loss = 0.0000] [Accuracy = 100.00] [0.035 sec/batch]\u001b[0m\n",
      "\u001b[37m\u001b[01m[2021-05-20 01:32:19,614] [Epoch: 90] [Batch: 140 of 157] [Loss = 0.0000] [Accuracy = 100.00] [0.038 sec/batch]\u001b[0m\n",
      "\u001b[37m\u001b[01m[2021-05-20 01:32:20,001] [Epoch: 90] [Batch: 150 of 157] [Loss = 0.0000] [Accuracy = 100.00] [0.040 sec/batch]\u001b[0m\n",
      "\u001b[37m\u001b[01m[2021-05-20 01:32:20,286] [Epoch: 91] [Batch: 0 of 157] [Loss = 0.0000] [Accuracy = 100.00] [0.039 sec/batch]\u001b[0m\n"
     ]
    },
    {
     "name": "stdout",
     "output_type": "stream",
     "text": [
      "Epoch 91\n",
      "-------------------------------\n"
     ]
    },
    {
     "name": "stderr",
     "output_type": "stream",
     "text": [
      "\u001b[37m\u001b[01m[2021-05-20 01:32:20,695] [Epoch: 91] [Batch: 10 of 157] [Loss = 0.0000] [Accuracy = 100.00] [0.039 sec/batch]\u001b[0m\n",
      "\u001b[37m\u001b[01m[2021-05-20 01:32:21,090] [Epoch: 91] [Batch: 20 of 157] [Loss = 0.0000] [Accuracy = 100.00] [0.039 sec/batch]\u001b[0m\n",
      "\u001b[37m\u001b[01m[2021-05-20 01:32:21,490] [Epoch: 91] [Batch: 30 of 157] [Loss = 0.0000] [Accuracy = 100.00] [0.038 sec/batch]\u001b[0m\n",
      "\u001b[37m\u001b[01m[2021-05-20 01:32:21,885] [Epoch: 91] [Batch: 40 of 157] [Loss = 0.0000] [Accuracy = 100.00] [0.036 sec/batch]\u001b[0m\n",
      "\u001b[37m\u001b[01m[2021-05-20 01:32:22,284] [Epoch: 91] [Batch: 50 of 157] [Loss = 0.0000] [Accuracy = 100.00] [0.041 sec/batch]\u001b[0m\n",
      "\u001b[37m\u001b[01m[2021-05-20 01:32:22,688] [Epoch: 91] [Batch: 60 of 157] [Loss = 0.0000] [Accuracy = 100.00] [0.039 sec/batch]\u001b[0m\n",
      "\u001b[37m\u001b[01m[2021-05-20 01:32:23,096] [Epoch: 91] [Batch: 70 of 157] [Loss = 0.0000] [Accuracy = 100.00] [0.039 sec/batch]\u001b[0m\n",
      "\u001b[37m\u001b[01m[2021-05-20 01:32:23,487] [Epoch: 91] [Batch: 80 of 157] [Loss = 0.0000] [Accuracy = 100.00] [0.038 sec/batch]\u001b[0m\n",
      "\u001b[37m\u001b[01m[2021-05-20 01:32:23,894] [Epoch: 91] [Batch: 90 of 157] [Loss = 0.0000] [Accuracy = 100.00] [0.042 sec/batch]\u001b[0m\n",
      "\u001b[37m\u001b[01m[2021-05-20 01:32:24,295] [Epoch: 91] [Batch: 100 of 157] [Loss = 0.0000] [Accuracy = 100.00] [0.039 sec/batch]\u001b[0m\n",
      "\u001b[37m\u001b[01m[2021-05-20 01:32:24,699] [Epoch: 91] [Batch: 110 of 157] [Loss = 0.0000] [Accuracy = 100.00] [0.037 sec/batch]\u001b[0m\n",
      "\u001b[37m\u001b[01m[2021-05-20 01:32:25,110] [Epoch: 91] [Batch: 120 of 157] [Loss = 0.0000] [Accuracy = 100.00] [0.042 sec/batch]\u001b[0m\n",
      "\u001b[37m\u001b[01m[2021-05-20 01:32:25,499] [Epoch: 91] [Batch: 130 of 157] [Loss = 0.0000] [Accuracy = 100.00] [0.037 sec/batch]\u001b[0m\n",
      "\u001b[37m\u001b[01m[2021-05-20 01:32:25,901] [Epoch: 91] [Batch: 140 of 157] [Loss = 0.0000] [Accuracy = 100.00] [0.042 sec/batch]\u001b[0m\n",
      "\u001b[37m\u001b[01m[2021-05-20 01:32:26,304] [Epoch: 91] [Batch: 150 of 157] [Loss = 0.0000] [Accuracy = 100.00] [0.037 sec/batch]\u001b[0m\n",
      "\u001b[37m\u001b[01m[2021-05-20 01:32:26,587] [Epoch: 92] [Batch: 0 of 157] [Loss = 0.0000] [Accuracy = 100.00] [0.037 sec/batch]\u001b[0m\n"
     ]
    },
    {
     "name": "stdout",
     "output_type": "stream",
     "text": [
      "Epoch 92\n",
      "-------------------------------\n"
     ]
    },
    {
     "name": "stderr",
     "output_type": "stream",
     "text": [
      "\u001b[37m\u001b[01m[2021-05-20 01:32:26,985] [Epoch: 92] [Batch: 10 of 157] [Loss = 0.0000] [Accuracy = 100.00] [0.040 sec/batch]\u001b[0m\n",
      "\u001b[37m\u001b[01m[2021-05-20 01:32:27,388] [Epoch: 92] [Batch: 20 of 157] [Loss = 0.0000] [Accuracy = 100.00] [0.039 sec/batch]\u001b[0m\n",
      "\u001b[37m\u001b[01m[2021-05-20 01:32:27,788] [Epoch: 92] [Batch: 30 of 157] [Loss = 0.0000] [Accuracy = 100.00] [0.040 sec/batch]\u001b[0m\n",
      "\u001b[37m\u001b[01m[2021-05-20 01:32:28,190] [Epoch: 92] [Batch: 40 of 157] [Loss = 0.0000] [Accuracy = 100.00] [0.039 sec/batch]\u001b[0m\n",
      "\u001b[37m\u001b[01m[2021-05-20 01:32:28,583] [Epoch: 92] [Batch: 50 of 157] [Loss = 0.0000] [Accuracy = 100.00] [0.037 sec/batch]\u001b[0m\n",
      "\u001b[37m\u001b[01m[2021-05-20 01:32:28,990] [Epoch: 92] [Batch: 60 of 157] [Loss = 0.0000] [Accuracy = 100.00] [0.039 sec/batch]\u001b[0m\n",
      "\u001b[37m\u001b[01m[2021-05-20 01:32:29,382] [Epoch: 92] [Batch: 70 of 157] [Loss = 0.0000] [Accuracy = 100.00] [0.037 sec/batch]\u001b[0m\n",
      "\u001b[37m\u001b[01m[2021-05-20 01:32:29,784] [Epoch: 92] [Batch: 80 of 157] [Loss = 0.0000] [Accuracy = 100.00] [0.041 sec/batch]\u001b[0m\n",
      "\u001b[37m\u001b[01m[2021-05-20 01:32:30,198] [Epoch: 92] [Batch: 90 of 157] [Loss = 0.0000] [Accuracy = 100.00] [0.040 sec/batch]\u001b[0m\n",
      "\u001b[37m\u001b[01m[2021-05-20 01:32:30,613] [Epoch: 92] [Batch: 100 of 157] [Loss = 0.0000] [Accuracy = 100.00] [0.039 sec/batch]\u001b[0m\n",
      "\u001b[37m\u001b[01m[2021-05-20 01:32:31,032] [Epoch: 92] [Batch: 110 of 157] [Loss = 0.0000] [Accuracy = 100.00] [0.037 sec/batch]\u001b[0m\n",
      "\u001b[37m\u001b[01m[2021-05-20 01:32:31,434] [Epoch: 92] [Batch: 120 of 157] [Loss = 0.0000] [Accuracy = 100.00] [0.042 sec/batch]\u001b[0m\n",
      "\u001b[37m\u001b[01m[2021-05-20 01:32:31,859] [Epoch: 92] [Batch: 130 of 157] [Loss = 0.0000] [Accuracy = 100.00] [0.042 sec/batch]\u001b[0m\n",
      "\u001b[37m\u001b[01m[2021-05-20 01:32:32,283] [Epoch: 92] [Batch: 140 of 157] [Loss = 0.0000] [Accuracy = 100.00] [0.039 sec/batch]\u001b[0m\n",
      "\u001b[37m\u001b[01m[2021-05-20 01:32:32,671] [Epoch: 92] [Batch: 150 of 157] [Loss = 0.0000] [Accuracy = 100.00] [0.039 sec/batch]\u001b[0m\n",
      "\u001b[37m\u001b[01m[2021-05-20 01:32:32,951] [Epoch: 93] [Batch: 0 of 157] [Loss = 0.0000] [Accuracy = 100.00] [0.039 sec/batch]\u001b[0m\n"
     ]
    },
    {
     "name": "stdout",
     "output_type": "stream",
     "text": [
      "Epoch 93\n",
      "-------------------------------\n"
     ]
    },
    {
     "name": "stderr",
     "output_type": "stream",
     "text": [
      "\u001b[37m\u001b[01m[2021-05-20 01:32:33,367] [Epoch: 93] [Batch: 10 of 157] [Loss = 0.0000] [Accuracy = 100.00] [0.042 sec/batch]\u001b[0m\n",
      "\u001b[37m\u001b[01m[2021-05-20 01:32:33,788] [Epoch: 93] [Batch: 20 of 157] [Loss = 0.0000] [Accuracy = 100.00] [0.040 sec/batch]\u001b[0m\n",
      "\u001b[37m\u001b[01m[2021-05-20 01:32:34,205] [Epoch: 93] [Batch: 30 of 157] [Loss = 0.0000] [Accuracy = 100.00] [0.042 sec/batch]\u001b[0m\n",
      "\u001b[37m\u001b[01m[2021-05-20 01:32:34,618] [Epoch: 93] [Batch: 40 of 157] [Loss = 0.0000] [Accuracy = 100.00] [0.038 sec/batch]\u001b[0m\n",
      "\u001b[37m\u001b[01m[2021-05-20 01:32:35,038] [Epoch: 93] [Batch: 50 of 157] [Loss = 0.0000] [Accuracy = 100.00] [0.041 sec/batch]\u001b[0m\n",
      "\u001b[37m\u001b[01m[2021-05-20 01:32:35,457] [Epoch: 93] [Batch: 60 of 157] [Loss = 0.0000] [Accuracy = 100.00] [0.041 sec/batch]\u001b[0m\n",
      "\u001b[37m\u001b[01m[2021-05-20 01:32:35,861] [Epoch: 93] [Batch: 70 of 157] [Loss = 0.0000] [Accuracy = 100.00] [0.039 sec/batch]\u001b[0m\n",
      "\u001b[37m\u001b[01m[2021-05-20 01:32:36,274] [Epoch: 93] [Batch: 80 of 157] [Loss = 0.0000] [Accuracy = 100.00] [0.042 sec/batch]\u001b[0m\n",
      "\u001b[37m\u001b[01m[2021-05-20 01:32:36,695] [Epoch: 93] [Batch: 90 of 157] [Loss = 0.0000] [Accuracy = 100.00] [0.038 sec/batch]\u001b[0m\n",
      "\u001b[37m\u001b[01m[2021-05-20 01:32:37,115] [Epoch: 93] [Batch: 100 of 157] [Loss = 0.0000] [Accuracy = 100.00] [0.042 sec/batch]\u001b[0m\n",
      "\u001b[37m\u001b[01m[2021-05-20 01:32:37,519] [Epoch: 93] [Batch: 110 of 157] [Loss = 0.0000] [Accuracy = 100.00] [0.041 sec/batch]\u001b[0m\n",
      "\u001b[37m\u001b[01m[2021-05-20 01:32:37,940] [Epoch: 93] [Batch: 120 of 157] [Loss = 0.0000] [Accuracy = 100.00] [0.044 sec/batch]\u001b[0m\n",
      "\u001b[37m\u001b[01m[2021-05-20 01:32:38,347] [Epoch: 93] [Batch: 130 of 157] [Loss = 0.0000] [Accuracy = 100.00] [0.038 sec/batch]\u001b[0m\n",
      "\u001b[37m\u001b[01m[2021-05-20 01:32:38,755] [Epoch: 93] [Batch: 140 of 157] [Loss = 0.0000] [Accuracy = 100.00] [0.039 sec/batch]\u001b[0m\n",
      "\u001b[37m\u001b[01m[2021-05-20 01:32:39,168] [Epoch: 93] [Batch: 150 of 157] [Loss = 0.0000] [Accuracy = 100.00] [0.039 sec/batch]\u001b[0m\n",
      "\u001b[37m\u001b[01m[2021-05-20 01:32:39,443] [Epoch: 94] [Batch: 0 of 157] [Loss = 0.0000] [Accuracy = 100.00] [0.038 sec/batch]\u001b[0m\n"
     ]
    },
    {
     "name": "stdout",
     "output_type": "stream",
     "text": [
      "Epoch 94\n",
      "-------------------------------\n"
     ]
    },
    {
     "name": "stderr",
     "output_type": "stream",
     "text": [
      "\u001b[37m\u001b[01m[2021-05-20 01:32:39,854] [Epoch: 94] [Batch: 10 of 157] [Loss = 0.0000] [Accuracy = 100.00] [0.039 sec/batch]\u001b[0m\n",
      "\u001b[37m\u001b[01m[2021-05-20 01:32:40,268] [Epoch: 94] [Batch: 20 of 157] [Loss = 0.0000] [Accuracy = 100.00] [0.037 sec/batch]\u001b[0m\n",
      "\u001b[37m\u001b[01m[2021-05-20 01:32:40,680] [Epoch: 94] [Batch: 30 of 157] [Loss = 0.0000] [Accuracy = 100.00] [0.040 sec/batch]\u001b[0m\n",
      "\u001b[37m\u001b[01m[2021-05-20 01:32:41,106] [Epoch: 94] [Batch: 40 of 157] [Loss = 0.0000] [Accuracy = 100.00] [0.043 sec/batch]\u001b[0m\n",
      "\u001b[37m\u001b[01m[2021-05-20 01:32:41,527] [Epoch: 94] [Batch: 50 of 157] [Loss = 0.0000] [Accuracy = 100.00] [0.046 sec/batch]\u001b[0m\n",
      "\u001b[37m\u001b[01m[2021-05-20 01:32:41,940] [Epoch: 94] [Batch: 60 of 157] [Loss = 0.0000] [Accuracy = 100.00] [0.041 sec/batch]\u001b[0m\n",
      "\u001b[37m\u001b[01m[2021-05-20 01:32:42,336] [Epoch: 94] [Batch: 70 of 157] [Loss = 0.0000] [Accuracy = 100.00] [0.039 sec/batch]\u001b[0m\n",
      "\u001b[37m\u001b[01m[2021-05-20 01:32:42,745] [Epoch: 94] [Batch: 80 of 157] [Loss = 0.0000] [Accuracy = 100.00] [0.040 sec/batch]\u001b[0m\n",
      "\u001b[37m\u001b[01m[2021-05-20 01:32:43,157] [Epoch: 94] [Batch: 90 of 157] [Loss = 0.0000] [Accuracy = 100.00] [0.038 sec/batch]\u001b[0m\n",
      "\u001b[37m\u001b[01m[2021-05-20 01:32:43,556] [Epoch: 94] [Batch: 100 of 157] [Loss = 0.0000] [Accuracy = 100.00] [0.040 sec/batch]\u001b[0m\n",
      "\u001b[37m\u001b[01m[2021-05-20 01:32:43,979] [Epoch: 94] [Batch: 110 of 157] [Loss = 0.0000] [Accuracy = 100.00] [0.041 sec/batch]\u001b[0m\n",
      "\u001b[37m\u001b[01m[2021-05-20 01:32:44,394] [Epoch: 94] [Batch: 120 of 157] [Loss = 0.0000] [Accuracy = 100.00] [0.038 sec/batch]\u001b[0m\n",
      "\u001b[37m\u001b[01m[2021-05-20 01:32:44,812] [Epoch: 94] [Batch: 130 of 157] [Loss = 0.0000] [Accuracy = 100.00] [0.042 sec/batch]\u001b[0m\n",
      "\u001b[37m\u001b[01m[2021-05-20 01:32:45,231] [Epoch: 94] [Batch: 140 of 157] [Loss = 0.0000] [Accuracy = 100.00] [0.043 sec/batch]\u001b[0m\n",
      "\u001b[37m\u001b[01m[2021-05-20 01:32:45,652] [Epoch: 94] [Batch: 150 of 157] [Loss = 0.0000] [Accuracy = 100.00] [0.040 sec/batch]\u001b[0m\n",
      "\u001b[37m\u001b[01m[2021-05-20 01:32:45,942] [Epoch: 95] [Batch: 0 of 157] [Loss = 0.0000] [Accuracy = 100.00] [0.042 sec/batch]\u001b[0m\n"
     ]
    },
    {
     "name": "stdout",
     "output_type": "stream",
     "text": [
      "Epoch 95\n",
      "-------------------------------\n"
     ]
    },
    {
     "name": "stderr",
     "output_type": "stream",
     "text": [
      "\u001b[37m\u001b[01m[2021-05-20 01:32:46,364] [Epoch: 95] [Batch: 10 of 157] [Loss = 0.0000] [Accuracy = 100.00] [0.042 sec/batch]\u001b[0m\n",
      "\u001b[37m\u001b[01m[2021-05-20 01:32:46,767] [Epoch: 95] [Batch: 20 of 157] [Loss = 0.0000] [Accuracy = 100.00] [0.036 sec/batch]\u001b[0m\n",
      "\u001b[37m\u001b[01m[2021-05-20 01:32:47,186] [Epoch: 95] [Batch: 30 of 157] [Loss = 0.0000] [Accuracy = 100.00] [0.042 sec/batch]\u001b[0m\n",
      "\u001b[37m\u001b[01m[2021-05-20 01:32:47,619] [Epoch: 95] [Batch: 40 of 157] [Loss = 0.0000] [Accuracy = 100.00] [0.039 sec/batch]\u001b[0m\n",
      "\u001b[37m\u001b[01m[2021-05-20 01:32:48,042] [Epoch: 95] [Batch: 50 of 157] [Loss = 0.0000] [Accuracy = 100.00] [0.040 sec/batch]\u001b[0m\n",
      "\u001b[37m\u001b[01m[2021-05-20 01:32:48,464] [Epoch: 95] [Batch: 60 of 157] [Loss = 0.0000] [Accuracy = 100.00] [0.040 sec/batch]\u001b[0m\n",
      "\u001b[37m\u001b[01m[2021-05-20 01:32:48,893] [Epoch: 95] [Batch: 70 of 157] [Loss = 0.0000] [Accuracy = 100.00] [0.043 sec/batch]\u001b[0m\n",
      "\u001b[37m\u001b[01m[2021-05-20 01:32:49,311] [Epoch: 95] [Batch: 80 of 157] [Loss = 0.0000] [Accuracy = 100.00] [0.041 sec/batch]\u001b[0m\n",
      "\u001b[37m\u001b[01m[2021-05-20 01:32:49,728] [Epoch: 95] [Batch: 90 of 157] [Loss = 0.0000] [Accuracy = 100.00] [0.046 sec/batch]\u001b[0m\n",
      "\u001b[37m\u001b[01m[2021-05-20 01:32:50,128] [Epoch: 95] [Batch: 100 of 157] [Loss = 0.0000] [Accuracy = 100.00] [0.038 sec/batch]\u001b[0m\n",
      "\u001b[37m\u001b[01m[2021-05-20 01:32:50,530] [Epoch: 95] [Batch: 110 of 157] [Loss = 0.0000] [Accuracy = 100.00] [0.038 sec/batch]\u001b[0m\n",
      "\u001b[37m\u001b[01m[2021-05-20 01:32:50,933] [Epoch: 95] [Batch: 120 of 157] [Loss = 0.0000] [Accuracy = 100.00] [0.038 sec/batch]\u001b[0m\n",
      "\u001b[37m\u001b[01m[2021-05-20 01:32:51,336] [Epoch: 95] [Batch: 130 of 157] [Loss = 0.0000] [Accuracy = 100.00] [0.041 sec/batch]\u001b[0m\n",
      "\u001b[37m\u001b[01m[2021-05-20 01:32:51,740] [Epoch: 95] [Batch: 140 of 157] [Loss = 0.0000] [Accuracy = 100.00] [0.041 sec/batch]\u001b[0m\n",
      "\u001b[37m\u001b[01m[2021-05-20 01:32:52,150] [Epoch: 95] [Batch: 150 of 157] [Loss = 0.0000] [Accuracy = 100.00] [0.038 sec/batch]\u001b[0m\n",
      "\u001b[37m\u001b[01m[2021-05-20 01:32:52,423] [Epoch: 96] [Batch: 0 of 157] [Loss = 0.0000] [Accuracy = 100.00] [0.039 sec/batch]\u001b[0m\n"
     ]
    },
    {
     "name": "stdout",
     "output_type": "stream",
     "text": [
      "Epoch 96\n",
      "-------------------------------\n"
     ]
    },
    {
     "name": "stderr",
     "output_type": "stream",
     "text": [
      "\u001b[37m\u001b[01m[2021-05-20 01:32:52,828] [Epoch: 96] [Batch: 10 of 157] [Loss = 0.0000] [Accuracy = 100.00] [0.038 sec/batch]\u001b[0m\n",
      "\u001b[37m\u001b[01m[2021-05-20 01:32:53,238] [Epoch: 96] [Batch: 20 of 157] [Loss = 0.0000] [Accuracy = 100.00] [0.038 sec/batch]\u001b[0m\n",
      "\u001b[37m\u001b[01m[2021-05-20 01:32:53,633] [Epoch: 96] [Batch: 30 of 157] [Loss = 0.0000] [Accuracy = 100.00] [0.042 sec/batch]\u001b[0m\n",
      "\u001b[37m\u001b[01m[2021-05-20 01:32:54,042] [Epoch: 96] [Batch: 40 of 157] [Loss = 0.0000] [Accuracy = 100.00] [0.042 sec/batch]\u001b[0m\n",
      "\u001b[37m\u001b[01m[2021-05-20 01:32:54,446] [Epoch: 96] [Batch: 50 of 157] [Loss = 0.0000] [Accuracy = 100.00] [0.037 sec/batch]\u001b[0m\n",
      "\u001b[37m\u001b[01m[2021-05-20 01:32:54,867] [Epoch: 96] [Batch: 60 of 157] [Loss = 0.0000] [Accuracy = 100.00] [0.042 sec/batch]\u001b[0m\n",
      "\u001b[37m\u001b[01m[2021-05-20 01:32:55,296] [Epoch: 96] [Batch: 70 of 157] [Loss = 0.0000] [Accuracy = 100.00] [0.040 sec/batch]\u001b[0m\n",
      "\u001b[37m\u001b[01m[2021-05-20 01:32:55,721] [Epoch: 96] [Batch: 80 of 157] [Loss = 0.0000] [Accuracy = 100.00] [0.040 sec/batch]\u001b[0m\n",
      "\u001b[37m\u001b[01m[2021-05-20 01:32:56,148] [Epoch: 96] [Batch: 90 of 157] [Loss = 0.0000] [Accuracy = 100.00] [0.040 sec/batch]\u001b[0m\n",
      "\u001b[37m\u001b[01m[2021-05-20 01:32:56,571] [Epoch: 96] [Batch: 100 of 157] [Loss = 0.0000] [Accuracy = 100.00] [0.041 sec/batch]\u001b[0m\n",
      "\u001b[37m\u001b[01m[2021-05-20 01:32:56,996] [Epoch: 96] [Batch: 110 of 157] [Loss = 0.0000] [Accuracy = 100.00] [0.040 sec/batch]\u001b[0m\n",
      "\u001b[37m\u001b[01m[2021-05-20 01:32:57,394] [Epoch: 96] [Batch: 120 of 157] [Loss = 0.0000] [Accuracy = 100.00] [0.041 sec/batch]\u001b[0m\n",
      "\u001b[37m\u001b[01m[2021-05-20 01:32:57,787] [Epoch: 96] [Batch: 130 of 157] [Loss = 0.0000] [Accuracy = 100.00] [0.037 sec/batch]\u001b[0m\n",
      "\u001b[37m\u001b[01m[2021-05-20 01:32:58,184] [Epoch: 96] [Batch: 140 of 157] [Loss = 0.0000] [Accuracy = 100.00] [0.035 sec/batch]\u001b[0m\n",
      "\u001b[37m\u001b[01m[2021-05-20 01:32:58,596] [Epoch: 96] [Batch: 150 of 157] [Loss = 0.0000] [Accuracy = 100.00] [0.041 sec/batch]\u001b[0m\n",
      "\u001b[37m\u001b[01m[2021-05-20 01:32:58,875] [Epoch: 97] [Batch: 0 of 157] [Loss = 0.0000] [Accuracy = 100.00] [0.037 sec/batch]\u001b[0m\n"
     ]
    },
    {
     "name": "stdout",
     "output_type": "stream",
     "text": [
      "Epoch 97\n",
      "-------------------------------\n"
     ]
    },
    {
     "name": "stderr",
     "output_type": "stream",
     "text": [
      "\u001b[37m\u001b[01m[2021-05-20 01:32:59,260] [Epoch: 97] [Batch: 10 of 157] [Loss = 0.0000] [Accuracy = 100.00] [0.041 sec/batch]\u001b[0m\n",
      "\u001b[37m\u001b[01m[2021-05-20 01:32:59,668] [Epoch: 97] [Batch: 20 of 157] [Loss = 0.0000] [Accuracy = 100.00] [0.043 sec/batch]\u001b[0m\n",
      "\u001b[37m\u001b[01m[2021-05-20 01:33:00,069] [Epoch: 97] [Batch: 30 of 157] [Loss = 0.0000] [Accuracy = 100.00] [0.040 sec/batch]\u001b[0m\n",
      "\u001b[37m\u001b[01m[2021-05-20 01:33:00,470] [Epoch: 97] [Batch: 40 of 157] [Loss = 0.0000] [Accuracy = 100.00] [0.041 sec/batch]\u001b[0m\n",
      "\u001b[37m\u001b[01m[2021-05-20 01:33:00,880] [Epoch: 97] [Batch: 50 of 157] [Loss = 0.0000] [Accuracy = 100.00] [0.040 sec/batch]\u001b[0m\n",
      "\u001b[37m\u001b[01m[2021-05-20 01:33:01,296] [Epoch: 97] [Batch: 60 of 157] [Loss = 0.0000] [Accuracy = 100.00] [0.041 sec/batch]\u001b[0m\n",
      "\u001b[37m\u001b[01m[2021-05-20 01:33:01,707] [Epoch: 97] [Batch: 70 of 157] [Loss = 0.0000] [Accuracy = 100.00] [0.038 sec/batch]\u001b[0m\n",
      "\u001b[37m\u001b[01m[2021-05-20 01:33:02,114] [Epoch: 97] [Batch: 80 of 157] [Loss = 0.0000] [Accuracy = 100.00] [0.039 sec/batch]\u001b[0m\n",
      "\u001b[37m\u001b[01m[2021-05-20 01:33:02,530] [Epoch: 97] [Batch: 90 of 157] [Loss = 0.0000] [Accuracy = 100.00] [0.039 sec/batch]\u001b[0m\n",
      "\u001b[37m\u001b[01m[2021-05-20 01:33:02,953] [Epoch: 97] [Batch: 100 of 157] [Loss = 0.0000] [Accuracy = 100.00] [0.044 sec/batch]\u001b[0m\n",
      "\u001b[37m\u001b[01m[2021-05-20 01:33:03,372] [Epoch: 97] [Batch: 110 of 157] [Loss = 0.0000] [Accuracy = 100.00] [0.040 sec/batch]\u001b[0m\n",
      "\u001b[37m\u001b[01m[2021-05-20 01:33:03,805] [Epoch: 97] [Batch: 120 of 157] [Loss = 0.0000] [Accuracy = 100.00] [0.043 sec/batch]\u001b[0m\n",
      "\u001b[37m\u001b[01m[2021-05-20 01:33:04,236] [Epoch: 97] [Batch: 130 of 157] [Loss = 0.0000] [Accuracy = 100.00] [0.039 sec/batch]\u001b[0m\n",
      "\u001b[37m\u001b[01m[2021-05-20 01:33:04,662] [Epoch: 97] [Batch: 140 of 157] [Loss = 0.0000] [Accuracy = 100.00] [0.039 sec/batch]\u001b[0m\n",
      "\u001b[37m\u001b[01m[2021-05-20 01:33:05,082] [Epoch: 97] [Batch: 150 of 157] [Loss = 0.0000] [Accuracy = 100.00] [0.042 sec/batch]\u001b[0m\n",
      "\u001b[37m\u001b[01m[2021-05-20 01:33:05,368] [Epoch: 98] [Batch: 0 of 157] [Loss = 0.0000] [Accuracy = 100.00] [0.041 sec/batch]\u001b[0m\n"
     ]
    },
    {
     "name": "stdout",
     "output_type": "stream",
     "text": [
      "Epoch 98\n",
      "-------------------------------\n"
     ]
    },
    {
     "name": "stderr",
     "output_type": "stream",
     "text": [
      "\u001b[37m\u001b[01m[2021-05-20 01:33:05,773] [Epoch: 98] [Batch: 10 of 157] [Loss = 0.0000] [Accuracy = 100.00] [0.041 sec/batch]\u001b[0m\n",
      "\u001b[37m\u001b[01m[2021-05-20 01:33:06,195] [Epoch: 98] [Batch: 20 of 157] [Loss = 0.0000] [Accuracy = 100.00] [0.042 sec/batch]\u001b[0m\n",
      "\u001b[37m\u001b[01m[2021-05-20 01:33:06,609] [Epoch: 98] [Batch: 30 of 157] [Loss = 0.0000] [Accuracy = 100.00] [0.042 sec/batch]\u001b[0m\n",
      "\u001b[37m\u001b[01m[2021-05-20 01:33:07,013] [Epoch: 98] [Batch: 40 of 157] [Loss = 0.0000] [Accuracy = 100.00] [0.041 sec/batch]\u001b[0m\n",
      "\u001b[37m\u001b[01m[2021-05-20 01:33:07,420] [Epoch: 98] [Batch: 50 of 157] [Loss = 0.0000] [Accuracy = 100.00] [0.039 sec/batch]\u001b[0m\n",
      "\u001b[37m\u001b[01m[2021-05-20 01:33:07,826] [Epoch: 98] [Batch: 60 of 157] [Loss = 0.0000] [Accuracy = 100.00] [0.043 sec/batch]\u001b[0m\n",
      "\u001b[37m\u001b[01m[2021-05-20 01:33:08,238] [Epoch: 98] [Batch: 70 of 157] [Loss = 0.0000] [Accuracy = 100.00] [0.043 sec/batch]\u001b[0m\n",
      "\u001b[37m\u001b[01m[2021-05-20 01:33:08,638] [Epoch: 98] [Batch: 80 of 157] [Loss = 0.0000] [Accuracy = 100.00] [0.039 sec/batch]\u001b[0m\n",
      "\u001b[37m\u001b[01m[2021-05-20 01:33:09,047] [Epoch: 98] [Batch: 90 of 157] [Loss = 0.0000] [Accuracy = 100.00] [0.041 sec/batch]\u001b[0m\n",
      "\u001b[37m\u001b[01m[2021-05-20 01:33:09,451] [Epoch: 98] [Batch: 100 of 157] [Loss = 0.0000] [Accuracy = 100.00] [0.039 sec/batch]\u001b[0m\n",
      "\u001b[37m\u001b[01m[2021-05-20 01:33:09,863] [Epoch: 98] [Batch: 110 of 157] [Loss = 0.0000] [Accuracy = 100.00] [0.041 sec/batch]\u001b[0m\n",
      "\u001b[37m\u001b[01m[2021-05-20 01:33:10,269] [Epoch: 98] [Batch: 120 of 157] [Loss = 0.0000] [Accuracy = 100.00] [0.039 sec/batch]\u001b[0m\n",
      "\u001b[37m\u001b[01m[2021-05-20 01:33:10,694] [Epoch: 98] [Batch: 130 of 157] [Loss = 0.0000] [Accuracy = 100.00] [0.043 sec/batch]\u001b[0m\n",
      "\u001b[37m\u001b[01m[2021-05-20 01:33:11,107] [Epoch: 98] [Batch: 140 of 157] [Loss = 0.0000] [Accuracy = 100.00] [0.039 sec/batch]\u001b[0m\n",
      "\u001b[37m\u001b[01m[2021-05-20 01:33:11,541] [Epoch: 98] [Batch: 150 of 157] [Loss = 0.0000] [Accuracy = 100.00] [0.046 sec/batch]\u001b[0m\n",
      "\u001b[37m\u001b[01m[2021-05-20 01:33:11,840] [Epoch: 99] [Batch: 0 of 157] [Loss = 0.0000] [Accuracy = 100.00] [0.041 sec/batch]\u001b[0m\n"
     ]
    },
    {
     "name": "stdout",
     "output_type": "stream",
     "text": [
      "Epoch 99\n",
      "-------------------------------\n"
     ]
    },
    {
     "name": "stderr",
     "output_type": "stream",
     "text": [
      "\u001b[37m\u001b[01m[2021-05-20 01:33:12,255] [Epoch: 99] [Batch: 10 of 157] [Loss = 0.0000] [Accuracy = 100.00] [0.042 sec/batch]\u001b[0m\n",
      "\u001b[37m\u001b[01m[2021-05-20 01:33:12,660] [Epoch: 99] [Batch: 20 of 157] [Loss = 0.0000] [Accuracy = 100.00] [0.041 sec/batch]\u001b[0m\n",
      "\u001b[37m\u001b[01m[2021-05-20 01:33:13,068] [Epoch: 99] [Batch: 30 of 157] [Loss = 0.0000] [Accuracy = 100.00] [0.039 sec/batch]\u001b[0m\n",
      "\u001b[37m\u001b[01m[2021-05-20 01:33:13,483] [Epoch: 99] [Batch: 40 of 157] [Loss = 0.0000] [Accuracy = 100.00] [0.040 sec/batch]\u001b[0m\n",
      "\u001b[37m\u001b[01m[2021-05-20 01:33:13,899] [Epoch: 99] [Batch: 50 of 157] [Loss = 0.0000] [Accuracy = 100.00] [0.043 sec/batch]\u001b[0m\n",
      "\u001b[37m\u001b[01m[2021-05-20 01:33:14,299] [Epoch: 99] [Batch: 60 of 157] [Loss = 0.0000] [Accuracy = 100.00] [0.039 sec/batch]\u001b[0m\n",
      "\u001b[37m\u001b[01m[2021-05-20 01:33:14,718] [Epoch: 99] [Batch: 70 of 157] [Loss = 0.0000] [Accuracy = 100.00] [0.046 sec/batch]\u001b[0m\n",
      "\u001b[37m\u001b[01m[2021-05-20 01:33:15,143] [Epoch: 99] [Batch: 80 of 157] [Loss = 0.0000] [Accuracy = 100.00] [0.041 sec/batch]\u001b[0m\n",
      "\u001b[37m\u001b[01m[2021-05-20 01:33:15,581] [Epoch: 99] [Batch: 90 of 157] [Loss = 0.0000] [Accuracy = 100.00] [0.042 sec/batch]\u001b[0m\n",
      "\u001b[37m\u001b[01m[2021-05-20 01:33:16,007] [Epoch: 99] [Batch: 100 of 157] [Loss = 0.0000] [Accuracy = 100.00] [0.043 sec/batch]\u001b[0m\n",
      "\u001b[37m\u001b[01m[2021-05-20 01:33:16,412] [Epoch: 99] [Batch: 110 of 157] [Loss = 0.0000] [Accuracy = 100.00] [0.043 sec/batch]\u001b[0m\n",
      "\u001b[37m\u001b[01m[2021-05-20 01:33:16,807] [Epoch: 99] [Batch: 120 of 157] [Loss = 0.0000] [Accuracy = 100.00] [0.039 sec/batch]\u001b[0m\n",
      "\u001b[37m\u001b[01m[2021-05-20 01:33:17,201] [Epoch: 99] [Batch: 130 of 157] [Loss = 0.0000] [Accuracy = 100.00] [0.039 sec/batch]\u001b[0m\n",
      "\u001b[37m\u001b[01m[2021-05-20 01:33:17,596] [Epoch: 99] [Batch: 140 of 157] [Loss = 0.0000] [Accuracy = 100.00] [0.037 sec/batch]\u001b[0m\n",
      "\u001b[37m\u001b[01m[2021-05-20 01:33:18,006] [Epoch: 99] [Batch: 150 of 157] [Loss = 0.0000] [Accuracy = 100.00] [0.042 sec/batch]\u001b[0m\n",
      "\u001b[37m\u001b[01m[2021-05-20 01:33:18,300] [Epoch: 100] [Batch: 0 of 157] [Loss = 0.0000] [Accuracy = 100.00] [0.043 sec/batch]\u001b[0m\n"
     ]
    },
    {
     "name": "stdout",
     "output_type": "stream",
     "text": [
      "Epoch 100\n",
      "-------------------------------\n"
     ]
    },
    {
     "name": "stderr",
     "output_type": "stream",
     "text": [
      "\u001b[37m\u001b[01m[2021-05-20 01:33:18,718] [Epoch: 100] [Batch: 10 of 157] [Loss = 0.0000] [Accuracy = 100.00] [0.038 sec/batch]\u001b[0m\n",
      "\u001b[37m\u001b[01m[2021-05-20 01:33:19,135] [Epoch: 100] [Batch: 20 of 157] [Loss = 0.0000] [Accuracy = 100.00] [0.042 sec/batch]\u001b[0m\n",
      "\u001b[37m\u001b[01m[2021-05-20 01:33:19,548] [Epoch: 100] [Batch: 30 of 157] [Loss = 0.0000] [Accuracy = 100.00] [0.043 sec/batch]\u001b[0m\n",
      "\u001b[37m\u001b[01m[2021-05-20 01:33:19,964] [Epoch: 100] [Batch: 40 of 157] [Loss = 0.0000] [Accuracy = 100.00] [0.044 sec/batch]\u001b[0m\n",
      "\u001b[37m\u001b[01m[2021-05-20 01:33:20,378] [Epoch: 100] [Batch: 50 of 157] [Loss = 0.0000] [Accuracy = 100.00] [0.041 sec/batch]\u001b[0m\n",
      "\u001b[37m\u001b[01m[2021-05-20 01:33:20,788] [Epoch: 100] [Batch: 60 of 157] [Loss = 0.0000] [Accuracy = 100.00] [0.040 sec/batch]\u001b[0m\n",
      "\u001b[37m\u001b[01m[2021-05-20 01:33:21,191] [Epoch: 100] [Batch: 70 of 157] [Loss = 0.0000] [Accuracy = 100.00] [0.038 sec/batch]\u001b[0m\n",
      "\u001b[37m\u001b[01m[2021-05-20 01:33:21,610] [Epoch: 100] [Batch: 80 of 157] [Loss = 0.0000] [Accuracy = 100.00] [0.041 sec/batch]\u001b[0m\n",
      "\u001b[37m\u001b[01m[2021-05-20 01:33:22,020] [Epoch: 100] [Batch: 90 of 157] [Loss = 0.0000] [Accuracy = 100.00] [0.040 sec/batch]\u001b[0m\n",
      "\u001b[37m\u001b[01m[2021-05-20 01:33:22,439] [Epoch: 100] [Batch: 100 of 157] [Loss = 0.0000] [Accuracy = 100.00] [0.041 sec/batch]\u001b[0m\n",
      "\u001b[37m\u001b[01m[2021-05-20 01:33:22,844] [Epoch: 100] [Batch: 110 of 157] [Loss = 0.0000] [Accuracy = 100.00] [0.040 sec/batch]\u001b[0m\n",
      "\u001b[37m\u001b[01m[2021-05-20 01:33:23,245] [Epoch: 100] [Batch: 120 of 157] [Loss = 0.0000] [Accuracy = 100.00] [0.035 sec/batch]\u001b[0m\n",
      "\u001b[37m\u001b[01m[2021-05-20 01:33:23,668] [Epoch: 100] [Batch: 130 of 157] [Loss = 0.0000] [Accuracy = 100.00] [0.043 sec/batch]\u001b[0m\n",
      "\u001b[37m\u001b[01m[2021-05-20 01:33:24,073] [Epoch: 100] [Batch: 140 of 157] [Loss = 0.0000] [Accuracy = 100.00] [0.040 sec/batch]\u001b[0m\n",
      "\u001b[37m\u001b[01m[2021-05-20 01:33:24,490] [Epoch: 100] [Batch: 150 of 157] [Loss = 0.0000] [Accuracy = 100.00] [0.043 sec/batch]\u001b[0m\n",
      "\u001b[37m\u001b[01m[2021-05-20 01:33:24,729] Evaluating on test set...\u001b[0m\n",
      "\u001b[37m\u001b[01m[2021-05-20 01:33:24,748] [Batch: 0 of 63]\u001b[0m\n",
      "\u001b[37m\u001b[01m[2021-05-20 01:33:24,769] [Batch: 1 of 63]\u001b[0m\n",
      "\u001b[37m\u001b[01m[2021-05-20 01:33:24,786] [Batch: 2 of 63]\u001b[0m\n",
      "\u001b[37m\u001b[01m[2021-05-20 01:33:24,803] [Batch: 3 of 63]\u001b[0m\n",
      "\u001b[37m\u001b[01m[2021-05-20 01:33:24,820] [Batch: 4 of 63]\u001b[0m\n",
      "\u001b[37m\u001b[01m[2021-05-20 01:33:24,837] [Batch: 5 of 63]\u001b[0m\n",
      "\u001b[37m\u001b[01m[2021-05-20 01:33:24,854] [Batch: 6 of 63]\u001b[0m\n",
      "\u001b[37m\u001b[01m[2021-05-20 01:33:24,871] [Batch: 7 of 63]\u001b[0m\n",
      "\u001b[37m\u001b[01m[2021-05-20 01:33:24,888] [Batch: 8 of 63]\u001b[0m\n",
      "\u001b[37m\u001b[01m[2021-05-20 01:33:24,905] [Batch: 9 of 63]\u001b[0m\n",
      "\u001b[37m\u001b[01m[2021-05-20 01:33:24,923] [Batch: 10 of 63]\u001b[0m\n",
      "\u001b[37m\u001b[01m[2021-05-20 01:33:24,940] [Batch: 11 of 63]\u001b[0m\n",
      "\u001b[37m\u001b[01m[2021-05-20 01:33:24,957] [Batch: 12 of 63]\u001b[0m\n",
      "\u001b[37m\u001b[01m[2021-05-20 01:33:24,974] [Batch: 13 of 63]\u001b[0m\n",
      "\u001b[37m\u001b[01m[2021-05-20 01:33:24,991] [Batch: 14 of 63]\u001b[0m\n",
      "\u001b[37m\u001b[01m[2021-05-20 01:33:25,009] [Batch: 15 of 63]\u001b[0m\n",
      "\u001b[37m\u001b[01m[2021-05-20 01:33:25,026] [Batch: 16 of 63]\u001b[0m\n",
      "\u001b[37m\u001b[01m[2021-05-20 01:33:25,043] [Batch: 17 of 63]\u001b[0m\n",
      "\u001b[37m\u001b[01m[2021-05-20 01:33:25,060] [Batch: 18 of 63]\u001b[0m\n",
      "\u001b[37m\u001b[01m[2021-05-20 01:33:25,078] [Batch: 19 of 63]\u001b[0m\n",
      "\u001b[37m\u001b[01m[2021-05-20 01:33:25,095] [Batch: 20 of 63]\u001b[0m\n",
      "\u001b[37m\u001b[01m[2021-05-20 01:33:25,112] [Batch: 21 of 63]\u001b[0m\n",
      "\u001b[37m\u001b[01m[2021-05-20 01:33:25,129] [Batch: 22 of 63]\u001b[0m\n",
      "\u001b[37m\u001b[01m[2021-05-20 01:33:25,146] [Batch: 23 of 63]\u001b[0m\n",
      "\u001b[37m\u001b[01m[2021-05-20 01:33:25,163] [Batch: 24 of 63]\u001b[0m\n",
      "\u001b[37m\u001b[01m[2021-05-20 01:33:25,181] [Batch: 25 of 63]\u001b[0m\n",
      "\u001b[37m\u001b[01m[2021-05-20 01:33:25,198] [Batch: 26 of 63]\u001b[0m\n",
      "\u001b[37m\u001b[01m[2021-05-20 01:33:25,215] [Batch: 27 of 63]\u001b[0m\n",
      "\u001b[37m\u001b[01m[2021-05-20 01:33:25,232] [Batch: 28 of 63]\u001b[0m\n",
      "\u001b[37m\u001b[01m[2021-05-20 01:33:25,249] [Batch: 29 of 63]\u001b[0m\n",
      "\u001b[37m\u001b[01m[2021-05-20 01:33:25,267] [Batch: 30 of 63]\u001b[0m\n",
      "\u001b[37m\u001b[01m[2021-05-20 01:33:25,284] [Batch: 31 of 63]\u001b[0m\n",
      "\u001b[37m\u001b[01m[2021-05-20 01:33:25,301] [Batch: 32 of 63]\u001b[0m\n",
      "\u001b[37m\u001b[01m[2021-05-20 01:33:25,318] [Batch: 33 of 63]\u001b[0m\n",
      "\u001b[37m\u001b[01m[2021-05-20 01:33:25,336] [Batch: 34 of 63]\u001b[0m\n",
      "\u001b[37m\u001b[01m[2021-05-20 01:33:25,354] [Batch: 35 of 63]\u001b[0m\n",
      "\u001b[37m\u001b[01m[2021-05-20 01:33:25,372] [Batch: 36 of 63]\u001b[0m\n",
      "\u001b[37m\u001b[01m[2021-05-20 01:33:25,389] [Batch: 37 of 63]\u001b[0m\n",
      "\u001b[37m\u001b[01m[2021-05-20 01:33:25,406] [Batch: 38 of 63]\u001b[0m\n",
      "\u001b[37m\u001b[01m[2021-05-20 01:33:25,423] [Batch: 39 of 63]\u001b[0m\n",
      "\u001b[37m\u001b[01m[2021-05-20 01:33:25,440] [Batch: 40 of 63]\u001b[0m\n",
      "\u001b[37m\u001b[01m[2021-05-20 01:33:25,458] [Batch: 41 of 63]\u001b[0m\n",
      "\u001b[37m\u001b[01m[2021-05-20 01:33:25,475] [Batch: 42 of 63]\u001b[0m\n",
      "\u001b[37m\u001b[01m[2021-05-20 01:33:25,492] [Batch: 43 of 63]\u001b[0m\n",
      "\u001b[37m\u001b[01m[2021-05-20 01:33:25,509] [Batch: 44 of 63]\u001b[0m\n",
      "\u001b[37m\u001b[01m[2021-05-20 01:33:25,526] [Batch: 45 of 63]\u001b[0m\n",
      "\u001b[37m\u001b[01m[2021-05-20 01:33:25,543] [Batch: 46 of 63]\u001b[0m\n",
      "\u001b[37m\u001b[01m[2021-05-20 01:33:25,561] [Batch: 47 of 63]\u001b[0m\n",
      "\u001b[37m\u001b[01m[2021-05-20 01:33:25,581] [Batch: 48 of 63]\u001b[0m\n",
      "\u001b[37m\u001b[01m[2021-05-20 01:33:25,599] [Batch: 49 of 63]\u001b[0m\n",
      "\u001b[37m\u001b[01m[2021-05-20 01:33:25,616] [Batch: 50 of 63]\u001b[0m\n",
      "\u001b[37m\u001b[01m[2021-05-20 01:33:25,633] [Batch: 51 of 63]\u001b[0m\n",
      "\u001b[37m\u001b[01m[2021-05-20 01:33:25,650] [Batch: 52 of 63]\u001b[0m\n",
      "\u001b[37m\u001b[01m[2021-05-20 01:33:25,667] [Batch: 53 of 63]\u001b[0m\n",
      "\u001b[37m\u001b[01m[2021-05-20 01:33:25,684] [Batch: 54 of 63]\u001b[0m\n",
      "\u001b[37m\u001b[01m[2021-05-20 01:33:25,702] [Batch: 55 of 63]\u001b[0m\n",
      "\u001b[37m\u001b[01m[2021-05-20 01:33:25,722] [Batch: 56 of 63]\u001b[0m\n",
      "\u001b[37m\u001b[01m[2021-05-20 01:33:25,739] [Batch: 57 of 63]\u001b[0m\n",
      "\u001b[37m\u001b[01m[2021-05-20 01:33:25,756] [Batch: 58 of 63]\u001b[0m\n",
      "\u001b[37m\u001b[01m[2021-05-20 01:33:25,773] [Batch: 59 of 63]\u001b[0m\n",
      "\u001b[37m\u001b[01m[2021-05-20 01:33:25,791] [Batch: 60 of 63]\u001b[0m\n",
      "\u001b[37m\u001b[01m[2021-05-20 01:33:25,808] [Batch: 61 of 63]\u001b[0m\n",
      "\u001b[37m\u001b[01m[2021-05-20 01:33:25,824] [Batch: 62 of 63]\u001b[0m\n",
      "\u001b[37m\u001b[01m[2021-05-20 01:33:25,825] [Summary] [Loss = 6.9643] [Accuracy = 15.97]\u001b[0m\n"
     ]
    },
    {
     "name": "stdout",
     "output_type": "stream",
     "text": [
      "Done!\n"
     ]
    }
   ],
   "source": [
    "learning_rate = 5e-4\n",
    "batch_size = 32\n",
    "epochs = 100\n",
    "device = torch.device(\"cuda:\" + str(0))\n",
    "model = Model().to(device)\n",
    "# Initialize the loss function\n",
    "#loss_fn = nn.CrossEntropyLoss()\n",
    "optimizer = torch.optim.Adam(model.parameters(), lr=learning_rate)\n",
    "for t in range(epochs):\n",
    "    print(f\"Epoch {t+1}\\n-------------------------------\")\n",
    "    train_loop(device, t+1, train_dataloader, model, optimizer)\n",
    "test_loop(device,t, test_dataloader, model)\n",
    "print(\"Done!\")"
   ]
  },
  {
   "cell_type": "code",
   "execution_count": null,
   "id": "e80d9103-7320-4d14-83d5-8e6e239bc958",
   "metadata": {},
   "outputs": [],
   "source": []
  }
 ],
 "metadata": {
  "kernelspec": {
   "display_name": "Python 3 (λ)",
   "language": "python",
   "name": "lambda-stack"
  },
  "language_info": {
   "codemirror_mode": {
    "name": "ipython",
    "version": 3
   },
   "file_extension": ".py",
   "mimetype": "text/x-python",
   "name": "python",
   "nbconvert_exporter": "python",
   "pygments_lexer": "ipython3",
   "version": "3.8.5"
  }
 },
 "nbformat": 4,
 "nbformat_minor": 5
}
